{
 "cells": [
  {
   "cell_type": "code",
   "execution_count": null,
   "id": "736a131b",
   "metadata": {},
   "outputs": [],
   "source": [
    "import aiida\n",
    "\n",
    "# must execute it in the first place\n",
    "aiida.load_profile()"
   ]
  },
  {
   "cell_type": "code",
   "execution_count": null,
   "id": "976280a7",
   "metadata": {},
   "outputs": [],
   "source": [
    "from aiida.orm import Code\n",
    "from aiida.orm import Str, Int, Dict, List\n",
    "from aiida.engine import calcfunction, WorkChain, ToContext, append_\n",
    "from aiida.plugins import DataFactory, WorkflowFactory\n",
    "from itertools import cycle\n",
    "import os\n",
    "\n",
    "from aiida.engine import calcfunction, workfunction, submit, run\n",
    "from aiida.orm import load_code,load_node\n",
    "from tools import wait_for_node_finished\n",
    "\n",
    "# load types\n",
    "StructureData = DataFactory('structure')\n",
    "FolderData = DataFactory('folder')\n",
    "SinglefileData = DataFactory('singlefile')\n",
    "ArrayData = DataFactory('array')\n",
    "List = DataFactory('list')\n"
   ]
  },
  {
   "cell_type": "code",
   "execution_count": null,
   "id": "14f3b46b",
   "metadata": {},
   "outputs": [],
   "source": [
    "# codeの定義を行う。\n",
    "from tools.aiida_support import get_or_create_local_computer, get_or_create_code\n",
    "from os.path import expanduser\n",
    "import os\n",
    "home = expanduser(\"~\")\n",
    "work_directory = os.path.join(home,'aiida')\n",
    "computer_local = get_or_create_local_computer(work_directory, 'localhost')\n",
    "code = get_or_create_code('alamode.alm_opt', \n",
    "                          computer_local, \n",
    "                          '/home/max/Documents/alamode/bin/alm')\n",
    "code_alm_opt = code\n",
    "code = get_or_create_code('alamode.anphon', \n",
    "                          computer_local, \n",
    "                          '/home/max/Documents/alamode/bin/anphon')\n",
    "code_anphon = code\n",
    "code = get_or_create_code('alamode.analyze_phonons', \n",
    "                          computer_local, \n",
    "                          '/home/max/Documents/alamode/bin/analyze_phonons')\n",
    "code_analyze_phonons = code\n",
    "code_alm_opt, code_anphon, code_analyze_phonons"
   ]
  },
  {
   "cell_type": "code",
   "execution_count": null,
   "id": "38870d0e",
   "metadata": {},
   "outputs": [],
   "source": [
    "import json\n",
    "with open(\"setting.json\") as f:\n",
    "    _dic = json.load(f)\n",
    "print(_dic)\n",
    "CWD = _dic[\"CWD\"]\n",
    "_path = os.path.abspath(CWD)\n",
    "os.makedirs(_path, exist_ok=True)\n",
    "_path"
   ]
  },
  {
   "cell_type": "code",
   "execution_count": null,
   "id": "69ca0d11",
   "metadata": {},
   "outputs": [],
   "source": [
    "from os.path import expanduser\n",
    "from tools import NodeBank\n",
    "\n",
    "\n",
    "# 再実行時に作成したノードを用いるためにnodebankを使う。\n",
    "g_force = False\n",
    "nodebank = NodeBank(_path, force=g_force)"
   ]
  },
  {
   "cell_type": "code",
   "execution_count": null,
   "id": "4c40b16d",
   "metadata": {},
   "outputs": [],
   "source": [
    "g_cwd = nodebank.load(\"cubic_cwd\") # 保存directory\n",
    "# g_dispfile_folder = nodebank.load(\"cubic_dispfile_folder\")\n",
    "# g_displace_result = nodebank.load(\"cubic_displace_result\")\n",
    "g_superstructure = nodebank.load(\"superstructure\") # 長周期構造\n",
    "\n",
    "g_lammps_all_output = nodebank.load('cubic_all_dfset')\n",
    "g_cwd, g_lammps_all_output"
   ]
  },
  {
   "cell_type": "markdown",
   "id": "57eeed1b",
   "metadata": {},
   "source": [
    "# extract"
   ]
  },
  {
   "cell_type": "code",
   "execution_count": null,
   "id": "700a2436",
   "metadata": {},
   "outputs": [],
   "source": [
    "extractworkchain = WorkflowFactory(\"alamode.extract\")\n",
    "\n",
    "g_format =   nodebank.load(\"format\")\n",
    "g_superstructure_filepath = nodebank.load(\"superstructure_filepath\")\n",
    "g_target_file = g_lammps_all_output\n",
    "g_norder = nodebank.load(\"cubic_norder\")\n",
    "g_prefix = nodebank.load('cubic_prefix')\n",
    "g_format, g_norder, g_prefix, g_target_file"
   ]
  },
  {
   "cell_type": "code",
   "execution_count": null,
   "id": "9087c184",
   "metadata": {},
   "outputs": [],
   "source": [
    "inputs= {'format': g_format,\n",
    "         'structure_org': g_superstructure_filepath, \n",
    "         'target_file': g_target_file,\n",
    "         'cwd': g_cwd,\n",
    "         \"prefix\": g_prefix\n",
    "        }\n",
    "print(inputs)"
   ]
  },
  {
   "cell_type": "code",
   "execution_count": null,
   "id": "e715f9b8",
   "metadata": {},
   "outputs": [],
   "source": [
    "g_alamodeextract_future = submit(extractworkchain, **inputs)\n",
    "print(g_alamodeextract_future)\n",
    "wait_for_node_finished(g_alamodeextract_future)\n",
    "print(g_alamodeextract_future.is_finished_ok)"
   ]
  },
  {
   "cell_type": "markdown",
   "id": "4b0287d9",
   "metadata": {},
   "source": [
    "# alm opt "
   ]
  },
  {
   "cell_type": "code",
   "execution_count": null,
   "id": "29d540e8",
   "metadata": {},
   "outputs": [],
   "source": [
    "g_norder"
   ]
  },
  {
   "cell_type": "code",
   "execution_count": null,
   "id": "4b48ca51",
   "metadata": {},
   "outputs": [],
   "source": [
    "g_diag = nodebank.load(\"diag\")\n",
    "g_diag.get_array('diag')"
   ]
  },
  {
   "cell_type": "code",
   "execution_count": null,
   "id": "af40ea7a",
   "metadata": {},
   "outputs": [],
   "source": [
    "g_primstructure = nodebank.load(\"primstructure\")\n",
    "g_primstructure"
   ]
  },
  {
   "cell_type": "code",
   "execution_count": null,
   "id": "56f736b2",
   "metadata": {},
   "outputs": [],
   "source": [
    "g_DFSET_file = g_alamodeextract_future.outputs.dfset_file\n",
    "\n",
    "g_almprefix = \"_\".join([g_primstructure.get_formula(),\"x\".join(map(str,g_diag.get_array(\"diag\"))), \"cubic\"])\n",
    "g_almprefix = Str(g_almprefix)\n",
    "\n",
    "g_wd = nodebank.load_or_dump(\"cubic_almprefix\",g_almprefix) # subdirectory名\n",
    "g_DFSET_file, g_almprefix, g_wd"
   ]
  },
  {
   "cell_type": "code",
   "execution_count": null,
   "id": "6674d539",
   "metadata": {},
   "outputs": [],
   "source": [
    "g_fc2xml_file = nodebank.load(\"anphonfile_xml\") # harmonic force constant\n",
    "print(g_fc2xml_file.filename)"
   ]
  },
  {
   "cell_type": "code",
   "execution_count": null,
   "id": "47293f5a",
   "metadata": {},
   "outputs": [],
   "source": [
    "#codename = \"alm_opt@tutor\"\n",
    "#code = Code.get_from_string(codename)\n",
    "code = code_alm_opt\n",
    "\n",
    "builder = code.get_builder()\n",
    "builder.structure = g_superstructure\n",
    "builder.prefix = g_wd # prefix\n",
    "builder.cwd = g_cwd # 保存directory\n",
    "builder.norder = g_norder\n",
    "builder.dfset_file = g_DFSET_file # displacementとforce\n",
    "builder.fc2xml_file =  g_fc2xml_file # harmonic term\n",
    "\n",
    "g_almopt2future = submit(builder)\n",
    "\n",
    "print(g_almopt2future)\n",
    "wait_for_node_finished(g_almopt2future, 5)\n"
   ]
  },
  {
   "cell_type": "code",
   "execution_count": null,
   "id": "c592d96a",
   "metadata": {},
   "outputs": [],
   "source": [
    "g_almopt2future.outputs.result.attributes"
   ]
  },
  {
   "cell_type": "markdown",
   "id": "2a213711",
   "metadata": {},
   "source": [
    "## thermal conductivity\n"
   ]
  },
  {
   "cell_type": "code",
   "execution_count": null,
   "id": "5e545848",
   "metadata": {},
   "outputs": [],
   "source": [
    "g_primstructure = nodebank.load(\"primstructure\")\n",
    "g_diag = nodebank.load(\"diag\")\n",
    "g_qmesh = List(list=[5,5,5])\n",
    "\n",
    "g_almprefix = \"_\".join([g_primstructure.get_formula(),\n",
    "                        \"x\".join(map(str,g_diag.get_array(\"diag\"))),\n",
    "                        \"harmonic\",\n",
    "                       \"q\"+\"x\".join(map(str,g_qmesh.get_list()))\n",
    "                       ])\n",
    "print(g_almprefix)\n",
    "\n",
    "g_wd_dos = Str(g_almprefix)\n",
    "g_wd_dos, g_cwd"
   ]
  },
  {
   "cell_type": "code",
   "execution_count": null,
   "id": "31bc91e5",
   "metadata": {},
   "outputs": [],
   "source": [
    "#codename = \"anphon@tutor\"\n",
    "#code = Code.get_from_string(codename)\n",
    "code = code_anphon\n",
    "\n",
    "builder = code.get_builder()\n",
    "builder.structure = g_primstructure\n",
    "builder.prefix = g_wd\n",
    "builder.cwd = g_cwd\n",
    "builder.norder = g_norder\n",
    "builder.fcsxml = g_almopt2future.outputs.input_ANPHON_file\n",
    "builder.mode = Str(\"RTA\")\n",
    "#builder.kparam = Dict(dict={\"kspacing\": 0.1})\n",
    "builder.qmesh = g_qmesh\n",
    "\n",
    "key = \"RTA\"\n",
    "g_RTAfuture = nodebank.load(key,g_force)\n",
    "#if g_RTAfuture is None:   \n",
    "if True:\n",
    "    g_RTAfuture = submit(builder)\n",
    "    print(g_RTAfuture)\n",
    "    wait_for_node_finished(g_RTAfuture, 5)\n",
    "    if g_RTAfuture.is_finished_ok:\n",
    "         nodebank.dump(key,g_RTAfuture)"
   ]
  },
  {
   "cell_type": "code",
   "execution_count": null,
   "id": "8033f724",
   "metadata": {},
   "outputs": [],
   "source": [
    "import pandas as pd\n",
    "import re\n",
    "import numpy as np"
   ]
  },
  {
   "cell_type": "code",
   "execution_count": null,
   "id": "264299d3",
   "metadata": {},
   "outputs": [],
   "source": [
    "from alamode_aiida.data_loader import load_anphon_kl, load_anphon_kl_spec"
   ]
  },
  {
   "cell_type": "code",
   "execution_count": null,
   "id": "cd90ebe8",
   "metadata": {},
   "outputs": [],
   "source": [
    "g_RTAfuture.outputs.kl_file"
   ]
  },
  {
   "cell_type": "code",
   "execution_count": null,
   "id": "1122895f",
   "metadata": {},
   "outputs": [],
   "source": [
    "g_df = load_anphon_kl(g_RTAfuture.outputs.kl_file)\n",
    "g_df.plot(x=\"Temperature [K]\", y=\"Thermal Conductivity_xx [W/mK]\")\n",
    "import matplotlib.pyplot as plt\n",
    "plt.xscale(\"log\")"
   ]
  },
  {
   "cell_type": "code",
   "execution_count": null,
   "id": "26e7a5c4",
   "metadata": {},
   "outputs": [],
   "source": [
    "g_RTAfuture.outputs.result_file"
   ]
  },
  {
   "cell_type": "code",
   "execution_count": null,
   "id": "fb1a530b",
   "metadata": {},
   "outputs": [],
   "source": [
    "class analzePhononOptions:\n",
    "    def __init__(self, **kwargs):\n",
    "        self.options= {'temp': None, 'mode': None, 'kpoint': None, \n",
    "'calc': 'kappa_boundary', 'isotope': None, 'average_gamma': True, \n",
    "'size': '1e+6', 'length': None, 'direction': None}\n",
    "\n",
    "a = analzePhononOptions()\n",
    "print(a.options)"
   ]
  },
  {
   "cell_type": "code",
   "execution_count": null,
   "id": "11379084",
   "metadata": {},
   "outputs": [],
   "source": [
    "#codename = \"analyze_phonon@tutor\"\n",
    "#code = Code.get_from_string(codename)\n",
    "code = code_analyze_phonons\n",
    "\n",
    "builder = code.get_builder()\n",
    "builder.cwd = g_cwd\n",
    "#builder.norder = g_norder\n",
    "builder.prefix = g_wd\n",
    "builder.calc = Str(\"kappa_boundary\")\n",
    "# builder.size = Float(1.0e+6)\n",
    "builder.file_result = g_RTAfuture.outputs.result_file\n",
    "builder.param = Dict(dict={\"size\": 1e+6})\n",
    "\n",
    "key = \"ap_kappa\"\n",
    "g_ap_kappa_future = nodebank.load(key)\n",
    "if g_ap_kappa_future is None:   \n",
    "    g_ap_kappa_future = submit(builder)\n",
    "    print(g_ap_kappa_future)\n",
    "    wait_for_node_finished(g_ap_kappa_future, 5)\n",
    "    if g_ap_kappa_future.is_finished_ok:\n",
    "         nodebank.dump(key,g_ap_kappa_future)"
   ]
  },
  {
   "cell_type": "code",
   "execution_count": null,
   "id": "5066b33e",
   "metadata": {},
   "outputs": [],
   "source": [
    "code = code_analyze_phonons\n",
    "\n",
    "builder = code.get_builder()\n",
    "builder.cwd = g_cwd\n",
    "builder.prefix = g_wd\n",
    "builder.calc = Str(\"tau\")\n",
    "# builder.size = Float(1.0e+6)\n",
    "builder.file_result = g_RTAfuture.outputs.result_file\n",
    "builder.param = Dict(dict={\"temp\": 300.0})\n",
    "\n",
    "key = \"ap_tau\"\n",
    "g_ap_tau_future = nodebank.load(key)\n",
    "if g_ap_tau_future is None:   \n",
    "    g_ap_tau_future = submit(builder)\n",
    "    print(g_ap_tau_future)\n",
    "    wait_for_node_finished(g_ap_tau_future, 5)\n",
    "    if g_ap_tau_future.is_finished_ok:\n",
    "         nodebank.dump(key,g_ap_tau_future)"
   ]
  },
  {
   "cell_type": "code",
   "execution_count": null,
   "id": "d913b47b",
   "metadata": {},
   "outputs": [],
   "source": [
    "code = code_analyze_phonons\n",
    "\n",
    "builder = code.get_builder()\n",
    "builder.cwd = g_cwd\n",
    "builder.prefix = g_wd\n",
    "builder.calc = Str(\"cumulative\")\n",
    "# builder.size = Float(1.0e+6)\n",
    "builder.file_result = g_RTAfuture.outputs.result_file\n",
    "builder.param = Dict(dict={\"temp\": 300.0, \"length\": \"10000:5\"})\n",
    "\n",
    "\n",
    "key = \"ap_cum\"\n",
    "g_ap_cum_future = nodebank.load(key)\n",
    "if g_ap_cum_future is None:   \n",
    "#if True:\n",
    "    g_ap_cum_future = submit(builder)\n",
    "    print(g_ap_cum_future)\n",
    "    wait_for_node_finished(g_ap_cum_future, 5)\n",
    "    if g_ap_cum_future.is_finished_ok:\n",
    "         nodebank.dump(key,g_ap_cum_future)"
   ]
  },
  {
   "cell_type": "code",
   "execution_count": null,
   "id": "d580d098",
   "metadata": {},
   "outputs": [],
   "source": [
    "values = g_ap_cum_future.outputs.cumulative.get_array(\"values\")\n",
    "values"
   ]
  },
  {
   "cell_type": "code",
   "execution_count": null,
   "id": "0e835919",
   "metadata": {},
   "outputs": [],
   "source": [
    "values = g_ap_cum_future.outputs.cumulative.get_array(\"values\").astype(float)\n",
    "splitted_header = g_ap_cum_future.outputs.cumulative.get_array(\"columns\")\n",
    "df = pd.DataFrame(values, columns=splitted_header)\n",
    "df"
   ]
  },
  {
   "cell_type": "code",
   "execution_count": null,
   "id": "8073aed1",
   "metadata": {},
   "outputs": [],
   "source": [
    "df.plot(x= \"L [nm]\", y='kappa xx [W/mK]')"
   ]
  },
  {
   "cell_type": "markdown",
   "id": "27c07c4d",
   "metadata": {},
   "source": [
    "## anphon spectra"
   ]
  },
  {
   "cell_type": "code",
   "execution_count": null,
   "id": "cae20457",
   "metadata": {},
   "outputs": [],
   "source": [
    "#codename = \"anphon@tutor\"\n",
    "#code = Code.get_from_string(codename)\n",
    "code = code_anphon\n",
    "\n",
    "builder = code.get_builder()\n",
    "builder.structure = g_primstructure\n",
    "builder.prefix = g_wd\n",
    "builder.cwd = g_cwd\n",
    "builder.norder = g_norder\n",
    "builder.fcsxml = g_almopt2future.outputs.input_ANPHON_file\n",
    "builder.mode = Str(\"RTA\")\n",
    "builder.kappa_spec = Int(1) # spectra\n",
    "builder.qmesh = g_qmesh\n",
    "eparam = {\"EMIN\":0, \"EMAX\":550, \"DELTA_E\": 10.0}\n",
    "builder.param= Dict(dict={\"general\": eparam})\n",
    "\n",
    "key = \"RTAspec\"\n",
    "g_RTAspecfuture = nodebank.load(key,g_force)\n",
    "#if g_RTAspecfuture is None:  \n",
    "if True:   \n",
    "    g_RTAspecfuture = submit(builder)\n",
    "    print(g_RTAspecfuture)\n",
    "    wait_for_node_finished(g_RTAspecfuture, 5)\n",
    "    if g_RTAspecfuture.is_finished_ok:\n",
    "         nodebank.dump(key,g_RTAspecfuture)\n"
   ]
  },
  {
   "cell_type": "code",
   "execution_count": null,
   "id": "b057d841",
   "metadata": {},
   "outputs": [],
   "source": [
    "g_df = load_anphon_kl_spec(g_RTAspecfuture.outputs.kl_spec_file)"
   ]
  },
  {
   "cell_type": "code",
   "execution_count": null,
   "id": "108219f5",
   "metadata": {},
   "outputs": [],
   "source": [
    "print(np.unique(g_df[\"Temperature [K]\"].values))\n",
    "g_df_select = g_df[g_df[\"Temperature [K]\"]==300]"
   ]
  },
  {
   "cell_type": "code",
   "execution_count": null,
   "id": "7fe5f757",
   "metadata": {},
   "outputs": [],
   "source": [
    "g_df_select.plot(x=g_df.columns[1], y=g_df.columns[2])"
   ]
  },
  {
   "cell_type": "code",
   "execution_count": null,
   "id": "1aaa75b3",
   "metadata": {},
   "outputs": [],
   "source": []
  }
 ],
 "metadata": {
  "kernelspec": {
   "display_name": "py39",
   "language": "python",
   "name": "py39"
  },
  "language_info": {
   "codemirror_mode": {
    "name": "ipython",
    "version": 3
   },
   "file_extension": ".py",
   "mimetype": "text/x-python",
   "name": "python",
   "nbconvert_exporter": "python",
   "pygments_lexer": "ipython3",
   "version": "3.9.13"
  }
 },
 "nbformat": 4,
 "nbformat_minor": 5
}
