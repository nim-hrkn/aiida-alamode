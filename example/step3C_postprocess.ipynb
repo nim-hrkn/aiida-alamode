{
 "cells": [
  {
   "cell_type": "code",
   "execution_count": null,
   "id": "736a131b",
   "metadata": {},
   "outputs": [],
   "source": [
    "import aiida\n",
    "\n",
    "# must execute it in the first place\n",
    "aiida.load_profile()"
   ]
  },
  {
   "cell_type": "code",
   "execution_count": null,
   "id": "976280a7",
   "metadata": {},
   "outputs": [],
   "source": [
    "from aiida.orm import Code\n",
    "from aiida.orm import Str, Int, Dict, List\n",
    "from aiida.engine import calcfunction, WorkChain, ToContext, append_\n",
    "from aiida.plugins import DataFactory, WorkflowFactory\n",
    "from itertools import cycle\n",
    "import os\n",
    "\n",
    "from aiida.engine import calcfunction, workfunction, submit, run\n",
    "from aiida.orm import load_code,load_node\n",
    "from tools.aiida_support import wait_for_node_finished\n",
    "\n",
    "# load types\n",
    "StructureData = DataFactory('structure')\n",
    "FolderData = DataFactory('folder')\n",
    "SinglefileData = DataFactory('singlefile')\n",
    "ArrayData = DataFactory('array')\n",
    "List = DataFactory('list')\n"
   ]
  },
  {
   "cell_type": "code",
   "execution_count": null,
   "id": "14f3b46b",
   "metadata": {},
   "outputs": [],
   "source": [
    "# codeの定義を行う。\n",
    "from tools.aiida_support import get_or_create_local_computer, get_or_create_code\n",
    "from os.path import expanduser\n",
    "import os\n",
    "home = expanduser(\"~\")\n",
    "work_directory = os.path.join(home,'aiida')\n",
    "computer_local = get_or_create_local_computer(work_directory, 'localhost')\n",
    "code = get_or_create_code('alamode.alm_opt', \n",
    "                          computer_local, \n",
    "                          '/home/max/Documents/alamode/bin/alm')\n",
    "code_alm_opt = code\n",
    "code = get_or_create_code('alamode.anphon', \n",
    "                          computer_local, \n",
    "                          '/home/max/Documents/alamode/bin/anphon')\n",
    "code_anphon = code\n",
    "code = get_or_create_code('alamode.analyze_phonons', \n",
    "                          computer_local, \n",
    "                          '/home/max/Documents/alamode/bin/analyze_phonons')\n",
    "code_analyze_phonons = code\n",
    "code_alm_opt, code_anphon, code_analyze_phonons"
   ]
  },
  {
   "cell_type": "code",
   "execution_count": null,
   "id": "38870d0e",
   "metadata": {},
   "outputs": [],
   "source": [
    "import json\n",
    "with open(\"setting.json\") as f:\n",
    "    _dic = json.load(f)\n",
    "print(_dic)\n",
    "CWD = _dic[\"CWD\"]\n",
    "_path = os.path.abspath(CWD)\n",
    "os.makedirs(_path, exist_ok=True)\n",
    "_path"
   ]
  },
  {
   "cell_type": "code",
   "execution_count": null,
   "id": "69ca0d11",
   "metadata": {},
   "outputs": [],
   "source": [
    "from os.path import expanduser\n",
    "from tools import NodeBank\n",
    "\n",
    "\n",
    "# 再実行時に作成したノードを用いるためにnodebankを使う。\n",
    "g_force = False\n",
    "nodebank = NodeBank(_path, force=g_force)"
   ]
  },
  {
   "cell_type": "code",
   "execution_count": null,
   "id": "94f7312c",
   "metadata": {},
   "outputs": [],
   "source": [
    "g_prefix = nodebank.load('cubic_prefix')\n",
    "\n",
    "g_norder = nodebank.load(f\"{g_prefix.value}_norder\")\n",
    "g_norder, g_prefix"
   ]
  },
  {
   "cell_type": "code",
   "execution_count": null,
   "id": "4c40b16d",
   "metadata": {},
   "outputs": [],
   "source": [
    "g_cwd = nodebank.load(f\"{g_prefix.value}_cwd\") # 保存directory\n",
    "# g_dispfile_folder = nodebank.load(\"cubic_dispfile_folder\")\n",
    "# g_displace_result = nodebank.load(\"cubic_displace_result\")\n",
    "g_superstructure = nodebank.load(\"superstructure\") # 長周期構造\n",
    "\n",
    "g_cwd"
   ]
  },
  {
   "cell_type": "code",
   "execution_count": null,
   "id": "08b97abf",
   "metadata": {},
   "outputs": [],
   "source": [
    "node = nodebank.load(f'{g_prefix.value}_extract')\n",
    "g_DFSET = node.outputs.dfset\n",
    "g_DFSET.attributes"
   ]
  },
  {
   "cell_type": "markdown",
   "id": "4b0287d9",
   "metadata": {},
   "source": [
    "# alm opt "
   ]
  },
  {
   "cell_type": "code",
   "execution_count": null,
   "id": "29d540e8",
   "metadata": {},
   "outputs": [],
   "source": [
    "g_norder"
   ]
  },
  {
   "cell_type": "code",
   "execution_count": null,
   "id": "4b48ca51",
   "metadata": {},
   "outputs": [],
   "source": [
    "g_diag = nodebank.load(\"factor\")\n",
    "g_diag.get_array('factor')"
   ]
  },
  {
   "cell_type": "code",
   "execution_count": null,
   "id": "af40ea7a",
   "metadata": {},
   "outputs": [],
   "source": [
    "g_primstructure = nodebank.load(\"primstructure\")\n",
    "g_primstructure"
   ]
  },
  {
   "cell_type": "code",
   "execution_count": null,
   "id": "56f736b2",
   "metadata": {},
   "outputs": [],
   "source": [
    "\n",
    "g_almprefix = \"_\".join([g_primstructure.get_formula(),\"x\".join(map(str,g_diag.get_array(\"factor\").reshape(-1))), \"cubic\"])\n",
    "g_almprefix = Str(g_almprefix)\n",
    "\n",
    "g_wd = nodebank.load_or_dump(\"cubic_almprefix\",g_almprefix) # subdirectory名\n",
    "g_DFSET, g_almprefix, g_wd"
   ]
  },
  {
   "cell_type": "code",
   "execution_count": null,
   "id": "6674d539",
   "metadata": {},
   "outputs": [],
   "source": [
    "g_fc2xml = nodebank.load(\"anphonfile_xml\") # harmonic force constant\n",
    "g_fc2xml"
   ]
  },
  {
   "cell_type": "code",
   "execution_count": null,
   "id": "8c6220e4",
   "metadata": {},
   "outputs": [],
   "source": [
    "#g_alm_opt = run(builder)"
   ]
  },
  {
   "cell_type": "code",
   "execution_count": null,
   "id": "47293f5a",
   "metadata": {},
   "outputs": [],
   "source": [
    "#codename = \"alm_opt@tutor\"\n",
    "#code = Code.get_from_string(codename)\n",
    "code = code_alm_opt\n",
    "\n",
    "builder = code.get_builder()\n",
    "builder.structure = g_superstructure\n",
    "builder.prefix = g_prefix\n",
    "builder.cwd = Str(os.path.join(g_cwd.value,f\"{g_prefix.value}_alm_opt\")) # 保存directory\n",
    "builder.norder = g_norder\n",
    "builder.dfset = g_DFSET # displacementとforce\n",
    "builder.fc2xml =  g_fc2xml # force constant of the harmonic term\n",
    "\n",
    "key = f\"{g_prefix.value}_alm_opt\"\n",
    "\n",
    "g_alm_opt = nodebank.load_code_or_wait_for_node(key, builder, sec=10)\n"
   ]
  },
  {
   "cell_type": "code",
   "execution_count": null,
   "id": "5487f18d",
   "metadata": {},
   "outputs": [],
   "source": [
    "g_alm_opt.outputs.results.attributes"
   ]
  },
  {
   "cell_type": "code",
   "execution_count": null,
   "id": "c592d96a",
   "metadata": {},
   "outputs": [],
   "source": [
    "g_alm_opt.outputs.input_ANPHON"
   ]
  },
  {
   "cell_type": "markdown",
   "id": "2a213711",
   "metadata": {},
   "source": [
    "## thermal conductivity\n"
   ]
  },
  {
   "cell_type": "code",
   "execution_count": null,
   "id": "5e545848",
   "metadata": {},
   "outputs": [],
   "source": [
    "g_primstructure = nodebank.load(\"primstructure\")\n",
    "g_standardizedstructure = nodebank.load(\"standardizedstructure\")\n",
    "\n",
    "g_diag = nodebank.load(\"factor\")\n",
    "g_qmesh = List(list=[5,5,5])\n",
    "\n",
    "g_almprefix = \"_\".join([g_standardizedstructure.get_formula(),\n",
    "                        \"x\".join(map(str,g_diag.get_array(\"factor\").reshape(-1))),\n",
    "                        g_prefix.value,\n",
    "                       \"q\"+\"x\".join(map(str,g_qmesh.get_list()))\n",
    "                       ])\n",
    "print(g_almprefix)\n",
    "\n",
    "g_wd_dos = Str(g_almprefix)\n",
    "g_wd_dos, g_cwd"
   ]
  },
  {
   "cell_type": "code",
   "execution_count": null,
   "id": "8219fc6e",
   "metadata": {},
   "outputs": [],
   "source": [
    "g_property = Str(os.path.join(g_cwd.value, f'{g_prefix.value}_property'))\n",
    "g_property"
   ]
  },
  {
   "cell_type": "code",
   "execution_count": null,
   "id": "0f4344de",
   "metadata": {},
   "outputs": [],
   "source": [
    "#g_RTAfuture = run(builder)"
   ]
  },
  {
   "cell_type": "code",
   "execution_count": null,
   "id": "31bc91e5",
   "metadata": {},
   "outputs": [],
   "source": [
    "#codename = \"anphon@tutor\"\n",
    "#code = Code.get_from_string(codename)\n",
    "code = code_anphon\n",
    "\n",
    "builder = code.get_builder()\n",
    "builder.structure = g_primstructure\n",
    "builder.prefix = g_wd\n",
    "builder.cwd = g_property\n",
    "builder.norder = g_norder\n",
    "builder.fcsxml = g_alm_opt.outputs.input_ANPHON\n",
    "builder.mode = Str(\"RTA\")\n",
    "builder.qmesh = g_qmesh\n",
    "\n",
    "key = \"RTA\"\n",
    "\n",
    "g_RTAfuture = nodebank.load_code_or_wait_for_node(key, builder, 10)\n"
   ]
  },
  {
   "cell_type": "code",
   "execution_count": null,
   "id": "665f7785",
   "metadata": {},
   "outputs": [],
   "source": [
    "g_RTAfuture"
   ]
  },
  {
   "cell_type": "code",
   "execution_count": null,
   "id": "8033f724",
   "metadata": {},
   "outputs": [],
   "source": [
    "import pandas as pd\n",
    "import re\n",
    "import numpy as np"
   ]
  },
  {
   "cell_type": "code",
   "execution_count": null,
   "id": "264299d3",
   "metadata": {},
   "outputs": [],
   "source": [
    "from alamode_aiida.io import load_anphon_kl, load_anphon_kl_spec"
   ]
  },
  {
   "cell_type": "code",
   "execution_count": null,
   "id": "cd90ebe8",
   "metadata": {},
   "outputs": [],
   "source": [
    "g_RTAfuture.outputs.kl_file"
   ]
  },
  {
   "cell_type": "code",
   "execution_count": null,
   "id": "1122895f",
   "metadata": {},
   "outputs": [],
   "source": [
    "g_df = load_anphon_kl(g_RTAfuture.outputs.kl_file)\n",
    "g_df.plot(x=\"Temperature [K]\", y=\"Thermal Conductivity_xx [W/mK]\")\n",
    "import matplotlib.pyplot as plt\n",
    "plt.xscale(\"log\")"
   ]
  },
  {
   "cell_type": "code",
   "execution_count": null,
   "id": "26e7a5c4",
   "metadata": {},
   "outputs": [],
   "source": [
    "g_RTAfuture.outputs.result_file"
   ]
  },
  {
   "cell_type": "code",
   "execution_count": null,
   "id": "11379084",
   "metadata": {},
   "outputs": [],
   "source": [
    "#codename = \"analyze_phonon@tutor\"\n",
    "#code = Code.get_from_string(codename)\n",
    "code = code_analyze_phonons\n",
    "\n",
    "builder = code.get_builder()\n",
    "builder.cwd = g_property\n",
    "builder.prefix = g_wd\n",
    "builder.calc = Str(\"kappa_boundary\")\n",
    "builder.file_result = g_RTAfuture.outputs.result_file\n",
    "builder.param = Dict(dict={\"size\": 1e+6})\n",
    "\n",
    "key = \"ap_kappa\"\n",
    "\n",
    "g_ap_kappa = nodebank.load_code_or_wait_for_node(key, builder, 10)\n"
   ]
  },
  {
   "cell_type": "code",
   "execution_count": null,
   "id": "02d8106d",
   "metadata": {},
   "outputs": [],
   "source": [
    "g_ap_kappa.outputs.kappa_boundary_file"
   ]
  },
  {
   "cell_type": "code",
   "execution_count": null,
   "id": "6c8e31cf",
   "metadata": {},
   "outputs": [],
   "source": [
    "g_RTAfuture.outputs.result_file.attributes\n",
    "    "
   ]
  },
  {
   "cell_type": "code",
   "execution_count": null,
   "id": "3e471fd0",
   "metadata": {},
   "outputs": [],
   "source": [
    "code = code_analyze_phonons\n",
    "\n",
    "builder = code.get_builder()\n",
    "builder.cwd = g_property\n",
    "builder.prefix = g_wd\n",
    "builder.calc = Str(\"tau\")\n",
    "# builder.size = Float(1.0e+6)\n",
    "builder.file_result = g_RTAfuture.outputs.result_file\n",
    "builder.param = Dict(dict={\"temp\": 300.0})\n",
    "\n",
    "key = \"ap_tau\"\n",
    "\n",
    "g_ap_tau = nodebank.load_code_or_wait_for_node(key, builder, 10)\n"
   ]
  },
  {
   "cell_type": "code",
   "execution_count": null,
   "id": "d913b47b",
   "metadata": {},
   "outputs": [],
   "source": [
    "code = code_analyze_phonons\n",
    "\n",
    "builder = code.get_builder()\n",
    "builder.cwd = g_property\n",
    "builder.prefix = g_wd\n",
    "builder.calc = Str(\"cumulative\")\n",
    "# builder.size = Float(1.0e+6)\n",
    "builder.file_result = g_RTAfuture.outputs.result_file\n",
    "builder.param = Dict(dict={\"temp\": 300.0, \"length\": \"10000:5\"})\n",
    "\n",
    "key = \"ap_cum\"\n",
    "g_ap_cum = nodebank.load_code_or_wait_for_node(key, builder, 10)\n"
   ]
  },
  {
   "cell_type": "code",
   "execution_count": null,
   "id": "e516c438",
   "metadata": {},
   "outputs": [],
   "source": []
  },
  {
   "cell_type": "code",
   "execution_count": null,
   "id": "d580d098",
   "metadata": {},
   "outputs": [],
   "source": [
    "values = g_ap_cum.outputs.cumulative.get_array(\"values\")\n",
    "values"
   ]
  },
  {
   "cell_type": "code",
   "execution_count": null,
   "id": "0e835919",
   "metadata": {},
   "outputs": [],
   "source": [
    "values = g_ap_cum.outputs.cumulative.get_array(\"values\").astype(float)\n",
    "splitted_header = g_ap_cum.outputs.cumulative.get_array(\"columns\")\n",
    "df = pd.DataFrame(values, columns=splitted_header)\n",
    "df"
   ]
  },
  {
   "cell_type": "code",
   "execution_count": null,
   "id": "8073aed1",
   "metadata": {},
   "outputs": [],
   "source": [
    "df.plot(x= \"L [nm]\", y='kappa xx [W/mK]')"
   ]
  },
  {
   "cell_type": "markdown",
   "id": "27c07c4d",
   "metadata": {},
   "source": [
    "## anphon spectra"
   ]
  },
  {
   "cell_type": "code",
   "execution_count": null,
   "id": "cae20457",
   "metadata": {},
   "outputs": [],
   "source": [
    "#codename = \"anphon@tutor\"\n",
    "#code = Code.get_from_string(codename)\n",
    "code = code_anphon\n",
    "\n",
    "builder = code.get_builder()\n",
    "builder.structure = g_primstructure\n",
    "builder.prefix = g_wd\n",
    "builder.cwd = g_property\n",
    "builder.norder = g_norder\n",
    "builder.fcsxml = g_alm_opt.outputs.input_ANPHON\n",
    "builder.mode = Str(\"RTA\")\n",
    "builder.kappa_spec = Int(1) # spectra\n",
    "builder.qmesh = g_qmesh\n",
    "eparam = {\"EMIN\":0, \"EMAX\":550, \"DELTA_E\": 10.0}\n",
    "builder.param= Dict(dict={\"general\": eparam})\n",
    "\n",
    "key = \"RTAspec\"\n",
    "g_RTAspec = nodebank.load_code_or_wait_for_node(key, builder, 10)\n"
   ]
  },
  {
   "cell_type": "code",
   "execution_count": null,
   "id": "b057d841",
   "metadata": {},
   "outputs": [],
   "source": [
    "g_df = load_anphon_kl_spec(g_RTAspec.outputs.kl_spec_file)"
   ]
  },
  {
   "cell_type": "code",
   "execution_count": null,
   "id": "108219f5",
   "metadata": {},
   "outputs": [],
   "source": [
    "print(np.unique(g_df[\"Temperature [K]\"].values))\n",
    "g_df_select = g_df[g_df[\"Temperature [K]\"]==300]"
   ]
  },
  {
   "cell_type": "code",
   "execution_count": null,
   "id": "7fe5f757",
   "metadata": {},
   "outputs": [],
   "source": [
    "g_df_select.plot(x=g_df.columns[1], y=g_df.columns[2])"
   ]
  },
  {
   "cell_type": "code",
   "execution_count": null,
   "id": "1aaa75b3",
   "metadata": {},
   "outputs": [],
   "source": []
  },
  {
   "cell_type": "code",
   "execution_count": null,
   "id": "3e240b70",
   "metadata": {},
   "outputs": [],
   "source": []
  }
 ],
 "metadata": {
  "kernelspec": {
   "display_name": "py39",
   "language": "python",
   "name": "py39"
  },
  "language_info": {
   "codemirror_mode": {
    "name": "ipython",
    "version": 3
   },
   "file_extension": ".py",
   "mimetype": "text/x-python",
   "name": "python",
   "nbconvert_exporter": "python",
   "pygments_lexer": "ipython3",
   "version": "3.9.13"
  }
 },
 "nbformat": 4,
 "nbformat_minor": 5
}
