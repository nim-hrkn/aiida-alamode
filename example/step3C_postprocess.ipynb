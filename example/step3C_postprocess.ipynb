{
 "cells": [
  {
   "cell_type": "code",
   "execution_count": 1,
   "id": "736a131b",
   "metadata": {},
   "outputs": [
    {
     "data": {
      "text/plain": [
       "<aiida.manage.configuration.profile.Profile at 0x7fb2e406dfd0>"
      ]
     },
     "execution_count": 1,
     "metadata": {},
     "output_type": "execute_result"
    }
   ],
   "source": [
    "import aiida\n",
    "\n",
    "# must execute it in the first place\n",
    "aiida.load_profile()"
   ]
  },
  {
   "cell_type": "code",
   "execution_count": 2,
   "id": "976280a7",
   "metadata": {},
   "outputs": [],
   "source": [
    "from aiida.orm import Code\n",
    "from aiida.orm import Str, Int, Dict, List\n",
    "from aiida.engine import calcfunction, WorkChain, ToContext, append_\n",
    "from aiida.plugins import DataFactory, WorkflowFactory\n",
    "from itertools import cycle\n",
    "import os\n",
    "\n",
    "from aiida.engine import calcfunction, workfunction, submit, run\n",
    "from aiida.orm import load_code,load_node\n",
    "from tools import wait_for_node_finished\n",
    "\n",
    "# load types\n",
    "StructureData = DataFactory('structure')\n",
    "FolderData = DataFactory('folder')\n",
    "SinglefileData = DataFactory('singlefile')\n",
    "ArrayData = DataFactory('array')\n",
    "List = DataFactory('list')\n"
   ]
  },
  {
   "cell_type": "code",
   "execution_count": 3,
   "id": "14f3b46b",
   "metadata": {},
   "outputs": [
    {
     "data": {
      "text/plain": [
       "(<Code: Remote code 'alamode.alm_opt' on localhost, pk: 59276, uuid: f978b37c-4404-4f61-ba70-2a2d6b8ad201>,\n",
       " <Code: Remote code 'alamode.anphon' on localhost, pk: 59277, uuid: dc42525d-6e01-4b6c-8568-b3fb3b14f6b2>,\n",
       " <Code: Remote code 'alamode.analyze_phonons' on localhost, pk: 59607, uuid: c586f40b-2354-4163-bf6e-69ef3062115e>)"
      ]
     },
     "execution_count": 3,
     "metadata": {},
     "output_type": "execute_result"
    }
   ],
   "source": [
    "# codeの定義を行う。\n",
    "from tools.aiida_support import get_or_create_local_computer, get_or_create_code\n",
    "from os.path import expanduser\n",
    "import os\n",
    "home = expanduser(\"~\")\n",
    "work_directory = os.path.join(home,'aiida')\n",
    "computer_local = get_or_create_local_computer(work_directory, 'localhost')\n",
    "code = get_or_create_code('alamode.alm_opt', \n",
    "                          computer_local, \n",
    "                          '/home/max/Documents/alamode/bin/alm')\n",
    "code_alm_opt = code\n",
    "code = get_or_create_code('alamode.anphon', \n",
    "                          computer_local, \n",
    "                          '/home/max/Documents/alamode/bin/anphon')\n",
    "code_anphon = code\n",
    "code = get_or_create_code('alamode.analyze_phonons', \n",
    "                          computer_local, \n",
    "                          '/home/max/Documents/alamode/bin/analyze_phonons')\n",
    "code_analyze_phonons = code\n",
    "code_alm_opt, code_anphon, code_analyze_phonons"
   ]
  },
  {
   "cell_type": "code",
   "execution_count": 4,
   "id": "38870d0e",
   "metadata": {},
   "outputs": [
    {
     "name": "stdout",
     "output_type": "stream",
     "text": [
      "{'CWD': 'run29'}\n"
     ]
    },
    {
     "data": {
      "text/plain": [
       "'/home/max/Documents/aiida-test/alamode-aiida/example/run29'"
      ]
     },
     "execution_count": 4,
     "metadata": {},
     "output_type": "execute_result"
    }
   ],
   "source": [
    "import json\n",
    "with open(\"setting.json\") as f:\n",
    "    _dic = json.load(f)\n",
    "print(_dic)\n",
    "CWD = _dic[\"CWD\"]\n",
    "_path = os.path.abspath(CWD)\n",
    "os.makedirs(_path, exist_ok=True)\n",
    "_path"
   ]
  },
  {
   "cell_type": "code",
   "execution_count": 5,
   "id": "69ca0d11",
   "metadata": {},
   "outputs": [],
   "source": [
    "from os.path import expanduser\n",
    "from tools import NodeBank\n",
    "\n",
    "\n",
    "# 再実行時に作成したノードを用いるためにnodebankを使う。\n",
    "g_force = False\n",
    "nodebank = NodeBank(_path, force=g_force)"
   ]
  },
  {
   "cell_type": "code",
   "execution_count": 6,
   "id": "94f7312c",
   "metadata": {},
   "outputs": [
    {
     "data": {
      "text/plain": [
       "(<Int: uuid: 024283bc-0bab-4a13-be6c-06e64a7c70dc (pk: 59328) value: 2>,\n",
       " <Str: uuid: c712e126-400d-4846-9bbf-772c331c7f2b (pk: 59329) value: cubic>)"
      ]
     },
     "execution_count": 6,
     "metadata": {},
     "output_type": "execute_result"
    }
   ],
   "source": [
    "g_norder = nodebank.load(\"cubic_norder\")\n",
    "g_prefix = nodebank.load('cubic_prefix')\n",
    "g_norder, g_prefix"
   ]
  },
  {
   "cell_type": "code",
   "execution_count": 7,
   "id": "4c40b16d",
   "metadata": {},
   "outputs": [
    {
     "data": {
      "text/plain": [
       "(<Str: uuid: 7311e76c-dddc-474a-88ac-81014ccec5cb (pk: 59331) value: /home/max/Documents/aiida-test/alamode-aiida/example/run29/Ga2N2_1x1x1_cubic>,\n",
       " None)"
      ]
     },
     "execution_count": 7,
     "metadata": {},
     "output_type": "execute_result"
    }
   ],
   "source": [
    "g_cwd = nodebank.load(\"cubic_cwd\") # 保存directory\n",
    "# g_dispfile_folder = nodebank.load(\"cubic_dispfile_folder\")\n",
    "# g_displace_result = nodebank.load(\"cubic_displace_result\")\n",
    "g_superstructure = nodebank.load(\"superstructure\") # 長周期構造\n",
    "\n",
    "g_lammps_all_output = nodebank.load(f'{g_prefix.value}_all_dfset')\n",
    "g_cwd, g_lammps_all_output"
   ]
  },
  {
   "cell_type": "code",
   "execution_count": 8,
   "id": "08b97abf",
   "metadata": {},
   "outputs": [
    {
     "data": {
      "text/plain": [
       "{'filename': 'DFSET_cubic'}"
      ]
     },
     "execution_count": 8,
     "metadata": {},
     "output_type": "execute_result"
    }
   ],
   "source": [
    "node = nodebank.load(f'{g_prefix.value}_extract')\n",
    "g_DFSET_file = node.outputs.dfset_file\n",
    "g_DFSET_file.attributes"
   ]
  },
  {
   "cell_type": "markdown",
   "id": "4b0287d9",
   "metadata": {},
   "source": [
    "# alm opt "
   ]
  },
  {
   "cell_type": "code",
   "execution_count": 9,
   "id": "29d540e8",
   "metadata": {},
   "outputs": [
    {
     "data": {
      "text/plain": [
       "<Int: uuid: 024283bc-0bab-4a13-be6c-06e64a7c70dc (pk: 59328) value: 2>"
      ]
     },
     "execution_count": 9,
     "metadata": {},
     "output_type": "execute_result"
    }
   ],
   "source": [
    "g_norder"
   ]
  },
  {
   "cell_type": "code",
   "execution_count": 10,
   "id": "4b48ca51",
   "metadata": {},
   "outputs": [
    {
     "data": {
      "text/plain": [
       "array([1, 1, 1])"
      ]
     },
     "execution_count": 10,
     "metadata": {},
     "output_type": "execute_result"
    }
   ],
   "source": [
    "g_diag = nodebank.load(\"diag\")\n",
    "g_diag.get_array('diag')"
   ]
  },
  {
   "cell_type": "code",
   "execution_count": 11,
   "id": "af40ea7a",
   "metadata": {},
   "outputs": [
    {
     "data": {
      "text/plain": [
       "<StructureData: uuid: f222a7ce-53e6-4d9d-b868-6b57cd8a2c92 (pk: 59111)>"
      ]
     },
     "execution_count": 11,
     "metadata": {},
     "output_type": "execute_result"
    }
   ],
   "source": [
    "g_primstructure = nodebank.load(\"primstructure\")\n",
    "g_primstructure"
   ]
  },
  {
   "cell_type": "code",
   "execution_count": 12,
   "id": "56f736b2",
   "metadata": {},
   "outputs": [
    {
     "name": "stdout",
     "output_type": "stream",
     "text": [
      "debug, node uuid: 0ee7cbfb-27b4-42a8-bd35-99c220e79d88 (unstored) value: Ga2N2_1x1x1_cubic\n",
      "debug, load None\n",
      "debug, force dump\n"
     ]
    },
    {
     "data": {
      "text/plain": [
       "(<SinglefileData: uuid: 1119c673-67b1-4133-8535-6fa3abdd70fb (pk: 59606)>,\n",
       " <Str: uuid: 0ee7cbfb-27b4-42a8-bd35-99c220e79d88 (pk: 59608) value: Ga2N2_1x1x1_cubic>,\n",
       " <Str: uuid: 0ee7cbfb-27b4-42a8-bd35-99c220e79d88 (pk: 59608) value: Ga2N2_1x1x1_cubic>)"
      ]
     },
     "execution_count": 12,
     "metadata": {},
     "output_type": "execute_result"
    }
   ],
   "source": [
    "\n",
    "g_almprefix = \"_\".join([g_primstructure.get_formula(),\"x\".join(map(str,g_diag.get_array(\"diag\"))), \"cubic\"])\n",
    "g_almprefix = Str(g_almprefix)\n",
    "\n",
    "g_wd = nodebank.load_or_dump(\"cubic_almprefix\",g_almprefix) # subdirectory名\n",
    "g_DFSET_file, g_almprefix, g_wd"
   ]
  },
  {
   "cell_type": "code",
   "execution_count": 13,
   "id": "6674d539",
   "metadata": {},
   "outputs": [
    {
     "name": "stdout",
     "output_type": "stream",
     "text": [
      "harmonic.xml\n"
     ]
    }
   ],
   "source": [
    "g_fc2xml_file = nodebank.load(\"anphonfile_xml\") # harmonic force constant\n",
    "print(g_fc2xml_file.filename)"
   ]
  },
  {
   "cell_type": "code",
   "execution_count": 14,
   "id": "96ac860f",
   "metadata": {},
   "outputs": [
    {
     "data": {
      "text/plain": [
       "<Str: uuid: 7311e76c-dddc-474a-88ac-81014ccec5cb (pk: 59331) value: /home/max/Documents/aiida-test/alamode-aiida/example/run29/Ga2N2_1x1x1_cubic>"
      ]
     },
     "execution_count": 14,
     "metadata": {},
     "output_type": "execute_result"
    }
   ],
   "source": [
    "g_cwd"
   ]
  },
  {
   "cell_type": "code",
   "execution_count": 15,
   "id": "47293f5a",
   "metadata": {
    "scrolled": false
   },
   "outputs": [
    {
     "name": "stdout",
     "output_type": "stream",
     "text": [
      "uuid: e15c398e-9c16-4d78-97eb-733513d034e0 (pk: 59612) (aiida.calculations:alamode.alm_opt)\n",
      "wait another 5 sec.\n",
      "wait another 5 sec.\n",
      "wait another 5 sec.\n",
      "wait another 5 sec.\n",
      "wait another 5 sec.\n",
      "wait another 5 sec.\n",
      "wait another 5 sec.\n",
      "wait another 5 sec.\n",
      "wait another 5 sec.\n",
      "wait another 5 sec.\n",
      "wait another 5 sec.\n",
      "wait another 5 sec.\n",
      "wait another 5 sec.\n",
      "wait another 5 sec.\n",
      "wait another 5 sec.\n",
      "wait another 5 sec.\n",
      "wait another 5 sec.\n",
      "wait another 5 sec.\n",
      "wait another 5 sec.\n",
      "wait another 5 sec.\n",
      "wait another 5 sec.\n",
      "wait another 5 sec.\n",
      "wait another 5 sec.\n",
      "wait another 5 sec.\n",
      "wait another 5 sec.\n",
      "wait another 5 sec.\n",
      "wait another 5 sec.\n",
      "wait another 5 sec.\n",
      "wait another 5 sec.\n",
      "wait another 5 sec.\n",
      "wait another 5 sec.\n",
      "wait another 5 sec.\n",
      "wait another 5 sec.\n",
      "wait another 5 sec.\n",
      "wait another 5 sec.\n",
      "True True\n"
     ]
    }
   ],
   "source": [
    "#codename = \"alm_opt@tutor\"\n",
    "#code = Code.get_from_string(codename)\n",
    "code = code_alm_opt\n",
    "\n",
    "builder = code.get_builder()\n",
    "builder.structure = g_superstructure\n",
    "builder.prefix = g_prefix\n",
    "builder.cwd = g_cwd # 保存directory\n",
    "builder.norder = g_norder\n",
    "builder.dfset_file = g_DFSET_file # displacementとforce\n",
    "builder.fc2xml_file =  g_fc2xml_file # harmonic term\n",
    "\n",
    "\n",
    "key = f\"{g_prefix.value}_alm_opt\"\n",
    "g_alm_opt = nodebank.load(key)\n",
    "if g_alm_opt is None:\n",
    "    g_alm_opt = submit(builder)\n",
    "    print(g_alm_opt)\n",
    "    wait_for_node_finished(g_alm_opt, 5)\n",
    "    if g_alm_opt.is_finished_ok:\n",
    "         nodebank.dump(key,g_alm_opt)\n"
   ]
  },
  {
   "cell_type": "code",
   "execution_count": 16,
   "id": "c592d96a",
   "metadata": {},
   "outputs": [
    {
     "data": {
      "text/plain": [
       "{'constraint': {'constraint_T-inv': 10,\n",
       "  'num_free_HARMINC_FCs': 0,\n",
       "  'constraint_R-inv_self': 0,\n",
       "  'constraint_R-inv_cross': 0,\n",
       "  'inqeuv_constraint_self': 108,\n",
       "  'inqeuv_constraint_cross': 0},\n",
       " 'outputfiles': {'input_ANPHON': 'cubic.xml', 'force_constants': 'cubic.fcs'},\n",
       " 'optimization': {'RSS': 0.719204,\n",
       "  'LMODEL': 'least-squares',\n",
       "  'num_param': 5014,\n",
       "  'fitting_error': 38.8843,\n",
       "  'num_free_param': 1510,\n",
       "  'rank_of_matrix': 1510}}"
      ]
     },
     "execution_count": 16,
     "metadata": {},
     "output_type": "execute_result"
    }
   ],
   "source": [
    "g_alm_opt.outputs.results.attributes"
   ]
  },
  {
   "cell_type": "markdown",
   "id": "2a213711",
   "metadata": {},
   "source": [
    "## thermal conductivity\n"
   ]
  },
  {
   "cell_type": "code",
   "execution_count": 17,
   "id": "5e545848",
   "metadata": {},
   "outputs": [
    {
     "name": "stdout",
     "output_type": "stream",
     "text": [
      "Ga2N2_1x1x1_cubic_q5x5x5\n"
     ]
    },
    {
     "data": {
      "text/plain": [
       "(<Str: uuid: d4a8cf64-5d2e-4d95-a6b1-d68eb345bef7 (unstored) value: Ga2N2_1x1x1_cubic_q5x5x5>,\n",
       " <Str: uuid: 7311e76c-dddc-474a-88ac-81014ccec5cb (pk: 59331) value: /home/max/Documents/aiida-test/alamode-aiida/example/run29/Ga2N2_1x1x1_cubic>)"
      ]
     },
     "execution_count": 17,
     "metadata": {},
     "output_type": "execute_result"
    }
   ],
   "source": [
    "g_primstructure = nodebank.load(\"primstructure\")\n",
    "g_diag = nodebank.load(\"diag\")\n",
    "g_qmesh = List(list=[5,5,5])\n",
    "\n",
    "g_almprefix = \"_\".join([g_primstructure.get_formula(),\n",
    "                        \"x\".join(map(str,g_diag.get_array(\"diag\"))),\n",
    "                        g_prefix.value,\n",
    "                       \"q\"+\"x\".join(map(str,g_qmesh.get_list()))\n",
    "                       ])\n",
    "print(g_almprefix)\n",
    "\n",
    "g_wd_dos = Str(g_almprefix)\n",
    "g_wd_dos, g_cwd"
   ]
  },
  {
   "cell_type": "code",
   "execution_count": 18,
   "id": "31bc91e5",
   "metadata": {},
   "outputs": [
    {
     "name": "stdout",
     "output_type": "stream",
     "text": [
      "uuid: f759ffec-f7d4-4586-b743-022000d4dd8c (pk: 59623) (aiida.calculations:alamode.anphon)\n",
      "wait another 5 sec.\n",
      "wait another 5 sec.\n",
      "wait another 5 sec.\n",
      "wait another 5 sec.\n",
      "wait another 5 sec.\n",
      "wait another 5 sec.\n",
      "wait another 5 sec.\n",
      "wait another 5 sec.\n",
      "wait another 5 sec.\n",
      "wait another 5 sec.\n",
      "wait another 5 sec.\n",
      "wait another 5 sec.\n",
      "wait another 5 sec.\n",
      "wait another 5 sec.\n",
      "wait another 5 sec.\n",
      "wait another 5 sec.\n",
      "True True\n"
     ]
    }
   ],
   "source": [
    "#codename = \"anphon@tutor\"\n",
    "#code = Code.get_from_string(codename)\n",
    "code = code_anphon\n",
    "\n",
    "builder = code.get_builder()\n",
    "builder.structure = g_primstructure\n",
    "builder.prefix = g_wd\n",
    "builder.cwd = g_cwd\n",
    "builder.norder = g_norder\n",
    "builder.fcsxml = g_alm_opt.outputs.input_ANPHON_file\n",
    "builder.mode = Str(\"RTA\")\n",
    "#builder.kparam = Dict(dict={\"kspacing\": 0.1})\n",
    "builder.qmesh = g_qmesh\n",
    "\n",
    "key = \"RTA\"\n",
    "g_RTAfuture = nodebank.load(key,g_force)\n",
    "#if g_RTAfuture is None:   \n",
    "if True:\n",
    "    g_RTAfuture = submit(builder)\n",
    "    print(g_RTAfuture)\n",
    "    wait_for_node_finished(g_RTAfuture, 5)\n",
    "    if g_RTAfuture.is_finished_ok:\n",
    "         nodebank.dump(key,g_RTAfuture)"
   ]
  },
  {
   "cell_type": "code",
   "execution_count": 19,
   "id": "8033f724",
   "metadata": {},
   "outputs": [],
   "source": [
    "import pandas as pd\n",
    "import re\n",
    "import numpy as np"
   ]
  },
  {
   "cell_type": "code",
   "execution_count": 20,
   "id": "264299d3",
   "metadata": {},
   "outputs": [],
   "source": [
    "from alamode_aiida.data_loader import load_anphon_kl, load_anphon_kl_spec"
   ]
  },
  {
   "cell_type": "code",
   "execution_count": 21,
   "id": "cd90ebe8",
   "metadata": {},
   "outputs": [
    {
     "data": {
      "text/plain": [
       "<SinglefileData: uuid: 3591a4b1-0dfe-4c87-9670-004e636e6585 (pk: 59627)>"
      ]
     },
     "execution_count": 21,
     "metadata": {},
     "output_type": "execute_result"
    }
   ],
   "source": [
    "g_RTAfuture.outputs.kl_file"
   ]
  },
  {
   "cell_type": "code",
   "execution_count": 22,
   "id": "1122895f",
   "metadata": {},
   "outputs": [
    {
     "data": {
      "image/png": "[encoded data removed]",
      "text/plain": [
       "<Figure size 432x288 with 1 Axes>"
      ]
     },
     "metadata": {
      "needs_background": "light"
     },
     "output_type": "display_data"
    }
   ],
   "source": [
    "g_df = load_anphon_kl(g_RTAfuture.outputs.kl_file)\n",
    "g_df.plot(x=\"Temperature [K]\", y=\"Thermal Conductivity_xx [W/mK]\")\n",
    "import matplotlib.pyplot as plt\n",
    "plt.xscale(\"log\")"
   ]
  },
  {
   "cell_type": "code",
   "execution_count": 23,
   "id": "26e7a5c4",
   "metadata": {},
   "outputs": [
    {
     "data": {
      "text/plain": [
       "<SinglefileData: uuid: fd9d58da-b9ed-4a09-81be-bd8c17227931 (pk: 59626)>"
      ]
     },
     "execution_count": 23,
     "metadata": {},
     "output_type": "execute_result"
    }
   ],
   "source": [
    "g_RTAfuture.outputs.result_file"
   ]
  },
  {
   "cell_type": "code",
   "execution_count": 24,
   "id": "fb1a530b",
   "metadata": {},
   "outputs": [
    {
     "name": "stdout",
     "output_type": "stream",
     "text": [
      "{'temp': None, 'mode': None, 'kpoint': None, 'calc': 'kappa_boundary', 'isotope': None, 'average_gamma': True, 'size': '1e+6', 'length': None, 'direction': None}\n"
     ]
    }
   ],
   "source": [
    "class analzePhononOptions:\n",
    "    def __init__(self, **kwargs):\n",
    "        self.options= {'temp': None, 'mode': None, 'kpoint': None, \n",
    "'calc': 'kappa_boundary', 'isotope': None, 'average_gamma': True, \n",
    "'size': '1e+6', 'length': None, 'direction': None}\n",
    "\n",
    "a = analzePhononOptions()\n",
    "print(a.options)"
   ]
  },
  {
   "cell_type": "code",
   "execution_count": 25,
   "id": "11379084",
   "metadata": {},
   "outputs": [
    {
     "name": "stdout",
     "output_type": "stream",
     "text": [
      "uuid: 22564c4e-e4e1-49c6-8054-92a7b8136ae0 (pk: 59632) (aiida.calculations:alamode.analyze_phonons)\n",
      "wait another 5 sec.\n",
      "wait another 5 sec.\n",
      "True True\n"
     ]
    }
   ],
   "source": [
    "#codename = \"analyze_phonon@tutor\"\n",
    "#code = Code.get_from_string(codename)\n",
    "code = code_analyze_phonons\n",
    "\n",
    "builder = code.get_builder()\n",
    "builder.cwd = g_cwd\n",
    "#builder.norder = g_norder\n",
    "builder.prefix = g_wd\n",
    "builder.calc = Str(\"kappa_boundary\")\n",
    "# builder.size = Float(1.0e+6)\n",
    "builder.file_result = g_RTAfuture.outputs.result_file\n",
    "builder.param = Dict(dict={\"size\": 1e+6})\n",
    "\n",
    "key = \"ap_kappa\"\n",
    "g_ap_kappa_future = nodebank.load(key)\n",
    "if g_ap_kappa_future is None:   \n",
    "    g_ap_kappa_future = submit(builder)\n",
    "    print(g_ap_kappa_future)\n",
    "    wait_for_node_finished(g_ap_kappa_future, 5)\n",
    "    if g_ap_kappa_future.is_finished_ok:\n",
    "         nodebank.dump(key,g_ap_kappa_future)"
   ]
  },
  {
   "cell_type": "code",
   "execution_count": 26,
   "id": "5066b33e",
   "metadata": {},
   "outputs": [
    {
     "name": "stdout",
     "output_type": "stream",
     "text": [
      "uuid: 144fb9a4-7571-4da0-a913-e1d25048bde6 (pk: 59641) (aiida.calculations:alamode.analyze_phonons)\n",
      "wait another 5 sec.\n",
      "wait another 5 sec.\n",
      "True True\n"
     ]
    }
   ],
   "source": [
    "code = code_analyze_phonons\n",
    "\n",
    "builder = code.get_builder()\n",
    "builder.cwd = g_cwd\n",
    "builder.prefix = g_wd\n",
    "builder.calc = Str(\"tau\")\n",
    "# builder.size = Float(1.0e+6)\n",
    "builder.file_result = g_RTAfuture.outputs.result_file\n",
    "builder.param = Dict(dict={\"temp\": 300.0})\n",
    "\n",
    "key = \"ap_tau\"\n",
    "g_ap_tau_future = nodebank.load(key)\n",
    "if g_ap_tau_future is None:   \n",
    "    g_ap_tau_future = submit(builder)\n",
    "    print(g_ap_tau_future)\n",
    "    wait_for_node_finished(g_ap_tau_future, 5)\n",
    "    if g_ap_tau_future.is_finished_ok:\n",
    "         nodebank.dump(key,g_ap_tau_future)"
   ]
  },
  {
   "cell_type": "code",
   "execution_count": 27,
   "id": "d913b47b",
   "metadata": {},
   "outputs": [
    {
     "name": "stdout",
     "output_type": "stream",
     "text": [
      "uuid: 8e56e2cc-f7c5-415a-982f-ee690b65ac7f (pk: 59650) (aiida.calculations:alamode.analyze_phonons)\n",
      "wait another 5 sec.\n",
      "wait another 5 sec.\n",
      "True True\n"
     ]
    }
   ],
   "source": [
    "code = code_analyze_phonons\n",
    "\n",
    "builder = code.get_builder()\n",
    "builder.cwd = g_cwd\n",
    "builder.prefix = g_wd\n",
    "builder.calc = Str(\"cumulative\")\n",
    "# builder.size = Float(1.0e+6)\n",
    "builder.file_result = g_RTAfuture.outputs.result_file\n",
    "builder.param = Dict(dict={\"temp\": 300.0, \"length\": \"10000:5\"})\n",
    "\n",
    "\n",
    "key = \"ap_cum\"\n",
    "g_ap_cum_future = nodebank.load(key)\n",
    "if g_ap_cum_future is None:   \n",
    "#if True:\n",
    "    g_ap_cum_future = submit(builder)\n",
    "    print(g_ap_cum_future)\n",
    "    wait_for_node_finished(g_ap_cum_future, 5)\n",
    "    if g_ap_cum_future.is_finished_ok:\n",
    "         nodebank.dump(key,g_ap_cum_future)"
   ]
  },
  {
   "cell_type": "code",
   "execution_count": 28,
   "id": "d580d098",
   "metadata": {},
   "outputs": [
    {
     "data": {
      "text/plain": [
       "array([[ 0.00000e+00,  0.00000e+00,  0.00000e+00, ...,  0.00000e+00,\n",
       "         0.00000e+00,  0.00000e+00],\n",
       "       [ 5.00000e+00,  8.21880e-01, -1.86702e-07, ...,  1.03017e-12,\n",
       "        -8.18200e-13,  9.55541e-01],\n",
       "       [ 1.00000e+01,  5.85602e+00, -2.40329e-07, ...,  1.31585e-12,\n",
       "         3.69325e-12,  8.16313e+00],\n",
       "       ...,\n",
       "       [ 9.98500e+03,  1.34167e+01,  2.30570e-07, ..., -2.67695e-10,\n",
       "         6.97496e-11,  5.15685e+01],\n",
       "       [ 9.99000e+03,  1.34167e+01,  2.30570e-07, ..., -2.67695e-10,\n",
       "         6.97496e-11,  5.15685e+01],\n",
       "       [ 9.99500e+03,  1.34167e+01,  2.30570e-07, ..., -2.67695e-10,\n",
       "         6.97496e-11,  5.15685e+01]])"
      ]
     },
     "execution_count": 28,
     "metadata": {},
     "output_type": "execute_result"
    }
   ],
   "source": [
    "values = g_ap_cum_future.outputs.cumulative.get_array(\"values\")\n",
    "values"
   ]
  },
  {
   "cell_type": "code",
   "execution_count": 29,
   "id": "0e835919",
   "metadata": {},
   "outputs": [
    {
     "data": {
      "text/html": [
       "<div>\n",
       "<style scoped>\n",
       "    .dataframe tbody tr th:only-of-type {\n",
       "        vertical-align: middle;\n",
       "    }\n",
       "\n",
       "    .dataframe tbody tr th {\n",
       "        vertical-align: top;\n",
       "    }\n",
       "\n",
       "    .dataframe thead th {\n",
       "        text-align: right;\n",
       "    }\n",
       "</style>\n",
       "<table border=\"1\" class=\"dataframe\">\n",
       "  <thead>\n",
       "    <tr style=\"text-align: right;\">\n",
       "      <th></th>\n",
       "      <th>L [nm]</th>\n",
       "      <th>kappa xx [W/mK]</th>\n",
       "      <th>kappa xy [W/mK]</th>\n",
       "      <th>kappa xz [W/mK]</th>\n",
       "      <th>kappa yx [W/mK]</th>\n",
       "      <th>kappa yy [W/mK]</th>\n",
       "      <th>kappa yz [W/mK]</th>\n",
       "      <th>kappa zx [W/mK]</th>\n",
       "      <th>kappa zy [W/mK]</th>\n",
       "      <th>kappa zz [W/mK]</th>\n",
       "    </tr>\n",
       "  </thead>\n",
       "  <tbody>\n",
       "    <tr>\n",
       "      <th>0</th>\n",
       "      <td>0.0</td>\n",
       "      <td>0.00000</td>\n",
       "      <td>0.000000e+00</td>\n",
       "      <td>0.000000e+00</td>\n",
       "      <td>0.000000e+00</td>\n",
       "      <td>0.000000</td>\n",
       "      <td>0.000000e+00</td>\n",
       "      <td>0.000000e+00</td>\n",
       "      <td>0.000000e+00</td>\n",
       "      <td>0.000000</td>\n",
       "    </tr>\n",
       "    <tr>\n",
       "      <th>1</th>\n",
       "      <td>5.0</td>\n",
       "      <td>0.82188</td>\n",
       "      <td>-1.867020e-07</td>\n",
       "      <td>1.030170e-12</td>\n",
       "      <td>-1.867020e-07</td>\n",
       "      <td>0.821879</td>\n",
       "      <td>-8.181970e-13</td>\n",
       "      <td>1.030170e-12</td>\n",
       "      <td>-8.182000e-13</td>\n",
       "      <td>0.955541</td>\n",
       "    </tr>\n",
       "    <tr>\n",
       "      <th>2</th>\n",
       "      <td>10.0</td>\n",
       "      <td>5.85602</td>\n",
       "      <td>-2.403290e-07</td>\n",
       "      <td>1.315870e-12</td>\n",
       "      <td>-2.403290e-07</td>\n",
       "      <td>5.856020</td>\n",
       "      <td>3.693250e-12</td>\n",
       "      <td>1.315850e-12</td>\n",
       "      <td>3.693250e-12</td>\n",
       "      <td>8.163130</td>\n",
       "    </tr>\n",
       "    <tr>\n",
       "      <th>3</th>\n",
       "      <td>15.0</td>\n",
       "      <td>7.50387</td>\n",
       "      <td>-2.780080e-07</td>\n",
       "      <td>2.030240e-12</td>\n",
       "      <td>-2.780080e-07</td>\n",
       "      <td>7.503870</td>\n",
       "      <td>2.639950e-12</td>\n",
       "      <td>2.030240e-12</td>\n",
       "      <td>2.639940e-12</td>\n",
       "      <td>10.760200</td>\n",
       "    </tr>\n",
       "    <tr>\n",
       "      <th>4</th>\n",
       "      <td>20.0</td>\n",
       "      <td>7.61119</td>\n",
       "      <td>-2.820800e-07</td>\n",
       "      <td>1.581060e-12</td>\n",
       "      <td>-2.820800e-07</td>\n",
       "      <td>7.611190</td>\n",
       "      <td>2.639950e-12</td>\n",
       "      <td>1.581040e-12</td>\n",
       "      <td>2.639940e-12</td>\n",
       "      <td>12.237600</td>\n",
       "    </tr>\n",
       "    <tr>\n",
       "      <th>...</th>\n",
       "      <td>...</td>\n",
       "      <td>...</td>\n",
       "      <td>...</td>\n",
       "      <td>...</td>\n",
       "      <td>...</td>\n",
       "      <td>...</td>\n",
       "      <td>...</td>\n",
       "      <td>...</td>\n",
       "      <td>...</td>\n",
       "      <td>...</td>\n",
       "    </tr>\n",
       "    <tr>\n",
       "      <th>1995</th>\n",
       "      <td>9975.0</td>\n",
       "      <td>13.41670</td>\n",
       "      <td>2.305700e-07</td>\n",
       "      <td>-2.676950e-10</td>\n",
       "      <td>2.305700e-07</td>\n",
       "      <td>13.416700</td>\n",
       "      <td>6.974950e-11</td>\n",
       "      <td>-2.676950e-10</td>\n",
       "      <td>6.974960e-11</td>\n",
       "      <td>51.568500</td>\n",
       "    </tr>\n",
       "    <tr>\n",
       "      <th>1996</th>\n",
       "      <td>9980.0</td>\n",
       "      <td>13.41670</td>\n",
       "      <td>2.305700e-07</td>\n",
       "      <td>-2.676950e-10</td>\n",
       "      <td>2.305700e-07</td>\n",
       "      <td>13.416700</td>\n",
       "      <td>6.974950e-11</td>\n",
       "      <td>-2.676950e-10</td>\n",
       "      <td>6.974960e-11</td>\n",
       "      <td>51.568500</td>\n",
       "    </tr>\n",
       "    <tr>\n",
       "      <th>1997</th>\n",
       "      <td>9985.0</td>\n",
       "      <td>13.41670</td>\n",
       "      <td>2.305700e-07</td>\n",
       "      <td>-2.676950e-10</td>\n",
       "      <td>2.305700e-07</td>\n",
       "      <td>13.416700</td>\n",
       "      <td>6.974950e-11</td>\n",
       "      <td>-2.676950e-10</td>\n",
       "      <td>6.974960e-11</td>\n",
       "      <td>51.568500</td>\n",
       "    </tr>\n",
       "    <tr>\n",
       "      <th>1998</th>\n",
       "      <td>9990.0</td>\n",
       "      <td>13.41670</td>\n",
       "      <td>2.305700e-07</td>\n",
       "      <td>-2.676950e-10</td>\n",
       "      <td>2.305700e-07</td>\n",
       "      <td>13.416700</td>\n",
       "      <td>6.974950e-11</td>\n",
       "      <td>-2.676950e-10</td>\n",
       "      <td>6.974960e-11</td>\n",
       "      <td>51.568500</td>\n",
       "    </tr>\n",
       "    <tr>\n",
       "      <th>1999</th>\n",
       "      <td>9995.0</td>\n",
       "      <td>13.41670</td>\n",
       "      <td>2.305700e-07</td>\n",
       "      <td>-2.676950e-10</td>\n",
       "      <td>2.305700e-07</td>\n",
       "      <td>13.416700</td>\n",
       "      <td>6.974950e-11</td>\n",
       "      <td>-2.676950e-10</td>\n",
       "      <td>6.974960e-11</td>\n",
       "      <td>51.568500</td>\n",
       "    </tr>\n",
       "  </tbody>\n",
       "</table>\n",
       "<p>2000 rows × 10 columns</p>\n",
       "</div>"
      ],
      "text/plain": [
       "      L [nm]  kappa xx [W/mK]  kappa xy [W/mK]  kappa xz [W/mK]  \\\n",
       "0        0.0          0.00000     0.000000e+00     0.000000e+00   \n",
       "1        5.0          0.82188    -1.867020e-07     1.030170e-12   \n",
       "2       10.0          5.85602    -2.403290e-07     1.315870e-12   \n",
       "3       15.0          7.50387    -2.780080e-07     2.030240e-12   \n",
       "4       20.0          7.61119    -2.820800e-07     1.581060e-12   \n",
       "...      ...              ...              ...              ...   \n",
       "1995  9975.0         13.41670     2.305700e-07    -2.676950e-10   \n",
       "1996  9980.0         13.41670     2.305700e-07    -2.676950e-10   \n",
       "1997  9985.0         13.41670     2.305700e-07    -2.676950e-10   \n",
       "1998  9990.0         13.41670     2.305700e-07    -2.676950e-10   \n",
       "1999  9995.0         13.41670     2.305700e-07    -2.676950e-10   \n",
       "\n",
       "      kappa yx [W/mK]  kappa yy [W/mK]  kappa yz [W/mK]  kappa zx [W/mK]  \\\n",
       "0        0.000000e+00         0.000000     0.000000e+00     0.000000e+00   \n",
       "1       -1.867020e-07         0.821879    -8.181970e-13     1.030170e-12   \n",
       "2       -2.403290e-07         5.856020     3.693250e-12     1.315850e-12   \n",
       "3       -2.780080e-07         7.503870     2.639950e-12     2.030240e-12   \n",
       "4       -2.820800e-07         7.611190     2.639950e-12     1.581040e-12   \n",
       "...               ...              ...              ...              ...   \n",
       "1995     2.305700e-07        13.416700     6.974950e-11    -2.676950e-10   \n",
       "1996     2.305700e-07        13.416700     6.974950e-11    -2.676950e-10   \n",
       "1997     2.305700e-07        13.416700     6.974950e-11    -2.676950e-10   \n",
       "1998     2.305700e-07        13.416700     6.974950e-11    -2.676950e-10   \n",
       "1999     2.305700e-07        13.416700     6.974950e-11    -2.676950e-10   \n",
       "\n",
       "      kappa zy [W/mK]  kappa zz [W/mK]  \n",
       "0        0.000000e+00         0.000000  \n",
       "1       -8.182000e-13         0.955541  \n",
       "2        3.693250e-12         8.163130  \n",
       "3        2.639940e-12        10.760200  \n",
       "4        2.639940e-12        12.237600  \n",
       "...               ...              ...  \n",
       "1995     6.974960e-11        51.568500  \n",
       "1996     6.974960e-11        51.568500  \n",
       "1997     6.974960e-11        51.568500  \n",
       "1998     6.974960e-11        51.568500  \n",
       "1999     6.974960e-11        51.568500  \n",
       "\n",
       "[2000 rows x 10 columns]"
      ]
     },
     "execution_count": 29,
     "metadata": {},
     "output_type": "execute_result"
    }
   ],
   "source": [
    "values = g_ap_cum_future.outputs.cumulative.get_array(\"values\").astype(float)\n",
    "splitted_header = g_ap_cum_future.outputs.cumulative.get_array(\"columns\")\n",
    "df = pd.DataFrame(values, columns=splitted_header)\n",
    "df"
   ]
  },
  {
   "cell_type": "code",
   "execution_count": 30,
   "id": "8073aed1",
   "metadata": {},
   "outputs": [
    {
     "data": {
      "text/plain": [
       "<AxesSubplot:xlabel='L [nm]'>"
      ]
     },
     "execution_count": 30,
     "metadata": {},
     "output_type": "execute_result"
    },
    {
     "data": {
      "image/png": "[encoded data removed]",
      "text/plain": [
       "<Figure size 432x288 with 1 Axes>"
      ]
     },
     "metadata": {
      "needs_background": "light"
     },
     "output_type": "display_data"
    }
   ],
   "source": [
    "df.plot(x= \"L [nm]\", y='kappa xx [W/mK]')"
   ]
  },
  {
   "cell_type": "markdown",
   "id": "27c07c4d",
   "metadata": {},
   "source": [
    "## anphon spectra"
   ]
  },
  {
   "cell_type": "code",
   "execution_count": 31,
   "id": "cae20457",
   "metadata": {},
   "outputs": [
    {
     "name": "stdout",
     "output_type": "stream",
     "text": [
      "uuid: 4c200cf1-0a07-4170-87cb-865217ed9102 (pk: 59660) (aiida.calculations:alamode.anphon)\n",
      "wait another 5 sec.\n",
      "wait another 5 sec.\n",
      "wait another 5 sec.\n",
      "wait another 5 sec.\n",
      "wait another 5 sec.\n",
      "wait another 5 sec.\n",
      "wait another 5 sec.\n",
      "wait another 5 sec.\n",
      "wait another 5 sec.\n",
      "wait another 5 sec.\n",
      "wait another 5 sec.\n",
      "wait another 5 sec.\n",
      "wait another 5 sec.\n",
      "wait another 5 sec.\n",
      "wait another 5 sec.\n",
      "wait another 5 sec.\n",
      "wait another 5 sec.\n",
      "True True\n"
     ]
    }
   ],
   "source": [
    "#codename = \"anphon@tutor\"\n",
    "#code = Code.get_from_string(codename)\n",
    "code = code_anphon\n",
    "\n",
    "builder = code.get_builder()\n",
    "builder.structure = g_primstructure\n",
    "builder.prefix = g_wd\n",
    "builder.cwd = g_cwd\n",
    "builder.norder = g_norder\n",
    "builder.fcsxml = g_alm_opt.outputs.input_ANPHON_file\n",
    "builder.mode = Str(\"RTA\")\n",
    "builder.kappa_spec = Int(1) # spectra\n",
    "builder.qmesh = g_qmesh\n",
    "eparam = {\"EMIN\":0, \"EMAX\":550, \"DELTA_E\": 10.0}\n",
    "builder.param= Dict(dict={\"general\": eparam})\n",
    "\n",
    "key = \"RTAspec\"\n",
    "g_RTAspecfuture = nodebank.load(key,g_force)\n",
    "#if g_RTAspecfuture is None:  \n",
    "if True:   \n",
    "    g_RTAspecfuture = submit(builder)\n",
    "    print(g_RTAspecfuture)\n",
    "    wait_for_node_finished(g_RTAspecfuture, 5)\n",
    "    if g_RTAspecfuture.is_finished_ok:\n",
    "         nodebank.dump(key,g_RTAspecfuture)\n"
   ]
  },
  {
   "cell_type": "code",
   "execution_count": 32,
   "id": "b057d841",
   "metadata": {},
   "outputs": [],
   "source": [
    "g_df = load_anphon_kl_spec(g_RTAspecfuture.outputs.kl_spec_file)"
   ]
  },
  {
   "cell_type": "code",
   "execution_count": 33,
   "id": "108219f5",
   "metadata": {},
   "outputs": [
    {
     "name": "stdout",
     "output_type": "stream",
     "text": [
      "[   0.   10.   20.   30.   40.   50.   60.   70.   80.   90.  100.  110.\n",
      "  120.  130.  140.  150.  160.  170.  180.  190.  200.  210.  220.  230.\n",
      "  240.  250.  260.  270.  280.  290.  300.  310.  320.  330.  340.  350.\n",
      "  360.  370.  380.  390.  400.  410.  420.  430.  440.  450.  460.  470.\n",
      "  480.  490.  500.  510.  520.  530.  540.  550.  560.  570.  580.  590.\n",
      "  600.  610.  620.  630.  640.  650.  660.  670.  680.  690.  700.  710.\n",
      "  720.  730.  740.  750.  760.  770.  780.  790.  800.  810.  820.  830.\n",
      "  840.  850.  860.  870.  880.  890.  900.  910.  920.  930.  940.  950.\n",
      "  960.  970.  980.  990. 1000.]\n"
     ]
    }
   ],
   "source": [
    "print(np.unique(g_df[\"Temperature [K]\"].values))\n",
    "g_df_select = g_df[g_df[\"Temperature [K]\"]==300]"
   ]
  },
  {
   "cell_type": "code",
   "execution_count": 34,
   "id": "7fe5f757",
   "metadata": {},
   "outputs": [
    {
     "data": {
      "text/plain": [
       "<AxesSubplot:xlabel='Frequency [cm^-1]'>"
      ]
     },
     "execution_count": 34,
     "metadata": {},
     "output_type": "execute_result"
    },
    {
     "data": {
      "image/png": "[encoded data removed]",
      "text/plain": [
       "<Figure size 432x288 with 1 Axes>"
      ]
     },
     "metadata": {
      "needs_background": "light"
     },
     "output_type": "display_data"
    }
   ],
   "source": [
    "g_df_select.plot(x=g_df.columns[1], y=g_df.columns[2])"
   ]
  },
  {
   "cell_type": "code",
   "execution_count": null,
   "id": "1aaa75b3",
   "metadata": {},
   "outputs": [],
   "source": []
  },
  {
   "cell_type": "code",
   "execution_count": null,
   "id": "3e240b70",
   "metadata": {},
   "outputs": [],
   "source": []
  }
 ],
 "metadata": {
  "kernelspec": {
   "display_name": "py39",
   "language": "python",
   "name": "py39"
  },
  "language_info": {
   "codemirror_mode": {
    "name": "ipython",
    "version": 3
   },
   "file_extension": ".py",
   "mimetype": "text/x-python",
   "name": "python",
   "nbconvert_exporter": "python",
   "pygments_lexer": "ipython3",
   "version": "3.9.13"
  }
 },
 "nbformat": 4,
 "nbformat_minor": 5
}
