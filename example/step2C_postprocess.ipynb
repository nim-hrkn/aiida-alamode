{
 "cells": [
  {
   "cell_type": "code",
   "execution_count": 1,
   "id": "736a131b",
   "metadata": {},
   "outputs": [
    {
     "data": {
      "text/plain": [
       "<aiida.manage.configuration.profile.Profile at 0x7fe3d8bb6f70>"
      ]
     },
     "execution_count": 1,
     "metadata": {},
     "output_type": "execute_result"
    }
   ],
   "source": [
    "import aiida\n",
    "\n",
    "# must execute it in the first place\n",
    "aiida.load_profile()\n"
   ]
  },
  {
   "cell_type": "code",
   "execution_count": 2,
   "id": "678f94ab",
   "metadata": {},
   "outputs": [],
   "source": [
    "from aiida.orm import Code\n",
    "from aiida.orm import Str, Int, Dict, List\n",
    "from aiida.engine import calcfunction, WorkChain, ToContext, append_\n",
    "from aiida.plugins import DataFactory, WorkflowFactory\n",
    "from itertools import cycle\n",
    "import os\n",
    "from tools import wait_for_node_finished\n",
    "from aiida.engine import calcfunction, workfunction, submit, run\n",
    "from aiida.orm import load_code, load_node\n",
    "\n",
    "# load types\n",
    "StructureData = DataFactory('structure')\n",
    "FolderData = DataFactory('folder')\n",
    "SinglefileData = DataFactory('singlefile')\n",
    "ArrayData = DataFactory('array')\n",
    "List = DataFactory('list')\n"
   ]
  },
  {
   "cell_type": "code",
   "execution_count": 3,
   "id": "19dac063",
   "metadata": {},
   "outputs": [
    {
     "data": {
      "text/plain": [
       "(<Code: Remote code 'alamode.alm_opt' on localhost, pk: 59276, uuid: f978b37c-4404-4f61-ba70-2a2d6b8ad201>,\n",
       " <Code: Remote code 'alamode.anphon' on localhost, pk: 59277, uuid: dc42525d-6e01-4b6c-8568-b3fb3b14f6b2>)"
      ]
     },
     "execution_count": 3,
     "metadata": {},
     "output_type": "execute_result"
    }
   ],
   "source": [
    "# codeの定義を行う。\n",
    "from tools.aiida_support import get_or_create_local_computer, get_or_create_code\n",
    "from os.path import expanduser\n",
    "import os\n",
    "home = expanduser(\"~\")\n",
    "work_directory = os.path.join(home, 'aiida')\n",
    "computer_local = get_or_create_local_computer(work_directory, 'localhost')\n",
    "code = get_or_create_code('alamode.alm_opt',\n",
    "                          computer_local,\n",
    "                          '/home/max/Documents/alamode/bin/alm')\n",
    "code_alm_opt = code\n",
    "code = get_or_create_code('alamode.anphon',\n",
    "                          computer_local,\n",
    "                          '/home/max/Documents/alamode/bin/anphon')\n",
    "code_anphon = code\n",
    "\n",
    "code_alm_opt, code_anphon\n"
   ]
  },
  {
   "cell_type": "code",
   "execution_count": 4,
   "id": "38870d0e",
   "metadata": {},
   "outputs": [
    {
     "name": "stdout",
     "output_type": "stream",
     "text": [
      "{'CWD': 'run29'}\n"
     ]
    },
    {
     "data": {
      "text/plain": [
       "'/home/max/Documents/aiida-test/alamode-aiida/example/run29'"
      ]
     },
     "execution_count": 4,
     "metadata": {},
     "output_type": "execute_result"
    }
   ],
   "source": [
    "import json\n",
    "with open(\"setting.json\") as f:\n",
    "    _dic = json.load(f)\n",
    "print(_dic)\n",
    "CWD = _dic[\"CWD\"]\n",
    "_path = os.path.abspath(CWD)\n",
    "os.makedirs(_path, exist_ok=True)\n",
    "_path\n"
   ]
  },
  {
   "cell_type": "code",
   "execution_count": 5,
   "id": "69ca0d11",
   "metadata": {},
   "outputs": [],
   "source": [
    "from os.path import expanduser\n",
    "from tools import NodeBank\n",
    "\n",
    "\n",
    "# 再実行時に作成したノードを用いるためにnodebankを使う。\n",
    "g_force = False\n",
    "nodebank = NodeBank(_path, force=g_force)\n"
   ]
  },
  {
   "cell_type": "code",
   "execution_count": 6,
   "id": "4c40b16d",
   "metadata": {},
   "outputs": [],
   "source": [
    "g_cwd = nodebank.load(\"cwd\")\n",
    "g_dispfile_folder = nodebank.load(\"dispfile_folder\")\n",
    "g_displace_result = nodebank.load(\"displace_result\")\n",
    "g_superstructure = nodebank.load(\"superstructure\")\n"
   ]
  },
  {
   "cell_type": "code",
   "execution_count": 7,
   "id": "ab5f2a79",
   "metadata": {},
   "outputs": [
    {
     "data": {
      "text/plain": [
       "(<Str: uuid: 2d95abd8-df96-46cf-a41e-921191bdf045 (pk: 59120) value: harmonic>,\n",
       " <Int: uuid: ea668f08-633f-4858-9bb2-7bd1fbfe8d0a (pk: 59121) value: 1>,\n",
       " <Str: uuid: 515c8f86-755c-4a1a-a70f-4c994ab22bbd (pk: 59123) value: Ga2N2_1x1x1_harmonic>)"
      ]
     },
     "execution_count": 7,
     "metadata": {},
     "output_type": "execute_result"
    }
   ],
   "source": [
    "g_prefix = nodebank.load('prefix')\n",
    "g_wd = nodebank.load(f\"{g_prefix.value}_almprefix\")  # subdirectory名\n",
    "g_norder = nodebank.load(f\"{g_prefix.value}_norder\")\n",
    "\n",
    "g_prefix,g_norder,g_wd"
   ]
  },
  {
   "cell_type": "markdown",
   "id": "4b0287d9",
   "metadata": {},
   "source": [
    "# alm opt "
   ]
  },
  {
   "cell_type": "code",
   "execution_count": 8,
   "id": "25815d94",
   "metadata": {},
   "outputs": [],
   "source": [
    "g_alamodeextract_future = nodebank.load(f'{g_prefix.value}_extract')\n"
   ]
  },
  {
   "cell_type": "code",
   "execution_count": 9,
   "id": "741b599d",
   "metadata": {},
   "outputs": [
    {
     "data": {
      "text/plain": [
       "<SinglefileData: uuid: bede38b1-4247-41f8-bd11-608fd3a9bff9 (pk: 59275)>"
      ]
     },
     "execution_count": 9,
     "metadata": {},
     "output_type": "execute_result"
    }
   ],
   "source": [
    "g_alamodeextract_future.outputs.dfset_file\n"
   ]
  },
  {
   "cell_type": "code",
   "execution_count": 10,
   "id": "56f736b2",
   "metadata": {},
   "outputs": [
    {
     "data": {
      "text/plain": [
       "<SinglefileData: uuid: bede38b1-4247-41f8-bd11-608fd3a9bff9 (pk: 59275)>"
      ]
     },
     "execution_count": 10,
     "metadata": {},
     "output_type": "execute_result"
    }
   ],
   "source": [
    "g_DFSET_file = g_alamodeextract_future.outputs.dfset_file\n",
    "g_DFSET_file\n"
   ]
  },
  {
   "cell_type": "code",
   "execution_count": null,
   "id": "f806ade5",
   "metadata": {},
   "outputs": [],
   "source": []
  },
  {
   "cell_type": "code",
   "execution_count": 11,
   "id": "abb33bc4",
   "metadata": {},
   "outputs": [
    {
     "data": {
      "text/plain": [
       "<StructureData: uuid: 133fed56-6fda-4abf-b706-e09bb5ffbde2 (pk: 59115)>"
      ]
     },
     "execution_count": 11,
     "metadata": {},
     "output_type": "execute_result"
    }
   ],
   "source": [
    "g_superstructure"
   ]
  },
  {
   "cell_type": "code",
   "execution_count": 12,
   "id": "47293f5a",
   "metadata": {
    "scrolled": false
   },
   "outputs": [
    {
     "name": "stdout",
     "output_type": "stream",
     "text": [
      "uuid: 547aa5dc-3924-4458-a614-37a3f606fa13 (pk: 59282) (aiida.calculations:alamode.alm_opt)\n",
      "wait another 2 sec.\n",
      "wait another 2 sec.\n",
      "wait another 2 sec.\n",
      "wait another 2 sec.\n",
      "wait another 2 sec.\n",
      "wait another 2 sec.\n",
      "True True\n"
     ]
    }
   ],
   "source": [
    "code = code_alm_opt\n",
    "\n",
    "builder = code.get_builder()\n",
    "builder.structure = g_superstructure  # 　安定構造\n",
    "builder.prefix = g_prefix\n",
    "builder.cwd = g_cwd\n",
    "builder.norder = g_norder\n",
    "builder.dfset_file = g_DFSET_file\n",
    "\n",
    "g_almoptfuture = submit(builder)\n",
    "print(g_almoptfuture)\n",
    "wait_for_node_finished(g_almoptfuture)\n"
   ]
  },
  {
   "cell_type": "code",
   "execution_count": 13,
   "id": "c592d96a",
   "metadata": {},
   "outputs": [
    {
     "data": {
      "text/plain": [
       "<SinglefileData: uuid: 65449d6d-0d4f-402a-b60f-ac8ee87375e4 (pk: 59285)>"
      ]
     },
     "execution_count": 13,
     "metadata": {},
     "output_type": "execute_result"
    }
   ],
   "source": [
    "nodebank.dump(\"anphonfile_xml\", g_almoptfuture.outputs.input_ANPHON_file)\n"
   ]
  },
  {
   "cell_type": "code",
   "execution_count": 14,
   "id": "c9706f34",
   "metadata": {},
   "outputs": [
    {
     "data": {
      "text/plain": [
       "{'constraint': {'constraint_T-inv': 10,\n",
       "  'num_free_HARMINC_FCs': 62,\n",
       "  'constraint_R-inv_self': 0,\n",
       "  'constraint_R-inv_cross': 0,\n",
       "  'inqeuv_constraint_self': 108,\n",
       "  'inqeuv_constraint_cross': 0},\n",
       " 'outputfiles': {'input_ANPHON': 'harmonic.xml',\n",
       "  'force_constants': 'harmonic.fcs'},\n",
       " 'optimization': {'RSS': 0.00077648,\n",
       "  'LMODEL': 'least-squares',\n",
       "  'num_param': 170,\n",
       "  'fitting_error': 1.9234,\n",
       "  'num_free_param': 62,\n",
       "  'rank_of_matrix': 62}}"
      ]
     },
     "execution_count": 14,
     "metadata": {},
     "output_type": "execute_result"
    }
   ],
   "source": [
    "g_almoptfuture.outputs.results.attributes"
   ]
  },
  {
   "cell_type": "markdown",
   "id": "ed903fcc",
   "metadata": {},
   "source": [
    "# phonon dispersion"
   ]
  },
  {
   "cell_type": "code",
   "execution_count": 15,
   "id": "d0a5ca55",
   "metadata": {},
   "outputs": [
    {
     "data": {
      "text/plain": [
       "<Str: uuid: ce1542b4-8c75-4a89-8ecc-eef6dac75026 (pk: 59093) value: /home/max/Documents/aiida-test/alamode-aiida/example/run29>"
      ]
     },
     "execution_count": 15,
     "metadata": {},
     "output_type": "execute_result"
    }
   ],
   "source": [
    "g_root_wd = nodebank.load(\"root_wd\")\n",
    "g_root_wd  # 実行root directory\n"
   ]
  },
  {
   "cell_type": "code",
   "execution_count": 16,
   "id": "1b523fd0",
   "metadata": {},
   "outputs": [
    {
     "data": {
      "text/plain": [
       "<Str: uuid: 515c8f86-755c-4a1a-a70f-4c994ab22bbd (pk: 59123) value: Ga2N2_1x1x1_harmonic>"
      ]
     },
     "execution_count": 16,
     "metadata": {},
     "output_type": "execute_result"
    }
   ],
   "source": [
    "g_wd  # subdirectory名\n"
   ]
  },
  {
   "cell_type": "code",
   "execution_count": 17,
   "id": "49ed1974",
   "metadata": {},
   "outputs": [],
   "source": [
    "g_property = Str(os.path.join(g_root_wd.value, \"property\")\n",
    "                 )  # property directory\n",
    "os.makedirs(g_property.value, exist_ok=True)\n",
    "g_primstructure = nodebank.load(\"primstructure\")  # primitive cell\n"
   ]
  },
  {
   "cell_type": "code",
   "execution_count": 18,
   "id": "f8e0c7e0",
   "metadata": {},
   "outputs": [
    {
     "name": "stdout",
     "output_type": "stream",
     "text": [
      "uuid: f95ea744-c1d5-43df-abc8-17cdc9483c15 (pk: 59295) (aiida.calculations:alamode.anphon)\n",
      "wait another 5 sec.\n",
      "wait another 5 sec.\n",
      "True True\n"
     ]
    }
   ],
   "source": [
    "code = code_anphon\n",
    "\n",
    "builder = code.get_builder()\n",
    "builder.structure = g_primstructure\n",
    "builder.prefix = g_wd\n",
    "builder.cwd = g_property\n",
    "builder.fcsxml = g_almoptfuture.outputs.input_ANPHON_file\n",
    "builder.mode = Str(\"phonons\")\n",
    "builder.phonons_mode = Str(\"band\")\n",
    "\n",
    "g_phbandfuture = submit(builder)\n",
    "print(g_phbandfuture)\n",
    "wait_for_node_finished(g_phbandfuture, 5)\n"
   ]
  },
  {
   "cell_type": "code",
   "execution_count": 19,
   "id": "fe170051",
   "metadata": {},
   "outputs": [
    {
     "data": {
      "text/plain": [
       "Atoms(symbols='Ga2N2', pbc=False, cell=[[3.19, 0.0, 0.0], [-1.595, 2.7626210380724, 0.0], [0.0, 0.0, 5.189]], masses=...)"
      ]
     },
     "execution_count": 19,
     "metadata": {},
     "output_type": "execute_result"
    }
   ],
   "source": [
    "g_primstructure.get_ase()\n"
   ]
  },
  {
   "cell_type": "code",
   "execution_count": 20,
   "id": "4ac1c512",
   "metadata": {},
   "outputs": [
    {
     "name": "stdout",
     "output_type": "stream",
     "text": [
      "[1 1 1]\n"
     ]
    }
   ],
   "source": [
    "g_diag = nodebank.load(\"diag\")\n",
    "print(g_diag.get_array('diag'))\n"
   ]
  },
  {
   "cell_type": "code",
   "execution_count": 21,
   "id": "2caf392b",
   "metadata": {},
   "outputs": [
    {
     "data": {
      "text/plain": [
       "[10, 10, 10]"
      ]
     },
     "execution_count": 21,
     "metadata": {},
     "output_type": "execute_result"
    }
   ],
   "source": [
    "# from alamode_aiida.alm_input import make_alm_uniform_kmesh\n",
    "# g_qmesh_value = make_alm_uniform_kmesh(g_primstructure.get_ase(),kspacing=0.001)\n",
    "g_qmesh = List(list=[10, 10, 10])  # qmeshの定義\n",
    "g_qmesh.get_list()\n"
   ]
  },
  {
   "cell_type": "code",
   "execution_count": 22,
   "id": "becdb9f4",
   "metadata": {},
   "outputs": [
    {
     "name": "stdout",
     "output_type": "stream",
     "text": [
      "Ga2N2_1x1x1_harmonic_q10x10x10\n"
     ]
    },
    {
     "data": {
      "text/plain": [
       "<Str: uuid: cb430894-4dcc-494b-b0fb-e334fc3830df (unstored) value: Ga2N2_1x1x1_harmonic_q10x10x10>"
      ]
     },
     "execution_count": 22,
     "metadata": {},
     "output_type": "execute_result"
    }
   ],
   "source": [
    "g_almprefix = \"_\".join([g_primstructure.get_formula(),\n",
    "                        \"x\".join(map(str, g_diag.get_array(\"diag\"))),\n",
    "                        g_prefix.value,\n",
    "                       \"q\"+\"x\".join(map(str, g_qmesh.get_list()))\n",
    "                        ])\n",
    "print(g_almprefix)\n",
    "\n",
    "g_wd_dos = Str(g_almprefix)\n",
    "g_wd_dos  # dos用の識別子\n"
   ]
  },
  {
   "cell_type": "code",
   "execution_count": 23,
   "id": "d43c6352",
   "metadata": {},
   "outputs": [
    {
     "name": "stdout",
     "output_type": "stream",
     "text": [
      "uuid: bd09a773-6811-4ed5-9e74-077983495935 (pk: 59307) (aiida.calculations:alamode.anphon)\n",
      "wait another 5 sec.\n",
      "wait another 5 sec.\n",
      "True True\n"
     ]
    }
   ],
   "source": [
    "#codename = \"anphon@tutor\"\n",
    "#code = Code.get_from_string(codename)\n",
    "code = code_anphon\n",
    "\n",
    "\n",
    "builder = code.get_builder()\n",
    "builder.structure = g_primstructure\n",
    "builder.prefix = g_wd_dos\n",
    "builder.cwd = g_property\n",
    "# builder.norder = g_norder\n",
    "builder.fcsxml = g_almoptfuture.outputs.input_ANPHON_file\n",
    "builder.mode = Str(\"phonons\")\n",
    "builder.phonons_mode = Str(\"dos\")\n",
    "builder.qmesh = g_qmesh\n",
    "\n",
    "g_phdosfuture = submit(builder)\n",
    "print(g_phdosfuture)\n",
    "wait_for_node_finished(g_phdosfuture, 5)\n"
   ]
  },
  {
   "cell_type": "markdown",
   "id": "2e2f15ca",
   "metadata": {},
   "source": [
    "# plot dispersion"
   ]
  },
  {
   "cell_type": "code",
   "execution_count": 24,
   "id": "e56f00a3",
   "metadata": {},
   "outputs": [
    {
     "data": {
      "text/plain": [
       "<Str: uuid: 515c8f86-755c-4a1a-a70f-4c994ab22bbd (pk: 59123) value: Ga2N2_1x1x1_harmonic>"
      ]
     },
     "execution_count": 24,
     "metadata": {},
     "output_type": "execute_result"
    }
   ],
   "source": [
    "g_wd\n"
   ]
  },
  {
   "cell_type": "code",
   "execution_count": 25,
   "id": "2d005c34",
   "metadata": {},
   "outputs": [
    {
     "name": "stdout",
     "output_type": "stream",
     "text": [
      "{'cwd': <Str: uuid: 218ac17a-c77c-4830-b4bd-16300bbde52a (pk: 59288) value: /home/max/Documents/aiida-test/alamode-aiida/example/run29/property>, 'band_filenames': <SinglefileData: uuid: 8830bdc2-485b-4568-897b-776031be24a8 (pk: 59298)>, 'prefix': <Str: uuid: 515c8f86-755c-4a1a-a70f-4c994ab22bbd (pk: 59123) value: Ga2N2_1x1x1_harmonic>}\n"
     ]
    }
   ],
   "source": [
    "phbandworkchain = WorkflowFactory('alamode.phband_img')\n",
    "# g_img_filename = Str(f\"{g_wd.value}_phband.pdf\")\n",
    "g_band_filenames = g_phbandfuture.outputs.phband_file\n",
    "inputs = {\"cwd\": g_property, \"band_filenames\": g_band_filenames, \"prefix\": g_wd}\n",
    "print(inputs)\n"
   ]
  },
  {
   "cell_type": "code",
   "execution_count": 26,
   "id": "826e206f",
   "metadata": {},
   "outputs": [
    {
     "name": "stdout",
     "output_type": "stream",
     "text": [
      "uuid: 62d586fa-dd23-4902-af89-f6865ca42c2d (pk: 59315) (aiida.workflows:alamode.phband_img)\n",
      "wait another 2 sec.\n",
      "True True\n"
     ]
    }
   ],
   "source": [
    "\n",
    "phbandimgworkchain = submit(phbandworkchain, **inputs)\n",
    "print(phbandimgworkchain)\n",
    "wait_for_node_finished(phbandimgworkchain)\n"
   ]
  },
  {
   "cell_type": "code",
   "execution_count": 27,
   "id": "bb895336",
   "metadata": {},
   "outputs": [
    {
     "data": {
      "text/plain": [
       "'Ga2N2_1x1x1_harmonic_phband.pdf'"
      ]
     },
     "execution_count": 27,
     "metadata": {},
     "output_type": "execute_result"
    }
   ],
   "source": [
    "phbandimgworkchain.outputs.img_file.filename  # g_property directoryの出力ファイル\n"
   ]
  },
  {
   "cell_type": "markdown",
   "id": "b52e29fe",
   "metadata": {},
   "source": [
    "# plot DOS"
   ]
  },
  {
   "cell_type": "code",
   "execution_count": 28,
   "id": "65f90ee0",
   "metadata": {},
   "outputs": [
    {
     "name": "stdout",
     "output_type": "stream",
     "text": [
      "{'cwd': <Str: uuid: 218ac17a-c77c-4830-b4bd-16300bbde52a (pk: 59288) value: /home/max/Documents/aiida-test/alamode-aiida/example/run29/property>, 'dos_filenames': <SinglefileData: uuid: 7c59400b-99ce-4d75-ad55-7f3f1683333d (pk: 59310)>, 'prefix': <Str: uuid: cb430894-4dcc-494b-b0fb-e334fc3830df (pk: 59300) value: Ga2N2_1x1x1_harmonic_q10x10x10>}\n",
      "uuid: 3d45aa26-9446-41e5-9c3b-0266bc6ac1a1 (pk: 59320) (aiida.workflows:alamode.phdos_img)\n",
      "wait another 2 sec.\n",
      "True True\n"
     ]
    },
    {
     "data": {
      "text/plain": [
       "'Ga2N2_1x1x1_harmonic_q10x10x10_phdos.pdf'"
      ]
     },
     "execution_count": 28,
     "metadata": {},
     "output_type": "execute_result"
    }
   ],
   "source": [
    "\n",
    "phdosworkchain = WorkflowFactory('alamode.phdos_img')\n",
    "\n",
    "inputs = {\"cwd\": g_property, \"dos_filenames\": g_phdosfuture.outputs.phdos_file,\n",
    "          \"prefix\": g_wd_dos}\n",
    "print(inputs)\n",
    "\n",
    "g_dosfuture = submit(phdosworkchain, **inputs)\n",
    "print(g_dosfuture)\n",
    "wait_for_node_finished(g_dosfuture)\n",
    "g_dosfuture.outputs.img_file.filename\n"
   ]
  },
  {
   "cell_type": "markdown",
   "id": "84a9e236",
   "metadata": {},
   "source": [
    "## free energies"
   ]
  },
  {
   "cell_type": "code",
   "execution_count": 29,
   "id": "1009b3bc",
   "metadata": {},
   "outputs": [
    {
     "name": "stdout",
     "output_type": "stream",
     "text": [
      "uuid: 50f9d916-151d-41fa-b429-955d1ab34590 (pk: 59325) (aiida.workflows:alamode.freeenergy_img)\n",
      "wait another 2 sec.\n",
      "True True\n"
     ]
    }
   ],
   "source": [
    "FreeenergyImgWorkChain = WorkflowFactory(\"alamode.freeenergy_img\")\n",
    "g_img_filename = Str(\"phdos_freeenergy.pdf\")\n",
    "g_inputs = {'cwd': g_property, 'prefix': g_wd_dos,\n",
    "            'thermo_file': g_phdosfuture.outputs.thermo_file}\n",
    "\n",
    "freeenergyimgfuture = nodebank.load(\"freeenergyimg\", g_force)\n",
    "if freeenergyimgfuture is None:\n",
    "    # if True:\n",
    "    freeenergyimgfuture = submit(FreeenergyImgWorkChain, **g_inputs)\n",
    "    print(freeenergyimgfuture)\n",
    "    wait_for_node_finished(freeenergyimgfuture)\n",
    "    if freeenergyimgfuture.is_finished_ok:\n",
    "        nodebank.dump(\"freeenergyimg\", freeenergyimgfuture)\n"
   ]
  },
  {
   "cell_type": "code",
   "execution_count": 30,
   "id": "9fcd2fbb",
   "metadata": {},
   "outputs": [
    {
     "data": {
      "text/plain": [
       "['Ga2N2_1x1x1_harmonic_q10x10x10_phfreeenergy.pdf']"
      ]
     },
     "execution_count": 30,
     "metadata": {},
     "output_type": "execute_result"
    }
   ],
   "source": [
    "freeenergyimgfuture.outputs.img_file.list_object_names()\n"
   ]
  },
  {
   "cell_type": "code",
   "execution_count": null,
   "id": "4ed01959",
   "metadata": {},
   "outputs": [],
   "source": []
  }
 ],
 "metadata": {
  "kernelspec": {
   "display_name": "py39",
   "language": "python",
   "name": "py39"
  },
  "language_info": {
   "codemirror_mode": {
    "name": "ipython",
    "version": 3
   },
   "file_extension": ".py",
   "mimetype": "text/x-python",
   "name": "python",
   "nbconvert_exporter": "python",
   "pygments_lexer": "ipython3",
   "version": "3.9.13"
  }
 },
 "nbformat": 4,
 "nbformat_minor": 5
}
