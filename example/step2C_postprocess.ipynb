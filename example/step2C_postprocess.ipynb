{
 "cells": [
  {
   "cell_type": "code",
   "execution_count": null,
   "id": "736a131b",
   "metadata": {},
   "outputs": [],
   "source": [
    "import aiida\n",
    "\n",
    "# must execute it in the first place\n",
    "aiida.load_profile()\n"
   ]
  },
  {
   "cell_type": "code",
   "execution_count": null,
   "id": "678f94ab",
   "metadata": {},
   "outputs": [],
   "source": [
    "from aiida.orm import Code\n",
    "from aiida.orm import Str, Int, Dict, List\n",
    "from aiida.engine import calcfunction, WorkChain, ToContext, append_\n",
    "from aiida.plugins import DataFactory, WorkflowFactory\n",
    "from itertools import cycle\n",
    "import os\n",
    "from tools import wait_for_node_finished\n",
    "from aiida.engine import calcfunction, workfunction, submit, run, run_get_node\n",
    "from aiida.orm import load_code, load_node\n",
    "\n",
    "# load types\n",
    "StructureData = DataFactory('structure')\n",
    "FolderData = DataFactory('folder')\n",
    "SinglefileData = DataFactory('singlefile')\n",
    "ArrayData = DataFactory('array')\n",
    "List = DataFactory('list')\n"
   ]
  },
  {
   "cell_type": "code",
   "execution_count": null,
   "id": "19dac063",
   "metadata": {},
   "outputs": [],
   "source": [
    "# codeの定義を行う。\n",
    "from tools.aiida_support import get_or_create_local_computer, get_or_create_code\n",
    "from os.path import expanduser\n",
    "import os\n",
    "home = expanduser(\"~\")\n",
    "work_directory = os.path.join(home, 'aiida')\n",
    "computer_local = get_or_create_local_computer(work_directory, 'localhost')\n",
    "\n",
    "if True:\n",
    "    code = get_or_create_code('alamode.alm_opt',\n",
    "                              computer_local,\n",
    "                              '/home/max/Documents/alamode/bin/alm')\n",
    "    code_alm_opt = code\n",
    "else:\n",
    "    code_alm_opt = WorkflowFactory('alamode.alm_ALM_opt')\n",
    "\n",
    "\n",
    "code = get_or_create_code('alamode.anphon',\n",
    "                          computer_local,\n",
    "                          '/home/max/Documents/alamode/bin/anphon')\n",
    "code_anphon = code\n",
    "\n",
    "code_alm_opt, code_anphon\n"
   ]
  },
  {
   "cell_type": "code",
   "execution_count": null,
   "id": "38870d0e",
   "metadata": {},
   "outputs": [],
   "source": [
    "import json\n",
    "with open(\"setting.json\") as f:\n",
    "    _dic = json.load(f)\n",
    "print(_dic)\n",
    "CWD = _dic[\"CWD\"]\n",
    "_path = os.path.abspath(CWD)\n",
    "os.makedirs(_path, exist_ok=True)\n",
    "_path\n"
   ]
  },
  {
   "cell_type": "code",
   "execution_count": null,
   "id": "69ca0d11",
   "metadata": {},
   "outputs": [],
   "source": [
    "from os.path import expanduser\n",
    "from tools import NodeBank\n",
    "\n",
    "# 再実行時に作成したノードを用いるためにnodebankを使う。\n",
    "g_force = False\n",
    "nodebank = NodeBank(_path, force=g_force)\n"
   ]
  },
  {
   "cell_type": "code",
   "execution_count": null,
   "id": "4c40b16d",
   "metadata": {},
   "outputs": [],
   "source": [
    "g_cwd = nodebank.load(\"cwd\")\n",
    "#g_dispfile_folder = nodebank.load(\"dispfile_folder\")\n",
    "#g_displace_result = nodebank.load(\"displace_result\")\n",
    "g_superstructure = nodebank.load(\"superstructure\")\n",
    "g_standardizedstructure = nodebank.load(\"standardizedstructure\")\n"
   ]
  },
  {
   "cell_type": "code",
   "execution_count": null,
   "id": "ab5f2a79",
   "metadata": {},
   "outputs": [],
   "source": [
    "g_prefix = nodebank.load('prefix')\n",
    "g_norder = nodebank.load(f\"{g_prefix.value}_norder\")\n",
    "g_factor = nodebank.load('factor')\n",
    "g_prefix,g_norder, g_factor\n"
   ]
  },
  {
   "cell_type": "markdown",
   "id": "4b0287d9",
   "metadata": {},
   "source": [
    "# alm opt \n",
    "```\n",
    "Description:\n",
    "\n",
    "\talm mode=\"opt\"\n",
    "\t\n",
    "\tdefault input filename: alm_opt.in\n",
    "\tdefault output filename: alm_opt.out\n",
    "\n",
    "Inputs:\n",
    "             code:  required  Code             The `Code` to use for this job.\n",
    "            dfset:  required  List             DFSET\n",
    "           norder:  required  Int              1 (harmonic) or 2 (cubic)\n",
    "        structure:  required  StructureData    structure of cyrstal.\n",
    "           cutoff:  optional  Dict             distance cutoff\n",
    "              cwd:  optional  Str              directory where results are saved.\n",
    "           fc2xml:  optional  List             xml file for the cubic term\n",
    "         metadata:  optional                   \n",
    "             mode:  optional  Str              mode of alm='opt'\n",
    "            param:  optional  Dict             optional parameters\n",
    "Outputs:\n",
    "  force_constants:  required  List             force constants.\n",
    "     input_ANPHON:  required  List             ANPHON file\n",
    "    remote_folder:  required  RemoteData       Input files necessary to run the process will be stored in this folder node ...\n",
    "          results:  required  Dict             \n",
    "        retrieved:  required  FolderData       Files that are retrieved by the daemon will be stored in this node. By defa ...\n",
    "     remote_stash:  optional  RemoteStashData  Contents of the `stash.source_list` option are stored in this remote folder ...\n",
    "\n",
    "```"
   ]
  },
  {
   "cell_type": "code",
   "execution_count": null,
   "id": "25815d94",
   "metadata": {},
   "outputs": [],
   "source": [
    "g_alamodeextract_future = nodebank.load(f'{g_prefix.value}_extract')\n"
   ]
  },
  {
   "cell_type": "code",
   "execution_count": null,
   "id": "56f736b2",
   "metadata": {},
   "outputs": [],
   "source": [
    "g_DFSET = g_alamodeextract_future.outputs.dfset\n",
    "g_DFSET\n"
   ]
  },
  {
   "cell_type": "code",
   "execution_count": null,
   "id": "abb33bc4",
   "metadata": {},
   "outputs": [],
   "source": [
    "g_superstructure"
   ]
  },
  {
   "cell_type": "code",
   "execution_count": null,
   "id": "47293f5a",
   "metadata": {},
   "outputs": [],
   "source": [
    "codetype =  \"calculation\"\n",
    "try:\n",
    "    if issubclass(code_alm_opt, WorkChain):\n",
    "        codetype = \"workchain\"\n",
    "except TypeError:\n",
    "    codetype = \"calculation\"\n",
    "    \n",
    "\n",
    "if codetype== \"workchain\":\n",
    "    print(\"workchain\")\n",
    "    code = code_alm_opt\n",
    "\n",
    "    inputs = {\"structure\": g_superstructure , # 　安定構造\n",
    "            \"cwd\" : Str(os.path.join(g_cwd.value, f\"{g_prefix.value}_opt\")),\n",
    "            \"cutoff_radii\": List(list=[[-1]]),\n",
    "            \"nbody\": List(list=[[2]]),\n",
    "            \"norder\":  g_norder,\n",
    "            \"dfset\": g_DFSET}\n",
    "    \n",
    "    \n",
    "    key = f'{g_prefix.value}_ALM_opt'\n",
    "    g_almoptfuture = nodebank.load(key, raise_error=False)\n",
    "    if g_almoptfuture is None:\n",
    "        g_almoptfuture = submit(code_alm_opt, **inputs)\n",
    "        print(g_almoptfuture)\n",
    "        wait_for_node_finished(g_almoptfuture)\n",
    "        nodebank.dump(key, g_almoptfuture)   \n",
    "\n",
    "else:\n",
    "    print(\"code\")\n",
    "    code = code_alm_opt\n",
    "\n",
    "    builder = code.get_builder()\n",
    "    builder.structure = g_superstructure  # 　安定構造\n",
    "    builder.cwd = Str(os.path.join(g_cwd.value, f\"{g_prefix.value}_opt\"))\n",
    "    builder.norder = g_norder\n",
    "    builder.dfset = g_DFSET\n",
    "    \n",
    "    key = f'{g_prefix.value}_opt'\n",
    "    g_almoptfuture = nodebank.load_code_or_wait_for_node(key, builder)\n",
    "    if False:\n",
    "        g_almoptfuture = nodebank.load(key, raise_error=False)\n",
    "        if g_almoptfuture is None:\n",
    "            g_almoptfuture = submit(builder)\n",
    "            print(g_almoptfuture)\n",
    "            wait_for_node_finished(g_almoptfuture)\n",
    "            nodebank.dump(key, g_almoptfuture)\n"
   ]
  },
  {
   "cell_type": "code",
   "execution_count": null,
   "id": "a35287b3",
   "metadata": {},
   "outputs": [],
   "source": [
    "g_almoptfuture"
   ]
  },
  {
   "cell_type": "code",
   "execution_count": null,
   "id": "2233c723",
   "metadata": {},
   "outputs": [],
   "source": [
    "g_almoptfuture.outputs.results.attributes"
   ]
  },
  {
   "cell_type": "code",
   "execution_count": null,
   "id": "c31a8909",
   "metadata": {},
   "outputs": [],
   "source": [
    "g_almoptfuture.outputs.input_ANPHON.list_object_names()"
   ]
  },
  {
   "cell_type": "code",
   "execution_count": null,
   "id": "c592d96a",
   "metadata": {},
   "outputs": [],
   "source": [
    "nodebank.dump(\"anphonfile_xml\", g_almoptfuture.outputs.input_ANPHON)\n"
   ]
  },
  {
   "cell_type": "code",
   "execution_count": null,
   "id": "c9706f34",
   "metadata": {},
   "outputs": [],
   "source": [
    "g_almoptfuture.outputs.results"
   ]
  },
  {
   "cell_type": "markdown",
   "id": "ed903fcc",
   "metadata": {},
   "source": [
    "# phonon dispersion"
   ]
  },
  {
   "cell_type": "code",
   "execution_count": null,
   "id": "d0a5ca55",
   "metadata": {},
   "outputs": [],
   "source": [
    "g_root_wd = nodebank.load(\"root_wd\")\n",
    "g_root_wd  # 実行root directory\n"
   ]
  },
  {
   "cell_type": "code",
   "execution_count": null,
   "id": "1b523fd0",
   "metadata": {},
   "outputs": [],
   "source": [
    "g_almprefix = \"_\".join([g_standardizedstructure.get_formula(),\n",
    "                        \"x\".join(map(str, g_factor.get_array(\"factor\").reshape(-1))),\n",
    "                        g_prefix.value\n",
    "                        ])\n",
    "g_dispersionprefix = Str(g_almprefix)\n",
    "print(g_dispersionprefix)"
   ]
  },
  {
   "cell_type": "code",
   "execution_count": null,
   "id": "49ed1974",
   "metadata": {},
   "outputs": [],
   "source": [
    "g_property = Str(os.path.join(g_root_wd.value, \"property\")\n",
    "                 )  # property directory\n",
    "os.makedirs(g_property.value, exist_ok=True)\n",
    "g_primstructure = nodebank.load(\"primstructure\")  # primitive cell\n"
   ]
  },
  {
   "cell_type": "markdown",
   "id": "beda82b8",
   "metadata": {},
   "source": [
    "# alamode.anphon\n",
    "```\n",
    "Description:\n",
    "\n",
    "\tNo description available\n",
    "\n",
    "Inputs:\n",
    "           code:  required  Code             The `Code` to use for this job.\n",
    "            cwd:  required  Str              directory where results are saved.\n",
    "         fcsxml:  required  List             xml file\n",
    "      structure:  required  StructureData    primitive structure.\n",
    "     kappa_spec:  optional  Int              \n",
    "       metadata:  optional                   \n",
    "           mode:  optional  Str              anphon mode\n",
    "         norder:  optional  Int              1 (harmonic) or 2 (cubic)\n",
    "          param:  optional  Dict             additional parameters\n",
    "   phonons_mode:  optional  Str              phonon mode\n",
    "         prefix:  optional  Str              string added to filename.\n",
    "          qmesh:  optional  List             phonon k-mesh\n",
    "Outputs:\n",
    "             kl:  required  ArrayData        \n",
    "        kl_file:  required  SinglefileData   \n",
    "        kl_spec:  required  ArrayData        \n",
    "   kl_spec_file:  required  SinglefileData   \n",
    "    phband_file:  required  SinglefileData   \n",
    "     phdos_file:  required  SinglefileData   \n",
    "  remote_folder:  required  RemoteData       Input files necessary to run the process will be stored in this folder node ...\n",
    "    result_file:  required  SinglefileData   \n",
    "        results:  required  Dict             \n",
    "      retrieved:  required  FolderData       Files that are retrieved by the daemon will be stored in this node. By defa ...\n",
    "    thermo_file:  required  SinglefileData   \n",
    "   remote_stash:  optional  RemoteStashData  Contents of the `stash.source_list` option are stored in this remote folder ...\n",
    "\n",
    "```"
   ]
  },
  {
   "cell_type": "code",
   "execution_count": null,
   "id": "f8e0c7e0",
   "metadata": {},
   "outputs": [],
   "source": [
    "code = code_anphon\n",
    "\n",
    "builder = code.get_builder()\n",
    "builder.structure = g_primstructure\n",
    "builder.prefix = g_dispersionprefix\n",
    "builder.cwd = g_property\n",
    "builder.fcsxml = g_almoptfuture.outputs.input_ANPHON\n",
    "builder.mode = Str(\"phonons\")\n",
    "builder.phonons_mode = Str(\"band\")\n",
    "\n",
    "g_phbandfuture = nodebank.load('phband', raise_error=False)\n",
    "if g_phbandfuture is None:\n",
    "    g_phbandfuture = submit(builder)\n",
    "    print(g_phbandfuture)\n",
    "    wait_for_node_finished(g_phbandfuture, 5)\n",
    "    if not g_phbandfuture.is_finished_ok:\n",
    "        raise\n",
    "    nodebank.dump('phband',g_phbandfuture)"
   ]
  },
  {
   "cell_type": "code",
   "execution_count": null,
   "id": "7ceb51bc",
   "metadata": {},
   "outputs": [],
   "source": [
    "g_phbandfuture.is_finished_ok"
   ]
  },
  {
   "cell_type": "code",
   "execution_count": null,
   "id": "fe170051",
   "metadata": {},
   "outputs": [],
   "source": [
    "g_phbandfuture.outputs.phband_file"
   ]
  },
  {
   "cell_type": "markdown",
   "id": "b1734236",
   "metadata": {},
   "source": [
    "# phonon DOS"
   ]
  },
  {
   "cell_type": "code",
   "execution_count": null,
   "id": "2caf392b",
   "metadata": {},
   "outputs": [],
   "source": [
    "# from alamode_aiida.alm_input import make_alm_uniform_kmesh\n",
    "# g_qmesh_value = make_alm_uniform_kmesh(g_primstructure.get_ase(),kspacing=0.001)\n",
    "g_qmesh = List(list=[10, 10, 10])  # qmeshの定義\n",
    "g_qmesh.get_list()\n"
   ]
  },
  {
   "cell_type": "code",
   "execution_count": null,
   "id": "becdb9f4",
   "metadata": {},
   "outputs": [],
   "source": [
    "g_almprefix = \"_\".join([g_primstructure.get_formula(),\n",
    "                        \"x\".join(map(str, g_factor.get_array(\"factor\").reshape(-1))),\n",
    "                        g_prefix.value,\n",
    "                       \"q\"+\"x\".join(map(str, g_qmesh.get_list()))\n",
    "                        ])\n",
    "print(g_almprefix)\n",
    "\n",
    "g_dosprefix = Str(g_almprefix)\n",
    "g_dosprefix  # dos用の識別子\n"
   ]
  },
  {
   "cell_type": "code",
   "execution_count": null,
   "id": "d43c6352",
   "metadata": {},
   "outputs": [],
   "source": [
    "#codename = \"anphon@tutor\"\n",
    "#code = Code.get_from_string(codename)\n",
    "code = code_anphon\n",
    "\n",
    "builder = code.get_builder()\n",
    "builder.structure = g_primstructure\n",
    "builder.prefix = g_dosprefix\n",
    "builder.cwd = g_property\n",
    "builder.fcsxml = g_almoptfuture.outputs.input_ANPHON\n",
    "builder.mode = Str(\"phonons\")\n",
    "builder.phonons_mode = Str(\"dos\")\n",
    "builder.qmesh = g_qmesh\n",
    "\n",
    "g_phdosfuture = nodebank.load('phdos', raise_error=False)\n",
    "if g_phdosfuture is None:\n",
    "    g_phdosfuture = submit(builder)\n",
    "    print(g_phdosfuture)\n",
    "    wait_for_node_finished(g_phdosfuture, 5)\n",
    "    if not g_phdosfuture:\n",
    "        raise\n",
    "    nodebank.dump('phdos',g_phdosfuture)"
   ]
  },
  {
   "cell_type": "markdown",
   "id": "2e2f15ca",
   "metadata": {},
   "source": [
    "# plot dispersion\n",
    "\n",
    "```\n",
    "Description:\n",
    "\n",
    "\tPhonon band workchain.\n",
    "\t\n",
    "\tband_filenames should support valid_type (SinglefileData, FolderData).\n",
    "\n",
    "Inputs:\n",
    "  band_filenames:  required  Str, List, SinglefileData  phonon band filenames\n",
    "             cwd:  required  Str                        directory where results are saved.\n",
    "          prefix:  required  Str                        string added to filenames.\n",
    "    img_filename:  optional  Str                        image filename\n",
    "        metadata:  optional                             \n",
    "        unitname:  optional  Str                        unit of energy\n",
    "Outputs:\n",
    "        img_file:  required  SinglefileData        \n",
    "```"
   ]
  },
  {
   "cell_type": "code",
   "execution_count": null,
   "id": "e56f00a3",
   "metadata": {},
   "outputs": [],
   "source": [
    "g_phbandfuture.outputs.results.attributes\n"
   ]
  },
  {
   "cell_type": "code",
   "execution_count": null,
   "id": "2d005c34",
   "metadata": {},
   "outputs": [],
   "source": [
    "phbandworkchain = WorkflowFactory('alamode.phband_img')\n",
    "g_band_filenames = g_phbandfuture.outputs.phband_file\n",
    "inputs = {\"cwd\": g_property, \"band_file\": g_band_filenames, \"prefix\": g_dispersionprefix}\n",
    "print(inputs)\n"
   ]
  },
  {
   "cell_type": "code",
   "execution_count": null,
   "id": "229d2221",
   "metadata": {},
   "outputs": [],
   "source": [
    "#phbandimgworkchain = run(phbandworkchain, **inputs)\n",
    "#phbandimgworkchain"
   ]
  },
  {
   "cell_type": "code",
   "execution_count": null,
   "id": "826e206f",
   "metadata": {},
   "outputs": [],
   "source": [
    "phbandimgworkchain = submit(phbandworkchain, **inputs)\n",
    "print(phbandimgworkchain)\n",
    "wait_for_node_finished(phbandimgworkchain)\n",
    "if not phbandimgworkchain.is_finished_ok:\n",
    "    raise"
   ]
  },
  {
   "cell_type": "code",
   "execution_count": null,
   "id": "8e3fed0b",
   "metadata": {},
   "outputs": [],
   "source": [
    "phbandimgworkchain.outputs.img_file.list_object_names()[0]"
   ]
  },
  {
   "cell_type": "code",
   "execution_count": null,
   "id": "b240bdef",
   "metadata": {},
   "outputs": [],
   "source": [
    "from wand.image import Image as WImage\n",
    "filename = os.path.join(g_property.value, phbandimgworkchain.outputs.img_file.list_object_names()[0])\n",
    "img = WImage(filename=filename)\n",
    "img"
   ]
  },
  {
   "cell_type": "markdown",
   "id": "b52e29fe",
   "metadata": {},
   "source": [
    "# plot DOS\n",
    "\n",
    "```\n",
    "Description:\n",
    "\n",
    "\tPhonon DOS workchain.\n",
    "\t\n",
    "\tdos_filenames should support valid_type (SinglefileData, FolderData).\n",
    "\n",
    "Inputs:\n",
    "            cwd:  required  Str                        directory where results are saved.\n",
    "  dos_filenames:  required  Str, List, SinglefileData  phonon dos\n",
    "         prefix:  required  Str                        string added to filenames\n",
    "   img_filename:  optional  Str                        image filename\n",
    "       metadata:  optional                             \n",
    "       unitname:  optional  Str                        unit of energy\n",
    "Outputs:\n",
    "       img_file:  required  SinglefileData             image file\n",
    "```\n"
   ]
  },
  {
   "cell_type": "code",
   "execution_count": null,
   "id": "65f90ee0",
   "metadata": {},
   "outputs": [],
   "source": [
    "\n",
    "phdosworkchain = WorkflowFactory('alamode.phdos_img')\n",
    "\n",
    "inputs = {\"cwd\": g_property, \"dos_file\": g_phdosfuture.outputs.phdos_file,\n",
    "          \"prefix\": g_dosprefix}\n",
    "print(inputs)\n",
    "\n",
    "g_dosfuture = submit(phdosworkchain, **inputs)\n",
    "print(g_dosfuture)\n",
    "wait_for_node_finished(g_dosfuture)\n",
    "if not g_dosfuture.is_finished_ok:\n",
    "    raise"
   ]
  },
  {
   "cell_type": "code",
   "execution_count": null,
   "id": "c065a08b",
   "metadata": {},
   "outputs": [],
   "source": [
    "g_dosfuture.attributes"
   ]
  },
  {
   "cell_type": "code",
   "execution_count": null,
   "id": "afe42f3b",
   "metadata": {},
   "outputs": [],
   "source": [
    "from wand.image import Image as WImage\n",
    "filename = os.path.join(g_property.value, g_dosfuture.outputs.img_file.list_object_names()[0])\n",
    "img = WImage(filename=filename)\n",
    "img"
   ]
  },
  {
   "cell_type": "markdown",
   "id": "84a9e236",
   "metadata": {},
   "source": [
    "## free energies\n",
    "```\n",
    "Description:\n",
    "\n",
    "\tNo description available\n",
    "\n",
    "Inputs:\n",
    "           cwd:  required  Str                  directory where files are saved.\n",
    "        prefix:  required  Str                  string added to filenames\n",
    "   thermo_file:  required  Str, SinglefileData  thermo file\n",
    "  img_filename:  optional  Str                  image file template\n",
    "      metadata:  optional                       \n",
    "Outputs:\n",
    "      img_file:  required  SinglefileData       image file\n",
    "```"
   ]
  },
  {
   "cell_type": "code",
   "execution_count": null,
   "id": "1009b3bc",
   "metadata": {},
   "outputs": [],
   "source": [
    "FreeenergyImgWorkChain = WorkflowFactory(\"alamode.freeenergy_img\")\n",
    "g_inputs = {'cwd': g_property, 'prefix': g_dosprefix,\n",
    "            'thermo_file': g_phdosfuture.outputs.thermo_file}\n",
    "\n",
    "\n",
    "freeenergyimgfuture = submit(FreeenergyImgWorkChain, **g_inputs)\n",
    "print(freeenergyimgfuture)\n",
    "wait_for_node_finished(freeenergyimgfuture)\n",
    "if not freeenergyimgfuture.is_finished_ok:\n",
    "\n",
    "    raise"
   ]
  },
  {
   "cell_type": "code",
   "execution_count": null,
   "id": "b08fad8c",
   "metadata": {},
   "outputs": [],
   "source": [
    "from wand.image import Image as WImage\n",
    "filename = os.path.join(g_property.value, freeenergyimgfuture.outputs.img_file.list_object_names()[0])\n",
    "img = WImage(filename=filename)\n",
    "img"
   ]
  },
  {
   "cell_type": "code",
   "execution_count": null,
   "id": "f17ec56e",
   "metadata": {},
   "outputs": [],
   "source": []
  }
 ],
 "metadata": {
  "kernelspec": {
   "display_name": "py39",
   "language": "python",
   "name": "py39"
  },
  "language_info": {
   "codemirror_mode": {
    "name": "ipython",
    "version": 3
   },
   "file_extension": ".py",
   "mimetype": "text/x-python",
   "name": "python",
   "nbconvert_exporter": "python",
   "pygments_lexer": "ipython3",
   "version": "3.9.13"
  }
 },
 "nbformat": 4,
 "nbformat_minor": 5
}
