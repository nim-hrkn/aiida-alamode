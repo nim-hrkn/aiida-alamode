{
 "cells": [
  {
   "cell_type": "code",
   "execution_count": 1,
   "id": "736a131b",
   "metadata": {},
   "outputs": [
    {
     "data": {
      "text/plain": [
       "<aiida.manage.configuration.profile.Profile at 0x7fd322082eb0>"
      ]
     },
     "execution_count": 1,
     "metadata": {},
     "output_type": "execute_result"
    }
   ],
   "source": [
    "import aiida\n",
    "\n",
    "# must execute it in the first place\n",
    "aiida.load_profile()\n"
   ]
  },
  {
   "cell_type": "code",
   "execution_count": 2,
   "id": "678f94ab",
   "metadata": {},
   "outputs": [],
   "source": [
    "from aiida.orm import Code\n",
    "from aiida.orm import Str, Int, Dict, List, Float\n",
    "from aiida.engine import calcfunction, WorkChain, ToContext, append_\n",
    "from aiida.plugins import DataFactory, WorkflowFactory\n",
    "from itertools import cycle\n",
    "import os\n",
    "\n",
    "from aiida.engine import calcfunction, workfunction, submit, run\n",
    "from aiida.engine import run_get_node\n",
    "from aiida.orm import load_code, load_node\n",
    "from alamode_aiida.ase_support import load_atoms\n",
    "from ase import io\n",
    "from tools import wait_for_node_finished\n",
    "\n",
    "# load types\n",
    "StructureData = DataFactory('structure')\n",
    "FolderData = DataFactory('folder')\n",
    "SinglefileData = DataFactory('singlefile')\n",
    "ArrayData = DataFactory('array')\n",
    "List = DataFactory('list')\n",
    "TrajectoryData = DataFactory('array.trajectory')\n"
   ]
  },
  {
   "cell_type": "code",
   "execution_count": 3,
   "id": "4f8a3e37",
   "metadata": {},
   "outputs": [
    {
     "name": "stdout",
     "output_type": "stream",
     "text": [
      "localhost (localhost), pk: 5\n"
     ]
    },
    {
     "data": {
      "text/plain": [
       "(<Code: Remote code 'alamode.displace_random' on localhost, pk: 59133, uuid: 9ac4bf3b-061b-4b54-b71c-720c1629204c>,\n",
       " <Code: Remote code 'alamode.displace_pf' on localhost, pk: 59132, uuid: 1edf312a-d038-4843-b752-6673dfabb07b>,\n",
       " <Str: uuid: 06171819-1bdf-4b44-9b11-484802a63700 (unstored) value: alamode.lammps@localhost>)"
      ]
     },
     "execution_count": 3,
     "metadata": {},
     "output_type": "execute_result"
    }
   ],
   "source": [
    "# codeの定義を行う。\n",
    "from tools.aiida_support import get_or_create_local_computer, get_or_create_code\n",
    "from os.path import expanduser\n",
    "import os\n",
    "\n",
    "home = expanduser(\"~\")\n",
    "work_directory = os.path.join(home, 'aiida')\n",
    "computer_local = get_or_create_local_computer(work_directory, 'localhost')\n",
    "print(computer_local)\n",
    "code = get_or_create_code('alamode.displace_pf',\n",
    "                          computer_local,\n",
    "                          '/home/max/Documents/alamode/displace.py')\n",
    "code_displace_pf = code\n",
    "code = get_or_create_code('alamode.displace_random',\n",
    "                          computer_local,\n",
    "                          '/home/max/Documents/alamode/displace.py')\n",
    "code_displace_random = code\n",
    "code = get_or_create_code('alamode.lammps',\n",
    "                         computer_local,\n",
    "                         '/usr/bin/lammps')\n",
    "\n",
    "code_lammps_name = Str('alamode.lammps@localhost')\n",
    "\n",
    "code = get_or_create_code('alamode.extract',\n",
    "                         computer_local,\n",
    "                         '/home/max/Documents/alamode/tools/extract.py')\n",
    "code_extract = code\n",
    "code_extract_name = Str('alamode.extract@localhost')\n",
    "\n",
    "\n",
    "code_displace_random, code_displace_pf, code_lammps_name\n"
   ]
  },
  {
   "cell_type": "code",
   "execution_count": 4,
   "id": "38870d0e",
   "metadata": {},
   "outputs": [
    {
     "name": "stdout",
     "output_type": "stream",
     "text": [
      "{'CWD': 'run29'}\n"
     ]
    },
    {
     "data": {
      "text/plain": [
       "'/home/max/Documents/aiida-test/alamode-aiida/example/run29'"
      ]
     },
     "execution_count": 4,
     "metadata": {},
     "output_type": "execute_result"
    }
   ],
   "source": [
    "import json\n",
    "with open(\"setting.json\") as f:\n",
    "    _dic = json.load(f)\n",
    "print(_dic)\n",
    "CWD = _dic[\"CWD\"]\n",
    "_path = os.path.abspath(CWD)\n",
    "os.makedirs(_path, exist_ok=True)\n",
    "_path\n"
   ]
  },
  {
   "cell_type": "code",
   "execution_count": 5,
   "id": "69ca0d11",
   "metadata": {},
   "outputs": [],
   "source": [
    "\n",
    "from os.path import expanduser\n",
    "from tools import NodeBank\n",
    "\n",
    "\n",
    "# 再実行時に作成したノードを用いるためにnodebankを使う。\n",
    "g_force = False\n",
    "nodebank = NodeBank(_path, force=g_force)\n"
   ]
  },
  {
   "cell_type": "code",
   "execution_count": 6,
   "id": "c55b3d15",
   "metadata": {},
   "outputs": [
    {
     "data": {
      "text/plain": [
       "(<Str: uuid: c712e126-400d-4846-9bbf-772c331c7f2b (pk: 59329) value: cubic>,\n",
       " <Int: uuid: 024283bc-0bab-4a13-be6c-06e64a7c70dc (pk: 59328) value: 2>)"
      ]
     },
     "execution_count": 6,
     "metadata": {},
     "output_type": "execute_result"
    }
   ],
   "source": [
    "g_prefix = nodebank.load('cubic_prefix')\n",
    "g_norder = nodebank.load('cubic_norder')\n",
    "g_prefix, g_norder"
   ]
  },
  {
   "cell_type": "code",
   "execution_count": null,
   "id": "73dcbf21",
   "metadata": {},
   "outputs": [],
   "source": []
  },
  {
   "cell_type": "code",
   "execution_count": 7,
   "id": "4c40b16d",
   "metadata": {},
   "outputs": [
    {
     "data": {
      "text/plain": [
       "<Str: uuid: 7311e76c-dddc-474a-88ac-81014ccec5cb (pk: 59331) value: /home/max/Documents/aiida-test/alamode-aiida/example/run29/Ga2N2_1x1x1_cubic>"
      ]
     },
     "execution_count": 7,
     "metadata": {},
     "output_type": "execute_result"
    }
   ],
   "source": [
    "g_cwd = nodebank.load(f\"{g_prefix.value}_cwd\")  # ファイル保存directory\n",
    "g_superstructure = nodebank.load(\"superstructure\")  # 使用する長周期構造StructureData\n",
    "g_superstructure_file = nodebank.load(\n",
    "    \"superstructure_file\")  # 使用する長周期構造ファイルSinglefileData\n",
    "g_superstructure_filepath = nodebank.load(\n",
    "    \"superstructure_filepath\")  # 使用する長周期構造ファイルabspath\n",
    "g_superstructure_filename = nodebank.load(\n",
    "    \"superstructure_filename\")  # 使用する長周期構造ファイルfilename in the cwd directory\n",
    "\n",
    "g_file_format = nodebank.load(\"structure_org_format\")  # lammpsの位置フォーマット\n",
    "g_file_style = nodebank.load(\"structure_org_style\")  # lammpsの位置フォーマットのオプション\n",
    "g_file_format, g_file_style, g_superstructure_file, g_cwd\n",
    "g_cwd"
   ]
  },
  {
   "cell_type": "markdown",
   "id": "1e661036",
   "metadata": {},
   "source": [
    "## for LAMMPS"
   ]
  },
  {
   "cell_type": "code",
   "execution_count": 8,
   "id": "65a7c879",
   "metadata": {},
   "outputs": [
    {
     "name": "stdout",
     "output_type": "stream",
     "text": [
      "debug, node uuid: 0bf20c8a-c15e-4880-b961-f52d9daaddd8 (unstored) value: LAMMPS\n",
      "debug, load uuid: 74e46851-89aa-44b7-be04-1be4721a28df (pk: 59136) value: LAMMPS\n"
     ]
    }
   ],
   "source": [
    "key = \"format\"\n",
    "g_format = nodebank.load_or_dump(key, Str(\"LAMMPS\"))  # alamodeのファイルオプションの定義\n"
   ]
  },
  {
   "cell_type": "code",
   "execution_count": 9,
   "id": "8301d41a",
   "metadata": {},
   "outputs": [],
   "source": [
    "from aiida_lammps.tests.utils import (\n",
    "    get_or_create_local_computer, get_or_create_code)\n",
    "from aiida_lammps.tests.utils import lammps_version\n",
    "computer_local = get_or_create_local_computer('work_directory', 'localhost')\n",
    "code_lammps_force = get_or_create_code('lammps.force', computer_local, 'lammps')"
   ]
  },
  {
   "cell_type": "code",
   "execution_count": 10,
   "id": "0dab69ff",
   "metadata": {},
   "outputs": [
    {
     "data": {
      "text/plain": [
       "<Str: uuid: 2aee468a-36bd-4016-a22e-e8ef1793fbf1 (unstored) value: lammps.force-lammps-localhost@localhost>"
      ]
     },
     "execution_count": 10,
     "metadata": {},
     "output_type": "execute_result"
    }
   ],
   "source": [
    "code_lammps_force_name = Str(code_lammps_force.label+\"@\"+'localhost')\n",
    "code_lammps_force_name"
   ]
  },
  {
   "cell_type": "code",
   "execution_count": 11,
   "id": "a98601b6",
   "metadata": {},
   "outputs": [
    {
     "data": {
      "text/plain": [
       "<Code: Remote code 'lammps.force-lammps-localhost' on localhost, pk: 59137, uuid: 38d58d76-d1ac-419e-97e6-24a749d7c791>"
      ]
     },
     "execution_count": 11,
     "metadata": {},
     "output_type": "execute_result"
    }
   ],
   "source": [
    "code_lammps_force.get_from_string(code_lammps_force_name.value)\n"
   ]
  },
  {
   "cell_type": "code",
   "execution_count": 12,
   "id": "e3d82979",
   "metadata": {},
   "outputs": [],
   "source": [
    "# make lammps in and out"
   ]
  },
  {
   "cell_type": "code",
   "execution_count": 13,
   "id": "06baaf44",
   "metadata": {},
   "outputs": [
    {
     "name": "stdout",
     "output_type": "stream",
     "text": [
      "debug, node uuid: 7d5d91b1-506f-43fe-93a0-85fdc30fe55f (unstored) value: 0.04\n",
      "debug, load None\n",
      "debug, force dump\n"
     ]
    }
   ],
   "source": [
    "g_mag = nodebank.load_or_dump(f\"{g_prefix.value}_mag\", Float(0.04))\n"
   ]
  },
  {
   "cell_type": "code",
   "execution_count": 14,
   "id": "52d63be2",
   "metadata": {},
   "outputs": [
    {
     "data": {
      "text/plain": [
       "['cubic.pattern_ANHARM3', 'cubic.pattern_HARMONIC']"
      ]
     },
     "execution_count": 14,
     "metadata": {},
     "output_type": "execute_result"
    }
   ],
   "source": [
    "\n",
    "displacement_patterns = nodebank.load(f'{g_prefix.value}_suggest_pattern_folder')\n",
    "displacement_patterns.list_object_names()"
   ]
  },
  {
   "cell_type": "code",
   "execution_count": 15,
   "id": "6b1a3c61",
   "metadata": {},
   "outputs": [
    {
     "data": {
      "text/plain": [
       "Atoms(symbols='Ga2N2Ga2N2Ga2N2Ga2N2Ga2N2Ga2N2Ga2N2Ga2N2', pbc=True, cell=[[6.38, 0.0, 0.0], [-3.19, 5.5252420761447, 0.0], [0.0, 0.0, 10.378]], masses=...)"
      ]
     },
     "execution_count": 15,
     "metadata": {},
     "output_type": "execute_result"
    }
   ],
   "source": [
    "g_superstructure.get_ase()"
   ]
  },
  {
   "cell_type": "code",
   "execution_count": 16,
   "id": "50892d14",
   "metadata": {},
   "outputs": [
    {
     "data": {
      "text/plain": [
       "<Str: uuid: c60d5c7e-a3c8-4b16-8707-f5fc9ed8a75b (pk: 59119) value: supercell.lammps>"
      ]
     },
     "execution_count": 16,
     "metadata": {},
     "output_type": "execute_result"
    }
   ],
   "source": [
    "g_superstructure_filename"
   ]
  },
  {
   "cell_type": "code",
   "execution_count": 17,
   "id": "34da9e87",
   "metadata": {},
   "outputs": [
    {
     "data": {
      "text/plain": [
       "<FolderData: uuid: 843821a8-1924-41dd-a4f1-1d2af54e7843 (pk: 59338)>"
      ]
     },
     "execution_count": 17,
     "metadata": {},
     "output_type": "execute_result"
    }
   ],
   "source": [
    "displacement_patterns"
   ]
  },
  {
   "cell_type": "code",
   "execution_count": 18,
   "id": "b6525ae1",
   "metadata": {},
   "outputs": [],
   "source": [
    "TrajectoryData = DataFactory('array.trajectory')\n",
    "from alamode_aiida.ase_support import load_atoms_bare\n"
   ]
  },
  {
   "cell_type": "code",
   "execution_count": 19,
   "id": "2afe1349",
   "metadata": {
    "scrolled": false
   },
   "outputs": [
    {
     "name": "stdout",
     "output_type": "stream",
     "text": [
      "uuid: d68bcb8f-008b-4914-b5b4-eb4d2a78b4b1 (pk: 59344) (aiida.calculations:alamode.displace_random)\n",
      "wait another 2 sec.\n",
      "wait another 2 sec.\n",
      "wait another 2 sec.\n",
      "wait another 2 sec.\n",
      "wait another 2 sec.\n",
      "wait another 2 sec.\n",
      "True True\n"
     ]
    }
   ],
   "source": [
    "g_action = \"random\"\n",
    "\n",
    "if g_action == \"pf\":\n",
    "\n",
    "    #codename = \"alamode.displace_pf@tutor\"\n",
    "    #code = Code.get_from_string(codename)\n",
    "    code = code_displace_pf\n",
    "\n",
    "    builder = code.get_builder()\n",
    "    builder.format = g_format\n",
    "    builder.cwd = g_cwd\n",
    "    builder.prefix = g_prefix\n",
    "    builder.structure_org = g_superstructure\n",
    "    builder.structure_org_filename = g_superstructure_filename\n",
    "    builder.mag = g_mag\n",
    "    builder.pattern_files = displacement_patterns\n",
    "        \n",
    "    g_displacefuture = nodebank.load(f\"{g_prefix.value}_displace_pf\")\n",
    "    if g_displacefuture is None:\n",
    "        g_displacefuture = submit(builder)\n",
    "        print(g_displacefuture)\n",
    "        wait_for_node_finished(g_displacefuture)\n",
    "        if g_displacefuture.is_finished_ok:\n",
    "            nodebank.dump(f\"{g_prefix.value}_displace_pf\", g_displacefuture)\n",
    "\n",
    "elif g_action == \"random\":\n",
    "\n",
    "    g_num_disp = nodebank.dump(f\"{g_prefix.value}_num_disp\", Int(40))\n",
    "\n",
    "    #codename = \"alamode.displace_random@tutor\"\n",
    "    #code = Code.get_from_string(codename)\n",
    "    code = code_displace_random\n",
    "\n",
    "    builder = code.get_builder()\n",
    "    builder.format = g_format\n",
    "    builder.cwd = g_cwd\n",
    "    builder.prefix = g_prefix\n",
    "    builder.structure_org = g_superstructure\n",
    "    builder.structure_org_filename = g_superstructure_filename\n",
    "    builder.mag = g_mag\n",
    "    builder.num_disp = g_num_disp\n",
    "\n",
    "    g_displacefuture = nodebank.load(\"cubic_displace_random\")\n",
    "    if g_displacefuture is None:\n",
    "        g_displacefuture = submit(builder)\n",
    "        print(g_displacefuture)\n",
    "        wait_for_node_finished(g_displacefuture)\n",
    "        if g_displacefuture.is_finished_ok:\n",
    "            nodebank.dump(f\"{g_prefix.value}_displace_random\", g_displacefuture)\n",
    "        else:\n",
    "            raise\n",
    "else:\n",
    "    raise ValueError(\"unknown action\")\n"
   ]
  },
  {
   "cell_type": "code",
   "execution_count": 20,
   "id": "2137b6e6",
   "metadata": {},
   "outputs": [
    {
     "data": {
      "text/plain": [
       "True"
      ]
     },
     "execution_count": 20,
     "metadata": {},
     "output_type": "execute_result"
    }
   ],
   "source": [
    "g_displacefuture.is_finished_ok\n"
   ]
  },
  {
   "cell_type": "code",
   "execution_count": 21,
   "id": "4f6965cd",
   "metadata": {},
   "outputs": [
    {
     "data": {
      "text/plain": [
       "{'job_id': '6708',\n",
       " 'sealed': True,\n",
       " 'version': {'core': '1.6.8'},\n",
       " 'withmpi': False,\n",
       " 'resources': {'num_machines': 1, 'num_mpiprocs_per_machine': 1},\n",
       " 'append_text': '',\n",
       " 'exit_status': 0,\n",
       " 'parser_name': 'alamode.displace',\n",
       " 'prepend_text': '',\n",
       " 'last_job_info': {'job_id': '6708',\n",
       "  'job_owner': 'max',\n",
       "  'job_state': 'running',\n",
       "  'wallclock_time_seconds': 0},\n",
       " 'process_label': 'displace_random_Calcjob',\n",
       " 'process_state': 'finished',\n",
       " 'retrieve_list': ['displace_random.in',\n",
       "  'displace_random.out',\n",
       "  'cubic*.lammps',\n",
       "  '_scheduler-stdout.txt',\n",
       "  '_scheduler-stderr.txt'],\n",
       " 'input_filename': 'displace_random.in',\n",
       " 'remote_workdir': '/scratch/max/aiida/d6/8b/cb8f-008b-4914-b5b4-eb4d2a78b4b1',\n",
       " 'output_filename': 'displace_random.out',\n",
       " 'scheduler_state': 'done',\n",
       " 'scheduler_stderr': '_scheduler-stderr.txt',\n",
       " 'scheduler_stdout': '_scheduler-stdout.txt',\n",
       " 'detailed_job_info': None,\n",
       " 'mpirun_extra_params': [],\n",
       " 'environment_variables': {},\n",
       " 'import_sys_environment': True,\n",
       " 'submit_script_filename': '_aiidasubmit.sh',\n",
       " 'retrieve_temporary_list': [],\n",
       " 'scheduler_lastchecktime': '2022-08-10T09:20:56.402019+00:00',\n",
       " 'custom_scheduler_commands': ''}"
      ]
     },
     "execution_count": 21,
     "metadata": {},
     "output_type": "execute_result"
    }
   ],
   "source": [
    "g_displacefuture.attributes"
   ]
  },
  {
   "cell_type": "code",
   "execution_count": 22,
   "id": "f6908ec4",
   "metadata": {},
   "outputs": [
    {
     "data": {
      "text/plain": [
       "['_scheduler-stderr.txt',\n",
       " '_scheduler-stdout.txt',\n",
       " 'cubic01.lammps',\n",
       " 'cubic02.lammps',\n",
       " 'cubic03.lammps',\n",
       " 'cubic04.lammps',\n",
       " 'cubic05.lammps',\n",
       " 'cubic06.lammps',\n",
       " 'cubic07.lammps',\n",
       " 'cubic08.lammps',\n",
       " 'cubic09.lammps',\n",
       " 'cubic10.lammps',\n",
       " 'cubic11.lammps',\n",
       " 'cubic12.lammps',\n",
       " 'cubic13.lammps',\n",
       " 'cubic14.lammps',\n",
       " 'cubic15.lammps',\n",
       " 'cubic16.lammps',\n",
       " 'cubic17.lammps',\n",
       " 'cubic18.lammps',\n",
       " 'cubic19.lammps',\n",
       " 'cubic20.lammps',\n",
       " 'cubic21.lammps',\n",
       " 'cubic22.lammps',\n",
       " 'cubic23.lammps',\n",
       " 'cubic24.lammps',\n",
       " 'cubic25.lammps',\n",
       " 'cubic26.lammps',\n",
       " 'cubic27.lammps',\n",
       " 'cubic28.lammps',\n",
       " 'cubic29.lammps',\n",
       " 'cubic30.lammps',\n",
       " 'cubic31.lammps',\n",
       " 'cubic32.lammps',\n",
       " 'cubic33.lammps',\n",
       " 'cubic34.lammps',\n",
       " 'cubic35.lammps',\n",
       " 'cubic36.lammps',\n",
       " 'cubic37.lammps',\n",
       " 'cubic38.lammps',\n",
       " 'cubic39.lammps',\n",
       " 'cubic40.lammps',\n",
       " 'displace_random.out']"
      ]
     },
     "execution_count": 22,
     "metadata": {},
     "output_type": "execute_result"
    }
   ],
   "source": [
    "g_displacefuture.outputs.retrieved.list_object_names()\n"
   ]
  },
  {
   "cell_type": "code",
   "execution_count": 23,
   "id": "336eb3e4",
   "metadata": {},
   "outputs": [
    {
     "data": {
      "text/plain": [
       "<Dict: uuid: d55d0125-26aa-4388-b035-f6888b663848 (pk: 59347)>"
      ]
     },
     "execution_count": 23,
     "metadata": {},
     "output_type": "execute_result"
    }
   ],
   "source": [
    "g_displace_result = g_displacefuture.outputs.results\n",
    "g_displace_result\n"
   ]
  },
  {
   "cell_type": "code",
   "execution_count": 24,
   "id": "e0056be2",
   "metadata": {},
   "outputs": [],
   "source": [
    "g_dispfile_folder = g_displacefuture.outputs.dispfile_folder\n"
   ]
  },
  {
   "cell_type": "code",
   "execution_count": 25,
   "id": "cb5bfa27",
   "metadata": {},
   "outputs": [
    {
     "data": {
      "text/plain": [
       "['cubic01.lammps',\n",
       " 'cubic02.lammps',\n",
       " 'cubic03.lammps',\n",
       " 'cubic04.lammps',\n",
       " 'cubic05.lammps',\n",
       " 'cubic06.lammps',\n",
       " 'cubic07.lammps',\n",
       " 'cubic08.lammps',\n",
       " 'cubic09.lammps',\n",
       " 'cubic10.lammps',\n",
       " 'cubic11.lammps',\n",
       " 'cubic12.lammps',\n",
       " 'cubic13.lammps',\n",
       " 'cubic14.lammps',\n",
       " 'cubic15.lammps',\n",
       " 'cubic16.lammps',\n",
       " 'cubic17.lammps',\n",
       " 'cubic18.lammps',\n",
       " 'cubic19.lammps',\n",
       " 'cubic20.lammps',\n",
       " 'cubic21.lammps',\n",
       " 'cubic22.lammps',\n",
       " 'cubic23.lammps',\n",
       " 'cubic24.lammps',\n",
       " 'cubic25.lammps',\n",
       " 'cubic26.lammps',\n",
       " 'cubic27.lammps',\n",
       " 'cubic28.lammps',\n",
       " 'cubic29.lammps',\n",
       " 'cubic30.lammps',\n",
       " 'cubic31.lammps',\n",
       " 'cubic32.lammps',\n",
       " 'cubic33.lammps',\n",
       " 'cubic34.lammps',\n",
       " 'cubic35.lammps',\n",
       " 'cubic36.lammps',\n",
       " 'cubic37.lammps',\n",
       " 'cubic38.lammps',\n",
       " 'cubic39.lammps',\n",
       " 'cubic40.lammps']"
      ]
     },
     "execution_count": 25,
     "metadata": {},
     "output_type": "execute_result"
    }
   ],
   "source": [
    "g_dispfile_folder.list_object_names()  # lammps data files\n"
   ]
  },
  {
   "cell_type": "code",
   "execution_count": 26,
   "id": "fe035975",
   "metadata": {
    "scrolled": true
   },
   "outputs": [
    {
     "name": "stdout",
     "output_type": "stream",
     "text": [
      "[ 0  1  2  3  4  5  6  7  8  9 10 11 12 13 14 15 16 17 18 19 20 21 22 23\n",
      " 24 25 26 27 28 29 30 31 32 33 34 35 36 37 38 39]\n"
     ]
    },
    {
     "data": {
      "text/plain": [
       "array([[-1.94754278e-02,  1.81610210e+00,  5.22394061e+00],\n",
       "       [ 1.61634879e+00,  9.06752850e-01,  2.57497428e+00],\n",
       "       [-1.62987245e-02,  1.82926833e+00,  1.99493873e+00],\n",
       "       [ 1.61139467e+00,  8.87661463e-01,  4.54000253e+00],\n",
       "       [ 2.16874904e-02,  1.81181974e+00,  2.65091375e-02],\n",
       "       [ 1.60182208e+00,  9.44278194e-01,  7.82642497e+00],\n",
       "       [-3.52253305e-02,  1.83963155e+00,  7.16844108e+00],\n",
       "       [ 1.58631172e+00,  9.02986611e-01,  9.77881448e+00],\n",
       "       [-1.59857942e+00,  4.64376015e+00,  5.19425609e+00],\n",
       "       [-5.83249034e-03,  3.65438520e+00,  2.57890533e+00],\n",
       "       [-1.55802271e+00,  4.61420197e+00,  1.97226871e+00],\n",
       "       [-1.13650290e-02,  3.65999779e+00,  4.52479705e+00],\n",
       "       [-1.59584850e+00,  4.59394507e+00,  4.98211198e-02],\n",
       "       [ 3.24306092e-02,  3.66639129e+00,  7.77872088e+00],\n",
       "       [-1.61700317e+00,  4.58062307e+00,  7.17310272e+00],\n",
       "       [-2.26203604e-02,  3.70647694e+00,  9.76777482e+00],\n",
       "       [ 3.18466792e+00,  1.80470416e+00,  5.21433224e+00],\n",
       "       [ 4.75223842e+00,  9.42355148e-01,  2.61378860e+00],\n",
       "       [ 3.21199473e+00,  1.86861521e+00,  1.98046587e+00],\n",
       "       [ 4.80563901e+00,  9.45049282e-01,  4.57938871e+00],\n",
       "       [ 3.16743399e+00,  1.87256561e+00,  1.03773376e+01],\n",
       "       [ 4.76562381e+00,  9.19075872e-01,  7.75976484e+00],\n",
       "       [ 3.18429468e+00,  1.87337712e+00,  7.12579569e+00],\n",
       "       [ 4.80910778e+00,  9.42829989e-01,  9.72094006e+00],\n",
       "       [ 1.62841119e+00,  4.58281866e+00,  5.20460571e+00],\n",
       "       [ 3.20922798e+00,  3.70790821e+00,  2.58052774e+00],\n",
       "       [ 1.59331080e+00,  4.56930187e+00,  1.94143770e+00],\n",
       "       [ 3.22440310e+00,  3.67525426e+00,  4.53643888e+00],\n",
       "       [ 1.55955988e+00,  4.60755438e+00,  1.03709409e+01],\n",
       "       [ 3.22454593e+00,  3.66373901e+00,  7.79874860e+00],\n",
       "       [ 1.63031116e+00,  4.62031614e+00,  7.13966822e+00],\n",
       "       [ 3.17287680e+00,  3.69358065e+00,  9.77882173e+00]])"
      ]
     },
     "execution_count": 26,
     "metadata": {},
     "output_type": "execute_result"
    }
   ],
   "source": [
    "print(g_displacefuture.outputs.displaced_structures.get_stepids())\n",
    "structure = g_displacefuture.outputs.displaced_structures.get_step_structure(1)\n",
    "structure.get_ase().get_positions()\n"
   ]
  },
  {
   "cell_type": "code",
   "execution_count": 27,
   "id": "3ae57bf2",
   "metadata": {
    "scrolled": true
   },
   "outputs": [
    {
     "data": {
      "text/plain": [
       "<TrajectoryData: uuid: d03819ee-64ae-475c-b6c5-1f2b20fff4fc (pk: 59349)>"
      ]
     },
     "execution_count": 27,
     "metadata": {},
     "output_type": "execute_result"
    }
   ],
   "source": [
    "g_displaced_structures = g_displacefuture.outputs.displaced_structures\n",
    "g_displaced_structures"
   ]
  },
  {
   "cell_type": "code",
   "execution_count": 28,
   "id": "3ff8c1de",
   "metadata": {},
   "outputs": [],
   "source": [
    "num_structures = len(g_displaced_structures.get_stepids())\n",
    "num_structures\n",
    "\n",
    "structure = g_displacefuture.outputs.displaced_structures.get_step_structure(1)\n"
   ]
  },
  {
   "cell_type": "markdown",
   "id": "716e8847",
   "metadata": {},
   "source": [
    "# load tersoff potential"
   ]
  },
  {
   "cell_type": "code",
   "execution_count": 29,
   "id": "b8c28a4c",
   "metadata": {},
   "outputs": [
    {
     "data": {
      "text/plain": [
       "<EmpiricalPotential: uuid: c00b6c0d-b4f0-40b6-af1c-e2369ee3607a (unstored)>"
      ]
     },
     "execution_count": 29,
     "metadata": {},
     "output_type": "execute_result"
    }
   ],
   "source": [
    "import json\n",
    "potentialfile = \"lammps_input/potentials/tersoff.json\"\n",
    "\n",
    "with open(potentialfile,\"r\") as f:\n",
    "    potential_dict = json.load(f)\n",
    "lammps_potential = DataFactory(\"lammps.potential\")(\n",
    "    type=potential_dict[\"pair_style\"], data=potential_dict[\"potential_dict\"]\n",
    ")\n",
    "lammps_potential\n"
   ]
  },
  {
   "cell_type": "markdown",
   "id": "39018935",
   "metadata": {},
   "source": [
    "# execution option"
   ]
  },
  {
   "cell_type": "code",
   "execution_count": 30,
   "id": "d9cab4f6",
   "metadata": {},
   "outputs": [],
   "source": [
    "lammps_parameters = DataFactory('dict')(dict={\n",
    "    'lammps_version': lammps_version(),\n",
    "    'output_variables': [\"temp\", \"etotal\", \"pe\", \"ke\"],\n",
    "    'thermo_keywords': []\n",
    "})\n",
    "meta_options = {\n",
    "    \"resources\": {\n",
    "        \"num_machines\": 1,\n",
    "        \"num_mpiprocs_per_machine\": 1}\n",
    "}\n"
   ]
  },
  {
   "cell_type": "markdown",
   "id": "6c738bfc",
   "metadata": {},
   "source": [
    "# run all the displacements"
   ]
  },
  {
   "cell_type": "code",
   "execution_count": 31,
   "id": "0c60a8d2",
   "metadata": {},
   "outputs": [
    {
     "data": {
      "text/plain": [
       "<Code: Remote code 'lammps.force-lammps-localhost' on localhost, pk: 59137, uuid: 38d58d76-d1ac-419e-97e6-24a749d7c791>"
      ]
     },
     "execution_count": 31,
     "metadata": {},
     "output_type": "execute_result"
    }
   ],
   "source": [
    "Code.get_from_string(code_lammps_force_name.value)"
   ]
  },
  {
   "cell_type": "code",
   "execution_count": 32,
   "id": "34301da8",
   "metadata": {},
   "outputs": [],
   "source": [
    "alldisp_lammps_WorkChain = WorkflowFactory(\"alamode.all_displace_lammps\")\n",
    "# alldisp_lammps_WorkChain = alldisplaces_lammps_WorkChain\n"
   ]
  },
  {
   "cell_type": "code",
   "execution_count": 33,
   "id": "6402872d",
   "metadata": {},
   "outputs": [
    {
     "data": {
      "text/plain": [
       "<Str: uuid: c712e126-400d-4846-9bbf-772c331c7f2b (pk: 59329) value: cubic>"
      ]
     },
     "execution_count": 33,
     "metadata": {},
     "output_type": "execute_result"
    }
   ],
   "source": [
    "g_prefix"
   ]
  },
  {
   "cell_type": "code",
   "execution_count": 34,
   "id": "f56927ee",
   "metadata": {
    "scrolled": false
   },
   "outputs": [],
   "source": [
    "inputs = {\"structures\": g_displaced_structures,\n",
    "          \"parameters\": lammps_parameters,\n",
    "          \"code_string\":  code_lammps_force_name,\n",
    "          \"cwd\": g_cwd,\n",
    "          \"prefix\": g_prefix,\n",
    "          'potential': lammps_potential}\n",
    "\n",
    "#lammps_all = run(alldisp_lammps_WorkChain, **inputs)"
   ]
  },
  {
   "cell_type": "code",
   "execution_count": 35,
   "id": "b1b3ddaa",
   "metadata": {},
   "outputs": [],
   "source": [
    "#lammps_all[\"dfset_folder\"]"
   ]
  },
  {
   "cell_type": "code",
   "execution_count": 36,
   "id": "a30075bb",
   "metadata": {},
   "outputs": [
    {
     "data": {
      "text/plain": [
       "<Str: uuid: 7311e76c-dddc-474a-88ac-81014ccec5cb (pk: 59331) value: /home/max/Documents/aiida-test/alamode-aiida/example/run29/Ga2N2_1x1x1_cubic>"
      ]
     },
     "execution_count": 36,
     "metadata": {},
     "output_type": "execute_result"
    }
   ],
   "source": [
    "g_cwd"
   ]
  },
  {
   "cell_type": "code",
   "execution_count": 37,
   "id": "44c9c7d8",
   "metadata": {},
   "outputs": [],
   "source": [
    "# it will take 30 min. for GaN222."
   ]
  },
  {
   "cell_type": "code",
   "execution_count": 38,
   "id": "645ae676",
   "metadata": {},
   "outputs": [
    {
     "name": "stdout",
     "output_type": "stream",
     "text": [
      "uuid: 5abb2ea9-daef-414c-a64c-8762cf5d3fe6 (pk: 59354) (aiida.workflows:alamode.all_displace_lammps)\n",
      "wait another 5 sec.\n",
      "wait another 5 sec.\n",
      "wait another 5 sec.\n",
      "wait another 5 sec.\n",
      "wait another 5 sec.\n",
      "wait another 5 sec.\n",
      "wait another 5 sec.\n",
      "wait another 5 sec.\n",
      "wait another 5 sec.\n",
      "True True\n",
      "True\n",
      "0:00:45.309880\n"
     ]
    }
   ],
   "source": [
    "from datetime import datetime\n",
    "starttime = datetime.now()\n",
    "lammps_all = nodebank.load(f\"{g_prefix.value}_all_lammps\")\n",
    "if lammps_all is None:\n",
    "    lammps_all = submit(alldisp_lammps_WorkChain, **inputs)\n",
    "    print(lammps_all)\n",
    "    wait_for_node_finished(lammps_all, 5)\n",
    "    print(lammps_all.is_finished_ok)\n",
    "    if lammps_all.is_finished_ok:\n",
    "        nodebank.dump(f\"{g_prefix.value}_all_lammps\", lammps_all)\n",
    "endtime = datetime.now()\n",
    "print(endtime-starttime)"
   ]
  },
  {
   "cell_type": "code",
   "execution_count": 39,
   "id": "2405fa49",
   "metadata": {},
   "outputs": [
    {
     "data": {
      "text/plain": [
       "<WorkChainNode: uuid: 5abb2ea9-daef-414c-a64c-8762cf5d3fe6 (pk: 59354) (aiida.workflows:alamode.all_displace_lammps)>"
      ]
     },
     "execution_count": 39,
     "metadata": {},
     "output_type": "execute_result"
    }
   ],
   "source": [
    "lammps_all"
   ]
  },
  {
   "cell_type": "code",
   "execution_count": 40,
   "id": "e82923a1",
   "metadata": {},
   "outputs": [],
   "source": [
    "g_target_folder = lammps_all.outputs.dfset_folder"
   ]
  },
  {
   "cell_type": "code",
   "execution_count": 41,
   "id": "93f70d15",
   "metadata": {},
   "outputs": [
    {
     "data": {
      "text/plain": [
       "['XFSET_cubic01',\n",
       " 'XFSET_cubic02',\n",
       " 'XFSET_cubic03',\n",
       " 'XFSET_cubic04',\n",
       " 'XFSET_cubic05',\n",
       " 'XFSET_cubic06',\n",
       " 'XFSET_cubic07',\n",
       " 'XFSET_cubic08',\n",
       " 'XFSET_cubic09',\n",
       " 'XFSET_cubic10',\n",
       " 'XFSET_cubic11',\n",
       " 'XFSET_cubic12',\n",
       " 'XFSET_cubic13',\n",
       " 'XFSET_cubic14',\n",
       " 'XFSET_cubic15',\n",
       " 'XFSET_cubic16',\n",
       " 'XFSET_cubic17',\n",
       " 'XFSET_cubic18',\n",
       " 'XFSET_cubic19',\n",
       " 'XFSET_cubic20',\n",
       " 'XFSET_cubic21',\n",
       " 'XFSET_cubic22',\n",
       " 'XFSET_cubic23',\n",
       " 'XFSET_cubic24',\n",
       " 'XFSET_cubic25',\n",
       " 'XFSET_cubic26',\n",
       " 'XFSET_cubic27',\n",
       " 'XFSET_cubic28',\n",
       " 'XFSET_cubic29',\n",
       " 'XFSET_cubic30',\n",
       " 'XFSET_cubic31',\n",
       " 'XFSET_cubic32',\n",
       " 'XFSET_cubic33',\n",
       " 'XFSET_cubic34',\n",
       " 'XFSET_cubic35',\n",
       " 'XFSET_cubic36',\n",
       " 'XFSET_cubic37',\n",
       " 'XFSET_cubic38',\n",
       " 'XFSET_cubic39',\n",
       " 'XFSET_cubic40']"
      ]
     },
     "execution_count": 41,
     "metadata": {},
     "output_type": "execute_result"
    }
   ],
   "source": [
    "lammps_all.outputs.dfset_folder.list_object_names()"
   ]
  },
  {
   "cell_type": "code",
   "execution_count": 42,
   "id": "f83c4938",
   "metadata": {},
   "outputs": [
    {
     "data": {
      "text/plain": [
       "<Str: uuid: c712e126-400d-4846-9bbf-772c331c7f2b (pk: 59329) value: cubic>"
      ]
     },
     "execution_count": 42,
     "metadata": {},
     "output_type": "execute_result"
    }
   ],
   "source": [
    "g_prefix"
   ]
  },
  {
   "cell_type": "code",
   "execution_count": 43,
   "id": "487f898e",
   "metadata": {
    "scrolled": true
   },
   "outputs": [
    {
     "name": "stdout",
     "output_type": "stream",
     "text": [
      "ITEM: TIMESTEP\n",
      "0\n",
      "ITEM: NUMBER OF ATOMS\n",
      "32\n",
      "ITEM: BOX BOUNDS xy xz yz pp pp pp\n",
      "-3.1899999999999999e+00 6.3799999999999999e+00 -3.1899999999999999e+00\n",
      "0.0000000000000000e+00 5.5252420760999996e+00 0.0000000000000000e+00\n",
      "0.0000000000000000e+00 1.0378000000000000e+01 0.0000000000000000e+00\n",
      "ITEM: ATOMS element xu yu zu fx fy fz \n",
      "  Ga     0.0323676640     1.8270855399     5.1818448761    -1.3007661759     0.3187710686     1.2756605227 \n",
      "  Ga     1.5953947281     0.8812787709     2.6000478100     0.0040495496     1.2696260967    -0.4323328920 \n",
      "   N     0.0067592358     1.8578534918     1.9246228232     0.1474081931    -0.1298981049     1.0393038009 \n",
      "   N     1.5594381107     0.9249066723     4.5372446082     1.7304170447    -0.6825017989     0.2820814096 \n",
      "  Ga    -0.0391990486     1.8342312775     0.0138473643     0.7643571613     0.7808924532    -0.3807204288 \n",
      "  Ga     1.5752944821     0.9023898710     7.8242088495     0.7822986007     0.8021832334    -0.5189627806 \n",
      "   N     0.0133132374     1.8635885793     7.1803601558    -0.1938866341    -1.1828077738    -1.0770354599 \n",
      "   N     1.5769356418     0.9555400197     9.7525884051     0.0586723696    -0.6522157465     0.3507139407 \n",
      "  Ga    -1.6315068942     4.5882356974     5.2028548629     1.2850569539     0.6733908886    -0.0675635925 \n",
      "  Ga     0.0112175396     3.7164428838     2.5859998225     0.4412260057    -0.8319768813     0.4767116592 \n",
      "   N    -1.5587028287     4.6023016257     1.9439269727    -0.9295623952    -0.2146970412     0.1031548642 \n",
      "   N    -0.0194647956     3.6497361742     4.5641343798     0.6837696246     1.1883106885    -0.3438139800 \n",
      "  Ga    -1.6348495303     4.6010191168     0.0103194931     0.9406438508     0.9995798660     0.1375443569 \n",
      "  Ga    -0.0248460308     3.6539237692     7.8051159316     1.1241248542     1.5394434766     0.0756880399 \n",
      "   N    -1.5638924913     4.6277467436     7.1403460918    -0.7631794497    -0.6718960203     0.2672368618 \n",
      "   N    -0.0355105118     3.6926330169     9.7600918265     0.5932207149    -0.0007681887    -0.1107526449 \n",
      "  Ga     3.2023009327     1.8489905087     5.2375784640    -0.9573028945    -0.4290422683    -1.1417025503 \n",
      "  Ga     4.7839953649     0.9332287360     2.5676815652    -0.0577446417     0.4937215959     0.9964746818 \n",
      "   N     3.1805058373     1.8624047067     1.9276966005    -0.0911458065    -0.2540043083     0.6811402833 \n",
      "   N     4.7710832193     0.9455742699     4.5833247023     0.6318446495    -0.5052905152    -1.1312066462 \n",
      "  Ga     3.1878698453     1.8777353050    10.3718823489    -0.4564375073    -0.5194721928     0.2116615875 \n",
      "  Ga     4.8115861566     0.9000206291     7.8161209485    -0.2284407968     0.7432729377    -0.1294755629 \n",
      "   N     3.2093175492     1.8082819214     7.1392685239    -0.3723954975     0.7053414018     1.5381556935 \n",
      "   N     4.7695724412     0.9531404005     9.7620198767    -0.2259531029    -0.4754493253    -0.5599256006 \n",
      "  Ga     1.6339503793     4.6128736620     5.2034571380    -0.7703744710    -0.4198454609    -0.4967420077 \n",
      "  Ga     3.2187317745     3.6929369956     2.6318911653    -0.4215461029     0.1446791866    -1.0831676458 \n",
      "   N     1.5997909621     4.6344084652     1.9346337629     0.5576137733    -0.5592601466     0.5416014335 \n",
      "   N     3.2237676312     3.6623954343     4.5512908966    -1.0664372662     0.0411011947     0.3420322053 \n",
      "  Ga     1.6017097899     4.6422242390     0.0001709212    -0.7036141822    -0.5534056365    -0.0627075488 \n",
      "  Ga     3.2069402419     3.7095101111     7.8199359359     0.2691718463    -0.8249365149    -0.3212808257 \n",
      "   N     1.6286789436     4.6235567796     7.1397316476    -0.8325204182    -0.9645286415     0.5690181245 \n",
      "   N     3.1893836395     3.6982783777     9.7812702771    -0.6425678496     0.1716824775    -1.0307892986 \n",
      "\n"
     ]
    }
   ],
   "source": [
    "filename = lammps_all.outputs.dfset_folder.list_object_names()[0]\n",
    "print(lammps_all.outputs.dfset_folder.get_object_content(filename))"
   ]
  },
  {
   "cell_type": "markdown",
   "id": "57eeed1b",
   "metadata": {},
   "source": [
    "# extract"
   ]
  },
  {
   "cell_type": "code",
   "execution_count": 44,
   "id": "d20d7e60",
   "metadata": {},
   "outputs": [
    {
     "data": {
      "text/plain": [
       "<Str: uuid: 97b4b57e-4a57-4bb0-8d04-f96889fc08f4 (unstored) value: alamode.extract@localhost>"
      ]
     },
     "execution_count": 44,
     "metadata": {},
     "output_type": "execute_result"
    }
   ],
   "source": [
    "code_extract_name"
   ]
  },
  {
   "cell_type": "code",
   "execution_count": 45,
   "id": "52d3e24b",
   "metadata": {},
   "outputs": [
    {
     "data": {
      "text/plain": [
       "<Str: uuid: c60d5c7e-a3c8-4b16-8707-f5fc9ed8a75b (pk: 59119) value: supercell.lammps>"
      ]
     },
     "execution_count": 45,
     "metadata": {},
     "output_type": "execute_result"
    }
   ],
   "source": [
    "g_superstructure_filename"
   ]
  },
  {
   "cell_type": "code",
   "execution_count": 46,
   "id": "c1aa6ddf",
   "metadata": {},
   "outputs": [
    {
     "data": {
      "text/plain": [
       "<Code: Remote code 'alamode.extract' on localhost, pk: 59135, uuid: 31808c39-5451-4302-9cea-a3288da8628d>"
      ]
     },
     "execution_count": 46,
     "metadata": {},
     "output_type": "execute_result"
    }
   ],
   "source": [
    "code_extract = Code.get_from_string(code_extract_name.value)\n",
    "code_extract"
   ]
  },
  {
   "cell_type": "code",
   "execution_count": 47,
   "id": "d1965acc",
   "metadata": {},
   "outputs": [],
   "source": [
    "builder = code_extract.get_builder()\n",
    "builder.format = g_format\n",
    "builder.cwd = g_cwd\n",
    "builder.structure_org_filename = g_superstructure_filename\n",
    "builder.prefix = g_prefix\n",
    "builder.target_folder = g_target_folder"
   ]
  },
  {
   "cell_type": "code",
   "execution_count": 48,
   "id": "56bf4f7d",
   "metadata": {},
   "outputs": [],
   "source": [
    "extract = submit(builder)\n"
   ]
  },
  {
   "cell_type": "code",
   "execution_count": 49,
   "id": "b2156d2a",
   "metadata": {},
   "outputs": [
    {
     "name": "stdout",
     "output_type": "stream",
     "text": [
      "wait another 2 sec.\n",
      "wait another 2 sec.\n",
      "wait another 2 sec.\n",
      "wait another 2 sec.\n",
      "wait another 2 sec.\n",
      "wait another 2 sec.\n",
      "True True\n"
     ]
    }
   ],
   "source": [
    "wait_for_node_finished(extract)\n"
   ]
  },
  {
   "cell_type": "code",
   "execution_count": 50,
   "id": "86932045",
   "metadata": {},
   "outputs": [
    {
     "data": {
      "text/plain": [
       "<CalcJobNode: uuid: e3c39776-a90c-4076-b58b-7263f75164e4 (pk: 59603) (aiida.calculations:alamode.extract)>"
      ]
     },
     "execution_count": 50,
     "metadata": {},
     "output_type": "execute_result"
    }
   ],
   "source": [
    "nodebank.dump(f\"{g_prefix.value}_extract\", extract)"
   ]
  },
  {
   "cell_type": "code",
   "execution_count": 51,
   "id": "4ed01959",
   "metadata": {},
   "outputs": [
    {
     "name": "stdout",
     "output_type": "stream",
     "text": [
      "done\n"
     ]
    }
   ],
   "source": [
    "print(\"done\")"
   ]
  },
  {
   "cell_type": "code",
   "execution_count": 52,
   "id": "e807a503",
   "metadata": {},
   "outputs": [],
   "source": [
    "node = nodebank.load(f'{g_prefix.value}_extract')"
   ]
  },
  {
   "cell_type": "code",
   "execution_count": 53,
   "id": "5920d4c0",
   "metadata": {},
   "outputs": [
    {
     "data": {
      "text/plain": [
       "{'filename': 'DFSET_cubic'}"
      ]
     },
     "execution_count": 53,
     "metadata": {},
     "output_type": "execute_result"
    }
   ],
   "source": [
    "node.outputs.dfset_file.attributes"
   ]
  },
  {
   "cell_type": "code",
   "execution_count": 54,
   "id": "e48f99bb",
   "metadata": {},
   "outputs": [
    {
     "data": {
      "text/plain": [
       "\"Namespace(VASP=None, QE=None, xTAPP=None, LAMMPS='supercell.lammps', OpenMX=None, get='disp-force', unitname='Rydberg', offset=None, emin=None, emax=None, target_file=['XFSET_cubic01', 'XFSET_cubic02', 'XFSET_cubic03', 'XFSET_cubic04', 'XFSET_cubic05', 'XFSET_cubic06', 'XFSET_cubic07', 'XFSET_cubic08', 'XFSET_cubic09', 'XFSET_cubic10', 'XFSET_cubic11', 'XFSET_cubic12', 'XFSET_cubic13', 'XFSET_cubic14', 'XFSET_cubic15', 'XFSET_cubic16', 'XFSET_cubic17', 'XFSET_cubic18', 'XFSET_cubic19', 'XFSET_cubic20', 'XFSET_cubic21', 'XFSET_cubic22', 'XFSET_cubic23', 'XFSET_cubic24', 'XFSET_cubic25', 'XFSET_cubic26', 'XFSET_cubic27', 'XFSET_cubic28', 'XFSET_cubic29', 'XFSET_cubic30', 'XFSET_cubic31', 'XFSET_cubic32', 'XFSET_cubic33', 'XFSET_cubic34', 'XFSET_cubic35', 'XFSET_cubic36', 'XFSET_cubic37', 'XFSET_cubic38', 'XFSET_cubic39', 'XFSET_cubic40'])\\n# Filename: XFSET_cubic01, Snapshot: 1\\n    0.06116602026581    -0.02770682205444    -0.03470956221892      -5.05917516E-02  1.23982212E-02  4.96152971E-02\\n    0.00074592800284    -0.07482353292872    -0.01070449616403       1.57502410E-04  4.93805953E-02 -1.68150731E-02\\n    0.01277310447625     0.03043618046354    -0.06800140036794       5.73326615E-03 -5.05223212E-03  4.04224838E-02\\n   -0.06720223126434     0.00762125212551    -0.03375618982192       6.73025106E-02 -2.65450948E-02  1.09712206E-02\\n   -0.07407546621431    -0.01420333502937     0.00497938842248       2.97287617E-02  3.03718822E-02 -1.48076678E-02\\n   -0.03723803198216    -0.03492933554239     0.05574023876105       3.04265726E-02  3.11999617E-02 -2.01844394E-02\\n    0.02515837252302     0.04127392514141     0.05811388055867      -7.54098977E-03 -4.60039000E-02 -4.18900118E-02\\n   -0.03413668962178     0.06550988900329     0.01602637141153       2.28199196E-03 -2.53671549E-02  1.36406011E-02\\n   -0.06898803171212    -0.03048638349866     0.00499355872280       4.99807601E-02  2.61907368E-02 -2.62780548E-03\\n    0.02119807764026     0.06226301076040    -0.03725134514636       1.71609601E-02 -3.23587502E-02  1.85411324E-02\\n    0.06859171286898    -0.00390563131786    -0.03152184473701      -3.61542225E-02 -8.35038578E-03  4.01208562E-03\\n   -0.03678313276299    -0.06379440108308     0.01705811406571       2.65944054E-02  4.62179293E-02 -1.33722354E-02\\n   -0.07530469847663    -0.00632922189173    -0.00168732194977       3.65852226E-02  3.88774687E-02  5.34962399E-03\\n   -0.04695219350516    -0.05588099341069     0.01965985300306       4.37214977E-02  5.98748210E-02  2.94379619E-03\\n    0.05878467187386     0.04417867273131    -0.01750174154930      -2.96829560E-02 -2.61325957E-02  1.03938595E-02\\n   -0.06710514186036     0.01726888324685     0.03020578285795       2.30726134E-02 -2.98777848E-05 -4.30759225E-03\\n    0.02324539388498     0.01368756975409     0.07061165487533      -3.72331562E-02 -1.66870882E-02 -4.44051613E-02\\n   -0.00189848519456     0.02334767331326    -0.07186783453053      -2.24590908E-03  1.92027136E-02  3.87566963E-02\\n   -0.01794136728913     0.03903673016053    -0.06219280310172      -3.54500762E-03 -9.87919513E-03  2.64921403E-02\\n   -0.02629890406460     0.04667735125108     0.05332256784101       2.45748453E-02 -1.96526729E-02 -4.39969356E-02\\n   -0.00402540898687     0.06800736227982    19.57882870241868      -1.77525934E-02 -2.02042524E-02  8.23232542E-03\\n    0.05024055469019    -0.03940655385725     0.04045632094499      -8.88493279E-03  2.89087159E-02 -5.03579785E-03\\n    0.03650487739409    -0.06324051117830    -0.01953804976138      -1.44838795E-02  2.74334140E-02  5.98247342E-02\\n   -0.02915386090923     0.06097526591102     0.03384926969119      -8.78817690E-03 -1.84920354E-02 -2.17776395E-02\\n    0.07360554934162     0.01607262187263     0.00613169371371      -2.99627978E-02 -1.63293893E-02 -1.93201889E-02\\n    0.05429518489008     0.01784331973768     0.04947072425383      -1.63955337E-02  5.62712469E-03 -4.21285159E-02\\n    0.00905360624422     0.05676750207626    -0.04908346608111       2.16877238E-02 -2.17517575E-02  2.10649429E-02\\n    0.06381157485779    -0.03987186654902    -0.00721255167325      -4.14778077E-02  1.59858203E-03  1.33029354E-02\\n    0.01267966526725     0.07153717401316    -0.02086534340058      -2.73662358E-02 -2.15240533E-02 -2.43893545E-03\\n    0.03201241768214     0.04916196907057     0.04766560230129       1.04691185E-02 -3.20849235E-02 -1.24958352E-02\\n    0.06364397958311     0.03626078829773    -0.01866287280639      -3.23798904E-02 -3.75141931E-02  2.21312824E-02\\n   -0.00116475253926     0.02793706903563     0.07022725424366      -2.49919114E-02  6.67738554E-03 -4.00913224E-02\\n# Filename: XFSET_cubic02, Snapshot: 1\\n   -0.03680322470909    -0.04846251348604     0.04483983889070       5.24487775E-02  2.34814207E-02 -1.04828351E-02\\n    0.04034337394788    -0.02668449919843    -0.05808660255159      -5.85308537E-03  2.89666742E-02  2.91971479E-02\\n   -0.03080012549173    -0.02358193901819     0.06487640665950       1.45158575E-02 -2.10503141E-02 -3.15550731E-02\\n    0.03098143110739    -0.06276199254161    -0.02854447294577      -2.54238874E-02  5.60132350E-02 -9.21864751E-03\\n    0.04098341719443    -0.05655499576343     0.02890667202726      -2.32623774E-02  4.30555349E-02  1.19011363E-02\\n    0.01289186525944     0.04422812200699     0.05992809654247      -1.46189496E-02 -2.16979779E-02 -1.61833898E-02\\n   -0.06656622730739    -0.00399830297246     0.03559009257849       3.93942597E-02 -1.03138323E-02 -9.99752933E-03\\n   -0.01641847763411    -0.03380166131943     0.06558646973918       2.15166194E-02  4.81664521E-04 -1.51515338E-02\\n   -0.00676411838406     0.07443962610039    -0.01125577538401       1.68325564E-02 -6.74911737E-02  2.35812971E-02\\n   -0.01102180929369    -0.05500901292743    -0.05065798994362       1.68005340E-02  1.50859903E-02  2.05386216E-02\\n    0.06987694640912     0.01858275150953     0.02203627553267      -2.07247403E-02 -1.59635281E-02 -6.90919259E-03\\n   -0.02147679221262    -0.04440276536905    -0.05727866574484       1.34107149E-02  1.43503237E-02  2.97285705E-02\\n   -0.00160342770377    -0.01969722783686     0.07295993400496      -1.63370603E-02  8.51766875E-03 -1.64813573E-02\\n    0.06128496945469    -0.03232079855431    -0.03021956689882      -2.03516625E-02  3.05903550E-02  2.51375972E-02\\n   -0.04157996744935    -0.04487216097477     0.04439931528283       5.48176415E-02  4.17742815E-02 -2.19955103E-02\\n   -0.04274628600466     0.04343010904694     0.04472453903867       8.09168237E-03 -4.83385084E-02 -3.09956123E-02\\n   -0.01007616407354    -0.07000150508919     0.02668265221693       5.64165523E-03  3.55051534E-02 -3.20419233E-02\\n   -0.06191041929125     0.04059409268609     0.01526182649606       3.15272303E-02 -4.86365692E-02  1.29464782E-02\\n    0.04156400946811     0.05077288918864     0.03752666463618      -3.19874947E-02 -1.44223373E-03 -3.84032247E-02\\n    0.03900207431231     0.04568526752320     0.04588461904112      -3.45360262E-02 -5.18193523E-02 -2.13358229E-02\\n   -0.04264358562585     0.05823805703671    19.58913764862547       2.86959524E-02 -3.57763965E-02  2.55337256E-02\\n   -0.03661568620974    -0.00339736258616    -0.06604129903906      -6.47522973E-03  1.05221286E-02  2.62266058E-02\\n   -0.01078148885394     0.05977157696811    -0.04499801992834      -4.96765780E-03 -3.93567862E-02  2.73882641E-02\\n    0.04555710092571     0.04149141194003    -0.04378032671168      -3.75210025E-02 -1.01119181E-02  5.17805394E-03\\n    0.06313799955499    -0.04072309586919     0.00830218060649      -2.20703637E-02  1.07484237E-02 -2.79611733E-02\\n    0.03633562180603     0.04613480809820    -0.04759207711350       3.31191695E-03 -2.97792771E-03  1.86489381E-02\\n   -0.00319213444102    -0.06626612327879    -0.03622588725659      -8.49164912E-03  4.28375924E-02  9.85646349E-03\\n    0.06501243118159    -0.01557220069500    -0.03527880489974      -1.33335098E-02 -1.32824505E-02  5.52331552E-03\\n   -0.06697212630609     0.00602064289198    19.57704962259289       2.41080121E-02  2.26298268E-02  9.47521106E-03\\n    0.06528234322067    -0.03733286926686     0.00762733597465      -4.58490656E-02  2.16189902E-02  3.13682663E-02\\n    0.06672842231172     0.03013685810221    -0.01878273586683      -5.72586366E-03 -3.27514616E-02  1.00493755E-02\\n   -0.03235816688726     0.01905965518612     0.06560017006462       6.41621535E-03  1.48311669E-02 -3.35662428E-02\\n# Filename: XFSET_cubic03, Snapshot: 1\\n   -0.00492059303926    -0.07188493256804     0.02284836899651       1.94517976E-02  5.53214820E-02 -2.69415026E-02\\n   -0.05673217248833    -0.03441800513270    -0.03620172984044       1.77383943E-02  1.51861019E-02  1.98665565E-02\\n    0.00554655933796     0.02622749960097     0.07067572196894      -2.13826694E-02 -1.87261198E-02 -4.31971524E-02\\n   -0.02044947416318     0.05174095120458    -0.05117027155471       1.04983998E-02 -3.58526467E-02  1.09867948E-02\\n    0.07049020089812    -0.02728685895802    -0.00051248866649      -5.69252624E-02  1.33952157E-02  3.00534293E-02\\n   -0.04057592723530    -0.06294186952433    -0.01027710606600       4.03057340E-03  2.70429138E-02  9.21668213E-03\\n    0.02820034630259     0.03838159631703    -0.05869665462396      -1.72122574E-03 -1.95370939E-02  2.86851611E-02\\n    0.01145010910587     0.07435276791889    -0.00736645361448       5.16433069E-03 -5.35580637E-02 -1.26572783E-02\\n    0.02343755730004    -0.01943702710034    -0.06918516174903      -4.79655241E-03  1.56943647E-02  3.30447461E-02\\n    0.07545163791093    -0.00413047252450     0.00192178339533      -3.98213879E-02  2.12792194E-02 -1.72966876E-02\\n   -0.05296227129213    -0.00250909309793     0.05387398255435       6.41217741E-02 -6.63033465E-03 -2.43304965E-02\\n    0.04533870830100    -0.01731140956722    -0.05795187973201      -1.71249805E-02 -2.04253615E-02  2.80586922E-02\\n   -0.05327149284714     0.02108606792785     0.04930749953773       3.60145207E-02  2.34430801E-02 -3.27693031E-03\\n   -0.03783328361729     0.00598309697693    -0.06516555006397       2.71532485E-02 -1.51107535E-02  5.50480838E-02\\n    0.00197627255796    -0.04307292967651     0.06208478719847      -1.33180790E-02  1.97014088E-02 -7.02492119E-02\\n   -0.05539291262314    -0.03133733537907     0.04078357983363       2.90354331E-02  2.59765606E-02 -2.16354482E-02\\n   -0.05793223493819     0.04450754133855     0.01940718017954       2.14247816E-02 -1.04486599E-02 -5.77095687E-03\\n   -0.05861918572250    -0.02156397332411    -0.04257334681711       3.44667964E-02  3.14787204E-02  4.67855879E-02\\n   -0.02754988046057    -0.06792440033568     0.01846574233238      -1.24407572E-02  3.50539595E-02 -3.67001679E-02\\n    0.03802403975330     0.04589679137139     0.04649043632398      -5.42380174E-02 -2.15224082E-02 -3.39216052E-02\\n    0.00146289859843     0.00776939709646    19.53640326054060      -1.12007863E-02  3.37080735E-02  4.87443670E-02\\n    0.05177594431661     0.04635325660661    -0.02973770185475      -3.09723245E-02 -2.42028496E-02  1.17164307E-02\\n   -0.07114125293318     0.00629372300456     0.02475913806453       2.47443388E-02 -5.54748097E-03 -4.18373611E-03\\n   -0.06128634441943     0.02352656858325     0.03747250036112       6.00940795E-02 -1.28610501E-02 -3.11634286E-02\\n    0.00163647806883    -0.01159755571847    -0.07467611646269      -1.99741429E-02  2.89439982E-02  5.06203012E-02\\n    0.07207517485936     0.00026616749045    -0.02277722637541      -7.63198545E-02 -2.23612175E-02  2.14207804E-02\\n   -0.02211473181604     0.06862548399977    -0.02269769414114       3.97502492E-02 -4.85944310E-02  1.28759808E-02\\n   -0.06231034599950     0.03862543445380     0.01841739179974       4.61343754E-02 -2.00478166E-02 -3.08970523E-02\\n    0.06848621569552     0.01206252193504     0.02962832347447      -4.95862989E-02 -2.08020259E-03 -2.63721528E-02\\n   -0.01964024921687     0.04200458545181    -0.05969572116559       1.40577255E-02 -3.68080154E-02  4.72959687E-02\\n    0.00909111107171    -0.07231327314596     0.02004609534633      -2.48188110E-02  5.95709205E-02 -4.10938024E-02\\n    0.03829629032846     0.06510348776758    -0.00293832433723      -1.92396685E-02 -3.14815135E-02 -2.47319527E-02\\n# Filename: XFSET_cubic04, Snapshot: 1\\n   -0.06371068275792     0.01787255307310    -0.03654072365261       5.60193418E-02  1.79327416E-02  8.33330913E-03\\n   -0.00344236573840     0.01465387356885    -0.07407508245459       2.48819923E-03  4.00376732E-03  9.40679873E-03\\n   -0.07028358485766    -0.00673792831991    -0.02699114207055       2.99919982E-02 -1.35810745E-02 -7.26240420E-03\\n    0.03620380547196     0.03670817874642    -0.05527655741822      -2.94016048E-02 -2.25879060E-02  1.91564649E-02\\n    0.05823766740334    -0.03608887046747    19.57964543373510      -5.15013298E-02  8.53465731E-03  1.94762758E-02\\n   -0.04771474127132     0.04115941710652     0.04174816833760      -1.01500290E-02 -3.45386670E-02 -4.28402905E-02\\n   -0.07173407135695     0.00195414024640    -0.02375095945307       3.50535046E-02 -9.33688905E-03 -1.08965040E-02\\n   -0.01602305830060     0.06019026763157    -0.04282635875974       1.62970117E-02 -3.48126259E-02  2.31179789E-02\\n   -0.02895875519060    -0.06241623375517     0.03129389671159       3.19253304E-02  6.25066501E-02  4.95532427E-04\\n   -0.00490735040550    -0.07542665711068     0.00066411226660       4.86996461E-04  5.76507196E-02 -2.35329989E-02\\n   -0.05063441292094     0.00395122554435    -0.05598435282656       2.15719422E-02 -1.39276771E-02  4.55073506E-02\\n   -0.01622631554186     0.07051577129292    -0.02186175697119       1.90112879E-02 -2.52668101E-02  1.26063803E-02\\n    0.02276925546696     0.06896559728569     0.02095259196846       1.60436963E-03 -2.59425745E-02 -4.42350406E-02\\n   -0.02142443527162    -0.07203222087394     0.00812751152000       2.87448203E-02  4.06158507E-02 -9.23239411E-03\\n   -0.01918607319588    -0.06309467812630     0.03694130344965       3.29505162E-02  5.05502190E-02 -1.17123639E-02\\n    0.05197753425250    -0.05469710928413    -0.00450176694797      -3.09394161E-02  1.99378290E-02  4.88866903E-03\\n   -0.02635697194691     0.04386381671654     0.05563253854487       3.27008585E-02 -3.34907743E-02 -2.83151078E-02\\n   -0.05129734660902     0.05551660699478    -0.00043851779397       3.84720118E-02 -4.57808003E-02  1.01820098E-02\\n    0.07302156293084     0.01918753505985     0.00365972321422      -6.32730255E-02 -5.10870406E-03 -1.24106300E-02\\n    0.07076163284392    -0.02657838011610     0.00029110214812      -6.56887413E-02  3.12154764E-02 -1.21438060E-02\\n   -0.07353006725512     0.00283068044982     0.01729219983428       4.66593209E-02  8.30305435E-03 -9.11750348E-03\\n    0.06259676441834    -0.02428343453792     0.03472266719332      -5.63137757E-02  5.93940846E-03 -6.02242252E-04\\n   -0.06226735321838    -0.04134520283257     0.01127185185050       3.91900468E-02  1.32417919E-02  2.20957313E-02\\n   -0.00265194035450    -0.06188058440369     0.04332971498931      -5.26775386E-03  3.14973482E-02 -7.98100144E-03\\n    0.05289297597999     0.04257542492947    -0.03321701381759      -7.95295182E-03 -3.36953154E-02  1.02405254E-02\\n   -0.01676891865125    -0.05563058429008     0.04835023458062       1.70313139E-02  3.27035408E-02 -1.45997321E-02\\n    0.06308200696990     0.02368064205534    -0.03425771897810      -3.66352504E-02 -1.31721649E-02  1.59959268E-02\\n    0.07126868869312    -0.00365236841337     0.02492263924756      -4.66812721E-02 -6.35113140E-03 -8.51841404E-03\\n    0.03123909677631    -0.05177416889473    19.56622071937663      -3.37259951E-02  2.27222728E-02  3.44182960E-02\\n    0.02973451441005     0.02669903858641    -0.06416169976740      -2.68765222E-02 -4.33083244E-02  5.72801809E-02\\n    0.06946404503026     0.02091895831278    -0.02123316640982      -4.37478308E-02 -1.81192461E-02 -9.94078440E-04\\n   -0.03735209604004     0.04232077669472     0.05027401422405       5.79566277E-02 -2.83346426E-02 -4.88069181E-02\\n# Filename: XFSET_cubic05, Snapshot: 1\\n   -0.00877532933246    -0.02558831736996     0.07058282615843       2.50793683E-03 -1.87251070E-03 -1.02467211E-02\\n    0.05444100428370    -0.04591810165197     0.02532604806741      -1.01483482E-02  1.67688094E-02 -1.99049847E-02\\n    0.05555897778657     0.04216281092561     0.02914105484529      -1.45358752E-02 -5.04900120E-02  1.26744694E-03\\n   -0.06185295498746    -0.04122466729896    -0.01372743577944       4.29872291E-02  5.68858193E-02  1.59309220E-02\\n    0.03812933378120    -0.05333006172400     0.03762661480980       1.51533331E-02  3.54950317E-02 -2.02542225E-02\\n   -0.01073753250147    -0.04776501376393     0.05759264355097       1.52871535E-02  4.90676450E-02 -4.22522373E-02\\n    0.00763564514407     0.03616399174894     0.06593607776505      -1.52892039E-02 -3.61619693E-02 -3.65359678E-03\\n    0.04508032963841    -0.03963012357565    -0.04594475929990      -6.25768310E-03  1.63528922E-02  5.11247178E-02\\n   -0.00639586518642     0.07531656994931     0.00045925253760       2.44275200E-02 -4.80095556E-02  7.47434243E-03\\n    0.07221055842943    -0.00529429399570    -0.02170966207281      -1.76814453E-02  3.88471348E-04  3.98730629E-02\\n    0.06683600328618    -0.03106577333961     0.01678005144888      -5.80450713E-03  1.82439917E-03 -2.19073275E-02\\n   -0.00162587254788    -0.06754765492596     0.03388767610701      -1.36510767E-03  3.41503144E-02 -1.07032675E-02\\n    0.06830675067310    -0.00589626409361    19.57974809083917      -2.54106817E-02 -1.16471197E-02  2.03959982E-02\\n   -0.07277057120768    -0.00665825711669     0.01933430402536       2.43767704E-02  1.55381350E-02 -2.88921540E-02\\n    0.02004499415983     0.07017116375186    -0.01969542350746      -1.91851172E-02 -3.55046043E-02  5.00223876E-03\\n    0.00991658860755     0.01236030017300    -0.07390932258415       2.62038086E-02 -2.34310028E-02  5.71087795E-02\\n    0.04278781368111     0.06117289487233     0.01186522860160      -2.17050311E-02 -4.42059598E-02 -6.73937007E-03\\n   -0.01994661634057    -0.07208903157366     0.01090906648866       3.53065925E-02  4.35472084E-02 -2.51621318E-02\\n    0.04290185695200    -0.03423852604595    -0.05196977707264      -1.20523641E-02 -1.16754111E-03  4.93390943E-02\\n    0.03386135539154     0.02521744090681    -0.06269922645958      -1.92692947E-02 -2.26833983E-02  5.17609987E-02\\n   -0.02307835381183     0.04808766093050     0.05355996800023       1.83742144E-02 -5.26047503E-02 -4.40894115E-02\\n   -0.06514968633642     0.01978134267489     0.03283170084107       6.18284724E-02 -4.08817441E-02 -1.06943871E-02\\n    0.05711982920486    -0.04402455234170     0.02264658072611      -5.87585786E-02  3.94747260E-02 -5.46242001E-03\\n    0.03812299979718     0.06484207887695    -0.00747297936588      -2.88531762E-02 -3.01747149E-02  3.08168439E-02\\n   -0.00549086287296    -0.01436633897311     0.07400785403758       4.52502638E-03  7.90863162E-03 -5.00999680E-02\\n    0.05720347056185    -0.04418090434102    -0.02212497152967      -1.87668240E-03  5.82774106E-03  2.54464187E-02\\n    0.03290242369598    -0.01793902135893     0.06564545489456       1.91185821E-02 -1.24791407E-02 -2.39542119E-02\\n    0.05509375404871     0.02236939975609     0.04666896120765      -2.52624016E-02  1.03022093E-02 -2.66917605E-02\\n    0.04354202983376    -0.00313538424055     0.06170870874717      -1.07657021E-02  9.89668578E-03 -2.60231948E-02\\n    0.04172853072531     0.02184637288655     0.05911995799971      -9.12262911E-03 -1.73483680E-02 -3.13578022E-02\\n   -0.03010194009662    -0.06933345056892    -0.00067049784072       7.08566180E-03  2.88679230E-02  4.44899215E-02\\n    0.02096418793853    -0.06814648343469     0.02510504638459       6.16152822E-03  5.63657489E-02  8.05838353E-03\\n# Filename: XFSET_cubic06, Snapshot: 1\\n    0.02265113624579    -0.00921371048373     0.07152438238918       4.67336558E-03  7.19196137E-03 -4.48574626E-02\\n   -0.02771510242822     0.05556497472393    -0.04310580474283      -1.31288765E-02 -1.18240957E-02  3.27864985E-02\\n   -0.02236658204179     0.02558657649794    -0.06751864072753      -2.38429485E-02 -2.60125982E-02  1.01751404E-02\\n    0.04859346524225    -0.05424328782796     0.02024955762286      -2.30152822E-02  4.17941034E-02 -2.08515173E-02\\n   -0.02316611741739     0.02518974138162    19.54417956763776      -7.28013012E-04 -2.16890511E-02  4.20504671E-03\\n    0.06526676488541    -0.03204350246260     0.02066802037897      -3.08593556E-02 -3.52208812E-03  9.65628397E-03\\n    0.07135649254985    -0.02388174671353     0.00718448781468      -2.58443686E-02 -1.65909666E-02  2.91618613E-02\\n    0.01953717391641    -0.06854320692039     0.02517600749031      -2.94320270E-02  1.99400535E-02 -1.57903156E-02\\n    0.00373873413220     0.04422080738780     0.06119024254266      -8.98420697E-03 -4.15724931E-02 -5.22822311E-02\\n   -0.04389905749132    -0.03594071369976    -0.04994838909095       7.09010678E-03  3.09357488E-02  2.86989355E-02\\n   -0.02700060756282     0.06864647488860    -0.01650249708221       2.33080514E-02 -1.22428022E-02  5.57539407E-03\\n    0.03920205344564     0.05325936093807     0.03661069794278      -5.13478140E-02 -4.27845844E-02 -3.06575362E-02\\n    0.06986414408154    -0.02311500313611     0.01727430809630      -5.25636180E-02  1.41026138E-02  1.03900310E-02\\n   -0.05441799025409    -0.03578004294852    -0.03836892728696       2.55684224E-02  2.83862554E-02  1.75775770E-02\\n   -0.04145078577144     0.01653079126287    -0.06101040089839       3.91764540E-03 -1.86813584E-02  6.11264073E-02\\n   -0.05451593192456     0.04141161188153     0.03204364658328       7.03478088E-02 -1.69951652E-02 -3.78568242E-02\\n    0.02788898954603    -0.05143933385519     0.04785293009617      -3.42432543E-02  4.97071103E-02  5.16257130E-03\\n   -0.06997667613845     0.00331937601758     0.02838926293555       1.82134402E-02 -5.86109891E-03 -2.53804914E-02\\n   -0.07104919001172     0.02522832713245     0.00540812711582       3.05317105E-02  1.44523086E-02 -2.68231558E-03\\n   -0.04216806401445     0.05939857764294     0.02018333670615       4.21985371E-02 -2.51172733E-02 -3.15579488E-03\\n   -0.06211327874515    -0.04242637864348     0.00745967361469       2.02847638E-02  2.20775489E-02  6.57325853E-03\\n    0.01289617988213    -0.07116681895747     0.02196989182381      -1.57244558E-03  5.49490102E-02 -1.16112358E-02\\n   -0.04346191149318     0.02207421492592     0.05777105683856       4.72724745E-02 -1.78286450E-02 -1.19769749E-02\\n   -0.07389969749619    -0.01439644735627    -0.00672909661362       2.68646689E-02  1.47469921E-02  7.69292007E-03\\n   -0.04778289235429     0.01490925034522    -0.05664109094529       3.33339313E-02  3.34689051E-02  5.07438224E-02\\n    0.04289131435892     0.06222349696507     0.00150841487617      -2.12621133E-02 -2.56564056E-02  1.25782750E-02\\n    0.00768138690979    -0.06454712483851    -0.03857938184136      -1.15751779E-02  3.38875414E-02  3.22068516E-02\\n   -0.05590141713639     0.03500595375639     0.03692314299261       3.59961057E-02 -2.14031891E-02 -8.78618485E-03\\n    0.06062150021824     0.04135476333101     0.01812514802442      -1.84283689E-02 -3.62711345E-02 -2.64793460E-02\\n   -0.02194631734508    -0.01576582052199     0.07059392168537       2.59871783E-02  1.07068584E-02 -2.89228791E-02\\n    0.06849398095811     0.01401669622467     0.02873691896106      -4.86342809E-02 -3.51351651E-02 -3.02781350E-02\\n    0.07211763983998    -0.02140211766240     0.00739588524019      -2.01260596E-02  2.84110336E-03  2.72583701E-02\\n# Filename: XFSET_cubic07, Snapshot: 1\\n   -0.06258605609628    -0.03888958291267     0.01686089101118       2.65622088E-02  2.13693282E-02  1.91492149E-02\\n   -0.06905834180719     0.00150428651562     0.03069831078391       2.86029364E-02 -1.72104596E-02 -1.35413096E-02\\n    0.01286841262439    -0.00194796278801     0.07446014457658      -4.04318964E-02  1.98656706E-02 -3.01368852E-02\\n   -0.03078238096341     0.06780767729648    -0.01297180157631      -1.34702903E-02 -3.05698873E-02  6.68003068E-03\\n   -0.00749726144480    -0.07473747339782     0.00847377491959      -1.06560910E-02  1.42879256E-02  2.22065345E-02\\n    0.03312306131532     0.06192759169095     0.02795603547351      -4.11499355E-02 -2.99459830E-02 -2.74886548E-02\\n   -0.05375089520012    -0.01581425133983     0.05073908205950       5.10518430E-02  2.10758741E-02 -3.04258019E-02\\n    0.00539049687285     0.05635089651253    -0.05009214236026       1.07432226E-02 -2.83071659E-02  4.39055245E-02\\n   -0.03017991076346     0.02505296135629    -0.06461598747121      -7.45520191E-03  2.26456896E-03  2.82429364E-02\\n   -0.02592024546799     0.06979242816289     0.01307140242574      -1.75477037E-02 -3.84368345E-02  2.07254261E-02\\n   -0.02488101156151     0.00643786645243    -0.07108581342785       9.37702787E-03  1.68199314E-02  6.98935972E-02\\n   -0.01274912498557    -0.01588823905907     0.07279235809223      -1.83475721E-03  8.55728246E-03 -2.50950026E-02\\n   -0.02285454372027     0.01057465816478     0.07127096293486       1.44019428E-02  1.11386840E-02 -8.46042384E-02\\n    0.03724981744810     0.01833165671578    -0.06316727939317      -5.92541936E-02 -1.38390254E-02  4.69309726E-02\\n   -0.06890583523972     0.03073754458967     0.00457088187744       2.32645196E-02  7.08999019E-04 -1.09892702E-02\\n   -0.01408532614006    -0.06398089891024     0.03770612550120       1.59793994E-04  1.89097867E-02 -2.08257753E-02\\n   -0.05363327618945     0.00699234228078    -0.05280419064316       4.16283119E-02 -1.43899632E-02  7.75365767E-03\\n   -0.07024780383834     0.02197956772363     0.01720024387131       3.01247660E-02 -2.13968743E-02 -1.61074307E-02\\n   -0.05007938240563    -0.05634881284820    -0.00552905702945      -6.27092087E-03  4.37729097E-02  1.52174484E-02\\n    0.05593062266467    -0.04349312307426    -0.02634041431249      -6.01297109E-02  2.17188751E-02  1.48056614E-02\\n   -0.01463955144306     0.07074844706275     0.02222711170633      -5.34961170E-04 -1.73201650E-02 -1.72157207E-02\\n    0.04883134888015     0.04994746845319     0.02888690851556      -6.50820194E-02 -4.37565925E-02  5.59245700E-03\\n   -0.05192602296395    -0.02916974181780    -0.04654587003088       4.60012495E-02  3.45027132E-02  9.99872122E-03\\n   -0.05173187287981    -0.03723325580789     0.04063498140877       8.84785545E-03  5.70167661E-03 -3.02414314E-03\\n   -0.02716575261861     0.04023472057803     0.05793869926966       2.03565042E-02 -3.86824172E-02 -1.12840620E-02\\n    0.06025679403653     0.02944729431308     0.03486659364829      -4.62216403E-02 -2.78104594E-02 -5.20864567E-02\\n   -0.06504807387295    -0.02418119398576     0.02996200384145       5.11482074E-02  1.92338858E-02 -6.12972534E-03\\n   -0.01577424070734    -0.03494440076481    -0.06514419323743      -9.90749383E-03  3.16116844E-02  4.93843282E-02\\n    0.04300597557025    -0.06042478367286     0.01459572921748      -3.66630734E-02  1.34798737E-02  4.94343778E-03\\n   -0.05300185160581     0.02349498828834     0.04850250493232       2.57959165E-02 -3.15481718E-02 -4.84491765E-02\\n   -0.00968821237077    -0.04727073762187     0.05818349958089       1.40602531E-02  6.02763461E-02 -2.08454472E-02\\n    0.00459386109301     0.04163407781090    -0.06292220374884       1.44833303E-02 -1.20820167E-02  5.28191517E-02\\n# Filename: XFSET_cubic08, Snapshot: 1\\n   -0.06549436142120     0.00382321204279    -0.03754431222211       5.19727028E-02  8.70849685E-03  4.21739273E-02\\n   -0.04817198979802    -0.05600706937590     0.01601159876876       1.85771828E-03  2.02773707E-02  1.07368234E-02\\n   -0.06057023100361    -0.04039737724643     0.02032246911492       3.21545398E-02  2.88977951E-02 -5.87230046E-03\\n    0.00570039438289    -0.05584409202495     0.05062259008150      -8.35568610E-03  6.39772601E-02 -2.55908574E-02\\n   -0.04363592654546    -0.06167903444964    -0.00230355105667       3.42825969E-02  1.16995077E-02  8.83412609E-04\\n    0.06823990954827    -0.02919966835696    -0.01429677746640      -2.03628453E-02  1.42399222E-02  1.65326043E-02\\n    0.04351279728239    -0.01884808058877     0.05886501551287       8.24122179E-03  2.78782242E-02 -3.27814923E-02\\n    0.05518218000328    -0.05029075594013    -0.01180976703013      -4.60268277E-02  2.43909708E-03 -2.30568321E-03\\n   -0.01917487089941     0.06289866444264     0.03727983457012      -9.28980015E-03 -4.91192520E-02 -1.98245808E-02\\n    0.05403685120296     0.01342465628756     0.05112241235030      -4.43312588E-02 -2.80937653E-02 -2.08478916E-02\\n    0.05817814103041     0.01910035373126    -0.04431911673170      -3.08871218E-02 -4.10446775E-02  3.01732636E-02\\n   -0.06768917116792     0.03053063896266     0.01413364440145       2.17561821E-02 -4.30663076E-04  1.05820147E-02\\n   -0.06015933386828    -0.04499165478273    -0.00838506181397       4.07480166E-02 -5.18660421E-03 -1.38519006E-02\\n    0.02353803271529     0.05031851471825     0.05126121160035       3.27012744E-03 -1.18170849E-02 -6.47277557E-02\\n    0.00885272231001     0.05363005801005    -0.05252761099666       2.07437759E-02 -2.74802179E-02  3.74286288E-02\\n    0.03383329522624    -0.03736121251312    -0.05633073452301      -1.57214559E-02  7.51991408E-03  6.40872367E-02\\n    0.01068242978841     0.07252101583718    -0.01844699662773       6.63826426E-03 -6.64982770E-02  2.49673297E-02\\n    0.00201089347440     0.04436008082641     0.06117060772130      -3.52935378E-02 -4.50454148E-02 -2.67160665E-02\\n   -0.07143089201225    -0.02002654951614     0.01450064471068       1.60515963E-02 -1.33947471E-04  1.42200506E-03\\n    0.05861695527876    -0.04397493633983     0.01854619231989      -5.39672311E-02  4.36739202E-02 -9.78302832E-03\\n   -0.06853076145357     0.02911720132809    -0.01301641431741       3.98385636E-02 -4.04453515E-02  2.29818822E-02\\n    0.06902095697731    -0.01960897511390    -0.02377602373330      -1.68151316E-02 -3.71963897E-04  3.36627610E-02\\n    0.03244242108243    -0.06053421417463     0.03157217068653       1.75935715E-02  4.23536459E-02 -2.16667717E-02\\n   -0.00622731654490    -0.06203462807439     0.04273908241175      -2.37434554E-02  1.63916051E-02 -2.50396997E-02\\n    0.00293860065827     0.04268227779245    -0.06231606133085      -2.21249744E-02 -4.05445722E-02  3.44987481E-02\\n   -0.04317189654759    -0.02775180682403     0.05549529983066       3.88549449E-02  9.44946396E-03 -1.00332880E-02\\n   -0.01583790935995    -0.06960747465204     0.02485284334697       2.10038827E-02  5.39994747E-02  1.58265321E-03\\n   -0.03092638130667    -0.00437656910111     0.06883391835361       2.19028236E-02  3.45461785E-02 -2.86489662E-02\\n    0.05748367367146    -0.03833299426582     0.03065799291011      -4.67161563E-02 -1.60999752E-03  4.13020770E-03\\n    0.05470860802232     0.04527920889484    -0.02589334223669      -1.10987024E-02 -3.35851232E-02  1.78345621E-02\\n    0.05995981148174     0.02014482784828    -0.04138490836386      -1.75616494E-02 -1.28379781E-02 -1.30645166E-03\\n   -0.04702963126922    -0.04474104656549     0.03873185070048       2.53853055E-02  1.81930142E-02 -4.46813263E-02\\n# Filename: XFSET_cubic09, Snapshot: 1\\n   -0.01034223921269     0.05383734315019     0.05204115958672      -8.54643132E-03 -1.14378773E-02 -4.73962007E-02\\n   -0.05393916748011    -0.03506536880031     0.03968236187865       3.59669238E-02  2.69344791E-02  2.20331084E-02\\n    0.02217614885996    -0.03540087239694     0.06299762185980      -3.26723181E-02  9.75360267E-03 -3.25980889E-02\\n   -0.00405462471968     0.00223871270040     0.07544701398317      -1.71104857E-02 -1.69859700E-02 -1.54900166E-02\\n    0.02721978971510    -0.06848548307685    -0.01680849126072      -2.30306721E-02  5.03825757E-02  2.87997942E-02\\n   -0.06962312803362     0.00598104090272     0.02881928031981       3.18687033E-02 -1.61904452E-02 -4.45517825E-02\\n    0.05244068817334     0.04623298544568    -0.02874350362557      -4.35358324E-02 -4.39637229E-02  2.55138756E-02\\n   -0.01982057822207     0.03284657197596    -0.06513026255438       4.29587584E-03 -5.58733640E-02  3.75603966E-02\\n   -0.00304148188386    -0.05276442676923     0.05404043275724      -6.74870647E-03  3.00426132E-02 -4.83046338E-02\\n   -0.07549170142760    -0.00238444117405    -0.00300352961288       6.21966161E-02  2.39451487E-05  7.55240215E-04\\n    0.04882260171586     0.05447887517533     0.01902917343620      -4.37744670E-02 -2.65246311E-02 -1.48411899E-02\\n   -0.00728277507298     0.07506500574760    -0.00509017002665       3.40791853E-03 -2.89243817E-02  4.42680970E-03\\n   -0.02137115274277    -0.06870447053499     0.02316620978134       1.58197085E-02  6.64989528E-02  3.40175574E-03\\n   -0.00736760998099    -0.07339517280248    -0.01650971365508      -1.06168001E-02  6.71222917E-02  2.09701394E-02\\n   -0.03487409779439    -0.00103778654105    -0.06705538022614       7.65645281E-03 -9.84501321E-03  6.82592788E-02\\n   -0.01606321271310     0.06780508388854     0.02929415516470       9.35783179E-03 -5.57393853E-02 -1.87984114E-02\\n   -0.00547750326515    -0.05711228601324     0.04921267591537       1.24911658E-02  7.08165781E-03 -4.14535900E-02\\n   -0.00658153493559    -0.07526992989211     0.00219653936938      -1.54109502E-02  3.95715812E-02 -1.08530143E-02\\n   -0.06846987466679     0.02150471610048    -0.02373030058913       1.88929662E-02 -1.22383891E-02  2.13990404E-02\\n   -0.01580876827132    -0.07167087656720    -0.01808513250737       1.32533776E-02  5.57269562E-02  1.30640712E-02\\n   -0.04621656016333    -0.05641458174242    -0.01987783299889       7.15543865E-03  3.05365346E-02  9.40153789E-03\\n    0.03829950097314    -0.04859934598949     0.04341607444162      -1.68910669E-02  6.08491629E-02 -3.46734737E-03\\n   -0.05648161048888    -0.01724897657838    -0.04718054910085       2.46086274E-02 -1.70609922E-02  5.64836372E-02\\n   -0.03187411543007    -0.01178481996228     0.06751934908305       1.32699319E-02  2.56663012E-02 -3.38614695E-02\\n   -0.03404705651017     0.05545455286791     0.03846159426656       3.22194109E-02 -5.21405706E-02  6.89491253E-03\\n   -0.02355703372251     0.07024428832452    -0.01498365266167       4.18007520E-02 -3.67574653E-02  1.47737464E-02\\n    0.06246831179677    -0.00729992299056    -0.04192999967564      -6.56019918E-02 -8.02746183E-03  5.24210996E-03\\n    0.03812994113918    -0.06104497826156     0.02309376400455      -3.55311834E-02  1.92917362E-02 -2.64538657E-03\\n   -0.02987531223444     0.06605196482282    19.59016961010993       2.47011247E-02 -4.57606101E-02  1.27597272E-02\\n   -0.05691078051995    -0.01633123035804    -0.04699103857006       2.76981205E-02 -6.74308689E-04  3.64867945E-02\\n   -0.00901720010351     0.03841293464258     0.06447356259205      -1.86509638E-02 -3.28979152E-02 -2.88335805E-02\\n    0.03625339849953     0.00035781145963     0.06632696893681      -4.85390768E-02 -1.84398866E-02 -4.51312638E-02\\n# Filename: XFSET_cubic10, Snapshot: 1\\n    0.00361193936736    -0.02668958739464     0.07062806487906      -8.35949544E-05  2.44302121E-02 -8.14233107E-02\\n   -0.03253411248374     0.05980770580565     0.03283707616704       5.89484945E-03 -3.47502492E-02 -1.91602184E-02\\n   -0.01781803714817     0.03785545914726    -0.06295383606342      -9.62001833E-04 -4.55257150E-03  3.37530352E-02\\n    0.06048090213790     0.03635580624021     0.02709279543827      -3.39903992E-02 -7.39282032E-03  3.94263801E-03\\n   -0.04687079449718     0.05871291100788    -0.00834424505248       4.23902692E-02 -1.35890563E-03 -1.58071276E-02\\n   -0.04328949004695     0.05972703547607    -0.01650469662119       1.47790518E-02 -2.44269092E-02 -1.33190959E-02\\n   -0.01984399136185    -0.01236602461585    -0.07188185564472      -1.11226609E-02  1.33362536E-02  6.78421851E-02\\n   -0.02414899987980    -0.00219742410234    -0.07159400008916      -1.32540126E-02  1.21852996E-02  3.74299872E-02\\n   -0.03294421555616     0.04098198518416     0.05430340024178       3.52319366E-02 -5.13293593E-03 -1.64935307E-02\\n   -0.07420914733013     0.00960712170978    -0.01069623258066       5.55883020E-02  2.68821793E-03 -1.17793279E-02\\n   -0.00973696276945    -0.07247257082220    -0.01914736986100      -2.18512947E-02  6.24873283E-02  2.63219840E-02\\n    0.03674439583406     0.04437191585538    -0.04893553095012      -5.56783547E-02 -3.86368320E-02  2.51924080E-02\\n    0.04390078073256     0.02827814843005     0.05465136326105      -5.15792251E-02 -7.37688094E-03 -4.64011855E-02\\n   -0.05834940388556     0.00658964766251    -0.04759860630623       3.83101522E-02 -2.63390216E-02  2.01187840E-02\\n    0.05903009892050     0.02099393829905     0.04228954604634      -5.01436987E-02  2.09869759E-02 -1.53320222E-02\\n   -0.04687999425088     0.04690297855548    -0.03627782335558       3.11750899E-02 -2.37723912E-03  3.61333555E-03\\n    0.00686726719487    -0.00600445663580     0.07503659675153       2.69622569E-03  3.33175815E-02 -2.92386197E-02\\n    0.00446909419328     0.05313411985386     0.05357701200707      -6.67072555E-03  1.34322331E-03 -3.59416580E-02\\n   -0.01896966402772     0.05959378832173     0.04245510533010       6.05024529E-04 -4.17479601E-02 -4.38109253E-02\\n   -0.04559781337432     0.05978960808752    -0.00772954842673       2.73550890E-02 -3.56273593E-02  3.05564749E-02\\n   -0.02327307383737    -0.00016426125904    19.53966082334719       5.67774423E-04 -3.54052999E-03  4.12657774E-02\\n    0.02050343245809    -0.00366227478785     0.07266292537196       2.37728996E-03 -2.15372273E-02 -3.04966084E-02\\n    0.02409897032550    -0.07153342895790     0.00398897246465      -2.02249869E-03  2.69998339E-02  2.94521624E-02\\n    0.04543123288256     0.04120203742262     0.04418256331835      -3.21266336E-02 -1.08876861E-02 -9.37562412E-03\\n   -0.02917375405615    -0.05435521371700    -0.04368187905929       1.32712831E-02  6.15528481E-02  1.40032427E-02\\n   -0.04210133948573    -0.00632091775975    -0.06245980259266       6.86752137E-03  3.16876962E-02  5.12998454E-02\\n    0.01186360121312     0.06720448497591    -0.03250409036171      -3.18400148E-02 -1.20243147E-02  3.92524346E-02\\n   -0.00557638261772     0.05848908747111     0.04755664323631       6.33368564E-03 -3.81534378E-02 -3.47651736E-02\\n   -0.01375086426908     0.05968394682956     0.04429948020902      -6.81499281E-03 -1.75529780E-02 -4.23631299E-02\\n    0.06661314826220    -0.03236882613275     0.01512121972298      -3.20022097E-02  6.85112523E-03 -3.22446779E-02\\n   -0.05055918254596    -0.03571087076602    -0.04338440376616       3.45201063E-02  7.32282796E-03  2.07720237E-02\\n   -0.06485172452555    -0.01373561026714    -0.03632203973437       3.21786668E-02  2.82264350E-02  3.31359176E-02\\n# Filename: XFSET_cubic11, Snapshot: 1\\n   -0.01676456774582     0.00860882685823     0.07320205667651       2.10466601E-02  5.95734816E-03 -6.71683898E-02\\n    0.03477930402970     0.01022944739891     0.06632844132467      -1.62195907E-02  1.02998474E-02 -4.30830838E-02\\n   -0.06261564864048     0.02778590590262     0.03195195933936       5.13089012E-02 -2.75415720E-03  6.63938494E-03\\n    0.01605653631069     0.07277105751467     0.01265956353765      -2.55100851E-02 -2.72253260E-02  1.85564272E-02\\n    0.00346083252004    -0.03151617544090     0.06861819771491       1.57989459E-03  1.51431565E-02 -2.20128582E-02\\n   -0.05161265402701    -0.01781649656297     0.05227246036367       2.72557080E-02 -4.07706077E-03 -2.69304384E-02\\n    0.02258301785508    -0.03149858908266    -0.06489645543368      -2.01187908E-02  1.69688924E-02  6.79719942E-02\\n   -0.05286990563653    -0.05283909224879     0.01124753882315       3.90240493E-02  1.30854582E-02  2.69952644E-02\\n   -0.07265998613559     0.01358089438874    -0.01580472845846       5.51660606E-02  1.82865301E-02 -5.07520463E-03\\n   -0.06445365749678     0.01393229398344     0.03695024951536       2.38530172E-02  1.09853774E-02 -4.39199079E-02\\n   -0.07020883371722    -0.02276645845914     0.01631293269366       3.30397379E-02  2.94695365E-02 -6.48653523E-03\\n   -0.03722812906138    -0.03035987491886    -0.05836135824994       2.60238012E-03  2.62235078E-02  6.02897830E-02\\n    0.04640899362025    -0.05835000876270     0.01245734782670      -2.47625036E-02  9.05936995E-03  1.01884766E-03\\n    0.02845814973254     0.02920879632521    -0.06364498137058      -1.43848029E-03 -3.65790139E-02  1.10098735E-02\\n    0.06066286178777     0.00150140406009    -0.04507179502523      -4.07545054E-02 -2.65707718E-04  2.19728753E-02\\n   -0.01098942014380    -0.03848111863891    -0.06412596873909       7.61239375E-03 -1.01582851E-02  1.22509031E-02\\n   -0.04994881215697     0.05389791718729     0.01771537244154       5.27896025E-02 -4.19380071E-02  8.55860001E-03\\n   -0.01685619697514     0.05581273860590    -0.04810936034946       1.12433336E-02 -2.38648399E-02  3.85222947E-02\\n    0.06424056139645     0.03983024770329     0.00063667617562      -4.83746966E-02 -1.26636232E-02 -7.64474655E-04\\n    0.07231474243221     0.01391680138955    -0.01704712238753      -5.19492810E-02  1.77702081E-02 -1.29988688E-03\\n    0.06820122761039    -0.00811889368479     0.03156548493773      -3.88409442E-02 -2.83530433E-02 -1.38733543E-02\\n    0.01478523855585    -0.07256991868445    -0.01512307344264       1.54641933E-02  4.38208026E-02  3.26998245E-02\\n    0.02229515190604    -0.06849182613156     0.02292377973810      -2.01569875E-02  2.32394366E-02  9.24095771E-03\\n    0.04152766379863    -0.03474545026159     0.05274381994003      -8.81072136E-03  1.65463625E-02 -3.63493391E-02\\n   -0.03248288219747     0.06303718949342     0.02617018967231       1.63952539E-02 -4.29488177E-02 -6.50123362E-03\\n   -0.02934497571527     0.01127297028000    -0.06874224509424      -1.52552916E-02  3.43564560E-03  5.06960444E-02\\n   -0.01001131566492     0.06948840249037    -0.02801498170110      -2.69935114E-02 -2.54976844E-02  1.46171090E-02\\n    0.05504839873199    -0.03574739830765     0.03749001245312      -6.61152222E-02  3.77602827E-02 -4.40286965E-02\\n   -0.07355225925387     0.01622050579205    -0.00637683871155       3.13773752E-02 -3.51041345E-02 -3.09678032E-03\\n    0.00941069531787    -0.01092798955015     0.07420054978849       2.41497344E-02 -1.31934261E-02 -2.71931384E-02\\n    0.03659513033587     0.00430256361448     0.06599990987896       3.17268076E-03 -2.45361500E-02 -3.69131368E-02\\n    0.00861348846280    -0.05400494965873     0.05218215176170      -1.17803646E-02  3.11075144E-02  3.65627472E-03\\n# Filename: XFSET_cubic12, Snapshot: 1\\n    0.03483335435427    -0.03226126270459    -0.05881795698656      -4.44355736E-02  1.27138032E-02  4.66693151E-02\\n    0.00001993264219     0.03045325027927     0.06918311111991      -2.17479497E-02 -1.33999278E-02 -3.11801962E-02\\n   -0.00094719385070     0.06104545174246     0.04456746972748       3.96243368E-03 -3.81639160E-02 -1.50822846E-02\\n   -0.05983449221506    -0.04617521136347     0.00117775408706       4.27195517E-02  2.69305500E-02  3.60406006E-03\\n    0.00138127452408     0.07000045207748     0.02849091980757      -3.26447323E-02 -2.67361025E-02 -5.39110047E-05\\n    0.01533021421640     0.04417343881314    -0.05939188136161      -2.29903420E-02 -5.38350180E-02  4.88833220E-02\\n   -0.01620042780573    -0.01858695539823     0.07145470562808       6.37809487E-03 -1.05530524E-03 -6.04742572E-02\\n   -0.06755087760858     0.02168927782288     0.02607983666178       3.83092486E-02 -4.44677806E-03 -1.44287451E-02\\n    0.02397862084956     0.06806862782006     0.02248091118458      -1.04582277E-02 -7.62792347E-02 -1.60935960E-02\\n    0.02484672078021    -0.03306173238895     0.06327136825541       1.07804324E-02  5.21161868E-02 -2.88248379E-02\\n    0.05814338821108     0.04689706549396    -0.01156353666090       9.40006341E-04 -1.17490722E-02  4.17765099E-02\\n    0.07522081353394    -0.00697697473445    -0.00261815767747      -6.38501208E-02 -1.06373654E-02  1.61843654E-02\\n    0.02540161145579    -0.01076050965723     0.07037523218469      -3.04710970E-02  2.47716115E-02 -3.78996403E-02\\n    0.03337014130541    -0.06411856564742     0.02211214417040      -1.53493784E-02  2.71432823E-02  1.58238040E-03\\n    0.04985923479228    -0.05666376796890    -0.00412041549164      -2.18623965E-02  2.14308863E-02  2.12891260E-02\\n   -0.07114273296669     0.02553163495037    -0.00074221880531       2.76612273E-02 -8.80109510E-03  6.04234813E-05\\n    0.00372954439405    -0.05608704099338    -0.05053749155726      -2.48835335E-02  5.61779813E-03  3.97321613E-02\\n    0.02184485813840    -0.05223037423633    -0.05008486719039      -1.98292154E-02  6.08038311E-02  1.01763237E-02\\n   -0.06823358444596    -0.03061321289783    -0.01098694078003       4.66653138E-02  1.29976370E-02  2.72222014E-02\\n   -0.03553821671869    -0.00718578479914    -0.06632573693818       2.74774278E-02 -1.50470623E-02  1.38203078E-02\\n    0.01141799207654     0.04519688149258     0.05950273185290      -1.26524873E-02 -5.62786504E-02 -3.61138343E-02\\n   -0.00560075592734     0.05574388359995     0.05074401132336      -1.88244444E-02 -2.41290325E-02 -3.94250872E-02\\n   -0.04423765540585     0.00721025869450     0.06086662249515       3.75913987E-02  1.29604299E-02 -4.94147107E-02\\n   -0.01828978800007    -0.04875490314183    -0.05479184984812       7.17546962E-03  2.87615300E-02  6.65867558E-02\\n   -0.07216502302181    -0.01749401617882     0.01413762936917       5.54451596E-02  2.38244333E-02 -7.37087766E-04\\n    0.06537866539585     0.00196883453961    -0.03788743225127      -1.52828838E-02 -7.41637447E-04  1.26232984E-02\\n    0.04716897476039     0.05861859558522     0.00725615624489      -1.42184277E-02 -6.66607884E-02 -5.28751466E-03\\n   -0.04259584982113    -0.06239181970797     0.00256088545603       2.19955203E-02  3.62569437E-02 -5.22657044E-04\\n   -0.06774727382119    -0.02734645746615     0.01939540831961       3.46861458E-02 -2.83378659E-03 -1.47913996E-02\\n   -0.02558401178980    -0.01084274438260     0.07029649315522       3.12089664E-03  2.17114550E-02 -3.40915774E-02\\n   -0.06146470999919     0.04386960273233     0.00335426580468       2.88430955E-02 -7.49566056E-03  1.48936647E-02\\n    0.04155573171179    -0.05685117880326     0.02747304782990      -2.42506127E-02  5.02500551E-02  1.93171217E-02\\n# Filename: XFSET_cubic13, Snapshot: 1\\n   -0.05870900157063    -0.00474636372020    -0.04737540395060       5.27658431E-02  3.34915566E-02  2.06568672E-02\\n    0.01112566580692     0.05214361083476    -0.05358140665248      -3.56262302E-02 -5.53825347E-02  4.74679041E-02\\n   -0.02643149745405    -0.06389597818051    -0.03053495737802      -9.60592430E-04  3.48542671E-02 -7.92553507E-03\\n   -0.00946398956302     0.03008234220539     0.06869635592932      -9.89270166E-03 -7.60534383E-03 -5.75345928E-02\\n   -0.06321650123486     0.00828594239437    19.57097328137037       6.23950707E-02  1.61844771E-02  1.75570128E-02\\n    0.05377203386552     0.04644035824110     0.02579855084134      -3.65908421E-02 -2.38299567E-03  2.63016806E-03\\n    0.02471089482525     0.04288205883015    -0.05713321654856      -1.04507775E-02 -2.85615451E-02  1.85346981E-02\\n    0.05162398992712     0.02781698482504     0.04769573085856      -3.19185831E-02  3.93936473E-03 -2.21649336E-02\\n   -0.06479385071811     0.02685969052090    -0.02817831913162       3.16160808E-02 -1.80009101E-02  1.50915066E-02\\n    0.03387367357127    -0.00337166547120    -0.06749007212368      -2.29580321E-02 -2.25412227E-02  3.82174161E-03\\n    0.00384042464136    -0.02230124511477    -0.07212218326542       2.03430259E-02  2.76858729E-02  8.46859293E-03\\n    0.02847217074450    -0.00655922809781    -0.06971381311268      -1.19725044E-02  2.39376298E-02  2.20301476E-02\\n   -0.02951880217288     0.01499945396515    19.54362656309783       5.05463448E-02  6.76561402E-03  1.91222940E-02\\n    0.00615923046850     0.00380744924211    -0.07524141763948      -2.73951179E-02  6.97633718E-03  3.40821365E-02\\n   -0.03396444070754     0.05365774967874     0.04099959008061       2.06490701E-02 -9.60925332E-03 -3.30347291E-02\\n    0.06062076568169     0.03929930398696    -0.02223490947279      -4.55352133E-02 -1.72326660E-02 -1.91860122E-02\\n    0.02568747316131    -0.05688266576974    -0.04264058818593      -2.26875776E-03  4.22557569E-02  3.18439957E-03\\n   -0.05497466199654     0.03850987727112    -0.03476319359122       1.46777398E-02 -4.55554864E-02  1.99098996E-02\\n   -0.06502751573141    -0.03252609251422     0.02066831469606       4.09973240E-02  3.92223403E-02 -2.51031751E-02\\n    0.06427368942926     0.03808338724964     0.01150009486161      -4.64224232E-02 -3.59367671E-02 -3.69543777E-02\\n    0.05050799591236    -0.05345144771472     0.01748109855848       1.88874724E-03  3.74614176E-02  6.38766481E-03\\n   -0.00672149409953     0.04009949428945     0.06372249047899       2.77062473E-03 -9.85062225E-03 -3.72643724E-02\\n   -0.04170817497343     0.01125646147175    -0.06202760626743       4.18120735E-02 -9.96019135E-03  1.15459245E-02\\n    0.06140955021641    -0.01851284608914     0.03999806754868      -4.14580444E-02 -1.48647297E-03 -1.69985115E-02\\n    0.06110022604927     0.03680864125527     0.02501179776221      -3.89936146E-02 -5.07046001E-03 -2.72385447E-02\\n    0.05873292436954     0.00947597906308    -0.04662995971765      -2.88726351E-02 -1.60274522E-02  1.35499247E-03\\n    0.00861977331394    -0.06535118932072    -0.03699493586960       1.21575002E-02  4.37531985E-02  2.89333106E-02\\n   -0.04042499197511     0.02144133220145    -0.06016471576519       2.21407899E-02 -2.82315979E-02  1.17894920E-02\\n   -0.05326678364963     0.03332703044059     0.04201978736628       5.13739279E-02 -1.79871203E-02 -2.67494869E-02\\n    0.03112374260241    -0.03596285694357    -0.05875107901208      -3.88520983E-02  2.74491243E-02  3.78312179E-02\\n   -0.07283518699101    -0.00624107542766    -0.01922987908307       5.64633352E-02  2.36959704E-02  1.72090050E-02\\n    0.04410986192076     0.03804334230449     0.04817393399134      -5.24293301E-02 -3.62502857E-02 -3.74547051E-02\\n# Filename: XFSET_cubic14, Snapshot: 1\\n    0.03776084928108    -0.02328347435120     0.06120213893553      -1.49702595E-02  1.47889499E-02 -7.17846819E-02\\n    0.00297207148740     0.03707490258872    -0.06580518305098      -2.78905871E-02 -3.84699214E-02  1.19260794E-02\\n    0.00266903179346     0.03205009992675    -0.06840592874828      -1.47861989E-02 -7.26770869E-03  3.64206696E-02\\n    0.04741604927028     0.01760068168563    -0.05617506549887      -1.99291344E-02 -2.41824471E-02  1.40795981E-02\\n    0.06451773244049    -0.03938448442138     0.00016825228880      -5.07530148E-02  3.67712173E-02 -2.05626793E-02\\n   -0.07097440485621    -0.01331873427951     0.02233716425360       4.07176601E-02  9.81717470E-04 -6.57240268E-03\\n    0.02055976746155    -0.06225118531673    -0.03762697990546      -3.59999244E-02  2.96717801E-02  4.43465906E-02\\n   -0.02248533356531     0.07216087817699    -0.00095976804525       3.72524974E-02 -6.55837032E-02 -2.72706607E-03\\n    0.04774301969997    -0.02110349474483     0.05467129325763      -3.41841871E-02  1.66132689E-02 -6.53750637E-02\\n   -0.06893660735097     0.02829928493625     0.01267274126707       3.69714921E-02 -1.03214803E-02 -2.85536141E-02\\n   -0.03590602072843    -0.06164866460874    -0.02497806161610       2.04763902E-02  5.53087899E-02 -1.06689934E-03\\n   -0.01087735409335     0.04503563680335    -0.05972585975390       9.89410539E-03 -4.07784444E-02  4.67574077E-02\\n    0.06187717182775    -0.04208433192641     0.01066903687776      -1.89025034E-02  2.41818293E-02 -3.16263780E-02\\n   -0.00220017071076    -0.04129329227305     0.06327501089149      -1.64609400E-02  3.24772497E-03 -6.50082835E-02\\n   -0.03953071858173     0.02997410033743    -0.05703138903426       1.78418542E-02 -3.19793306E-02  6.52907668E-02\\n    0.06103409092612    -0.00688496567018    -0.04405837855707      -7.80729258E-03 -1.68383499E-02  5.17096980E-02\\n    0.03512332772589    -0.06673699224785    -0.00512146964720      -1.75768687E-02  2.87986057E-02  2.71614922E-02\\n   -0.01545367437051    -0.05030845870549    -0.05425814819140       9.08658230E-04  6.84719441E-02  7.72071569E-03\\n   -0.06563534802924    -0.01333919596467    -0.03503955858033       4.81670735E-02  2.32401454E-02 -1.85241197E-02\\n   -0.03450033434433     0.02319400966649    -0.06313056759700       4.72671481E-02 -3.72197616E-02  2.41705860E-02\\n    0.02060068815798     0.00183002038889    19.53887307343754       4.80970374E-03 -2.60545725E-03  1.83946779E-02\\n   -0.04738664173026     0.04241289738961     0.04085775357600       3.46683191E-02 -4.52081460E-02 -4.93382308E-02\\n    0.00270366178059     0.01492290734358     0.07405201400030      -3.04085585E-02 -4.00491756E-02 -4.54197310E-02\\n    0.03436884871233    -0.01510317979366    -0.06560777329151       2.71507693E-03 -7.02922260E-03  5.81902173E-02\\n   -0.00957218866690    -0.05171288791108     0.05429414474116       1.34878927E-02  2.35297477E-02 -3.87680824E-02\\n    0.01491311481095     0.04778674091420    -0.05663682658932      -2.63239188E-02 -4.51992142E-02  2.83784438E-02\\n    0.01248070904266     0.04654009452820     0.05824049485466      -2.36384687E-02 -5.28353253E-02 -4.03579942E-02\\n    0.00745594409486    -0.06922446277386    -0.02942934551860       9.07636457E-03  2.36797732E-02  1.15283359E-02\\n    0.05355246186274    -0.05246353323725     0.00966515596763      -8.18398621E-03  2.84416343E-02  2.76688850E-03\\n   -0.00078376353240    -0.07516709529057     0.00793707833818       8.69362252E-03  5.17340626E-02 -2.18977816E-02\\n    0.00489652926679    -0.07277463069315     0.01983887232583      -8.02360569E-03  3.27548796E-02  1.94272729E-02\\n    0.01420573797695    -0.01156075054810    -0.07333655150895       2.28915902E-02  3.35161746E-03  3.93135679E-02\\n# Filename: XFSET_cubic15, Snapshot: 1\\n   -0.01718639411219    -0.06549833837799     0.03359016623189      -5.99111988E-03  3.86840478E-02 -5.23398539E-02\\n    0.03338200840753     0.03916765427454     0.05536461052926      -1.77114248E-02 -1.77841800E-02 -6.64702916E-02\\n    0.04280768566309     0.05585829110141    -0.02758726335764      -1.63114781E-02 -4.08835436E-02  1.31413059E-02\\n   -0.02744074310768     0.02249922237691    -0.06674199825009       6.78727391E-04 -1.19575786E-02  5.39866527E-02\\n    0.05391410649916    -0.04699203292845    19.58710893541166      -3.66672208E-02  3.94763105E-03  1.82702422E-03\\n   -0.07361930749267     0.00521650382186     0.01633062743544       2.94766842E-02 -2.96274103E-02 -3.91773790E-02\\n   -0.00776351365130    -0.04420796349021    -0.06082012437487       9.64323154E-03  5.02103419E-02  4.07535352E-02\\n    0.01591856551658    -0.00010796205176    -0.07389378412212       1.46322498E-03 -9.34427737E-03  3.02280013E-02\\n    0.06407799902936     0.03954911263310     0.00660162513729      -2.59575065E-02 -5.63850263E-03 -1.78102268E-02\\n    0.03974617343819     0.00958273158161    -0.06357764286984      -1.00247710E-02  2.43064712E-02  3.52691856E-02\\n    0.00787218858821     0.02320069432741    -0.07150846220304       5.88999216E-03  8.88123731E-03  2.09558191E-02\\n    0.04260663996832     0.05338748777085     0.03237520791362      -2.80784687E-02 -5.37872960E-02 -3.60848247E-02\\n    0.02115763353277     0.00094086669388    19.53901621319951      -9.57137562E-03  2.16029237E-02  2.35978806E-02\\n    0.03254705068262     0.03503207865315     0.05854183692088      -6.23312353E-03 -4.08941731E-02 -1.47447876E-02\\n    0.04361672957365    -0.04642438182487    -0.04069473408472      -1.82301672E-02  2.72258140E-02  2.86608937E-02\\n   -0.04141715015820    -0.02183890593536     0.05934126372398       3.44332829E-02 -7.16297739E-03 -1.88582062E-02\\n   -0.07544122155156    -0.00294643662478     0.00369382285746       2.28030050E-02 -7.52575810E-04  3.84196000E-04\\n   -0.02708171309633     0.01798118200932     0.06824193453514       3.41400850E-02  1.22572982E-02 -6.53597840E-02\\n    0.01039783967961    -0.05549421935707    -0.05025913141080      -6.05311005E-05  4.92419637E-02  1.48878695E-02\\n   -0.04563985184375     0.01944747531176    -0.05703072290580      -3.79366338E-03  4.26230380E-03  6.35601012E-02\\n    0.01597857868297    -0.04311850255306    19.55158452975636      -2.87858725E-02  4.07332193E-02  1.55734031E-02\\n    0.05103101484506     0.04006278352488    -0.03878804737655      -3.22081055E-02 -3.65625251E-02  2.05988597E-02\\n   -0.02166498474616    -0.07165069383388     0.01051238471587      -6.22794574E-03  3.10848638E-02 -2.91860710E-03\\n   -0.07476497644369     0.00202455608578    -0.01094546393720       6.40629912E-02 -7.61597257E-03 -1.66311803E-02\\n   -0.06355793619524     0.04025482291763     0.00732404910454       4.83463840E-02  5.69073145E-03  2.25618486E-02\\n    0.00712198545796     0.06727332875197     0.03372358637652       1.75816551E-02 -4.37734803E-02 -5.56429239E-03\\n    0.05248949280716     0.04362509995073     0.03248703623652      -1.89748904E-02  2.45432421E-03 -5.56802834E-03\\n   -0.00299621708502     0.01231037682131     0.07451966868185       7.96397399E-04  1.62895579E-02 -1.49952171E-02\\n   -0.05323409592301     0.03245312224772     0.04273908761624       3.13776582E-02 -2.07434377E-02 -1.62235080E-02\\n   -0.04271937895025     0.03031559852313    -0.05449516368912       5.82752910E-02 -4.76089828E-02  2.13655339E-02\\n    0.04127282062465    -0.03731424196697     0.05116547041371      -4.11815446E-02  4.98087757E-02 -3.40419619E-02\\n    0.06569178526688     0.02530328101234    -0.02753247263837      -5.29594007E-02 -1.25445918E-02 -5.63961246E-04\\n# Filename: XFSET_cubic16, Snapshot: 1\\n   -0.00739667510262    -0.06936464546425    -0.02911252111520       7.87740664E-03  4.17529824E-02  2.38379070E-02\\n    0.00421675566230     0.07479229232632     0.01010127225399      -8.13699171E-03 -2.89811047E-02  1.33923600E-02\\n   -0.05858494728663     0.00109868296146     0.04775249294012       5.27087185E-02 -4.80679816E-03 -6.22694932E-02\\n    0.00072310974885     0.04391079787327     0.06152253792937       1.40802448E-02 -4.95810918E-02 -2.81924587E-02\\n    0.05140285379803     0.00050502512135    19.55615935922859      -1.14416572E-02  7.62206928E-03  4.49548141E-02\\n    0.07351606117200     0.00046985648192     0.01757474639325      -1.12604593E-02 -1.74323563E-02 -4.26786857E-02\\n    0.05867465201886    -0.03814076532961    -0.02857045611307      -2.87023849E-02  1.60484639E-02  1.89574688E-02\\n   -0.00507968133385     0.03620264431573    -0.06616093335590       2.50460921E-02 -3.59864649E-02  4.59532571E-02\\n   -0.01506897885482    -0.07360235908179    -0.00832600428208       1.67195281E-03  4.29642882E-02  2.72648396E-03\\n   -0.02776359412340    -0.06731616649921    -0.02028349842744      -6.00855260E-04  5.68389835E-02  1.92054623E-03\\n   -0.07057685334472    -0.00597017449490     0.02640016111367       2.07150179E-02  1.30903273E-02  2.14704281E-02\\n   -0.06038089405192    -0.03838761971456    -0.02437707976445       5.01123906E-02  8.68850852E-04  1.01515228E-02\\n   -0.00576633051787    -0.02862249824459     0.06972234749323       2.23034929E-03  1.27119358E-02 -4.82737027E-02\\n   -0.04760376370313     0.05803234671382    -0.00893488386613       3.17096951E-02 -5.35262038E-02 -7.07037131E-03\\n   -0.01757656548728    -0.07344765155030    -0.00319539568729      -1.25713515E-02  4.39068298E-02 -6.30090111E-03\\n    0.06607285893347    -0.02311793796128    -0.02852441010145      -5.47482360E-02  1.05369524E-02  3.18507449E-03\\n    0.04027107491606    -0.06288296819244     0.01173356514638      -4.39070440E-04  3.70714292E-02  8.68069919E-04\\n    0.04626292761737     0.01080101037219    -0.05879441666822      -5.34652451E-02 -2.15897879E-03  5.38738140E-02\\n    0.00275562339088     0.06734521433987     0.03421596669937       5.53625496E-03 -2.74767076E-02 -2.53452301E-02\\n    0.04422072610539    -0.03325394215449     0.05150151889874      -1.94992047E-02 -4.51813553E-04 -5.56310311E-02\\n   -0.02136355339813     0.07063460542564    -0.01637238007662       6.96743798E-03 -3.34682342E-02  2.14142053E-02\\n   -0.07521093971494     0.00751082786912     0.00077829613312       6.42881375E-02 -1.68583750E-02  6.42299067E-03\\n    0.05770843391731     0.04722580843442     0.01237591942574      -3.46783941E-02 -4.07307447E-02 -2.55757522E-02\\n    0.03903831963733     0.05439916658365     0.03507768521388      -3.02622331E-02 -2.09082683E-02 -1.89349247E-02\\n    0.07450376092424     0.01275584922222    -0.00042618241772      -3.97083555E-02 -4.00642870E-02 -2.77565056E-02\\n   -0.06246344688583    -0.00352102885720     0.04242197399802       3.41351606E-03  2.70198795E-02 -4.13159591E-02\\n   -0.01697239018744     0.05741254667197    -0.04614586848947      -1.29033846E-02 -3.98653565E-02  2.50509997E-03\\n    0.03045743159581    -0.01202182633712    -0.06812873313780      -1.63131749E-02 -2.61249214E-02  5.20282759E-02\\n   -0.02511995382398    -0.03047743073217    19.54712760596624       7.48408623E-03  4.86864777E-02  2.88060656E-02\\n    0.00739222328582    -0.07070294292008    -0.02569343547986      -2.47438027E-02  5.72097344E-02  2.49663326E-02\\n   -0.03452935146692    -0.02592496106637    -0.06204292060795       1.96466503E-02  1.01268555E-02  3.73305716E-02\\n   -0.07439271324720     0.00843466740273     0.01040597518263       4.59868504E-02  1.19656470E-02 -2.54202727E-02\\n# Filename: XFSET_cubic17, Snapshot: 1\\n   -0.05204091661160     0.05108387952730     0.01989683354085       1.98021581E-03 -2.34812138E-02  1.72526858E-02\\n   -0.07224001831486     0.01806289263313     0.01299289810025       3.06481730E-02  5.51183295E-03 -6.80254435E-03\\n   -0.06308469151484     0.02933762465249    -0.02955214370165       1.46937494E-02 -1.69887365E-02  3.42818436E-04\\n   -0.04801487229881     0.04317421210948     0.03929711389378       7.53692646E-03 -8.15665296E-03 -1.16239901E-02\\n   -0.05579636839493    -0.01183086475972    19.56197430162822       6.51479044E-02  1.13327201E-02  2.46965988E-02\\n   -0.00244709498741     0.04139571186269    -0.06319897539152       1.73542964E-02 -3.74921070E-02  4.11621946E-02\\n    0.03111892474565    -0.04813472971822     0.04927843393592      -2.03462372E-02  4.32593582E-02 -3.14560257E-02\\n    0.07459850725681    -0.01135254019790    -0.00445940174489      -3.56119438E-02  3.06650886E-02 -2.10988095E-02\\n    0.00147410410743    -0.03012257569275    -0.06931205648038      -4.26606030E-02  3.18295434E-02  2.06682155E-02\\n    0.01297557634732    -0.04309315549573     0.06073152475390      -6.39237164E-03  1.28007904E-02 -1.91584790E-02\\n    0.07433881485661    -0.01204111847063     0.00651581030405      -4.51740932E-02  2.09834350E-03  1.75337249E-02\\n   -0.07236928030613     0.00878409779433     0.01998075655377       5.78585581E-02  1.46487408E-03  2.26860987E-03\\n   -0.02963259335430     0.06737319065366     0.01721819702538       3.46712819E-02 -4.14332178E-02 -4.80989343E-03\\n    0.05631296414853     0.00891004974132    -0.04963028128780      -3.49159773E-02 -4.82741355E-03  2.44815105E-02\\n   -0.00028039057044     0.04399422109959    -0.06146652447113       1.33784582E-03 -2.25914422E-02  1.46360302E-02\\n    0.06937750993565     0.00615556528838     0.02936960758250      -3.65132827E-02  1.39242352E-02 -2.73769908E-02\\n   -0.02154445895878     0.06793400745802     0.02518949475687      -2.27731101E-03 -5.67007895E-02 -1.37796870E-02\\n   -0.00147856197136     0.03383030519307     0.06757978999669      -7.58797441E-03 -3.71972767E-02 -1.69288206E-02\\n    0.03970683236384     0.05741077216680     0.02900128333115      -3.15690316E-02 -6.04423235E-02 -2.33670065E-02\\n   -0.02875518293200    -0.02949710652472     0.06337794473820      -1.84545096E-03  2.18690170E-02 -3.88585213E-03\\n    0.06438503417124    -0.02458068724319    19.58052839484995      -1.32446111E-02  3.13515593E-02  2.80285076E-02\\n    0.06541533137390    -0.01174549873004     0.03600807402135      -3.80737060E-02 -4.59899614E-03 -2.67454869E-03\\n   -0.01939109808695    -0.06094062377733    -0.04029800743868       3.64427066E-02  4.80913553E-02  3.90348677E-02\\n    0.04404758127199    -0.01872415677622     0.05850572849877      -2.20062739E-02 -1.63011496E-03 -4.51396600E-02\\n    0.01725717852852     0.00058228681529     0.07359045076417      -3.25679889E-02 -1.28245372E-02 -6.68471248E-02\\n   -0.03494346359331    -0.06419662380858     0.01927307859966       2.17049530E-02  6.31296366E-02  3.15267159E-03\\n   -0.04172443266523    -0.05819886034140    -0.02420058066718       2.10063126E-02  3.36897732E-02  1.58268689E-02\\n   -0.05639060071179    -0.04119482204618     0.02892733154487       1.82336419E-02  3.92809079E-02 -1.83633104E-02\\n    0.06303786145584     0.02286998942094    19.57669369815745      -3.89735009E-02 -5.48065753E-03  3.86803543E-02\\n   -0.04430803674360     0.05652110325194     0.02357682119009       2.22033428E-02 -3.04803218E-02 -1.82552979E-02\\n   -0.01810827451453     0.01082273328464    -0.07258555337092       1.72786137E-02  1.14841376E-02  6.52984844E-02\\n   -0.02962439439956     0.05847536276821     0.03763948619913       4.16618358E-02 -3.74573721E-02 -2.14961023E-02\\n# Filename: XFSET_cubic18, Snapshot: 1\\n   -0.05510386143787    -0.05169664879095    -0.00217363616502       4.16679323E-02  2.25828264E-02  8.93538502E-03\\n    0.02183678352764     0.02729327085107    -0.06702190664916      -5.54364275E-03 -3.15631649E-02  2.58629061E-02\\n    0.04596912150322     0.00859370753745    -0.05938595603860      -1.33494410E-02  1.82686013E-02  2.71362569E-02\\n   -0.04937055067149    -0.04467695920177    -0.03578018684625       3.06099235E-02  3.86133064E-02  9.71557499E-03\\n   -0.00188725398528     0.07549207764391    -0.00332989759789       5.27212259E-03 -4.55725246E-02 -7.53675190E-03\\n    0.03680891750904    -0.06078818607625     0.02576050763088      -1.17542188E-02  4.31167384E-02 -3.22088604E-02\\n   -0.00247534866065     0.07533319873098     0.00569960848888       3.21767022E-02 -6.67946329E-02 -1.52967988E-02\\n   -0.06016131449023    -0.02844993954796    -0.03584579341299       1.48591256E-02  1.67943178E-03  3.91801728E-02\\n   -0.01944827288469     0.03933715358099     0.06154719139863       2.70936011E-02 -3.53563863E-02 -2.44587985E-02\\n   -0.03301131028223     0.02401074727120     0.06361950267285       2.77103977E-02 -3.40535769E-02 -4.16146784E-02\\n    0.01973498345519    -0.05569857258713     0.04713706791169      -3.63067081E-02  2.66297009E-02 -3.18244528E-03\\n    0.01292533816726    -0.06524998681935    -0.03590374054181      -1.05275646E-02  3.12557562E-02  5.64232332E-02\\n    0.00954999704609    -0.03611273179793     0.06571432020726      -3.11881527E-02  1.56213188E-02 -2.15085342E-02\\n    0.05416693352434    -0.04304684681217    -0.03044036816844      -3.28187671E-02  6.28829340E-02  3.36433480E-02\\n   -0.06250606739091    -0.02074646368577     0.03709824123590       2.96119026E-02 -1.67245098E-02  2.63361945E-03\\n   -0.06289293344604    -0.02171357457444     0.03587064717716       3.32835930E-02  3.29246926E-02 -3.45447403E-02\\n    0.04456308117341     0.02044399544104     0.05753154417000      -1.56952277E-02 -2.54091305E-02 -4.61267212E-02\\n    0.07528869306327    -0.00363406514523     0.00566656899749      -1.15452255E-02 -1.40867035E-02 -2.73459400E-02\\n    0.03012759501850     0.00270718212323     0.06927267061894       9.93089878E-03 -1.12462748E-02 -3.68784102E-02\\n    0.05886935806042    -0.00485032783921    -0.04716541863068      -4.51509464E-02 -5.20368025E-03  1.75883572E-02\\n   -0.07054341067251     0.02379760471178     0.01307688622198       2.69610919E-02 -1.04885801E-02 -5.18696110E-03\\n    0.06604858596832     0.02659941292880     0.02537241117508      -1.93786228E-02  1.67196260E-02 -1.55364292E-02\\n    0.05528173077555     0.05095229392879     0.00784204863344      -1.69882169E-02 -3.76890280E-02  2.13357896E-02\\n    0.05346190807656     0.04346676042191    -0.03108325668887      -3.83086996E-02 -1.46280247E-02  4.22468499E-02\\n    0.04800089210493     0.01156763441031    -0.05723467414122      -1.21220002E-02 -1.75277403E-02  2.23424098E-02\\n   -0.07021029353065    -0.02797864784732    -0.00118897962773       5.20235159E-02  4.70599757E-03  6.59689412E-03\\n    0.00747377517263    -0.07499502260727     0.00579594710468      -2.74198810E-02  4.18395438E-02  1.81702742E-02\\n    0.06671322135477    -0.01159110786447    -0.03359607200454      -1.99967638E-02  3.16436649E-03  1.90037020E-02\\n   -0.03974013444042    -0.01679839627591     0.06206641065900       4.77165043E-03  1.70633657E-02 -4.24733423E-02\\n   -0.07531064431091    -0.00476134115071     0.00439774942950       1.91978394E-02  1.53247503E-02 -1.04071099E-02\\n    0.00515773703836     0.07185380140486     0.02289394474204      -6.14302775E-03 -1.92453270E-02 -3.49144186E-02\\n   -0.02961105274415     0.03079925729523    -0.06235619486961      -9.33190279E-04 -6.80367199E-03  4.84061670E-02\\n# Filename: XFSET_cubic19, Snapshot: 1\\n   -0.02228147652499     0.00262112456242    -0.07218288740241       1.71278560E-02  2.99246826E-03  1.74811190E-02\\n   -0.01266503066122    -0.06833174940159     0.02973336087757      -1.71276649E-02  2.14981253E-02 -7.98133702E-03\\n   -0.05354971174432     0.00496855501605     0.05311728103390       3.31477773E-02 -4.61306308E-03 -3.67688276E-02\\n    0.01605023596379    -0.07373013021184     0.00446783567876      -1.14314242E-02  1.43515260E-02  7.47821573E-03\\n   -0.05981878122103     0.01361444113251    19.56741819479143       5.39863927E-02 -1.62285574E-04  4.46263610E-02\\n   -0.02833436454554    -0.04688327643572     0.05208479525268       3.34077640E-02  2.53305972E-04 -2.80393684E-02\\n    0.05540581019291    -0.05021622846291    -0.01105578180201      -4.27382225E-02  2.08611598E-02 -3.48137456E-03\\n    0.00123945397990    -0.07420900098486     0.01432451184234      -2.92744747E-02  6.67878452E-02 -6.19916623E-03\\n    0.04278952596195    -0.06101783169836     0.01263267208124       2.72544918E-03  2.00853402E-02 -1.95626872E-02\\n    0.06087530687744     0.02328073699843    -0.03828717849068      -1.72356552E-02 -8.92555283E-04  3.73340429E-03\\n   -0.03490686281080    -0.03893203688053     0.05458489865641       5.49877557E-02  2.03773910E-02 -4.29905680E-02\\n    0.02804522473211     0.05004178133478    -0.04922386819686       2.36414926E-02 -1.94085394E-02  1.02880555E-02\\n   -0.01396592814121     0.07398338007340     0.00671684816420       3.07040773E-03 -6.25248912E-02  3.55354773E-02\\n    0.01393391485784     0.00476216344689     0.07414088981192      -2.40925738E-02 -2.84741674E-02 -1.86770519E-02\\n    0.01938585428592    -0.02841291873561    -0.06730972016605      -4.98305309E-03 -6.17132479E-03  5.09835632E-02\\n   -0.00575222390133     0.03106417781172     0.06867046309093       6.86086342E-03  8.07296054E-03 -6.72117541E-03\\n    0.02368648374153    -0.06638726819280    -0.02730173659833      -3.92111084E-02  4.56998794E-02  2.52051759E-02\\n   -0.03788771831215     0.00380044510900    -0.06529763492812       2.80691806E-03 -1.88531697E-02  3.02741198E-02\\n   -0.03894594453310    -0.06477068799521     0.00129425721445      -7.58036134E-03  3.92954986E-02 -4.65615417E-03\\n   -0.06043212414921     0.03650150374650    -0.02700559809746       4.56193001E-02 -2.82752583E-02 -2.33062927E-02\\n   -0.07471402489202    -0.00640895648128    -0.00951017734776       4.28936682E-02  6.44029520E-03 -2.68633434E-03\\n   -0.05225477162593    -0.04686825556967    -0.02804477124150       2.40773772E-02  2.31938470E-02  1.52821779E-02\\n   -0.01667345611248     0.07179872509563     0.01675239228348      -1.07227969E-02 -8.45364735E-02 -2.34784251E-02\\n    0.06666071436952    -0.02635964998631     0.02398378078983      -6.79704190E-02  6.94940375E-03 -2.70812172E-02\\n    0.06376986879118     0.04056982193232     0.00109413097368      -1.49251656E-02 -1.34837488E-02 -5.82358998E-03\\n    0.06564453134232     0.03729696549170    -0.00366545947844      -4.76724004E-02 -5.70546344E-02  1.42271265E-02\\n    0.06190394962488    -0.01164841240589    -0.04178419842338      -2.44740202E-03  8.99991313E-03  2.10071127E-02\\n    0.07528761629733     0.00479864574357     0.00473830858855      -2.68732388E-02 -2.09992869E-02 -3.02341175E-03\\n    0.07380191172813    -0.00066768632509     0.01632592220636      -4.50414032E-02  7.53517031E-03 -6.56804457E-03\\n    0.00886086400605    -0.07252651219008    -0.01936733935992      -8.35435612E-03  8.00776922E-02  1.97174786E-02\\n   -0.06566823285429    -0.03591962654337     0.01054359259796       4.20649851E-02 -4.35365373E-04 -7.52092010E-03\\n   -0.01427543901329     0.07239151854685     0.01641290997711       3.12637129E-02 -4.75870582E-02 -2.12734413E-02\\n# Filename: XFSET_cubic20, Snapshot: 1\\n    0.02172199853925     0.07103497130625     0.01399611968494      -2.91214320E-02 -2.71524065E-02 -9.25381663E-03\\n    0.01154911412523     0.05493251778291     0.05062351407084      -2.37971590E-02 -3.92159833E-02 -4.58110020E-02\\n   -0.04539582432827     0.01666085463463    -0.05809766586645       2.62211693E-02 -3.21323396E-02  2.57410797E-02\\n   -0.06997538148708    -0.02845845578772    -0.00269555330065       1.97294316E-02  2.60578433E-04  2.34595269E-02\\n   -0.04248292980345    -0.06062684571469    -0.01527383295831       1.24835442E-02  4.04977914E-02 -1.34668892E-02\\n   -0.06526980318707    -0.01304921813806     0.03582281963398       4.90100731E-03 -2.24809378E-03 -4.63961343E-02\\n   -0.07441834530339     0.00773764686297    -0.01075836536610       4.47196268E-02  2.37808471E-02  1.09798874E-02\\n    0.01309755816869     0.06472146370552    -0.03678708772770      -3.85148695E-03 -4.34683366E-02  3.70205806E-02\\n   -0.04784794485333    -0.05829072843210    -0.00514479037936       3.84919568E-02  1.88770481E-02 -2.03450778E-02\\n    0.03762006695243    -0.06555893417510    -0.00067855836527      -1.38349074E-02  2.42466537E-02 -2.12336535E-02\\n    0.01025762048935    -0.07488915712619    -0.00031479185762       2.80609848E-02  5.18794303E-02 -2.79446332E-03\\n    0.02371065258277     0.01086140455956    -0.07094743520879      -3.11818715E-03  1.65733457E-02  3.86010425E-02\\n   -0.03923012835080    -0.05974146702086    19.58696760789703       1.93748979E-02  5.48201777E-02  1.96261478E-02\\n   -0.03675204166597     0.03323127396891     0.05708479288296       3.98665208E-03 -2.23507563E-02 -1.34849218E-02\\n   -0.01955216983807    -0.04446064325338    -0.05791949228287       1.99216513E-02  3.74323202E-02  2.58492791E-02\\n    0.01615417316833     0.05089671781119     0.05350019189224      -3.03786553E-02 -4.92955092E-02 -1.79164972E-02\\n   -0.05009260519728    -0.03765236939206     0.04226977318824       1.91806003E-03  1.99589028E-04 -3.79837293E-02\\n    0.04539954803360    -0.03408728454151     0.04990633031414      -2.84660267E-02  4.95114653E-04 -1.35560491E-02\\n   -0.00702563153538    -0.04569234336140    -0.05980429737206       2.93233325E-02  1.75718928E-02  3.53203627E-02\\n   -0.02275663814357    -0.04282692375047     0.05798011497210       1.56849448E-02  6.40090317E-02 -1.53836724E-02\\n    0.06778977659633    -0.02023826025824    19.58495700525147      -5.59219004E-02  2.18486320E-02  6.79122505E-03\\n    0.07007024895109    -0.02828926104884     0.00189252684443      -7.22728188E-02 -5.54153431E-03 -1.45539067E-02\\n   -0.06861840147104    -0.00839369860275    -0.03057391880641       3.04302782E-02 -1.31674721E-03  4.83768535E-02\\n   -0.05720459835040     0.03727358385816    -0.03243482093882       4.20817922E-02 -3.34440502E-02 -5.70970899E-03\\n    0.03398836596309     0.05944243189393    -0.03201705794829      -1.42843703E-03 -7.10903091E-02  2.52065635E-02\\n    0.07317541743995     0.00833579428625     0.01701694894095      -3.11025704E-02 -4.19304849E-02 -2.07618817E-02\\n    0.02653770629837    -0.05912862675983     0.03890063461289       4.42339757E-03  1.88366542E-02 -2.32408322E-02\\n    0.04969358782523    -0.04192262133938    -0.03855833085925      -4.00233741E-02 -5.85909708E-03  2.30705693E-02\\n   -0.05731684921606     0.03550270368673    19.57740111694337       3.61284229E-02  6.96827193E-03  4.00315653E-02\\n    0.05615493882489     0.05059735646915     0.00048382105592      -3.62954814E-02 -4.76659212E-02  2.38199525E-02\\n   -0.00617646779433    -0.07062910972809     0.02621228378643       5.87749858E-03  2.80496014E-02 -1.87746375E-02\\n   -0.02211478869679    -0.00186426779095     0.07225762493626      -1.41462123E-02 -3.63541109E-03 -4.32277623E-02\\n# Filename: XFSET_cubic21, Snapshot: 1\\n    0.02924110502908     0.06942942427463     0.00618195343665       1.97622126E-02 -1.26626689E-02 -3.39415610E-02\\n   -0.05070467445005    -0.04132202787864     0.03788442598764       2.44224527E-02 -5.99316000E-03 -2.36309700E-02\\n    0.06009472262028     0.03514887528316     0.02944290401177      -4.46638311E-02 -1.20574591E-03  1.12727441E-02\\n    0.06955334139268    -0.02617313458469    -0.01382039953335      -6.08800440E-02  2.74409542E-02  2.21679607E-03\\n    0.00460502994132     0.04137341241888     0.06309309130381      -1.47386086E-02 -1.60668723E-02 -1.97644181E-02\\n   -0.05455034345935    -0.04432541439560    -0.02780685869079       3.12509005E-02  5.34227930E-02  3.28967440E-02\\n    0.02409810520888     0.04096080980572    -0.05878092469284      -1.34869581E-02 -3.49137426E-02  1.97526868E-02\\n   -0.02806904397403    -0.01500415719985     0.06856170765168       2.22891058E-03 -2.58718759E-03 -3.90914292E-02\\n    0.00057615651955     0.07558515861318    -0.00050553863175       8.11869642E-03 -4.49473973E-02  1.66770154E-02\\n   -0.03082864334868     0.06900721539953     0.00114135541851       8.76120668E-03 -2.95223514E-02  1.13049685E-03\\n   -0.04990535525911    -0.05638893508299    -0.00659145330905      -2.10557925E-03  1.94028761E-02 -7.86316910E-03\\n    0.01963146293525     0.06903246308543    -0.02372400534449      -1.14088310E-02 -7.11990444E-03  1.23079781E-02\\n    0.03958849620211    -0.05937146166915    19.58664813968005      -4.58747577E-02  2.78526232E-02  2.19247860E-02\\n   -0.03360230077392    -0.06749229861166    -0.00542021607235      -1.01994171E-02  4.64922051E-02  2.74576244E-02\\n   -0.05844384937372     0.03795119329202     0.02928697855180       2.91457348E-02 -4.17746123E-02 -2.39485178E-02\\n    0.01069054143780     0.04344759638353     0.06092390670804       3.16654048E-02 -2.60380446E-02 -3.40628912E-02\\n   -0.04247767031770    -0.05094046751210    -0.03625493092209       6.07296088E-02  1.95066605E-02  1.15040037E-02\\n   -0.02324584760822    -0.04266356467485    -0.05790642925982       1.33505130E-02  2.96978820E-02  1.88260687E-02\\n   -0.07139172724934     0.00433943400856    -0.02445596713743       1.47346291E-02 -3.50896795E-02 -1.32432602E-02\\n    0.07443315470909     0.01316823986438     0.00008157706326      -2.40663077E-02 -1.08023625E-02 -1.01821398E-02\\n   -0.00172743285490     0.01470108656671    19.53745217116764      -1.11579651E-02  6.63661147E-04  2.92503050E-02\\n    0.01356795352004     0.00911015619001    -0.07380121559668       1.53806211E-04 -7.10683666E-03  3.19449190E-02\\n    0.02468384641934     0.05857744712445    -0.04090347342146      -2.59096182E-02 -6.23953624E-02  2.27012042E-03\\n   -0.02515164679877    -0.06258333518814     0.03412366548344       2.79036659E-02  4.93121597E-02 -3.49410585E-02\\n    0.05749921685781    -0.04396219661846    -0.02179149042656      -1.09007050E-03  2.21253758E-02  1.82280797E-02\\n   -0.03627990304226    -0.06333472028989    -0.01965160443584       1.80845030E-02  1.12248809E-02  2.60015395E-02\\n    0.01787811002990    -0.05479267189788     0.04890644134821      -1.20822166E-02  1.87184048E-02 -2.58603961E-02\\n    0.06206627558724    -0.04273086797448     0.00596272318309      -9.14637717E-03  4.62307322E-03 -1.35050208E-02\\n    0.06330198979914     0.02179979102910     0.03509032531621      -4.28217785E-02 -1.71362197E-02  1.74738760E-02\\n    0.03901881369529    -0.06461687792282     0.00398685134931      -3.65180719E-02  4.94912414E-02  3.54321320E-03\\n   -0.04382817802176    -0.04959592505415     0.03651080324036       2.65699095E-02  2.51059732E-03 -2.11344601E-02\\n   -0.05931655645667     0.04407669358047    -0.01589008881257       4.92682780E-02 -2.71232404E-02 -3.50970515E-03\\n# Filename: XFSET_cubic22, Snapshot: 1\\n    0.05730249372258    -0.04506073396254     0.01999145326177      -4.35832698E-02  2.70191884E-02 -8.36614992E-03\\n    0.06243955602330     0.02257180278894     0.03613197051323      -5.87578926E-02 -1.94591665E-02 -4.99641876E-03\\n   -0.05511203374747    -0.01431574803353     0.04971344718914       6.29002578E-02  2.53281545E-02 -4.40360790E-02\\n   -0.06961621428161    -0.02940254538531     0.00166636318572       7.44182851E-02  3.48871748E-02 -1.23385226E-03\\n    0.00633354882183    -0.02699725276019    19.54125889254356      -9.82506561E-03 -1.02332282E-02  3.77549444E-02\\n    0.04487118438850     0.04935922146589    -0.03555204351045      -4.16415941E-02 -1.95570896E-02 -1.36378553E-02\\n   -0.03918915247437     0.05709210405986    -0.03030520938904       2.94742783E-02 -5.72693325E-03  2.85718846E-02\\n    0.02660244472493     0.00434972159723    -0.07061935702164       2.11823358E-03  3.91707268E-03  2.78208036E-02\\n    0.01279670299816     0.06207706670349    -0.04118720568135      -4.57347195E-03 -5.74399383E-02  2.22833192E-02\\n   -0.05097325101968     0.05237542907091    -0.01929367348920       2.91581656E-02 -4.93624212E-02  3.75770922E-02\\n    0.01180181491671    -0.01804388018291     0.07244887353490      -3.83749957E-02  3.02869980E-02 -2.72076181E-02\\n    0.06774144760657    -0.01954261071478     0.02725594173074      -3.51576799E-02  4.52768312E-03 -1.74395531E-02\\n   -0.02526483874804     0.04802953376314     0.05261706496167       3.67388866E-02 -2.09529254E-02 -1.54434119E-02\\n   -0.03852254345796     0.06502350208578     0.00128901446052       6.86688960E-03 -1.59188905E-02 -2.18959760E-03\\n   -0.07162496915296    -0.02398184753273     0.00290491179784       4.02697093E-02  4.36349454E-02 -2.62594967E-02\\n    0.06498250283305    -0.03759008650378    -0.00882969160772      -6.27430447E-02  1.61989206E-02  3.40124363E-03\\n    0.07519935928428     0.00019385979405     0.00766306068012      -5.01066650E-02  3.66060430E-03 -3.25424772E-02\\n    0.07039028181824     0.01033953150459     0.02553440908098      -6.03457054E-02 -3.08033037E-02  1.92835857E-02\\n   -0.02627212003136    -0.00867683362244     0.07034338622883       4.76816577E-02 -1.81980161E-02 -2.73978481E-02\\n    0.02062933829576    -0.04834939210391     0.05431823278887       1.64747352E-02  5.40929717E-02 -3.41196949E-02\\n    0.02943954611433    -0.04073749582358     0.05645771240173      -3.24926838E-02  3.81899888E-02 -8.55744254E-03\\n    0.02216978936463     0.04920853508263     0.05292186909289      -2.82853462E-02 -8.37615996E-04 -3.33505847E-02\\n   -0.02825011186215     0.03126278238643    -0.06275566388620       3.92387417E-02 -1.98366398E-02  2.53182167E-02\\n   -0.07527338665961    -0.00157101050547    -0.00671959072429       4.23634565E-02 -1.85897452E-02  2.14912196E-02\\n    0.00137624577389     0.05837856843098    -0.04799742109964      -5.28602905E-03 -4.03256562E-02  6.61413895E-02\\n   -0.02172326276602    -0.05996116552682    -0.04057662137536       7.35170060E-03  3.32630221E-02  3.66686766E-02\\n   -0.02254000428697    -0.04595536106031     0.05562154892933       8.07749152E-03  2.76449284E-02 -2.30292236E-02\\n   -0.05673371110334     0.04972517397418     0.00473252697147       4.05375524E-02 -2.34866580E-02 -1.64322258E-02\\n   -0.06244825991286    -0.02800393324723     0.03208891205127       5.31511971E-02  1.40374075E-02 -3.03651873E-03\\n    0.03578495107787    -0.03312930049141    -0.05775457086842      -4.33522969E-02  1.38916608E-02  2.51590777E-02\\n   -0.00626844700093     0.03691828165326     0.06566163850909       9.04522269E-03 -8.22286063E-04 -3.79517916E-02\\n    0.05222650566947     0.02211129151331    -0.04997185826884      -3.13407206E-02 -1.90302073E-02  2.57563864E-02\\n# Filename: XFSET_cubic23, Snapshot: 1\\n   -0.06539969332330     0.03784035551120    -0.00216594686942       3.85030372E-02 -7.15053676E-03  1.12324429E-02\\n   -0.00602258852981    -0.04179191243702    -0.06269663629872      -1.68425756E-03  6.57683696E-02  3.57684826E-02\\n   -0.05812571171291     0.01483242668979    -0.04599026503883       1.60158013E-02 -1.54359430E-02 -6.56892072E-04\\n   -0.06262805374762    -0.00162483500777     0.04229409537301       1.23147591E-02  2.03462961E-02 -3.63009074E-02\\n   -0.00308957692552     0.00513064589648    19.53622631697975       1.58127802E-02 -1.14991375E-02  2.79256227E-02\\n   -0.02198468747816    -0.03259483157134     0.06455969489928       5.64508034E-03 -4.06632294E-03 -5.81985369E-02\\n    0.00675430938266    -0.07129500655908    -0.02418894505651       1.25365484E-02  4.45556619E-02  1.15122141E-02\\n    0.03953700948000     0.01334536332716    -0.06302721545166      -6.57588931E-03 -7.75729849E-03  6.41460493E-02\\n   -0.06445937410727     0.02762035101758    -0.02821008731750       2.22363080E-02 -2.98960945E-02  9.87629724E-03\\n   -0.07440429915808    -0.01254787128826    -0.00450054513780       4.29930395E-02  1.65892788E-02  1.40706173E-02\\n   -0.03592163081109     0.04058137382813     0.05269243091675      -1.24459420E-02 -4.40567963E-02 -4.34346964E-02\\n    0.03976310802989     0.00698727155051     0.06390443660957      -6.30530789E-02  5.45934950E-03 -4.24382428E-02\\n   -0.06694171815609    -0.02208882232387    19.58429047484767       8.15617572E-05  2.09025199E-02  2.45203668E-02\\n   -0.02278160104774    -0.02688378569495     0.06687274802216       3.92873652E-02 -4.62839744E-03 -3.02008139E-02\\n    0.07367990174984    -0.00278515695143    -0.01664988589339      -5.41992379E-02 -1.20850132E-02  1.15757933E-02\\n   -0.06255299836129    -0.00086244932791     0.04242737681174       2.06145143E-02  8.01919795E-03 -2.25862219E-03\\n   -0.00920455359866    -0.03212433201574     0.06780123301731      -1.19415659E-02  6.91102395E-03 -2.79372458E-02\\n   -0.06890823500293     0.03005745394541    -0.00786818505809       4.06069541E-02 -2.30805011E-02  1.72421641E-03\\n    0.04894059356949     0.02265387707641    -0.05296530822790      -4.99075058E-02  9.22440281E-03  1.76727306E-02\\n    0.02647904145157     0.07036897769328    -0.00779557923699      -4.03278633E-02 -3.49996726E-02 -3.39417883E-03\\n    0.07387148974330    -0.00268880194736    -0.01579484311213      -2.77465090E-02 -3.72215744E-03 -1.01945617E-02\\n    0.02326334798392     0.06389561899588    -0.03301318285549      -2.40949084E-02 -3.46465429E-02  3.78968229E-02\\n   -0.05697601216503    -0.03597500029550     0.03425254915154       1.22399387E-02  1.58568519E-02  8.03681811E-03\\n    0.02837559666884    -0.04740688326221     0.05158601214427      -1.31287421E-03 -3.65637183E-03 -4.13348148E-02\\n   -0.07257460641954     0.01348076517130    -0.01627572379786       6.60083130E-02  1.98359568E-02  1.53199812E-02\\n   -0.06228197648605     0.02867256461642     0.03182048325823       4.67595393E-02 -2.95225020E-02 -2.77191545E-02\\n    0.07247051350156    -0.01115301408819    -0.01836678220233      -7.49425249E-02  1.65737120E-02  2.98160387E-02\\n   -0.02101099796643    -0.04764619340217    -0.05479125798590      -1.96439842E-02  1.31955443E-02  5.12011660E-02\\n    0.00672458021127    -0.05368339510360     0.05278803698796      -2.25532201E-02  9.34499215E-03 -2.87349451E-02\\n   -0.06669042521058    -0.01426612876693     0.03259706261882       5.65915633E-02 -2.86619113E-03 -2.86877238E-02\\n    0.06703481456878     0.02937441597173     0.01889923378915      -5.90812699E-02  4.08688926E-04 -1.01632883E-02\\n   -0.06623899874110    -0.02126566318453    -0.02956129791294       2.12635277E-02 -3.92236735E-03  1.93589645E-02\\n# Filename: XFSET_cubic24, Snapshot: 1\\n   -0.05083267334837    -0.05454856468830    -0.01241761396559       3.75901207E-02  2.35213968E-02  4.25546453E-02\\n   -0.03467863094909     0.02742659008433    -0.06130969278524       4.27027924E-02 -4.17238229E-02  4.04950431E-02\\n   -0.01474046735348    -0.07282843918512     0.01387230245933       1.29939684E-02  6.01629142E-02 -1.25667822E-02\\n   -0.01200012050859    -0.04546312155251     0.05918450319403       8.66044477E-03  5.89964077E-02 -5.13920595E-02\\n    0.04464843235460     0.04487527013720     0.04130897406532      -4.75218701E-02 -4.88208030E-02 -1.25048772E-02\\n    0.06764442963423     0.00281086904769    -0.03361597657656      -6.93615794E-02 -1.11887529E-02  4.52711683E-02\\n   -0.02493573273886     0.00455682942479     0.07121199525171       1.30129790E-02 -1.24432587E-03 -3.16020815E-02\\n   -0.05868192255115    -0.03103675540485     0.03615045646784       2.78202710E-02  2.13822472E-03 -3.35431730E-02\\n    0.02479319561053     0.06110891087678    -0.03694187584826      -3.05871922E-03 -5.57828759E-02  3.98998442E-02\\n    0.01803456555805    -0.03608035463382     0.06392703783626       9.00324521E-03 -3.47104960E-03 -5.59503734E-02\\n    0.02127152203509    -0.06682808304185    -0.02819988289866      -1.13070838E-02  1.61911285E-02  1.05049618E-02\\n   -0.03600641772006    -0.06030965729146    -0.02792824478374       4.43704620E-03  1.03736275E-02  3.72397860E-02\\n    0.04349332705618    -0.03702825005933    19.56207072641553      -1.05353752E-02  3.89322886E-03  2.68814570E-02\\n    0.06500809312629     0.03851253881359     0.00210616132772      -7.56048767E-02 -2.86608228E-02  1.59187995E-03\\n   -0.07177654805387     0.01366033620736     0.01937075352754       6.92003689E-02  7.30738620E-04 -2.72016033E-02\\n   -0.01795407513041    -0.06671916025338    -0.03065792847102       3.89923846E-02  4.10124693E-02  1.12935987E-02\\n    0.00708685998464    -0.01015592868554     0.07456766896149      -1.13169307E-02  1.69093323E-02 -1.98262186E-02\\n    0.02291166333802     0.04657005543629    -0.05495442968743      -6.29715706E-03 -6.09685885E-02  5.70929467E-02\\n    0.07132217814698    -0.02498241108100    -0.00165220300375      -4.98325108E-02  2.75848055E-03 -2.51719767E-02\\n    0.01051311448501     0.01512960418397     0.07330943478112      -3.62690779E-02 -3.37837860E-02 -5.09987019E-02\\n   -0.01549354494613    -0.05513405437621    19.56224325595409       1.91669746E-03  1.17945963E-02  2.60546432E-02\\n   -0.07000322414489     0.02752574023465    -0.00745559964144       3.43341903E-02 -4.32511540E-02  9.30931232E-03\\n   -0.02804038438762    -0.04965755606742     0.04961418856853       2.15839290E-02  5.95585264E-02 -1.63045121E-02\\n   -0.02501334397978    -0.07038783756600    -0.01155805645514       2.90607934E-02  2.42304409E-02  1.06359299E-02\\n   -0.06135777814565    -0.03929231656776     0.02012562173794       1.20509742E-02  9.59982806E-03 -1.06477261E-02\\n   -0.04753804545356    -0.05840068147130     0.00657254527579       4.18205490E-02  1.48773639E-02  1.15032983E-02\\n    0.05685475675439    -0.02872623022488    -0.04069452111259      -3.82222184E-02  1.59436345E-02  4.45565810E-02\\n    0.02187740885988     0.05731722521525     0.04415674814770      -1.77670892E-02 -3.05569057E-02 -1.09024802E-02\\n    0.04669376967811    -0.04089924631199     0.04313522051033      -3.77246511E-02 -3.59740134E-03 -3.59207015E-02\\n    0.06278994034866     0.01646720586668     0.03872929438121      -6.09176435E-02 -2.68277692E-02  8.36148069E-03\\n   -0.05220068860909    -0.05466759980738     0.00049533448805       6.27859826E-02  4.23023044E-02  3.08844227E-03\\n    0.01572346225458     0.00624402450212     0.07367149118887       7.77004597E-03 -2.51165858E-02 -3.18017515E-02\\n# Filename: XFSET_cubic25, Snapshot: 1\\n   -0.04264267761245     0.02697774298239     0.05628061085978       6.55065953E-03 -2.27351875E-02 -6.85106022E-02\\n    0.07516043508350     0.00719137684865     0.00359121507524      -3.55068076E-02  1.77898456E-02 -2.06873115E-02\\n   -0.03021346455156    -0.05903265952756    -0.03627665096949       3.62426562E-02  1.74693264E-02  3.11124392E-03\\n   -0.02822032921150    -0.03165821225010    -0.06257055481876      -5.47905730E-03  2.55222774E-02  4.23598795E-02\\n    0.05752987067220     0.00580613832643    19.56289193203650      -5.16178496E-02 -1.65305251E-02  2.18682498E-02\\n    0.04287732320464     0.02194507304089    -0.05825506539954      -3.22814432E-02 -1.57985983E-02  2.37489116E-02\\n   -0.00607044527701    -0.03986997792857    -0.06393151233035      -9.06763175E-03  1.34055959E-02  6.49395032E-02\\n    0.00536172635951     0.07116827269573    -0.02490045320977      -3.38689458E-04 -3.33613400E-02 -2.70568307E-02\\n   -0.04955466328634    -0.01196025123159    -0.05581210853440       3.82437068E-02  2.52434251E-02  4.22724769E-02\\n   -0.05935794504929    -0.03999705599151     0.02430172013163       3.64194094E-02 -1.03333372E-03 -2.03587086E-02\\n    0.05144057783374     0.05333354391837     0.01493665857388      -3.63807163E-02 -2.91297023E-02 -1.05547746E-02\\n   -0.07441543002290    -0.00005951414603    -0.01326815560819       4.26888785E-02  3.20558430E-03  1.96571460E-02\\n    0.01201249764779     0.07438471954091    -0.00602636953750      -1.53227359E-02 -1.55660036E-02  9.28133617E-04\\n   -0.04853663475261    -0.00923633185641     0.05720654661438       3.31915969E-02 -3.01183049E-02 -2.82851518E-02\\n    0.07464328582912    -0.01173751847289     0.00207707796248      -6.01864495E-02  4.92542068E-03 -1.73856775E-02\\n   -0.05447720614503    -0.05110709433030     0.01157595130285       3.03402254E-02  4.21016995E-02  1.21544859E-02\\n   -0.02977414536839    -0.03920237340444     0.05736181577247      -2.67506091E-03  2.53266650E-02 -3.13018723E-02\\n    0.00208392534201    -0.02722585584447    -0.07048484772561      -2.25476316E-02  1.90128424E-02  4.44776344E-02\\n   -0.00956820002196     0.07298877407572    -0.01716951163385       1.64776510E-02 -5.59941513E-02 -4.70795562E-03\\n   -0.03879234192449    -0.05856134018049     0.02791822629789       1.28689334E-02  2.93338254E-02 -2.42734232E-02\\n   -0.07405391747834     0.01333784758877     0.00719880920635       3.09711590E-02  3.31447216E-02 -3.03578482E-03\\n   -0.05266863185182    -0.03783000580686    -0.03884082383674       9.77678653E-03  1.34632028E-02  1.80057556E-02\\n   -0.04360613539104     0.05586874260969     0.02628482961648       2.87361223E-02 -4.45491081E-02 -1.92413076E-02\\n   -0.06139641473011     0.02951865088628     0.03275413296162       2.43850146E-02 -1.80163514E-02 -1.75467400E-02\\n    0.06997164153011    -0.01224955809680     0.02583837152819      -5.62178084E-02 -1.64966170E-02 -2.86131773E-02\\n   -0.00296608162250    -0.07191841117320     0.02307917296445       2.67492006E-02  7.06530160E-02  6.88744099E-03\\n    0.03332589714765    -0.00372813066575     0.06774355563915      -2.49836878E-02 -3.57577196E-02 -2.91987552E-02\\n    0.03662757447680     0.06364427791455     0.01793126901375      -2.99951390E-02 -7.26195112E-02 -1.18005114E-02\\n    0.05937420481978    -0.04618104500429     0.00746449014863      -7.12106567E-02  3.50830621E-02  2.06982619E-02\\n   -0.04227251522450    -0.06112922773242    -0.01378244201423       2.04898925E-02  7.01127564E-02  5.39533389E-03\\n   -0.04562612166064    -0.03678683320049    -0.04773562251294       5.33416770E-03 -4.38039375E-03  3.92887606E-02\\n   -0.04613917795721     0.05764461988846    -0.01618572796105       5.43453047E-02 -3.37064191E-02 -3.23463345E-03\\n# Filename: XFSET_cubic26, Snapshot: 1\\n   -0.05206680245800     0.05447558888925     0.00592975644616       7.98305715E-03 -4.89639163E-02  1.24979467E-02\\n   -0.00323485094419     0.02158076899290     0.07237064237707      -1.28112346E-02 -1.86211346E-02 -5.15912917E-02\\n   -0.06323660187371    -0.00961976538484    -0.04027773615757       4.36642701E-02  1.21033258E-02  2.23857379E-02\\n   -0.07315784865617     0.01656850212677     0.00933368316321       1.67116376E-02 -1.98956007E-03  2.50757632E-02\\n    0.07528082991287    -0.00423232930140     0.00534675269296      -5.42794872E-02  1.86584673E-02  1.57139827E-03\\n    0.04679968032365     0.05867281604142     0.00899968399943       8.75069652E-03 -1.42854078E-02  7.92559409E-03\\n    0.07550102250170     0.00178632708629     0.00317936484879      -3.30563836E-02  2.36875748E-02  7.99064481E-03\\n   -0.06452638379566     0.00904465695971     0.03831766808731       7.33651546E-02 -2.43653248E-02 -1.30199111E-02\\n   -0.04419159314258    -0.03068905568070    -0.05309414927492       1.47368553E-02  6.68310592E-03  1.01611369E-02\\n   -0.06353756948296     0.01272545270802    -0.03891971026486       3.21147727E-02 -2.05395366E-02  2.92760548E-02\\n   -0.01134887666633    -0.04872423615564    -0.05666441159072      -1.78829999E-02  4.05480839E-02  5.71023177E-02\\n    0.04546560983536    -0.04549616298367     0.03970744505614      -4.06835209E-02  4.28979652E-02 -4.48224553E-02\\n   -0.04159172872680    -0.03617319585298     0.05172360906381       7.07571003E-03  5.34326047E-03 -5.68975783E-02\\n    0.01695348839084     0.05330479524535     0.05084173246279       1.90176961E-03 -1.62705523E-02 -1.15324091E-02\\n    0.03493670744447     0.05978854600516    -0.03030610455230       5.56805303E-04 -7.29459696E-03  4.25790870E-03\\n    0.04866846374783    -0.00211062023648     0.05779818026661      -1.84159151E-02  1.59391900E-02 -2.61770163E-03\\n   -0.04479978222071     0.05636561396892     0.02301305730549       1.60493091E-02 -5.25095149E-02 -2.84811766E-02\\n   -0.00701779049477     0.07463789187533     0.00967674792563       1.43438892E-02 -6.28885150E-02  2.64484245E-03\\n    0.04738906587094    -0.03410546532723     0.04800830535463      -4.20181203E-02  1.74838841E-02 -9.20204648E-03\\n    0.01714471941504    -0.06808029016018    -0.02801493181233      -2.80006684E-02  6.65561970E-02  1.46299538E-02\\n    0.02767000657089     0.03947747117363     0.05822030342222      -1.81144629E-02 -3.31181238E-02 -1.75762575E-02\\n    0.04769804232847    -0.00345592822233     0.05853765495697      -6.34724599E-03  3.73696876E-02 -4.74292126E-02\\n    0.03315536259295     0.05798413548216    -0.03538736607514       1.52442280E-02 -2.76320866E-02  2.92384581E-02\\n    0.03983816719569     0.05368983331619    -0.03527075220980      -5.32734738E-03 -6.01401406E-03  5.11549696E-02\\n   -0.00387234702889     0.01703613067383    -0.07354236129002       2.54700063E-03 -2.24010670E-02  5.79736255E-02\\n    0.03411816236891    -0.05129664727769     0.04379850115212      -1.30980419E-02  1.05209795E-02 -2.76099969E-02\\n    0.01466752392505    -0.02234921902498     0.07070417160678      -8.21254938E-04  2.00177039E-02 -8.61545747E-03\\n   -0.06210272424679    -0.03414125468950    -0.02629315698642       2.25503132E-02  2.09222927E-02  1.46730937E-02\\n    0.02639288146760     0.05001507523876     0.05015587488504      -1.07400019E-02  3.62529122E-03 -9.40936024E-04\\n    0.07441713209922    -0.00333516711185    -0.01283241319639      -2.50135830E-02  2.99311865E-02  4.25049234E-03\\n    0.00987435681915     0.06287212550688     0.04078353372431       1.73604829E-02 -3.17521450E-02 -3.35527298E-02\\n   -0.07195443477703    -0.02254760349895    -0.00527907347517       3.16543161E-02  1.63573000E-02  1.07922170E-03\\n# Filename: XFSET_cubic27, Snapshot: 1\\n    0.07422835904180    -0.01204951022978    -0.00765922594621      -4.97218318E-02  4.39010473E-04  7.06271264E-03\\n    0.03115222531046    -0.06370235030805     0.02617734020699      -1.69398132E-02  4.98106435E-02 -5.19478955E-03\\n    0.02344132144550    -0.05351977945551    -0.04795666151011       1.66546168E-02  2.91101310E-02  2.28745961E-02\\n    0.01544874520889     0.07369930119179     0.00659188822120       1.31368127E-02 -5.78467246E-02 -1.35998727E-02\\n   -0.02358477074463     0.06434874063005    19.57969196200483       3.62712753E-02 -2.41755723E-02  5.87335130E-03\\n   -0.06847243826926     0.00049530485673    -0.03201536494266       4.14854220E-02 -2.33666051E-02 -5.36843572E-03\\n    0.06678769432752     0.00696320175907    -0.03470765653236      -6.22213794E-02  1.85323115E-03  9.55479069E-03\\n    0.01792043290312     0.00403109676502    -0.07332333911081      -2.26267572E-02 -6.14537845E-03  3.04910140E-02\\n    0.03919913514159    -0.01823668194745    -0.06200447535051      -2.26267325E-02  3.07793186E-02  7.99450245E-03\\n    0.04856575486526    -0.01318862280416     0.05640151950568      -4.78025180E-02 -1.04888543E-02 -1.12302890E-02\\n   -0.03614537495121     0.06638110409119    -0.00087442139940       1.27467259E-02 -7.73882356E-02 -3.10645073E-03\\n   -0.00082184982862    -0.02037855884515     0.07278559362859       2.36913326E-02 -4.57705879E-03 -2.98042632E-02\\n   -0.03705041921658    -0.06105211586560    19.58680658641262      -1.00097601E-02  4.70971487E-02  1.14032328E-02\\n    0.00593080793342     0.02654012849300    -0.07052766003789      -1.86120479E-02 -1.71747534E-02  4.30081423E-02\\n    0.00512275121580    -0.00879104502661    -0.07490112587668      -2.78085258E-02 -9.42822109E-05  1.99042349E-02\\n   -0.04115517402399     0.04201006055531     0.04748800044660       1.74682806E-02 -6.44525604E-03 -5.78450574E-02\\n    0.02872311352377    -0.06786517612995    -0.01682273337063      -1.53528319E-02  5.31863222E-02  1.27794019E-02\\n    0.03432282348770     0.06034179966727     0.02990843890079      -1.84447661E-02 -3.04218808E-02  4.32718845E-03\\n   -0.01732958036144    -0.06188795123167    -0.03979033629466       7.53149268E-03  2.51179645E-02  8.46390080E-03\\n   -0.02926725921660    -0.01583849868506     0.06786953082976       5.24278167E-02 -1.63652516E-02 -2.27033685E-02\\n   -0.01805712605340     0.06241941283746    19.57295828918734       5.06523286E-03 -5.20604981E-02  1.07021262E-02\\n   -0.00245740911260    -0.07346442508106     0.01762507017791      -8.40322589E-04  5.48184833E-02 -7.64207582E-03\\n   -0.07016566160109     0.00300202569702    -0.02795481187642       2.90330731E-02 -8.51223711E-03  1.83143161E-02\\n    0.02909935572758     0.03720540556313     0.05901431200257      -2.58957096E-02 -3.37453280E-03 -3.37104063E-02\\n    0.01487352712733    -0.05465668437134     0.05005126153649       1.06383437E-02  1.18503812E-02 -4.65579439E-02\\n   -0.06809971114501    -0.02599329269869    -0.02001204153726       3.49097506E-02 -5.03185097E-03 -1.13848119E-02\\n   -0.02799974431552    -0.00098905976395     0.07020498419922       9.11556005E-03  2.69611570E-02 -4.96375566E-02\\n    0.04984416271465    -0.01670574365142    -0.05431557140140      -1.85565781E-02 -1.41032300E-02  2.54883172E-02\\n   -0.01305995072908     0.01869134159774    19.53950987410303       1.34518428E-02 -7.92572002E-03  5.37661421E-02\\n   -0.06553083578103     0.01083066532955     0.03608476099723       2.06460785E-02 -1.22502228E-03 -5.76885966E-02\\n   -0.05516754010602     0.00200555143181    -0.05163549189107       3.05479609E-02 -8.97136007E-03  3.74870461E-02\\n   -0.00372037733262    -0.05175655653877    -0.05496472841910      -1.73620436E-02  4.46705129E-02  2.59789021E-02\\n# Filename: XFSET_cubic28, Snapshot: 1\\n   -0.05748792385449     0.04377460482488    -0.02219518676049       6.82942117E-02 -1.03537559E-02  1.83909790E-02\\n    0.02861139801752    -0.02211364060771    -0.06637829862325      -5.77755758E-03  1.75984885E-02  3.30037634E-02\\n   -0.03004396556678    -0.06502117780712    -0.02415181779631       2.57381480E-02  2.25305596E-02 -1.88609458E-02\\n    0.05547422130220    -0.05070713838348    -0.00806849537369      -5.03407618E-02  5.56274295E-02 -2.66461396E-02\\n   -0.03530992419676     0.02868312745773    19.55121058867204       2.60611977E-02 -1.14412216E-03  1.37332659E-02\\n   -0.07052431933639     0.01383904539560     0.02342018179158       4.98980468E-02  1.40661786E-03  1.08055224E-03\\n   -0.01021557351616    -0.07188141465388     0.02103349746670      -2.05331478E-02  3.88357907E-02 -2.87709162E-02\\n    0.05996873628028     0.04566762012681     0.00565003152400      -5.13571229E-02 -1.81917270E-02 -2.00929948E-03\\n    0.01374041219388     0.06877016237677    -0.02820584299263       1.06637638E-03 -6.20114576E-02  6.55537699E-03\\n    0.04747029782711    -0.03377629282784    -0.04816052940861      -1.42710129E-03  2.96428458E-03  1.56527651E-02\\n   -0.00853995336112    -0.02001665183424     0.07238858031110       3.00544842E-02 -3.91071655E-03 -6.18423680E-02\\n    0.06572159475163     0.03442063489972    -0.01447741686687      -5.83356707E-02 -1.51538357E-02 -1.72569224E-02\\n    0.01343504246763     0.01277380993520    19.53829721530574       1.23885444E-02  9.71675377E-03  4.75836583E-02\\n   -0.00532722355096    -0.03181498274340    -0.06836030498821      -1.78597997E-03  2.08849631E-02  1.14085888E-02\\n   -0.03459192143276     0.06214566017135    -0.02559335096220      -2.66545382E-03 -3.67643172E-02  8.83002274E-03\\n    0.04112162892861     0.04856558719025    -0.04079337079646      -2.24119676E-02 -2.23488778E-02 -8.28300713E-03\\n   -0.04127503084832    -0.04594515073343     0.04357887888263       3.69060573E-02  2.61514529E-02 -2.79878396E-03\\n    0.00177080925043    -0.02858419230592    -0.06995364117653      -8.42992391E-03  1.80714941E-02  4.92195184E-02\\n    0.02279872404513     0.06288074260567     0.03521269839763      -3.89876373E-03 -3.19226730E-02 -1.18951087E-02\\n    0.05317951987663     0.05194914686712     0.01367218102961      -5.34689636E-02 -3.68847614E-02 -2.81620315E-02\\n   -0.01418408039275    -0.05545770720272     0.04936555778244       3.54107167E-02  5.29058732E-02 -1.34153794E-02\\n   -0.03376892510731     0.05471485421454     0.03974478765838       8.71043585E-03 -1.82468439E-02 -3.15569134E-02\\n    0.00626074409930     0.03765443669612     0.06524300880343      -3.42500431E-02 -3.45372327E-02 -2.46489542E-02\\n    0.00075220850761     0.03564636450248    -0.06665189119516      -1.12453889E-02 -3.52490004E-02  5.93571772E-02\\n   -0.07221706513443    -0.00992026995884     0.01999968679849       7.97231223E-02  2.85300295E-02 -4.27888792E-04\\n    0.05457597891704    -0.00137366370842     0.05228077364684      -2.23960877E-02  7.13076492E-03 -3.38134275E-02\\n    0.07242287180520     0.01335494267056     0.01703751340533      -1.42872522E-02 -3.05415859E-02  2.54389837E-03\\n    0.03268603342508    -0.02968035491562    -0.06135473469864      -2.14922482E-02  1.16488750E-02  7.20792090E-02\\n   -0.01455449203558    -0.04800445081298     0.05654593880122       3.94262579E-02  3.80921811E-02 -3.68586382E-02\\n   -0.04942904204143    -0.04833557796476     0.03056379289737       2.59027080E-02  5.35905182E-02 -2.59018017E-02\\n    0.02047195510106     0.06378777869472     0.03501031383190      -1.96061303E-02 -2.01302802E-02 -9.45039826E-03\\n    0.05783223100960     0.01778011557976    -0.04531009024548      -3.58707421E-02 -2.82948895E-02  4.31601486E-02\\n# Filename: XFSET_cubic29, Snapshot: 1\\n    0.01740506755020     0.06512710445901    -0.03419397028785      -3.86820633E-02 -1.88232837E-02  1.29494897E-02\\n    0.00053951699766     0.04818553260075     0.05823716242487      -2.64497369E-02 -1.49791698E-02 -2.86263587E-02\\n    0.00095580854518     0.07006867553696     0.02834026941585       8.21327187E-03 -4.02315384E-02  2.55932857E-03\\n   -0.06780434336119    -0.02924578258770    -0.01615422376991       2.74747585E-02  4.61282553E-02  1.85967492E-02\\n   -0.03893689728031    -0.03007471143899     0.05738583003412       1.22299393E-02 -6.18549725E-03 -1.88298620E-02\\n   -0.00408988096205     0.07239906152546     0.02133898956047      -8.68879149E-03 -2.17983943E-02 -1.07063782E-02\\n   -0.07320118687923     0.01663262571681     0.00886824342965       1.77297724E-02 -1.80762574E-02 -1.00676066E-02\\n   -0.00688178444891    -0.06573783422160     0.03667263182680      -2.03725641E-02  4.54114550E-02 -2.15746900E-02\\n   -0.00168986812310     0.07555724887010    -0.00139650481543      -7.79390905E-03 -5.61508420E-02 -1.85124894E-02\\n    0.04425966353424    -0.03033516013574     0.05324062318237      -5.12709324E-02  4.35462704E-02 -4.18169973E-02\\n   -0.05411048967266     0.05099092848690     0.01362658590664       4.95508788E-02 -7.34512407E-03 -1.58895035E-02\\n    0.02133225329740     0.04956862849507    -0.05293004593840      -1.63352756E-02  2.45597264E-03  4.50668052E-02\\n    0.03745589529457     0.00163181878429    19.54594163142465      -1.47464383E-02 -1.26058226E-02  5.92005458E-02\\n   -0.00278553567674    -0.04969896358545     0.05688547742143       1.45268888E-02  3.95598764E-02 -1.97548868E-02\\n    0.04584277365861     0.03319369627850    -0.05010311713371      -1.23138378E-02 -2.19341764E-03  4.04707713E-02\\n   -0.03375228531289    -0.03726027600469     0.05644606988582       1.40104066E-02 -1.44706192E-02 -2.34530430E-02\\n   -0.04772329530560     0.05554593600254    -0.01873071840739      -1.01760711E-03 -4.98176611E-02 -1.38424730E-02\\n    0.06737862699359     0.00082250639993     0.03425124553172      -4.76191334E-02  4.03445599E-03 -4.80208294E-02\\n   -0.07161990563181     0.01033536851829     0.02185115569380       5.34551983E-02  1.13297611E-02  8.63860566E-04\\n   -0.05148482482610    -0.01445853695372    -0.05342253502274       2.05179291E-02  3.74220175E-02  4.11797185E-02\\n   -0.07527341330474    -0.00383254848000     0.00573834041777       3.85475381E-02 -3.79826099E-03  1.39253044E-03\\n   -0.02857868156706    -0.03984588305597     0.05752624008672      -6.87925153E-03  2.56545991E-02 -7.00812221E-02\\n   -0.01114651912368     0.03596719472542    -0.06554250328499       1.04328071E-02 -3.80554541E-02  2.66121828E-02\\n   -0.00596296767056    -0.00668658454144    -0.07505622117996      -2.40605696E-02 -1.75948765E-03  7.63572822E-02\\n    0.01655161998900     0.02508396080159    -0.06935807452406      -2.16881429E-02  2.69211986E-03  3.26773619E-02\\n   -0.00681486754607     0.07385043303569    -0.01460735603375      -2.46649979E-02 -3.14535064E-02  1.49363944E-02\\n   -0.06808626442082    -0.01792908480102    -0.02750476774160       3.11814580E-02  2.38387294E-02  4.38913960E-03\\n   -0.06597859429210    -0.01854509969347     0.03188429221525       4.83222127E-02  3.66701070E-02 -3.37549785E-02\\n   -0.06866552972882    -0.02185948327161    19.58875423415512       4.10802595E-02  6.06478857E-03 -3.83298043E-03\\n    0.03121769657281    -0.06846021897850    -0.00723585283900       9.75940886E-03  5.38807243E-02 -3.82840393E-03\\n    0.05765510943655     0.02890695479814    -0.03942055336371      -2.38381500E-02 -3.55099298E-02  1.06223003E-02\\n    0.07545026559182     0.00375877046404     0.00261396143781      -5.06113266E-02 -5.43486646E-03 -5.28175766E-03\\n# Filename: XFSET_cubic30, Snapshot: 1\\n   -0.04997360763140     0.01510778491956     0.05466348963359       2.25276254E-02  8.34354313E-03 -1.84888135E-02\\n    0.03481740941214    -0.03696157819769    -0.05599369118391      -3.97387472E-02 -1.92618282E-02  1.46614554E-02\\n   -0.00795166668958    -0.07502793696440    -0.00461339212531       6.51155417E-03  2.62612202E-02  1.14401004E-02\\n   -0.00493758999192     0.03184721318044    -0.06837454890112      -7.13416595E-03 -1.63894243E-02  3.09726033E-02\\n   -0.05849984290367     0.00120464803111     0.04785416314247      -4.57230025E-04  9.71875061E-03 -3.62690610E-02\\n   -0.06599925674653     0.01401069829022    -0.03408081821180       2.96239504E-02 -2.90577398E-02  3.23079133E-02\\n    0.01252647424098     0.03009523739887     0.06819873793930      -4.79098301E-02 -1.18842901E-02 -2.63669524E-02\\n   -0.06875317995081     0.01961517508830     0.02453464634876       1.46381798E-02  6.68002728E-03 -1.31867854E-02\\n   -0.02596234667632    -0.06480523761663    -0.02898174337461       1.65911140E-02  4.93095728E-02  2.31537690E-02\\n   -0.06410065344409    -0.02366370900755    -0.03232396704545       3.43363846E-02 -1.24641932E-02 -1.02713923E-02\\n   -0.02952014085486    -0.06946984552041    -0.00402561379009      -1.09359042E-02  2.11805115E-02  1.18632807E-02\\n   -0.01800657455675     0.03828577526907    -0.06263917625456       1.50927788E-02 -2.47563951E-02  2.29261555E-02\\n   -0.01866590245840     0.04102890576103     0.06067879931631       1.29512518E-02 -1.40805560E-02 -3.45456167E-02\\n   -0.02273317700476     0.02688824193447    -0.06688743411605       3.38596594E-02 -7.56070474E-03  3.43454658E-02\\n    0.01187602143807    -0.05240154681884     0.05316711141106      -2.86351249E-02  3.44105577E-02 -4.90095382E-02\\n   -0.04131041993845     0.01121704855964    -0.06230032700645       1.85803295E-02  5.38078604E-03  2.98075995E-02\\n    0.02171857605626     0.05636833196200    -0.04543807127815      -3.47588017E-02 -4.83332953E-02  2.90861240E-02\\n   -0.01395798713409    -0.02054958685953    -0.07139042508272      -1.65744165E-02  1.05450005E-02  4.81701751E-02\\n   -0.06766023020128    -0.03368377161963    -0.00109566845542       3.91256979E-02  1.30644277E-02 -6.37773199E-03\\n   -0.04775200345797     0.03030745753078     0.05014885766279       2.83832199E-02 -2.33559792E-02 -4.72529720E-02\\n   -0.04710231977359     0.04592026147227     0.03723445695462       1.54319039E-02 -4.96793318E-02 -2.23355130E-02\\n   -0.05003581193523    -0.03518086564853     0.04441202492710       2.46662716E-02  2.75112475E-02 -4.64108924E-02\\n   -0.03034200353361    -0.06330089076258    -0.02803682882483       1.66679958E-03  1.02367007E-02 -5.03632196E-03\\n   -0.00984668404772    -0.01985755308989    -0.07226634158978      -1.99919874E-02  5.81141245E-03  7.25526782E-02\\n    0.04906187335760    -0.02575158833200    -0.05141490046778      -1.55034890E-02  8.80307090E-03  3.24733526E-02\\n   -0.05330662191094    -0.03613737768656    -0.03957521600645      -1.09668380E-03  6.77530429E-03  1.53823556E-02\\n   -0.03360279172476     0.02656510905212    -0.06228042308809      -6.35009707E-03 -3.22292674E-02  3.72100099E-02\\n    0.04578933144791    -0.05938764971056    -0.00949462481501      -2.65348463E-02  3.84457722E-02 -3.34958344E-02\\n    0.06754890038813    -0.02382934134321     0.02414564727302      -3.47085261E-02  2.41004451E-03 -5.18209078E-02\\n    0.02389697315363    -0.06827760321571    -0.02192731846022      -7.82203672E-03  3.78933631E-03  2.91125314E-02\\n    0.03518280704465     0.01597661868322     0.06496631019092      -4.82293668E-03 -2.40047711E-02 -4.77292935E-02\\n    0.05569424494952    -0.03636887764064     0.03590486784961      -1.10118972E-02  2.43804898E-02 -2.68679430E-02\\n# Filename: XFSET_cubic31, Snapshot: 1\\n   -0.05505108308795     0.05142429498043     0.00621480991581       4.00468981E-02 -2.27936500E-02  1.47333002E-02\\n    0.01987640413331    -0.06969342689884    -0.02148158573555      -1.91194674E-02  6.16383676E-02  2.87592782E-03\\n   -0.07129127923511    -0.01867120619190    -0.01681199812772       4.24294536E-02  7.42093509E-03  2.00307386E-03\\n   -0.05045898076305    -0.05364868512478    -0.01701215924168       1.31050247E-02  2.09064728E-02  1.61083653E-02\\n   -0.06207222198844    -0.01592917994741    19.57149026829728       5.00415014E-02  3.97002962E-02  2.41006334E-02\\n    0.00202302154770     0.06920083517433    -0.03034560123786      -1.52868705E-02 -3.42431147E-02  1.72519795E-02\\n   -0.05860716517462     0.01998774242207     0.04335197879765       2.37655276E-02 -1.11833902E-02 -3.66837341E-02\\n   -0.04838609954743    -0.05158779724499     0.02666811312881      -1.24283580E-03  1.83542112E-03 -2.32732988E-02\\n    0.02198123608236    -0.07209728217419     0.00570183260980      -9.08109922E-03  2.85005868E-02 -2.03815809E-02\\n   -0.05421782895115    -0.00695416044889     0.05220891114176       5.45111204E-02 -5.21619160E-03 -5.68780381E-02\\n    0.05075752158600     0.01869162335590     0.05280152405006      -3.48908272E-02 -3.71687703E-02 -3.63902752E-02\\n   -0.03357419298753    -0.02740558556533    -0.06193069657640       3.25520871E-02  2.15674322E-02  4.85248765E-02\\n   -0.00142812329136    -0.07552287035714     0.00282138959582       2.06078618E-02  3.97682167E-02  3.25498889E-02\\n    0.00473543332716    -0.01066843680072    -0.07468242002212       9.51106436E-04  3.84052099E-02  3.46193923E-02\\n   -0.05090645562623    -0.00754111251535    -0.05536576685324       5.02069614E-02  3.26243766E-02  1.98013302E-02\\n    0.03003007985921     0.06856729925188     0.01050825906579      -1.94259258E-02 -4.85055610E-02 -3.29769530E-02\\n   -0.02266637726494     0.06931507845859    -0.01988363559193       8.15675283E-03 -5.23810218E-02  1.03324242E-02\\n    0.01911028913114     0.00926617160094     0.07254404610294      -3.36593769E-02 -2.18721734E-03 -5.47378428E-02\\n   -0.02101689032146     0.03998860826435    -0.06060449849818       1.31254014E-02 -2.21883007E-02  3.53955559E-02\\n    0.07016513871387     0.01799677017115    -0.02160262260712      -5.47544361E-02  9.76751493E-04  3.40430612E-02\\n   -0.05743408177773    -0.03426555952303    19.57635129490141       3.16557086E-02  4.88569065E-03 -7.02751692E-03\\n    0.00497391449647    -0.04655635816247    -0.05934197010417      -1.73044873E-02  3.29902658E-02  3.71141169E-02\\n   -0.00335402123103     0.06188996656827     0.04326761254171       1.31957758E-02 -1.88950177E-02 -3.37076879E-02\\n    0.06994041134925     0.02459787284283    -0.01473048634391      -7.39607992E-02 -3.71538745E-02 -1.98540023E-02\\n    0.03591955003365     0.00686720618091    -0.06615384451303      -9.70299409E-03 -1.16482041E-02  1.39448019E-02\\n    0.02005738622787     0.00458174808120     0.07273522232507       6.03146916E-03  5.67192852E-03 -6.89689787E-02\\n    0.05961159637300     0.02744461914912    -0.03750938791788      -3.44923711E-02 -1.59906229E-02  6.41341558E-02\\n    0.05374787428393    -0.01055509027185    -0.05209088017137      -2.20711599E-02  1.59465539E-02  4.26528742E-02\\n   -0.04801886245552    -0.00623293070806     0.05804345926096       5.88195234E-02  2.02178900E-02 -4.50184873E-02\\n    0.04862721405009     0.04260452738718    -0.03916569950502      -2.18484593E-02 -1.13840695E-02  4.73219617E-02\\n    0.07196898604614     0.02203408191969    -0.00697624538974      -3.03834146E-02 -2.96715212E-02 -3.24721234E-02\\n    0.06782535371419     0.00087661838177     0.03335650848629      -6.19776495E-02 -1.24458677E-02 -2.91372004E-02\\n# Filename: XFSET_cubic32, Snapshot: 1\\n   -0.04825476301482    -0.01096823974359    -0.05713912221841       5.67606580E-02  1.97897185E-02  4.99863578E-02\\n    0.02037931184470     0.01595317800972    -0.07102030332388       1.89017372E-02 -3.23124355E-02  4.34176001E-02\\n    0.05044463320641    -0.04237206413519     0.03706279639887      -2.98454134E-02  1.08607550E-02 -6.23670337E-03\\n    0.02561246161661    -0.06940641075963     0.01550663323236      -1.33136175E-03  4.33943748E-02 -2.26885875E-02\\n   -0.00321669634531     0.00627185036952     0.07525968704641       1.23815791E-02  7.85719483E-03 -4.48110975E-02\\n    0.03802624260704     0.05435593116169    -0.03623729221844      -4.32004084E-03 -3.13144040E-02  9.22023618E-03\\n   -0.00651531118430    -0.00012553415670     0.07530762702829       8.23605401E-03  7.04983677E-03 -5.28421212E-02\\n    0.02104518500176    -0.07155856447441    -0.01225462235495       2.32062210E-03  4.32823060E-02  1.29962982E-02\\n    0.06422242909634    -0.02319477773550    -0.03242199280873      -7.34649253E-02 -3.49929806E-03  3.37607572E-03\\n    0.03978371983965    -0.05984764571007     0.02343541487388      -4.40685130E-02  1.63298484E-02 -1.70942168E-02\\n   -0.05109819215216    -0.03080503629881    -0.04640827755994       5.07985778E-02  8.16688795E-03  5.34102521E-02\\n   -0.06347845884977     0.03659960496205    -0.01856496420613       7.03426005E-02 -3.23722976E-02  9.35550273E-03\\n    0.03894874378441    -0.01762050254035     0.06233952975229      -2.91615675E-02 -6.68943748E-03 -4.90137701E-02\\n    0.01129320023242     0.02736151685049    -0.06955224482827      -1.03567300E-02  7.67268077E-03  2.16720920E-02\\n   -0.02463811844862    -0.00236018721462    -0.07142195998967       1.00622399E-02  1.29875586E-02  2.31224907E-02\\n   -0.00926431769915     0.06700158991465    -0.03374408215766       2.57792831E-02 -3.04696156E-02  4.71503942E-03\\n    0.03934732746431     0.00557655228697     0.06429925057706      -1.31044597E-02 -2.55638256E-02 -4.83834018E-02\\n    0.01020510518931    -0.04677647572918    -0.05849376766680       3.59030505E-03  4.84091609E-03  4.64365033E-02\\n    0.02910854962313     0.04519175901197     0.05314227115012       3.66706919E-03 -2.09986559E-02 -2.56263226E-02\\n    0.05122338707485    -0.00144524998774     0.05556779264614      -4.55157951E-02 -2.62933579E-02 -4.64171151E-02\\n    0.05188921109904     0.04749093171852     0.02767354163789      -4.56929504E-02 -3.80789863E-02  1.62664454E-02\\n    0.04209145602912    -0.01477587318169     0.06102201761123      -3.39118752E-02  2.91607069E-02 -3.04513657E-02\\n    0.01616191726600     0.06415047642316    -0.03656791691378       2.05577853E-02 -5.37571077E-02  3.49171171E-02\\n   -0.04083616123100     0.06280062248399    -0.01010907965805       3.80585029E-02 -1.34350323E-02  2.67752577E-02\\n    0.02999819885668    -0.01503861603407     0.06773220661319      -2.20562910E-02  8.49231080E-05 -5.56046732E-02\\n    0.04680477615912    -0.00932068715193     0.05861861006827      -3.45949269E-02  8.00969361E-03 -2.70547616E-02\\n   -0.02507485551001    -0.06867413532843     0.01920464773499       3.13698202E-02  1.23883567E-02 -1.70749127E-02\\n   -0.03378192339949    -0.06496494563292    -0.01876276165066       3.01644803E-02  3.10130166E-02  3.70739091E-02\\n    0.03882131860694     0.05993383740931    19.58678772562308      -2.05012172E-02 -1.54770081E-02  1.51976179E-02\\n   -0.00936444011357    -0.04404514660517    -0.06071273378256      -3.57062618E-03  5.37625140E-02  4.48828336E-02\\n   -0.00445264696195     0.06797756777624    -0.03275557870490       1.25247804E-02 -3.22045901E-02  3.93222152E-02\\n   -0.00092065245830    -0.04473184586694     0.06092551259730       1.59805982E-02  4.58147634E-02 -4.88447949E-02\\n# Filename: XFSET_cubic33, Snapshot: 1\\n    0.02552364921305     0.02286379352355    -0.06737576712572      -2.97681467E-02 -5.66066577E-03  3.53159356E-02\\n    0.06092602731561     0.04002422989940     0.01999459776604      -6.24987066E-02 -3.34900418E-02 -8.11928684E-03\\n   -0.05014291084056    -0.01429800067063    -0.05472622230541       1.62358145E-02 -1.85603686E-02  6.87717182E-02\\n    0.03808705097019     0.06529063560834     0.00046170284323      -7.53961053E-03 -3.66711926E-02  8.00600419E-04\\n   -0.01473314296399     0.00451732413323     0.07400156767465       2.69273274E-03  2.38133831E-04 -5.87041807E-02\\n    0.02009518339598     0.02585147387942    -0.06812920546710      -2.91443307E-02  8.41693448E-03  5.08887737E-02\\n   -0.05582345837483     0.04095433579299     0.03033459414953       3.32001029E-02 -2.52454054E-02 -4.94860350E-02\\n   -0.00091341064984     0.05906040794034     0.04716712438366      -9.54878907E-03 -4.33026811E-02 -2.80029935E-02\\n    0.00351445727829    -0.03331943898443    -0.06775815301814      -5.24801473E-03  5.82997226E-02  5.61277742E-02\\n   -0.05118850424237    -0.05554615359449     0.00283999357158       2.45006792E-02  1.31730163E-02 -8.93104084E-03\\n   -0.02714646701864    -0.04610375577270     0.05339678607868       2.08990844E-02  3.71385157E-02 -1.38561431E-02\\n   -0.06690746327960     0.02766480390958    -0.02171989201845       3.61967230E-02 -2.55319941E-02 -7.75294419E-03\\n    0.03756222262472    -0.05349813051171     0.03795699109289      -3.18439457E-03  2.36339977E-02 -1.17311645E-02\\n   -0.01575773905191     0.00099704212395    -0.07392160230023       7.46790522E-03  8.61809075E-03  4.74356843E-02\\n    0.04674212077766     0.04167519833188     0.04233267904514      -5.06687295E-02 -2.31125698E-02 -4.33913200E-02\\n    0.06185681021772    -0.03018123891929    -0.03124950515575      -3.79227673E-02 -6.26327338E-03 -1.18242741E-02\\n    0.03230141123076    -0.05026650330366     0.04629904099585      -1.97423471E-02  4.37266673E-02 -2.75761637E-02\\n   -0.06522257779737    -0.03334593005383    -0.01864853894252       3.41442940E-02 -1.92150387E-02  1.85277721E-02\\n   -0.01182642897743    -0.06918985600220     0.02804644610520       1.37762200E-02  5.60083457E-02 -2.37909977E-03\\n   -0.06376866465770    -0.01158433305953     0.03889812808016       4.78180680E-02 -1.94887842E-02 -2.75645421E-02\\n   -0.02296269728175    -0.02079067879410     0.06895045994467       1.42008682E-02  1.94958648E-03 -9.15616980E-03\\n    0.01676452900643    -0.03829621541484    -0.06297661604270      -2.39150602E-02  3.77746606E-02  6.08860611E-02\\n   -0.00965891783638    -0.05291139346793    -0.05311114255036       1.93877760E-02  3.20627540E-02  3.90323564E-02\\n   -0.01067846098561     0.00713063878332     0.07449045691746       6.71494368E-04 -1.21639509E-02 -4.32986587E-02\\n   -0.05185663543317    -0.04917024005600     0.02463494631069       1.22119492E-02  1.72133541E-02 -9.35004652E-03\\n    0.04290377937039    -0.00479727070250     0.06204801077367      -3.45684494E-02 -2.94153868E-02 -5.52859862E-03\\n    0.01144713694462    -0.06692031830634    -0.03323157785010      -1.21048657E-02  2.73671636E-03  1.31414801E-02\\n    0.03061201799584     0.01286698053362     0.06790470449110      -3.49365904E-02 -2.98499090E-02 -1.13980877E-02\\n   -0.00949478302817    -0.05436096717716    19.55992079842018       2.36131767E-02  2.11804751E-02  2.39906142E-02\\n   -0.07550433386879    -0.00080546199099    -0.00348575994101       3.40481146E-02 -5.29651533E-03  2.88634174E-03\\n   -0.05840967518853     0.04675070544969     0.01078819288943       1.74681707E-02 -4.13284862E-02 -1.70685962E-02\\n    0.01500185124752    -0.05546761657673     0.04911203202328       2.25762888E-03  1.24252926E-02 -2.26857663E-02\\n# Filename: XFSET_cubic34, Snapshot: 1\\n   -0.00225550359245     0.03362566210703     0.06766041138236      -1.91915212E-02 -1.05631434E-02 -5.29276198E-02\\n    0.06324741545352    -0.03123608976364    -0.02716201119351      -3.26764071E-02  1.94306282E-02 -1.30936828E-02\\n   -0.02342348998980    -0.00885953574571    -0.07132007049235       2.49242571E-02  2.75862398E-03  5.83042734E-02\\n   -0.06280471725106    -0.01566122026474    -0.03903840916726       8.14686283E-03  2.19809860E-02  1.65498633E-03\\n   -0.01820257128125     0.07081874033926     0.01915923091543       2.04508291E-02 -5.25908006E-02 -4.78425289E-02\\n    0.06899315400375    -0.02449928491407     0.01879982654933      -1.75817641E-02 -8.13983202E-03 -1.93151830E-02\\n    0.06574258186101    -0.03554461120210    -0.01132242310311      -1.46671634E-02  1.99355931E-02  4.36376806E-02\\n    0.05737579204157    -0.03955531309781    -0.02927626031699      -2.43173073E-02  5.89333968E-02  2.07660228E-02\\n   -0.01351016134877     0.03945145517744    -0.06304571312257      -2.07744765E-02 -2.71227904E-02  2.60970626E-02\\n    0.00448492461799     0.00181845107945     0.07543396061322      -1.50940446E-03  1.57558304E-03 -4.67861275E-02\\n   -0.05629306457654    -0.03070733651329    -0.04002316926154       4.95734486E-02  1.61900346E-02  1.02600957E-02\\n    0.01575970247734     0.06192841868730     0.04037581529730      -7.84520983E-03 -2.50823521E-02  8.89060397E-03\\n   -0.00590594839728     0.06937349844923    19.58214744813213       3.46690107E-02 -5.28406342E-02  1.18123474E-02\\n    0.04043003754386     0.06353097220376    -0.00655220302828      -2.38881213E-02 -4.07899245E-02 -1.55199402E-03\\n   -0.06602649979423    -0.02863086803057    -0.02311878975042       4.43476483E-02  1.68204522E-02 -7.17587986E-03\\n    0.07405240588640    -0.01476725767912     0.00344572420276      -2.94183610E-02  4.47520344E-02 -2.33939788E-03\\n   -0.03961308758612    -0.04594418961872    -0.04509588080527       3.39903403E-03  1.59509298E-02  1.55421184E-02\\n    0.01795351066921    -0.06455780305764    -0.03498092707945      -7.74313523E-03  4.35593194E-02  8.65388210E-03\\n    0.03339424268344     0.06659895884749     0.01277133384596       4.48680025E-03 -2.03168818E-02 -6.11894326E-03\\n   -0.03526420113933    -0.05889821466480    -0.03164079865021       2.39688556E-02  2.33503484E-02  1.48812002E-02\\n    0.06963754891162    -0.02750638636327    -0.01037854505261      -3.59019125E-02  2.24238441E-02  1.34045422E-02\\n    0.02931204459192    -0.06943941312565     0.00571626350335       1.73062275E-02  2.39704139E-02 -2.27463165E-02\\n    0.04952409602141    -0.05419357472244     0.01800344691412      -4.91008342E-04  2.63635334E-02 -1.68267480E-02\\n   -0.02318560824162     0.03333444502629    -0.06375692960434       4.28320766E-02 -1.93388954E-02  3.32305481E-02\\n    0.00488326773576    -0.01017455226211     0.07474179494069      -4.47497934E-03  8.33288811E-03 -1.35633701E-02\\n   -0.00249535160065     0.07525736701698     0.00661858410646      -2.25141641E-02 -2.46536858E-02 -4.39600143E-03\\n    0.01508765709682     0.03387800352494    -0.06586613078917      -2.00172006E-02 -3.42463885E-02  5.54174698E-02\\n   -0.07237690100467     0.01595581007246    -0.01485597663081       3.14097051E-02 -1.45179359E-02  9.47452826E-03\\n    0.01310833905624     0.04475995324325     0.05948463470169       1.40386833E-02 -6.14747312E-03 -6.28791460E-02\\n    0.02815118923485     0.01089400743748     0.06930032383946      -9.47635371E-03 -3.98954103E-02 -1.03017661E-02\\n    0.05421018122952    -0.03917639245246     0.03521605096075      -1.27340248E-03  7.87244476E-03 -8.03432169E-04\\n    0.05157900310699     0.00438036355854     0.05508287002521      -2.57915469E-02  2.04509400E-03 -3.35922468E-03\\n# Filename: XFSET_cubic35, Snapshot: 1\\n    0.05088086589990    -0.05555160051291     0.00623385022933      -4.00134948E-02  1.96174863E-02  2.08352796E-03\\n    0.05910634294458     0.03650126507409    -0.02979599971674       2.07453888E-03 -4.33158928E-02  7.05077350E-03\\n    0.05267211782960    -0.04152050459936     0.03486257920085      -9.47748837E-03  2.68943852E-02 -1.39394207E-02\\n    0.03451155648292     0.06268061750512    -0.02436793783637      -1.76979224E-02 -3.78825849E-02 -1.94040591E-02\\n   -0.05135644514796    -0.04951789415740     0.02498394357707       6.42967417E-02  1.02534648E-02  7.95885561E-03\\n   -0.00451665047402    -0.06616131636601    -0.03627649137437       1.27997025E-02  3.14814854E-02  2.99522304E-02\\n    0.07033176644877     0.01792582672024     0.02111423884998      -2.97364420E-02 -2.69076765E-02 -1.71124298E-02\\n    0.07544521586567    -0.00208689345437     0.00416749319092      -2.28475348E-02  1.24384592E-03 -1.84913981E-03\\n    0.04453907919498     0.05046036387779    -0.03440531669075      -3.51549913E-02 -1.65736821E-02 -1.52106422E-02\\n    0.00222743530133    -0.03014390454510     0.06928266208115       9.30431544E-03  9.56957675E-06 -5.32936472E-02\\n    0.01221534066108    -0.07431235507619    -0.00649330830405       2.91514724E-02  4.77428057E-02 -4.99319660E-03\\n   -0.05068383757391    -0.04206136975580    -0.03709034266145       2.09366247E-02 -1.45310483E-03  4.52226647E-02\\n    0.06736428756278    -0.02973419899056    -0.01707729195186      -1.36655212E-02  1.30214159E-02  8.20128465E-03\\n    0.02987730967495    -0.05977771960735     0.03532243395108      -1.07035445E-03  4.86184205E-02 -2.85345840E-02\\n    0.00375980684616     0.03292881506832    -0.06793571027530       1.86283363E-02 -4.51586024E-02  1.97417951E-02\\n    0.00255445127343    -0.07508741479953    -0.00831015373952       1.57439199E-02  1.34085098E-02  1.67719483E-02\\n   -0.07199088324761     0.01776148290833    -0.01468149131244       3.78031662E-02 -8.37951806E-03  9.23631846E-03\\n    0.01866653816227     0.07323561909250    -0.00134468380077       1.31925547E-02 -3.48443033E-02  2.75594572E-02\\n    0.07006479992581    -0.02831863317063     0.00163784948617      -2.24105687E-02  3.54651406E-02 -8.81503780E-03\\n   -0.06952107129554    -0.00345870290720     0.02947137160201       2.45510189E-02  2.03242118E-02 -1.28444960E-02\\n    0.05864805847002     0.03864779712297     0.02793665614313      -2.27292699E-02  1.49160939E-02 -1.14568032E-02\\n   -0.02775330210800     0.06051738205840    -0.03579251871876       2.05590001E-02 -1.73619441E-02  1.75715532E-02\\n   -0.05112745796271    -0.02092590589485    -0.05159256940775       5.21912321E-03  3.14517703E-02  2.07712275E-02\\n    0.01003835915755     0.06607376721632     0.03531561061473      -2.15488562E-02 -3.94284919E-02 -3.84933370E-02\\n   -0.06689386386554     0.02111448751905    -0.02816190874995       2.19085619E-02 -3.33162887E-02  4.16409639E-03\\n    0.05948925928312     0.00721935618585    -0.04607182060286      -5.17078242E-02 -1.19465069E-02  1.21622287E-02\\n   -0.03647343027267     0.06599065662712     0.00535031245680       1.80998048E-02 -2.26996605E-02  2.59253719E-02\\n   -0.01064866227229    -0.06932326124615    -0.02818856438404       2.14780292E-03  6.31465550E-02  5.99412580E-04\\n   -0.04345358441501     0.04139154930668     0.04595899649596       5.87555113E-03 -5.57529102E-03 -2.84796103E-02\\n   -0.01450550334244     0.06948701365014    -0.02597785664715       3.77516430E-02 -4.67759893E-02  1.26586024E-02\\n    0.07527355257756    -0.00503178242157    -0.00471987101150      -6.49458261E-02  2.75655921E-02 -9.29061781E-03\\n    0.00476348328793     0.07485303724686     0.00938273724088      -7.03778442E-03 -1.35412155E-02 -3.91432693E-03\\n# Filename: XFSET_cubic36, Snapshot: 1\\n   -0.04677822456220     0.03207433868787     0.04996737168051       3.17299971E-02  5.46522555E-03 -2.79749439E-02\\n   -0.05611976667533    -0.05062928620247     0.00097513227397      -2.99245580E-03  5.30100521E-02  3.57424777E-03\\n   -0.06769672024584     0.03201675608722     0.01028518955790       4.81685209E-02  4.06219995E-03 -1.55349966E-02\\n   -0.06973781286652    -0.02664553852594    -0.01184721365405       1.43959170E-02  1.98428469E-02  1.65786313E-02\\n    0.05624305543129     0.05036447855494     0.00372045042137      -2.82368638E-02 -1.23129587E-03  6.12532486E-03\\n    0.05340029733571     0.00037395004649     0.05349740294769      -1.02341205E-02  1.99398907E-02 -2.84286705E-02\\n   -0.00955712509304    -0.07427620277804    -0.01026697534648       1.93096157E-02  2.70056653E-02  2.71526473E-02\\n    0.00258497488569     0.07534254788166    -0.00552468174655      -5.78032265E-03 -5.51819459E-02  1.73909657E-02\\n    0.01736425456816     0.02871755435164     0.06773100058998      -1.32417848E-02 -2.81885980E-02 -3.58302979E-02\\n   -0.07285275766453     0.01524010578235    -0.01318782003584       3.56863092E-02  1.87714851E-02  1.16285768E-02\\n   -0.04963628868350     0.04700032145224     0.03226317342160       2.24179986E-02 -2.47898396E-02 -1.37654621E-02\\n    0.05908920482937     0.04560368564194     0.01193622475399      -5.57743599E-02 -2.14269736E-02 -1.19152594E-02\\n    0.02362033784694    -0.00318308924274     0.07173319523626      -3.40619341E-02  2.93947784E-02 -2.81676962E-02\\n    0.06843199094922    -0.02088239138850     0.02438630880833      -4.53818306E-02 -9.18149611E-03 -1.92176969E-02\\n    0.03764574001568     0.06378492275163     0.01509919297303      -9.38025621E-03 -4.27578090E-02  2.93541003E-02\\n   -0.07214077348926     0.01967722543164    -0.01105528518198       5.64904769E-02  1.09354098E-02  1.93125669E-02\\n   -0.00446881489175    -0.06094483597686     0.04449112716193      -4.95012499E-03 -1.21545293E-03 -5.11137199E-02\\n    0.04710287308540     0.05735604240533     0.01432855406875      -5.36202283E-02 -1.43572389E-02 -1.33510492E-02\\n   -0.05985994040090    -0.02049931836350    -0.04135540104631       1.73062318E-02  9.40195414E-03  4.18909410E-02\\n    0.05690147739824     0.03325541856947    -0.03701354778221      -3.39590927E-02 -5.32628212E-03  1.89318019E-02\\n   -0.03649893930769    -0.06236232729110     0.02219169408135       4.05897498E-02  2.25315777E-02 -1.97675433E-02\\n   -0.02990756419022    -0.01843954134508    -0.06692700989440       2.35197969E-02  1.13864412E-02  4.18742776E-02\\n    0.05483532814297    -0.03078664062322    -0.04194011519061      -3.74363836E-02  3.51848726E-02  3.67857598E-02\\n    0.06148544388526     0.03868942015025    -0.02088953539871      -1.88518024E-02  7.00849778E-04 -5.60299123E-03\\n   -0.03549159793107     0.03008384259166    -0.05957358986688       4.97582835E-02  4.65857002E-03  2.58677920E-02\\n    0.00944379368198     0.06283897452789    -0.04093631354674      -1.04120760E-02 -5.32406755E-02  2.53741804E-02\\n    0.04738058723673     0.04542480462539     0.03748827541687      -4.48289707E-02  8.80497872E-04 -6.03405269E-03\\n   -0.01410370429353    -0.07383481720751    -0.00795041016759       1.10629804E-02  2.94722781E-02  7.37565139E-03\\n    0.02177649691788     0.06251867925829     0.03648153847690      -1.83467747E-02 -2.32786942E-02 -1.27748877E-02\\n   -0.06456329846168     0.03681644668852     0.01377800636176       3.23224086E-02 -1.14735718E-02 -4.39952818E-03\\n   -0.05555526239604     0.04778893515571    -0.01853467605374       2.32341482E-02 -2.58190221E-02 -2.27147625E-02\\n   -0.00278818809633    -0.04067049183253     0.06365407151959       1.49694682E-03  1.48243003E-02 -1.26239071E-02\\n# Filename: XFSET_cubic37, Snapshot: 1\\n    0.01916643005973    -0.01171941116951    -0.07217345143295       2.07567488E-02  2.79882361E-02  1.78393267E-02\\n    0.02393801932787    -0.00060163448259     0.07169597613537       3.22259009E-04 -2.26001908E-02 -7.44167079E-02\\n    0.03800055518188    -0.04786340359708    -0.04448321185565       2.12148597E-03  3.34149744E-02  5.67987777E-02\\n    0.03327583792465     0.00843223054869    -0.06734478308944       1.77494878E-03 -1.45048553E-02  7.58337390E-02\\n   -0.03922578557119     0.02898048757980     0.05775095497914       1.38790676E-02 -5.42503903E-03 -6.10020015E-02\\n   -0.05546525171715    -0.00188734687934    -0.05132004963336       6.02678806E-03  1.61574899E-02  3.82989684E-02\\n    0.01843002476477     0.02116781421514    -0.07018519471209      -2.36981050E-02  5.89090568E-03  1.28530370E-02\\n   -0.03278304043701    -0.06772107419978    -0.00726856958066      -1.68080479E-03  3.54111855E-02 -2.31973532E-03\\n    0.02346101447043    -0.01758040670938     0.06967218830373      -1.40401636E-02  3.91782786E-02 -1.62719437E-02\\n    0.00559530992561     0.00235164278582     0.07534498002403       2.56464775E-02 -1.28691584E-02 -4.64005518E-02\\n    0.05031624729218    -0.05044778921383    -0.02523884967950      -2.61988592E-02  2.09925140E-02  2.97114429E-02\\n   -0.05917805143699     0.04433112158162     0.01569756719161       4.33137168E-02 -2.33410376E-02  1.24699344E-02\\n    0.06225443599545    -0.03890363070639     0.01801656020388      -5.59242998E-02  7.72294965E-03 -9.14923813E-03\\n    0.00153795606346     0.01305093856888     0.07443797025452       5.86396501E-03  1.12961027E-02 -4.86890118E-02\\n   -0.02747643644370     0.05974550163452     0.03727229786215       2.76841555E-02 -3.50024432E-02 -4.21255543E-03\\n   -0.00918443217284     0.07262355140370     0.01884594653599       2.21215335E-02 -5.08134664E-02  1.00766916E-02\\n    0.01634112623053    -0.00516955616959     0.07362028935071      -3.23837532E-03  4.83224486E-03 -2.86266638E-02\\n    0.02641590135536     0.06914844100573     0.01531002868520      -3.39639261E-03 -2.90109137E-02  2.63236605E-03\\n   -0.00237166184481     0.03199161233627     0.06844425229130      -1.71234972E-03 -2.66005084E-02 -5.24893717E-02\\n    0.04251445024624     0.04924447994120     0.03848644481876      -2.58922961E-02 -2.19343407E-02 -2.22783411E-02\\n   -0.00627491817907     0.04885242307774    19.55423864707535      -2.13107015E-02 -5.82023191E-02  4.68410588E-02\\n    0.02153159691585    -0.05910301789100    -0.04191571702335      -1.02481713E-02  5.24129165E-02 -1.10146123E-03\\n   -0.06452741709791    -0.01111142712667     0.03776840407127       3.39858316E-02  1.48210573E-02  8.19309482E-03\\n   -0.03870480546401     0.03890280367792    -0.05198282052928       1.85342116E-02 -2.30069724E-02  2.00258006E-02\\n    0.03161331489447     0.00371427070684    -0.06856023801224      -7.32119709E-03  1.74652489E-03  1.42175205E-02\\n   -0.05516306353380    -0.01774401946676    -0.04853751049534       5.40984118E-02  2.40717638E-02  3.91469686E-02\\n    0.06442452925828     0.01920476261144    -0.03455952619266      -5.29791289E-02  1.74480231E-02  4.83798595E-02\\n    0.07312298547683     0.00174162728740     0.01907090558103      -2.36344711E-02 -1.04722739E-02 -1.97393137E-02\\n   -0.04270310047146     0.00030418829367     0.06237031679237       3.80447765E-02  1.56581200E-02 -5.55983010E-02\\n    0.00078842737647     0.07422689199109    -0.01426361163908      -1.89617577E-03 -4.16277580E-02  5.50763712E-03\\n    0.04749512788354     0.02944155586226    -0.05090296015673      -3.49255215E-02 -3.15000497E-02 -2.64142183E-03\\n    0.00376711082661    -0.07186657655251    -0.02312374895869      -6.07736473E-03  7.78680399E-02  6.11039621E-03\\n# Filename: XFSET_cubic38, Snapshot: 1\\n   -0.01937841859157     0.01420670605549     0.07166833416648      -7.45267293E-03 -2.55997428E-03 -2.60836981E-02\\n    0.06503522373530    -0.03629931838595     0.01290282506039      -3.07299951E-02  6.08981057E-02 -1.85916102E-02\\n   -0.07048100341210     0.02163123042996     0.01667998100193       5.70871335E-02 -3.92972901E-02 -2.33321073E-02\\n   -0.05356230809175     0.03342053093300    -0.04156742718370       5.77913018E-03 -3.18447132E-03  2.53927833E-02\\n    0.02357040825916    -0.06998994828010    -0.01611045383117      -1.63725741E-02  4.89515378E-03  7.40183944E-03\\n   -0.03580056418408     0.03170976659636     0.05853643324903       1.45058058E-02 -2.89032122E-02 -4.64872619E-02\\n    0.00691244298761     0.05893155439924     0.04682941123889       6.03246137E-03 -3.27147364E-02 -1.29430068E-02\\n    0.02636054088367    -0.05565835122207    -0.04382891213727       8.04328286E-03  5.77613108E-02  4.13561882E-02\\n   -0.03583564713857     0.06621239898035    -0.00674005597805       2.75470803E-02 -3.32000583E-02 -1.20030610E-03\\n   -0.02928509879814    -0.03379460351810    -0.06094269001937       3.33905735E-02  3.23310918E-02  1.63313667E-02\\n    0.03979709928960     0.05960312985723     0.02402834846871      -2.55994619E-02 -4.06350760E-02 -3.16529917E-02\\n    0.04566769374566    -0.01781182794238    -0.05754045763076      -3.93022100E-02  1.00148397E-02  1.48633780E-02\\n    0.00548623115423     0.07182013687881    19.58865452918121       2.29947552E-05 -5.13317778E-02  2.96581428E-02\\n   -0.06440556453381    -0.03837253837727     0.00965273441987       4.04709078E-02  4.76957449E-02  1.75226570E-02\\n   -0.03473048276628    -0.06026737496686     0.02958615904704       1.03094950E-03  4.44389813E-02 -1.61733142E-02\\n   -0.03895259788085    -0.04015786299201     0.05083055066211       1.33805841E-02  6.60053440E-03 -1.58581609E-02\\n   -0.01442686031104    -0.06019771725759    -0.04337976778780      -8.26304068E-03  2.56878891E-02  3.92579900E-02\\n    0.00894615584984    -0.03313674096228    -0.06734705954027      -9.38919655E-03  3.92035686E-03  5.56463147E-02\\n    0.05469288266637     0.05109053816627     0.01059005359344      -1.92836713E-02 -5.30118144E-02 -3.27447500E-03\\n   -0.02829000152400    -0.04961253474565     0.04951743062250       2.52755776E-02  1.69971638E-02 -4.46967481E-02\\n    0.01252094698104     0.04560894666763     0.05896400249309      -6.17556505E-03 -3.65916783E-02 -3.35367846E-02\\n    0.07164974497424     0.02118748675067     0.01145024776811      -3.60273383E-02 -9.45465224E-03 -2.75494708E-02\\n   -0.00789837395620     0.01840613122847     0.07288713012507       7.27841202E-03 -5.05477487E-02 -4.88367752E-02\\n   -0.03844615468085    -0.01590948586900    -0.06310693449311       1.23239397E-02  3.32871693E-03  4.79391743E-02\\n    0.02273646115979    -0.03333050654342    -0.06392053178549       6.85370260E-03 -9.94991481E-03  9.53482303E-03\\n    0.00436954153129    -0.05295179130530    -0.05376540361609       3.21456116E-02  5.09827643E-02  2.13211287E-02\\n    0.07341020268290    -0.01288971964021    -0.01258971804007      -4.23395522E-02 -1.39032120E-02  1.65868371E-02\\n    0.03822545999179    -0.02981064586276    -0.05799864950874      -8.14183379E-03 -4.76298586E-03  8.54871443E-03\\n   -0.04471317021425     0.01057137967892     0.06002234644398       2.84022928E-02 -1.96570213E-02 -5.25623255E-02\\n    0.01133291433872    -0.07462929567601    -0.00396698871428      -2.85417718E-02  5.03049272E-02  7.36554018E-03\\n    0.00221120614440     0.02879042899404    -0.06985646343559      -4.06163122E-03 -2.63947517E-02  2.96839730E-02\\n    0.06322829992890    -0.03806548225943    -0.01633722371402      -3.78899249E-02  4.02427949E-02  1.43681855E-02\\n# Filename: XFSET_cubic39, Snapshot: 1\\n    0.03140547525634    -0.00824836127826    -0.06825953685438      -4.73208566E-02  2.52829814E-02  3.21842704E-02\\n   -0.02735623096489     0.05965414873943     0.03750630482914       1.73477169E-02 -2.59654738E-02 -2.92627660E-02\\n   -0.03677631557599    -0.04965678770477    -0.04353630410949      -5.44753979E-03  1.76449886E-02  1.69228098E-02\\n   -0.07293206946999     0.01080376086857    -0.01667020498457       6.61704688E-02 -1.35957149E-02  1.89164237E-02\\n    0.06202052777440     0.02508843524276    19.57639636260182      -3.02609385E-02 -1.97023635E-02  1.23871070E-02\\n    0.05457689052093    -0.04524755576912     0.02622451986532      -1.27761407E-02  3.89469134E-02 -2.64805809E-04\\n   -0.02760709947792    -0.06949812872573    -0.01102551009024       1.47091108E-02  9.12628657E-03 -8.77382186E-05\\n    0.04224405689392     0.00394598009885     0.06255855363226      -1.29585183E-02 -7.26445212E-03 -3.67055257E-02\\n    0.00839534849447    -0.04289585780325    -0.06166982431795      -4.06148781E-02  3.32867426E-02  3.17122817E-02\\n   -0.05386508568068    -0.03754412326216     0.03745257122267       4.93479838E-02  4.03015626E-03 -3.83210934E-02\\n    0.01024342354389    -0.02746272059832     0.06967478014985      -2.07912779E-02  2.62144317E-02 -4.09729269E-02\\n   -0.02940726808034     0.06282173039905    -0.03003908303831       3.10910375E-02 -4.46004385E-02  1.75062004E-02\\n    0.03662273356538     0.00187633290424    19.54547962778010      -9.48540523E-03  6.06848151E-03  6.47722436E-02\\n   -0.03816777326724    -0.04382270013998     0.04833731244441      -4.61231330E-03  3.65651256E-03 -1.56870171E-02\\n   -0.07263130387247     0.02001216057054     0.00615717959183       2.44002408E-02 -3.59854370E-02 -1.41378045E-02\\n    0.02346174655032     0.02341060653665     0.06793521676501      -1.79509128E-02 -2.72564429E-02 -4.26021321E-02\\n    0.02699481800889     0.02117215321529     0.06735520360564      -2.09011100E-02 -1.55549317E-02 -6.15552394E-02\\n   -0.06562545833654    -0.03656829274293    -0.00835241868488       4.50008880E-02  1.36227565E-03  1.71549300E-02\\n    0.05841264205855     0.01504641474084     0.04555515757445      -5.13549760E-02 -2.70311173E-02 -1.71220895E-02\\n    0.00285165492618    -0.07399835944980     0.01515963643006      -2.86205134E-03  2.94353853E-02 -8.50393249E-03\\n   -0.02492260934680    -0.04505076546826     0.05534433849225       3.96578890E-02  4.38092103E-02 -7.64245755E-03\\n   -0.06971892562082    -0.02705584587775    -0.01099801503980       2.65137104E-02 -1.65859250E-02  1.60435990E-02\\n    0.03981542056233     0.05293565239280    -0.03641775266185      -2.92287176E-02 -2.75070889E-02  4.44371375E-02\\n    0.00711329838696    -0.05075169529092     0.05556410824712      -1.23532572E-06  1.83081847E-02 -2.43629926E-02\\n    0.04069951778052    -0.05480466504473    -0.03246077112265      -5.00745922E-02  1.93192180E-02  2.71601372E-02\\n   -0.00327880937536    -0.07512990396865     0.00764530367962       4.53682652E-03  4.73273352E-02  2.49446060E-03\\n    0.06320558485396     0.01781088682665    -0.03743701480880      -4.13213157E-02 -4.12945788E-02  1.60240754E-02\\n   -0.07175232819002     0.01769515991825    -0.01588044176070       5.75901151E-02 -3.68070159E-02 -4.54323940E-03\\n   -0.03033631621386    -0.06570513691365    19.58975464987446       4.57399017E-02  2.93281883E-02  1.66553508E-02\\n   -0.04132765896501    -0.03128247776350     0.05501940499834       1.39045339E-02  1.97223672E-02 -3.36238100E-02\\n   -0.00952944532962    -0.07294200997213    -0.01738840352420      -1.72518273E-02  1.48312578E-02  5.34213733E-03\\n    0.04117910608255     0.05721535726081    -0.02728347155270      -2.07958165E-02 -4.85499366E-02  3.56824062E-02\\n# Filename: XFSET_cubic40, Snapshot: 1\\n    0.05755673936516     0.02380759455997     0.04282667283166      -2.97105771E-02  2.91178903E-03 -2.24986454E-02\\n    0.02593764058594     0.07071844946990    -0.00631216566951      -1.07898158E-02 -2.53006521E-02  1.72085569E-02\\n   -0.05755887003137    -0.02626749722250     0.04136059485576       5.34659074E-02  5.04098335E-02 -4.36953867E-03\\n    0.02518529771880     0.05427332027236     0.04619319430979      -2.37564435E-02 -4.21691297E-02 -3.08954714E-02\\n    0.00167397023515     0.04230954305695     0.06261632474083      -2.91443155E-02 -2.98798700E-02 -1.32527010E-02\\n   -0.00697411797916     0.04746882335429    -0.05841041184743       2.72169932E-03 -1.33455463E-02  2.39605096E-02\\n   -0.05586714525236     0.04720873645963    -0.01907618935808       4.38132444E-02 -4.97644406E-03  8.09933430E-03\\n   -0.06596175154110    -0.01364297348804     0.03430189972724       1.92188225E-02  2.58488516E-02 -3.89268835E-02\\n   -0.06835681707705    -0.00428537839672     0.03197944361836       3.69460978E-02  1.78174856E-02 -6.03384027E-04\\n    0.01600205021527     0.07273410472838     0.01293785642535      -7.18847281E-03 -5.71426690E-02  2.71650974E-02\\n    0.02756140571124    -0.02121042376377     0.06711326659194      -2.28076071E-02  4.01988061E-02 -4.78646718E-02\\n    0.00897777739297     0.03946861248735     0.06383832605287      -2.00886615E-02 -4.64661813E-03 -2.42588250E-02\\n    0.01340186794756     0.02728081012970    19.54236897530603       2.03217974E-03 -3.65292933E-02  4.76393677E-02\\n    0.00906765427926     0.02280540114710    -0.07149402100273       2.71080030E-02 -1.34066802E-02  5.63107679E-02\\n    0.05373077698682    -0.04687773260246     0.02508357059204      -3.99864657E-02  4.27459843E-02 -7.45923315E-03\\n    0.06756280820549    -0.01541474644660     0.03018867762399      -2.38336601E-02  2.07608011E-02 -3.84931955E-02\\n   -0.00657063594017    -0.04479576034475    -0.06052991260655       3.77406027E-02  2.10568129E-02  4.01809073E-02\\n    0.07401697238773    -0.00027886245743     0.01533341914825      -6.56938078E-02 -2.97533996E-02  1.17124544E-02\\n    0.01051116145306     0.07438631781892     0.00836031811746       2.14392741E-02 -3.12690608E-02 -1.98088097E-02\\n    0.03736682059703    -0.04608491798154     0.04683593457347       7.76390233E-03  5.87068751E-02 -3.01205709E-02\\n    0.00918336580038    -0.05119777999121    19.55673105845112      -3.85012037E-02  3.32725586E-02  3.37526504E-02\\n    0.03903579609706     0.05182097014556    -0.03878785122298      -1.99140977E-02 -3.68085353E-02  3.21775508E-02\\n    0.06387309356898     0.03602619783320    -0.01833152236948      -2.68386940E-02 -1.14572320E-02 -1.30720397E-02\\n   -0.07092137366094    -0.01757815258778     0.01936158627714       6.24798606E-02  3.14644960E-02 -3.46084903E-02\\n   -0.02388825849263     0.06629216526495    -0.02735696705687       2.65447403E-02 -5.56347778E-02  4.90814802E-02\\n   -0.04811720342512     0.04470545875253    -0.03741470856836       4.11073984E-02 -1.52939815E-02  5.24288172E-02\\n    0.00094132625108    -0.07541298769626    -0.00506941081825      -6.84165975E-03  6.65951125E-02 -2.52326488E-02\\n    0.00297718433040    -0.02234625336931     0.07214904750921      -2.88431262E-02  7.60282927E-03 -4.92381207E-02\\n    0.01489191831993     0.06281039382356    19.57224848783473       1.74335708E-02 -4.95483292E-02  2.32869594E-02\\n    0.03889394267165    -0.01348634556468     0.06339624135775       5.96522344E-03  4.93383548E-03 -5.83541992E-02\\n    0.05675601062751    -0.02591777840634     0.04266998646571      -4.63657867E-03  2.65013078E-02 -2.73623123E-02\\n    0.02133768399234    -0.02400091457189    -0.06842779458030      -7.20533999E-03  6.33484032E-03  6.34152877E-02\\n\""
      ]
     },
     "execution_count": 54,
     "metadata": {},
     "output_type": "execute_result"
    }
   ],
   "source": [
    "node.outputs.dfset_file.get_content()"
   ]
  },
  {
   "cell_type": "code",
   "execution_count": null,
   "id": "b3e85f59",
   "metadata": {},
   "outputs": [],
   "source": []
  }
 ],
 "metadata": {
  "kernelspec": {
   "display_name": "py39",
   "language": "python",
   "name": "py39"
  },
  "language_info": {
   "codemirror_mode": {
    "name": "ipython",
    "version": 3
   },
   "file_extension": ".py",
   "mimetype": "text/x-python",
   "name": "python",
   "nbconvert_exporter": "python",
   "pygments_lexer": "ipython3",
   "version": "3.9.13"
  }
 },
 "nbformat": 4,
 "nbformat_minor": 5
}
