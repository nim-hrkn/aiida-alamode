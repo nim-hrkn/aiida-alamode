{
 "cells": [
  {
   "cell_type": "code",
   "execution_count": null,
   "id": "736a131b",
   "metadata": {},
   "outputs": [],
   "source": [
    "import aiida\n",
    "\n",
    "# must execute it in the first place\n",
    "aiida.load_profile()\n"
   ]
  },
  {
   "cell_type": "code",
   "execution_count": null,
   "id": "678f94ab",
   "metadata": {},
   "outputs": [],
   "source": [
    "from aiida.orm import Code\n",
    "from aiida.orm import Str, Int, Dict, List, Float\n",
    "from aiida.engine import calcfunction, WorkChain, ToContext, append_\n",
    "from aiida.plugins import DataFactory, WorkflowFactory\n",
    "from itertools import cycle\n",
    "import os\n",
    "\n",
    "from aiida.engine import calcfunction, workfunction, submit, run\n",
    "from aiida.engine import run_get_node\n",
    "from aiida.orm import load_code, load_node\n",
    "from alamode_aiida.io import load_atoms\n",
    "from ase import io\n",
    "from tools import wait_for_node_finished\n",
    "from alamode_aiida.io import load_atoms_bare\n",
    "\n",
    "# load types\n",
    "StructureData = DataFactory('structure')\n",
    "FolderData = DataFactory('folder')\n",
    "SinglefileData = DataFactory('singlefile')\n",
    "ArrayData = DataFactory('array')\n",
    "List = DataFactory('list')\n",
    "TrajectoryData = DataFactory('array.trajectory')\n"
   ]
  },
  {
   "cell_type": "code",
   "execution_count": null,
   "id": "ae166a0f",
   "metadata": {},
   "outputs": [],
   "source": [
    "# codeの定義を行う。\n",
    "from tools.aiida_support import get_or_create_local_computer, get_or_create_code\n",
    "from os.path import expanduser\n",
    "import os\n"
   ]
  },
  {
   "cell_type": "code",
   "execution_count": null,
   "id": "4f8a3e37",
   "metadata": {},
   "outputs": [],
   "source": [
    "home = expanduser(\"~\")\n",
    "work_directory = os.path.join(home, 'aiida')\n",
    "computer_local = get_or_create_local_computer(work_directory, 'localhost')\n",
    "print(computer_local)\n",
    "code = get_or_create_code('alamode.displace_pf',\n",
    "                          computer_local,\n",
    "                          '/home/max/Documents/alamode/displace.py')\n",
    "code_displace_pf = code\n",
    "code = get_or_create_code('alamode.displace_random',\n",
    "                          computer_local,\n",
    "                          '/home/max/Documents/alamode/displace.py')\n",
    "code_displace_random = code\n",
    "code = get_or_create_code('alamode.lammps',\n",
    "                          computer_local,\n",
    "                          '/usr/bin/lammps')\n",
    "\n",
    "code_lammps_name = Str('alamode.lammps@localhost')\n",
    "\n",
    "code = get_or_create_code('alamode.extract',\n",
    "                          computer_local,\n",
    "                          '/home/max/Documents/alamode/tools/extract.py')\n",
    "code_extract = code\n",
    "code_extract_name = Str('alamode.extract@localhost')\n",
    "\n",
    "\n",
    "code_displace_random, code_displace_pf, code_lammps_name\n"
   ]
  },
  {
   "cell_type": "code",
   "execution_count": null,
   "id": "92dece47",
   "metadata": {},
   "outputs": [],
   "source": []
  },
  {
   "cell_type": "code",
   "execution_count": null,
   "id": "38870d0e",
   "metadata": {},
   "outputs": [],
   "source": [
    "import json\n",
    "with open(\"setting.json\") as f:\n",
    "    _dic = json.load(f)\n",
    "print(_dic)\n",
    "CWD = _dic[\"CWD\"]\n",
    "_path = os.path.abspath(CWD)\n",
    "os.makedirs(_path, exist_ok=True)\n",
    "_path\n"
   ]
  },
  {
   "cell_type": "code",
   "execution_count": null,
   "id": "69ca0d11",
   "metadata": {},
   "outputs": [],
   "source": [
    "\n",
    "from os.path import expanduser\n",
    "from tools import NodeBank\n",
    "\n",
    "\n",
    "# 再実行時に作成したノードを用いるためにnodebankを使う。\n",
    "g_force = False\n",
    "nodebank = NodeBank(_path, force=g_force)\n"
   ]
  },
  {
   "cell_type": "code",
   "execution_count": null,
   "id": "c55b3d15",
   "metadata": {},
   "outputs": [],
   "source": [
    "g_prefix = nodebank.load('cubic_prefix')\n",
    "g_norder = nodebank.load('cubic_norder')\n",
    "g_prefix, g_norder\n"
   ]
  },
  {
   "cell_type": "code",
   "execution_count": null,
   "id": "73dcbf21",
   "metadata": {},
   "outputs": [],
   "source": []
  },
  {
   "cell_type": "code",
   "execution_count": null,
   "id": "4c40b16d",
   "metadata": {},
   "outputs": [],
   "source": [
    "g_cwd = nodebank.load(f\"{g_prefix.value}_cwd\")  # ファイル保存directory\n",
    "g_superstructure = nodebank.load(\"superstructure\")  # 使用する長周期構造StructureData\n",
    "\n",
    "g_file_format = nodebank.load(\"format\")  # lammpsの位置フォーマット\n",
    "g_file_format, g_cwd\n"
   ]
  },
  {
   "cell_type": "markdown",
   "id": "1e661036",
   "metadata": {},
   "source": [
    "## for LAMMPS"
   ]
  },
  {
   "cell_type": "code",
   "execution_count": null,
   "id": "65a7c879",
   "metadata": {},
   "outputs": [],
   "source": [
    "key = \"format\"\n",
    "g_format = nodebank.load_or_dump(key, Str(\"LAMMPS\"))  # alamodeのファイルオプションの定義\n"
   ]
  },
  {
   "cell_type": "code",
   "execution_count": null,
   "id": "6fcfca6b",
   "metadata": {},
   "outputs": [],
   "source": [
    "from aiida_lammps.tests.utils import (\n",
    "    get_or_create_local_computer, get_or_create_code)\n",
    "from aiida_lammps.tests.utils import lammps_version\n"
   ]
  },
  {
   "cell_type": "code",
   "execution_count": null,
   "id": "8301d41a",
   "metadata": {},
   "outputs": [],
   "source": [
    "computer_local = get_or_create_local_computer('work_directory', 'localhost')\n",
    "code_lammps_force = get_or_create_code('lammps.force', computer_local, 'lammps')\n"
   ]
  },
  {
   "cell_type": "code",
   "execution_count": null,
   "id": "0dab69ff",
   "metadata": {},
   "outputs": [],
   "source": [
    "code_lammps_force_name = Str(code_lammps_force.label+\"@\"+'localhost')\n",
    "\n"
   ]
  },
  {
   "cell_type": "code",
   "execution_count": null,
   "id": "06baaf44",
   "metadata": {},
   "outputs": [],
   "source": [
    "g_mag = nodebank.load_or_dump(f\"{g_prefix.value}_mag\", Float(0.04))\n"
   ]
  },
  {
   "cell_type": "code",
   "execution_count": null,
   "id": "52d63be2",
   "metadata": {},
   "outputs": [],
   "source": [
    "\n",
    "displacement_patterns = nodebank.load(f'{g_prefix.value}_pattern')\n",
    "displacement_patterns[1]\n"
   ]
  },
  {
   "cell_type": "code",
   "execution_count": null,
   "id": "6b1a3c61",
   "metadata": {},
   "outputs": [],
   "source": []
  },
  {
   "cell_type": "code",
   "execution_count": null,
   "id": "34da9e87",
   "metadata": {},
   "outputs": [],
   "source": []
  },
  {
   "cell_type": "code",
   "execution_count": null,
   "id": "b6525ae1",
   "metadata": {},
   "outputs": [],
   "source": []
  },
  {
   "cell_type": "code",
   "execution_count": null,
   "id": "457bc3b1",
   "metadata": {},
   "outputs": [],
   "source": []
  },
  {
   "cell_type": "code",
   "execution_count": null,
   "id": "2afe1349",
   "metadata": {},
   "outputs": [],
   "source": [
    "g_action = \"random\"\n",
    "\n",
    "if g_action == \"pf\":\n",
    "\n",
    "    #codename = \"alamode.displace_pf@tutor\"\n",
    "    #code = Code.get_from_string(codename)\n",
    "    code = code_displace_pf\n",
    "\n",
    "    builder = code.get_builder()\n",
    "    builder.format = g_format\n",
    "    builder.cwd = Str(os.path.join(g_cwd.value, f\"{g_prefix.value}_suggest_pf\"))\n",
    "    builder.prefix = g_prefix\n",
    "    builder.structure_org = g_superstructure\n",
    "    builder.mag = g_mag\n",
    "    builder.pattern = displacement_patterns\n",
    "\n",
    "    g_displacefuture = nodebank.load_code_or_wait_for_node(f\"{g_prefix.value}_displace_pf\", builder)\n",
    "\n",
    "\n",
    "elif g_action == \"random\":\n",
    "\n",
    "    g_num_disp = nodebank.dump(f\"{g_prefix.value}_num_disp\", Int(40))\n",
    "\n",
    "    code = code_displace_random\n",
    "\n",
    "    builder = code.get_builder()\n",
    "    builder.format = g_format\n",
    "    builder.cwd = Str(os.path.join(g_cwd.value, f\"{g_prefix.value}_suggest_random\"))\n",
    "    builder.prefix = g_prefix\n",
    "    builder.structure_org = g_superstructure\n",
    "    builder.mag = g_mag\n",
    "    builder.num_disp = g_num_disp\n",
    "    \n",
    "\n",
    "    g_displacefuture = nodebank.load_code_or_wait_for_node(f\"{g_prefix.value}_suggest_random\", builder)\n",
    "\n",
    "else:\n",
    "    raise ValueError(\"unknown action\")\n"
   ]
  },
  {
   "cell_type": "code",
   "execution_count": null,
   "id": "4f6965cd",
   "metadata": {},
   "outputs": [],
   "source": []
  },
  {
   "cell_type": "code",
   "execution_count": null,
   "id": "f6908ec4",
   "metadata": {},
   "outputs": [],
   "source": [
    "g_displacefuture.outputs.retrieved.list_object_names()\n"
   ]
  },
  {
   "cell_type": "code",
   "execution_count": null,
   "id": "336eb3e4",
   "metadata": {},
   "outputs": [],
   "source": []
  },
  {
   "cell_type": "code",
   "execution_count": null,
   "id": "e0056be2",
   "metadata": {},
   "outputs": [],
   "source": []
  },
  {
   "cell_type": "code",
   "execution_count": null,
   "id": "cb5bfa27",
   "metadata": {},
   "outputs": [],
   "source": []
  },
  {
   "cell_type": "code",
   "execution_count": null,
   "id": "fe035975",
   "metadata": {},
   "outputs": [],
   "source": []
  },
  {
   "cell_type": "code",
   "execution_count": null,
   "id": "3ae57bf2",
   "metadata": {},
   "outputs": [],
   "source": [
    "g_displaced_structures = g_displacefuture.outputs.displaced_structures\n",
    "g_displaced_structures\n"
   ]
  },
  {
   "cell_type": "code",
   "execution_count": null,
   "id": "3ff8c1de",
   "metadata": {},
   "outputs": [],
   "source": []
  },
  {
   "cell_type": "markdown",
   "id": "716e8847",
   "metadata": {},
   "source": [
    "# load tersoff potential"
   ]
  },
  {
   "cell_type": "code",
   "execution_count": null,
   "id": "b8c28a4c",
   "metadata": {},
   "outputs": [],
   "source": [
    "import json\n",
    "potentialfile = \"lammps_input/potentials/tersoff.json\"\n",
    "\n",
    "with open(potentialfile, \"r\") as f:\n",
    "    potential_dict = json.load(f)\n",
    "lammps_potential = DataFactory(\"lammps.potential\")(\n",
    "    type=potential_dict[\"pair_style\"], data=potential_dict[\"potential_dict\"]\n",
    ")\n",
    "lammps_potential\n"
   ]
  },
  {
   "cell_type": "code",
   "execution_count": null,
   "id": "acda81f5",
   "metadata": {},
   "outputs": [],
   "source": [
    "code_lammps_force_name\n"
   ]
  },
  {
   "cell_type": "markdown",
   "id": "39018935",
   "metadata": {},
   "source": [
    "# execution option"
   ]
  },
  {
   "cell_type": "code",
   "execution_count": null,
   "id": "d9cab4f6",
   "metadata": {},
   "outputs": [],
   "source": [
    "lammps_parameters = DataFactory('dict')(dict={\n",
    "    'lammps_version': lammps_version(),\n",
    "    'output_variables': [\"temp\", \"etotal\", \"pe\", \"ke\"],\n",
    "    'thermo_keywords': []\n",
    "})\n",
    "meta_options = {\n",
    "    \"resources\": {\n",
    "        \"num_machines\": 1,\n",
    "        \"num_mpiprocs_per_machine\": 1}\n",
    "}\n"
   ]
  },
  {
   "cell_type": "markdown",
   "id": "6c738bfc",
   "metadata": {},
   "source": [
    "# run all the displacements"
   ]
  },
  {
   "cell_type": "code",
   "execution_count": null,
   "id": "0c60a8d2",
   "metadata": {},
   "outputs": [],
   "source": [
    "Code.get_from_string(code_lammps_force_name.value)\n"
   ]
  },
  {
   "cell_type": "code",
   "execution_count": null,
   "id": "34301da8",
   "metadata": {},
   "outputs": [],
   "source": [
    "alldisp_lammps_WorkChain = WorkflowFactory(\"alamode.force_simulator_lammps\")\n"
   ]
  },
  {
   "cell_type": "code",
   "execution_count": null,
   "id": "6402872d",
   "metadata": {},
   "outputs": [],
   "source": [
    "g_prefix\n"
   ]
  },
  {
   "cell_type": "code",
   "execution_count": null,
   "id": "f56927ee",
   "metadata": {},
   "outputs": [],
   "source": [
    "inputs = {\"structures\": g_displaced_structures,\n",
    "          \"parameters\": lammps_parameters,\n",
    "          \"code_string\":  code_lammps_force_name,\n",
    "          #\"cwd\": Str(os.path.join(g_cwd.value, \"cubic_all_run\")),\n",
    "          \"prefix\": g_prefix,\n",
    "          'potential': lammps_potential}\n",
    "\n"
   ]
  },
  {
   "cell_type": "code",
   "execution_count": null,
   "id": "44c9c7d8",
   "metadata": {},
   "outputs": [],
   "source": [
    "# It will take 30 min. for GaN222.\n"
   ]
  },
  {
   "cell_type": "code",
   "execution_count": null,
   "id": "645ae676",
   "metadata": {},
   "outputs": [],
   "source": [
    "from datetime import datetime\n",
    "starttime = datetime.now()\n",
    "\n",
    "lammps_all = nodebank.load(f\"{g_prefix.value}_all_lammps\", raise_error=False)\n",
    "if lammps_all is None:\n",
    "    lammps_all = submit(alldisp_lammps_WorkChain, **inputs)\n",
    "    print(lammps_all)\n",
    "    wait_for_node_finished(lammps_all, 5)\n",
    "    print(lammps_all.is_finished_ok)\n",
    "    if lammps_all.is_finished_ok:\n",
    "        nodebank.dump(f\"{g_prefix.value}_all_lammps\", lammps_all)\n",
    "endtime = datetime.now()\n",
    "print(endtime-starttime)\n"
   ]
  },
  {
   "cell_type": "code",
   "execution_count": null,
   "id": "2405fa49",
   "metadata": {},
   "outputs": [],
   "source": [
    "if False:\n",
    "    # too big to show\n",
    "    pk = lammps_all.pk\n",
    "    print(pk)\n",
    "    !verdi node graph generate $pk\n",
    "    from wand.image import Image as WImage\n",
    "    filename = f\"{pk}.dot.pdf\"\n",
    "    img = WImage(filename=filename)\n",
    "    display(img)"
   ]
  },
  {
   "cell_type": "markdown",
   "id": "57eeed1b",
   "metadata": {},
   "source": [
    "# extract"
   ]
  },
  {
   "cell_type": "code",
   "execution_count": null,
   "id": "d20d7e60",
   "metadata": {},
   "outputs": [],
   "source": [
    "g_target_dict = lammps_all.outputs.displacement_and_forces"
   ]
  },
  {
   "cell_type": "code",
   "execution_count": null,
   "id": "52d3e24b",
   "metadata": {},
   "outputs": [],
   "source": [
    "g_superstructure\n"
   ]
  },
  {
   "cell_type": "code",
   "execution_count": null,
   "id": "c1aa6ddf",
   "metadata": {},
   "outputs": [],
   "source": [
    "code_extract = Code.get_from_string(code_extract_name.value)\n",
    "code_extract\n"
   ]
  },
  {
   "cell_type": "code",
   "execution_count": null,
   "id": "d1965acc",
   "metadata": {},
   "outputs": [],
   "source": [
    "builder = code_extract.get_builder()\n",
    "builder.format = g_format\n",
    "builder.structure_org = g_superstructure\n",
    "# builder.cwd = Str(os.path.join(g_cwd.value, f\"{g_prefix.value}_extract\"))\n",
    "builder.prefix = g_prefix\n",
    "builder.displacement_and_forces = g_target_dict\n",
    "# builder.parameters = Dict(dict={\"LAMMPS\":{\"lammps-style\":\"atomic\"}})\n"
   ]
  },
  {
   "cell_type": "code",
   "execution_count": null,
   "id": "56bf4f7d",
   "metadata": {},
   "outputs": [],
   "source": [
    "g_extract = submit(builder)\n",
    "wait_for_node_finished(g_extract)\n"
   ]
  },
  {
   "cell_type": "code",
   "execution_count": null,
   "id": "86932045",
   "metadata": {},
   "outputs": [],
   "source": [
    "nodebank.dump(f\"{g_prefix.value}_extract\", g_extract)\n"
   ]
  },
  {
   "cell_type": "code",
   "execution_count": null,
   "id": "4ed01959",
   "metadata": {},
   "outputs": [],
   "source": [
    "print(\"done\")\n"
   ]
  },
  {
   "cell_type": "code",
   "execution_count": null,
   "id": "b3e85f59",
   "metadata": {},
   "outputs": [],
   "source": [
    "g_graph=True\n",
    "if g_graph:\n",
    "    \n",
    "    pk = g_extract.pk\n",
    "    print(pk)\n",
    "    !verdi node graph generate $pk\n",
    "    from wand.image import Image as WImage\n",
    "    filename = f\"{pk}.dot.pdf\"\n",
    "    img = WImage(filename=filename)\n",
    "    display(img)\n"
   ]
  },
  {
   "cell_type": "code",
   "execution_count": null,
   "id": "10bffd95",
   "metadata": {},
   "outputs": [],
   "source": []
  }
 ],
 "metadata": {
  "kernelspec": {
   "display_name": "py39",
   "language": "python",
   "name": "py39"
  },
  "language_info": {
   "codemirror_mode": {
    "name": "ipython",
    "version": 3
   },
   "file_extension": ".py",
   "mimetype": "text/x-python",
   "name": "python",
   "nbconvert_exporter": "python",
   "pygments_lexer": "ipython3",
   "version": "3.9.13"
  }
 },
 "nbformat": 4,
 "nbformat_minor": 5
}
