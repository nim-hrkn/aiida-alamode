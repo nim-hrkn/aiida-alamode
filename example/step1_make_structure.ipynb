{
 "cells": [
  {
   "cell_type": "code",
   "execution_count": null,
   "id": "00af6b74",
   "metadata": {},
   "outputs": [],
   "source": [
    "import aiida\n",
    "\n",
    "# must execute it in the first place\n",
    "aiida.load_profile()\n"
   ]
  },
  {
   "cell_type": "code",
   "execution_count": null,
   "id": "8e4f6644",
   "metadata": {},
   "outputs": [],
   "source": [
    "from aiida.manage.configuration import get_profile\n",
    "\n",
    "from aiida.common.datastructures import CalcInfo, CodeInfo\n",
    "from aiida.common.folders import Folder\n",
    "\n",
    "from aiida.engine import CalcJob, WorkChain\n",
    "from aiida.engine import calcfunction, workfunction, submit, run\n",
    "\n",
    "from aiida.plugins import DataFactory, WorkflowFactory\n",
    "\n",
    "from aiida.parsers.parser import Parser\n",
    "from aiida.orm import Code\n",
    "from aiida.orm import load_code, load_node\n",
    "from aiida.orm import Str, Dict, Float, Int, Bool\n",
    "from aiida.orm import QueryBuilder\n",
    "\n",
    "import aiida\n",
    "\n",
    "from ase.io.espresso import write_espresso_in\n",
    "from ase.io.lammpsdata import read_lammps_data\n",
    "from ase.build import make_supercell\n",
    "from ase import Atom, Atoms\n",
    "import ase\n",
    "\n",
    "from itertools import combinations_with_replacement\n",
    "import numpy as np\n",
    "import os\n",
    "import subprocess\n",
    "import shutil\n",
    "import re\n",
    "from time import sleep\n",
    "import spglib\n",
    "import json\n",
    "\n",
    "from os.path import expanduser\n",
    "\n",
    "from tools import NodeBank\n",
    "from tools import wait_for_node_finished\n",
    "from alamode_aiida.io import load_atoms\n",
    "from tools.putstructure import PutStructure\n"
   ]
  },
  {
   "cell_type": "code",
   "execution_count": null,
   "id": "1f22432e",
   "metadata": {},
   "outputs": [],
   "source": [
    "# 型定義\n",
    "StructureData = DataFactory('structure')\n",
    "FolderData = DataFactory('folder')\n",
    "SinglefileData = DataFactory('singlefile')\n",
    "ArrayData = DataFactory('array')\n",
    "List = DataFactory('list')\n"
   ]
  },
  {
   "cell_type": "code",
   "execution_count": null,
   "id": "61ff93cc",
   "metadata": {},
   "outputs": [],
   "source": [
    "g_graph = False  # graphを作るか\n",
    "\n",
    "# 実行root directoryの定義\n",
    "with open(\"setting.json\") as f:\n",
    "    _dic = json.load(f)\n",
    "print(_dic)\n",
    "CWD = _dic[\"CWD\"]\n",
    "_path = os.path.abspath(CWD)\n",
    "os.makedirs(_path, exist_ok=True)\n",
    "\n",
    "# 再実行時に作成したノードを用いるためにnodebankを使う。\n",
    "g_force = False\n",
    "nodebank = NodeBank(_path, force=g_force)\n",
    "\n",
    "# 計算するroot directoryの定義\n",
    "key = \"root_wd\"\n",
    "g_root_wd = nodebank.load_or_dump(key, Str(os.path.join(os.getcwd(), CWD)))\n",
    "os.makedirs(g_root_wd.value, exist_ok=True)\n",
    "g_root_wd\n"
   ]
  },
  {
   "cell_type": "code",
   "execution_count": null,
   "id": "c1395195",
   "metadata": {},
   "outputs": [],
   "source": [
    "# 構造ファイルの取得\n",
    "# lammpsから取得する場合の例\n",
    "# lammpsで最適化しているのでsimulatorもLAMMPSを用いる。\n",
    "\n",
    "crystal = \"Si222\"\n",
    "nodebank.load_or_dump(\"cyrstal\", Str(crystal))\n",
    "\n",
    "if crystal == \"GaN222\":\n",
    "    g_file_format = Str(\"lammps-data\")  # format\n",
    "    _path = os.path.abspath(\"lammps_input/GaN/GaN222.lammps\")  # file path\n",
    "\n",
    "    _diag = np.array([2, 2, 2])\n",
    "    diag = np.diag(_diag)\n",
    "    g_diag = ArrayData()\n",
    "    g_diag.set_array('factor', diag)  # supercellをファイルの構造の何倍にするかの定義をする\n",
    "    nodebank.dump('factor', g_diag)\n",
    "\n",
    "elif crystal == \"Si222\":\n",
    "    g_file_format = Str(\"lammps-data\")\n",
    "    _path = os.path.abspath(\"lammps_input/Si222/Si222.lammps\")\n",
    "\n",
    "    _diag = np.array([2, 2, 2])\n",
    "    diag = np.diag(_diag)\n",
    "    g_diag = ArrayData()\n",
    "    g_diag.set_array('factor', diag)  # supercellをファイルの構造の何倍にするかの定義をする\n",
    "    nodebank.dump('factor', g_diag)\n",
    "\n",
    "else:\n",
    "    raise ValueError('unknow crystal.')\n",
    "\n",
    "g_diag = nodebank.dump(\"diag\", g_diag)\n",
    "g_structure_org_filename = Str(_path)\n",
    "\n",
    "nodebank.dump(\"structure_org_format\", g_file_format)\n",
    "\n",
    "g_raw_structure = load_atoms(\n",
    "    g_structure_org_filename, g_file_format)\n",
    "g_raw_structure.get_ase()\n"
   ]
  },
  {
   "cell_type": "code",
   "execution_count": null,
   "id": "f13c477a",
   "metadata": {},
   "outputs": [],
   "source": [
    "# structureのstandardized structure を factorで構造倍にして、formatでcwdにsaveする。\n",
    "inputs = {\"cwd\": g_root_wd, \"factor\": g_diag, \"format\": g_file_format,\n",
    "          \"structure\": g_raw_structure}\n",
    "g_primsuper_structures = run(PutStructure, **inputs)\n"
   ]
  },
  {
   "cell_type": "code",
   "execution_count": null,
   "id": "8220dbdb",
   "metadata": {},
   "outputs": [],
   "source": [
    "g_primsuper_structures  # outout\n"
   ]
  },
  {
   "cell_type": "code",
   "execution_count": null,
   "id": "7257c0e7",
   "metadata": {},
   "outputs": [],
   "source": [
    "# 出力構造\n",
    "g_superstructure = g_primsuper_structures[\"superstructure\"]  # StructureData\n",
    "g_standardizedstructure = g_primsuper_structures[\"standardizedstructure\"]\n",
    "g_primstructure = g_primsuper_structures[\"primstructure\"]  # StructureData\n",
    "g_primstructure.get_ase(), g_standardizedstructure.get_ase(), g_superstructure.get_ase()\n"
   ]
  },
  {
   "cell_type": "code",
   "execution_count": null,
   "id": "5f8204c5",
   "metadata": {},
   "outputs": [],
   "source": [
    "if True:\n",
    "    pk = g_standardizedstructure.pk\n",
    "    print(pk)\n",
    "    !verdi node graph generate $pk\n",
    "    from wand.image import Image as WImage\n",
    "    filename = f\"{pk}.dot.pdf\"\n",
    "    img = WImage(filename=filename)\n",
    "    display(img)"
   ]
  },
  {
   "cell_type": "code",
   "execution_count": null,
   "id": "1e2fab82",
   "metadata": {},
   "outputs": [],
   "source": [
    "nodebank.dump(\"superstructure\", g_superstructure)\n",
    "nodebank.dump(\"standardizedstructure\", g_standardizedstructure)\n",
    "nodebank.dump(\"primstructure\", g_primstructure)\n"
   ]
  },
  {
   "cell_type": "code",
   "execution_count": null,
   "id": "49e686c6",
   "metadata": {},
   "outputs": [],
   "source": []
  }
 ],
 "metadata": {
  "kernelspec": {
   "display_name": "py39",
   "language": "python",
   "name": "py39"
  },
  "language_info": {
   "codemirror_mode": {
    "name": "ipython",
    "version": 3
   },
   "file_extension": ".py",
   "mimetype": "text/x-python",
   "name": "python",
   "nbconvert_exporter": "python",
   "pygments_lexer": "ipython3",
   "version": "3.9.13"
  }
 },
 "nbformat": 4,
 "nbformat_minor": 5
}
