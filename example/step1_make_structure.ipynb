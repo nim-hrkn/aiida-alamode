{
 "cells": [
  {
   "cell_type": "code",
   "execution_count": null,
   "id": "00af6b74",
   "metadata": {},
   "outputs": [],
   "source": [
    "import aiida\n",
    "\n",
    "# must execute it in the first place\n",
    "aiida.load_profile()\n"
   ]
  },
  {
   "cell_type": "code",
   "execution_count": null,
   "id": "8e4f6644",
   "metadata": {},
   "outputs": [],
   "source": [
    "from aiida.manage.configuration import get_profile\n",
    "\n",
    "from aiida.common.datastructures import CalcInfo, CodeInfo\n",
    "from aiida.common.folders import Folder\n",
    "\n",
    "from aiida.engine import CalcJob, WorkChain\n",
    "from aiida.engine import calcfunction, workfunction, submit, run\n",
    "\n",
    "from aiida.plugins import DataFactory, WorkflowFactory\n",
    "\n",
    "from aiida.parsers.parser import Parser\n",
    "from aiida.orm import Code\n",
    "from aiida.orm import load_code, load_node\n",
    "from aiida.orm import Str, Dict, Float, Int, Bool\n",
    "from aiida.orm import QueryBuilder\n",
    "\n",
    "import aiida\n",
    "\n",
    "from ase.io.espresso import write_espresso_in\n",
    "from ase.io.lammpsdata import read_lammps_data\n",
    "from ase.build import make_supercell\n",
    "from ase import Atom, Atoms\n",
    "import ase\n",
    "\n",
    "from itertools import combinations_with_replacement\n",
    "import numpy as np\n",
    "import os\n",
    "import subprocess\n",
    "import shutil\n",
    "import re\n",
    "from time import sleep\n",
    "import spglib\n",
    "import json\n",
    "\n",
    "from os.path import expanduser\n",
    "\n",
    "from tools import NodeBank\n",
    "from tools import wait_for_node_finished\n",
    "from alamode_aiida.io import load_atoms\n",
    "from tools.putstructure import PutStructure\n"
   ]
  },
  {
   "cell_type": "code",
   "execution_count": null,
   "id": "1f22432e",
   "metadata": {},
   "outputs": [],
   "source": [
    "# 型定義\n",
    "StructureData = DataFactory('structure')\n",
    "FolderData = DataFactory('folder')\n",
    "SinglefileData = DataFactory('singlefile')\n",
    "ArrayData = DataFactory('array')\n",
    "List = DataFactory('list')\n"
   ]
  },
  {
   "cell_type": "code",
   "execution_count": null,
   "id": "61ff93cc",
   "metadata": {},
   "outputs": [],
   "source": [
    "g_graph = False  # graphを作るか\n",
    "\n",
    "# 実行root directoryの定義\n",
    "with open(\"setting.json\") as f:\n",
    "    _dic = json.load(f)\n",
    "print(_dic)\n",
    "CWD = _dic[\"CWD\"]\n",
    "_path = os.path.abspath(CWD)\n",
    "os.makedirs(_path, exist_ok=True)\n",
    "\n",
    "# 再実行時に作成したノードを用いるためにnodebankを使う。\n",
    "g_force = False\n",
    "nodebank = NodeBank(_path, force=g_force)\n",
    "\n",
    "# 計算するroot directoryの定義\n",
    "key = \"root_wd\"\n",
    "g_root_wd = nodebank.load_or_dump(key, Str(os.path.join(os.getcwd(), CWD)))\n",
    "os.makedirs(g_root_wd.value, exist_ok=True)\n",
    "g_root_wd\n"
   ]
  },
  {
   "cell_type": "code",
   "execution_count": null,
   "id": "c1395195",
   "metadata": {},
   "outputs": [],
   "source": [
    "# 構造ファイルの取得\n",
    "# lammpsから取得する場合の例\n",
    "# lammpsで最適化しているはずなのでsimulatorもLAMMPSを用いる。\n",
    "\n",
    "crystal = \"Si222\"\n",
    "nodebank.load_or_dump(\"cyrstal\", Str(crystal))\n",
    "\n",
    "if crystal == \"GaN222\":\n",
    "    g_file_format = Str(\"lammps-data\")  # format\n",
    "    _path = os.path.abspath(\"lammps_input/GaN/GaN222.lammps\")  # file path\n",
    "\n",
    "    _diag = np.array([2, 2, 2])\n",
    "    diag = np.diag(_diag)\n",
    "    g_diag = ArrayData()\n",
    "    g_diag.set_array('factor', diag)  # supercellをファイルの構造の何倍にするかの定義をする\n",
    "    nodebank.dump('factor', g_diag)\n",
    "\n",
    "elif crystal == \"Si222\":\n",
    "    g_file_format = Str(\"lammps-data\")\n",
    "    _path = os.path.abspath(\"lammps_input/Si222/Si222.lammps\")\n",
    "\n",
    "    _diag = np.array([2, 2, 2])\n",
    "    diag = np.diag(_diag)\n",
    "    g_diag = ArrayData()\n",
    "    g_diag.set_array('factor', diag)  # supercellをファイルの構造の何倍にするかの定義をする\n",
    "    nodebank.dump('factor', g_diag)\n",
    "\n",
    "else:\n",
    "    raise ValueError('unknow crystal.')\n",
    "\n",
    "g_diag = nodebank.dump(\"diag\", g_diag)\n",
    "g_structure_org_filename = Str(_path)\n",
    "\n",
    "nodebank.dump(\"structure_org_format\", g_file_format)\n",
    "\n",
    "g_raw_structure = load_atoms(\n",
    "    g_structure_org_filename, g_file_format)\n",
    "g_raw_structure.get_ase()\n"
   ]
  },
  {
   "cell_type": "code",
   "execution_count": null,
   "id": "f13c477a",
   "metadata": {},
   "outputs": [],
   "source": [
    "# structureのstandardized structure を factorで構造倍にして、formatでcwdにsaveする。\n",
    "inputs = {\"cwd\": g_root_wd, \"factor\": g_diag, \"format\": g_file_format,\n",
    "          \"structure\": g_raw_structure}\n",
    "g_primsuper_structures = run(PutStructure, **inputs)\n"
   ]
  },
  {
   "cell_type": "code",
   "execution_count": null,
   "id": "8220dbdb",
   "metadata": {},
   "outputs": [],
   "source": [
    "g_primsuper_structures  # outout\n"
   ]
  },
  {
   "cell_type": "code",
   "execution_count": null,
   "id": "7257c0e7",
   "metadata": {},
   "outputs": [],
   "source": [
    "g_superstructure = g_primsuper_structures[\"superstructure\"]  # StructureData\n",
    "g_standardizedstructure = g_primsuper_structures[\"standardizedstructure\"]\n",
    "g_primstructure = g_primsuper_structures[\"primstructure\"]  # StructureData\n",
    "g_primstructure.get_ase(), g_standardizedstructure.get_ase(), g_superstructure.get_ase()\n"
   ]
  },
  {
   "cell_type": "code",
   "execution_count": null,
   "id": "5f8204c5",
   "metadata": {},
   "outputs": [],
   "source": [
    "if False:\n",
    "    pk = g_ciffilename.pk\n",
    "    print(pk)\n",
    "    !verdi node graph generate $pk\n"
   ]
  },
  {
   "cell_type": "code",
   "execution_count": null,
   "id": "1e2fab82",
   "metadata": {},
   "outputs": [],
   "source": [
    "nodebank.dump(\"superstructure\", g_superstructure)\n",
    "nodebank.dump(\"standardizedstructure\", g_standardizedstructure)\n",
    "nodebank.dump(\"primstructure\", g_primstructure)\n"
   ]
  },
  {
   "cell_type": "code",
   "execution_count": null,
   "id": "c5d54f81",
   "metadata": {},
   "outputs": [],
   "source": []
  },
  {
   "cell_type": "code",
   "execution_count": null,
   "id": "4ad2419b",
   "metadata": {},
   "outputs": [],
   "source": [
    "raise\n"
   ]
  },
  {
   "cell_type": "code",
   "execution_count": null,
   "id": "6dfa52c0",
   "metadata": {},
   "outputs": [],
   "source": []
  },
  {
   "cell_type": "code",
   "execution_count": null,
   "id": "e23ae970",
   "metadata": {},
   "outputs": [],
   "source": []
  },
  {
   "cell_type": "code",
   "execution_count": null,
   "id": "892f04bc",
   "metadata": {},
   "outputs": [],
   "source": []
  },
  {
   "cell_type": "code",
   "execution_count": null,
   "id": "c1c49e91",
   "metadata": {},
   "outputs": [],
   "source": [
    "atoms = g_superstructure.get_ase()"
   ]
  },
  {
   "cell_type": "code",
   "execution_count": null,
   "id": "f7612630",
   "metadata": {},
   "outputs": [],
   "source": [
    "g_cwd = nodebank.load('cwd')\n",
    "g_cwd"
   ]
  },
  {
   "cell_type": "code",
   "execution_count": null,
   "id": "ea471fd8",
   "metadata": {},
   "outputs": [],
   "source": [
    "g_norder = nodebank.load('harmonic_norder')\n",
    "g_norder"
   ]
  },
  {
   "cell_type": "code",
   "execution_count": null,
   "id": "665d3e48",
   "metadata": {},
   "outputs": [],
   "source": [
    "alm_alm_suggest = WorkflowFactory('alamode.alm_ALM_suggest')\n"
   ]
  },
  {
   "cell_type": "code",
   "execution_count": null,
   "id": "1b83f8c6",
   "metadata": {},
   "outputs": [],
   "source": [
    "cutoff_radii = List(list=[[-1]])\n",
    "cutoff_radii.store()\n",
    "nbody=List(list=[2])\n",
    "nbody.store()\n",
    "inputs = {#\"cwd\": g_cwd, \n",
    "          \"structure\": g_superstructure,\n",
    "         \"norder\": g_norder, \"cutoff_radii\": cutoff_radii, \"nbody\": nbody}\n",
    "ret = submit(alm_alm_suggest,**inputs)\n",
    "wait_for_node_finished(ret)\n",
    "ret"
   ]
  },
  {
   "cell_type": "code",
   "execution_count": null,
   "id": "f99f03f1",
   "metadata": {},
   "outputs": [],
   "source": [
    "ret.outputs.pattern\n"
   ]
  },
  {
   "cell_type": "code",
   "execution_count": null,
   "id": "47ffdb8f",
   "metadata": {},
   "outputs": [],
   "source": [
    "with open(\"/home/max/Documents/aiida-test/alamode-aiida/example/run31/Ga2N2_2x0x0x0x2x0x0x0x2_harmonic/harmonic_extract/DFSET\") as f:\n",
    "    dfset = f.read().splitlines()\n",
    "    "
   ]
  },
  {
   "cell_type": "code",
   "execution_count": null,
   "id": "80f511a2",
   "metadata": {},
   "outputs": [],
   "source": [
    "alm_alm_opt = WorkflowFactory('alamode.alm_ALM_opt')\n",
    "inputs = {\"cwd\": g_cwd, \n",
    "          \"structure\": g_superstructure, \"dfset\": List(list=dfset), \n",
    "         \"norder\": g_norder, \"cutoff_radii\": cutoff_radii, \"nbody\": nbody}\n",
    "rt = submit(alm_alm_opt, **inputs)\n",
    "wait_for_node_finished(rt)\n",
    "rt"
   ]
  },
  {
   "cell_type": "code",
   "execution_count": null,
   "id": "b2be5d4b",
   "metadata": {},
   "outputs": [],
   "source": [
    "rt.outputs.input_ANPHON"
   ]
  },
  {
   "cell_type": "code",
   "execution_count": null,
   "id": "2a0007b2",
   "metadata": {},
   "outputs": [],
   "source": [
    "\n",
    "raise"
   ]
  },
  {
   "cell_type": "code",
   "execution_count": null,
   "id": "73d4496b",
   "metadata": {},
   "outputs": [],
   "source": [
    "from alamode_aiida.common.base import alamodeBaseCalcjob"
   ]
  },
  {
   "cell_type": "code",
   "execution_count": null,
   "id": "b1c3de2b",
   "metadata": {},
   "outputs": [],
   "source": [
    "s = alamodeBaseCalcjob()\n",
    "s.error.ERROR_OUTPUT_STDOUT_MISSING"
   ]
  },
  {
   "cell_type": "code",
   "execution_count": null,
   "id": "23424e94",
   "metadata": {},
   "outputs": [],
   "source": [
    "num_free = {}\n",
    "len(num_free.keys())\n"
   ]
  },
  {
   "cell_type": "code",
   "execution_count": null,
   "id": "c5650b7d",
   "metadata": {},
   "outputs": [],
   "source": []
  }
 ],
 "metadata": {
  "kernelspec": {
   "display_name": "py39",
   "language": "python",
   "name": "py39"
  },
  "language_info": {
   "codemirror_mode": {
    "name": "ipython",
    "version": 3
   },
   "file_extension": ".py",
   "mimetype": "text/x-python",
   "name": "python",
   "nbconvert_exporter": "python",
   "pygments_lexer": "ipython3",
   "version": "3.9.13"
  }
 },
 "nbformat": 4,
 "nbformat_minor": 5
}
