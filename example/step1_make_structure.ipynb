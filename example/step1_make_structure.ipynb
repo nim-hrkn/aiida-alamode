{
 "cells": [
  {
   "cell_type": "code",
   "execution_count": 1,
   "id": "00af6b74",
   "metadata": {},
   "outputs": [
    {
     "data": {
      "text/plain": [
       "<aiida.manage.configuration.profile.Profile at 0x7f1858084f70>"
      ]
     },
     "execution_count": 1,
     "metadata": {},
     "output_type": "execute_result"
    }
   ],
   "source": [
    "import aiida\n",
    "\n",
    "# must execute it in the first place\n",
    "aiida.load_profile()"
   ]
  },
  {
   "cell_type": "code",
   "execution_count": 2,
   "id": "8e4f6644",
   "metadata": {},
   "outputs": [],
   "source": [
    "from aiida.manage.configuration import get_profile\n",
    "\n",
    "from aiida.common.datastructures import CalcInfo, CodeInfo\n",
    "from aiida.common.folders import Folder\n",
    "\n",
    "from aiida.engine import CalcJob, WorkChain\n",
    "from aiida.engine import calcfunction, workfunction, submit, run\n",
    "\n",
    "from aiida.plugins import DataFactory, WorkflowFactory\n",
    "\n",
    "from aiida.parsers.parser import Parser\n",
    "from aiida.orm import Code\n",
    "from aiida.orm import load_code, load_node\n",
    "from aiida.orm import Str, Dict, Float, Int, Bool\n",
    "from aiida.orm import QueryBuilder\n",
    "\n",
    "import aiida\n",
    "\n",
    "from alamode_aiida.data_loader import load_anphon_kl, load_anphon_kl_spec\n",
    "from ase.io.espresso import write_espresso_in\n",
    "from ase.io.lammpsdata import read_lammps_data\n",
    "from ase.build import make_supercell\n",
    "from ase import Atom, Atoms\n",
    "import ase\n",
    "\n",
    "from itertools import combinations_with_replacement\n",
    "import numpy as np\n",
    "import os\n",
    "import subprocess\n",
    "import shutil\n",
    "import re\n",
    "from time import sleep\n",
    "import spglib\n",
    "import json\n",
    "\n",
    "from os.path import expanduser\n",
    "\n",
    "from tools import NodeBank\n",
    "from tools import wait_for_node_finished\n",
    "from alamode_aiida.ase_support import load_atoms\n",
    "from tools.putstructure import PutStructure\n"
   ]
  },
  {
   "cell_type": "code",
   "execution_count": 3,
   "id": "1f22432e",
   "metadata": {},
   "outputs": [],
   "source": [
    "# load types\n",
    "StructureData = DataFactory('structure')\n",
    "FolderData = DataFactory('folder')\n",
    "SinglefileData = DataFactory('singlefile')\n",
    "ArrayData = DataFactory('array')\n",
    "List = DataFactory('list')\n"
   ]
  },
  {
   "cell_type": "code",
   "execution_count": 4,
   "id": "61ff93cc",
   "metadata": {},
   "outputs": [
    {
     "name": "stdout",
     "output_type": "stream",
     "text": [
      "{'CWD': 'run29'}\n"
     ]
    },
    {
     "data": {
      "text/plain": [
       "'/home/max/Documents/aiida-test/alamode-aiida/example/run29'"
      ]
     },
     "execution_count": 4,
     "metadata": {},
     "output_type": "execute_result"
    }
   ],
   "source": [
    "g_graph = False\n",
    "\n",
    "with open(\"setting.json\") as f:\n",
    "    _dic = json.load(f)\n",
    "print(_dic)\n",
    "CWD = _dic[\"CWD\"]\n",
    "_path = os.path.abspath(CWD)\n",
    "os.makedirs(_path, exist_ok=True)\n",
    "_path"
   ]
  },
  {
   "cell_type": "code",
   "execution_count": 5,
   "id": "42dfe3d9",
   "metadata": {},
   "outputs": [],
   "source": [
    "# 再実行時に作成したノードを用いるためにnodebankを使う。\n",
    "g_force = False\n",
    "nodebank = NodeBank(_path, force=g_force)"
   ]
  },
  {
   "cell_type": "code",
   "execution_count": 6,
   "id": "2a08fada",
   "metadata": {},
   "outputs": [
    {
     "name": "stdout",
     "output_type": "stream",
     "text": [
      "debug, node uuid: ce1542b4-8c75-4a89-8ecc-eef6dac75026 (unstored) value: /home/max/Documents/aiida-test/alamode-aiida/example/run29\n",
      "debug, load None\n",
      "debug, force dump\n"
     ]
    },
    {
     "data": {
      "text/plain": [
       "<Str: uuid: ce1542b4-8c75-4a89-8ecc-eef6dac75026 (pk: 59093) value: /home/max/Documents/aiida-test/alamode-aiida/example/run29>"
      ]
     },
     "execution_count": 6,
     "metadata": {},
     "output_type": "execute_result"
    }
   ],
   "source": [
    "# 計算するroot directoryの定義\n",
    "key = \"root_wd\"\n",
    "g_root_wd = nodebank.load_or_dump(key, Str(os.path.join(os.getcwd(), CWD)))\n",
    "os.makedirs(g_root_wd.value, exist_ok=True)\n",
    "g_root_wd\n"
   ]
  },
  {
   "cell_type": "code",
   "execution_count": 7,
   "id": "c1395195",
   "metadata": {
    "scrolled": false
   },
   "outputs": [
    {
     "name": "stdout",
     "output_type": "stream",
     "text": [
      "debug, node uuid: 79bc5764-2468-42eb-a1d6-6dd409362fed (unstored) value: GaN222\n",
      "debug, load None\n",
      "debug, force dump\n",
      "debug, node uuid: f6cae774-40b7-47fe-b1d0-193a9567d5ce (unstored)\n",
      "debug, load None\n",
      "debug, force dump\n"
     ]
    },
    {
     "data": {
      "text/plain": [
       "Atoms(symbols='Ga2N2Ga2N2Ga2N2Ga2N2Ga2N2Ga2N2Ga2N2Ga2N2', pbc=True, cell=[[6.38, 0.0, 0.0], [-3.19, 5.5252420761447, 0.0], [0.0, 0.0, 10.378]], masses=...)"
      ]
     },
     "execution_count": 7,
     "metadata": {},
     "output_type": "execute_result"
    }
   ],
   "source": [
    "# 構造ファイルの取得\n",
    "# lammpsから取得する場合の例\n",
    "# lammpsで最適化しているはずなのでsimulatorもLAMMPSを用いる。\n",
    "\n",
    "crystal = \"GaN222\"\n",
    "nodebank.load_or_dump(\"cyrstal\", Str(crystal)) \n",
    "\n",
    "if crystal == \"GaN222\":\n",
    "    _path = os.path.abspath(\"lammps_input/GaN/GaN222.lammps\")\n",
    "    g_diag = ArrayData()\n",
    "    # supercellをファイルの構造の何倍にするかの定義をする   \n",
    "    g_diag.set_array('diag', np.array([1, 1, 1]))\n",
    "\n",
    "elif crystal == \"Si222\":\n",
    "    _path = os.path.abspath(\"lammps_input/Si222/Si222.lammps\")\n",
    "    g_diag = ArrayData()\n",
    "    # supercellをファイルの構造の何倍にするかの定義をする   \n",
    "    g_diag.set_array('diag', np.array([1, 1, 1]))\n",
    "else:\n",
    "    raise ValueError('unknow crystal.')\n",
    "        \n",
    "g_diag = nodebank.load_or_dump(\"diag\", g_diag)    \n",
    "g_structure_org_filename = Str(_path)\n",
    "g_file_format = Str(\"lammps-data\")\n",
    "nodebank.dump(\"structure_org_format\", g_file_format)\n",
    "g_file_style = Str(\"atomic\")\n",
    "nodebank.dump(\"structure_org_style\", g_file_style)\n",
    "g_supply_Z = Bool(True)\n",
    "nodebank.dump(\"supply_Z\", g_supply_Z)\n",
    "g_raw_structure = load_atoms(\n",
    "    g_structure_org_filename, g_file_format, g_file_style, g_supply_Z)\n",
    "g_raw_structure.get_ase()"
   ]
  },
  {
   "cell_type": "code",
   "execution_count": 8,
   "id": "f13c477a",
   "metadata": {
    "scrolled": false
   },
   "outputs": [
    {
     "name": "stdout",
     "output_type": "stream",
     "text": [
      "prim Atoms(symbols='Ga2N2', pbc=False, cell=[[3.189999999999996, 0.0, 0.0], [-1.594999999999998, 2.7626210380723557, 0.0], [0.0, 0.0, 5.189]], masses=...)\n",
      "atoms Atoms(symbols='Ga2N2', pbc=False, cell=[[3.19, 0.0, 0.0], [-1.595, 2.7626210380724, 0.0], [0.0, 0.0, 5.189]], masses=...)\n",
      "path uuid: 3023dc70-1157-4610-8854-54280d391027 (pk: 59109) value: /home/max/Documents/aiida-test/alamode-aiida/example/run29/primcell.lammps\n",
      "format uuid: 02b83567-bbd3-4e5b-8e83-2a1cc3569fc6 (pk: 59102) value: lammps-data\n",
      "atoms Atoms(symbols='Ga2N2Ga2N2Ga2N2Ga2N2Ga2N2Ga2N2Ga2N2Ga2N2', pbc=True, cell=[[6.38, 0.0, 0.0], [-3.19, 5.5252420761447, 0.0], [0.0, 0.0, 10.378]], masses=...)\n",
      "P [[1 0 0]\n",
      " [0 1 0]\n",
      " [0 0 1]]\n",
      "super Atoms(symbols='Ga2N2Ga2N2Ga2N2Ga2N2Ga2N2Ga2N2Ga2N2Ga2N2', pbc=True, cell=[[6.38, 0.0, 0.0], [-3.19, 5.5252420761447, 0.0], [0.0, 0.0, 10.378]], masses=...)\n",
      "atoms Atoms(symbols='Ga2N2Ga2N2Ga2N2Ga2N2Ga2N2Ga2N2Ga2N2Ga2N2', pbc=True, cell=[[6.38, 0.0, 0.0], [-3.19, 5.5252420761447, 0.0], [0.0, 0.0, 10.378]], masses=...)\n",
      "path uuid: 7afe9cad-2048-4d4a-90a2-f729ea7fa388 (pk: 59107) value: /home/max/Documents/aiida-test/alamode-aiida/example/run29/supercell.lammps\n",
      "format uuid: 02b83567-bbd3-4e5b-8e83-2a1cc3569fc6 (pk: 59102) value: lammps-data\n"
     ]
    }
   ],
   "source": [
    "g_file_format = Str(\"lammps-data\")\n",
    "g_primcell_filename = Str(f\"primcell.lammps\")\n",
    "g_supercell_filename = Str(f\"supercell.lammps\")\n",
    "inputs = {\"cwd\": g_root_wd, \"diag\": g_diag, \"output_format\": g_file_format,\n",
    "          \"primcell_filename\": g_primcell_filename,\n",
    "          \"supercell_filename\": g_supercell_filename,\n",
    "          \"structure\": g_raw_structure}\n",
    "g_primsuper_structures = run(PutStructure, **inputs)\n"
   ]
  },
  {
   "cell_type": "code",
   "execution_count": 9,
   "id": "8220dbdb",
   "metadata": {},
   "outputs": [
    {
     "data": {
      "text/plain": [
       "{'primstructure_filepath': <Str: uuid: 3023dc70-1157-4610-8854-54280d391027 (pk: 59109) value: /home/max/Documents/aiida-test/alamode-aiida/example/run29/primcell.lammps>,\n",
       " 'superstructure_filepath': <Str: uuid: 7afe9cad-2048-4d4a-90a2-f729ea7fa388 (pk: 59107) value: /home/max/Documents/aiida-test/alamode-aiida/example/run29/supercell.lammps>,\n",
       " 'primstructure': <StructureData: uuid: f222a7ce-53e6-4d9d-b868-6b57cd8a2c92 (pk: 59111)>,\n",
       " 'primstructure_file': <SinglefileData: uuid: 44c76374-8e88-47fe-90d1-f49f1d2d43a2 (pk: 59113)>,\n",
       " 'superstructure': <StructureData: uuid: 133fed56-6fda-4abf-b706-e09bb5ffbde2 (pk: 59115)>,\n",
       " 'superstructure_file': <SinglefileData: uuid: 28128ea5-41f8-4dd5-a101-fb575732c817 (pk: 59117)>}"
      ]
     },
     "execution_count": 9,
     "metadata": {},
     "output_type": "execute_result"
    }
   ],
   "source": [
    "g_primsuper_structures  # outout"
   ]
  },
  {
   "cell_type": "code",
   "execution_count": 10,
   "id": "7b518ef2",
   "metadata": {},
   "outputs": [],
   "source": [
    "# filepath\n",
    "g_primstructure_filepath = g_primsuper_structures[\"primstructure_filepath\"]\n",
    "# filepath\n",
    "g_superstructure_filepath = g_primsuper_structures[\"superstructure_filepath\"]"
   ]
  },
  {
   "cell_type": "code",
   "execution_count": 11,
   "id": "7257c0e7",
   "metadata": {},
   "outputs": [],
   "source": [
    "g_superstructure = g_primsuper_structures[\"superstructure\"]  # StructureData\n",
    "g_primstructure = g_primsuper_structures[\"primstructure\"]  # StructureData"
   ]
  },
  {
   "cell_type": "code",
   "execution_count": 12,
   "id": "0b6f7d80",
   "metadata": {},
   "outputs": [],
   "source": [
    "# StructureData\n",
    "g_superstructure_file = g_primsuper_structures[\"superstructure_file\"]"
   ]
  },
  {
   "cell_type": "code",
   "execution_count": 13,
   "id": "5f8204c5",
   "metadata": {},
   "outputs": [],
   "source": [
    "if False:\n",
    "    pk = g_ciffilename.pk\n",
    "    print(pk)\n",
    "    !verdi node graph generate $pk"
   ]
  },
  {
   "cell_type": "code",
   "execution_count": 14,
   "id": "1e2fab82",
   "metadata": {},
   "outputs": [
    {
     "data": {
      "text/plain": [
       "<StructureData: uuid: 133fed56-6fda-4abf-b706-e09bb5ffbde2 (pk: 59115)>"
      ]
     },
     "execution_count": 14,
     "metadata": {},
     "output_type": "execute_result"
    }
   ],
   "source": [
    "nodebank.dump(\"primstructure_filepath\", g_primstructure_filepath)\n",
    "nodebank.dump(\"superstructure_filepath\", g_superstructure_filepath)\n",
    "nodebank.dump(\"superstructure_file\", g_superstructure_file)\n",
    "nodebank.dump(\"primstructure\", g_primstructure)\n",
    "nodebank.dump(\"superstructure\", g_superstructure)"
   ]
  },
  {
   "cell_type": "code",
   "execution_count": 15,
   "id": "d1924d2b",
   "metadata": {},
   "outputs": [
    {
     "data": {
      "text/plain": [
       "<Str: uuid: c60d5c7e-a3c8-4b16-8707-f5fc9ed8a75b (pk: 59119) value: supercell.lammps>"
      ]
     },
     "execution_count": 15,
     "metadata": {},
     "output_type": "execute_result"
    }
   ],
   "source": [
    "_, g_primstructure_filename = os.path.split(g_primstructure_filepath.value)\n",
    "nodebank.dump(\"superstructure_filename\", Str(g_primstructure_filename))\n",
    "\n",
    "_, g_superstructure_filename = os.path.split(g_superstructure_filepath.value)\n",
    "nodebank.dump(\"superstructure_filename\", Str(g_superstructure_filename))"
   ]
  },
  {
   "cell_type": "code",
   "execution_count": 16,
   "id": "f65268ff",
   "metadata": {},
   "outputs": [
    {
     "data": {
      "text/plain": [
       "<Int: uuid: ea668f08-633f-4858-9bb2-7bd1fbfe8d0a (pk: 59121) value: 1>"
      ]
     },
     "execution_count": 16,
     "metadata": {},
     "output_type": "execute_result"
    }
   ],
   "source": [
    "g_prefix = Str('harmonic')\n",
    "nodebank.dump(\"prefix\", g_prefix)\n",
    "g_norder = Int(1)\n",
    "nodebank.dump(f\"{g_prefix.value}_norder\", g_norder)"
   ]
  },
  {
   "cell_type": "code",
   "execution_count": 17,
   "id": "8b7ca346",
   "metadata": {},
   "outputs": [
    {
     "name": "stdout",
     "output_type": "stream",
     "text": [
      "debug, node uuid: 7697e409-d2f7-4115-ab2e-63bbadf87ce6 (unstored) value: /home/max/Documents/aiida-test/alamode-aiida/example/run29/Ga2N2_1x1x1_harmonic\n",
      "debug, load None\n",
      "debug, force dump\n"
     ]
    },
    {
     "data": {
      "text/plain": [
       "<Str: uuid: 7697e409-d2f7-4115-ab2e-63bbadf87ce6 (pk: 59122) value: /home/max/Documents/aiida-test/alamode-aiida/example/run29/Ga2N2_1x1x1_harmonic>"
      ]
     },
     "execution_count": 17,
     "metadata": {},
     "output_type": "execute_result"
    }
   ],
   "source": [
    "# ファイルを置くsubdirectory名の作成\n",
    "# ディレクトリ名 cwd=formula_supercell_harmonic\n",
    "# ディレクトリがなければ作成する。\n",
    "g_almprefix = \"_\".join([g_primstructure.get_formula(), \"x\".join(\n",
    "    map(str, g_diag.get_array(\"diag\"))), g_prefix.value])\n",
    "g_almprefix = Str(g_almprefix)\n",
    "g_cwd = Str(os.path.join(g_root_wd.value, g_almprefix.value))\n",
    "g_cwd = nodebank.load_or_dump(\"cwd\", g_cwd)\n",
    "os.makedirs(g_cwd.value, exist_ok=True)\n",
    "g_cwd"
   ]
  },
  {
   "cell_type": "code",
   "execution_count": 18,
   "id": "d1e95c37",
   "metadata": {},
   "outputs": [
    {
     "data": {
      "text/plain": [
       "<Str: uuid: 515c8f86-755c-4a1a-a70f-4c994ab22bbd (pk: 59123) value: Ga2N2_1x1x1_harmonic>"
      ]
     },
     "execution_count": 18,
     "metadata": {},
     "output_type": "execute_result"
    }
   ],
   "source": [
    "nodebank.dump(f\"{g_prefix.value}_almprefix\", g_almprefix)"
   ]
  },
  {
   "cell_type": "code",
   "execution_count": 19,
   "id": "903e2e69",
   "metadata": {},
   "outputs": [
    {
     "data": {
      "text/plain": [
       "(32, 3)"
      ]
     },
     "execution_count": 19,
     "metadata": {},
     "output_type": "execute_result"
    }
   ],
   "source": [
    "g_superstructure.get_ase().get_scaled_positions().shape"
   ]
  },
  {
   "cell_type": "code",
   "execution_count": null,
   "id": "c5d54f81",
   "metadata": {},
   "outputs": [],
   "source": []
  }
 ],
 "metadata": {
  "kernelspec": {
   "display_name": "py39",
   "language": "python",
   "name": "py39"
  },
  "language_info": {
   "codemirror_mode": {
    "name": "ipython",
    "version": 3
   },
   "file_extension": ".py",
   "mimetype": "text/x-python",
   "name": "python",
   "nbconvert_exporter": "python",
   "pygments_lexer": "ipython3",
   "version": "3.9.13"
  }
 },
 "nbformat": 4,
 "nbformat_minor": 5
}
