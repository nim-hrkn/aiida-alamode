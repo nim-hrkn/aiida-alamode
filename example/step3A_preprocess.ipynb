{
 "cells": [
  {
   "cell_type": "code",
   "execution_count": 1,
   "id": "0f71304d",
   "metadata": {},
   "outputs": [
    {
     "data": {
      "text/plain": [
       "<aiida.manage.configuration.profile.Profile at 0x7fc878564a10>"
      ]
     },
     "execution_count": 1,
     "metadata": {},
     "output_type": "execute_result"
    }
   ],
   "source": [
    "import aiida\n",
    "\n",
    "# must execute it in the first place\n",
    "aiida.load_profile()\n"
   ]
  },
  {
   "cell_type": "code",
   "execution_count": 2,
   "id": "6ae40dab",
   "metadata": {},
   "outputs": [],
   "source": [
    "from aiida.orm import Code\n",
    "from aiida.orm import Str, Int, Dict, List, Float\n",
    "from aiida.engine import calcfunction, WorkChain, ToContext, append_\n",
    "from aiida.plugins import DataFactory, WorkflowFactory\n",
    "from itertools import cycle\n",
    "import os\n",
    "\n",
    "from aiida.engine import calcfunction, workfunction, submit, run\n",
    "from aiida.orm import load_code, load_node\n",
    "from tools import wait_for_node_finished\n"
   ]
  },
  {
   "cell_type": "code",
   "execution_count": 3,
   "id": "7baa2bd1",
   "metadata": {},
   "outputs": [
    {
     "data": {
      "text/plain": [
       "<Code: Remote code 'alamode.alm_suggest' on localhost, pk: 2326, uuid: 32253ce4-318f-4c70-b09d-977a5307c78b>"
      ]
     },
     "execution_count": 3,
     "metadata": {},
     "output_type": "execute_result"
    }
   ],
   "source": [
    "# codeの定義を行う。\n",
    "from tools.aiida_support import get_or_create_local_computer, get_or_create_code\n",
    "from os.path import expanduser\n",
    "import os\n",
    "home = expanduser(\"~\")\n",
    "work_directory = os.path.join(home, 'aiida')\n",
    "computer_local = get_or_create_local_computer(work_directory, 'localhost')\n",
    "code = get_or_create_code('alamode.alm_suggest',\n",
    "                          computer_local,\n",
    "                          '/home/max/Documents/alamode/bin/alm')\n",
    "code_alm_sugget = code\n",
    "\n",
    "code_alm_sugget\n"
   ]
  },
  {
   "cell_type": "code",
   "execution_count": 4,
   "id": "d8c5c6f0",
   "metadata": {},
   "outputs": [
    {
     "name": "stdout",
     "output_type": "stream",
     "text": [
      "{'CWD': 'run35'}\n"
     ]
    },
    {
     "data": {
      "text/plain": [
       "'/home/max/Documents/aiida-alamode_public/example/run35'"
      ]
     },
     "execution_count": 4,
     "metadata": {},
     "output_type": "execute_result"
    }
   ],
   "source": [
    "import json\n",
    "with open(\"setting.json\") as f:\n",
    "    _dic = json.load(f)\n",
    "print(_dic)\n",
    "CWD = _dic[\"CWD\"]\n",
    "_path = os.path.abspath(CWD)\n",
    "os.makedirs(_path, exist_ok=True)\n",
    "_path\n"
   ]
  },
  {
   "cell_type": "code",
   "execution_count": 5,
   "id": "abbcf1f9",
   "metadata": {},
   "outputs": [],
   "source": [
    "from os.path import expanduser\n",
    "from tools import NodeBank\n",
    "\n",
    "\n",
    "# 再実行時に作成したノードを用いるためにnodebankを使う。\n",
    "g_force = False\n",
    "nodebank = NodeBank(_path, force=g_force)\n"
   ]
  },
  {
   "cell_type": "code",
   "execution_count": 6,
   "id": "7d32dd88",
   "metadata": {},
   "outputs": [
    {
     "data": {
      "text/plain": [
       "(<Int: uuid: 79b9b510-e505-4397-8faf-21ded8dac26f (pk: 3693) value: 2>,\n",
       " <Str: uuid: 365abe8c-3a31-4aa7-b7cf-5da1f911303b (pk: 3694) value: cubic>)"
      ]
     },
     "execution_count": 6,
     "metadata": {},
     "output_type": "execute_result"
    }
   ],
   "source": [
    "\n",
    "g_superstructure = nodebank.load(\"superstructure\")  # 長周期安定構造\n",
    "\n",
    "g_norder = nodebank.dump('cubic_norder', Int(2))  # cubic term\n",
    "g_prefix = nodebank.dump('cubic_prefix', Str(\"cubic\"))  # cubic term prefix\n",
    "g_norder, g_prefix\n"
   ]
  },
  {
   "cell_type": "code",
   "execution_count": 7,
   "id": "49908de0",
   "metadata": {},
   "outputs": [
    {
     "name": "stdout",
     "output_type": "stream",
     "text": [
      "debug, node uuid: f7c13dfc-c9f9-4844-9386-8e9824af86fa (unstored)\n",
      "debug, load None\n",
      "debug, force dump\n"
     ]
    },
    {
     "data": {
      "text/plain": [
       "<Dict: uuid: f7c13dfc-c9f9-4844-9386-8e9824af86fa (pk: 3695)>"
      ]
     },
     "execution_count": 7,
     "metadata": {},
     "output_type": "execute_result"
    }
   ],
   "source": [
    "g_cutoff = Dict(dict={\"*-*\": {None, 7.3}})  # cubic term cutoff 定義\n",
    "\n",
    "g_cutoff = nodebank.load_or_dump(\"cutoff2\", g_cutoff)\n",
    "g_cutoff\n"
   ]
  },
  {
   "cell_type": "code",
   "execution_count": 8,
   "id": "3013b75f",
   "metadata": {},
   "outputs": [
    {
     "name": "stdout",
     "output_type": "stream",
     "text": [
      "Si8_2x0x0x0x2x0x0x0x2_cubic\n"
     ]
    },
    {
     "data": {
      "text/plain": [
       "<Str: uuid: 04e3c012-4fac-4bf1-8afe-a891ed529de3 (unstored) value: Si8_2x0x0x0x2x0x0x0x2_cubic>"
      ]
     },
     "execution_count": 8,
     "metadata": {},
     "output_type": "execute_result"
    }
   ],
   "source": [
    "g_standardizedstructure = nodebank.load(\"standardizedstructure\")\n",
    "\n",
    "g_diag = nodebank.load(\"factor\")  # 長周期\n",
    "g_almprefix = \"_\".join([g_standardizedstructure.get_formula(),\n",
    "                        \"x\".join(map(str, g_diag.get_array(\"factor\").reshape(-1))),\n",
    "                        g_prefix.value,\n",
    "                        ])\n",
    "print(g_almprefix)\n",
    "\n",
    "g_wd_dos = Str(g_almprefix)\n",
    "g_wd_dos\n"
   ]
  },
  {
   "cell_type": "code",
   "execution_count": 9,
   "id": "1a5200b2",
   "metadata": {},
   "outputs": [
    {
     "name": "stdout",
     "output_type": "stream",
     "text": [
      "uuid: edaf2272-df44-4202-816b-4e3d50f91415 (unstored) value: /home/max/Documents/aiida-alamode_public/example/run35/Si8_2x0x0x0x2x0x0x0x2_cubic\n"
     ]
    }
   ],
   "source": [
    "g_root_wd = nodebank.load('root_wd')  # root directory\n",
    "g_root_wd\n",
    "g_cwd = Str(os.path.join(g_root_wd.value, g_wd_dos.value))\n",
    "print(g_cwd)\n",
    "g_cwd = nodebank.dump(f'{g_prefix.value}_cwd', g_cwd)  # cubic termの結果を置くsubdirectory\n",
    "os.makedirs(g_cwd.value, exist_ok=True)\n"
   ]
  },
  {
   "cell_type": "code",
   "execution_count": 10,
   "id": "d520cca9",
   "metadata": {},
   "outputs": [
    {
     "name": "stdout",
     "output_type": "stream",
     "text": [
      "None\n",
      "uuid: 31511078-cb21-4d32-a959-6eea4a158cd6 (pk: 3700) (aiida.calculations:alamode.alm_suggest)\n",
      "wait another 5 sec.\n",
      "wait another 5 sec.\n",
      "wait another 5 sec.\n",
      "True True\n",
      "0:00:15.319097\n"
     ]
    }
   ],
   "source": [
    "\n",
    "code = code_alm_sugget\n",
    "\n",
    "builder = code.get_builder()\n",
    "builder.structure = g_superstructure  # 長周期構造\n",
    "builder.prefix = g_prefix  # 名前付け\n",
    "builder.cwd = Str(os.path.join(g_cwd.value, f\"{g_prefix.value}_alm_suggest\"))  # 　保存directory\n",
    "builder.norder = g_norder\n",
    "builder.cutoff = g_cutoff\n",
    "\n",
    "builder.metadata = {\n",
    "    'options': {\n",
    "        'resources': {'tot_num_mpiprocs': 1, 'num_machines': 1},\n",
    "        'input_filename': \"alm_suggest_cubic.in\",\n",
    "        'output_filename': \"alm_suggest_cubic.out\",\n",
    "    }}\n",
    "\n",
    "key = f\"{g_prefix.value}_alm_suggest\"\n",
    "\n",
    "g_alm_suggest_future = nodebank.load_code_or_wait_for_node(key, builder, sec=5)\n"
   ]
  },
  {
   "cell_type": "code",
   "execution_count": 11,
   "id": "c68f52ad",
   "metadata": {},
   "outputs": [
    {
     "data": {
      "text/plain": [
       "<Dict: uuid: f5fc5d7d-06d3-4500-aa1e-7684cc5b2164 (pk: 3703)>"
      ]
     },
     "execution_count": 11,
     "metadata": {},
     "output_type": "execute_result"
    }
   ],
   "source": [
    "nodebank.dump(f\"{g_prefix.value}_suggest_pattern\", g_alm_suggest_future.outputs.pattern)\n",
    "nodebank.dump(f\"{g_prefix.value}_pattern\",\n",
    "              g_alm_suggest_future.outputs.pattern)\n",
    "nodebank.dump(f\"{g_prefix.value}_suggest_result\", g_alm_suggest_future.outputs.results)\n"
   ]
  },
  {
   "cell_type": "code",
   "execution_count": null,
   "id": "9c651a9d",
   "metadata": {},
   "outputs": [],
   "source": [
    "\n"
   ]
  },
  {
   "cell_type": "code",
   "execution_count": null,
   "id": "b38ddfd7",
   "metadata": {},
   "outputs": [],
   "source": []
  },
  {
   "cell_type": "code",
   "execution_count": null,
   "id": "40d20d4a",
   "metadata": {},
   "outputs": [],
   "source": []
  },
  {
   "cell_type": "code",
   "execution_count": null,
   "id": "31375bfb",
   "metadata": {},
   "outputs": [],
   "source": []
  },
  {
   "cell_type": "code",
   "execution_count": null,
   "id": "a17d8a6c",
   "metadata": {},
   "outputs": [],
   "source": []
  },
  {
   "cell_type": "code",
   "execution_count": null,
   "id": "21704639",
   "metadata": {},
   "outputs": [],
   "source": []
  },
  {
   "cell_type": "code",
   "execution_count": null,
   "id": "61040419",
   "metadata": {},
   "outputs": [],
   "source": []
  }
 ],
 "metadata": {
  "kernelspec": {
   "display_name": "py39",
   "language": "python",
   "name": "py39"
  },
  "language_info": {
   "codemirror_mode": {
    "name": "ipython",
    "version": 3
   },
   "file_extension": ".py",
   "mimetype": "text/x-python",
   "name": "python",
   "nbconvert_exporter": "python",
   "pygments_lexer": "ipython3",
   "version": "3.7.15"
  }
 },
 "nbformat": 4,
 "nbformat_minor": 5
}
