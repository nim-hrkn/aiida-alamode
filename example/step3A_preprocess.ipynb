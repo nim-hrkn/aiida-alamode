{
 "cells": [
  {
   "cell_type": "code",
   "execution_count": 1,
   "id": "0f71304d",
   "metadata": {},
   "outputs": [
    {
     "data": {
      "text/plain": [
       "<aiida.manage.configuration.profile.Profile at 0x7f98d014c070>"
      ]
     },
     "execution_count": 1,
     "metadata": {},
     "output_type": "execute_result"
    }
   ],
   "source": [
    "import aiida\n",
    "\n",
    "# must execute it in the first place\n",
    "aiida.load_profile()\n"
   ]
  },
  {
   "cell_type": "code",
   "execution_count": 2,
   "id": "6ae40dab",
   "metadata": {},
   "outputs": [],
   "source": [
    "from aiida.orm import Code\n",
    "from aiida.orm import Str, Int, Dict, List, Float\n",
    "from aiida.engine import calcfunction, WorkChain, ToContext, append_\n",
    "from aiida.plugins import DataFactory, WorkflowFactory\n",
    "from itertools import cycle\n",
    "import os\n",
    "\n",
    "from aiida.engine import calcfunction, workfunction, submit, run\n",
    "from aiida.orm import load_code, load_node\n",
    "from tools import wait_for_node_finished\n"
   ]
  },
  {
   "cell_type": "code",
   "execution_count": 3,
   "id": "7baa2bd1",
   "metadata": {},
   "outputs": [
    {
     "data": {
      "text/plain": [
       "<Code: Remote code 'alamode.alm_suggest' on localhost, pk: 59092, uuid: 8a33eb3c-cb85-476d-b4ec-fba4fbdbd5cc>"
      ]
     },
     "execution_count": 3,
     "metadata": {},
     "output_type": "execute_result"
    }
   ],
   "source": [
    "# codeの定義を行う。\n",
    "from tools.aiida_support import get_or_create_local_computer, get_or_create_code\n",
    "from os.path import expanduser\n",
    "import os\n",
    "home = expanduser(\"~\")\n",
    "work_directory = os.path.join(home, 'aiida')\n",
    "computer_local = get_or_create_local_computer(work_directory, 'localhost')\n",
    "code = get_or_create_code('alamode.alm_suggest',\n",
    "                          computer_local,\n",
    "                          '/home/max/Documents/alamode/bin/alm')\n",
    "code_alm_sugget = code\n",
    "\n",
    "code_alm_sugget\n"
   ]
  },
  {
   "cell_type": "code",
   "execution_count": 4,
   "id": "d8c5c6f0",
   "metadata": {},
   "outputs": [
    {
     "name": "stdout",
     "output_type": "stream",
     "text": [
      "{'CWD': 'run29'}\n"
     ]
    },
    {
     "data": {
      "text/plain": [
       "'/home/max/Documents/aiida-test/alamode-aiida/example/run29'"
      ]
     },
     "execution_count": 4,
     "metadata": {},
     "output_type": "execute_result"
    }
   ],
   "source": [
    "import json\n",
    "with open(\"setting.json\") as f:\n",
    "    _dic = json.load(f)\n",
    "print(_dic)\n",
    "CWD = _dic[\"CWD\"]\n",
    "_path = os.path.abspath(CWD)\n",
    "os.makedirs(_path, exist_ok=True)\n",
    "_path\n"
   ]
  },
  {
   "cell_type": "code",
   "execution_count": 5,
   "id": "abbcf1f9",
   "metadata": {},
   "outputs": [],
   "source": [
    "from os.path import expanduser\n",
    "from tools import NodeBank\n",
    "\n",
    "\n",
    "# 再実行時に作成したノードを用いるためにnodebankを使う。\n",
    "g_force = False\n",
    "nodebank = NodeBank(_path, force=g_force)\n"
   ]
  },
  {
   "cell_type": "code",
   "execution_count": 6,
   "id": "7d32dd88",
   "metadata": {},
   "outputs": [
    {
     "data": {
      "text/plain": [
       "(<Int: uuid: 024283bc-0bab-4a13-be6c-06e64a7c70dc (pk: 59328) value: 2>,\n",
       " <Str: uuid: c712e126-400d-4846-9bbf-772c331c7f2b (pk: 59329) value: cubic>)"
      ]
     },
     "execution_count": 6,
     "metadata": {},
     "output_type": "execute_result"
    }
   ],
   "source": [
    "# g_dispfile_folder = nodebank.load(\"dispfile_folder\")\n",
    "# g_displace_result = nodebank.load(\"displace_result\")\n",
    "g_superstructure = nodebank.load(\"superstructure\")  # 長周期安定構造\n",
    "\n",
    "g_norder = nodebank.dump('cubic_norder', Int(2))  # cubic term\n",
    "g_prefix = nodebank.dump('cubic_prefix', Str(\"cubic\"))  # cubic term prefix\n",
    "g_norder, g_prefix\n"
   ]
  },
  {
   "cell_type": "code",
   "execution_count": 7,
   "id": "49908de0",
   "metadata": {},
   "outputs": [
    {
     "name": "stdout",
     "output_type": "stream",
     "text": [
      "debug, node uuid: d79dd6c7-ed96-4fc2-8664-290dc12a838d (unstored)\n",
      "debug, load None\n",
      "debug, force dump\n"
     ]
    },
    {
     "data": {
      "text/plain": [
       "<Dict: uuid: d79dd6c7-ed96-4fc2-8664-290dc12a838d (pk: 59330)>"
      ]
     },
     "execution_count": 7,
     "metadata": {},
     "output_type": "execute_result"
    }
   ],
   "source": [
    "g_cutoff = Dict(dict={\"Si-Si\": {None, 7.3}})  # cubic term cutoff 定義\n",
    "\n",
    "g_cutoff = nodebank.load_or_dump(\"cutoff2\", g_cutoff)\n",
    "g_cutoff\n"
   ]
  },
  {
   "cell_type": "code",
   "execution_count": 8,
   "id": "3013b75f",
   "metadata": {},
   "outputs": [
    {
     "name": "stdout",
     "output_type": "stream",
     "text": [
      "Ga2N2_1x1x1_cubic\n"
     ]
    },
    {
     "data": {
      "text/plain": [
       "<Str: uuid: 207148c5-b368-4806-b3b9-da3b911f9432 (unstored) value: Ga2N2_1x1x1_cubic>"
      ]
     },
     "execution_count": 8,
     "metadata": {},
     "output_type": "execute_result"
    }
   ],
   "source": [
    "g_primstructure = nodebank.load(\"primstructure\")  # primitive cell\n",
    "g_diag = nodebank.load(\"diag\")  # 長周期\n",
    "g_almprefix = \"_\".join([g_primstructure.get_formula(),\n",
    "                        \"x\".join(map(str, g_diag.get_array(\"diag\"))),\n",
    "                        g_prefix.value,\n",
    "                        ])\n",
    "print(g_almprefix)\n",
    "\n",
    "g_wd_dos = Str(g_almprefix)\n",
    "g_wd_dos\n"
   ]
  },
  {
   "cell_type": "code",
   "execution_count": 9,
   "id": "1a5200b2",
   "metadata": {},
   "outputs": [
    {
     "name": "stdout",
     "output_type": "stream",
     "text": [
      "uuid: 7311e76c-dddc-474a-88ac-81014ccec5cb (unstored) value: /home/max/Documents/aiida-test/alamode-aiida/example/run29/Ga2N2_1x1x1_cubic\n"
     ]
    }
   ],
   "source": [
    "g_root_wd = nodebank.load('root_wd')  # root directory\n",
    "g_root_wd\n",
    "g_cwd = Str(os.path.join(g_root_wd.value, g_wd_dos.value))\n",
    "print(g_cwd)\n",
    "g_cwd = nodebank.dump(f'{g_prefix.value}_cwd', g_cwd)  # cubic termの結果を置くsubdirectory\n",
    "os.makedirs(g_cwd.value, exist_ok=True)\n"
   ]
  },
  {
   "cell_type": "code",
   "execution_count": 10,
   "id": "d520cca9",
   "metadata": {},
   "outputs": [
    {
     "name": "stdout",
     "output_type": "stream",
     "text": [
      "uuid: c40c1f46-9c1b-44da-87c2-14ffa7f6d1fd (pk: 59334) (aiida.calculations:alamode.alm_suggest)\n",
      "wait another 5 sec.\n",
      "wait another 5 sec.\n",
      "wait another 5 sec.\n",
      "wait another 5 sec.\n",
      "wait another 5 sec.\n",
      "wait another 5 sec.\n",
      "wait another 5 sec.\n",
      "wait another 5 sec.\n",
      "wait another 5 sec.\n",
      "wait another 5 sec.\n",
      "wait another 5 sec.\n",
      "wait another 5 sec.\n",
      "wait another 5 sec.\n",
      "wait another 5 sec.\n",
      "wait another 5 sec.\n",
      "wait another 5 sec.\n",
      "wait another 5 sec.\n",
      "wait another 5 sec.\n",
      "wait another 5 sec.\n",
      "wait another 5 sec.\n",
      "wait another 5 sec.\n",
      "wait another 5 sec.\n",
      "wait another 5 sec.\n",
      "wait another 5 sec.\n",
      "wait another 5 sec.\n",
      "True True\n"
     ]
    }
   ],
   "source": [
    "#codename = \"alm_suggest@tutor\"\n",
    "#code = Code.get_from_string(codename)\n",
    "code = code_alm_sugget\n",
    "\n",
    "builder = code.get_builder()\n",
    "builder.structure = g_superstructure  # 長周期構造\n",
    "builder.prefix = g_prefix  # 名前付け\n",
    "# builder.mode = Str(\"suggest\")\n",
    "builder.cwd = g_cwd  # 　保存directory\n",
    "builder.norder = g_norder\n",
    "builder.cutoff = g_cutoff\n",
    "\n",
    "builder.metadata = {\n",
    "    'options': {\n",
    "        'resources': {'tot_num_mpiprocs': 1, 'num_machines': 1},\n",
    "        'input_filename': \"alm_suggest_cubic.in\",\n",
    "        'output_filename': \"alm_suggest_cubic.out\",\n",
    "    }}\n",
    "\n",
    "key = f\"{g_prefix.value}_alm_suggest\"\n",
    "\n",
    "g_alm_suggest_future = nodebank.load(key, g_force)\n",
    "if g_alm_suggest_future is None:\n",
    "    # if True:\n",
    "    g_alm_suggest_future = submit(builder)  # temporary run(), use submit()\n",
    "    print(g_alm_suggest_future)\n",
    "    wait_for_node_finished(g_alm_suggest_future, 5)\n",
    "    if g_alm_suggest_future.is_finished_ok:\n",
    "        nodebank.dump(key, g_alm_suggest_future)\n"
   ]
  },
  {
   "cell_type": "code",
   "execution_count": 11,
   "id": "a4d2bb3a",
   "metadata": {},
   "outputs": [
    {
     "data": {
      "text/plain": [
       "['cubic.pattern_ANHARM3', 'cubic.pattern_HARMONIC']"
      ]
     },
     "execution_count": 11,
     "metadata": {},
     "output_type": "execute_result"
    }
   ],
   "source": [
    "g_alm_suggest_future.outputs.pattern_folder.list_object_names()\n"
   ]
  },
  {
   "cell_type": "code",
   "execution_count": 12,
   "id": "b38ddfd7",
   "metadata": {},
   "outputs": [
    {
     "data": {
      "text/plain": [
       "{'ANHARM3': 'cubic.pattern_ANHARM3', 'HARMONIC': 'cubic.pattern_HARMONIC'}"
      ]
     },
     "execution_count": 12,
     "metadata": {},
     "output_type": "execute_result"
    }
   ],
   "source": [
    "g_alm_suggest_future.outputs.results[\"disp_pattern\"]\n"
   ]
  },
  {
   "cell_type": "code",
   "execution_count": 13,
   "id": "40d20d4a",
   "metadata": {},
   "outputs": [
    {
     "data": {
      "text/plain": [
       "{'pattern_files': ['cubic.pattern_ANHARM3']}"
      ]
     },
     "execution_count": 13,
     "metadata": {},
     "output_type": "execute_result"
    }
   ],
   "source": [
    "g_cubic_pattern_files = g_alm_suggest_future.outputs.results[\"disp_pattern\"][\"ANHARM3\"]\n",
    "g_cubic_pattern_files = {'pattern_files': [g_cubic_pattern_files]}\n",
    "g_cubic_pattern_files\n"
   ]
  },
  {
   "cell_type": "code",
   "execution_count": 14,
   "id": "31375bfb",
   "metadata": {},
   "outputs": [
    {
     "data": {
      "text/plain": [
       "<Dict: uuid: 4b9ec204-316a-4755-9dce-2d7691df4ee9 (pk: 59337)>"
      ]
     },
     "execution_count": 14,
     "metadata": {},
     "output_type": "execute_result"
    }
   ],
   "source": [
    "nodebank.dump(f\"{g_prefix.value}_suggest_result\", g_alm_suggest_future.outputs.results)\n"
   ]
  },
  {
   "cell_type": "code",
   "execution_count": 15,
   "id": "a17d8a6c",
   "metadata": {},
   "outputs": [
    {
     "data": {
      "text/plain": [
       "<FolderData: uuid: 843821a8-1924-41dd-a4f1-1d2af54e7843 (pk: 59338)>"
      ]
     },
     "execution_count": 15,
     "metadata": {},
     "output_type": "execute_result"
    }
   ],
   "source": [
    "nodebank.dump(f'{g_prefix.value}_suggest_pattern_folder',\n",
    "              g_alm_suggest_future.outputs.pattern_folder)\n"
   ]
  },
  {
   "cell_type": "code",
   "execution_count": 16,
   "id": "21704639",
   "metadata": {},
   "outputs": [
    {
     "data": {
      "text/plain": [
       "{'num_disp': {'ANHARM3': '610', 'HARMONIC': '10'},\n",
       " 'disp_pattern': {'ANHARM3': 'cubic.pattern_ANHARM3',\n",
       "  'HARMONIC': 'cubic.pattern_HARMONIC'},\n",
       " 'num_free_fcs,': {'ANHARM3': 1678, 'HARMONIC': 66}}"
      ]
     },
     "execution_count": 16,
     "metadata": {},
     "output_type": "execute_result"
    }
   ],
   "source": [
    "g_alm_suggest_future.outputs.results.attributes"
   ]
  },
  {
   "cell_type": "code",
   "execution_count": null,
   "id": "61040419",
   "metadata": {},
   "outputs": [],
   "source": []
  }
 ],
 "metadata": {
  "kernelspec": {
   "display_name": "py39",
   "language": "python",
   "name": "py39"
  },
  "language_info": {
   "codemirror_mode": {
    "name": "ipython",
    "version": 3
   },
   "file_extension": ".py",
   "mimetype": "text/x-python",
   "name": "python",
   "nbconvert_exporter": "python",
   "pygments_lexer": "ipython3",
   "version": "3.9.13"
  }
 },
 "nbformat": 4,
 "nbformat_minor": 5
}
