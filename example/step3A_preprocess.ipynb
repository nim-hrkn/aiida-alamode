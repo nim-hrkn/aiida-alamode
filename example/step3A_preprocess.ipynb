{
 "cells": [
  {
   "cell_type": "code",
   "execution_count": null,
   "id": "0f71304d",
   "metadata": {},
   "outputs": [],
   "source": [
    "import aiida\n",
    "\n",
    "# must execute it in the first place\n",
    "aiida.load_profile()\n"
   ]
  },
  {
   "cell_type": "code",
   "execution_count": null,
   "id": "6ae40dab",
   "metadata": {},
   "outputs": [],
   "source": [
    "from aiida.orm import Code\n",
    "from aiida.orm import Str, Int, Dict, List, Float\n",
    "from aiida.engine import calcfunction, WorkChain, ToContext, append_\n",
    "from aiida.plugins import DataFactory, WorkflowFactory\n",
    "from itertools import cycle\n",
    "import os\n",
    "\n",
    "from aiida.engine import calcfunction, workfunction, submit, run\n",
    "from aiida.orm import load_code, load_node\n",
    "from tools import wait_for_node_finished\n"
   ]
  },
  {
   "cell_type": "code",
   "execution_count": null,
   "id": "7baa2bd1",
   "metadata": {},
   "outputs": [],
   "source": [
    "# codeの定義を行う。\n",
    "from tools.aiida_support import get_or_create_local_computer, get_or_create_code\n",
    "from os.path import expanduser\n",
    "import os\n",
    "home = expanduser(\"~\")\n",
    "work_directory = os.path.join(home, 'aiida')\n",
    "computer_local = get_or_create_local_computer(work_directory, 'localhost')\n",
    "code = get_or_create_code('alamode.alm_suggest',\n",
    "                          computer_local,\n",
    "                          '/home/max/Documents/alamode/bin/alm')\n",
    "code_alm_sugget = code\n",
    "\n",
    "code_alm_sugget\n"
   ]
  },
  {
   "cell_type": "code",
   "execution_count": null,
   "id": "d8c5c6f0",
   "metadata": {},
   "outputs": [],
   "source": [
    "import json\n",
    "with open(\"setting.json\") as f:\n",
    "    _dic = json.load(f)\n",
    "print(_dic)\n",
    "CWD = _dic[\"CWD\"]\n",
    "_path = os.path.abspath(CWD)\n",
    "os.makedirs(_path, exist_ok=True)\n",
    "_path\n"
   ]
  },
  {
   "cell_type": "code",
   "execution_count": null,
   "id": "abbcf1f9",
   "metadata": {},
   "outputs": [],
   "source": [
    "from os.path import expanduser\n",
    "from tools import NodeBank\n",
    "\n",
    "\n",
    "# 再実行時に作成したノードを用いるためにnodebankを使う。\n",
    "g_force = False\n",
    "nodebank = NodeBank(_path, force=g_force)\n"
   ]
  },
  {
   "cell_type": "code",
   "execution_count": null,
   "id": "7d32dd88",
   "metadata": {},
   "outputs": [],
   "source": [
    "# g_dispfile_folder = nodebank.load(\"dispfile_folder\")\n",
    "# g_displace_result = nodebank.load(\"displace_result\")\n",
    "g_superstructure = nodebank.load(\"superstructure\")  # 長周期安定構造\n",
    "\n",
    "g_norder = nodebank.dump('cubic_norder', Int(2))  # cubic term\n",
    "g_prefix = nodebank.dump('cubic_prefix', Str(\"cubic\"))  # cubic term prefix\n",
    "g_norder, g_prefix\n"
   ]
  },
  {
   "cell_type": "code",
   "execution_count": null,
   "id": "49908de0",
   "metadata": {},
   "outputs": [],
   "source": [
    "g_cutoff = Dict(dict={\"*-*\": {None, 7.3}})  # cubic term cutoff 定義\n",
    "\n",
    "g_cutoff = nodebank.load_or_dump(\"cutoff2\", g_cutoff)\n",
    "g_cutoff\n"
   ]
  },
  {
   "cell_type": "code",
   "execution_count": null,
   "id": "3013b75f",
   "metadata": {},
   "outputs": [],
   "source": [
    "g_primstructure = nodebank.load(\"primstructure\")  # primitive cell\n",
    "g_diag = nodebank.load(\"factor\")  # 長周期\n",
    "g_almprefix = \"_\".join([g_primstructure.get_formula(),\n",
    "                        \"x\".join(map(str, g_diag.get_array(\"factor\").reshape(-1))),\n",
    "                        g_prefix.value,\n",
    "                        ])\n",
    "print(g_almprefix)\n",
    "\n",
    "g_wd_dos = Str(g_almprefix)\n",
    "g_wd_dos\n"
   ]
  },
  {
   "cell_type": "code",
   "execution_count": null,
   "id": "1a5200b2",
   "metadata": {},
   "outputs": [],
   "source": [
    "g_root_wd = nodebank.load('root_wd')  # root directory\n",
    "g_root_wd\n",
    "g_cwd = Str(os.path.join(g_root_wd.value, g_wd_dos.value))\n",
    "print(g_cwd)\n",
    "g_cwd = nodebank.dump(f'{g_prefix.value}_cwd', g_cwd)  # cubic termの結果を置くsubdirectory\n",
    "os.makedirs(g_cwd.value, exist_ok=True)\n"
   ]
  },
  {
   "cell_type": "code",
   "execution_count": null,
   "id": "d520cca9",
   "metadata": {},
   "outputs": [],
   "source": [
    "#codename = \"alm_suggest@tutor\"\n",
    "#code = Code.get_from_string(codename)\n",
    "code = code_alm_sugget\n",
    "\n",
    "builder = code.get_builder()\n",
    "builder.structure = g_superstructure  # 長周期構造\n",
    "builder.prefix = g_prefix  # 名前付け\n",
    "# builder.mode = Str(\"suggest\")\n",
    "builder.cwd = Str(os.path.join(g_cwd.value, f\"{g_prefix.value}_alm_suggest\"))  # 　保存directory\n",
    "builder.norder = g_norder\n",
    "builder.cutoff = g_cutoff\n",
    "\n",
    "builder.metadata = {\n",
    "    'options': {\n",
    "        'resources': {'tot_num_mpiprocs': 1, 'num_machines': 1},\n",
    "        'input_filename': \"alm_suggest_cubic.in\",\n",
    "        'output_filename': \"alm_suggest_cubic.out\",\n",
    "    }}\n",
    "\n",
    "key = f\"{g_prefix.value}_alm_suggest\"\n",
    "\n",
    "g_alm_suggest_future = nodebank.load(key, raise_error=False)\n",
    "if g_alm_suggest_future is None:\n",
    "    # if True:\n",
    "    g_alm_suggest_future = submit(builder)  # temporary run(), use submit()\n",
    "    print(g_alm_suggest_future)\n",
    "    wait_for_node_finished(g_alm_suggest_future, 5)\n",
    "    if g_alm_suggest_future.is_finished_ok:\n",
    "        nodebank.dump(key, g_alm_suggest_future)\n"
   ]
  },
  {
   "cell_type": "code",
   "execution_count": null,
   "id": "c68f52ad",
   "metadata": {},
   "outputs": [],
   "source": [
    "nodebank.dump(\"{g_prefix.value}_suggest_pattern\", g_alm_suggest_future.outputs.pattern)\n"
   ]
  },
  {
   "cell_type": "code",
   "execution_count": null,
   "id": "9c651a9d",
   "metadata": {},
   "outputs": [],
   "source": [
    "nodebank.dump(f\"{g_prefix.value}_pattern\",\n",
    "              g_alm_suggest_future.outputs.pattern)"
   ]
  },
  {
   "cell_type": "code",
   "execution_count": null,
   "id": "b38ddfd7",
   "metadata": {},
   "outputs": [],
   "source": [
    "g_alm_suggest_future.outputs.results.attributes\n"
   ]
  },
  {
   "cell_type": "code",
   "execution_count": null,
   "id": "40d20d4a",
   "metadata": {},
   "outputs": [],
   "source": [
    "g_cubic_pattern_files = g_alm_suggest_future.outputs.results[\"disp_pattern_filenames\"][\"ANHARM3\"]\n",
    "g_cubic_pattern_files = {'pattern_files': [g_cubic_pattern_files]}\n",
    "g_cubic_pattern_files\n"
   ]
  },
  {
   "cell_type": "code",
   "execution_count": null,
   "id": "31375bfb",
   "metadata": {},
   "outputs": [],
   "source": [
    "nodebank.dump(f\"{g_prefix.value}_suggest_result\", g_alm_suggest_future.outputs.results)\n"
   ]
  },
  {
   "cell_type": "code",
   "execution_count": null,
   "id": "a17d8a6c",
   "metadata": {},
   "outputs": [],
   "source": []
  },
  {
   "cell_type": "code",
   "execution_count": null,
   "id": "21704639",
   "metadata": {},
   "outputs": [],
   "source": []
  },
  {
   "cell_type": "code",
   "execution_count": null,
   "id": "61040419",
   "metadata": {},
   "outputs": [],
   "source": []
  }
 ],
 "metadata": {
  "kernelspec": {
   "display_name": "py39",
   "language": "python",
   "name": "py39"
  },
  "language_info": {
   "codemirror_mode": {
    "name": "ipython",
    "version": 3
   },
   "file_extension": ".py",
   "mimetype": "text/x-python",
   "name": "python",
   "nbconvert_exporter": "python",
   "pygments_lexer": "ipython3",
   "version": "3.9.13"
  }
 },
 "nbformat": 4,
 "nbformat_minor": 5
}
