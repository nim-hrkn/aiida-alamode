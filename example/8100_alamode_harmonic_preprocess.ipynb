{
 "cells": [
  {
   "cell_type": "code",
   "execution_count": null,
   "id": "00af6b74",
   "metadata": {},
   "outputs": [],
   "source": [
    "import aiida\n",
    "\n",
    "# must execute it in the first place\n",
    "aiida.load_profile()\n"
   ]
  },
  {
   "cell_type": "code",
   "execution_count": null,
   "id": "8e4f6644",
   "metadata": {},
   "outputs": [],
   "source": [
    "from aiida.manage.configuration import get_profile\n",
    "\n",
    "from aiida.common.datastructures import CalcInfo, CodeInfo\n",
    "from aiida.common.folders import Folder\n",
    "\n",
    "from aiida.engine import CalcJob, WorkChain\n",
    "from aiida.engine import calcfunction, workfunction, submit, run\n",
    "\n",
    "from aiida.plugins import DataFactory, WorkflowFactory\n",
    "\n",
    "from aiida.parsers.parser import Parser\n",
    "from aiida.orm import Code\n",
    "from aiida.orm import load_code, load_node\n",
    "from aiida.orm import Str, Dict, Float, Int\n",
    "from aiida.orm import QueryBuilder\n",
    "\n",
    "import aiida\n",
    "\n",
    "from alamode_aiida.data_loader import load_anphon_kl, load_anphon_kl_spec\n",
    "from ase.io.espresso import write_espresso_in\n",
    "from ase.io.lammpsdata import read_lammps_data\n",
    "from ase.build import make_supercell\n",
    "from ase import Atom, Atoms\n",
    "import ase\n",
    "\n",
    "from itertools import combinations_with_replacement\n",
    "import numpy as np\n",
    "import os\n",
    "import subprocess\n",
    "import shutil\n",
    "import re\n",
    "from time import sleep\n",
    "import spglib\n",
    "import json\n",
    "\n",
    "from os.path import expanduser\n",
    "\n",
    "from tools import NodeBank\n",
    "from tools import wait_for_node_finished\n",
    "from tools import load_atoms\n",
    "from tools.putstructure import PutStructure\n"
   ]
  },
  {
   "cell_type": "code",
   "execution_count": null,
   "id": "1f22432e",
   "metadata": {},
   "outputs": [],
   "source": [
    "# load types\n",
    "StructureData = DataFactory('structure')\n",
    "FolderData = DataFactory('folder')\n",
    "SinglefileData = DataFactory('singlefile')\n",
    "ArrayData = DataFactory('array')\n",
    "List = DataFactory('list')\n"
   ]
  },
  {
   "cell_type": "code",
   "execution_count": null,
   "id": "61ff93cc",
   "metadata": {},
   "outputs": [],
   "source": [
    "g_graph = False\n",
    "\n",
    "with open(\"setting.json\") as f:\n",
    "    _dic = json.load(f)\n",
    "print(_dic)\n",
    "CWD = _dic[\"CWD\"]\n",
    "_path = os.path.abspath(CWD)\n",
    "os.makedirs(_path, exist_ok=True)\n",
    "_path\n"
   ]
  },
  {
   "cell_type": "code",
   "execution_count": null,
   "id": "a55d2fab",
   "metadata": {},
   "outputs": [],
   "source": [
    "# codeの定義を行う。\n",
    "from tools.aiida_support import get_or_create_local_computer, get_or_create_code\n",
    "from os.path import expanduser\n",
    "import os\n",
    "home = expanduser(\"~\")\n",
    "work_directory = os.path.join(home, 'aiida')\n",
    "computer_local = get_or_create_local_computer(work_directory, 'localhost')\n",
    "code = get_or_create_code('alamode.alm_suggest',\n",
    "                          computer_local,\n",
    "                          '/home/max/Documents/alamode/bin/alm')\n",
    "code_alm_sugget = code\n",
    "\n",
    "code_alm_sugget\n"
   ]
  },
  {
   "cell_type": "code",
   "execution_count": null,
   "id": "dce7b4d6",
   "metadata": {},
   "outputs": [],
   "source": []
  },
  {
   "cell_type": "code",
   "execution_count": null,
   "id": "11c2fb18",
   "metadata": {},
   "outputs": [],
   "source": [
    "# 再実行時に作成したノードを用いるためにnodebankを使う。\n",
    "g_force = False\n",
    "nodebank = NodeBank(_path, force=g_force)\n"
   ]
  },
  {
   "cell_type": "code",
   "execution_count": null,
   "id": "35407b8e",
   "metadata": {},
   "outputs": [],
   "source": [
    "# 計算するroot directoryの定義\n",
    "key = \"root_wd\"\n",
    "g_root_wd = nodebank.load_or_dump(key, Str(os.path.join(os.getcwd(), CWD)))\n",
    "os.makedirs(g_root_wd.value, exist_ok=True)\n",
    "g_root_wd\n"
   ]
  },
  {
   "cell_type": "code",
   "execution_count": null,
   "id": "4e8097b0",
   "metadata": {},
   "outputs": [],
   "source": [
    "# harmonic partの計算を行う。\n",
    "g_norder = nodebank.load_or_dump(\"norder\", Int(1))\n"
   ]
  },
  {
   "cell_type": "code",
   "execution_count": null,
   "id": "c1395195",
   "metadata": {},
   "outputs": [],
   "source": [
    "# 構造ファイルの取得\n",
    "# lammpsから取得する場合の例\n",
    "_path = os.path.abspath(\"lammps_input/Si222/Si222.lammps\")\n",
    "g_structure_org_filename = Str(_path)\n",
    "g_file_format = Str(\"lammps-data\")\n",
    "nodebank.dump(\"structure_org_format\", g_file_format)\n",
    "g_file_style = Str(\"atomic\")\n",
    "nodebank.dump(\"structure_org_style\", g_file_style)\n",
    "\n",
    "g_raw_structure = load_atoms(\n",
    "    g_structure_org_filename, g_file_format, g_file_style)\n",
    "g_raw_structure.get_ase()\n"
   ]
  },
  {
   "cell_type": "code",
   "execution_count": null,
   "id": "814952f8",
   "metadata": {},
   "outputs": [],
   "source": []
  },
  {
   "cell_type": "code",
   "execution_count": null,
   "id": "6fea0b7b",
   "metadata": {},
   "outputs": [],
   "source": [
    "# supercellをファイルの構造の何倍にするかの定義をする\n",
    "g_diag = ArrayData()\n",
    "g_diag.set_array('diag', np.array([1, 1, 1]))\n",
    "g_diag = nodebank.load_or_dump(\"diag\", g_diag)\n",
    "g_diag\n"
   ]
  },
  {
   "cell_type": "code",
   "execution_count": null,
   "id": "f13c477a",
   "metadata": {},
   "outputs": [],
   "source": [
    "g_file_format = Str(\"lammps-data\")\n",
    "g_primcell_filename = Str(f\"primcell.lammps\")\n",
    "g_supercell_filename = Str(f\"supercell.lammps\")\n",
    "inputs = {\"cwd\": g_root_wd, \"diag\": g_diag, \"output_format\": g_file_format,\n",
    "          \"primcell_filename\": g_primcell_filename,\n",
    "          \"supercell_filename\": g_supercell_filename,\n",
    "          \"structure\": g_raw_structure}\n",
    "g_primsuper_structures = run(PutStructure, **inputs)\n"
   ]
  },
  {
   "cell_type": "code",
   "execution_count": null,
   "id": "8220dbdb",
   "metadata": {},
   "outputs": [],
   "source": [
    "g_primsuper_structures  # outout\n"
   ]
  },
  {
   "cell_type": "code",
   "execution_count": null,
   "id": "7b518ef2",
   "metadata": {},
   "outputs": [],
   "source": [
    "# filepath\n",
    "g_primstructure_filepath = g_primsuper_structures[\"primstructure_filepath\"]\n",
    "# filepath\n",
    "g_superstructure_filepath = g_primsuper_structures[\"superstructure_filepath\"]\n"
   ]
  },
  {
   "cell_type": "code",
   "execution_count": null,
   "id": "7257c0e7",
   "metadata": {},
   "outputs": [],
   "source": [
    "g_superstructure = g_primsuper_structures[\"superstructure\"]  # StructureData\n",
    "g_primstructure = g_primsuper_structures[\"primstructure\"]  # StructureData\n"
   ]
  },
  {
   "cell_type": "code",
   "execution_count": null,
   "id": "0b6f7d80",
   "metadata": {},
   "outputs": [],
   "source": [
    "# StructureData\n",
    "g_superstructure_file = g_primsuper_structures[\"superstructure_file\"]\n"
   ]
  },
  {
   "cell_type": "code",
   "execution_count": null,
   "id": "5f8204c5",
   "metadata": {},
   "outputs": [],
   "source": [
    "if False:\n",
    "    pk = g_ciffilename.pk\n",
    "    print(pk)\n",
    "    !verdi node graph generate $pk\n"
   ]
  },
  {
   "cell_type": "code",
   "execution_count": null,
   "id": "1e2fab82",
   "metadata": {},
   "outputs": [],
   "source": [
    "nodebank.dump(\"primstructure_filepath\", g_primstructure_filepath)\n",
    "nodebank.dump(\"superstructure_filepath\", g_superstructure_filepath)\n",
    "nodebank.dump(\"superstructure_file\", g_superstructure_file)\n",
    "nodebank.dump(\"primstructure\", g_primstructure)\n",
    "nodebank.dump(\"superstructure\", g_superstructure)\n"
   ]
  },
  {
   "cell_type": "code",
   "execution_count": null,
   "id": "8b7ca346",
   "metadata": {},
   "outputs": [],
   "source": [
    "# ファイルを置くsubdirectory名の作成\n",
    "# ディレクトリ名 cwd=formula_supercell_harmonic\n",
    "# ディレクトリがなければ作成する。\n",
    "g_almprefix = \"_\".join([g_primstructure.get_formula(), \"x\".join(\n",
    "    map(str, g_diag.get_array(\"diag\"))), \"harmonic\"])\n",
    "g_almprefix = Str(g_almprefix)\n",
    "g_cwd = Str(os.path.join(g_root_wd.value, g_almprefix.value))\n",
    "g_cwd = nodebank.load_or_dump(\"cwd\", g_cwd)\n",
    "os.makedirs(g_cwd.value, exist_ok=True)\n",
    "g_cwd\n"
   ]
  },
  {
   "cell_type": "code",
   "execution_count": null,
   "id": "d1e95c37",
   "metadata": {},
   "outputs": [],
   "source": [
    "nodebank.dump(\"almprefix\", g_almprefix)\n"
   ]
  },
  {
   "cell_type": "markdown",
   "id": "fde1406a",
   "metadata": {},
   "source": [
    "## alm suggest"
   ]
  },
  {
   "cell_type": "code",
   "execution_count": null,
   "id": "f0532a0a",
   "metadata": {},
   "outputs": [],
   "source": [
    "# 一意のファイル名にするためのprefix文字列\n",
    "# norder=1なのでharmonicとする\n",
    "g_prefix = nodebank.load_or_dump(\"prefix\", Str(\"harmonic\"))\n"
   ]
  },
  {
   "cell_type": "code",
   "execution_count": null,
   "id": "775b569a",
   "metadata": {},
   "outputs": [],
   "source": [
    "code = code_alm_sugget\n",
    "\n",
    "builder = code.get_builder()\n",
    "builder.structure = g_superstructure  # 元構造\n",
    "builder.prefix = g_prefix\n",
    "builder.norder = g_norder\n",
    "# builder.mode = Str(\"suggest\")\n",
    "builder.cwd = g_cwd\n",
    "\n",
    "builder.metadata = {\n",
    "    'options': {\n",
    "        'resources': {'tot_num_mpiprocs': 1, 'num_machines': 1}\n",
    "    }}\n",
    "\n",
    "g_alm_suggest_future = nodebank.load(\"alm_suggest\", raise_error=False)\n",
    "if g_alm_suggest_future is None:\n",
    "    g_alm_suggest_future = submit(builder)  # temporary run(), use submit()\n",
    "    print(g_alm_suggest_future)\n",
    "    wait_for_node_finished(g_alm_suggest_future)\n",
    "    if g_alm_suggest_future.is_finished_ok:\n",
    "        nodebank.dump(\"alm_suggest\", g_alm_suggest_future)\n"
   ]
  },
  {
   "cell_type": "code",
   "execution_count": null,
   "id": "0c37803c",
   "metadata": {},
   "outputs": [],
   "source": [
    "g_alm_suggest_future.outputs\n"
   ]
  },
  {
   "cell_type": "code",
   "execution_count": null,
   "id": "c310874a",
   "metadata": {},
   "outputs": [],
   "source": [
    "g_alm_suggest_future.outputs.result\n"
   ]
  },
  {
   "cell_type": "code",
   "execution_count": null,
   "id": "59c825b3",
   "metadata": {},
   "outputs": [],
   "source": [
    "g_alm_suggest_future.outputs.result.attributes\n"
   ]
  },
  {
   "cell_type": "code",
   "execution_count": null,
   "id": "4005efaa",
   "metadata": {},
   "outputs": [],
   "source": [
    "g_alm_suggest_future.outputs.pattern_folder.list_object_names()\n"
   ]
  },
  {
   "cell_type": "code",
   "execution_count": null,
   "id": "f7bc5197",
   "metadata": {},
   "outputs": [],
   "source": [
    "# pattern fileリストはg_alm_suggest_future.outputs.pattern_folderに入る。\n",
    "# 次の実行ファイルで用いるために保存する。\n",
    "nodebank.dump(\"harmonic_pattern_folder\",\n",
    "              g_alm_suggest_future.outputs.pattern_folder)\n"
   ]
  },
  {
   "cell_type": "code",
   "execution_count": null,
   "id": "5844ec5a",
   "metadata": {},
   "outputs": [],
   "source": [
    "if g_graph:\n",
    "    !verdi node graph generate $g_alm_suggest_future.pk\n"
   ]
  },
  {
   "cell_type": "code",
   "execution_count": null,
   "id": "a73665ec",
   "metadata": {},
   "outputs": [],
   "source": []
  }
 ],
 "metadata": {
  "kernelspec": {
   "display_name": "py39",
   "language": "python",
   "name": "py39"
  },
  "language_info": {
   "codemirror_mode": {
    "name": "ipython",
    "version": 3
   },
   "file_extension": ".py",
   "mimetype": "text/x-python",
   "name": "python",
   "nbconvert_exporter": "python",
   "pygments_lexer": "ipython3",
   "version": "3.9.13"
  }
 },
 "nbformat": 4,
 "nbformat_minor": 5
}
