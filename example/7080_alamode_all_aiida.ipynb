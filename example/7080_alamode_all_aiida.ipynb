{
 "cells": [
  {
   "cell_type": "code",
   "execution_count": 6,
   "id": "00af6b74",
   "metadata": {},
   "outputs": [
    {
     "data": {
      "text/plain": [
       "<aiida.manage.configuration.profile.Profile at 0x7fe3a890a5d0>"
      ]
     },
     "execution_count": 6,
     "metadata": {},
     "output_type": "execute_result"
    }
   ],
   "source": [
    "import aiida\n",
    "\n",
    "# must execute it in the first place\n",
    "aiida.load_profile()"
   ]
  },
  {
   "cell_type": "code",
   "execution_count": 7,
   "id": "8e4f6644",
   "metadata": {},
   "outputs": [],
   "source": [
    "from aiida.manage.configuration import get_profile\n",
    "\n",
    "from aiida.common.datastructures import CalcInfo, CodeInfo\n",
    "from aiida.common.folders import Folder\n",
    "\n",
    "from aiida.engine import CalcJob, WorkChain\n",
    "from aiida.engine import calcfunction, workfunction, submit, run\n",
    "\n",
    "from aiida.plugins import DataFactory, WorkflowFactory\n",
    "\n",
    "from aiida.parsers.parser import Parser\n",
    "from aiida.orm import Code\n",
    "from aiida.orm import load_code,load_node\n",
    "from aiida.orm import Str, Dict, Float, Int\n",
    "from aiida.orm import QueryBuilder\n",
    "\n",
    "import aiida\n",
    "\n",
    "from alamode_aiida.data_loader import load_anphon_kl, load_anphon_kl_spec\n",
    "\n",
    "from ase.io.espresso import write_espresso_in\n",
    "from ase.build import make_supercell\n",
    "from ase import Atom, Atoms\n",
    "import ase\n",
    "\n",
    "from itertools import combinations_with_replacement\n",
    "import numpy as np\n",
    "import os\n",
    "import subprocess\n",
    "import shutil\n",
    "import re\n",
    "from time import sleep\n",
    "import spglib"
   ]
  },
  {
   "cell_type": "code",
   "execution_count": null,
   "id": "a1be164e",
   "metadata": {},
   "outputs": [],
   "source": []
  },
  {
   "cell_type": "code",
   "execution_count": 8,
   "id": "1f22432e",
   "metadata": {},
   "outputs": [],
   "source": [
    "# load types\n",
    "StructureData = DataFactory('structure')\n",
    "FolderData = DataFactory('folder')\n",
    "SinglefileData = DataFactory('singlefile')\n",
    "ArrayData = DataFactory('array')\n",
    "List = DataFactory('list')"
   ]
  },
  {
   "cell_type": "code",
   "execution_count": 9,
   "id": "61ff93cc",
   "metadata": {},
   "outputs": [],
   "source": [
    "g_graph = False"
   ]
  },
  {
   "cell_type": "code",
   "execution_count": 10,
   "id": "11c2fb18",
   "metadata": {},
   "outputs": [],
   "source": [
    "import json\n",
    "import os\n",
    "class NodeBank:\n",
    "    _KEY= \"pk\"\n",
    "    def __init__(self, parent_dir):\n",
    "        self.filename = \".node.json\"\n",
    "        self.parent_dir = parent_dir\n",
    "        self.filepath = os.path.join(self.parent_dir, self.filename)\n",
    "        \n",
    "    def load_json(self):\n",
    "        filepath = self.filepath\n",
    "        self.dic = {}\n",
    "        if os.path.isfile(filepath):\n",
    "            with open(filepath) as f:\n",
    "                self.dic = json.load(f)\n",
    "                \n",
    "    def dump_json(self):\n",
    "        filepath = self.filepath\n",
    "        with open(filepath,\"w\") as f:\n",
    "            json.dump(self.dic, f)\n",
    "                \n",
    "    def load(self, label, force=False):\n",
    "        if force:\n",
    "            return None\n",
    "        \n",
    "        self.load_json()\n",
    "        if label in self.dic:\n",
    "            if self._KEY == \"pk\":\n",
    "                pk = self.dic[label]\n",
    "                print(\"load\", label, pk)\n",
    "                return load_node(pk)\n",
    "            else:\n",
    "                uuid = self.dic[label]\n",
    "                print(\"load\", label, uuid)\n",
    "                return load_node(uuid)\n",
    "        else:\n",
    "            return None\n",
    "        \n",
    "    def dump(self, label, node):\n",
    "        if False:\n",
    "            self.load_json()\n",
    "            if label in self.dic:\n",
    "                print(\"already stored. do nothing.\")\n",
    "                return \n",
    "        \n",
    "        node.store()\n",
    "        self.load_json()\n",
    "        if self._KEY== \"pk\":\n",
    "            self.dic[label] = node.pk\n",
    "            print(\"save\",label, node.pk)\n",
    "            self.dump_json()\n",
    "        else:\n",
    "            self.dic[label] = node.uuid\n",
    "            print(\"save\",label, node.uuid)\n",
    "            self.dump_json()"
   ]
  },
  {
   "cell_type": "code",
   "execution_count": 11,
   "id": "b48bceb5",
   "metadata": {},
   "outputs": [
    {
     "name": "stdout",
     "output_type": "stream",
     "text": [
      "save root_wd 23632\n"
     ]
    }
   ],
   "source": [
    "from os.path import expanduser\n",
    "home = expanduser(\"~\")\n",
    "\n",
    "CWD = \"run25\"\n",
    "nodebank = NodeBank(os.path.join(home,f\"Documents/aiida-test/alamode-aiida/example/{CWD}\"))\n",
    "g_force = False\n",
    "key = \"root_wd\"\n",
    "g_root_wd = nodebank.load(key, g_force)\n",
    "if g_root_wd is  None:\n",
    "    g_root_wd = Str(os.path.join(os.getcwd(),CWD))\n",
    "    os.makedirs(g_root_wd.value, exist_ok=True)\n",
    "    nodebank.dump(key, g_root_wd)"
   ]
  },
  {
   "cell_type": "code",
   "execution_count": 12,
   "id": "b13cbdfe",
   "metadata": {},
   "outputs": [
    {
     "data": {
      "text/plain": [
       "<Str: uuid: daf0a92d-0edb-4564-b771-abcaf956021a (pk: 23632) value: /home/max/Documents/aiida-test/alamode-aiida/example/run25>"
      ]
     },
     "execution_count": 12,
     "metadata": {},
     "output_type": "execute_result"
    }
   ],
   "source": [
    "g_root_wd"
   ]
  },
  {
   "cell_type": "code",
   "execution_count": 13,
   "id": "93b69021",
   "metadata": {},
   "outputs": [
    {
     "name": "stdout",
     "output_type": "stream",
     "text": [
      "save norder 23633\n"
     ]
    }
   ],
   "source": [
    "g_norder = nodebank.load(\"norder\", g_force)\n",
    "if g_norder is None:\n",
    "    g_norder = Int(1)\n",
    "    nodebank.dump(\"norder\", g_norder)\n",
    "    "
   ]
  },
  {
   "cell_type": "code",
   "execution_count": 14,
   "id": "5f5a4967",
   "metadata": {},
   "outputs": [],
   "source": [
    "def _wait_for_node_finished(node, sec=2):\n",
    "    while True:\n",
    "        if node.is_terminated:\n",
    "            break\n",
    "        print(f\"wait another {sec} sec.\")\n",
    "        sleep(sec)\n",
    "    print(node.is_finished, node.is_finished_ok)"
   ]
  },
  {
   "cell_type": "code",
   "execution_count": 15,
   "id": "f13c477a",
   "metadata": {
    "scrolled": false
   },
   "outputs": [
    {
     "name": "stdout",
     "output_type": "stream",
     "text": [
      "uuid: b55f3689-179f-473f-8229-1d7392a90be3 (pk: 23634) value: /home/max/Documents/aiida-test/alamode-aiida/example/Si_Fd-3m.cif\n",
      "Atoms(symbols='Si8', pbc=True, cell=[5.431, 5.431, 5.431], tags=...)\n"
     ]
    }
   ],
   "source": [
    "@calcfunction\n",
    "def make_atoms_supercell( filename: Str, \n",
    "                         diag: ArrayData,\n",
    "                   ) -> StructureData:\n",
    "    \n",
    "    CifData = DataFactory('cif')\n",
    "    cif = CifData(file=filename.value)\n",
    "    print(cif.ase)\n",
    "    # supercell\n",
    "    _diag = diag.get_array('diag')\n",
    "    P = np.diag(_diag) # define supercell.\n",
    "    super_structure = make_supercell(cif.ase, P=P) # ase function\n",
    "    super_structure = StructureData(ase=super_structure)\n",
    "    \n",
    "    return super_structure\n",
    "\n",
    "@calcfunction\n",
    "def make_atoms_primcell( filename : Str,\n",
    "                   ) ->StructureData:\n",
    "    \n",
    "    CifData = DataFactory('cif')\n",
    "    cif = CifData(file=filename.value)\n",
    "    atoms = cif.ase\n",
    "    # primitive cell\n",
    "    cell, scaled_positions, numbers = spglib.find_primitive(\n",
    "                atoms)\n",
    "    prim_structure = Atoms(cell=cell, scaled_positions=scaled_positions,\n",
    "                      numbers=numbers)    \n",
    "    prim_structure = StructureData(ase=prim_structure)\n",
    "    return prim_structure\n",
    "\n",
    "@calcfunction\n",
    "def structure_to_SinglefileData(structure: StructureData, \n",
    "                                cwd: Str,\n",
    "                                filename: Str) -> SinglefileData:\n",
    "    prim_structure = structure.get_ase()\n",
    "    target_path = os.path.join(cwd.value, filename.value)\n",
    "    ase.io.write(target_path, prim_structure, format=\"cif\")\n",
    "    prim_file = SinglefileData(target_path)\n",
    "    return prim_file\n",
    "\n",
    "class PutStructure(WorkChain):\n",
    "    _PRIM_FILENAME = \"primcell.cif\"\n",
    "    _SUPER_FILENAME = \"supercell.cif\"\n",
    "    @classmethod\n",
    "    def define(cls,spec):\n",
    "        super().define(spec)\n",
    "        spec.input(\"cwd\", valid_type=Str)\n",
    "        spec.input(\"structure_filename\", valid_type=Str)\n",
    "        spec.input(\"diag\", valid_type=ArrayData)\n",
    "        spec.input(\"primcell_filename\", valid_type=Str, default=lambda: Str(cls._PRIM_FILENAME) )\n",
    "        spec.input(\"supercell_filename\", valid_type=Str, default=lambda: Str(cls._SUPER_FILENAME) )\n",
    "        spec.outline(cls.put_primcell ,\n",
    "                     cls.put_supercell)\n",
    "        spec.output(\"primstructure\", valid_type=StructureData)\n",
    "        spec.output(\"superstructure\", valid_type=StructureData)\n",
    "        spec.output(\"primstructure_file\",valid_type=SinglefileData)\n",
    "        spec.output(\"superstructure_file\",valid_type=SinglefileData)\n",
    "    def put_primcell(self):\n",
    "        \n",
    "        primstructure = make_atoms_primcell(filename=self.inputs.structure_filename)\n",
    "        self.out('primstructure', primstructure)\n",
    "        primstructure_file = structure_to_SinglefileData(primstructure,\n",
    "                                                        cwd = self.inputs.cwd,\n",
    "                                                        filename = self.inputs.primcell_filename)\n",
    "        self.out(\"primstructure_file\", primstructure_file)\n",
    "    def put_supercell(self):\n",
    "        superstructure = \\\n",
    "        make_atoms_supercell(filename=self.inputs.structure_filename, \n",
    "                             diag = self.inputs.diag)\n",
    "        self.out('superstructure',superstructure)\n",
    "        superstructure_file = structure_to_SinglefileData(superstructure, \n",
    "                                                cwd = self.inputs.cwd,\n",
    "                                                         filename = self.inputs.supercell_filename)\n",
    "                                                   \n",
    "        self.out(\"superstructure_file\", superstructure_file)\n",
    "    \n",
    "        \n",
    "g_ciffilename=Str(os.path.abspath('Si_Fd-3m.cif'))\n",
    "g_ciffilename.store()\n",
    "print(g_ciffilename)\n",
    "g_diag = ArrayData()\n",
    "g_diag.set_array('diag',np.array([2,2,1]))\n",
    "inputs = {\"cwd\": g_root_wd, \"diag\": g_diag, \"structure_filename\": g_ciffilename}\n",
    "g_putstructure = run(PutStructure, **inputs)"
   ]
  },
  {
   "cell_type": "code",
   "execution_count": 16,
   "id": "8220dbdb",
   "metadata": {},
   "outputs": [
    {
     "data": {
      "text/plain": [
       "{'primstructure': <StructureData: uuid: e263c3b6-0a67-46cd-9f0a-2ee647924c52 (pk: 23640)>,\n",
       " 'primstructure_file': <SinglefileData: uuid: bce9b683-6b6d-4d1d-87bc-02aebef43729 (pk: 23642)>,\n",
       " 'superstructure': <StructureData: uuid: e7050dcd-de7e-45c8-a5ce-2938f5f7153e (pk: 23644)>,\n",
       " 'superstructure_file': <SinglefileData: uuid: fe7ab2e9-6dae-4f7d-beb1-0559ab245877 (pk: 23646)>}"
      ]
     },
     "execution_count": 16,
     "metadata": {},
     "output_type": "execute_result"
    }
   ],
   "source": [
    "g_putstructure"
   ]
  },
  {
   "cell_type": "code",
   "execution_count": 17,
   "id": "7b518ef2",
   "metadata": {},
   "outputs": [],
   "source": [
    "g_superstructure = g_putstructure[\"superstructure\"]\n",
    "g_primstructure = g_putstructure[\"primstructure\"]"
   ]
  },
  {
   "cell_type": "code",
   "execution_count": 18,
   "id": "a0dd2974",
   "metadata": {},
   "outputs": [
    {
     "data": {
      "text/plain": [
       "Atoms(symbols='Si2', pbc=False, cell=[[0.0, 2.7155, 2.7155], [2.7155, 0.0, 2.7155], [2.7155, 2.7155, 0.0]], masses=...)"
      ]
     },
     "execution_count": 18,
     "metadata": {},
     "output_type": "execute_result"
    }
   ],
   "source": [
    "g_primstructure.get_ase()"
   ]
  },
  {
   "cell_type": "code",
   "execution_count": 19,
   "id": "5f8204c5",
   "metadata": {},
   "outputs": [],
   "source": [
    "if g_graph:\n",
    "    pk =g_ciffilename.pk \n",
    "    print(pk)\n",
    "    !verdi node graph generate $pk"
   ]
  },
  {
   "cell_type": "code",
   "execution_count": 20,
   "id": "47e7b167",
   "metadata": {},
   "outputs": [
    {
     "name": "stdout",
     "output_type": "stream",
     "text": [
      "save structure 23644\n"
     ]
    }
   ],
   "source": [
    "g_aiida_structure = nodebank.load(\"superstructure\", g_force)\n",
    "if g_aiida_structure is None:\n",
    "    g_aiida_structure = g_superstructure\n",
    "    g_aiida_structure.get_ase()\n",
    "    nodebank.dump(\"structure\", g_aiida_structure)"
   ]
  },
  {
   "cell_type": "code",
   "execution_count": 21,
   "id": "8283fc6d",
   "metadata": {},
   "outputs": [
    {
     "data": {
      "text/plain": [
       "<StructureData: uuid: e7050dcd-de7e-45c8-a5ce-2938f5f7153e (pk: 23644)>"
      ]
     },
     "execution_count": 21,
     "metadata": {},
     "output_type": "execute_result"
    }
   ],
   "source": [
    "g_aiida_structure"
   ]
  },
  {
   "cell_type": "code",
   "execution_count": 22,
   "id": "692b49e7",
   "metadata": {},
   "outputs": [
    {
     "data": {
      "text/plain": [
       "array([2, 2, 1])"
      ]
     },
     "execution_count": 22,
     "metadata": {},
     "output_type": "execute_result"
    }
   ],
   "source": [
    "g_diag.get_array(\"diag\")"
   ]
  },
  {
   "cell_type": "code",
   "execution_count": 154,
   "id": "86252bdb",
   "metadata": {},
   "outputs": [
    {
     "name": "stdout",
     "output_type": "stream",
     "text": [
      "uuid: 8d776714-d83b-467f-a8b1-5c3950aabd99 (unstored) value: /home/max/Documents/aiida-test/alamode-aiida/example/run25/Si2_k2x2x1_cubic\n",
      "uuid: bbb6fb5c-48ea-451a-8869-b7525beed63b (unstored) value: Si2_k2x2x1_cubic\n"
     ]
    }
   ],
   "source": [
    "from alamode_aiida.alm_input import AlmPrefixMaker, AlmPathMaker\n",
    "\n",
    "almp = AlmPathMaker(\n",
    "                    name=g_primstructure.get_formula(),\n",
    "                    kmesh=g_diag.get_array(\"diag\"),\n",
    "                   norder = g_norder)\n",
    "\n",
    "g_cwd = Str(os.path.join(g_root_wd.value, almp.prefix))\n",
    "os.makedirs(g_cwd.value, exist_ok=True)\n",
    "print(g_cwd)\n",
    "\n",
    "almp = AlmPrefixMaker(name=g_primstructure.get_formula(),\n",
    "                      kmesh=g_diag.get_array(\"diag\"),\n",
    "                     norder=g_norder)\n",
    "\n",
    "key = \"prefix\"\n",
    "g_prefix = Str(almp.prefix)\n",
    "\n",
    "print(g_prefix)\n"
   ]
  },
  {
   "cell_type": "code",
   "execution_count": 24,
   "id": "835a5e58",
   "metadata": {},
   "outputs": [
    {
     "name": "stdout",
     "output_type": "stream",
     "text": [
      "save format 23647\n"
     ]
    }
   ],
   "source": [
    "key = \"format\"\n",
    "g_format =  nodebank.load(key,g_force)\n",
    "if g_format is None:\n",
    "    g_format = Str(\"QE\")\n",
    "    nodebank.dump(key, g_format)"
   ]
  },
  {
   "cell_type": "code",
   "execution_count": 25,
   "id": "b7fa5cd6",
   "metadata": {},
   "outputs": [
    {
     "name": "stdout",
     "output_type": "stream",
     "text": [
      "load norder 23633\n"
     ]
    }
   ],
   "source": [
    "g_norder = nodebank.load(\"norder\",g_force)\n",
    "if g_norder is None:\n",
    "    g_norder = Int(1)\n",
    "    nodebank.dump(\"norder\", g_norder)"
   ]
  },
  {
   "cell_type": "code",
   "execution_count": 26,
   "id": "1363f7e7",
   "metadata": {},
   "outputs": [
    {
     "data": {
      "text/plain": [
       "<Int: uuid: 3e38cc39-74fc-4c5f-964c-044c13a6d669 (pk: 23633) value: 1>"
      ]
     },
     "execution_count": 26,
     "metadata": {},
     "output_type": "execute_result"
    }
   ],
   "source": [
    "g_norder"
   ]
  },
  {
   "cell_type": "markdown",
   "id": "aefef608",
   "metadata": {},
   "source": [
    "## make QE input"
   ]
  },
  {
   "cell_type": "code",
   "execution_count": 27,
   "id": "94af2a84",
   "metadata": {},
   "outputs": [],
   "source": [
    "from aiida.orm.nodes.data.upf import get_pseudos_from_structure\n",
    "\n",
    "def _make_upf_locally( structure: StructureData, pseudos: str, cwd: str=None) -> dict:\n",
    "    upflist = get_pseudos_from_structure(structure, pseudos)\n",
    "    upfdic = {}\n",
    "    for upfkey, upfvalue in upflist.items():\n",
    "        #print(upfvalue.get_content())\n",
    "        upf_filename = upfvalue.list_object_names()[0]\n",
    "        upfdic[upfkey] = upf_filename\n",
    "        if cwd is not None:\n",
    "            target_path = os.path.join(cwd, upf_filename)\n",
    "            with open(target_path,\"w\") as f:\n",
    "                f.write(upfvalue.get_content())\n",
    "            print(target_path,\"is made.\")\n",
    "    return upfdic"
   ]
  },
  {
   "cell_type": "code",
   "execution_count": 28,
   "id": "6b9dd7ac",
   "metadata": {},
   "outputs": [],
   "source": [
    "def make_qe_input(superstructure: StructureData, pseudos: (str,Str), QEinput = \"qe.in\"):\n",
    "    params = {\n",
    "            'calculation': 'scf',\n",
    "             'tprnfor': True, \n",
    "             'tstress': True,\n",
    "            'pseudo_dir': \".\", \n",
    "            'ecutwfc': 3.,\n",
    "            'ecutrho': 10.,\n",
    "            'conv_thr': 5.e-6,\n",
    "            'electron_maxstep': 100,\n",
    "    }\n",
    "\n",
    "    if isinstance(pseudos,Str):\n",
    "        pseudos = pseudos.value\n",
    "    pseudo = _make_upf_locally(superstructure, pseudos)\n",
    "    kspacing  = 0.05\n",
    "    koffset  = (1,1,1)\n",
    "    with open(QEinput,\"w\") as f:\n",
    "        write_espresso_in(f, superstructure.get_ase(), pseudopotentials =pseudo, \n",
    "                          kspacing= kspacing, koffset=koffset, \n",
    "                      **params)\n",
    "    return True"
   ]
  },
  {
   "cell_type": "code",
   "execution_count": 29,
   "id": "3cc03a6e",
   "metadata": {},
   "outputs": [
    {
     "name": "stdout",
     "output_type": "stream",
     "text": [
      "save qeinput 23648\n"
     ]
    }
   ],
   "source": [
    "g_QEinput = nodebank.load(\"qeinput\",g_force)\n",
    "g_pseudos = Str('SSSP_1.1_efficiency')\n",
    "# if g_QEinput is None:\n",
    "if True:   \n",
    "    g_QEinput_filename = os.path.join(g_root_wd.value,\"qe.in\")\n",
    "    make_qe_input(g_superstructure, g_pseudos, g_QEinput_filename)\n",
    "    g_QEinput = SinglefileData(g_QEinput_filename)\n",
    "    nodebank.dump(\"qeinput\",g_QEinput)"
   ]
  },
  {
   "cell_type": "code",
   "execution_count": 30,
   "id": "49985dc8",
   "metadata": {},
   "outputs": [
    {
     "data": {
      "text/plain": [
       "<Int: uuid: 3e38cc39-74fc-4c5f-964c-044c13a6d669 (pk: 23633) value: 1>"
      ]
     },
     "execution_count": 30,
     "metadata": {},
     "output_type": "execute_result"
    }
   ],
   "source": [
    "g_norder"
   ]
  },
  {
   "cell_type": "markdown",
   "id": "fde1406a",
   "metadata": {},
   "source": [
    "## alm suggest"
   ]
  },
  {
   "cell_type": "code",
   "execution_count": 31,
   "id": "775b569a",
   "metadata": {
    "scrolled": false
   },
   "outputs": [
    {
     "name": "stdout",
     "output_type": "stream",
     "text": [
      "uuid: bfbc3fce-d0e3-4e4b-bcb0-0f951be27904 (pk: 23656) (aiida.calculations:alamode.alm)\n",
      "wait another 2 sec.\n",
      "wait another 2 sec.\n",
      "wait another 2 sec.\n",
      "wait another 2 sec.\n",
      "wait another 2 sec.\n",
      "wait another 2 sec.\n",
      "wait another 2 sec.\n",
      "wait another 2 sec.\n",
      "wait another 2 sec.\n",
      "wait another 2 sec.\n",
      "wait another 2 sec.\n",
      "wait another 2 sec.\n",
      "True True\n",
      "save alm_suggest 23656\n"
     ]
    }
   ],
   "source": [
    "codename = \"alm@tutor\"\n",
    "code = Code.get_from_string(codename)\n",
    "\n",
    "builder = code.get_builder()\n",
    "builder.structure = g_aiida_structure\n",
    "builder.prefix = g_prefix\n",
    "builder.norder = g_norder\n",
    "builder.mode = Str(\"suggest\")\n",
    "builder.cwd = g_cwd\n",
    "\n",
    "builder.metadata = {\n",
    "        'options': {\n",
    "           'resources': {'tot_num_mpiprocs': 1, 'num_machines': 1}\n",
    "        } }\n",
    "\n",
    "g_alm_suggest_future = nodebank.load(\"alm_suggest\",g_force)\n",
    "if g_alm_suggest_future is None: \n",
    "#if True:\n",
    "    g_alm_suggest_future = submit(builder) # temporary run(), use submit()\n",
    "    print(g_alm_suggest_future)\n",
    "    _wait_for_node_finished(g_alm_suggest_future)\n",
    "    if g_alm_suggest_future.is_finished_ok:\n",
    "        nodebank.dump(\"alm_suggest\",g_alm_suggest_future)\n"
   ]
  },
  {
   "cell_type": "code",
   "execution_count": 32,
   "id": "0c37803c",
   "metadata": {},
   "outputs": [
    {
     "data": {
      "text/plain": [
       "<CalcJobNode: uuid: bfbc3fce-d0e3-4e4b-bcb0-0f951be27904 (pk: 23656) (aiida.calculations:alamode.alm)>"
      ]
     },
     "execution_count": 32,
     "metadata": {},
     "output_type": "execute_result"
    }
   ],
   "source": [
    "g_alm_suggest_future"
   ]
  },
  {
   "cell_type": "code",
   "execution_count": 33,
   "id": "5844ec5a",
   "metadata": {},
   "outputs": [],
   "source": [
    "if g_graph:\n",
    "    !verdi node graph generate $g_alm_suggest_future.pk"
   ]
  },
  {
   "cell_type": "code",
   "execution_count": 34,
   "id": "4005efaa",
   "metadata": {},
   "outputs": [
    {
     "data": {
      "text/plain": [
       "['Si2_k2x2x1_harmonic.pattern_HARMONIC']"
      ]
     },
     "execution_count": 34,
     "metadata": {},
     "output_type": "execute_result"
    }
   ],
   "source": [
    "g_alm_suggest_future.outputs.pattern_folder.list_object_names()"
   ]
  },
  {
   "cell_type": "markdown",
   "id": "14b74acf",
   "metadata": {},
   "source": [
    "# 重要: \n",
    "\n",
    "1. 複数のSinglefileDataはnodeとすることができない。次に使うSinglefileDataは、次のworkchain/calcjobで取得しする。\n",
    "\n",
    "2. もしくはまとめてFolderDataとする。"
   ]
  },
  {
   "cell_type": "markdown",
   "id": "71f0c7ca",
   "metadata": {},
   "source": [
    "## displace.py"
   ]
  },
  {
   "cell_type": "code",
   "execution_count": 35,
   "id": "12bd0f36",
   "metadata": {},
   "outputs": [
    {
     "name": "stdout",
     "output_type": "stream",
     "text": [
      "save mag 23661\n"
     ]
    }
   ],
   "source": [
    "g_mag = nodebank.load(\"mag\", g_force)\n",
    "if g_mag is None:\n",
    "    g_mag = Float(0.01)\n",
    "    nodebank.dump(\"mag\", g_mag)"
   ]
  },
  {
   "cell_type": "code",
   "execution_count": 36,
   "id": "0f7aff77",
   "metadata": {},
   "outputs": [],
   "source": [
    "from fnmatch import fnmatch"
   ]
  },
  {
   "cell_type": "code",
   "execution_count": 37,
   "id": "4445b337",
   "metadata": {
    "scrolled": false
   },
   "outputs": [
    {
     "name": "stdout",
     "output_type": "stream",
     "text": [
      "{'pattern1': <FolderData: uuid: a7b15011-1209-4ad9-9b30-1cfa2a4bfab7 (pk: 23660)>}\n",
      "save pattern_file 23663\n"
     ]
    }
   ],
   "source": [
    "@calcfunction\n",
    "def _pack_harmonic_pattern_files(**kwargs):\n",
    "    print(kwargs)\n",
    "    result = []\n",
    "    for _, folder in kwargs.items():\n",
    "        for filename in folder.list_object_names():\n",
    "            if fnmatch(filename,\"*.pattern_HARMONIC\"):\n",
    "                result.append(filename)\n",
    "    return Dict(dict={'pattern_files':result})\n",
    "    \n",
    "inputs = {\n",
    "    \"pattern1\": g_alm_suggest_future.outputs.pattern_folder\n",
    "}\n",
    "\n",
    "g_pattern_files = nodebank.load(\"pattern_file\",g_force)\n",
    "if g_pattern_files is None:\n",
    "    g_pattern_files = _pack_harmonic_pattern_files(**inputs)\n",
    "    nodebank.dump(\"pattern_file\",g_pattern_files)"
   ]
  },
  {
   "cell_type": "code",
   "execution_count": 38,
   "id": "d04dd979",
   "metadata": {},
   "outputs": [
    {
     "data": {
      "text/plain": [
       "['Si2_k2x2x1_harmonic.pattern_HARMONIC']"
      ]
     },
     "execution_count": 38,
     "metadata": {},
     "output_type": "execute_result"
    }
   ],
   "source": [
    "g_pattern_files.attributes[\"pattern_files\"]"
   ]
  },
  {
   "cell_type": "code",
   "execution_count": 39,
   "id": "68bab8eb",
   "metadata": {},
   "outputs": [
    {
     "name": "stdout",
     "output_type": "stream",
     "text": [
      "Si2_k2x2x1_harmonic.pattern_HARMONIC\n"
     ]
    }
   ],
   "source": [
    "for filename in g_pattern_files.attributes['pattern_files']:\n",
    "    print(filename)"
   ]
  },
  {
   "cell_type": "code",
   "execution_count": 40,
   "id": "2b865ee3",
   "metadata": {},
   "outputs": [
    {
     "data": {
      "text/plain": [
       "'qe.in'"
      ]
     },
     "execution_count": 40,
     "metadata": {},
     "output_type": "execute_result"
    }
   ],
   "source": [
    "g_QEinput.attributes[\"filename\"]"
   ]
  },
  {
   "cell_type": "code",
   "execution_count": 41,
   "id": "c3fb80d4",
   "metadata": {},
   "outputs": [
    {
     "name": "stdout",
     "output_type": "stream",
     "text": [
      "save start_id 23664\n"
     ]
    }
   ],
   "source": [
    "g_disp_start_id = nodebank.load(\"start_id\", g_force)\n",
    "if g_disp_start_id is None:\n",
    "    g_disp_start_id = Int(1)\n",
    "    nodebank.dump(\"start_id\", g_disp_start_id)"
   ]
  },
  {
   "cell_type": "code",
   "execution_count": 42,
   "id": "59c65d40",
   "metadata": {
    "scrolled": false
   },
   "outputs": [
    {
     "name": "stdout",
     "output_type": "stream",
     "text": [
      "uuid: 212e1692-2c4a-4a66-8afb-03b429e7d4e9 (pk: 23667) (aiida.calculations:alamode.displace)\n",
      "wait another 2 sec.\n",
      "wait another 2 sec.\n",
      "wait another 2 sec.\n",
      "wait another 2 sec.\n",
      "wait another 2 sec.\n",
      "wait another 2 sec.\n",
      "wait another 2 sec.\n",
      "wait another 2 sec.\n",
      "wait another 2 sec.\n",
      "wait another 2 sec.\n",
      "wait another 2 sec.\n",
      "True True\n",
      "save displace 23667\n"
     ]
    }
   ],
   "source": [
    "codename = \"alamode.displace@tutor\"\n",
    "code = Code.get_from_string(codename)\n",
    "\n",
    "builder = code.get_builder()\n",
    "builder.format = g_format\n",
    "builder.cwd = g_cwd\n",
    "builder.structure_org = g_QEinput\n",
    "builder.mag = g_mag\n",
    "builder.pattern_files = g_pattern_files\n",
    "\n",
    "g_displacefuture = nodebank.load(\"displace\", g_force)\n",
    "if g_displacefuture is None:\n",
    "    g_displacefuture = submit(builder)\n",
    "    print(g_displacefuture)\n",
    "    _wait_for_node_finished(g_displacefuture)\n",
    "    if g_displacefuture.is_finished_ok:\n",
    "        nodebank.dump(\"displace\", g_displacefuture)"
   ]
  },
  {
   "cell_type": "code",
   "execution_count": 43,
   "id": "388aabbb",
   "metadata": {},
   "outputs": [
    {
     "data": {
      "text/plain": [
       "<CalcJobNode: uuid: 212e1692-2c4a-4a66-8afb-03b429e7d4e9 (pk: 23667) (aiida.calculations:alamode.displace)>"
      ]
     },
     "execution_count": 43,
     "metadata": {},
     "output_type": "execute_result"
    }
   ],
   "source": [
    "g_displacefuture"
   ]
  },
  {
   "cell_type": "code",
   "execution_count": 44,
   "id": "9abc071e",
   "metadata": {},
   "outputs": [],
   "source": [
    "if g_graph:\n",
    "    !verdi node graph generate $g_displacefuture.pk"
   ]
  },
  {
   "cell_type": "code",
   "execution_count": 45,
   "id": "3870cafc",
   "metadata": {},
   "outputs": [
    {
     "data": {
      "text/plain": [
       "<Int: uuid: 461d8df0-4007-47c5-8f26-a1ebe6b1b5e8 (pk: 23670) value: 2>"
      ]
     },
     "execution_count": 45,
     "metadata": {},
     "output_type": "execute_result"
    }
   ],
   "source": [
    "g_displacefuture.outputs.result"
   ]
  },
  {
   "cell_type": "code",
   "execution_count": 46,
   "id": "cc16e940",
   "metadata": {},
   "outputs": [
    {
     "data": {
      "text/plain": [
       "['_scheduler-stderr.txt',\n",
       " '_scheduler-stdout.txt',\n",
       " 'disp1.pw.in',\n",
       " 'disp2.pw.in',\n",
       " 'displace.out']"
      ]
     },
     "execution_count": 46,
     "metadata": {},
     "output_type": "execute_result"
    }
   ],
   "source": [
    "g_displacefuture.outputs.retrieved.list_object_names()"
   ]
  },
  {
   "cell_type": "code",
   "execution_count": 47,
   "id": "2acda915",
   "metadata": {},
   "outputs": [
    {
     "data": {
      "text/plain": [
       "['disp1.pw.in', 'disp2.pw.in']"
      ]
     },
     "execution_count": 47,
     "metadata": {},
     "output_type": "execute_result"
    }
   ],
   "source": [
    "g_displacefuture.outputs.dispfile_folder.list_object_names()"
   ]
  },
  {
   "cell_type": "markdown",
   "id": "6e076c93",
   "metadata": {},
   "source": [
    "## pwx parallel submit"
   ]
  },
  {
   "cell_type": "code",
   "execution_count": 48,
   "id": "9665f5a0",
   "metadata": {},
   "outputs": [
    {
     "data": {
      "text/plain": [
       "['disp1.pw.in', 'disp2.pw.in']"
      ]
     },
     "execution_count": 48,
     "metadata": {},
     "output_type": "execute_result"
    }
   ],
   "source": [
    "g_displacefuture.outputs.dispfile_folder.list_object_names()"
   ]
  },
  {
   "cell_type": "code",
   "execution_count": 49,
   "id": "efd9e0fc",
   "metadata": {},
   "outputs": [],
   "source": [
    "if g_graph:\n",
    "    !verdi node graph generate $g_pwx_files.pk"
   ]
  },
  {
   "cell_type": "code",
   "execution_count": 50,
   "id": "9801a127",
   "metadata": {},
   "outputs": [
    {
     "data": {
      "text/plain": [
       "<Str: uuid: 41cdd86e-6ad2-402c-a80a-d5cc30796ecf (pk: 23651) value: /home/max/Documents/aiida-test/alamode-aiida/example/run25/Si2_k2x2x1_harmonic>"
      ]
     },
     "execution_count": 50,
     "metadata": {},
     "output_type": "execute_result"
    }
   ],
   "source": [
    "g_cwd"
   ]
  },
  {
   "cell_type": "code",
   "execution_count": 51,
   "id": "709e3ae8",
   "metadata": {
    "scrolled": false
   },
   "outputs": [],
   "source": [
    "# single file test\n",
    "if False:\n",
    "    codename = \"alamode.pwx@mygarden1\"\n",
    "    code = Code.get_from_string(codename)\n",
    "\n",
    "    builder = code.get_builder()\n",
    "    builder.cwd = g_cwd\n",
    "    builder.pwx_input_filename = Str('disp1.pw.in')\n",
    "    builder.pseudos = g_pseudos\n",
    "    #builder.pwx_output_filename = Str('disp1.pw.out')\n",
    "    #builder.xml_filename = Str('disp1.xml')\n",
    "\n",
    "    if True:\n",
    "        g_displacefuture = run(builder)\n",
    "        _wait_for_node_finished(g_displacefuture, 5)\n",
    "        print(g_displacefuture)\n",
    "    else:\n",
    "        g_displacefuture = load_node(9949)"
   ]
  },
  {
   "cell_type": "code",
   "execution_count": 52,
   "id": "618e6470",
   "metadata": {},
   "outputs": [
    {
     "data": {
      "text/plain": [
       "['disp1.pw.in', 'disp2.pw.in']"
      ]
     },
     "execution_count": 52,
     "metadata": {},
     "output_type": "execute_result"
    }
   ],
   "source": [
    "g_displacefuture.outputs.dispfile_folder.list_object_names()\n",
    "g_codelist = List(list=[\"alamode.pwx@mygarden1\",\n",
    "                  \"alamode.pwx@mygarden2\"])\n",
    "g_displacefuture.outputs.dispfile_folder.list_object_names()\n"
   ]
  },
  {
   "cell_type": "code",
   "execution_count": 53,
   "id": "9b8bc56e",
   "metadata": {
    "scrolled": false
   },
   "outputs": [
    {
     "name": "stdout",
     "output_type": "stream",
     "text": [
      "uuid: ddf7eb5f-63b1-4902-94dc-1715acfa8c96 (pk: 23675) (aiida.workflows:alamode.dispall_pwx)\n",
      "wait another 10 sec.\n",
      "wait another 10 sec.\n",
      "wait another 10 sec.\n",
      "wait another 10 sec.\n",
      "wait another 10 sec.\n",
      "wait another 10 sec.\n",
      "wait another 10 sec.\n",
      "wait another 10 sec.\n",
      "wait another 10 sec.\n",
      "wait another 10 sec.\n",
      "wait another 10 sec.\n",
      "wait another 10 sec.\n",
      "wait another 10 sec.\n",
      "True True\n",
      "save dispall 23675\n"
     ]
    }
   ],
   "source": [
    "g_alldisp_pwx = WorkflowFactory(\"alamode.dispall_pwx\")\n",
    "\n",
    "# g_code_str = Str(\"alamode.pwx@mygarden1\")\n",
    "\n",
    "g_pwx_all_future = nodebank.load(\"dispall\", g_force)\n",
    "# if g_pwx_all_future is None:\n",
    "if True:\n",
    "    g_pwx_all_future = submit(g_alldisp_pwx, \n",
    "                pwx_input_folder=g_displacefuture.outputs.dispfile_folder, \n",
    "                pseudos = g_pseudos, \n",
    "                code_string = g_codelist, \n",
    "                cwd=g_cwd)\n",
    "    print(g_pwx_all_future)\n",
    "    _wait_for_node_finished(g_pwx_all_future, 10)\n",
    "    if g_pwx_all_future.is_finished_ok:\n",
    "        nodebank.dump(\"dispall\", g_pwx_all_future)"
   ]
  },
  {
   "cell_type": "code",
   "execution_count": 54,
   "id": "76bd8452",
   "metadata": {},
   "outputs": [
    {
     "data": {
      "text/plain": [
       "<List: uuid: 70750188-3f48-40a2-a830-ee5b23ef383d (pk: 23699) value: ['disp1.pw.out', 'disp2.pw.out']>"
      ]
     },
     "execution_count": 54,
     "metadata": {},
     "output_type": "execute_result"
    }
   ],
   "source": [
    "g_pwx_all_future.outputs.pwx_output"
   ]
  },
  {
   "cell_type": "code",
   "execution_count": 55,
   "id": "a305457f",
   "metadata": {},
   "outputs": [
    {
     "name": "stdout",
     "output_type": "stream",
     "text": [
      "\u001b[34m\u001b[1mInfo: \u001b[0m\u001b[22mInitiating graphviz engine: dot\u001b[0m\n",
      "\u001b[34m\u001b[1mInfo: \u001b[0m\u001b[22mRecursing ancestors, max depth=None\u001b[0m\n",
      "\u001b[34m\u001b[1mInfo: \u001b[0m\u001b[22mRecursing descendants, max depth=None\u001b[0m\n",
      "\u001b[32m\u001b[1mSuccess: \u001b[0m\u001b[22mOutput file: 23675.dot.pdf\u001b[0m\n"
     ]
    }
   ],
   "source": [
    "#if g_graph:\n",
    "if True:\n",
    "    !verdi node graph generate $g_pwx_all_future.pk"
   ]
  },
  {
   "cell_type": "code",
   "execution_count": 56,
   "id": "9a558096",
   "metadata": {},
   "outputs": [
    {
     "data": {
      "text/plain": [
       "{'list': ['disp1.pw.out', 'disp2.pw.out']}"
      ]
     },
     "execution_count": 56,
     "metadata": {},
     "output_type": "execute_result"
    }
   ],
   "source": [
    "g_pwx_all_future.outputs.pwx_output.attributes"
   ]
  },
  {
   "cell_type": "markdown",
   "id": "dc146fb4",
   "metadata": {},
   "source": [
    "## extract"
   ]
  },
  {
   "cell_type": "code",
   "execution_count": 57,
   "id": "853eb2e4",
   "metadata": {},
   "outputs": [
    {
     "data": {
      "text/plain": [
       "<WorkChainNode: uuid: ddf7eb5f-63b1-4902-94dc-1715acfa8c96 (pk: 23675) (aiida.workflows:alamode.dispall_pwx)>"
      ]
     },
     "execution_count": 57,
     "metadata": {},
     "output_type": "execute_result"
    }
   ],
   "source": [
    "g_pwx_all_future"
   ]
  },
  {
   "cell_type": "code",
   "execution_count": 58,
   "id": "50c2620a",
   "metadata": {},
   "outputs": [
    {
     "data": {
      "text/plain": [
       "['disp1.pw.out', 'disp2.pw.out']"
      ]
     },
     "execution_count": 58,
     "metadata": {},
     "output_type": "execute_result"
    }
   ],
   "source": [
    "g_pwx_all_future.outputs.pwx_output.get_list()"
   ]
  },
  {
   "cell_type": "code",
   "execution_count": 59,
   "id": "d32a2836",
   "metadata": {
    "scrolled": false
   },
   "outputs": [
    {
     "name": "stdout",
     "output_type": "stream",
     "text": [
      "{'QE': <SinglefileData: uuid: ef7872ba-27cd-4e57-9e97-366f0c079b6c (pk: 23648)>, 'target_file': <List: uuid: 70750188-3f48-40a2-a830-ee5b23ef383d (pk: 23699) value: ['disp1.pw.out', 'disp2.pw.out']>, 'cwd': <Str: uuid: 41cdd86e-6ad2-402c-a80a-d5cc30796ecf (pk: 23651) value: /home/max/Documents/aiida-test/alamode-aiida/example/run25/Si2_k2x2x1_harmonic>, 'norder': <Int: uuid: 3e38cc39-74fc-4c5f-964c-044c13a6d669 (pk: 23633) value: 1>}\n",
      "uuid: a22e911b-8891-4c5d-ab63-0e591de66ff9 (pk: 23702) (aiida.workflows:alamode.extract)\n",
      "wait another 2 sec.\n",
      "True True\n",
      "save extract 23702\n"
     ]
    }
   ],
   "source": [
    "extractworkchain = WorkflowFactory(\"alamode.extract\")\n",
    "\n",
    "inputs= {'QE': g_QEinput, \n",
    "         'target_file': g_pwx_all_future.outputs.pwx_output, \n",
    "         'cwd': g_cwd,\n",
    "         \"norder\": g_norder\n",
    "        # 'output_filename' : g_DFSET_filename\n",
    "        }\n",
    "print(inputs)\n",
    "\n",
    "g_alamodeextract_future = nodebank.load(\"extract\", g_force)\n",
    "if g_alamodeextract_future is None:\n",
    "    g_alamodeextract_future = submit(extractworkchain, **inputs)\n",
    "    print(g_alamodeextract_future)\n",
    "    _wait_for_node_finished(g_alamodeextract_future)\n",
    "    if g_alamodeextract_future.is_finished_ok:\n",
    "        nodebank.dump(\"extract\", g_alamodeextract_future)\n"
   ]
  },
  {
   "cell_type": "code",
   "execution_count": 60,
   "id": "3e83843c",
   "metadata": {},
   "outputs": [
    {
     "data": {
      "text/plain": [
       "<WorkChainNode: uuid: a22e911b-8891-4c5d-ab63-0e591de66ff9 (pk: 23702) (aiida.workflows:alamode.extract)>"
      ]
     },
     "execution_count": 60,
     "metadata": {},
     "output_type": "execute_result"
    }
   ],
   "source": [
    "g_alamodeextract_future"
   ]
  },
  {
   "cell_type": "code",
   "execution_count": 61,
   "id": "e6cd8319",
   "metadata": {},
   "outputs": [
    {
     "data": {
      "text/plain": [
       "<SinglefileData: uuid: 9e1f9f0f-31f9-43c4-ad44-4c0bd5cb2e73 (pk: 23704)>"
      ]
     },
     "execution_count": 61,
     "metadata": {},
     "output_type": "execute_result"
    }
   ],
   "source": [
    "g_alamodeextract_future.outputs.dfset_file"
   ]
  },
  {
   "cell_type": "code",
   "execution_count": 62,
   "id": "97f5da07",
   "metadata": {},
   "outputs": [],
   "source": [
    "if g_graph:\n",
    "    !verdi node graph generate $g_alamodeextract_future.pk"
   ]
  },
  {
   "cell_type": "code",
   "execution_count": 63,
   "id": "5c816236",
   "metadata": {},
   "outputs": [
    {
     "data": {
      "text/plain": [
       "'DFSET_harmonic'"
      ]
     },
     "execution_count": 63,
     "metadata": {},
     "output_type": "execute_result"
    }
   ],
   "source": [
    "g_DFSET_file = g_alamodeextract_future.outputs.dfset_file\n",
    "g_DFSET_file.attributes[\"filename\"]"
   ]
  },
  {
   "cell_type": "markdown",
   "id": "48447c52",
   "metadata": {},
   "source": [
    "## alm opt"
   ]
  },
  {
   "cell_type": "code",
   "execution_count": 64,
   "id": "cc017b7f",
   "metadata": {},
   "outputs": [
    {
     "data": {
      "text/plain": [
       "<WorkChainNode: uuid: a22e911b-8891-4c5d-ab63-0e591de66ff9 (pk: 23702) (aiida.workflows:alamode.extract)>"
      ]
     },
     "execution_count": 64,
     "metadata": {},
     "output_type": "execute_result"
    }
   ],
   "source": [
    "g_alamodeextract_future"
   ]
  },
  {
   "cell_type": "code",
   "execution_count": 65,
   "id": "24985da0",
   "metadata": {},
   "outputs": [],
   "source": [
    "#g_aiida_structure = load_node(7970)\n",
    "#g_prefix = load_node(7973)\n",
    "#g_cwd  = load_node(7971)\n",
    "\n",
    "g_DFSET_file = g_alamodeextract_future.outputs.dfset_file"
   ]
  },
  {
   "cell_type": "code",
   "execution_count": 153,
   "id": "723e0ae8",
   "metadata": {},
   "outputs": [
    {
     "data": {
      "text/plain": [
       "<Str: uuid: c98b88bd-bc77-4742-8ed3-dd1d75d5e640 (unstored) value: Si2_k2x2x1_cubic>"
      ]
     },
     "execution_count": 153,
     "metadata": {},
     "output_type": "execute_result"
    }
   ],
   "source": [
    "from alamode_aiida.alm_input import alm_norder_name\n",
    "\n",
    "almp = AlmPrefixMaker(name=g_primstructure.get_formula(),\n",
    "                      kmesh=g_diag.get_array(\"diag\"),\n",
    "                      norder = g_norder.value)\n",
    "g_prefix = Str(almp.prefix)\n",
    "g_prefix"
   ]
  },
  {
   "cell_type": "code",
   "execution_count": 67,
   "id": "06d7b6f3",
   "metadata": {
    "scrolled": false
   },
   "outputs": [
    {
     "name": "stdout",
     "output_type": "stream",
     "text": [
      "uuid: dc528baf-8bcf-4a5a-8641-8b0e94a1d70c (pk: 23710) (aiida.calculations:alamode.alm)\n",
      "wait another 5 sec.\n",
      "wait another 5 sec.\n",
      "wait another 5 sec.\n",
      "wait another 5 sec.\n",
      "wait another 5 sec.\n",
      "True True\n",
      "save almopt 23710\n"
     ]
    }
   ],
   "source": [
    "codename = \"alm@tutor\"\n",
    "code = Code.get_from_string(codename)\n",
    "\n",
    "builder = code.get_builder()\n",
    "builder.structure = g_aiida_structure\n",
    "builder.prefix = g_prefix\n",
    "builder.cwd = g_cwd\n",
    "builder.mode = Str(\"opt\")\n",
    "builder.norder = g_norder\n",
    "builder.dfset_file = g_DFSET_file\n",
    "\n",
    "key = \"almopt\"\n",
    "g_almoptfuture = nodebank.load(key,g_force)\n",
    "if g_almoptfuture is None:\n",
    "#if True:\n",
    "    g_almoptfuture = submit(builder)\n",
    "    print(g_almoptfuture)\n",
    "    _wait_for_node_finished(g_almoptfuture, 5)\n",
    "    if g_almoptfuture.is_finished_ok:\n",
    "        nodebank.dump(key, g_almoptfuture)\n"
   ]
  },
  {
   "cell_type": "code",
   "execution_count": 68,
   "id": "ed6f8bfc",
   "metadata": {},
   "outputs": [
    {
     "data": {
      "text/plain": [
       "{'filename': 'Si2_k2x2x1_harmonic.xml'}"
      ]
     },
     "execution_count": 68,
     "metadata": {},
     "output_type": "execute_result"
    }
   ],
   "source": [
    "g_almoptfuture.outputs.input_ANPHON_file.attributes"
   ]
  },
  {
   "cell_type": "raw",
   "id": "219e5a58",
   "metadata": {},
   "source": [
    "f\"{g_prefix}.fcs and {g_prefix}.xml are made in {g_cwd} directory.\""
   ]
  },
  {
   "cell_type": "code",
   "execution_count": 69,
   "id": "8c0e5dba",
   "metadata": {},
   "outputs": [],
   "source": [
    "if g_graph:\n",
    "    !verdi node graph generate $g_almoptfuture.pk"
   ]
  },
  {
   "cell_type": "markdown",
   "id": "f841ed08",
   "metadata": {},
   "source": [
    "# anphon phonon"
   ]
  },
  {
   "cell_type": "code",
   "execution_count": 70,
   "id": "d47ceaa0",
   "metadata": {},
   "outputs": [
    {
     "data": {
      "text/plain": [
       "<Str: uuid: 95dacdf4-3666-4673-96ee-e85bdb95b9ac (pk: 23705) value: Si2_k2x2x1_harmonic>"
      ]
     },
     "execution_count": 70,
     "metadata": {},
     "output_type": "execute_result"
    }
   ],
   "source": [
    "g_prefix"
   ]
  },
  {
   "cell_type": "code",
   "execution_count": 71,
   "id": "d9bb5d7b",
   "metadata": {},
   "outputs": [],
   "source": [
    "g_cwd = Str(os.path.join(g_root_wd.value, \"property\"))\n",
    "os.makedirs(g_cwd.value, exist_ok=True)"
   ]
  },
  {
   "cell_type": "code",
   "execution_count": 72,
   "id": "74fe963c",
   "metadata": {
    "scrolled": false
   },
   "outputs": [
    {
     "name": "stdout",
     "output_type": "stream",
     "text": [
      "uuid: e84689f6-63bd-4066-b0d9-8f9979b50778 (pk: 23723) (aiida.calculations:alamode.anphon)\n",
      "wait another 5 sec.\n",
      "wait another 5 sec.\n",
      "wait another 5 sec.\n",
      "wait another 5 sec.\n",
      "wait another 5 sec.\n",
      "True True\n",
      "save phband 23723\n"
     ]
    }
   ],
   "source": [
    "codename = \"anphon@tutor\"\n",
    "code = Code.get_from_string(codename)\n",
    "\n",
    "builder = code.get_builder()\n",
    "builder.structure = g_primstructure\n",
    "builder.prefix = g_prefix\n",
    "builder.cwd = g_cwd\n",
    "# builder.norder = g_norder\n",
    "builder.fcsxml = g_almoptfuture.outputs.input_ANPHON_file\n",
    "builder.mode = Str(\"phonons\")\n",
    "builder.phonons_mode = Str(\"band\")\n",
    "#builder.kparam = Dict(dict={}) # should merge to the input port, param.\n",
    "\n",
    "g_phbandfuture = nodebank.load(\"phband\", g_force)\n",
    "\n",
    "if g_phbandfuture is None:\n",
    "#if True:\n",
    "    g_phbandfuture = submit(builder)\n",
    "    print(g_phbandfuture)\n",
    "    _wait_for_node_finished(g_phbandfuture, 5)\n",
    "    nodebank.dump(\"phband\", g_phbandfuture)"
   ]
  },
  {
   "cell_type": "code",
   "execution_count": 73,
   "id": "b9b020be",
   "metadata": {},
   "outputs": [
    {
     "data": {
      "text/plain": [
       "<CalcJobNode: uuid: e84689f6-63bd-4066-b0d9-8f9979b50778 (pk: 23723) (aiida.calculations:alamode.anphon)>"
      ]
     },
     "execution_count": 73,
     "metadata": {},
     "output_type": "execute_result"
    }
   ],
   "source": [
    "g_phbandfuture"
   ]
  },
  {
   "cell_type": "code",
   "execution_count": 74,
   "id": "bbac5600",
   "metadata": {},
   "outputs": [],
   "source": [
    "from alamode_aiida.alm_input import make_alm_uniform_kmesh"
   ]
  },
  {
   "cell_type": "code",
   "execution_count": 155,
   "id": "a60ae8de",
   "metadata": {},
   "outputs": [
    {
     "data": {
      "text/plain": [
       "<Str: uuid: e77f9210-f295-42ee-8d2b-aee11f4fab34 (unstored) value: Si2_k2x2x1_cubic_q4x4x4>"
      ]
     },
     "execution_count": 155,
     "metadata": {},
     "output_type": "execute_result"
    }
   ],
   "source": [
    "g_qmesh_value = make_alm_uniform_kmesh(g_primstructure.get_ase(),kspacing=0.1)\n",
    "\n",
    "amp = AlmPrefixMaker(name=g_primstructure.get_formula(), \n",
    "                     kmesh=g_diag.get_array(\"diag\"), \n",
    "                     norder = g_norder.value, \n",
    "                     qmesh=g_qmesh_value )\n",
    "g_prefix_dos = Str(amp.prefix)\n",
    "g_prefix_dos"
   ]
  },
  {
   "cell_type": "code",
   "execution_count": 76,
   "id": "1928e702",
   "metadata": {},
   "outputs": [],
   "source": [
    "g_qmesh = List(list=[10,10,10])"
   ]
  },
  {
   "cell_type": "code",
   "execution_count": 77,
   "id": "40831876",
   "metadata": {
    "scrolled": false
   },
   "outputs": [
    {
     "name": "stdout",
     "output_type": "stream",
     "text": [
      "uuid: a120b95e-3739-43e1-8781-c3566ecb57e4 (pk: 23735) (aiida.calculations:alamode.anphon)\n",
      "wait another 5 sec.\n",
      "wait another 5 sec.\n",
      "wait another 5 sec.\n",
      "wait another 5 sec.\n",
      "wait another 5 sec.\n",
      "True True\n",
      "save phdos 23735\n"
     ]
    }
   ],
   "source": [
    "codename = \"anphon@tutor\"\n",
    "code = Code.get_from_string(codename)\n",
    "\n",
    "builder = code.get_builder()\n",
    "builder.structure = g_primstructure\n",
    "builder.prefix = g_prefix_dos\n",
    "builder.cwd = g_cwd\n",
    "# builder.norder = g_norder\n",
    "builder.fcsxml = g_almoptfuture.outputs.input_ANPHON_file\n",
    "builder.mode = Str(\"phonons\")\n",
    "builder.phonons_mode = Str(\"dos\")\n",
    "builder.qmesh = g_qmesh\n",
    "\n",
    "g_phdosfuture = nodebank.load(\"phdos\",g_force)\n",
    "if g_phdosfuture is None:\n",
    "#if True:\n",
    "    g_phdosfuture = submit(builder)\n",
    "    print(g_phdosfuture)\n",
    "    _wait_for_node_finished(g_phdosfuture, 5)\n",
    "    if g_phdosfuture.is_finished_ok:\n",
    "         nodebank.dump(\"phdos\",g_phdosfuture)"
   ]
  },
  {
   "cell_type": "code",
   "execution_count": 78,
   "id": "92e00835",
   "metadata": {},
   "outputs": [
    {
     "data": {
      "text/plain": [
       "['Si2_k2x2x1_harmonic_q4x4x4.dos']"
      ]
     },
     "execution_count": 78,
     "metadata": {},
     "output_type": "execute_result"
    }
   ],
   "source": [
    "g_phdosfuture.outputs.phdos_file.list_object_names()"
   ]
  },
  {
   "cell_type": "code",
   "execution_count": 79,
   "id": "4e87d260",
   "metadata": {},
   "outputs": [],
   "source": [
    "if False:\n",
    "    @calcfunction\n",
    "    def FolderData_to_filename(outputfiles: FolderData, prefix: Str, mode: Str):\n",
    "        band_filename = f\"{prefix.value}.{mode.value}\"\n",
    "        if band_filename in outputfiles.list_object_names():\n",
    "            return Str(band_filename)\n",
    "        else:\n",
    "            raise ValueError(f\"No band file={band_filename} is found in outputfiles List.\")"
   ]
  },
  {
   "cell_type": "markdown",
   "id": "96c22d42",
   "metadata": {},
   "source": [
    "## band plot"
   ]
  },
  {
   "cell_type": "code",
   "execution_count": 80,
   "id": "e6981967",
   "metadata": {},
   "outputs": [
    {
     "data": {
      "text/plain": [
       "<Str: uuid: 95dacdf4-3666-4673-96ee-e85bdb95b9ac (pk: 23705) value: Si2_k2x2x1_harmonic>"
      ]
     },
     "execution_count": 80,
     "metadata": {},
     "output_type": "execute_result"
    }
   ],
   "source": [
    "g_prefix"
   ]
  },
  {
   "cell_type": "code",
   "execution_count": 81,
   "id": "f80723ce",
   "metadata": {},
   "outputs": [
    {
     "data": {
      "text/plain": [
       "['Si2_k2x2x1_harmonic.bands']"
      ]
     },
     "execution_count": 81,
     "metadata": {},
     "output_type": "execute_result"
    }
   ],
   "source": [
    "g_phbandfuture.outputs.phband_file.list_object_names()"
   ]
  },
  {
   "cell_type": "code",
   "execution_count": 82,
   "id": "ce2b7514",
   "metadata": {},
   "outputs": [
    {
     "name": "stdout",
     "output_type": "stream",
     "text": [
      "{'cwd': <Str: uuid: 1c663691-7ffa-49c3-97e8-b250474f9277 (pk: 23716) value: /home/max/Documents/aiida-test/alamode-aiida/example/run25/property>, 'band_filenames': <SinglefileData: uuid: 11ad874d-1cc5-4f3f-8baf-0cfc1ed4ee7e (pk: 23726)>, 'prefix': <Str: uuid: 95dacdf4-3666-4673-96ee-e85bdb95b9ac (pk: 23705) value: Si2_k2x2x1_harmonic>}\n"
     ]
    }
   ],
   "source": [
    "phbandworkchain = WorkflowFactory('alamode.phband_img')\n",
    "# g_img_filename = Str(f\"{g_prefix.value}_phband.pdf\")\n",
    "g_band_filenames = g_phbandfuture.outputs.phband_file\n",
    "inputs = {\"cwd\": g_cwd, \"band_filenames\": g_band_filenames, \"prefix\": g_prefix}\n",
    "print(inputs)"
   ]
  },
  {
   "cell_type": "code",
   "execution_count": 83,
   "id": "ac2b592d",
   "metadata": {},
   "outputs": [
    {
     "data": {
      "text/plain": [
       "True"
      ]
     },
     "execution_count": 83,
     "metadata": {},
     "output_type": "execute_result"
    }
   ],
   "source": [
    "isinstance(g_band_filenames,SinglefileData)"
   ]
  },
  {
   "cell_type": "code",
   "execution_count": 84,
   "id": "75fd2304",
   "metadata": {
    "scrolled": false
   },
   "outputs": [
    {
     "name": "stdout",
     "output_type": "stream",
     "text": [
      "uuid: 7a0e782e-8f17-48bd-84ba-f9fea429d4e4 (pk: 23743) (aiida.workflows:alamode.phband_img)\n",
      "wait another 2 sec.\n",
      "True True\n",
      "save phbandimg 23743\n"
     ]
    }
   ],
   "source": [
    "phbandimgworkchain = nodebank.load(\"phbandimg\", g_force)\n",
    "if phbandimgworkchain is None:\n",
    "#if True:\n",
    "    phbandimgworkchain = submit(phbandworkchain, **inputs)\n",
    "    print(phbandimgworkchain)\n",
    "    _wait_for_node_finished(phbandimgworkchain)\n",
    "    if phbandimgworkchain.is_finished_ok:\n",
    "         nodebank.dump(\"phbandimg\",phbandimgworkchain)"
   ]
  },
  {
   "cell_type": "code",
   "execution_count": 85,
   "id": "4bd01959",
   "metadata": {},
   "outputs": [
    {
     "data": {
      "text/plain": [
       "<WorkChainNode: uuid: 7a0e782e-8f17-48bd-84ba-f9fea429d4e4 (pk: 23743) (aiida.workflows:alamode.phband_img)>"
      ]
     },
     "execution_count": 85,
     "metadata": {},
     "output_type": "execute_result"
    }
   ],
   "source": [
    "phbandimgworkchain"
   ]
  },
  {
   "cell_type": "code",
   "execution_count": 86,
   "id": "2f7c4df9",
   "metadata": {},
   "outputs": [
    {
     "data": {
      "text/plain": [
       "<SinglefileData: uuid: 3d2f21bd-a439-460c-90ee-0b791e49db2f (pk: 23745)>"
      ]
     },
     "execution_count": 86,
     "metadata": {},
     "output_type": "execute_result"
    }
   ],
   "source": [
    "phbandimgworkchain.outputs.img_file"
   ]
  },
  {
   "cell_type": "markdown",
   "id": "5c07b435",
   "metadata": {},
   "source": [
    "## DOS plot"
   ]
  },
  {
   "cell_type": "code",
   "execution_count": 87,
   "id": "7d2c3586",
   "metadata": {},
   "outputs": [
    {
     "data": {
      "text/plain": [
       "<SinglefileData: uuid: ebcde9ef-f139-4209-8f00-c4ac9085d9f0 (pk: 23738)>"
      ]
     },
     "execution_count": 87,
     "metadata": {},
     "output_type": "execute_result"
    }
   ],
   "source": [
    "g_phdosfuture.outputs.phdos_file"
   ]
  },
  {
   "cell_type": "code",
   "execution_count": 88,
   "id": "2b73784b",
   "metadata": {
    "scrolled": true
   },
   "outputs": [
    {
     "data": {
      "text/html": [
       "<div>\n",
       "<style scoped>\n",
       "    .dataframe tbody tr th:only-of-type {\n",
       "        vertical-align: middle;\n",
       "    }\n",
       "\n",
       "    .dataframe tbody tr th {\n",
       "        vertical-align: top;\n",
       "    }\n",
       "\n",
       "    .dataframe thead th {\n",
       "        text-align: right;\n",
       "    }\n",
       "</style>\n",
       "<table border=\"1\" class=\"dataframe\">\n",
       "  <thead>\n",
       "    <tr style=\"text-align: right;\">\n",
       "      <th></th>\n",
       "      <th>kspacing</th>\n",
       "      <th>na</th>\n",
       "      <th>nb</th>\n",
       "      <th>nc</th>\n",
       "    </tr>\n",
       "  </thead>\n",
       "  <tbody>\n",
       "    <tr>\n",
       "      <th>0</th>\n",
       "      <td>0.100000</td>\n",
       "      <td>4</td>\n",
       "      <td>4</td>\n",
       "      <td>4</td>\n",
       "    </tr>\n",
       "    <tr>\n",
       "      <th>1</th>\n",
       "      <td>0.083378</td>\n",
       "      <td>4</td>\n",
       "      <td>4</td>\n",
       "      <td>4</td>\n",
       "    </tr>\n",
       "    <tr>\n",
       "      <th>2</th>\n",
       "      <td>0.069519</td>\n",
       "      <td>5</td>\n",
       "      <td>5</td>\n",
       "      <td>5</td>\n",
       "    </tr>\n",
       "    <tr>\n",
       "      <th>3</th>\n",
       "      <td>0.057964</td>\n",
       "      <td>6</td>\n",
       "      <td>6</td>\n",
       "      <td>6</td>\n",
       "    </tr>\n",
       "    <tr>\n",
       "      <th>4</th>\n",
       "      <td>0.048329</td>\n",
       "      <td>7</td>\n",
       "      <td>7</td>\n",
       "      <td>7</td>\n",
       "    </tr>\n",
       "    <tr>\n",
       "      <th>5</th>\n",
       "      <td>0.040296</td>\n",
       "      <td>8</td>\n",
       "      <td>8</td>\n",
       "      <td>8</td>\n",
       "    </tr>\n",
       "    <tr>\n",
       "      <th>6</th>\n",
       "      <td>0.033598</td>\n",
       "      <td>10</td>\n",
       "      <td>10</td>\n",
       "      <td>10</td>\n",
       "    </tr>\n",
       "    <tr>\n",
       "      <th>7</th>\n",
       "      <td>0.028014</td>\n",
       "      <td>12</td>\n",
       "      <td>12</td>\n",
       "      <td>12</td>\n",
       "    </tr>\n",
       "    <tr>\n",
       "      <th>8</th>\n",
       "      <td>0.023357</td>\n",
       "      <td>14</td>\n",
       "      <td>14</td>\n",
       "      <td>14</td>\n",
       "    </tr>\n",
       "    <tr>\n",
       "      <th>9</th>\n",
       "      <td>0.019475</td>\n",
       "      <td>17</td>\n",
       "      <td>17</td>\n",
       "      <td>17</td>\n",
       "    </tr>\n",
       "    <tr>\n",
       "      <th>10</th>\n",
       "      <td>0.016238</td>\n",
       "      <td>20</td>\n",
       "      <td>20</td>\n",
       "      <td>20</td>\n",
       "    </tr>\n",
       "    <tr>\n",
       "      <th>11</th>\n",
       "      <td>0.013539</td>\n",
       "      <td>24</td>\n",
       "      <td>24</td>\n",
       "      <td>24</td>\n",
       "    </tr>\n",
       "    <tr>\n",
       "      <th>12</th>\n",
       "      <td>0.011288</td>\n",
       "      <td>29</td>\n",
       "      <td>29</td>\n",
       "      <td>29</td>\n",
       "    </tr>\n",
       "    <tr>\n",
       "      <th>13</th>\n",
       "      <td>0.009412</td>\n",
       "      <td>34</td>\n",
       "      <td>34</td>\n",
       "      <td>34</td>\n",
       "    </tr>\n",
       "    <tr>\n",
       "      <th>14</th>\n",
       "      <td>0.007848</td>\n",
       "      <td>41</td>\n",
       "      <td>41</td>\n",
       "      <td>41</td>\n",
       "    </tr>\n",
       "    <tr>\n",
       "      <th>15</th>\n",
       "      <td>0.006543</td>\n",
       "      <td>49</td>\n",
       "      <td>49</td>\n",
       "      <td>49</td>\n",
       "    </tr>\n",
       "    <tr>\n",
       "      <th>16</th>\n",
       "      <td>0.005456</td>\n",
       "      <td>59</td>\n",
       "      <td>59</td>\n",
       "      <td>59</td>\n",
       "    </tr>\n",
       "    <tr>\n",
       "      <th>17</th>\n",
       "      <td>0.004549</td>\n",
       "      <td>71</td>\n",
       "      <td>71</td>\n",
       "      <td>71</td>\n",
       "    </tr>\n",
       "    <tr>\n",
       "      <th>18</th>\n",
       "      <td>0.003793</td>\n",
       "      <td>85</td>\n",
       "      <td>85</td>\n",
       "      <td>85</td>\n",
       "    </tr>\n",
       "    <tr>\n",
       "      <th>19</th>\n",
       "      <td>0.003162</td>\n",
       "      <td>101</td>\n",
       "      <td>101</td>\n",
       "      <td>101</td>\n",
       "    </tr>\n",
       "  </tbody>\n",
       "</table>\n",
       "</div>"
      ],
      "text/plain": [
       "    kspacing   na   nb   nc\n",
       "0   0.100000    4    4    4\n",
       "1   0.083378    4    4    4\n",
       "2   0.069519    5    5    5\n",
       "3   0.057964    6    6    6\n",
       "4   0.048329    7    7    7\n",
       "5   0.040296    8    8    8\n",
       "6   0.033598   10   10   10\n",
       "7   0.028014   12   12   12\n",
       "8   0.023357   14   14   14\n",
       "9   0.019475   17   17   17\n",
       "10  0.016238   20   20   20\n",
       "11  0.013539   24   24   24\n",
       "12  0.011288   29   29   29\n",
       "13  0.009412   34   34   34\n",
       "14  0.007848   41   41   41\n",
       "15  0.006543   49   49   49\n",
       "16  0.005456   59   59   59\n",
       "17  0.004549   71   71   71\n",
       "18  0.003793   85   85   85\n",
       "19  0.003162  101  101  101"
      ]
     },
     "execution_count": 88,
     "metadata": {},
     "output_type": "execute_result"
    }
   ],
   "source": [
    "from alamode_aiida.alm_input import make_kspacing_kmeshlist, make_alm_uniform_kmesh\n",
    "make_kspacing_kmeshlist(g_primstructure.get_ase())"
   ]
  },
  {
   "cell_type": "code",
   "execution_count": 89,
   "id": "33f48ebc",
   "metadata": {},
   "outputs": [
    {
     "data": {
      "text/plain": [
       "<Str: uuid: f3b804f9-39e5-4bdd-90d8-bcaa9c227295 (pk: 23728) value: Si2_k2x2x1_harmonic_q4x4x4>"
      ]
     },
     "execution_count": 89,
     "metadata": {},
     "output_type": "execute_result"
    }
   ],
   "source": [
    "g_prefix_dos"
   ]
  },
  {
   "cell_type": "code",
   "execution_count": 90,
   "id": "73032452",
   "metadata": {
    "scrolled": false
   },
   "outputs": [
    {
     "name": "stdout",
     "output_type": "stream",
     "text": [
      "{'cwd': <Str: uuid: 1c663691-7ffa-49c3-97e8-b250474f9277 (pk: 23716) value: /home/max/Documents/aiida-test/alamode-aiida/example/run25/property>, 'dos_filenames': <SinglefileData: uuid: ebcde9ef-f139-4209-8f00-c4ac9085d9f0 (pk: 23738)>, 'prefix': <Str: uuid: f3b804f9-39e5-4bdd-90d8-bcaa9c227295 (pk: 23728) value: Si2_k2x2x1_harmonic_q4x4x4>}\n",
      "uuid: 46b8fbf0-e1b3-4e34-b72c-acb5364f91a4 (pk: 23748) (aiida.workflows:alamode.phdos_img)\n",
      "wait another 2 sec.\n",
      "True True\n",
      "save phdosimg 23748\n"
     ]
    }
   ],
   "source": [
    "\n",
    "phdosworkchain = WorkflowFactory('alamode.phdos_img')\n",
    "\n",
    "inputs = {\"cwd\": g_cwd, \"dos_filenames\": g_phdosfuture.outputs.phdos_file,\n",
    "          \"prefix\": g_prefix_dos}\n",
    "print(inputs)\n",
    "\n",
    "g_dosfuture = nodebank.load(\"phdosimg\", g_force)\n",
    "if g_dosfuture is None:\n",
    "#if True:\n",
    "    g_dosfuture = submit(phdosworkchain, **inputs)\n",
    "    print(g_dosfuture)\n",
    "    _wait_for_node_finished(g_dosfuture)\n",
    "    if g_dosfuture.is_finished_ok:\n",
    "        nodebank.dump(\"phdosimg\",g_dosfuture)\n"
   ]
  },
  {
   "cell_type": "code",
   "execution_count": 91,
   "id": "89b9f9b5",
   "metadata": {},
   "outputs": [
    {
     "data": {
      "text/plain": [
       "{'filename': 'Si2_k2x2x1_harmonic_q4x4x4_phdos.pdf'}"
      ]
     },
     "execution_count": 91,
     "metadata": {},
     "output_type": "execute_result"
    }
   ],
   "source": [
    "g_dosfuture.outputs.img_file.attributes"
   ]
  },
  {
   "cell_type": "markdown",
   "id": "5dfae275",
   "metadata": {},
   "source": [
    "## thermo plot"
   ]
  },
  {
   "cell_type": "code",
   "execution_count": 92,
   "id": "e5ade0a6",
   "metadata": {},
   "outputs": [
    {
     "data": {
      "text/plain": [
       "<Str: uuid: f3b804f9-39e5-4bdd-90d8-bcaa9c227295 (pk: 23728) value: Si2_k2x2x1_harmonic_q4x4x4>"
      ]
     },
     "execution_count": 92,
     "metadata": {},
     "output_type": "execute_result"
    }
   ],
   "source": [
    "g_prefix_dos"
   ]
  },
  {
   "cell_type": "code",
   "execution_count": 93,
   "id": "9b92c5bb",
   "metadata": {
    "scrolled": false
   },
   "outputs": [
    {
     "name": "stdout",
     "output_type": "stream",
     "text": [
      "uuid: 9018e5c5-2041-422c-a0b1-cd2bcbe3b4c4 (pk: 23753) (aiida.workflows:alamode.freeenergy_img)\n",
      "wait another 2 sec.\n",
      "True True\n",
      "save freeenergyimg 23753\n"
     ]
    }
   ],
   "source": [
    "FreeenergyImgWorkChain = WorkflowFactory(\"alamode.freeenergy_img\")            \n",
    "g_img_filename = Str(\"phdos_freeenergy.pdf\")\n",
    "g_inputs = {'cwd': g_cwd,'prefix': g_prefix_dos, \n",
    "            'thermo_file': g_phdosfuture.outputs.thermo_file}\n",
    "\n",
    "freeenergyimgfuture = nodebank.load(\"freeenergyimg\", g_force)\n",
    "if freeenergyimgfuture is None:\n",
    "#if True:   \n",
    "    freeenergyimgfuture = submit(FreeenergyImgWorkChain, **g_inputs)\n",
    "    print(freeenergyimgfuture)\n",
    "    _wait_for_node_finished(freeenergyimgfuture)\n",
    "    if freeenergyimgfuture.is_finished_ok:\n",
    "        nodebank.dump(\"freeenergyimg\",freeenergyimgfuture)\n"
   ]
  },
  {
   "cell_type": "code",
   "execution_count": 94,
   "id": "95c84198",
   "metadata": {},
   "outputs": [
    {
     "data": {
      "text/plain": [
       "['Si2_k2x2x1_harmonic_q4x4x4_phfreeenergy.pdf']"
      ]
     },
     "execution_count": 94,
     "metadata": {},
     "output_type": "execute_result"
    }
   ],
   "source": [
    "freeenergyimgfuture.outputs.img_file.list_object_names()"
   ]
  },
  {
   "cell_type": "code",
   "execution_count": 95,
   "id": "342c2f35",
   "metadata": {},
   "outputs": [
    {
     "data": {
      "text/plain": [
       "<WorkChainNode: uuid: 9018e5c5-2041-422c-a0b1-cd2bcbe3b4c4 (pk: 23753) (aiida.workflows:alamode.freeenergy_img)>"
      ]
     },
     "execution_count": 95,
     "metadata": {},
     "output_type": "execute_result"
    }
   ],
   "source": [
    "freeenergyimgfuture"
   ]
  },
  {
   "cell_type": "markdown",
   "id": "77a39216",
   "metadata": {},
   "source": [
    "# cubic term\n"
   ]
  },
  {
   "cell_type": "markdown",
   "id": "45a2ffc7",
   "metadata": {},
   "source": [
    "## alm suggest"
   ]
  },
  {
   "cell_type": "code",
   "execution_count": 96,
   "id": "99ec7425",
   "metadata": {},
   "outputs": [
    {
     "name": "stdout",
     "output_type": "stream",
     "text": [
      "save norder2_suggest 23756\n"
     ]
    }
   ],
   "source": [
    "key = 'norder2_suggest'\n",
    "g_norder = nodebank.load(key)\n",
    "if g_norder is None:\n",
    "    g_norder = Int(2)\n",
    "    nodebank.dump(key, g_norder)"
   ]
  },
  {
   "cell_type": "code",
   "execution_count": 97,
   "id": "d01b8dbb",
   "metadata": {},
   "outputs": [
    {
     "name": "stdout",
     "output_type": "stream",
     "text": [
      "save cutoff2 23757\n"
     ]
    }
   ],
   "source": [
    "key = \"cutoff2\"\n",
    "g_cutoff = nodebank.load(key)\n",
    "if g_cutoff is None:\n",
    "#if True:\n",
    "    g_cutoff = Dict(dict={\"Si-Si\": {None, 7.3}})\n",
    "    nodebank.dump(key, g_cutoff)"
   ]
  },
  {
   "cell_type": "code",
   "execution_count": 98,
   "id": "28d855b6",
   "metadata": {},
   "outputs": [
    {
     "data": {
      "text/plain": [
       "{'Si-Si': [None, 7.3]}"
      ]
     },
     "execution_count": 98,
     "metadata": {},
     "output_type": "execute_result"
    }
   ],
   "source": [
    "g_cutoff.attributes"
   ]
  },
  {
   "cell_type": "code",
   "execution_count": 152,
   "id": "49018a66",
   "metadata": {},
   "outputs": [
    {
     "name": "stdout",
     "output_type": "stream",
     "text": [
      "uuid: 77ccf5b7-c5d5-49a8-8f83-0dc704ea8bc9 (unstored) value: /home/max/Documents/aiida-test/alamode-aiida/example/run25/Si2_k2x2x1_cubic\n"
     ]
    }
   ],
   "source": [
    "almp = AlmPathMaker(name=g_primstructure.get_formula(),\n",
    "                      kmesh=g_diag.get_array(\"diag\"),\n",
    "                   norder = g_norder)\n",
    "\n",
    "g_cwd = Str(os.path.join(g_root_wd.value, almp.prefix))\n",
    "os.makedirs(g_cwd.value, exist_ok=True)\n",
    "print(g_cwd)"
   ]
  },
  {
   "cell_type": "code",
   "execution_count": 100,
   "id": "f1a7e0d9",
   "metadata": {},
   "outputs": [
    {
     "name": "stdout",
     "output_type": "stream",
     "text": [
      "uuid: 147e7768-4b3b-4c4e-9e02-96cca115368f (pk: 23764) (aiida.calculations:alamode.alm)\n",
      "wait another 5 sec.\n",
      "wait another 5 sec.\n",
      "wait another 5 sec.\n",
      "wait another 5 sec.\n",
      "wait another 5 sec.\n",
      "True True\n",
      "save alm_suggest_cubic 23764\n"
     ]
    }
   ],
   "source": [
    "codename = \"alm@tutor\"\n",
    "code = Code.get_from_string(codename)\n",
    "\n",
    "builder = code.get_builder()\n",
    "builder.structure = g_aiida_structure\n",
    "#builder.prefix = g_prefix\n",
    "builder.mode = Str(\"suggest\")\n",
    "builder.cwd = g_cwd\n",
    "builder.norder = g_norder\n",
    "builder.cutoff = g_cutoff\n",
    "\n",
    "builder.metadata = {\n",
    "        'options': {\n",
    "           'resources': {'tot_num_mpiprocs': 1, 'num_machines': 1}\n",
    "        } }\n",
    "\n",
    "key = \"alm_suggest_cubic\"\n",
    "g_alm_suggest_future = nodebank.load(key,g_force)\n",
    "if g_alm_suggest_future is None: \n",
    "#if True:    \n",
    "    g_alm_suggest_future = submit(builder) # temporary run(), use submit()\n",
    "    print(g_alm_suggest_future)\n",
    "    _wait_for_node_finished(g_alm_suggest_future, 5)\n",
    "    if g_alm_suggest_future.is_finished_ok:\n",
    "        nodebank.dump(key,g_alm_suggest_future)\n"
   ]
  },
  {
   "cell_type": "code",
   "execution_count": 101,
   "id": "1f7d2111",
   "metadata": {},
   "outputs": [
    {
     "data": {
      "text/plain": [
       "['alamode.pattern_ANHARM3', 'alamode.pattern_HARMONIC']"
      ]
     },
     "execution_count": 101,
     "metadata": {},
     "output_type": "execute_result"
    }
   ],
   "source": [
    "g_alm_suggest_future.outputs.pattern_folder.list_object_names()"
   ]
  },
  {
   "cell_type": "markdown",
   "id": "d0cacb26",
   "metadata": {},
   "source": [
    "## displace"
   ]
  },
  {
   "cell_type": "code",
   "execution_count": 103,
   "id": "f9afe985",
   "metadata": {},
   "outputs": [
    {
     "name": "stdout",
     "output_type": "stream",
     "text": [
      "load mag_cubic 23769\n"
     ]
    }
   ],
   "source": [
    "key = \"mag_cubic\"\n",
    "g_mag = nodebank.load(key, g_force)\n",
    "if g_mag is None:\n",
    "    g_mag = Float(0.04)\n",
    "    nodebank.dump(key, g_mag)"
   ]
  },
  {
   "cell_type": "code",
   "execution_count": 104,
   "id": "39cbde8c",
   "metadata": {},
   "outputs": [
    {
     "name": "stdout",
     "output_type": "stream",
     "text": [
      "{'pattern1': <FolderData: uuid: 733f3af8-3d94-4b70-8d49-e76bfbabee70 (pk: 23768)>}\n",
      "save cubic_pattern_file 23771\n"
     ]
    }
   ],
   "source": [
    "@calcfunction\n",
    "def _pack_cubic_pattern_files(**kwargs):\n",
    "    print(kwargs)\n",
    "    result = []\n",
    "    for _, folder in kwargs.items():\n",
    "        for filename in folder.list_object_names():\n",
    "            if fnmatch(filename,\"*.pattern_ANHARM3\"):\n",
    "                result.append(filename)\n",
    "    return Dict(dict={'pattern_files':result})\n",
    "\n",
    "inputs = {\n",
    "    \"pattern1\": g_alm_suggest_future.outputs.pattern_folder\n",
    "}\n",
    "\n",
    "key = \"cubic_pattern_file\"\n",
    "g_pattern_files = nodebank.load(key,g_force)\n",
    "#if g_pattern_files is None:\n",
    "if True:\n",
    "    g_pattern_files = _pack_cubic_pattern_files(**inputs)\n",
    "    nodebank.dump(key,g_pattern_files)"
   ]
  },
  {
   "cell_type": "code",
   "execution_count": 105,
   "id": "a1650df2",
   "metadata": {},
   "outputs": [
    {
     "data": {
      "text/plain": [
       "<Int: uuid: 91697a90-f4d4-4821-822d-022de1b80f6b (pk: 23756) value: 2>"
      ]
     },
     "execution_count": 105,
     "metadata": {},
     "output_type": "execute_result"
    }
   ],
   "source": [
    "g_norder"
   ]
  },
  {
   "cell_type": "code",
   "execution_count": 106,
   "id": "97056f20",
   "metadata": {
    "scrolled": false
   },
   "outputs": [
    {
     "name": "stdout",
     "output_type": "stream",
     "text": [
      "uuid: 5308559d-93b5-46b5-8484-b438d0d409a5 (pk: 23773) (aiida.calculations:alamode.displace)\n",
      "wait another 2 sec.\n",
      "wait another 2 sec.\n",
      "wait another 2 sec.\n",
      "wait another 2 sec.\n",
      "wait another 2 sec.\n",
      "wait another 2 sec.\n",
      "wait another 2 sec.\n",
      "wait another 2 sec.\n",
      "wait another 2 sec.\n",
      "wait another 2 sec.\n",
      "wait another 2 sec.\n",
      "True True\n",
      "save displace_cubic 23773\n"
     ]
    }
   ],
   "source": [
    "codename = \"alamode.displace@tutor\"\n",
    "code = Code.get_from_string(codename)\n",
    "\n",
    "builder = code.get_builder()\n",
    "builder.format = g_format\n",
    "builder.cwd = g_cwd\n",
    "builder.norder = g_norder\n",
    "builder.structure_org = g_QEinput\n",
    "# builder.start_id = g_disp_start_id\n",
    "builder.mag = g_mag\n",
    "builder.pattern_files = g_pattern_files\n",
    "\n",
    "key = \"displace_cubic\"\n",
    "g_displacefuture = nodebank.load(key, g_force)\n",
    "if g_displacefuture is None:\n",
    "#if True:\n",
    "    g_displacefuture = submit(builder)\n",
    "    print(g_displacefuture)\n",
    "    _wait_for_node_finished(g_displacefuture)\n",
    "    if g_displacefuture.is_finished_ok:\n",
    "        nodebank.dump(key, g_displacefuture)"
   ]
  },
  {
   "cell_type": "code",
   "execution_count": 107,
   "id": "fca10b6c",
   "metadata": {},
   "outputs": [
    {
     "data": {
      "text/plain": [
       "['disp01.pw.in',\n",
       " 'disp02.pw.in',\n",
       " 'disp03.pw.in',\n",
       " 'disp04.pw.in',\n",
       " 'disp05.pw.in',\n",
       " 'disp06.pw.in',\n",
       " 'disp07.pw.in',\n",
       " 'disp08.pw.in',\n",
       " 'disp09.pw.in',\n",
       " 'disp10.pw.in',\n",
       " 'disp11.pw.in',\n",
       " 'disp12.pw.in',\n",
       " 'disp13.pw.in',\n",
       " 'disp14.pw.in',\n",
       " 'disp15.pw.in',\n",
       " 'disp16.pw.in',\n",
       " 'disp17.pw.in',\n",
       " 'disp18.pw.in',\n",
       " 'disp19.pw.in',\n",
       " 'disp20.pw.in',\n",
       " 'disp21.pw.in',\n",
       " 'disp22.pw.in',\n",
       " 'disp23.pw.in',\n",
       " 'disp24.pw.in',\n",
       " 'disp25.pw.in',\n",
       " 'disp26.pw.in',\n",
       " 'disp27.pw.in',\n",
       " 'disp28.pw.in',\n",
       " 'disp29.pw.in',\n",
       " 'disp30.pw.in',\n",
       " 'disp31.pw.in',\n",
       " 'disp32.pw.in',\n",
       " 'disp33.pw.in',\n",
       " 'disp34.pw.in',\n",
       " 'disp35.pw.in']"
      ]
     },
     "execution_count": 107,
     "metadata": {},
     "output_type": "execute_result"
    }
   ],
   "source": [
    "g_displacefuture.outputs.dispfile_folder.list_object_names()"
   ]
  },
  {
   "cell_type": "code",
   "execution_count": 108,
   "id": "d244749a",
   "metadata": {},
   "outputs": [
    {
     "data": {
      "text/plain": [
       "<Str: uuid: 213409d3-d69d-4d9a-a23f-23668ac9c46c (pk: 23759) value: /home/max/Documents/aiida-test/alamode-aiida/example/run25/Si2_k2x2x1_cubic>"
      ]
     },
     "execution_count": 108,
     "metadata": {},
     "output_type": "execute_result"
    }
   ],
   "source": [
    "g_cwd"
   ]
  },
  {
   "cell_type": "markdown",
   "id": "bab66225",
   "metadata": {},
   "source": [
    "## pw all"
   ]
  },
  {
   "cell_type": "code",
   "execution_count": 109,
   "id": "d764b12d",
   "metadata": {
    "scrolled": true
   },
   "outputs": [],
   "source": [
    "if False: # don't run it. Too heavy.\n",
    "    g_alldisp_pwx = WorkflowFactory(\"alamode.dispall_pwx\")\n",
    "\n",
    "    # g_code_str = Str(\"alamode.pwx@mygarden1\")\n",
    "\n",
    "    key = \"dispall_cubic\"\n",
    "    g_pwx_all_future = nodebank.load(key, g_force)\n",
    "    if g_pwx_all_future is None:\n",
    "        g_pwx_all_future = run(g_alldisp_pwx, \n",
    "                    pwx_input_folder=g_displacefuture.outputs.dispfile_folder, \n",
    "                    code_string = g_codelist, \n",
    "                    cwd=g_cwd, norder=g_norder)\n",
    "        print(g_pwx_all_future)\n",
    "        _wait_for_node_finished(g_pwx_all_future, 10)\n",
    "        if g_pwx_all_future.is_finished_ok:\n",
    "            nodebank.dump(key, g_pwx_all_future)\n"
   ]
  },
  {
   "cell_type": "markdown",
   "id": "f4064dc9",
   "metadata": {},
   "source": [
    "## alm opt norder=2\n",
    "\n",
    "restarting from tutorial/Si sample\n",
    "\n",
    "*please copy DFSET_cubic from Si/reference*"
   ]
  },
  {
   "cell_type": "code",
   "execution_count": 113,
   "id": "cb5519ac",
   "metadata": {
    "scrolled": true
   },
   "outputs": [
    {
     "data": {
      "text/plain": [
       "<Str: uuid: 213409d3-d69d-4d9a-a23f-23668ac9c46c (pk: 23759) value: /home/max/Documents/aiida-test/alamode-aiida/example/run25/Si2_k2x2x1_cubic>"
      ]
     },
     "execution_count": 113,
     "metadata": {},
     "output_type": "execute_result"
    }
   ],
   "source": [
    "g_cwd"
   ]
  },
  {
   "cell_type": "code",
   "execution_count": 114,
   "id": "f4de516e",
   "metadata": {},
   "outputs": [
    {
     "data": {
      "text/plain": [
       "<Int: uuid: 91697a90-f4d4-4821-822d-022de1b80f6b (pk: 23756) value: 2>"
      ]
     },
     "execution_count": 114,
     "metadata": {},
     "output_type": "execute_result"
    }
   ],
   "source": [
    "g_norder"
   ]
  },
  {
   "cell_type": "code",
   "execution_count": 115,
   "id": "1e949726",
   "metadata": {},
   "outputs": [
    {
     "data": {
      "text/plain": [
       "<SinglefileData: uuid: b2907643-09af-44a8-8ad6-359508284a51 (unstored)>"
      ]
     },
     "execution_count": 115,
     "metadata": {},
     "output_type": "execute_result"
    }
   ],
   "source": [
    "g_DFSET_file = SinglefileData(os.path.join(g_cwd.value,\"DFSET_cubic\"))\n",
    "g_DFSET_file"
   ]
  },
  {
   "cell_type": "code",
   "execution_count": 156,
   "id": "6d447635",
   "metadata": {},
   "outputs": [],
   "source": [
    "amp = AlmPrefixMaker(name=g_primstructure.get_formula(), \n",
    "                     kmesh=g_diag.get_array(\"diag\"), \n",
    "                     norder=g_norder.value )\n",
    "g_prefix =Str(amp.prefix)\n"
   ]
  },
  {
   "cell_type": "code",
   "execution_count": 117,
   "id": "57406604",
   "metadata": {
    "scrolled": false
   },
   "outputs": [
    {
     "name": "stdout",
     "output_type": "stream",
     "text": [
      "uuid: d50c8718-e85d-4765-9532-2f113e61eedd (pk: 23783) (aiida.calculations:alamode.alm)\n",
      "wait another 5 sec.\n",
      "wait another 5 sec.\n",
      "wait another 5 sec.\n",
      "wait another 5 sec.\n",
      "wait another 5 sec.\n",
      "wait another 5 sec.\n",
      "wait another 5 sec.\n",
      "wait another 5 sec.\n",
      "wait another 5 sec.\n",
      "wait another 5 sec.\n",
      "wait another 5 sec.\n",
      "True True\n",
      "save almopt_cubic 23783\n"
     ]
    }
   ],
   "source": [
    "codename = \"alm@tutor\"\n",
    "code = Code.get_from_string(codename)\n",
    "\n",
    "builder = code.get_builder()\n",
    "builder.structure = g_aiida_structure\n",
    "builder.prefix = g_prefix\n",
    "builder.cwd = g_cwd\n",
    "builder.mode = Str(\"opt\")\n",
    "builder.norder = g_norder\n",
    "builder.dfset_file = g_DFSET_file\n",
    "builder.fc2xml_file =  g_almoptfuture.outputs.input_ANPHON_file\n",
    "\n",
    "key = \"almopt_cubic\"\n",
    "g_almopt2future = nodebank.load(key,g_force)\n",
    "\n",
    "if g_almopt2future is None:\n",
    "#if True:\n",
    "    g_almopt2future = submit(builder)\n",
    "    print(g_almopt2future)\n",
    "    _wait_for_node_finished(g_almopt2future, 5)\n",
    "    if g_almopt2future.is_finished_ok:\n",
    "        nodebank.dump(key, g_almopt2future)\n"
   ]
  },
  {
   "cell_type": "code",
   "execution_count": 118,
   "id": "55009fde",
   "metadata": {},
   "outputs": [
    {
     "name": "stdout",
     "output_type": "stream",
     "text": [
      "\u001b[34m\u001b[1mInfo: \u001b[0m\u001b[22mInitiating graphviz engine: dot\u001b[0m\n",
      "\u001b[34m\u001b[1mInfo: \u001b[0m\u001b[22mRecursing ancestors, max depth=None\u001b[0m\n",
      "\u001b[34m\u001b[1mInfo: \u001b[0m\u001b[22mRecursing descendants, max depth=None\u001b[0m\n",
      "\u001b[32m\u001b[1mSuccess: \u001b[0m\u001b[22mOutput file: 23783.dot.pdf\u001b[0m\n"
     ]
    }
   ],
   "source": [
    "if True:\n",
    "    ! verdi node graph generate $g_almopt2future.pk"
   ]
  },
  {
   "cell_type": "code",
   "execution_count": 119,
   "id": "805373f7",
   "metadata": {},
   "outputs": [
    {
     "data": {
      "text/plain": [
       "{'constraint': {'constraint_T-inv': 2,\n",
       "  'num_free_HARMINC_FCs': 0,\n",
       "  'constraint_R-inv_self': 0,\n",
       "  'constraint_R-inv_cross': 0,\n",
       "  'inqeuv_constraint_self': 2,\n",
       "  'inqeuv_constraint_cross': 0},\n",
       " 'outputfiles': {'input_ANPHON': 'Si2_k2x2x1_cubic.xml',\n",
       "  'force_constants': 'Si2_k2x2x1_cubic.fcs'},\n",
       " 'optimization': {'LMODEL': 'least-squares',\n",
       "  'num_param': 621,\n",
       "  'num_free_param': 548}}"
      ]
     },
     "execution_count": 119,
     "metadata": {},
     "output_type": "execute_result"
    }
   ],
   "source": [
    "g_almopt2future.outputs.result.attributes"
   ]
  },
  {
   "cell_type": "code",
   "execution_count": 120,
   "id": "9dd8c8a0",
   "metadata": {},
   "outputs": [
    {
     "data": {
      "text/plain": [
       "<SinglefileData: uuid: bbb32eed-677d-4972-a44c-5cb2e3a4930e (pk: 23787)>"
      ]
     },
     "execution_count": 120,
     "metadata": {},
     "output_type": "execute_result"
    }
   ],
   "source": [
    "g_almopt2future.outputs.force_constants_file"
   ]
  },
  {
   "cell_type": "code",
   "execution_count": 121,
   "id": "c4110987",
   "metadata": {},
   "outputs": [
    {
     "data": {
      "text/plain": [
       "<SinglefileData: uuid: f36053e3-5e23-4926-bed6-3021a8aed677 (pk: 23786)>"
      ]
     },
     "execution_count": 121,
     "metadata": {},
     "output_type": "execute_result"
    }
   ],
   "source": [
    "g_almopt2future.outputs.input_ANPHON_file"
   ]
  },
  {
   "cell_type": "markdown",
   "id": "8160caa1",
   "metadata": {},
   "source": [
    "# analysis"
   ]
  },
  {
   "cell_type": "markdown",
   "id": "ef399b3f",
   "metadata": {},
   "source": [
    "## thermal conductivity\n"
   ]
  },
  {
   "cell_type": "code",
   "execution_count": 122,
   "id": "6d6cb4eb",
   "metadata": {},
   "outputs": [
    {
     "data": {
      "text/plain": [
       "<Str: uuid: 1e795ab7-38d5-437d-9ed4-20fd1e83503e (unstored) value: Si2_k2x2x1_cubic_q5x5x5>"
      ]
     },
     "execution_count": 122,
     "metadata": {},
     "output_type": "execute_result"
    }
   ],
   "source": [
    "g_qmesh = [5,5,5,]\n",
    "almp = AlmPrefixMaker(name=g_primstructure.get_formula(),\n",
    "                      kmesh=g_diag.get_array(\"diag\"),\n",
    "                      norder=g_norder.value,\n",
    "                      qmesh = g_qmesh)\n",
    "g_prefix = Str(almp.prefix)\n",
    "g_prefix"
   ]
  },
  {
   "cell_type": "code",
   "execution_count": 123,
   "id": "47f1d92c",
   "metadata": {},
   "outputs": [
    {
     "data": {
      "text/plain": [
       "['Si2_k2x2x1_cubic.xml']"
      ]
     },
     "execution_count": 123,
     "metadata": {},
     "output_type": "execute_result"
    }
   ],
   "source": [
    "g_almopt2future.outputs.input_ANPHON_file.list_object_names()"
   ]
  },
  {
   "cell_type": "code",
   "execution_count": 124,
   "id": "f4535603",
   "metadata": {},
   "outputs": [
    {
     "data": {
      "text/plain": [
       "<Str: uuid: eea9ba45-39e9-4df6-88e7-aedeb003863f (unstored) value: /home/max/Documents/aiida-test/alamode-aiida/example/run25/property>"
      ]
     },
     "execution_count": 124,
     "metadata": {},
     "output_type": "execute_result"
    }
   ],
   "source": [
    "g_cwd = Str(os.path.join(g_root_wd.value, \"property\"))\n",
    "g_cwd"
   ]
  },
  {
   "cell_type": "code",
   "execution_count": 125,
   "id": "8a22b45f",
   "metadata": {
    "scrolled": false
   },
   "outputs": [
    {
     "name": "stdout",
     "output_type": "stream",
     "text": [
      "uuid: 575d0a5a-aa51-4d8c-bf17-33c944f515c9 (pk: 23796) (aiida.calculations:alamode.anphon)\n",
      "wait another 5 sec.\n",
      "wait another 5 sec.\n",
      "wait another 5 sec.\n",
      "wait another 5 sec.\n",
      "wait another 5 sec.\n",
      "wait another 5 sec.\n",
      "wait another 5 sec.\n",
      "wait another 5 sec.\n",
      "True True\n",
      "save RTA 23796\n"
     ]
    }
   ],
   "source": [
    "codename = \"anphon@tutor\"\n",
    "code = Code.get_from_string(codename)\n",
    "\n",
    "builder = code.get_builder()\n",
    "builder.structure = g_primstructure\n",
    "builder.prefix = g_prefix\n",
    "builder.cwd = g_cwd\n",
    "builder.norder = g_norder\n",
    "builder.fcsxml = g_almopt2future.outputs.input_ANPHON_file\n",
    "builder.mode = Str(\"RTA\")\n",
    "#builder.kparam = Dict(dict={\"kspacing\": 0.1})\n",
    "builder.qmesh = List(list=g_qmesh)\n",
    "\n",
    "key = \"RTA\"\n",
    "g_RTAfuture = nodebank.load(key,g_force)\n",
    "#if g_RTAfuture is None:   \n",
    "if True:\n",
    "    g_RTAfuture = submit(builder)\n",
    "    print(g_RTAfuture)\n",
    "    _wait_for_node_finished(g_RTAfuture, 5)\n",
    "    if g_RTAfuture.is_finished_ok:\n",
    "         nodebank.dump(key,g_RTAfuture)\n"
   ]
  },
  {
   "cell_type": "code",
   "execution_count": 126,
   "id": "d19e1742",
   "metadata": {},
   "outputs": [],
   "source": [
    "import pandas as pd"
   ]
  },
  {
   "cell_type": "code",
   "execution_count": 127,
   "id": "142161dc",
   "metadata": {},
   "outputs": [
    {
     "data": {
      "text/plain": [
       "<SinglefileData: uuid: 05a1773e-cd29-42fd-96e0-ed50d49c1a32 (pk: 23800)>"
      ]
     },
     "execution_count": 127,
     "metadata": {},
     "output_type": "execute_result"
    }
   ],
   "source": [
    "g_RTAfuture.outputs.kl_file"
   ]
  },
  {
   "cell_type": "code",
   "execution_count": 128,
   "id": "14c158a4",
   "metadata": {},
   "outputs": [
    {
     "name": "stderr",
     "output_type": "stream",
     "text": [
      "findfont: Font family ['Times New Roman'] not found. Falling back to DejaVu Sans.\n",
      "findfont: Font family ['Times New Roman'] not found. Falling back to DejaVu Sans.\n",
      "findfont: Font family ['Times New Roman'] not found. Falling back to DejaVu Sans.\n"
     ]
    },
    {
     "data": {
      "image/png": "[encoded data removed]",
      "text/plain": [
       "<Figure size 432x288 with 1 Axes>"
      ]
     },
     "metadata": {
      "needs_background": "light"
     },
     "output_type": "display_data"
    }
   ],
   "source": [
    "g_df = load_anphon_kl(g_RTAfuture.outputs.kl_file)\n",
    "g_df.plot(x=\"Temperature [K]\", y=\"Thermal Conductivity_xx [W/mK]\")\n",
    "import matplotlib.pyplot as plt\n",
    "plt.xscale(\"log\")"
   ]
  },
  {
   "cell_type": "code",
   "execution_count": 129,
   "id": "b48fec68",
   "metadata": {},
   "outputs": [],
   "source": [
    "import re\n",
    "import pandas as pd\n"
   ]
  },
  {
   "cell_type": "code",
   "execution_count": 130,
   "id": "98654d4e",
   "metadata": {},
   "outputs": [
    {
     "data": {
      "text/plain": [
       "<SinglefileData: uuid: c7f385d4-fd7f-4928-860d-b0a6ac769372 (pk: 23799)>"
      ]
     },
     "execution_count": 130,
     "metadata": {},
     "output_type": "execute_result"
    }
   ],
   "source": [
    "g_RTAfuture.outputs.result_file"
   ]
  },
  {
   "cell_type": "code",
   "execution_count": 131,
   "id": "d2ed7145",
   "metadata": {},
   "outputs": [
    {
     "name": "stdout",
     "output_type": "stream",
     "text": [
      "{'temp': None, 'mode': None, 'kpoint': None, 'calc': 'kappa_boundary', 'isotope': None, 'average_gamma': True, 'size': '1e+6', 'length': None, 'direction': None}\n"
     ]
    }
   ],
   "source": [
    "class analzePhononOptions:\n",
    "    def __init__(self, **kwargs):\n",
    "        self.options= {'temp': None, 'mode': None, 'kpoint': None, \n",
    "'calc': 'kappa_boundary', 'isotope': None, 'average_gamma': True, \n",
    "'size': '1e+6', 'length': None, 'direction': None}\n",
    "\n",
    "a = analzePhononOptions()\n",
    "print(a.options)"
   ]
  },
  {
   "cell_type": "code",
   "execution_count": 132,
   "id": "d10933d5",
   "metadata": {},
   "outputs": [
    {
     "data": {
      "text/plain": [
       "<Str: uuid: 1e795ab7-38d5-437d-9ed4-20fd1e83503e (pk: 23789) value: Si2_k2x2x1_cubic_q5x5x5>"
      ]
     },
     "execution_count": 132,
     "metadata": {},
     "output_type": "execute_result"
    }
   ],
   "source": [
    "g_prefix"
   ]
  },
  {
   "cell_type": "code",
   "execution_count": 133,
   "id": "8dbfe5c6",
   "metadata": {
    "scrolled": false
   },
   "outputs": [
    {
     "name": "stdout",
     "output_type": "stream",
     "text": [
      "uuid: 0dcdea8b-5161-4f62-9ded-5028ff86632d (pk: 23805) (aiida.calculations:alamode.analyze_phonon)\n",
      "wait another 5 sec.\n",
      "wait another 5 sec.\n",
      "wait another 5 sec.\n",
      "wait another 5 sec.\n",
      "wait another 5 sec.\n",
      "True True\n",
      "save ap_kappa 23805\n"
     ]
    }
   ],
   "source": [
    "codename = \"analyze_phonon@tutor\"\n",
    "code = Code.get_from_string(codename)\n",
    "\n",
    "builder = code.get_builder()\n",
    "builder.cwd = g_cwd\n",
    "#builder.norder = g_norder\n",
    "builder.prefix = g_prefix\n",
    "builder.calc = Str(\"kappa_boundary\")\n",
    "# builder.size = Float(1.0e+6)\n",
    "builder.file_result = g_RTAfuture.outputs.result_file\n",
    "builder.param = Dict(dict={\"size\": 1e+6})\n",
    "\n",
    "key = \"ap_kappa\"\n",
    "g_ap_kappa_future = nodebank.load(key)\n",
    "#if g_ap_kappa_future is None:   \n",
    "if True:   \n",
    "    g_ap_kappa_future = submit(builder)\n",
    "    print(g_ap_kappa_future)\n",
    "    _wait_for_node_finished(g_ap_kappa_future, 5)\n",
    "    if g_ap_kappa_future.is_finished_ok:\n",
    "         nodebank.dump(key,g_ap_kappa_future)"
   ]
  },
  {
   "cell_type": "code",
   "execution_count": 134,
   "id": "61c943b3",
   "metadata": {},
   "outputs": [
    {
     "data": {
      "text/plain": [
       "<Str: uuid: 1e795ab7-38d5-437d-9ed4-20fd1e83503e (pk: 23789) value: Si2_k2x2x1_cubic_q5x5x5>"
      ]
     },
     "execution_count": 134,
     "metadata": {},
     "output_type": "execute_result"
    }
   ],
   "source": [
    "g_prefix"
   ]
  },
  {
   "cell_type": "code",
   "execution_count": 135,
   "id": "276b6706",
   "metadata": {
    "scrolled": false
   },
   "outputs": [
    {
     "name": "stdout",
     "output_type": "stream",
     "text": [
      "uuid: 45bd038b-14ed-445a-ab22-81c1b3f878ef (pk: 23814) (aiida.calculations:alamode.analyze_phonon)\n",
      "wait another 5 sec.\n",
      "wait another 5 sec.\n",
      "wait another 5 sec.\n",
      "wait another 5 sec.\n",
      "wait another 5 sec.\n",
      "True True\n",
      "save ap_tau 23814\n"
     ]
    }
   ],
   "source": [
    "codename = \"analyze_phonon@tutor\"\n",
    "code = Code.get_from_string(codename)\n",
    "\n",
    "builder = code.get_builder()\n",
    "builder.cwd = g_cwd\n",
    "builder.prefix = g_prefix\n",
    "builder.calc = Str(\"tau\")\n",
    "# builder.size = Float(1.0e+6)\n",
    "builder.file_result = g_RTAfuture.outputs.result_file\n",
    "builder.param = Dict(dict={\"temp\": 300.0})\n",
    "\n",
    "\n",
    "key = \"ap_tau\"\n",
    "g_ap_tau_future = nodebank.load(key)\n",
    "#if g_ap_tau_future is None:   \n",
    "if True:\n",
    "    g_ap_tau_future = submit(builder)\n",
    "    print(g_ap_tau_future)\n",
    "    _wait_for_node_finished(g_ap_tau_future, 5)\n",
    "    if g_ap_tau_future.is_finished_ok:\n",
    "         nodebank.dump(key,g_ap_tau_future)"
   ]
  },
  {
   "cell_type": "code",
   "execution_count": 136,
   "id": "dfe2e194",
   "metadata": {},
   "outputs": [
    {
     "data": {
      "text/plain": [
       "<SinglefileData: uuid: a9be2962-a466-45c7-bb33-3e3dc836d8ab (pk: 23817)>"
      ]
     },
     "execution_count": 136,
     "metadata": {},
     "output_type": "execute_result"
    }
   ],
   "source": [
    "g_ap_tau_future.outputs.tau_file"
   ]
  },
  {
   "cell_type": "code",
   "execution_count": null,
   "id": "266a98ab",
   "metadata": {},
   "outputs": [],
   "source": []
  },
  {
   "cell_type": "code",
   "execution_count": 137,
   "id": "68f19f0a",
   "metadata": {
    "scrolled": false
   },
   "outputs": [
    {
     "name": "stdout",
     "output_type": "stream",
     "text": [
      "uuid: 5f6dd03f-3e8d-4808-821d-a9e1aa005719 (pk: 23823) (aiida.calculations:alamode.analyze_phonon)\n",
      "wait another 5 sec.\n",
      "wait another 5 sec.\n",
      "wait another 5 sec.\n",
      "wait another 5 sec.\n",
      "wait another 5 sec.\n",
      "True True\n",
      "save ap_cum 23823\n"
     ]
    }
   ],
   "source": [
    "codename = \"analyze_phonon@tutor\"\n",
    "code = Code.get_from_string(codename)\n",
    "\n",
    "builder = code.get_builder()\n",
    "builder.cwd = g_cwd\n",
    "builder.prefix = g_prefix\n",
    "builder.calc = Str(\"cumulative\")\n",
    "# builder.size = Float(1.0e+6)\n",
    "builder.file_result = g_RTAfuture.outputs.result_file\n",
    "builder.param = Dict(dict={\"temp\": 300.0, \"length\": \"10000:5\"})\n",
    "\n",
    "\n",
    "key = \"ap_cum\"\n",
    "g_ap_cum_future = nodebank.load(key)\n",
    "if g_ap_cum_future is None:   \n",
    "#if True:\n",
    "    g_ap_cum_future = submit(builder)\n",
    "    print(g_ap_cum_future)\n",
    "    _wait_for_node_finished(g_ap_cum_future, 5)\n",
    "    if g_ap_cum_future.is_finished_ok:\n",
    "         nodebank.dump(key,g_ap_cum_future)"
   ]
  },
  {
   "cell_type": "code",
   "execution_count": 138,
   "id": "1f4ecd43",
   "metadata": {},
   "outputs": [
    {
     "data": {
      "text/plain": [
       "<CalcJobNode: uuid: 45bd038b-14ed-445a-ab22-81c1b3f878ef (pk: 23814) (aiida.calculations:alamode.analyze_phonon)>"
      ]
     },
     "execution_count": 138,
     "metadata": {},
     "output_type": "execute_result"
    }
   ],
   "source": [
    "g_ap_tau_future"
   ]
  },
  {
   "cell_type": "code",
   "execution_count": 139,
   "id": "e0e7869e",
   "metadata": {},
   "outputs": [
    {
     "name": "stdout",
     "output_type": "stream",
     "text": [
      "\u001b[34m\u001b[1mInfo: \u001b[0m\u001b[22mInitiating graphviz engine: dot\u001b[0m\n",
      "\u001b[34m\u001b[1mInfo: \u001b[0m\u001b[22mRecursing ancestors, max depth=None\u001b[0m\n",
      "\u001b[34m\u001b[1mInfo: \u001b[0m\u001b[22mRecursing descendants, max depth=None\u001b[0m\n",
      "\u001b[32m\u001b[1mSuccess: \u001b[0m\u001b[22mOutput file: 23823.dot.pdf\u001b[0m\n"
     ]
    }
   ],
   "source": [
    "!verdi node graph generate $g_ap_cum_future.pk"
   ]
  },
  {
   "cell_type": "code",
   "execution_count": 140,
   "id": "9df9ab2b",
   "metadata": {},
   "outputs": [
    {
     "data": {
      "text/plain": [
       "{'array|values': [2000, 10], 'array|columns': [10]}"
      ]
     },
     "execution_count": 140,
     "metadata": {},
     "output_type": "execute_result"
    }
   ],
   "source": [
    "g_ap_cum_future.outputs.cumulative.attributes"
   ]
  },
  {
   "cell_type": "code",
   "execution_count": 141,
   "id": "a7b0e13b",
   "metadata": {},
   "outputs": [
    {
     "data": {
      "text/plain": [
       "array([[0.00000e+00, 0.00000e+00, 0.00000e+00, ..., 0.00000e+00,\n",
       "        0.00000e+00, 0.00000e+00],\n",
       "       [5.00000e+00, 0.00000e+00, 0.00000e+00, ..., 0.00000e+00,\n",
       "        0.00000e+00, 0.00000e+00],\n",
       "       [1.00000e+01, 0.00000e+00, 0.00000e+00, ..., 0.00000e+00,\n",
       "        0.00000e+00, 0.00000e+00],\n",
       "       ...,\n",
       "       [9.98500e+03, 4.30579e+02, 2.41657e-10, ..., 1.16828e-10,\n",
       "        2.89409e-10, 1.19561e+02],\n",
       "       [9.99000e+03, 4.30579e+02, 2.41657e-10, ..., 1.16828e-10,\n",
       "        2.89409e-10, 1.19561e+02],\n",
       "       [9.99500e+03, 4.30579e+02, 2.41657e-10, ..., 1.16828e-10,\n",
       "        2.89409e-10, 1.19561e+02]])"
      ]
     },
     "execution_count": 141,
     "metadata": {},
     "output_type": "execute_result"
    }
   ],
   "source": [
    "values = g_ap_cum_future.outputs.cumulative.get_array(\"values\")\n",
    "values"
   ]
  },
  {
   "cell_type": "code",
   "execution_count": 142,
   "id": "a0dca219",
   "metadata": {},
   "outputs": [
    {
     "data": {
      "text/html": [
       "<div>\n",
       "<style scoped>\n",
       "    .dataframe tbody tr th:only-of-type {\n",
       "        vertical-align: middle;\n",
       "    }\n",
       "\n",
       "    .dataframe tbody tr th {\n",
       "        vertical-align: top;\n",
       "    }\n",
       "\n",
       "    .dataframe thead th {\n",
       "        text-align: right;\n",
       "    }\n",
       "</style>\n",
       "<table border=\"1\" class=\"dataframe\">\n",
       "  <thead>\n",
       "    <tr style=\"text-align: right;\">\n",
       "      <th></th>\n",
       "      <th>L [nm]</th>\n",
       "      <th>kappa xx [W/mK]</th>\n",
       "      <th>kappa xy [W/mK]</th>\n",
       "      <th>kappa xz [W/mK]</th>\n",
       "      <th>kappa yx [W/mK]</th>\n",
       "      <th>kappa yy [W/mK]</th>\n",
       "      <th>kappa yz [W/mK]</th>\n",
       "      <th>kappa zx [W/mK]</th>\n",
       "      <th>kappa zy [W/mK]</th>\n",
       "      <th>kappa zz [W/mK]</th>\n",
       "    </tr>\n",
       "  </thead>\n",
       "  <tbody>\n",
       "    <tr>\n",
       "      <th>0</th>\n",
       "      <td>0.0</td>\n",
       "      <td>0.000</td>\n",
       "      <td>0.000000e+00</td>\n",
       "      <td>0.000000e+00</td>\n",
       "      <td>0.000000e+00</td>\n",
       "      <td>0.000</td>\n",
       "      <td>0.000000e+00</td>\n",
       "      <td>0.000000e+00</td>\n",
       "      <td>0.000000e+00</td>\n",
       "      <td>0.000</td>\n",
       "    </tr>\n",
       "    <tr>\n",
       "      <th>1</th>\n",
       "      <td>5.0</td>\n",
       "      <td>0.000</td>\n",
       "      <td>0.000000e+00</td>\n",
       "      <td>0.000000e+00</td>\n",
       "      <td>0.000000e+00</td>\n",
       "      <td>0.000</td>\n",
       "      <td>0.000000e+00</td>\n",
       "      <td>0.000000e+00</td>\n",
       "      <td>0.000000e+00</td>\n",
       "      <td>0.000</td>\n",
       "    </tr>\n",
       "    <tr>\n",
       "      <th>2</th>\n",
       "      <td>10.0</td>\n",
       "      <td>0.000</td>\n",
       "      <td>0.000000e+00</td>\n",
       "      <td>0.000000e+00</td>\n",
       "      <td>0.000000e+00</td>\n",
       "      <td>0.000</td>\n",
       "      <td>0.000000e+00</td>\n",
       "      <td>0.000000e+00</td>\n",
       "      <td>0.000000e+00</td>\n",
       "      <td>0.000</td>\n",
       "    </tr>\n",
       "    <tr>\n",
       "      <th>3</th>\n",
       "      <td>15.0</td>\n",
       "      <td>0.000</td>\n",
       "      <td>0.000000e+00</td>\n",
       "      <td>0.000000e+00</td>\n",
       "      <td>0.000000e+00</td>\n",
       "      <td>0.000</td>\n",
       "      <td>0.000000e+00</td>\n",
       "      <td>0.000000e+00</td>\n",
       "      <td>0.000000e+00</td>\n",
       "      <td>0.000</td>\n",
       "    </tr>\n",
       "    <tr>\n",
       "      <th>4</th>\n",
       "      <td>20.0</td>\n",
       "      <td>0.000</td>\n",
       "      <td>0.000000e+00</td>\n",
       "      <td>0.000000e+00</td>\n",
       "      <td>0.000000e+00</td>\n",
       "      <td>0.000</td>\n",
       "      <td>0.000000e+00</td>\n",
       "      <td>0.000000e+00</td>\n",
       "      <td>0.000000e+00</td>\n",
       "      <td>0.000</td>\n",
       "    </tr>\n",
       "    <tr>\n",
       "      <th>...</th>\n",
       "      <td>...</td>\n",
       "      <td>...</td>\n",
       "      <td>...</td>\n",
       "      <td>...</td>\n",
       "      <td>...</td>\n",
       "      <td>...</td>\n",
       "      <td>...</td>\n",
       "      <td>...</td>\n",
       "      <td>...</td>\n",
       "      <td>...</td>\n",
       "    </tr>\n",
       "    <tr>\n",
       "      <th>1995</th>\n",
       "      <td>9975.0</td>\n",
       "      <td>430.579</td>\n",
       "      <td>2.416570e-10</td>\n",
       "      <td>1.168280e-10</td>\n",
       "      <td>2.416570e-10</td>\n",
       "      <td>430.579</td>\n",
       "      <td>2.894090e-10</td>\n",
       "      <td>1.168280e-10</td>\n",
       "      <td>2.894090e-10</td>\n",
       "      <td>119.561</td>\n",
       "    </tr>\n",
       "    <tr>\n",
       "      <th>1996</th>\n",
       "      <td>9980.0</td>\n",
       "      <td>430.579</td>\n",
       "      <td>2.416570e-10</td>\n",
       "      <td>1.168280e-10</td>\n",
       "      <td>2.416570e-10</td>\n",
       "      <td>430.579</td>\n",
       "      <td>2.894090e-10</td>\n",
       "      <td>1.168280e-10</td>\n",
       "      <td>2.894090e-10</td>\n",
       "      <td>119.561</td>\n",
       "    </tr>\n",
       "    <tr>\n",
       "      <th>1997</th>\n",
       "      <td>9985.0</td>\n",
       "      <td>430.579</td>\n",
       "      <td>2.416570e-10</td>\n",
       "      <td>1.168280e-10</td>\n",
       "      <td>2.416570e-10</td>\n",
       "      <td>430.579</td>\n",
       "      <td>2.894090e-10</td>\n",
       "      <td>1.168280e-10</td>\n",
       "      <td>2.894090e-10</td>\n",
       "      <td>119.561</td>\n",
       "    </tr>\n",
       "    <tr>\n",
       "      <th>1998</th>\n",
       "      <td>9990.0</td>\n",
       "      <td>430.579</td>\n",
       "      <td>2.416570e-10</td>\n",
       "      <td>1.168280e-10</td>\n",
       "      <td>2.416570e-10</td>\n",
       "      <td>430.579</td>\n",
       "      <td>2.894090e-10</td>\n",
       "      <td>1.168280e-10</td>\n",
       "      <td>2.894090e-10</td>\n",
       "      <td>119.561</td>\n",
       "    </tr>\n",
       "    <tr>\n",
       "      <th>1999</th>\n",
       "      <td>9995.0</td>\n",
       "      <td>430.579</td>\n",
       "      <td>2.416570e-10</td>\n",
       "      <td>1.168280e-10</td>\n",
       "      <td>2.416570e-10</td>\n",
       "      <td>430.579</td>\n",
       "      <td>2.894090e-10</td>\n",
       "      <td>1.168280e-10</td>\n",
       "      <td>2.894090e-10</td>\n",
       "      <td>119.561</td>\n",
       "    </tr>\n",
       "  </tbody>\n",
       "</table>\n",
       "<p>2000 rows × 10 columns</p>\n",
       "</div>"
      ],
      "text/plain": [
       "      L [nm]  kappa xx [W/mK]  kappa xy [W/mK]  kappa xz [W/mK]  \\\n",
       "0        0.0            0.000     0.000000e+00     0.000000e+00   \n",
       "1        5.0            0.000     0.000000e+00     0.000000e+00   \n",
       "2       10.0            0.000     0.000000e+00     0.000000e+00   \n",
       "3       15.0            0.000     0.000000e+00     0.000000e+00   \n",
       "4       20.0            0.000     0.000000e+00     0.000000e+00   \n",
       "...      ...              ...              ...              ...   \n",
       "1995  9975.0          430.579     2.416570e-10     1.168280e-10   \n",
       "1996  9980.0          430.579     2.416570e-10     1.168280e-10   \n",
       "1997  9985.0          430.579     2.416570e-10     1.168280e-10   \n",
       "1998  9990.0          430.579     2.416570e-10     1.168280e-10   \n",
       "1999  9995.0          430.579     2.416570e-10     1.168280e-10   \n",
       "\n",
       "      kappa yx [W/mK]  kappa yy [W/mK]  kappa yz [W/mK]  kappa zx [W/mK]  \\\n",
       "0        0.000000e+00            0.000     0.000000e+00     0.000000e+00   \n",
       "1        0.000000e+00            0.000     0.000000e+00     0.000000e+00   \n",
       "2        0.000000e+00            0.000     0.000000e+00     0.000000e+00   \n",
       "3        0.000000e+00            0.000     0.000000e+00     0.000000e+00   \n",
       "4        0.000000e+00            0.000     0.000000e+00     0.000000e+00   \n",
       "...               ...              ...              ...              ...   \n",
       "1995     2.416570e-10          430.579     2.894090e-10     1.168280e-10   \n",
       "1996     2.416570e-10          430.579     2.894090e-10     1.168280e-10   \n",
       "1997     2.416570e-10          430.579     2.894090e-10     1.168280e-10   \n",
       "1998     2.416570e-10          430.579     2.894090e-10     1.168280e-10   \n",
       "1999     2.416570e-10          430.579     2.894090e-10     1.168280e-10   \n",
       "\n",
       "      kappa zy [W/mK]  kappa zz [W/mK]  \n",
       "0        0.000000e+00            0.000  \n",
       "1        0.000000e+00            0.000  \n",
       "2        0.000000e+00            0.000  \n",
       "3        0.000000e+00            0.000  \n",
       "4        0.000000e+00            0.000  \n",
       "...               ...              ...  \n",
       "1995     2.894090e-10          119.561  \n",
       "1996     2.894090e-10          119.561  \n",
       "1997     2.894090e-10          119.561  \n",
       "1998     2.894090e-10          119.561  \n",
       "1999     2.894090e-10          119.561  \n",
       "\n",
       "[2000 rows x 10 columns]"
      ]
     },
     "execution_count": 142,
     "metadata": {},
     "output_type": "execute_result"
    }
   ],
   "source": [
    "values = g_ap_cum_future.outputs.cumulative.get_array(\"values\").astype(float)\n",
    "splitted_header = g_ap_cum_future.outputs.cumulative.get_array(\"columns\")\n",
    "df = pd.DataFrame(values, columns=splitted_header)\n",
    "df"
   ]
  },
  {
   "cell_type": "code",
   "execution_count": 143,
   "id": "2f91e96e",
   "metadata": {
    "scrolled": false
   },
   "outputs": [
    {
     "data": {
      "text/plain": [
       "<AxesSubplot:xlabel='L [nm]'>"
      ]
     },
     "execution_count": 143,
     "metadata": {},
     "output_type": "execute_result"
    },
    {
     "data": {
      "image/png": "[encoded data removed]",
      "text/plain": [
       "<Figure size 432x288 with 1 Axes>"
      ]
     },
     "metadata": {
      "needs_background": "light"
     },
     "output_type": "display_data"
    }
   ],
   "source": [
    "df.plot(x= \"L [nm]\", y='kappa xx [W/mK]')"
   ]
  },
  {
   "cell_type": "markdown",
   "id": "40bd986e",
   "metadata": {},
   "source": [
    "## anphon spectra"
   ]
  },
  {
   "cell_type": "code",
   "execution_count": 144,
   "id": "fb9f9a8b",
   "metadata": {},
   "outputs": [
    {
     "data": {
      "text/plain": [
       "<Str: uuid: 1e795ab7-38d5-437d-9ed4-20fd1e83503e (pk: 23789) value: Si2_k2x2x1_cubic_q5x5x5>"
      ]
     },
     "execution_count": 144,
     "metadata": {},
     "output_type": "execute_result"
    }
   ],
   "source": [
    "g_prefix"
   ]
  },
  {
   "cell_type": "code",
   "execution_count": 145,
   "id": "2815b818",
   "metadata": {
    "scrolled": false
   },
   "outputs": [
    {
     "name": "stdout",
     "output_type": "stream",
     "text": [
      "uuid: df100538-0c75-4031-a36b-f7ad3206c5fe (pk: 23834) (aiida.calculations:alamode.anphon)\n",
      "wait another 5 sec.\n",
      "wait another 5 sec.\n",
      "wait another 5 sec.\n",
      "wait another 5 sec.\n",
      "wait another 5 sec.\n",
      "wait another 5 sec.\n",
      "wait another 5 sec.\n",
      "wait another 5 sec.\n",
      "True True\n",
      "save RTAspec 23834\n"
     ]
    }
   ],
   "source": [
    "codename = \"anphon@tutor\"\n",
    "code = Code.get_from_string(codename)\n",
    "\n",
    "builder = code.get_builder()\n",
    "builder.structure = g_primstructure\n",
    "builder.prefix = g_prefix\n",
    "builder.cwd = g_cwd\n",
    "builder.norder = g_norder\n",
    "builder.fcsxml = g_almopt2future.outputs.input_ANPHON_file\n",
    "builder.mode = Str(\"RTA\")\n",
    "builder.kappa_spec = Int(1) # spectra\n",
    "builder.qmesh = List(list=g_qmesh)\n",
    "eparam = {\"EMIN\":0, \"EMAX\":550, \"DELTA_E\": 10.0}\n",
    "builder.param= Dict(dict={\"general\": eparam})\n",
    "\n",
    "key = \"RTAspec\"\n",
    "g_RTAspecfuture = nodebank.load(key,g_force)\n",
    "#if g_RTAspecfuture is None:  \n",
    "if True:   \n",
    "    g_RTAspecfuture = submit(builder)\n",
    "    print(g_RTAspecfuture)\n",
    "    _wait_for_node_finished(g_RTAspecfuture, 5)\n",
    "    if g_RTAspecfuture.is_finished_ok:\n",
    "         nodebank.dump(key,g_RTAspecfuture)\n"
   ]
  },
  {
   "cell_type": "code",
   "execution_count": 146,
   "id": "056162d0",
   "metadata": {},
   "outputs": [
    {
     "name": "stdout",
     "output_type": "stream",
     "text": [
      "\u001b[34m\u001b[1mInfo: \u001b[0m\u001b[22mInitiating graphviz engine: dot\u001b[0m\n",
      "\u001b[34m\u001b[1mInfo: \u001b[0m\u001b[22mRecursing ancestors, max depth=None\u001b[0m\n",
      "\u001b[34m\u001b[1mInfo: \u001b[0m\u001b[22mRecursing descendants, max depth=None\u001b[0m\n",
      "\u001b[32m\u001b[1mSuccess: \u001b[0m\u001b[22mOutput file: 23834.dot.pdf\u001b[0m\n"
     ]
    }
   ],
   "source": [
    "if True:\n",
    "    ! verdi node graph generate $g_RTAspecfuture.pk"
   ]
  },
  {
   "cell_type": "code",
   "execution_count": 147,
   "id": "ab5ef16b",
   "metadata": {},
   "outputs": [
    {
     "data": {
      "text/plain": [
       "{'mode': 'RTA',\n",
       " 'nmodes': 60,\n",
       " 'prefix': 'Si2_k2x2x1_cubic_q5x5x5',\n",
       " 'kappa_spec': 1,\n",
       " 'kl_filename': 'Si2_k2x2x1_cubic_q5x5x5.kl',\n",
       " 'result_filename': 'Si2_k2x2x1_cubic_q5x5x5.result',\n",
       " 'kl_spec_filename': 'Si2_k2x2x1_cubic_q5x5x5.kl_spec'}"
      ]
     },
     "execution_count": 147,
     "metadata": {},
     "output_type": "execute_result"
    }
   ],
   "source": [
    "g_RTAspecfuture.outputs.result.attributes"
   ]
  },
  {
   "cell_type": "code",
   "execution_count": 148,
   "id": "44db14f3",
   "metadata": {},
   "outputs": [],
   "source": [
    "g_df = load_anphon_kl_spec(g_RTAspecfuture.outputs.kl_spec_file)"
   ]
  },
  {
   "cell_type": "code",
   "execution_count": 149,
   "id": "0de27292",
   "metadata": {},
   "outputs": [
    {
     "name": "stdout",
     "output_type": "stream",
     "text": [
      "[   0.   10.   20.   30.   40.   50.   60.   70.   80.   90.  100.  110.\n",
      "  120.  130.  140.  150.  160.  170.  180.  190.  200.  210.  220.  230.\n",
      "  240.  250.  260.  270.  280.  290.  300.  310.  320.  330.  340.  350.\n",
      "  360.  370.  380.  390.  400.  410.  420.  430.  440.  450.  460.  470.\n",
      "  480.  490.  500.  510.  520.  530.  540.  550.  560.  570.  580.  590.\n",
      "  600.  610.  620.  630.  640.  650.  660.  670.  680.  690.  700.  710.\n",
      "  720.  730.  740.  750.  760.  770.  780.  790.  800.  810.  820.  830.\n",
      "  840.  850.  860.  870.  880.  890.  900.  910.  920.  930.  940.  950.\n",
      "  960.  970.  980.  990. 1000.]\n"
     ]
    }
   ],
   "source": [
    "print(np.unique(g_df[\"Temperature [K]\"].values))\n",
    "g_df_select = g_df[g_df[\"Temperature [K]\"]==300]"
   ]
  },
  {
   "cell_type": "code",
   "execution_count": 150,
   "id": "bc92d1a0",
   "metadata": {},
   "outputs": [
    {
     "data": {
      "text/plain": [
       "<AxesSubplot:xlabel='Frequency [cm^-1]'>"
      ]
     },
     "execution_count": 150,
     "metadata": {},
     "output_type": "execute_result"
    },
    {
     "data": {
      "image/png": "[encoded data removed]",
      "text/plain": [
       "<Figure size 432x288 with 1 Axes>"
      ]
     },
     "metadata": {
      "needs_background": "light"
     },
     "output_type": "display_data"
    }
   ],
   "source": [
    "g_df_select.plot(x=g_df.columns[1], y=g_df.columns[2])"
   ]
  },
  {
   "cell_type": "code",
   "execution_count": null,
   "id": "a73665ec",
   "metadata": {},
   "outputs": [],
   "source": []
  }
 ],
 "metadata": {
  "kernelspec": {
   "display_name": "Python 3",
   "language": "python",
   "name": "python3"
  },
  "language_info": {
   "codemirror_mode": {
    "name": "ipython",
    "version": 3
   },
   "file_extension": ".py",
   "mimetype": "text/x-python",
   "name": "python",
   "nbconvert_exporter": "python",
   "pygments_lexer": "ipython3",
   "version": "3.7.12"
  }
 },
 "nbformat": 4,
 "nbformat_minor": 5
}
