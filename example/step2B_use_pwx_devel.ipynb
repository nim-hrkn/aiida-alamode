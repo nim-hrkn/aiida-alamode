{
 "cells": [
  {
   "cell_type": "markdown",
   "id": "f5a11283-001b-4df4-83f5-22cd7fd09840",
   "metadata": {},
   "source": [
    "# Note\n",
    "This script doesn't work"
   ]
  },
  {
   "cell_type": "code",
   "execution_count": 1,
   "id": "736a131b",
   "metadata": {},
   "outputs": [
    {
     "data": {
      "text/plain": [
       "<aiida.manage.configuration.profile.Profile at 0x7fcdf878f710>"
      ]
     },
     "execution_count": 1,
     "metadata": {},
     "output_type": "execute_result"
    }
   ],
   "source": [
    "import aiida\n",
    "\n",
    "# must execute it in the first place\n",
    "aiida.load_profile()"
   ]
  },
  {
   "cell_type": "code",
   "execution_count": 2,
   "id": "678f94ab",
   "metadata": {},
   "outputs": [],
   "source": [
    "from aiida.orm import Code\n",
    "from aiida.orm import Str, Int, Dict, List, Float\n",
    "from aiida.engine import calcfunction, WorkChain, ToContext, append_\n",
    "from aiida.plugins import DataFactory, WorkflowFactory\n",
    "from itertools import cycle\n",
    "import os\n",
    "\n",
    "from aiida.engine import calcfunction, workfunction, submit, run\n",
    "from aiida.orm import load_code, load_node\n",
    "from ase import io\n",
    "from tools import wait_for_node_finished\n",
    "\n",
    "# load types\n",
    "StructureData = DataFactory('structure')\n",
    "FolderData = DataFactory('folder')\n",
    "SinglefileData = DataFactory('singlefile')\n",
    "ArrayData = DataFactory('array')\n",
    "List = DataFactory('list')\n"
   ]
  },
  {
   "cell_type": "code",
   "execution_count": 3,
   "id": "4f8a3e37",
   "metadata": {},
   "outputs": [
    {
     "name": "stdout",
     "output_type": "stream",
     "text": [
      "localhost (localhost), pk: 2\n"
     ]
    },
    {
     "data": {
      "text/plain": [
       "(<Code: Remote code 'alamode.displace_random' on localhost, pk: 2385, uuid: c893e5e1-c9ed-4d33-91eb-b4c8c2848412>,\n",
       " <Code: Remote code 'alamode.displace_pf' on localhost, pk: 2384, uuid: 1ded5557-bd21-4ebc-b2b5-f524c5ab4e25>,\n",
       " <Str: uuid: 7a800e77-97fc-4bd3-b5f7-4a84244837d3 (unstored) value: alamode.pwx@mygarden1>)"
      ]
     },
     "execution_count": 3,
     "metadata": {},
     "output_type": "execute_result"
    }
   ],
   "source": [
    "# codeの定義を行う。\n",
    "from tools.aiida_support import get_or_create_local_computer, get_or_create_code\n",
    "from os.path import expanduser\n",
    "import os\n",
    "\n",
    "home = expanduser(\"~\")\n",
    "work_directory = os.path.join(home, 'aiida')\n",
    "computer_local = get_or_create_local_computer(work_directory, 'localhost')\n",
    "print(computer_local)\n",
    "code = get_or_create_code('alamode.displace_pf',\n",
    "                          computer_local,\n",
    "                          '/home/max/Documents/aiida-test/alamode-aiida/alamode/displace.py')\n",
    "code_displace_pf = code\n",
    "code = get_or_create_code('alamode.displace_random',\n",
    "                          computer_local,\n",
    "                          '/home/max/Documents/aiida-test/alamode-aiida/alamode/displace.py')\n",
    "code_displace_random = code\n",
    "\n",
    "# You must setup remote code\n",
    "# if you need a setup of intel fortran, \n",
    "# . ~/intel/oneapi/setvars.sh\n",
    "# is necessary.\n",
    "code_simulator_name = Str('alamode.pwx@mygarden1')\n",
    "\n",
    "code_displace_random, code_displace_pf, code_simulator_name"
   ]
  },
  {
   "cell_type": "code",
   "execution_count": 4,
   "id": "38870d0e",
   "metadata": {},
   "outputs": [
    {
     "name": "stdout",
     "output_type": "stream",
     "text": [
      "{'CWD': 'run32'}\n"
     ]
    },
    {
     "data": {
      "text/plain": [
       "'/home/max/Documents/aiida-alamode_public/example/run32'"
      ]
     },
     "execution_count": 4,
     "metadata": {},
     "output_type": "execute_result"
    }
   ],
   "source": [
    "import json\n",
    "with open(\"setting.json\") as f:\n",
    "    _dic = json.load(f)\n",
    "print(_dic)\n",
    "CWD = _dic[\"CWD\"]\n",
    "_path = os.path.abspath(CWD)\n",
    "os.makedirs(_path, exist_ok=True)\n",
    "_path"
   ]
  },
  {
   "cell_type": "code",
   "execution_count": 5,
   "id": "69ca0d11",
   "metadata": {},
   "outputs": [],
   "source": [
    "from os.path import expanduser\n",
    "from tools import NodeBank\n",
    "# 再実行時に作成したノードを用いるためにnodebankを使う。\n",
    "g_force = False\n",
    "nodebank = NodeBank(_path, force=g_force)"
   ]
  },
  {
   "cell_type": "code",
   "execution_count": 6,
   "id": "4c40b16d",
   "metadata": {},
   "outputs": [
    {
     "ename": "ValueError",
     "evalue": "failed to find key=superstructure_file",
     "output_type": "error",
     "traceback": [
      "\u001b[0;31m---------------------------------------------------------------------------\u001b[0m",
      "\u001b[0;31mValueError\u001b[0m                                Traceback (most recent call last)",
      "\u001b[0;32m/tmp/ipykernel_17476/1799124066.py\u001b[0m in \u001b[0;36m<module>\u001b[0;34m\u001b[0m\n\u001b[1;32m      2\u001b[0m \u001b[0mg_superstructure\u001b[0m \u001b[0;34m=\u001b[0m \u001b[0mnodebank\u001b[0m\u001b[0;34m.\u001b[0m\u001b[0mload\u001b[0m\u001b[0;34m(\u001b[0m\u001b[0;34m\"superstructure\"\u001b[0m\u001b[0;34m)\u001b[0m  \u001b[0;31m# 使用する長周期構造StructureData\u001b[0m\u001b[0;34m\u001b[0m\u001b[0;34m\u001b[0m\u001b[0m\n\u001b[1;32m      3\u001b[0m g_superstructure_file = nodebank.load(\n\u001b[0;32m----> 4\u001b[0;31m     \"superstructure_file\")  # 使用する長周期構造ファイルSinglefileData\n\u001b[0m\u001b[1;32m      5\u001b[0m g_superstructure_filepath = nodebank.load(\n\u001b[1;32m      6\u001b[0m     \"superstructure_filepath\")  # 使用する長周期構造ファイルabspath\n",
      "\u001b[0;32m~/Documents/aiida-alamode_public/example/tools/nodebank.py\u001b[0m in \u001b[0;36mload\u001b[0;34m(self, label, raise_error)\u001b[0m\n\u001b[1;32m     53\u001b[0m         \u001b[0;32melse\u001b[0m\u001b[0;34m:\u001b[0m\u001b[0;34m\u001b[0m\u001b[0;34m\u001b[0m\u001b[0m\n\u001b[1;32m     54\u001b[0m             \u001b[0;32mif\u001b[0m \u001b[0mraise_error\u001b[0m\u001b[0;34m:\u001b[0m\u001b[0;34m\u001b[0m\u001b[0;34m\u001b[0m\u001b[0m\n\u001b[0;32m---> 55\u001b[0;31m                 \u001b[0;32mraise\u001b[0m \u001b[0mValueError\u001b[0m\u001b[0;34m(\u001b[0m\u001b[0;34mf\"failed to find key={label}\"\u001b[0m\u001b[0;34m)\u001b[0m\u001b[0;34m\u001b[0m\u001b[0;34m\u001b[0m\u001b[0m\n\u001b[0m\u001b[1;32m     56\u001b[0m             \u001b[0;32mreturn\u001b[0m \u001b[0;32mNone\u001b[0m\u001b[0;34m\u001b[0m\u001b[0;34m\u001b[0m\u001b[0m\n\u001b[1;32m     57\u001b[0m \u001b[0;34m\u001b[0m\u001b[0m\n",
      "\u001b[0;31mValueError\u001b[0m: failed to find key=superstructure_file"
     ]
    }
   ],
   "source": [
    "g_cwd = nodebank.load(\"cwd\")  # ファイル保存directory\n",
    "g_superstructure = nodebank.load(\"superstructure\")  # 使用する長周期構造StructureData\n",
    "g_superstructure_file = nodebank.load(\n",
    "    \"superstructure_file\")  # 使用する長周期構造ファイルSinglefileData\n",
    "g_superstructure_filepath = nodebank.load(\n",
    "    \"superstructure_filepath\")  # 使用する長周期構造ファイルabspath\n",
    "g_file_format = nodebank.load(\"structure_org_format\")  # lammpsの位置フォーマット\n",
    "g_file_style = nodebank.load(\"structure_org_style\")  # lammpsの位置フォーマットのオプション\n",
    "g_file_format, g_file_style, g_superstructure_file"
   ]
  },
  {
   "cell_type": "markdown",
   "id": "1e661036",
   "metadata": {},
   "source": [
    "## for QE"
   ]
  },
  {
   "cell_type": "code",
   "execution_count": null,
   "id": "65a7c879",
   "metadata": {},
   "outputs": [],
   "source": [
    "key = \"format\"\n",
    "g_format = nodebank.load_or_dump(key, Str(\"QE\"))  # alamodeのファイルオプションの定義"
   ]
  },
  {
   "cell_type": "code",
   "execution_count": null,
   "id": "0c6e734f",
   "metadata": {},
   "outputs": [],
   "source": [
    "_dir = os.path.abspath('lammps_input/Si222')\n",
    "if True:\n",
    "    lammps_potentials = FolderData()\n",
    "    for _p in [\"Si.sw\"]:\n",
    "        abspath = os.path.join(_dir, _p)\n",
    "        print(abspath, _p)\n",
    "        lammps_potentials.put_object_from_file(abspath, path=_p)\n",
    "else:\n",
    "    _potential = []\n",
    "    for _p in [\"Si.sw\"]:\n",
    "        _potential.append(os.path.join(_dir, _p))\n",
    "    lammps_potentials = List(list=_potential)\n",
    "\n",
    "input_file_template = SinglefileData(os.path.join(_dir, \"in.sw\"))"
   ]
  },
  {
   "cell_type": "code",
   "execution_count": null,
   "id": "b1b5c9db",
   "metadata": {},
   "outputs": [],
   "source": [
    "input_file_template.get_content()"
   ]
  },
  {
   "cell_type": "code",
   "execution_count": null,
   "id": "06baaf44",
   "metadata": {},
   "outputs": [],
   "source": [
    "g_mag = nodebank.load_or_dump(\"mag\", Float(0.01))"
   ]
  },
  {
   "cell_type": "code",
   "execution_count": null,
   "id": "52d63be2",
   "metadata": {},
   "outputs": [],
   "source": [
    "g_pattern_files = nodebank.load(\"harmonic_pattern_folder\")  # 作成したpattern files\n",
    "g_pattern_files"
   ]
  },
  {
   "cell_type": "code",
   "execution_count": null,
   "id": "97e203ea",
   "metadata": {},
   "outputs": [],
   "source": [
    "g_pattern_files.list_object_names()"
   ]
  },
  {
   "cell_type": "code",
   "execution_count": null,
   "id": "c2492a55",
   "metadata": {},
   "outputs": [],
   "source": [
    "g_pattern_files.get_object_content('harmonic.pattern_HARMONIC')"
   ]
  },
  {
   "cell_type": "code",
   "execution_count": null,
   "id": "ea5f0c98",
   "metadata": {},
   "outputs": [],
   "source": [
    "g_prefix = nodebank.load('prefix')\n",
    "g_prefix"
   ]
  },
  {
   "cell_type": "code",
   "execution_count": null,
   "id": "2afe1349",
   "metadata": {},
   "outputs": [],
   "source": [
    "g_action = \"random\"\n",
    "\n",
    "if g_action == \"pf\":\n",
    "\n",
    "    #codename = \"alamode.displace_pf@tutor\"\n",
    "    #code = Code.get_from_string(codename)\n",
    "    code = code_displace_pf\n",
    "\n",
    "    builder = code.get_builder()\n",
    "    builder.format = g_format\n",
    "    builder.cwd = g_cwd\n",
    "    builder.prefix = g_prefix\n",
    "    builder.structure_org = g_superstructure_file\n",
    "    builder.mag = g_mag\n",
    "    builder.pattern_files = g_pattern_files\n",
    "\n",
    "    g_displacefuture = nodebank.load(\"displace_pf\")\n",
    "    if g_displacefuture is None:\n",
    "        g_displacefuture = submit(builder)\n",
    "        print(g_displacefuture)\n",
    "        wait_for_node_finished(g_displacefuture)\n",
    "        if g_displacefuture.is_finished_ok:\n",
    "            nodebank.dump(\"displace_pf\", g_displacefuture)\n",
    "\n",
    "elif g_action == \"random\":\n",
    "\n",
    "    g_num_disp = nodebank.load_or_dump(\"num_disp\", Int(5))\n",
    "\n",
    "    #codename = \"alamode.displace_random@tutor\"\n",
    "    #code = Code.get_from_string(codename)\n",
    "    code = code_displace_random\n",
    "\n",
    "    builder = code.get_builder()\n",
    "    builder.format = g_format\n",
    "    builder.cwd = g_cwd\n",
    "    builder.prefix = g_prefix\n",
    "    builder.structure_org = g_superstructure_file\n",
    "    builder.mag = g_mag\n",
    "    builder.num_disp = g_num_disp\n",
    "\n",
    "    g_displacefuture = nodebank.load(\"displace_random\")\n",
    "    if g_displacefuture is None:\n",
    "        g_displacefuture = submit(builder)\n",
    "        print(g_displacefuture)\n",
    "        wait_for_node_finished(g_displacefuture)\n",
    "        if g_displacefuture.is_finished_ok:\n",
    "            nodebank.dump(\"displace_random\", g_displacefuture)\n",
    "        else:\n",
    "            raise\n",
    "else:\n",
    "    raise ValueError(\"unknown action\")\n"
   ]
  },
  {
   "cell_type": "code",
   "execution_count": null,
   "id": "742d7f7b",
   "metadata": {},
   "outputs": [],
   "source": []
  },
  {
   "cell_type": "code",
   "execution_count": null,
   "id": "2137b6e6",
   "metadata": {},
   "outputs": [],
   "source": [
    "g_displacefuture\n"
   ]
  },
  {
   "cell_type": "code",
   "execution_count": null,
   "id": "f6908ec4",
   "metadata": {},
   "outputs": [],
   "source": [
    "g_displacefuture.outputs\n"
   ]
  },
  {
   "cell_type": "code",
   "execution_count": null,
   "id": "336eb3e4",
   "metadata": {},
   "outputs": [],
   "source": [
    "g_displace_result = g_displacefuture.outputs.result\n",
    "g_displace_result\n"
   ]
  },
  {
   "cell_type": "code",
   "execution_count": null,
   "id": "e0056be2",
   "metadata": {},
   "outputs": [],
   "source": [
    "g_dispfile_folder = g_displacefuture.outputs.dispfile_folder\n"
   ]
  },
  {
   "cell_type": "code",
   "execution_count": null,
   "id": "cb5bfa27",
   "metadata": {},
   "outputs": [],
   "source": [
    "g_dispfile_folder.list_object_names()  # lammps data files\n"
   ]
  },
  {
   "cell_type": "markdown",
   "id": "6c738bfc",
   "metadata": {},
   "source": [
    "# run all the displacements"
   ]
  },
  {
   "cell_type": "code",
   "execution_count": null,
   "id": "caf6b05c",
   "metadata": {},
   "outputs": [],
   "source": [
    "from aiida.orm.nodes.data.upf import get_pseudos_from_structure\n",
    "\n",
    "def _make_upf_locally( structure: StructureData, pseudos: str, cwd: str=None) -> dict:\n",
    "    upflist = get_pseudos_from_structure(structure, pseudos)\n",
    "    upfdic = {}\n",
    "    for upfkey, upfvalue in upflist.items():\n",
    "        #print(upfvalue.get_content())\n",
    "        upf_filename = upfvalue.list_object_names()[0]\n",
    "        upfdic[upfkey] = upf_filename\n",
    "        if cwd is not None:\n",
    "            target_path = os.path.join(cwd, upf_filename)\n",
    "            with open(target_path,\"w\") as f:\n",
    "                f.write(upfvalue.get_content())\n",
    "            print(target_path,\"is made.\")\n",
    "    return upfdic"
   ]
  },
  {
   "cell_type": "code",
   "execution_count": null,
   "id": "b48f109f",
   "metadata": {},
   "outputs": [],
   "source": [
    "def make_qe_input(superstructure: StructureData, pseudos: (str,Str), QEinput = \"qe.in\"):\n",
    "    params = {\n",
    "            'calculation': 'scf',\n",
    "             'tprnfor': True, \n",
    "             'tstress': True,\n",
    "            'pseudo_dir': \".\", \n",
    "            'ecutwfc': 3.,\n",
    "            'ecutrho': 10.,\n",
    "            'conv_thr': 5.e-6,\n",
    "            'electron_maxstep': 100,\n",
    "    }\n",
    "\n",
    "    if isinstance(pseudos,Str):\n",
    "        pseudos = pseudos.value\n",
    "    pseudo = _make_upf_locally(superstructure, pseudos)\n",
    "    kspacing  = 0.05\n",
    "    koffset  = (1,1,1)\n",
    "    with open(QEinput,\"w\") as f:\n",
    "        write_espresso_in(f, superstructure.get_ase(), pseudopotentials =pseudo, \n",
    "                          kspacing= kspacing, koffset=koffset, \n",
    "                      **params)\n",
    "    return True"
   ]
  },
  {
   "cell_type": "code",
   "execution_count": null,
   "id": "34301da8",
   "metadata": {},
   "outputs": [],
   "source": [
    "alldisp_lammps_WorkChain = WorkflowFactory(\"alamode.dispall_lammps\")\n"
   ]
  },
  {
   "cell_type": "code",
   "execution_count": null,
   "id": "f56927ee",
   "metadata": {},
   "outputs": [],
   "source": [
    "inputs = {\"displace_result\": g_displace_result,\n",
    "          \"data_folder\": g_dispfile_folder,\n",
    "          \"input_file_template\":  input_file_template,\n",
    "          \"code_string\":  code_simulator_name,\n",
    "          \"cwd\": g_cwd,\n",
    "          \"prefix\": g_prefix,\n",
    "          'potential_files': lammps_potentials}\n"
   ]
  },
  {
   "cell_type": "code",
   "execution_count": null,
   "id": "645ae676",
   "metadata": {},
   "outputs": [],
   "source": [
    "lammps_all = nodebank.load(\"all_lammps_harmonic\")\n",
    "if lammps_all is None:\n",
    "    lammps_all = submit(alldisp_lammps_WorkChain, **inputs)\n",
    "    wait_for_node_finished(lammps_all, 5)\n",
    "    print(lammps_all.is_finished_ok)\n"
   ]
  },
  {
   "cell_type": "code",
   "execution_count": null,
   "id": "b1b3ddaa",
   "metadata": {},
   "outputs": [],
   "source": [
    "lammps_all\n"
   ]
  },
  {
   "cell_type": "code",
   "execution_count": null,
   "id": "a30075bb",
   "metadata": {},
   "outputs": [],
   "source": [
    "lammps_all.outputs.dfset\n"
   ]
  },
  {
   "cell_type": "markdown",
   "id": "57eeed1b",
   "metadata": {},
   "source": [
    "# extract"
   ]
  },
  {
   "cell_type": "code",
   "execution_count": null,
   "id": "ace2dcf4",
   "metadata": {},
   "outputs": [],
   "source": [
    "g_cwd\n"
   ]
  },
  {
   "cell_type": "code",
   "execution_count": null,
   "id": "700a2436",
   "metadata": {},
   "outputs": [],
   "source": [
    "from aiida.plugins import DataFactory, WorkflowFactory\n",
    "extractworkchain = WorkflowFactory(\"alamode.extract\")\n",
    "\n",
    "g_target_file = lammps_all.outputs.dfset\n",
    "g_norder = nodebank.load(\"norder\")\n"
   ]
  },
  {
   "cell_type": "code",
   "execution_count": null,
   "id": "ef7ae158",
   "metadata": {},
   "outputs": [],
   "source": [
    "g_target_file\n"
   ]
  },
  {
   "cell_type": "code",
   "execution_count": null,
   "id": "a94a60ee",
   "metadata": {},
   "outputs": [],
   "source": [
    "g_superstructure_file\n"
   ]
  },
  {
   "cell_type": "code",
   "execution_count": null,
   "id": "02cd0fa5",
   "metadata": {},
   "outputs": [],
   "source": [
    "g_superstructure_file\n"
   ]
  },
  {
   "cell_type": "code",
   "execution_count": null,
   "id": "9087c184",
   "metadata": {},
   "outputs": [],
   "source": [
    "inputs = {'format': g_format,\n",
    "          'structure_org': g_superstructure_filepath,\n",
    "          # 'target_file': g_pwx_all_future.outputs.pwx_output,\n",
    "          'target_file': g_target_file,\n",
    "          'cwd': g_cwd,\n",
    "          'prefix': g_prefix\n",
    "          # \"norder\": g_norder\n",
    "          # 'output_filename' : g_DFSET_filename\n",
    "          }\n",
    "print(inputs)\n"
   ]
  },
  {
   "cell_type": "code",
   "execution_count": null,
   "id": "ba113c88",
   "metadata": {},
   "outputs": [],
   "source": [
    "from tools import wait_for_node_finished\n"
   ]
  },
  {
   "cell_type": "code",
   "execution_count": null,
   "id": "6702536e",
   "metadata": {},
   "outputs": [],
   "source": [
    "g_alamodeextract_future = run(extractworkchain, **inputs)\n"
   ]
  },
  {
   "cell_type": "code",
   "execution_count": null,
   "id": "e715f9b8",
   "metadata": {},
   "outputs": [],
   "source": [
    "g_alamodeextract_future = submit(extractworkchain, **inputs)\n",
    "print(g_alamodeextract_future)\n",
    "wait_for_node_finished(g_alamodeextract_future)\n",
    "print(g_alamodeextract_future.is_finished_ok)\n"
   ]
  },
  {
   "cell_type": "code",
   "execution_count": null,
   "id": "86932045",
   "metadata": {},
   "outputs": [],
   "source": [
    "nodebank.dump(\"harmic_extract\", g_alamodeextract_future)\n"
   ]
  },
  {
   "cell_type": "code",
   "execution_count": null,
   "id": "4ed01959",
   "metadata": {},
   "outputs": [],
   "source": []
  },
  {
   "cell_type": "code",
   "execution_count": null,
   "id": "e807a503",
   "metadata": {},
   "outputs": [],
   "source": []
  }
 ],
 "metadata": {
  "kernelspec": {
   "display_name": "py39",
   "language": "python",
   "name": "py39"
  },
  "language_info": {
   "codemirror_mode": {
    "name": "ipython",
    "version": 3
   },
   "file_extension": ".py",
   "mimetype": "text/x-python",
   "name": "python",
   "nbconvert_exporter": "python",
   "pygments_lexer": "ipython3",
   "version": "3.7.15"
  }
 },
 "nbformat": 4,
 "nbformat_minor": 5
}
