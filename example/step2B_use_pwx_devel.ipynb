{
 "cells": [
  {
   "cell_type": "code",
   "execution_count": 26,
   "id": "736a131b",
   "metadata": {},
   "outputs": [
    {
     "data": {
      "text/plain": [
       "<aiida.manage.configuration.profile.Profile at 0x7f5042b48a00>"
      ]
     },
     "execution_count": 26,
     "metadata": {},
     "output_type": "execute_result"
    }
   ],
   "source": [
    "import aiida\n",
    "\n",
    "# must execute it in the first place\n",
    "aiida.load_profile()"
   ]
  },
  {
   "cell_type": "code",
   "execution_count": 27,
   "id": "678f94ab",
   "metadata": {},
   "outputs": [],
   "source": [
    "from aiida.orm import Code\n",
    "from aiida.orm import Str, Int, Dict, List, Float\n",
    "from aiida.engine import calcfunction, WorkChain, ToContext, append_\n",
    "from aiida.plugins import DataFactory, WorkflowFactory\n",
    "from itertools import cycle\n",
    "import os\n",
    "\n",
    "from aiida.engine import calcfunction, workfunction, submit, run\n",
    "from aiida.orm import load_code, load_node\n",
    "from tools import load_atoms\n",
    "from ase import io\n",
    "from tools import wait_for_node_finished\n",
    "\n",
    "# load types\n",
    "StructureData = DataFactory('structure')\n",
    "FolderData = DataFactory('folder')\n",
    "SinglefileData = DataFactory('singlefile')\n",
    "ArrayData = DataFactory('array')\n",
    "List = DataFactory('list')\n"
   ]
  },
  {
   "cell_type": "code",
   "execution_count": 28,
   "id": "4f8a3e37",
   "metadata": {},
   "outputs": [
    {
     "name": "stdout",
     "output_type": "stream",
     "text": [
      "localhost (localhost), pk: 5\n"
     ]
    },
    {
     "data": {
      "text/plain": [
       "(<Code: Remote code 'alamode.displace_random' on localhost, pk: 41766, uuid: 89af1d86-2610-4cd3-b551-f10aabdefb99>,\n",
       " <Code: Remote code 'alamode.displace_pf' on localhost, pk: 41765, uuid: 5f2296df-e3ef-4831-9348-445ba664b97d>,\n",
       " <Str: uuid: d8b87133-3fc2-4ee8-878b-6472f185e166 (unstored) value: alamode.pwx@mygarden1>)"
      ]
     },
     "execution_count": 28,
     "metadata": {},
     "output_type": "execute_result"
    }
   ],
   "source": [
    "# codeの定義を行う。\n",
    "from tools.aiida_support import get_or_create_local_computer, get_or_create_code\n",
    "from os.path import expanduser\n",
    "import os\n",
    "\n",
    "home = expanduser(\"~\")\n",
    "work_directory = os.path.join(home, 'aiida')\n",
    "computer_local = get_or_create_local_computer(work_directory, 'localhost')\n",
    "print(computer_local)\n",
    "code = get_or_create_code('alamode.displace_pf',\n",
    "                          computer_local,\n",
    "                          '/home/max/Documents/aiida-test/alamode-aiida/alamode/displace.py')\n",
    "code_displace_pf = code\n",
    "code = get_or_create_code('alamode.displace_random',\n",
    "                          computer_local,\n",
    "                          '/home/max/Documents/aiida-test/alamode-aiida/alamode/displace.py')\n",
    "code_displace_random = code\n",
    "\n",
    "# You must setup remote code\n",
    "# if you need a setup of intel fortran, \n",
    "# . ~/intel/oneapi/setvars.sh\n",
    "# is necessary.\n",
    "code_simulator_name = Str('alamode.pwx@mygarden1')\n",
    "\n",
    "code_displace_random, code_displace_pf, code_simulator_name"
   ]
  },
  {
   "cell_type": "code",
   "execution_count": 29,
   "id": "38870d0e",
   "metadata": {},
   "outputs": [
    {
     "name": "stdout",
     "output_type": "stream",
     "text": [
      "{'CWD': 'run27'}\n"
     ]
    },
    {
     "data": {
      "text/plain": [
       "'/home/max/Documents/aiida-test/alamode-aiida/example/run27'"
      ]
     },
     "execution_count": 29,
     "metadata": {},
     "output_type": "execute_result"
    }
   ],
   "source": [
    "import json\n",
    "with open(\"setting.json\") as f:\n",
    "    _dic = json.load(f)\n",
    "print(_dic)\n",
    "CWD = _dic[\"CWD\"]\n",
    "_path = os.path.abspath(CWD)\n",
    "os.makedirs(_path, exist_ok=True)\n",
    "_path"
   ]
  },
  {
   "cell_type": "code",
   "execution_count": 30,
   "id": "69ca0d11",
   "metadata": {},
   "outputs": [],
   "source": [
    "from os.path import expanduser\n",
    "from tools import NodeBank\n",
    "# 再実行時に作成したノードを用いるためにnodebankを使う。\n",
    "g_force = False\n",
    "nodebank = NodeBank(_path, force=g_force)"
   ]
  },
  {
   "cell_type": "code",
   "execution_count": 31,
   "id": "4c40b16d",
   "metadata": {},
   "outputs": [
    {
     "data": {
      "text/plain": [
       "(<Str: uuid: 981a6471-8a6e-406f-9203-5ce0b51904e6 (pk: 46045) value: lammps-data>,\n",
       " <Str: uuid: 0e5b94db-39ee-4dcc-8a2b-426ae0c433a9 (pk: 46046) value: atomic>,\n",
       " <SinglefileData: uuid: 2309129c-ef63-4cdd-b421-a0eb0e06d31a (pk: 46066)>)"
      ]
     },
     "execution_count": 31,
     "metadata": {},
     "output_type": "execute_result"
    }
   ],
   "source": [
    "g_cwd = nodebank.load(\"cwd\")  # ファイル保存directory\n",
    "g_superstructure = nodebank.load(\"superstructure\")  # 使用する長周期構造StructureData\n",
    "g_superstructure_file = nodebank.load(\n",
    "    \"superstructure_file\")  # 使用する長周期構造ファイルSinglefileData\n",
    "g_superstructure_filepath = nodebank.load(\n",
    "    \"superstructure_filepath\")  # 使用する長周期構造ファイルabspath\n",
    "g_file_format = nodebank.load(\"structure_org_format\")  # lammpsの位置フォーマット\n",
    "g_file_style = nodebank.load(\"structure_org_style\")  # lammpsの位置フォーマットのオプション\n",
    "g_file_format, g_file_style, g_superstructure_file"
   ]
  },
  {
   "cell_type": "markdown",
   "id": "1e661036",
   "metadata": {},
   "source": [
    "## for QE"
   ]
  },
  {
   "cell_type": "code",
   "execution_count": 53,
   "id": "65a7c879",
   "metadata": {},
   "outputs": [
    {
     "name": "stdout",
     "output_type": "stream",
     "text": [
      "debug, node uuid: 5cdc82c5-7e8f-40fa-9632-b3acd454b111 (unstored) value: QE\n",
      "debug, load uuid: a6fe889a-13d2-4793-81a9-58e68858eff2 (pk: 46078) value: LAMMPS\n"
     ]
    }
   ],
   "source": [
    "key = \"format\"\n",
    "g_format = nodebank.load_or_dump(key, Str(\"QE\"))  # alamodeのファイルオプションの定義"
   ]
  },
  {
   "cell_type": "code",
   "execution_count": 33,
   "id": "0c6e734f",
   "metadata": {},
   "outputs": [
    {
     "name": "stdout",
     "output_type": "stream",
     "text": [
      "/home/max/Documents/aiida-test/alamode-aiida/example/lammps_input/Si222/Si.sw Si.sw\n"
     ]
    }
   ],
   "source": [
    "_dir = os.path.abspath('lammps_input/Si222')\n",
    "if True:\n",
    "    lammps_potentials = FolderData()\n",
    "    for _p in [\"Si.sw\"]:\n",
    "        abspath = os.path.join(_dir, _p)\n",
    "        print(abspath, _p)\n",
    "        lammps_potentials.put_object_from_file(abspath, path=_p)\n",
    "else:\n",
    "    _potential = []\n",
    "    for _p in [\"Si.sw\"]:\n",
    "        _potential.append(os.path.join(_dir, _p))\n",
    "    lammps_potentials = List(list=_potential)\n",
    "\n",
    "input_file_template = SinglefileData(os.path.join(_dir, \"in.sw\"))"
   ]
  },
  {
   "cell_type": "code",
   "execution_count": 34,
   "id": "b1b5c9db",
   "metadata": {},
   "outputs": [
    {
     "data": {
      "text/plain": [
       "'units           metal\\natom_style      atomic\\nboundary        p p p\\n\\n#read_data       tmp.lammps\\nread_data       Si222.lammps\\n\\npair_style      sw\\npair_coeff \\t* * Si.sw Si\\n\\ndump            1 all custom 1 XFSET id xu yu zu fx fy fz \\ndump_modify     1 format float \"%20.15f\"\\nrun             0\\n\\n'"
      ]
     },
     "execution_count": 34,
     "metadata": {},
     "output_type": "execute_result"
    }
   ],
   "source": [
    "input_file_template.get_content()"
   ]
  },
  {
   "cell_type": "code",
   "execution_count": 35,
   "id": "06baaf44",
   "metadata": {},
   "outputs": [
    {
     "name": "stdout",
     "output_type": "stream",
     "text": [
      "debug, node uuid: 4683e69f-8bf6-49e0-877b-d6f4a822b768 (unstored) value: 0.01\n",
      "debug, load uuid: 054505e0-0a57-4cab-9195-a401a57eebb2 (pk: 46079) value: 0.01\n"
     ]
    }
   ],
   "source": [
    "g_mag = nodebank.load_or_dump(\"mag\", Float(0.01))"
   ]
  },
  {
   "cell_type": "code",
   "execution_count": 36,
   "id": "52d63be2",
   "metadata": {},
   "outputs": [
    {
     "data": {
      "text/plain": [
       "<FolderData: uuid: f3bbf243-f2af-4d9e-a466-b0c586ec8fba (pk: 46077)>"
      ]
     },
     "execution_count": 36,
     "metadata": {},
     "output_type": "execute_result"
    }
   ],
   "source": [
    "g_pattern_files = nodebank.load(\"harmonic_pattern_folder\")  # 作成したpattern files\n",
    "g_pattern_files"
   ]
  },
  {
   "cell_type": "code",
   "execution_count": 37,
   "id": "97e203ea",
   "metadata": {},
   "outputs": [
    {
     "data": {
      "text/plain": [
       "['harmonic.pattern_HARMONIC']"
      ]
     },
     "execution_count": 37,
     "metadata": {},
     "output_type": "execute_result"
    }
   ],
   "source": [
    "g_pattern_files.list_object_names()"
   ]
  },
  {
   "cell_type": "code",
   "execution_count": 38,
   "id": "c2492a55",
   "metadata": {},
   "outputs": [
    {
     "data": {
      "text/plain": [
       "'Basis : C\\n    1:    1\\n      1              1              0              0\\n'"
      ]
     },
     "execution_count": 38,
     "metadata": {},
     "output_type": "execute_result"
    }
   ],
   "source": [
    "g_pattern_files.get_object_content('harmonic.pattern_HARMONIC')"
   ]
  },
  {
   "cell_type": "code",
   "execution_count": 39,
   "id": "ea5f0c98",
   "metadata": {},
   "outputs": [
    {
     "data": {
      "text/plain": [
       "<Str: uuid: f9ac64da-a670-4215-bd4c-88d62c173c05 (pk: 46069) value: harmonic>"
      ]
     },
     "execution_count": 39,
     "metadata": {},
     "output_type": "execute_result"
    }
   ],
   "source": [
    "g_prefix = nodebank.load('prefix')\n",
    "g_prefix"
   ]
  },
  {
   "cell_type": "code",
   "execution_count": 40,
   "id": "2afe1349",
   "metadata": {
    "scrolled": false
   },
   "outputs": [
    {
     "name": "stdout",
     "output_type": "stream",
     "text": [
      "debug, node uuid: f45ad5f0-f3a3-41cc-8041-d60351d9e1a4 (unstored) value: 5\n",
      "debug, load uuid: ef63dae9-8b0b-4ab2-9089-7a1369fe535a (pk: 46080) value: 5\n"
     ]
    }
   ],
   "source": [
    "g_action = \"random\"\n",
    "\n",
    "if g_action == \"pf\":\n",
    "\n",
    "    #codename = \"alamode.displace_pf@tutor\"\n",
    "    #code = Code.get_from_string(codename)\n",
    "    code = code_displace_pf\n",
    "\n",
    "    builder = code.get_builder()\n",
    "    builder.format = g_format\n",
    "    builder.cwd = g_cwd\n",
    "    builder.prefix = g_prefix\n",
    "    builder.structure_org = g_superstructure_file\n",
    "    builder.mag = g_mag\n",
    "    builder.pattern_files = g_pattern_files\n",
    "\n",
    "    g_displacefuture = nodebank.load(\"displace_pf\")\n",
    "    if g_displacefuture is None:\n",
    "        g_displacefuture = submit(builder)\n",
    "        print(g_displacefuture)\n",
    "        wait_for_node_finished(g_displacefuture)\n",
    "        if g_displacefuture.is_finished_ok:\n",
    "            nodebank.dump(\"displace_pf\", g_displacefuture)\n",
    "\n",
    "elif g_action == \"random\":\n",
    "\n",
    "    g_num_disp = nodebank.load_or_dump(\"num_disp\", Int(5))\n",
    "\n",
    "    #codename = \"alamode.displace_random@tutor\"\n",
    "    #code = Code.get_from_string(codename)\n",
    "    code = code_displace_random\n",
    "\n",
    "    builder = code.get_builder()\n",
    "    builder.format = g_format\n",
    "    builder.cwd = g_cwd\n",
    "    builder.prefix = g_prefix\n",
    "    builder.structure_org = g_superstructure_file\n",
    "    builder.mag = g_mag\n",
    "    builder.num_disp = g_num_disp\n",
    "\n",
    "    g_displacefuture = nodebank.load(\"displace_random\")\n",
    "    if g_displacefuture is None:\n",
    "        g_displacefuture = submit(builder)\n",
    "        print(g_displacefuture)\n",
    "        wait_for_node_finished(g_displacefuture)\n",
    "        if g_displacefuture.is_finished_ok:\n",
    "            nodebank.dump(\"displace_random\", g_displacefuture)\n",
    "        else:\n",
    "            raise\n",
    "else:\n",
    "    raise ValueError(\"unknown action\")\n"
   ]
  },
  {
   "cell_type": "code",
   "execution_count": null,
   "id": "742d7f7b",
   "metadata": {},
   "outputs": [],
   "source": []
  },
  {
   "cell_type": "code",
   "execution_count": 41,
   "id": "2137b6e6",
   "metadata": {},
   "outputs": [
    {
     "data": {
      "text/plain": [
       "<CalcJobNode: uuid: f6630df6-c23e-4835-ac11-b42f88038f2d (pk: 46083) (aiida.calculations:alamode.displace_random)>"
      ]
     },
     "execution_count": 41,
     "metadata": {},
     "output_type": "execute_result"
    }
   ],
   "source": [
    "g_displacefuture\n"
   ]
  },
  {
   "cell_type": "code",
   "execution_count": 42,
   "id": "f6908ec4",
   "metadata": {},
   "outputs": [
    {
     "data": {
      "text/plain": [
       "<NodeLinksManager: Manager for outgoing CREATE links for node pk=46083>"
      ]
     },
     "execution_count": 42,
     "metadata": {},
     "output_type": "execute_result"
    }
   ],
   "source": [
    "g_displacefuture.outputs\n"
   ]
  },
  {
   "cell_type": "code",
   "execution_count": 43,
   "id": "336eb3e4",
   "metadata": {},
   "outputs": [
    {
     "data": {
      "text/plain": [
       "<Dict: uuid: 938e428e-a08d-49eb-8550-e3a1ba166921 (pk: 46086)>"
      ]
     },
     "execution_count": 43,
     "metadata": {},
     "output_type": "execute_result"
    }
   ],
   "source": [
    "g_displace_result = g_displacefuture.outputs.result\n",
    "g_displace_result\n"
   ]
  },
  {
   "cell_type": "code",
   "execution_count": 44,
   "id": "e0056be2",
   "metadata": {},
   "outputs": [],
   "source": [
    "g_dispfile_folder = g_displacefuture.outputs.dispfile_folder\n"
   ]
  },
  {
   "cell_type": "code",
   "execution_count": 45,
   "id": "cb5bfa27",
   "metadata": {},
   "outputs": [
    {
     "data": {
      "text/plain": [
       "['harmonic1.lammps',\n",
       " 'harmonic2.lammps',\n",
       " 'harmonic3.lammps',\n",
       " 'harmonic4.lammps',\n",
       " 'harmonic5.lammps']"
      ]
     },
     "execution_count": 45,
     "metadata": {},
     "output_type": "execute_result"
    }
   ],
   "source": [
    "g_dispfile_folder.list_object_names()  # lammps data files\n"
   ]
  },
  {
   "cell_type": "markdown",
   "id": "6c738bfc",
   "metadata": {},
   "source": [
    "# run all the displacements"
   ]
  },
  {
   "cell_type": "code",
   "execution_count": 51,
   "id": "caf6b05c",
   "metadata": {},
   "outputs": [],
   "source": [
    "from aiida.orm.nodes.data.upf import get_pseudos_from_structure\n",
    "\n",
    "def _make_upf_locally( structure: StructureData, pseudos: str, cwd: str=None) -> dict:\n",
    "    upflist = get_pseudos_from_structure(structure, pseudos)\n",
    "    upfdic = {}\n",
    "    for upfkey, upfvalue in upflist.items():\n",
    "        #print(upfvalue.get_content())\n",
    "        upf_filename = upfvalue.list_object_names()[0]\n",
    "        upfdic[upfkey] = upf_filename\n",
    "        if cwd is not None:\n",
    "            target_path = os.path.join(cwd, upf_filename)\n",
    "            with open(target_path,\"w\") as f:\n",
    "                f.write(upfvalue.get_content())\n",
    "            print(target_path,\"is made.\")\n",
    "    return upfdic"
   ]
  },
  {
   "cell_type": "code",
   "execution_count": 52,
   "id": "b48f109f",
   "metadata": {},
   "outputs": [],
   "source": [
    "def make_qe_input(superstructure: StructureData, pseudos: (str,Str), QEinput = \"qe.in\"):\n",
    "    params = {\n",
    "            'calculation': 'scf',\n",
    "             'tprnfor': True, \n",
    "             'tstress': True,\n",
    "            'pseudo_dir': \".\", \n",
    "            'ecutwfc': 3.,\n",
    "            'ecutrho': 10.,\n",
    "            'conv_thr': 5.e-6,\n",
    "            'electron_maxstep': 100,\n",
    "    }\n",
    "\n",
    "    if isinstance(pseudos,Str):\n",
    "        pseudos = pseudos.value\n",
    "    pseudo = _make_upf_locally(superstructure, pseudos)\n",
    "    kspacing  = 0.05\n",
    "    koffset  = (1,1,1)\n",
    "    with open(QEinput,\"w\") as f:\n",
    "        write_espresso_in(f, superstructure.get_ase(), pseudopotentials =pseudo, \n",
    "                          kspacing= kspacing, koffset=koffset, \n",
    "                      **params)\n",
    "    return True"
   ]
  },
  {
   "cell_type": "code",
   "execution_count": 46,
   "id": "34301da8",
   "metadata": {},
   "outputs": [],
   "source": [
    "alldisp_lammps_WorkChain = WorkflowFactory(\"alamode.dispall_lammps\")\n"
   ]
  },
  {
   "cell_type": "code",
   "execution_count": 47,
   "id": "f56927ee",
   "metadata": {},
   "outputs": [],
   "source": [
    "inputs = {\"displace_result\": g_displace_result,\n",
    "          \"data_folder\": g_dispfile_folder,\n",
    "          \"input_file_template\":  input_file_template,\n",
    "          \"code_string\":  code_simulator_name,\n",
    "          \"cwd\": g_cwd,\n",
    "          \"prefix\": g_prefix,\n",
    "          'potential_files': lammps_potentials}\n"
   ]
  },
  {
   "cell_type": "code",
   "execution_count": 48,
   "id": "645ae676",
   "metadata": {
    "scrolled": false
   },
   "outputs": [
    {
     "name": "stdout",
     "output_type": "stream",
     "text": [
      "wait another 5 sec.\n",
      "False False\n",
      "False\n"
     ]
    }
   ],
   "source": [
    "lammps_all = nodebank.load(\"all_lammps_harmonic\")\n",
    "if lammps_all is None:\n",
    "    lammps_all = submit(alldisp_lammps_WorkChain, **inputs)\n",
    "    wait_for_node_finished(lammps_all, 5)\n",
    "    print(lammps_all.is_finished_ok)\n"
   ]
  },
  {
   "cell_type": "code",
   "execution_count": 49,
   "id": "b1b3ddaa",
   "metadata": {},
   "outputs": [
    {
     "data": {
      "text/plain": [
       "<WorkChainNode: uuid: 3aa74d7a-7ad4-4467-866f-7a2c86b53916 (pk: 46098) (aiida.workflows:alamode.dispall_lammps)>"
      ]
     },
     "execution_count": 49,
     "metadata": {},
     "output_type": "execute_result"
    }
   ],
   "source": [
    "lammps_all\n"
   ]
  },
  {
   "cell_type": "code",
   "execution_count": 50,
   "id": "a30075bb",
   "metadata": {},
   "outputs": [
    {
     "ename": "NotExistentAttributeError",
     "evalue": "Node<46098> does not have an output with link label 'dfset'",
     "output_type": "error",
     "traceback": [
      "\u001b[0;31m---------------------------------------------------------------------------\u001b[0m",
      "\u001b[0;31mKeyError\u001b[0m                                  Traceback (most recent call last)",
      "\u001b[0;32m~/.virtualenvs/py39/lib/python3.9/site-packages/aiida/orm/utils/managers.py\u001b[0m in \u001b[0;36m_get_node_by_link_label\u001b[0;34m(self, label)\u001b[0m\n\u001b[1;32m     92\u001b[0m         \u001b[0;32mtry\u001b[0m\u001b[0;34m:\u001b[0m\u001b[0;34m\u001b[0m\u001b[0;34m\u001b[0m\u001b[0m\n\u001b[0;32m---> 93\u001b[0;31m             \u001b[0mnode\u001b[0m \u001b[0;34m=\u001b[0m \u001b[0mattribute_dict\u001b[0m\u001b[0;34m[\u001b[0m\u001b[0mlabel\u001b[0m\u001b[0;34m]\u001b[0m\u001b[0;34m\u001b[0m\u001b[0;34m\u001b[0m\u001b[0m\n\u001b[0m\u001b[1;32m     94\u001b[0m         \u001b[0;32mexcept\u001b[0m \u001b[0mKeyError\u001b[0m \u001b[0;32mas\u001b[0m \u001b[0mexception\u001b[0m\u001b[0;34m:\u001b[0m\u001b[0;34m\u001b[0m\u001b[0;34m\u001b[0m\u001b[0m\n",
      "\u001b[0;31mKeyError\u001b[0m: 'dfset'",
      "\nThe above exception was the direct cause of the following exception:\n",
      "\u001b[0;31mNotExistent\u001b[0m                               Traceback (most recent call last)",
      "\u001b[0;32m~/.virtualenvs/py39/lib/python3.9/site-packages/aiida/orm/utils/managers.py\u001b[0m in \u001b[0;36m__getattr__\u001b[0;34m(self, name)\u001b[0m\n\u001b[1;32m    140\u001b[0m         \u001b[0;32mtry\u001b[0m\u001b[0;34m:\u001b[0m\u001b[0;34m\u001b[0m\u001b[0;34m\u001b[0m\u001b[0m\n\u001b[0;32m--> 141\u001b[0;31m             \u001b[0;32mreturn\u001b[0m \u001b[0mself\u001b[0m\u001b[0;34m.\u001b[0m\u001b[0m_get_node_by_link_label\u001b[0m\u001b[0;34m(\u001b[0m\u001b[0mlabel\u001b[0m\u001b[0;34m=\u001b[0m\u001b[0mname\u001b[0m\u001b[0;34m)\u001b[0m\u001b[0;34m\u001b[0m\u001b[0;34m\u001b[0m\u001b[0m\n\u001b[0m\u001b[1;32m    142\u001b[0m         \u001b[0;32mexcept\u001b[0m \u001b[0mNotExistent\u001b[0m \u001b[0;32mas\u001b[0m \u001b[0mexception\u001b[0m\u001b[0;34m:\u001b[0m\u001b[0;34m\u001b[0m\u001b[0;34m\u001b[0m\u001b[0m\n",
      "\u001b[0;32m~/.virtualenvs/py39/lib/python3.9/site-packages/aiida/orm/utils/managers.py\u001b[0m in \u001b[0;36m_get_node_by_link_label\u001b[0;34m(self, label)\u001b[0m\n\u001b[1;32m    119\u001b[0m                     \u001b[0;32mraise\u001b[0m \u001b[0mNotExistent\u001b[0m \u001b[0;32mfrom\u001b[0m \u001b[0mexc\u001b[0m\u001b[0;34m\u001b[0m\u001b[0;34m\u001b[0m\u001b[0m\n\u001b[0;32m--> 120\u001b[0;31m             \u001b[0;32mraise\u001b[0m \u001b[0mNotExistent\u001b[0m \u001b[0;32mfrom\u001b[0m \u001b[0mexception\u001b[0m\u001b[0;34m\u001b[0m\u001b[0;34m\u001b[0m\u001b[0m\n\u001b[0m\u001b[1;32m    121\u001b[0m \u001b[0;34m\u001b[0m\u001b[0m\n",
      "\u001b[0;31mNotExistent\u001b[0m: ",
      "\nThe above exception was the direct cause of the following exception:\n",
      "\u001b[0;31mNotExistentAttributeError\u001b[0m                 Traceback (most recent call last)",
      "\u001b[0;32m/tmp/ipykernel_8929/539140181.py\u001b[0m in \u001b[0;36m<cell line: 1>\u001b[0;34m()\u001b[0m\n\u001b[0;32m----> 1\u001b[0;31m \u001b[0mlammps_all\u001b[0m\u001b[0;34m.\u001b[0m\u001b[0moutputs\u001b[0m\u001b[0;34m.\u001b[0m\u001b[0mdfset\u001b[0m\u001b[0;34m\u001b[0m\u001b[0;34m\u001b[0m\u001b[0m\n\u001b[0m",
      "\u001b[0;32m~/.virtualenvs/py39/lib/python3.9/site-packages/aiida/orm/utils/managers.py\u001b[0m in \u001b[0;36m__getattr__\u001b[0;34m(self, name)\u001b[0m\n\u001b[1;32m    145\u001b[0m             \u001b[0;31m# Otherwise, the exception is not caught by `getattr` and is propagated, instead of returning the default.\u001b[0m\u001b[0;34m\u001b[0m\u001b[0;34m\u001b[0m\u001b[0m\n\u001b[1;32m    146\u001b[0m             \u001b[0mprefix\u001b[0m \u001b[0;34m=\u001b[0m \u001b[0;34m'input'\u001b[0m \u001b[0;32mif\u001b[0m \u001b[0mself\u001b[0m\u001b[0;34m.\u001b[0m\u001b[0m_incoming\u001b[0m \u001b[0;32melse\u001b[0m \u001b[0;34m'output'\u001b[0m\u001b[0;34m\u001b[0m\u001b[0;34m\u001b[0m\u001b[0m\n\u001b[0;32m--> 147\u001b[0;31m             raise NotExistentAttributeError(\n\u001b[0m\u001b[1;32m    148\u001b[0m                 \u001b[0;34mf\"Node<{self._node.pk}> does not have an {prefix} with link label '{name}'\"\u001b[0m\u001b[0;34m\u001b[0m\u001b[0;34m\u001b[0m\u001b[0m\n\u001b[1;32m    149\u001b[0m             ) from exception\n",
      "\u001b[0;31mNotExistentAttributeError\u001b[0m: Node<46098> does not have an output with link label 'dfset'"
     ]
    }
   ],
   "source": [
    "lammps_all.outputs.dfset\n"
   ]
  },
  {
   "cell_type": "markdown",
   "id": "57eeed1b",
   "metadata": {},
   "source": [
    "# extract"
   ]
  },
  {
   "cell_type": "code",
   "execution_count": null,
   "id": "ace2dcf4",
   "metadata": {},
   "outputs": [],
   "source": [
    "g_cwd\n"
   ]
  },
  {
   "cell_type": "code",
   "execution_count": null,
   "id": "700a2436",
   "metadata": {},
   "outputs": [],
   "source": [
    "from aiida.plugins import DataFactory, WorkflowFactory\n",
    "extractworkchain = WorkflowFactory(\"alamode.extract\")\n",
    "\n",
    "g_target_file = lammps_all.outputs.dfset\n",
    "g_norder = nodebank.load(\"norder\")\n"
   ]
  },
  {
   "cell_type": "code",
   "execution_count": null,
   "id": "ef7ae158",
   "metadata": {},
   "outputs": [],
   "source": [
    "g_target_file\n"
   ]
  },
  {
   "cell_type": "code",
   "execution_count": null,
   "id": "a94a60ee",
   "metadata": {},
   "outputs": [],
   "source": [
    "g_superstructure_file\n"
   ]
  },
  {
   "cell_type": "code",
   "execution_count": null,
   "id": "02cd0fa5",
   "metadata": {},
   "outputs": [],
   "source": [
    "g_superstructure_file\n"
   ]
  },
  {
   "cell_type": "code",
   "execution_count": null,
   "id": "9087c184",
   "metadata": {},
   "outputs": [],
   "source": [
    "inputs = {'format': g_format,\n",
    "          'structure_org': g_superstructure_filepath,\n",
    "          # 'target_file': g_pwx_all_future.outputs.pwx_output,\n",
    "          'target_file': g_target_file,\n",
    "          'cwd': g_cwd,\n",
    "          'prefix': g_prefix\n",
    "          # \"norder\": g_norder\n",
    "          # 'output_filename' : g_DFSET_filename\n",
    "          }\n",
    "print(inputs)\n"
   ]
  },
  {
   "cell_type": "code",
   "execution_count": null,
   "id": "ba113c88",
   "metadata": {},
   "outputs": [],
   "source": [
    "from tools import wait_for_node_finished\n"
   ]
  },
  {
   "cell_type": "code",
   "execution_count": null,
   "id": "6702536e",
   "metadata": {
    "scrolled": false
   },
   "outputs": [],
   "source": [
    "g_alamodeextract_future = run(extractworkchain, **inputs)\n"
   ]
  },
  {
   "cell_type": "code",
   "execution_count": null,
   "id": "e715f9b8",
   "metadata": {
    "scrolled": false
   },
   "outputs": [],
   "source": [
    "g_alamodeextract_future = submit(extractworkchain, **inputs)\n",
    "print(g_alamodeextract_future)\n",
    "wait_for_node_finished(g_alamodeextract_future)\n",
    "print(g_alamodeextract_future.is_finished_ok)\n"
   ]
  },
  {
   "cell_type": "code",
   "execution_count": null,
   "id": "86932045",
   "metadata": {},
   "outputs": [],
   "source": [
    "nodebank.dump(\"harmic_extract\", g_alamodeextract_future)\n"
   ]
  },
  {
   "cell_type": "code",
   "execution_count": null,
   "id": "4ed01959",
   "metadata": {},
   "outputs": [],
   "source": []
  },
  {
   "cell_type": "code",
   "execution_count": null,
   "id": "e807a503",
   "metadata": {},
   "outputs": [],
   "source": []
  }
 ],
 "metadata": {
  "kernelspec": {
   "display_name": "py39",
   "language": "python",
   "name": "py39"
  },
  "language_info": {
   "codemirror_mode": {
    "name": "ipython",
    "version": 3
   },
   "file_extension": ".py",
   "mimetype": "text/x-python",
   "name": "python",
   "nbconvert_exporter": "python",
   "pygments_lexer": "ipython3",
   "version": "3.9.13"
  }
 },
 "nbformat": 4,
 "nbformat_minor": 5
}
