{
 "cells": [
  {
   "cell_type": "code",
   "execution_count": null,
   "id": "736a131b",
   "metadata": {},
   "outputs": [],
   "source": [
    "import aiida\n",
    "\n",
    "# must execute it in the first place\n",
    "aiida.load_profile()\n"
   ]
  },
  {
   "cell_type": "code",
   "execution_count": null,
   "id": "976280a7",
   "metadata": {},
   "outputs": [],
   "source": [
    "from aiida.orm import Code\n",
    "from aiida.orm import Str, Int, Dict, List, Float\n",
    "from aiida.engine import calcfunction, WorkChain, ToContext, append_\n",
    "from aiida.plugins import DataFactory, WorkflowFactory\n",
    "from itertools import cycle\n",
    "import os\n",
    "from tools import wait_for_node_finished\n",
    "\n",
    "from aiida.engine import calcfunction, workfunction, submit, run\n",
    "from aiida.orm import load_code, load_node\n",
    "\n",
    "# load types\n",
    "StructureData = DataFactory('structure')\n",
    "FolderData = DataFactory('folder')\n",
    "SinglefileData = DataFactory('singlefile')\n",
    "ArrayData = DataFactory('array')\n",
    "List = DataFactory('list')\n"
   ]
  },
  {
   "cell_type": "code",
   "execution_count": null,
   "id": "42858a59",
   "metadata": {},
   "outputs": [],
   "source": [
    "# codeの定義を行う。\n",
    "from tools.aiida_support import get_or_create_local_computer, get_or_create_code\n",
    "from os.path import expanduser\n",
    "import os\n",
    "\n",
    "home = expanduser(\"~\")\n",
    "work_directory = os.path.join(home, 'aiida')\n",
    "computer_local = get_or_create_local_computer(work_directory, 'localhost')\n",
    "print(computer_local)\n",
    "code = get_or_create_code('alamode.displace_pf',\n",
    "                          computer_local,\n",
    "                          '/home/max/Documents/aiida-test/alamode-aiida/alamode/displace.py')\n",
    "code_displace_pf = code\n",
    "code = get_or_create_code('alamode.displace_random',\n",
    "                          computer_local,\n",
    "                          '/home/max/Documents/aiida-test/alamode-aiida/alamode/displace.py')\n",
    "code_displace_random = code\n",
    "ode = get_or_create_code('alamode.lammps',\n",
    "                         computer_local,\n",
    "                         '/usr/bin/lammps')\n",
    "code_lammps_name = Str('alamode.lammps@localhost')\n",
    "\n",
    "code_displace_random, code_displace_pf, code_lammps_name\n"
   ]
  },
  {
   "cell_type": "code",
   "execution_count": null,
   "id": "38870d0e",
   "metadata": {},
   "outputs": [],
   "source": [
    "import json\n",
    "with open(\"setting.json\") as f:\n",
    "    _dic = json.load(f)\n",
    "print(_dic)\n",
    "CWD = _dic[\"CWD\"]\n",
    "_path = os.path.abspath(CWD)\n",
    "os.makedirs(_path, exist_ok=True)\n",
    "_path\n"
   ]
  },
  {
   "cell_type": "code",
   "execution_count": null,
   "id": "69ca0d11",
   "metadata": {},
   "outputs": [],
   "source": [
    "from os.path import expanduser\n",
    "from tools import NodeBank\n",
    "\n",
    "\n",
    "# 再実行時に作成したノードを用いるためにnodebankを使う。\n",
    "g_force = False\n",
    "nodebank = NodeBank(_path, force=g_force)\n"
   ]
  },
  {
   "cell_type": "code",
   "execution_count": null,
   "id": "4c40b16d",
   "metadata": {},
   "outputs": [],
   "source": [
    "g_cwd = nodebank.load(\"cubic_cwd\")  # cubic term 保存directory\n",
    "g_prefix = nodebank.load('cubic_prefix')  # cubic term prefix\n",
    "g_dispfile_folder = nodebank.load(\n",
    "    \"suggest_cubic_pattern_folder\")  # alm suggestの結果\n",
    "g_displace_result = nodebank.load(\"suggest_cubic_result\")  # alm suggestの結果\n",
    "g_superstructure = nodebank.load(\"superstructure\")  # 長周期構造\n"
   ]
  },
  {
   "cell_type": "code",
   "execution_count": null,
   "id": "4bffe601",
   "metadata": {},
   "outputs": [],
   "source": [
    "g_prefix, g_cwd, g_displace_result, g_dispfile_folder\n"
   ]
  },
  {
   "cell_type": "markdown",
   "id": "95589faa",
   "metadata": {},
   "source": [
    "# displace"
   ]
  },
  {
   "cell_type": "code",
   "execution_count": null,
   "id": "1a8d6d76",
   "metadata": {},
   "outputs": [],
   "source": [
    "g_format = nodebank.load(\"format\")  # structure file format\n",
    "g_superstructure_filepath = nodebank.load(\n",
    "    \"superstructure_filepath\")  # structurefile path\n",
    "g_cubic_mag = nodebank.load_or_dump(\"cubic_mag\", Float(0.04))\n",
    "g_format, g_cubic_mag, g_superstructure_filepath\n"
   ]
  },
  {
   "cell_type": "code",
   "execution_count": null,
   "id": "0060e2bf",
   "metadata": {},
   "outputs": [],
   "source": [
    "g_alm_suggest_cubic = nodebank.load(\"suggest_cubic_result\", raise_error=True)\n",
    "g_cubic_pattern_files = List(\n",
    "    list=[g_alm_suggest_cubic[\"disp_pattern\"]['ANHARM3']])\n",
    "g_cubic_pattern_files\n"
   ]
  },
  {
   "cell_type": "code",
   "execution_count": null,
   "id": "5171b1d1",
   "metadata": {},
   "outputs": [],
   "source": [
    "g_action = \"pf\"\n",
    "\n",
    "if g_action == \"pf\":\n",
    "    #codename = \"alamode.displace_pf@tutor\"\n",
    "    #code = Code.get_from_string(codename)\n",
    "    code = code_displace_pf\n",
    "\n",
    "    builder = code.get_builder()\n",
    "    builder.format = g_format\n",
    "    builder.cwd = g_cwd\n",
    "    builder.structure_org = g_superstructure_filepath\n",
    "    builder.mag = g_cubic_mag\n",
    "    builder.prefix = g_prefix\n",
    "    builder.pattern_files = g_cubic_pattern_files\n",
    "\n",
    "    g_displacefuture = nodebank.load(\"displace_cubic_pf\", g_force)\n",
    "    if g_displacefuture is None:\n",
    "        g_displacefuture = submit(builder)\n",
    "        print(g_displacefuture)\n",
    "        wait_for_node_finished(g_displacefuture)\n",
    "        if g_displacefuture.is_finished_ok:\n",
    "            nodebank.dump(\"displace_cubic_pf\", g_displacefuture)\n",
    "\n",
    "elif g_action == \"random\":\n",
    "    #codename = \"alamode.displace_random@tutor\"\n",
    "    #code = Code.get_from_string(codename)\n",
    "    code = code_displace_random\n",
    "\n",
    "    builder = code.get_builder()\n",
    "    builder.format = g_format\n",
    "    builder.cwd = g_cwd\n",
    "    builder.prefix = g_prefix\n",
    "    builder.structure_org = g_superstructure_filepath\n",
    "    builder.mag = g_cubic_mag\n",
    "    builder.num_disp = g_num_disp\n",
    "\n",
    "    g_displacefuture = nodebank.load(\"displace_cubic_random\", g_force)\n",
    "    if g_displacefuture is None:\n",
    "        g_displacefuture = submit(builder)\n",
    "        print(g_displacefuture)\n",
    "        wait_for_node_finished(g_displacefuture)\n",
    "        if g_displacefuture.is_finished_ok:\n",
    "            nodebank.dump(\"displace_cubic_random\", g_displacefuture)\n",
    "        else:\n",
    "            raise\n",
    "else:\n",
    "    raise ValueError(\"unknown action\")\n"
   ]
  },
  {
   "cell_type": "code",
   "execution_count": null,
   "id": "f34637c8",
   "metadata": {},
   "outputs": [],
   "source": [
    "g_displacefuture.outputs.dispfile_folder.list_object_names()\n"
   ]
  },
  {
   "cell_type": "code",
   "execution_count": null,
   "id": "0c6e734f",
   "metadata": {},
   "outputs": [],
   "source": [
    "_dir = os.path.abspath('lammps_input/Si222')\n",
    "if True:\n",
    "    lammps_potentials = FolderData()\n",
    "    for _p in [\"Si.sw\"]:\n",
    "        abspath = os.path.join(_dir, _p)\n",
    "        print(abspath, _p)\n",
    "        lammps_potentials.put_object_from_file(abspath, path=_p)\n",
    "else:\n",
    "    _potential = []\n",
    "    for _p in [\"Si.sw\"]:\n",
    "        _potential.append(os.path.join(_dir, _p))\n",
    "    lammps_potentials = List(list=_potential)\n",
    "\n",
    "input_file_template = SinglefileData(os.path.join(_dir, \"in.sw\"))\n"
   ]
  },
  {
   "cell_type": "code",
   "execution_count": null,
   "id": "cc436393",
   "metadata": {},
   "outputs": [],
   "source": [
    "g_dispfile_folder = g_displacefuture.outputs.dispfile_folder\n",
    "g_dispfile_folder, g_dispfile_folder.list_object_names()\n"
   ]
  },
  {
   "cell_type": "code",
   "execution_count": null,
   "id": "7e88b437",
   "metadata": {},
   "outputs": [],
   "source": [
    "g_displace_result = g_displacefuture.outputs.result\n",
    "g_displace_result.attributes\n"
   ]
  },
  {
   "cell_type": "code",
   "execution_count": null,
   "id": "f570e1bc",
   "metadata": {},
   "outputs": [],
   "source": [
    "codename = code_lammps_name\n"
   ]
  },
  {
   "cell_type": "code",
   "execution_count": null,
   "id": "f56927ee",
   "metadata": {},
   "outputs": [],
   "source": [
    "inputs = {\"displace_result\": g_displace_result,\n",
    "          \"data_folder\": g_dispfile_folder,\n",
    "          \"input_file_template\":  input_file_template,\n",
    "          \"code_string\":  codename,\n",
    "          'prefix': g_prefix,\n",
    "          \"cwd\": g_cwd,\n",
    "          'potential_files': lammps_potentials}\n"
   ]
  },
  {
   "cell_type": "code",
   "execution_count": null,
   "id": "492aa3a9",
   "metadata": {},
   "outputs": [],
   "source": [
    "alldisp_lammps_WorkChain = WorkflowFactory(\"alamode.dispall_lammps\")\n"
   ]
  },
  {
   "cell_type": "code",
   "execution_count": null,
   "id": "645ae676",
   "metadata": {},
   "outputs": [],
   "source": []
  },
  {
   "cell_type": "code",
   "execution_count": null,
   "id": "4eb2a630",
   "metadata": {},
   "outputs": [],
   "source": [
    "lammps_all = nodebank.load(\"all_lammps_harmonic\")\n",
    "if lammps_all is None:\n",
    "    lammps_all = submit(alldisp_lammps_WorkChain, **inputs)\n",
    "    wait_for_node_finished(lammps_all, 5)\n",
    "    print(lammps_all.is_finished_ok)\n"
   ]
  },
  {
   "cell_type": "code",
   "execution_count": null,
   "id": "a41042dc",
   "metadata": {},
   "outputs": [],
   "source": [
    "lammps_all"
   ]
  },
  {
   "cell_type": "code",
   "execution_count": null,
   "id": "6a7fb19e",
   "metadata": {},
   "outputs": [],
   "source": [
    "lammps_all.outputs.dfset"
   ]
  },
  {
   "cell_type": "code",
   "execution_count": null,
   "id": "a2d2b6e3",
   "metadata": {},
   "outputs": [],
   "source": [
    "nodebank.dump(\"cubic_all_dfset\",lammps_all.outputs.dfset)\n"
   ]
  },
  {
   "cell_type": "code",
   "execution_count": null,
   "id": "018de422",
   "metadata": {},
   "outputs": [],
   "source": [
    "\"done\""
   ]
  },
  {
   "cell_type": "code",
   "execution_count": null,
   "id": "fb298746",
   "metadata": {},
   "outputs": [],
   "source": []
  }
 ],
 "metadata": {
  "kernelspec": {
   "display_name": "py39",
   "language": "python",
   "name": "py39"
  },
  "language_info": {
   "codemirror_mode": {
    "name": "ipython",
    "version": 3
   },
   "file_extension": ".py",
   "mimetype": "text/x-python",
   "name": "python",
   "nbconvert_exporter": "python",
   "pygments_lexer": "ipython3",
   "version": "3.9.13"
  }
 },
 "nbformat": 4,
 "nbformat_minor": 5
}
