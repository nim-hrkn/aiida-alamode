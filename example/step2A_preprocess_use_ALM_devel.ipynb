{
 "cells": [
  {
   "cell_type": "code",
   "execution_count": 1,
   "id": "00af6b74",
   "metadata": {},
   "outputs": [
    {
     "data": {
      "text/plain": [
       "<aiida.manage.configuration.profile.Profile at 0x7f8435237f40>"
      ]
     },
     "execution_count": 1,
     "metadata": {},
     "output_type": "execute_result"
    }
   ],
   "source": [
    "import aiida\n",
    "\n",
    "# must execute it in the first place\n",
    "aiida.load_profile()\n"
   ]
  },
  {
   "cell_type": "code",
   "execution_count": 2,
   "id": "8e4f6644",
   "metadata": {},
   "outputs": [],
   "source": [
    "from aiida.manage.configuration import get_profile\n",
    "\n",
    "from aiida.common.datastructures import CalcInfo, CodeInfo\n",
    "from aiida.common.folders import Folder\n",
    "\n",
    "from aiida.engine import CalcJob, WorkChain\n",
    "from aiida.engine import calcfunction, workfunction, submit, run\n",
    "\n",
    "from aiida.plugins import DataFactory, WorkflowFactory\n",
    "\n",
    "from aiida.parsers.parser import Parser\n",
    "from aiida.orm import Code\n",
    "from aiida.orm import load_code, load_node\n",
    "from aiida.orm import Str, Dict, Float, Int\n",
    "from aiida.orm import QueryBuilder\n",
    "\n",
    "import aiida\n",
    "\n",
    "from alamode_aiida.data_loader import load_anphon_kl, load_anphon_kl_spec\n",
    "from ase.io.espresso import write_espresso_in\n",
    "from ase.io.lammpsdata import read_lammps_data\n",
    "from ase.build import make_supercell\n",
    "from ase import Atom, Atoms\n",
    "import ase\n",
    "\n",
    "from itertools import combinations_with_replacement\n",
    "import numpy as np\n",
    "import os\n",
    "import subprocess\n",
    "import shutil\n",
    "import re\n",
    "from time import sleep\n",
    "import spglib\n",
    "import json\n",
    "\n",
    "from os.path import expanduser\n",
    "\n",
    "from tools import NodeBank\n",
    "from tools import wait_for_node_finished\n",
    "from alamode_aiida.ase_support import load_atoms\n",
    "from tools.putstructure import PutStructure\n"
   ]
  },
  {
   "cell_type": "code",
   "execution_count": 3,
   "id": "1f22432e",
   "metadata": {},
   "outputs": [],
   "source": [
    "# load types\n",
    "StructureData = DataFactory('structure')\n",
    "FolderData = DataFactory('folder')\n",
    "SinglefileData = DataFactory('singlefile')\n",
    "ArrayData = DataFactory('array')\n",
    "List = DataFactory('list')\n"
   ]
  },
  {
   "cell_type": "code",
   "execution_count": 4,
   "id": "61ff93cc",
   "metadata": {},
   "outputs": [
    {
     "name": "stdout",
     "output_type": "stream",
     "text": [
      "{'CWD': 'run27'}\n"
     ]
    },
    {
     "data": {
      "text/plain": [
       "'/home/max/Documents/aiida-test/alamode-aiida/example/run27'"
      ]
     },
     "execution_count": 4,
     "metadata": {},
     "output_type": "execute_result"
    }
   ],
   "source": [
    "g_graph = False\n",
    "\n",
    "with open(\"setting.json\") as f:\n",
    "    _dic = json.load(f)\n",
    "print(_dic)\n",
    "CWD = _dic[\"CWD\"]\n",
    "_path = os.path.abspath(CWD)\n",
    "os.makedirs(_path, exist_ok=True)\n",
    "_path\n"
   ]
  },
  {
   "cell_type": "code",
   "execution_count": 5,
   "id": "a55d2fab",
   "metadata": {},
   "outputs": [
    {
     "data": {
      "text/plain": [
       "<Code: Remote code 'alamode.alm_suggest' on localhost, pk: 41706, uuid: 06f551d9-68cd-40d2-8e61-bc0a380843ed>"
      ]
     },
     "execution_count": 5,
     "metadata": {},
     "output_type": "execute_result"
    }
   ],
   "source": [
    "# codeの定義を行う。\n",
    "from tools.aiida_support import get_or_create_local_computer, get_or_create_code\n",
    "from os.path import expanduser\n",
    "import os\n",
    "home = expanduser(\"~\")\n",
    "work_directory = os.path.join(home, 'aiida')\n",
    "computer_local = get_or_create_local_computer(work_directory, 'localhost')\n",
    "code = get_or_create_code('alamode.alm_suggest',\n",
    "                          computer_local,\n",
    "                          '/home/max/Documents/alamode/bin/alm')\n",
    "code_alm_sugget = code\n",
    "\n",
    "code_alm_sugget\n"
   ]
  },
  {
   "cell_type": "code",
   "execution_count": 6,
   "id": "11c2fb18",
   "metadata": {},
   "outputs": [],
   "source": [
    "# 再実行時に作成したノードを用いるためにnodebankを使う。\n",
    "g_force = False\n",
    "nodebank = NodeBank(_path, force=g_force)\n"
   ]
  },
  {
   "cell_type": "code",
   "execution_count": 7,
   "id": "35407b8e",
   "metadata": {},
   "outputs": [],
   "source": [
    "# 計算するroot directoryの定義\n",
    "key = 'root_wd'\n",
    "g_root_wd = nodebank.load(key)"
   ]
  },
  {
   "cell_type": "code",
   "execution_count": 8,
   "id": "4e8097b0",
   "metadata": {},
   "outputs": [
    {
     "name": "stdout",
     "output_type": "stream",
     "text": [
      "debug, node uuid: a4bf90fb-b26a-452f-a207-0431a7b553fd (unstored) value: 1\n",
      "debug, load None\n",
      "debug, force dump\n"
     ]
    },
    {
     "data": {
      "text/plain": [
       "<Int: uuid: a4bf90fb-b26a-452f-a207-0431a7b553fd (pk: 51412) value: 1>"
      ]
     },
     "execution_count": 8,
     "metadata": {},
     "output_type": "execute_result"
    }
   ],
   "source": [
    "# harmonic partの計算を行う。\n",
    "g_norder = nodebank.load_or_dump(\"norder\", Int(1))\n",
    "g_norder"
   ]
  },
  {
   "cell_type": "code",
   "execution_count": null,
   "id": "34c08343",
   "metadata": {},
   "outputs": [],
   "source": []
  },
  {
   "cell_type": "code",
   "execution_count": 9,
   "id": "1e2fab82",
   "metadata": {},
   "outputs": [],
   "source": [
    "# g_primstructure_filepath = nodebank.load(\"primstructure_filepath\")\n",
    "# g_superstructure_filepath = nodebank.load(\"superstructure_filepath\")\n",
    "# g_superstructure_file = nodebank.load(\"superstructure_file\")\n",
    "g_primstructure = nodebank.load(\"primstructure\")\n",
    "g_superstructure = nodebank.load(\"superstructure\")\n",
    "\n",
    "g_primstructure_filename = nodebank.load(\"primstructure_filename\")\n",
    "g_superstructure_filename = nodebank.load(\"superstructure_filename\")"
   ]
  },
  {
   "cell_type": "code",
   "execution_count": 10,
   "id": "af141349",
   "metadata": {},
   "outputs": [
    {
     "data": {
      "text/plain": [
       "Atoms(symbols='Ga128N128', pbc=True, cell=[[12.76, 0.0, 0.0], [-6.38, 11.050484152289, 0.0], [0.0, 0.0, 20.756]], masses=...)"
      ]
     },
     "execution_count": 10,
     "metadata": {},
     "output_type": "execute_result"
    }
   ],
   "source": [
    "g_superstructure.get_ase()"
   ]
  },
  {
   "cell_type": "code",
   "execution_count": 11,
   "id": "8b7ca346",
   "metadata": {},
   "outputs": [
    {
     "data": {
      "text/plain": [
       "<Str: uuid: facb1820-88fc-426f-a8e0-681ec484ca38 (pk: 51410) value: /home/max/Documents/aiida-test/alamode-aiida/example/run27/Ga2N2_1x1x1_harmonic>"
      ]
     },
     "execution_count": 11,
     "metadata": {},
     "output_type": "execute_result"
    }
   ],
   "source": [
    "g_cwd = nodebank.load(\"cwd\")\n",
    "g_cwd"
   ]
  },
  {
   "cell_type": "code",
   "execution_count": 12,
   "id": "d1e95c37",
   "metadata": {},
   "outputs": [],
   "source": [
    "g_almprefix= nodebank.load(\"almprefix\")"
   ]
  },
  {
   "cell_type": "markdown",
   "id": "fde1406a",
   "metadata": {},
   "source": [
    "## alm suggest"
   ]
  },
  {
   "cell_type": "code",
   "execution_count": 13,
   "id": "f0532a0a",
   "metadata": {},
   "outputs": [
    {
     "name": "stdout",
     "output_type": "stream",
     "text": [
      "debug, node uuid: 2ce72424-aa0e-4766-a47a-82b7eac76291 (unstored) value: harmonic\n",
      "debug, load None\n",
      "debug, force dump\n"
     ]
    }
   ],
   "source": [
    "# 一意のファイル名にするためのprefix文字列\n",
    "# norder=1なのでharmonicとする\n",
    "g_prefix = nodebank.load_or_dump(\"prefix\", Str(\"harmonic\"))\n"
   ]
  },
  {
   "cell_type": "markdown",
   "id": "edc20e0c",
   "metadata": {},
   "source": [
    "# ALM"
   ]
  },
  {
   "cell_type": "code",
   "execution_count": 14,
   "id": "91dec37c",
   "metadata": {},
   "outputs": [],
   "source": [
    "from alm import ALM"
   ]
  },
  {
   "cell_type": "code",
   "execution_count": 15,
   "id": "5d8e26b2",
   "metadata": {
    "scrolled": false
   },
   "outputs": [
    {
     "name": "stdout",
     "output_type": "stream",
     "text": [
      "[[  0   1   2   3]\n",
      " [  4   5   6   7]\n",
      " [  8   9  10  11]\n",
      " [ 12  13  14  15]\n",
      " [ 16  17  18  19]\n",
      " [ 20  21  22  23]\n",
      " [ 24  25  26  27]\n",
      " [ 28  29  30  31]\n",
      " [ 32  33  34  35]\n",
      " [ 36  37  38  39]\n",
      " [ 40  41  42  43]\n",
      " [ 44  45  46  47]\n",
      " [ 48  49  50  51]\n",
      " [ 52  53  54  55]\n",
      " [ 56  57  58  59]\n",
      " [ 60  61  62  63]\n",
      " [ 64  65  66  67]\n",
      " [ 68  69  70  71]\n",
      " [ 72  73  74  75]\n",
      " [ 76  77  78  79]\n",
      " [ 80  81  82  83]\n",
      " [ 84  85  86  87]\n",
      " [ 88  89  90  91]\n",
      " [ 92  93  94  95]\n",
      " [ 96  97  98  99]\n",
      " [100 101 102 103]\n",
      " [104 105 106 107]\n",
      " [108 109 110 111]\n",
      " [112 113 114 115]\n",
      " [116 117 118 119]\n",
      " [120 121 122 123]\n",
      " [124 125 126 127]\n",
      " [128 129 130 131]\n",
      " [132 133 134 135]\n",
      " [136 137 138 139]\n",
      " [140 141 142 143]\n",
      " [144 145 146 147]\n",
      " [148 149 150 151]\n",
      " [152 153 154 155]\n",
      " [156 157 158 159]\n",
      " [160 161 162 163]\n",
      " [164 165 166 167]\n",
      " [168 169 170 171]\n",
      " [172 173 174 175]\n",
      " [176 177 178 179]\n",
      " [180 181 182 183]\n",
      " [184 185 186 187]\n",
      " [188 189 190 191]\n",
      " [192 193 194 195]\n",
      " [196 197 198 199]\n",
      " [200 201 202 203]\n",
      " [204 205 206 207]\n",
      " [208 209 210 211]\n",
      " [212 213 214 215]\n",
      " [216 217 218 219]\n",
      " [220 221 222 223]\n",
      " [224 225 226 227]\n",
      " [228 229 230 231]\n",
      " [232 233 234 235]\n",
      " [236 237 238 239]\n",
      " [240 241 242 243]\n",
      " [244 245 246 247]\n",
      " [248 249 250 251]\n",
      " [252 253 254 255]]\n",
      "1\n",
      "[[(0, array([1., 0., 0.]), 'Cartesian')], [(0, array([0., 1., 0.]), 'Cartesian')], [(0, array([-0., -1., -0.]), 'Cartesian')], [(0, array([0., 0., 1.]), 'Cartesian')], [(0, array([-0., -0., -1.]), 'Cartesian')], [(2, array([1., 0., 0.]), 'Cartesian')], [(2, array([0., 1., 0.]), 'Cartesian')], [(2, array([-0., -1., -0.]), 'Cartesian')], [(2, array([0., 0., 1.]), 'Cartesian')], [(2, array([-0., -0., -1.]), 'Cartesian')]]\n"
     ]
    }
   ],
   "source": [
    "@calcfunction\n",
    "def alm_sugget(superstructure, norder):\n",
    "    lavec = superstructure.get_ase().cell\n",
    "    xcoord = superstructure.get_ase().get_scaled_positions()\n",
    "    kd = superstructure.get_ase().get_atomic_numbers()\n",
    "    displacement_patterns = []\n",
    "    with ALM(lavec, xcoord, kd) as alm:\n",
    "        alm.define(norder.value)\n",
    "        alm.suggest()\n",
    "        print(alm.getmap_primitive_to_supercell())\n",
    "        \n",
    "        for fc_order in range(1, 1+g_norder.value):\n",
    "            print(fc_order)\n",
    "            print(alm.get_displacement_patterns(fc_order))\n",
    "            displacement_patterns.append(alm.get_displacement_patterns(fc_order))\n",
    "            \n",
    "    return List(list=displacement_patterns)\n",
    "\n",
    "@calcfunction\n",
    "def alm_sugget_put_pattern_files(displacement_patterns, cwd, filename_list):\n",
    "    folderdata = FolderData()\n",
    "    for displacement_pattern, filename in zip(displacement_patterns, filename_list):\n",
    "        filepath = os.path.abspath(os.path.join(cwd.value, filename))\n",
    "        with open(filepath,\"w\") as f:\n",
    "            json.dump(displacement_pattern, f)\n",
    "        folderdata.put_object_from_file(filepath, filename)\n",
    "    return folderdata\n",
    "\n",
    "displacement_patterns = alm_sugget( g_superstructure, g_norder)\n",
    "\n",
    "filename_list = List(list=[Str(\"pattern_dict.HARMONIC\")])\n",
    "adisplacement_patterns_folder_data = alm_sugget_put_pattern_files(displacement_patterns, \n",
    "                                                                  g_cwd, \n",
    "                                   filename_list)"
   ]
  },
  {
   "cell_type": "code",
   "execution_count": 16,
   "id": "8b5a2044",
   "metadata": {},
   "outputs": [
    {
     "data": {
      "text/plain": [
       "<List: uuid: 05880804-5925-44c1-88b8-926b4c7de74c (pk: 51415) value: [[[[0, [1.0, 0.0, 0.0], 'Cartesian']], [[0, [0.0, 1.0, 0.0], 'Cartesian']], [[0, [0.0, -1.0, 0.0], 'Cartesian']], [[0, [0.0, 0.0, 1.0], 'Cartesian']], [[0, [0.0, 0.0, -1.0], 'Cartesian']], [[2, [1.0, 0.0, 0.0], 'Cartesian']], [[2, [0.0, 1.0, 0.0], 'Cartesian']], [[2, [0.0, -1.0, 0.0], 'Cartesian']], [[2, [0.0, 0.0, 1.0], 'Cartesian']], [[2, [0.0, 0.0, -1.0], 'Cartesian']]]]>"
      ]
     },
     "execution_count": 16,
     "metadata": {},
     "output_type": "execute_result"
    }
   ],
   "source": [
    "nodebank.dump('displacement_patterns', displacement_patterns)"
   ]
  },
  {
   "cell_type": "code",
   "execution_count": null,
   "id": "ee65bdd3",
   "metadata": {},
   "outputs": [],
   "source": []
  },
  {
   "cell_type": "code",
   "execution_count": 17,
   "id": "854e34b1",
   "metadata": {
    "scrolled": false
   },
   "outputs": [
    {
     "name": "stdout",
     "output_type": "stream",
     "text": [
      "pattern.harmonic\n",
      "/home/max/Documents/aiida-test/alamode-aiida/example/run27/Ga2N2_1x1x1_harmonic/pattern.harmonic is made.\n"
     ]
    }
   ],
   "source": [
    "@calcfunction\n",
    "def make_pattern_files(displacement_patterns, cwd, filename_list):\n",
    "    folderdata = FolderData()\n",
    "    cwd = cwd.value\n",
    "    for displacement_pattern, filename in zip(displacement_patterns.get_list(), filename_list.get_list()):\n",
    "        filename = filename\n",
    "        print(filename)\n",
    "        basis = []\n",
    "        for pats in displacement_pattern:\n",
    "            for pat in pats:\n",
    "                basis.append(pat[-1])\n",
    "        basis = np.array(basis)\n",
    "        if np.all(basis=='Cartesian'):\n",
    "            basis = \"C\"\n",
    "        else:\n",
    "            raise ValueError('not all basis is C')\n",
    "        lines = [f\"basis : {basis}\"]\n",
    "        for i, pats in enumerate(displacement_pattern):\n",
    "            lines.append(f'{i+1}: {len(pats)}')\n",
    "            for pat in pats:\n",
    "                n = pat[0]\n",
    "                v = list(map(int,pat[1]))\n",
    "                lines.append(f' {n+1} {v[0]} {v[1]} {v[2]}')\n",
    "        # write to the file\n",
    "        filepath = os.path.join(cwd, filename) \n",
    "        with open(filepath, \"w\") as f:\n",
    "            f.write(\"\\n\".join(lines))\n",
    "        print(filepath,\"is made.\")\n",
    "        folderdata.put_object_from_file(filepath, filename)\n",
    "    return folderdata\n",
    "        \n",
    "filename_list = List(list=['pattern.harmonic','pattern.cubic'])\n",
    "pattern_folder = make_pattern_files(displacement_patterns, g_cwd, filename_list)"
   ]
  },
  {
   "cell_type": "code",
   "execution_count": 18,
   "id": "8cceabd3",
   "metadata": {},
   "outputs": [
    {
     "data": {
      "text/plain": [
       "['pattern.harmonic']"
      ]
     },
     "execution_count": 18,
     "metadata": {},
     "output_type": "execute_result"
    }
   ],
   "source": [
    "pattern_folder.list_object_names()"
   ]
  },
  {
   "cell_type": "code",
   "execution_count": null,
   "id": "6ce081b3",
   "metadata": {},
   "outputs": [],
   "source": []
  }
 ],
 "metadata": {
  "kernelspec": {
   "display_name": "py39",
   "language": "python",
   "name": "py39"
  },
  "language_info": {
   "codemirror_mode": {
    "name": "ipython",
    "version": 3
   },
   "file_extension": ".py",
   "mimetype": "text/x-python",
   "name": "python",
   "nbconvert_exporter": "python",
   "pygments_lexer": "ipython3",
   "version": "3.9.13"
  }
 },
 "nbformat": 4,
 "nbformat_minor": 5
}
