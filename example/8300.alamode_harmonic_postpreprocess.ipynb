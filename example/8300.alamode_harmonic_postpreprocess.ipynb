{
 "cells": [
  {
   "cell_type": "code",
   "execution_count": null,
   "id": "736a131b",
   "metadata": {},
   "outputs": [],
   "source": [
    "import aiida\n",
    "\n",
    "# must execute it in the first place\n",
    "aiida.load_profile()\n"
   ]
  },
  {
   "cell_type": "code",
   "execution_count": null,
   "id": "678f94ab",
   "metadata": {},
   "outputs": [],
   "source": [
    "from aiida.orm import Code\n",
    "from aiida.orm import Str, Int, Dict, List\n",
    "from aiida.engine import calcfunction, WorkChain, ToContext, append_\n",
    "from aiida.plugins import DataFactory, WorkflowFactory\n",
    "from itertools import cycle\n",
    "import os\n",
    "from tools import wait_for_node_finished\n",
    "from aiida.engine import calcfunction, workfunction, submit, run\n",
    "from aiida.orm import load_code, load_node\n",
    "\n",
    "# load types\n",
    "StructureData = DataFactory('structure')\n",
    "FolderData = DataFactory('folder')\n",
    "SinglefileData = DataFactory('singlefile')\n",
    "ArrayData = DataFactory('array')\n",
    "List = DataFactory('list')\n"
   ]
  },
  {
   "cell_type": "code",
   "execution_count": null,
   "id": "19dac063",
   "metadata": {},
   "outputs": [],
   "source": [
    "# codeの定義を行う。\n",
    "from tools.aiida_support import get_or_create_local_computer, get_or_create_code\n",
    "from os.path import expanduser\n",
    "import os\n",
    "home = expanduser(\"~\")\n",
    "work_directory = os.path.join(home, 'aiida')\n",
    "computer_local = get_or_create_local_computer(work_directory, 'localhost')\n",
    "code = get_or_create_code('alamode.alm_opt',\n",
    "                          computer_local,\n",
    "                          '/home/max/Documents/alamode/bin/alm')\n",
    "code_alm_opt = code\n",
    "code = get_or_create_code('alamode.anphon',\n",
    "                          computer_local,\n",
    "                          '/home/max/Documents/alamode/bin/anphon')\n",
    "code_anphon = code\n",
    "\n",
    "code_alm_opt, code_anphon\n"
   ]
  },
  {
   "cell_type": "code",
   "execution_count": null,
   "id": "38870d0e",
   "metadata": {},
   "outputs": [],
   "source": [
    "import json\n",
    "with open(\"setting.json\") as f:\n",
    "    _dic = json.load(f)\n",
    "print(_dic)\n",
    "CWD = _dic[\"CWD\"]\n",
    "_path = os.path.abspath(CWD)\n",
    "os.makedirs(_path, exist_ok=True)\n",
    "_path\n"
   ]
  },
  {
   "cell_type": "code",
   "execution_count": null,
   "id": "69ca0d11",
   "metadata": {},
   "outputs": [],
   "source": [
    "from os.path import expanduser\n",
    "from tools import NodeBank\n",
    "\n",
    "\n",
    "# 再実行時に作成したノードを用いるためにnodebankを使う。\n",
    "g_force = False\n",
    "nodebank = NodeBank(_path, force=g_force)\n"
   ]
  },
  {
   "cell_type": "code",
   "execution_count": null,
   "id": "4c40b16d",
   "metadata": {},
   "outputs": [],
   "source": [
    "g_cwd = nodebank.load(\"cwd\")\n",
    "g_dispfile_folder = nodebank.load(\"dispfile_folder\")\n",
    "g_displace_result = nodebank.load(\"displace_result\")\n",
    "g_superstructure = nodebank.load(\"superstructure\")\n"
   ]
  },
  {
   "cell_type": "markdown",
   "id": "4b0287d9",
   "metadata": {},
   "source": [
    "# alm opt "
   ]
  },
  {
   "cell_type": "code",
   "execution_count": null,
   "id": "25815d94",
   "metadata": {},
   "outputs": [],
   "source": [
    "g_alamodeextract_future = nodebank.load('harmic_extract')\n"
   ]
  },
  {
   "cell_type": "code",
   "execution_count": null,
   "id": "741b599d",
   "metadata": {},
   "outputs": [],
   "source": [
    "g_alamodeextract_future.outputs.dfset_file\n"
   ]
  },
  {
   "cell_type": "code",
   "execution_count": null,
   "id": "56f736b2",
   "metadata": {},
   "outputs": [],
   "source": [
    "g_DFSET_file = g_alamodeextract_future.outputs.dfset_file\n",
    "g_wd = nodebank.load(\"almprefix\")  # subdirectory名\n",
    "g_norder = nodebank.load(\"norder\")\n"
   ]
  },
  {
   "cell_type": "code",
   "execution_count": null,
   "id": "f806ade5",
   "metadata": {},
   "outputs": [],
   "source": [
    "g_prefix = nodebank.load('prefix')\n"
   ]
  },
  {
   "cell_type": "code",
   "execution_count": null,
   "id": "abb33bc4",
   "metadata": {},
   "outputs": [],
   "source": [
    "g_superstructure\n"
   ]
  },
  {
   "cell_type": "code",
   "execution_count": null,
   "id": "47293f5a",
   "metadata": {},
   "outputs": [],
   "source": [
    "code = code_alm_opt\n",
    "\n",
    "builder = code.get_builder()\n",
    "builder.structure = g_superstructure  # 　安定構造\n",
    "builder.prefix = g_prefix\n",
    "builder.cwd = g_cwd\n",
    "builder.norder = g_norder\n",
    "builder.dfset_file = g_DFSET_file\n",
    "\n",
    "g_almoptfuture = submit(builder)\n",
    "print(g_almoptfuture)\n",
    "wait_for_node_finished(g_almoptfuture)\n"
   ]
  },
  {
   "cell_type": "code",
   "execution_count": null,
   "id": "c592d96a",
   "metadata": {},
   "outputs": [],
   "source": [
    "nodebank.dump(\"anphonfile_xml\", g_almoptfuture.outputs.input_ANPHON_file)\n"
   ]
  },
  {
   "cell_type": "markdown",
   "id": "ed903fcc",
   "metadata": {},
   "source": [
    "# phonon dispersion"
   ]
  },
  {
   "cell_type": "code",
   "execution_count": null,
   "id": "d0a5ca55",
   "metadata": {},
   "outputs": [],
   "source": [
    "g_root_wd = nodebank.load(\"root_wd\")\n",
    "g_root_wd  # 実行root directory\n"
   ]
  },
  {
   "cell_type": "code",
   "execution_count": null,
   "id": "1b523fd0",
   "metadata": {},
   "outputs": [],
   "source": [
    "g_wd  # subdirectory名\n"
   ]
  },
  {
   "cell_type": "code",
   "execution_count": null,
   "id": "49ed1974",
   "metadata": {},
   "outputs": [],
   "source": [
    "g_property = Str(os.path.join(g_root_wd.value, \"property\")\n",
    "                 )  # property directory\n",
    "os.makedirs(g_property.value, exist_ok=True)\n",
    "g_primstructure = nodebank.load(\"primstructure\")  # primitive cell\n"
   ]
  },
  {
   "cell_type": "code",
   "execution_count": null,
   "id": "f8e0c7e0",
   "metadata": {},
   "outputs": [],
   "source": [
    "code = code_anphon\n",
    "\n",
    "builder = code.get_builder()\n",
    "builder.structure = g_primstructure\n",
    "builder.prefix = g_wd\n",
    "builder.cwd = g_property\n",
    "# builder.norder = g_norder\n",
    "builder.fcsxml = g_almoptfuture.outputs.input_ANPHON_file\n",
    "builder.mode = Str(\"phonons\")\n",
    "builder.phonons_mode = Str(\"band\")\n",
    "# builder.kparam = Dict(dict={}) # should merge to the input port, param.\n",
    "\n",
    "g_phbandfuture = submit(builder)\n",
    "print(g_phbandfuture)\n",
    "wait_for_node_finished(g_phbandfuture, 5)\n"
   ]
  },
  {
   "cell_type": "code",
   "execution_count": null,
   "id": "fe170051",
   "metadata": {},
   "outputs": [],
   "source": [
    "g_primstructure.get_ase()\n"
   ]
  },
  {
   "cell_type": "code",
   "execution_count": null,
   "id": "4ac1c512",
   "metadata": {},
   "outputs": [],
   "source": [
    "g_diag = nodebank.load(\"diag\")\n",
    "print(g_diag.get_array('diag'))\n"
   ]
  },
  {
   "cell_type": "code",
   "execution_count": null,
   "id": "2caf392b",
   "metadata": {},
   "outputs": [],
   "source": [
    "# from alamode_aiida.alm_input import make_alm_uniform_kmesh\n",
    "# g_qmesh_value = make_alm_uniform_kmesh(g_primstructure.get_ase(),kspacing=0.001)\n",
    "g_qmesh = List(list=[10, 10, 10])  # qmeshの定義\n",
    "g_qmesh.get_list()\n"
   ]
  },
  {
   "cell_type": "code",
   "execution_count": null,
   "id": "becdb9f4",
   "metadata": {},
   "outputs": [],
   "source": [
    "g_almprefix = \"_\".join([g_primstructure.get_formula(),\n",
    "                        \"x\".join(map(str, g_diag.get_array(\"diag\"))),\n",
    "                        \"harmonic\",\n",
    "                       \"q\"+\"x\".join(map(str, g_qmesh.get_list()))\n",
    "                        ])\n",
    "print(g_almprefix)\n",
    "\n",
    "g_wd_dos = Str(g_almprefix)\n",
    "g_wd_dos  # dos用の識別子\n"
   ]
  },
  {
   "cell_type": "code",
   "execution_count": null,
   "id": "d43c6352",
   "metadata": {},
   "outputs": [],
   "source": [
    "#codename = \"anphon@tutor\"\n",
    "#code = Code.get_from_string(codename)\n",
    "code = code_anphon\n",
    "\n",
    "\n",
    "builder = code.get_builder()\n",
    "builder.structure = g_primstructure\n",
    "builder.prefix = g_wd_dos\n",
    "builder.cwd = g_property\n",
    "# builder.norder = g_norder\n",
    "builder.fcsxml = g_almoptfuture.outputs.input_ANPHON_file\n",
    "builder.mode = Str(\"phonons\")\n",
    "builder.phonons_mode = Str(\"dos\")\n",
    "builder.qmesh = g_qmesh\n",
    "\n",
    "g_phdosfuture = submit(builder)\n",
    "print(g_phdosfuture)\n",
    "wait_for_node_finished(g_phdosfuture, 5)\n"
   ]
  },
  {
   "cell_type": "markdown",
   "id": "2e2f15ca",
   "metadata": {},
   "source": [
    "# plot dispersion"
   ]
  },
  {
   "cell_type": "code",
   "execution_count": null,
   "id": "e56f00a3",
   "metadata": {},
   "outputs": [],
   "source": [
    "g_wd\n"
   ]
  },
  {
   "cell_type": "code",
   "execution_count": null,
   "id": "2d005c34",
   "metadata": {},
   "outputs": [],
   "source": [
    "phbandworkchain = WorkflowFactory('alamode.phband_img')\n",
    "# g_img_filename = Str(f\"{g_wd.value}_phband.pdf\")\n",
    "g_band_filenames = g_phbandfuture.outputs.phband_file\n",
    "inputs = {\"cwd\": g_property, \"band_filenames\": g_band_filenames, \"prefix\": g_wd}\n",
    "print(inputs)\n"
   ]
  },
  {
   "cell_type": "code",
   "execution_count": null,
   "id": "826e206f",
   "metadata": {},
   "outputs": [],
   "source": [
    "\n",
    "phbandimgworkchain = submit(phbandworkchain, **inputs)\n",
    "print(phbandimgworkchain)\n",
    "wait_for_node_finished(phbandimgworkchain)\n"
   ]
  },
  {
   "cell_type": "code",
   "execution_count": null,
   "id": "bb895336",
   "metadata": {},
   "outputs": [],
   "source": [
    "phbandimgworkchain.outputs.img_file.filename  # g_property directoryの出力ファイル\n"
   ]
  },
  {
   "cell_type": "markdown",
   "id": "b52e29fe",
   "metadata": {},
   "source": [
    "# plot DOS"
   ]
  },
  {
   "cell_type": "code",
   "execution_count": null,
   "id": "65f90ee0",
   "metadata": {},
   "outputs": [],
   "source": [
    "\n",
    "phdosworkchain = WorkflowFactory('alamode.phdos_img')\n",
    "\n",
    "inputs = {\"cwd\": g_property, \"dos_filenames\": g_phdosfuture.outputs.phdos_file,\n",
    "          \"prefix\": g_wd_dos}\n",
    "print(inputs)\n",
    "\n",
    "g_dosfuture = submit(phdosworkchain, **inputs)\n",
    "print(g_dosfuture)\n",
    "wait_for_node_finished(g_dosfuture)\n",
    "g_dosfuture.outputs.img_file.filename\n"
   ]
  },
  {
   "cell_type": "markdown",
   "id": "84a9e236",
   "metadata": {},
   "source": [
    "## free energies"
   ]
  },
  {
   "cell_type": "code",
   "execution_count": null,
   "id": "1009b3bc",
   "metadata": {},
   "outputs": [],
   "source": [
    "FreeenergyImgWorkChain = WorkflowFactory(\"alamode.freeenergy_img\")\n",
    "g_img_filename = Str(\"phdos_freeenergy.pdf\")\n",
    "g_inputs = {'cwd': g_property, 'prefix': g_wd_dos,\n",
    "            'thermo_file': g_phdosfuture.outputs.thermo_file}\n",
    "\n",
    "freeenergyimgfuture = nodebank.load(\"freeenergyimg\", g_force)\n",
    "if freeenergyimgfuture is None:\n",
    "    # if True:\n",
    "    freeenergyimgfuture = submit(FreeenergyImgWorkChain, **g_inputs)\n",
    "    print(freeenergyimgfuture)\n",
    "    wait_for_node_finished(freeenergyimgfuture)\n",
    "    if freeenergyimgfuture.is_finished_ok:\n",
    "        nodebank.dump(\"freeenergyimg\", freeenergyimgfuture)\n"
   ]
  },
  {
   "cell_type": "code",
   "execution_count": null,
   "id": "9fcd2fbb",
   "metadata": {},
   "outputs": [],
   "source": [
    "freeenergyimgfuture.outputs.img_file.list_object_names()\n"
   ]
  },
  {
   "cell_type": "code",
   "execution_count": null,
   "id": "4ed01959",
   "metadata": {},
   "outputs": [],
   "source": []
  }
 ],
 "metadata": {
  "kernelspec": {
   "display_name": "py39",
   "language": "python",
   "name": "py39"
  },
  "language_info": {
   "codemirror_mode": {
    "name": "ipython",
    "version": 3
   },
   "file_extension": ".py",
   "mimetype": "text/x-python",
   "name": "python",
   "nbconvert_exporter": "python",
   "pygments_lexer": "ipython3",
   "version": "3.9.13"
  }
 },
 "nbformat": 4,
 "nbformat_minor": 5
}
