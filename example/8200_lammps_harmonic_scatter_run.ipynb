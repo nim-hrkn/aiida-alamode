{
 "cells": [
  {
   "cell_type": "code",
   "execution_count": null,
   "id": "736a131b",
   "metadata": {},
   "outputs": [],
   "source": [
    "import aiida\n",
    "\n",
    "# must execute it in the first place\n",
    "aiida.load_profile()\n"
   ]
  },
  {
   "cell_type": "code",
   "execution_count": null,
   "id": "678f94ab",
   "metadata": {},
   "outputs": [],
   "source": [
    "from aiida.orm import Code\n",
    "from aiida.orm import Str, Int, Dict, List, Float\n",
    "from aiida.engine import calcfunction, WorkChain, ToContext, append_\n",
    "from aiida.plugins import DataFactory, WorkflowFactory\n",
    "from itertools import cycle\n",
    "import os\n",
    "\n",
    "from aiida.engine import calcfunction, workfunction, submit, run\n",
    "from aiida.orm import load_code, load_node\n",
    "from tools import load_atoms\n",
    "from ase import io\n",
    "from tools import wait_for_node_finished\n",
    "\n",
    "# load types\n",
    "StructureData = DataFactory('structure')\n",
    "FolderData = DataFactory('folder')\n",
    "SinglefileData = DataFactory('singlefile')\n",
    "ArrayData = DataFactory('array')\n",
    "List = DataFactory('list')\n"
   ]
  },
  {
   "cell_type": "code",
   "execution_count": null,
   "id": "4f8a3e37",
   "metadata": {},
   "outputs": [],
   "source": [
    "# codeの定義を行う。\n",
    "from tools.aiida_support import get_or_create_local_computer, get_or_create_code\n",
    "from os.path import expanduser\n",
    "import os\n",
    "\n",
    "home = expanduser(\"~\")\n",
    "work_directory = os.path.join(home, 'aiida')\n",
    "computer_local = get_or_create_local_computer(work_directory, 'localhost')\n",
    "print(computer_local)\n",
    "code = get_or_create_code('alamode.displace_pf',\n",
    "                          computer_local,\n",
    "                          '/home/max/Documents/aiida-test/alamode-aiida/alamode/displace.py')\n",
    "code_displace_pf = code\n",
    "code = get_or_create_code('alamode.displace_random',\n",
    "                          computer_local,\n",
    "                          '/home/max/Documents/aiida-test/alamode-aiida/alamode/displace.py')\n",
    "code_displace_random = code\n",
    "ode = get_or_create_code('alamode.lammps',\n",
    "                         computer_local,\n",
    "                         '/usr/bin/lammps')\n",
    "code_lammps_name = Str('alamode.lammps@localhost')\n",
    "\n",
    "code_displace_random, code_displace_pf, code_lammps_name\n"
   ]
  },
  {
   "cell_type": "code",
   "execution_count": null,
   "id": "190c2403",
   "metadata": {},
   "outputs": [],
   "source": []
  },
  {
   "cell_type": "code",
   "execution_count": null,
   "id": "38870d0e",
   "metadata": {},
   "outputs": [],
   "source": [
    "import json\n",
    "with open(\"setting.json\") as f:\n",
    "    _dic = json.load(f)\n",
    "print(_dic)\n",
    "CWD = _dic[\"CWD\"]\n",
    "_path = os.path.abspath(CWD)\n",
    "os.makedirs(_path, exist_ok=True)\n",
    "_path\n"
   ]
  },
  {
   "cell_type": "code",
   "execution_count": null,
   "id": "69ca0d11",
   "metadata": {},
   "outputs": [],
   "source": [
    "\n",
    "from os.path import expanduser\n",
    "from tools import NodeBank\n",
    "\n",
    "\n",
    "# 再実行時に作成したノードを用いるためにnodebankを使う。\n",
    "g_force = False\n",
    "nodebank = NodeBank(_path, force=g_force)\n"
   ]
  },
  {
   "cell_type": "code",
   "execution_count": null,
   "id": "4c40b16d",
   "metadata": {},
   "outputs": [],
   "source": [
    "g_cwd = nodebank.load(\"cwd\")  # ファイル保存directory\n",
    "g_superstructure = nodebank.load(\"superstructure\")  # 使用する長周期構造StructureData\n",
    "g_superstructure_file = nodebank.load(\n",
    "    \"superstructure_file\")  # 使用する長周期構造ファイルSinglefileData\n",
    "g_superstructure_filepath = nodebank.load(\n",
    "    \"superstructure_filepath\")  # 使用する長周期構造ファイルabspath\n",
    "\n",
    "g_file_format = nodebank.load(\"structure_org_format\")  # lammpsの位置フォーマット\n",
    "g_file_style = nodebank.load(\"structure_org_style\")  # lammpsの位置フォーマットのオプション\n",
    "g_file_format, g_file_style, g_superstructure_file\n"
   ]
  },
  {
   "cell_type": "markdown",
   "id": "1e661036",
   "metadata": {},
   "source": [
    "## for LAMMPS"
   ]
  },
  {
   "cell_type": "code",
   "execution_count": null,
   "id": "65a7c879",
   "metadata": {},
   "outputs": [],
   "source": [
    "key = \"format\"\n",
    "g_format = nodebank.load_or_dump(key, Str(\"LAMMPS\"))  # alamodeのファイルオプションの定義\n"
   ]
  },
  {
   "cell_type": "code",
   "execution_count": null,
   "id": "0c6e734f",
   "metadata": {},
   "outputs": [],
   "source": [
    "_dir = os.path.abspath('lammps_input/Si222')\n",
    "if True:\n",
    "    lammps_potentials = FolderData()\n",
    "    for _p in [\"Si.sw\"]:\n",
    "        abspath = os.path.join(_dir, _p)\n",
    "        print(abspath, _p)\n",
    "        lammps_potentials.put_object_from_file(abspath, path=_p)\n",
    "else:\n",
    "    _potential = []\n",
    "    for _p in [\"Si.sw\"]:\n",
    "        _potential.append(os.path.join(_dir, _p))\n",
    "    lammps_potentials = List(list=_potential)\n",
    "\n",
    "input_file_template = SinglefileData(os.path.join(_dir, \"in.sw\"))\n"
   ]
  },
  {
   "cell_type": "code",
   "execution_count": null,
   "id": "b1b5c9db",
   "metadata": {},
   "outputs": [],
   "source": [
    "input_file_template.get_content()\n"
   ]
  },
  {
   "cell_type": "code",
   "execution_count": null,
   "id": "06baaf44",
   "metadata": {},
   "outputs": [],
   "source": [
    "g_mag = nodebank.load_or_dump(\"mag\", Float(0.01))\n"
   ]
  },
  {
   "cell_type": "code",
   "execution_count": null,
   "id": "52d63be2",
   "metadata": {},
   "outputs": [],
   "source": [
    "g_pattern_files = nodebank.load(\"harmonic_pattern_folder\")  # 作成したpattern files\n",
    "g_pattern_files\n"
   ]
  },
  {
   "cell_type": "code",
   "execution_count": null,
   "id": "97e203ea",
   "metadata": {},
   "outputs": [],
   "source": [
    "g_pattern_files.list_object_names()\n"
   ]
  },
  {
   "cell_type": "code",
   "execution_count": null,
   "id": "c2492a55",
   "metadata": {},
   "outputs": [],
   "source": [
    "g_pattern_files.get_object_content('harmonic.pattern_HARMONIC')\n"
   ]
  },
  {
   "cell_type": "code",
   "execution_count": null,
   "id": "ea5f0c98",
   "metadata": {},
   "outputs": [],
   "source": [
    "g_prefix = nodebank.load('prefix')\n",
    "g_prefix\n"
   ]
  },
  {
   "cell_type": "code",
   "execution_count": null,
   "id": "2afe1349",
   "metadata": {},
   "outputs": [],
   "source": [
    "g_action = \"random\"\n",
    "\n",
    "if g_action == \"pf\":\n",
    "\n",
    "    #codename = \"alamode.displace_pf@tutor\"\n",
    "    #code = Code.get_from_string(codename)\n",
    "    code = code_displace_pf\n",
    "\n",
    "    builder = code.get_builder()\n",
    "    builder.format = g_format\n",
    "    builder.cwd = g_cwd\n",
    "    builder.prefix = g_prefix\n",
    "    builder.structure_org = g_superstructure_file\n",
    "    builder.mag = g_mag\n",
    "    builder.pattern_files = g_pattern_files\n",
    "\n",
    "    g_displacefuture = nodebank.load(\"displace_pf\")\n",
    "    if g_displacefuture is None:\n",
    "        g_displacefuture = submit(builder)\n",
    "        print(g_displacefuture)\n",
    "        wait_for_node_finished(g_displacefuture)\n",
    "        if g_displacefuture.is_finished_ok:\n",
    "            nodebank.dump(\"displace_pf\", g_displacefuture)\n",
    "\n",
    "elif g_action == \"random\":\n",
    "\n",
    "    g_num_disp = nodebank.load_or_dump(\"num_disp\", Int(5))\n",
    "\n",
    "    #codename = \"alamode.displace_random@tutor\"\n",
    "    #code = Code.get_from_string(codename)\n",
    "    code = code_displace_random\n",
    "\n",
    "    builder = code.get_builder()\n",
    "    builder.format = g_format\n",
    "    builder.cwd = g_cwd\n",
    "    builder.prefix = g_prefix\n",
    "    builder.structure_org = g_superstructure_file\n",
    "    builder.mag = g_mag\n",
    "    builder.num_disp = g_num_disp\n",
    "\n",
    "    g_displacefuture = nodebank.load(\"displace_random\")\n",
    "    if g_displacefuture is None:\n",
    "        g_displacefuture = submit(builder)\n",
    "        print(g_displacefuture)\n",
    "        wait_for_node_finished(g_displacefuture)\n",
    "        if g_displacefuture.is_finished_ok:\n",
    "            nodebank.dump(\"displace_random\", g_displacefuture)\n",
    "        else:\n",
    "            raise\n",
    "else:\n",
    "    raise ValueError(\"unknown action\")\n"
   ]
  },
  {
   "cell_type": "code",
   "execution_count": null,
   "id": "742d7f7b",
   "metadata": {},
   "outputs": [],
   "source": []
  },
  {
   "cell_type": "code",
   "execution_count": null,
   "id": "2137b6e6",
   "metadata": {},
   "outputs": [],
   "source": [
    "g_displacefuture\n"
   ]
  },
  {
   "cell_type": "code",
   "execution_count": null,
   "id": "f6908ec4",
   "metadata": {},
   "outputs": [],
   "source": [
    "g_displacefuture.outputs\n"
   ]
  },
  {
   "cell_type": "code",
   "execution_count": null,
   "id": "336eb3e4",
   "metadata": {},
   "outputs": [],
   "source": [
    "g_displace_result = g_displacefuture.outputs.result\n",
    "g_displace_result\n"
   ]
  },
  {
   "cell_type": "code",
   "execution_count": null,
   "id": "e0056be2",
   "metadata": {},
   "outputs": [],
   "source": [
    "g_dispfile_folder = g_displacefuture.outputs.dispfile_folder\n"
   ]
  },
  {
   "cell_type": "code",
   "execution_count": null,
   "id": "cb5bfa27",
   "metadata": {},
   "outputs": [],
   "source": [
    "g_dispfile_folder.list_object_names()  # lammps data files\n"
   ]
  },
  {
   "cell_type": "markdown",
   "id": "6c738bfc",
   "metadata": {},
   "source": [
    "# run all the displacements"
   ]
  },
  {
   "cell_type": "code",
   "execution_count": null,
   "id": "34301da8",
   "metadata": {},
   "outputs": [],
   "source": [
    "alldisp_lammps_WorkChain = WorkflowFactory(\"alamode.dispall_lammps\")\n"
   ]
  },
  {
   "cell_type": "code",
   "execution_count": null,
   "id": "f56927ee",
   "metadata": {},
   "outputs": [],
   "source": [
    "inputs = {\"displace_result\": g_displace_result,\n",
    "          \"data_folder\": g_dispfile_folder,\n",
    "          \"input_file_template\":  input_file_template,\n",
    "          \"code_string\":  code_lammps_name,\n",
    "          \"cwd\": g_cwd,\n",
    "          \"prefix\": g_prefix,\n",
    "          'potential_files': lammps_potentials}\n"
   ]
  },
  {
   "cell_type": "code",
   "execution_count": null,
   "id": "645ae676",
   "metadata": {},
   "outputs": [],
   "source": [
    "lammps_all = nodebank.load(\"all_lammps_harmonic\")\n",
    "if lammps_all is None:\n",
    "    lammps_all = submit(alldisp_lammps_WorkChain, **inputs)\n",
    "    wait_for_node_finished(lammps_all, 5)\n",
    "    print(lammps_all.is_finished_ok)\n"
   ]
  },
  {
   "cell_type": "code",
   "execution_count": null,
   "id": "b1b3ddaa",
   "metadata": {},
   "outputs": [],
   "source": [
    "lammps_all\n"
   ]
  },
  {
   "cell_type": "code",
   "execution_count": null,
   "id": "a30075bb",
   "metadata": {},
   "outputs": [],
   "source": [
    "lammps_all.outputs.dfset\n"
   ]
  },
  {
   "cell_type": "markdown",
   "id": "57eeed1b",
   "metadata": {},
   "source": [
    "# extract"
   ]
  },
  {
   "cell_type": "code",
   "execution_count": null,
   "id": "ace2dcf4",
   "metadata": {},
   "outputs": [],
   "source": [
    "g_cwd\n"
   ]
  },
  {
   "cell_type": "code",
   "execution_count": null,
   "id": "700a2436",
   "metadata": {},
   "outputs": [],
   "source": [
    "from aiida.plugins import DataFactory, WorkflowFactory\n",
    "extractworkchain = WorkflowFactory(\"alamode.extract\")\n",
    "\n",
    "g_target_file = lammps_all.outputs.dfset\n",
    "g_norder = nodebank.load(\"norder\")\n"
   ]
  },
  {
   "cell_type": "code",
   "execution_count": null,
   "id": "ef7ae158",
   "metadata": {},
   "outputs": [],
   "source": [
    "g_target_file\n"
   ]
  },
  {
   "cell_type": "code",
   "execution_count": null,
   "id": "a94a60ee",
   "metadata": {},
   "outputs": [],
   "source": [
    "g_superstructure_file\n"
   ]
  },
  {
   "cell_type": "code",
   "execution_count": null,
   "id": "02cd0fa5",
   "metadata": {},
   "outputs": [],
   "source": [
    "g_superstructure_file\n"
   ]
  },
  {
   "cell_type": "code",
   "execution_count": null,
   "id": "9087c184",
   "metadata": {},
   "outputs": [],
   "source": [
    "inputs = {'format': g_format,\n",
    "          'structure_org': g_superstructure_filepath,\n",
    "          # 'target_file': g_pwx_all_future.outputs.pwx_output,\n",
    "          'target_file': g_target_file,\n",
    "          'cwd': g_cwd,\n",
    "          'prefix': g_prefix\n",
    "          # \"norder\": g_norder\n",
    "          # 'output_filename' : g_DFSET_filename\n",
    "          }\n",
    "print(inputs)\n"
   ]
  },
  {
   "cell_type": "code",
   "execution_count": null,
   "id": "ba113c88",
   "metadata": {},
   "outputs": [],
   "source": [
    "from tools import wait_for_node_finished\n"
   ]
  },
  {
   "cell_type": "code",
   "execution_count": null,
   "id": "6702536e",
   "metadata": {},
   "outputs": [],
   "source": [
    "g_alamodeextract_future = run(extractworkchain, **inputs)\n"
   ]
  },
  {
   "cell_type": "code",
   "execution_count": null,
   "id": "e715f9b8",
   "metadata": {},
   "outputs": [],
   "source": [
    "g_alamodeextract_future = submit(extractworkchain, **inputs)\n",
    "print(g_alamodeextract_future)\n",
    "wait_for_node_finished(g_alamodeextract_future)\n",
    "print(g_alamodeextract_future.is_finished_ok)\n"
   ]
  },
  {
   "cell_type": "code",
   "execution_count": null,
   "id": "86932045",
   "metadata": {},
   "outputs": [],
   "source": [
    "nodebank.dump(\"harmic_extract\", g_alamodeextract_future)\n"
   ]
  },
  {
   "cell_type": "code",
   "execution_count": null,
   "id": "4ed01959",
   "metadata": {},
   "outputs": [],
   "source": []
  },
  {
   "cell_type": "code",
   "execution_count": null,
   "id": "e807a503",
   "metadata": {},
   "outputs": [],
   "source": []
  }
 ],
 "metadata": {
  "kernelspec": {
   "display_name": "py39",
   "language": "python",
   "name": "py39"
  },
  "language_info": {
   "codemirror_mode": {
    "name": "ipython",
    "version": 3
   },
   "file_extension": ".py",
   "mimetype": "text/x-python",
   "name": "python",
   "nbconvert_exporter": "python",
   "pygments_lexer": "ipython3",
   "version": "3.9.13"
  }
 },
 "nbformat": 4,
 "nbformat_minor": 5
}
