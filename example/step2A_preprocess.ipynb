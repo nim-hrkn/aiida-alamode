{
 "cells": [
  {
   "cell_type": "code",
   "execution_count": null,
   "id": "00af6b74",
   "metadata": {},
   "outputs": [],
   "source": [
    "import aiida\n",
    "\n",
    "# must execute it in the first place\n",
    "aiida.load_profile()\n"
   ]
  },
  {
   "cell_type": "code",
   "execution_count": null,
   "id": "8e4f6644",
   "metadata": {},
   "outputs": [],
   "source": [
    "from aiida.manage.configuration import get_profile\n",
    "\n",
    "from aiida.common.datastructures import CalcInfo, CodeInfo\n",
    "from aiida.common.folders import Folder\n",
    "\n",
    "from aiida.engine import CalcJob, WorkChain\n",
    "from aiida.engine import calcfunction, workfunction, submit, run, run_get_node\n",
    "\n",
    "from aiida.plugins import DataFactory, WorkflowFactory\n",
    "\n",
    "from aiida.parsers.parser import Parser\n",
    "from aiida.orm import Code\n",
    "from aiida.orm import load_code, load_node\n",
    "from aiida.orm import Str, Dict, Float, Int\n",
    "from aiida.orm import QueryBuilder\n",
    "\n",
    "import aiida\n",
    "\n",
    "from ase.io.espresso import write_espresso_in\n",
    "from ase.io.lammpsdata import read_lammps_data\n",
    "from ase.build import make_supercell\n",
    "from ase import Atom, Atoms\n",
    "import ase\n",
    "\n",
    "from itertools import combinations_with_replacement\n",
    "import numpy as np\n",
    "import os\n",
    "import subprocess\n",
    "import shutil\n",
    "import re\n",
    "from time import sleep\n",
    "import spglib\n",
    "import json\n",
    "\n",
    "from os.path import expanduser\n",
    "\n",
    "from tools import NodeBank\n",
    "from tools import wait_for_node_finished\n",
    "from alamode_aiida.io import load_atoms\n",
    "from tools.putstructure import PutStructure\n"
   ]
  },
  {
   "cell_type": "code",
   "execution_count": null,
   "id": "1f22432e",
   "metadata": {},
   "outputs": [],
   "source": [
    "# load types\n",
    "StructureData = DataFactory('structure')\n",
    "FolderData = DataFactory('folder')\n",
    "SinglefileData = DataFactory('singlefile')\n",
    "ArrayData = DataFactory('array')\n",
    "List = DataFactory('list')\n"
   ]
  },
  {
   "cell_type": "code",
   "execution_count": null,
   "id": "61ff93cc",
   "metadata": {},
   "outputs": [],
   "source": [
    "g_graph = True\n",
    "\n",
    "with open(\"setting.json\") as f:\n",
    "    _dic = json.load(f)\n",
    "print(_dic)\n",
    "CWD = _dic[\"CWD\"]\n",
    "_path = os.path.abspath(CWD)\n",
    "os.makedirs(_path, exist_ok=True)\n",
    "_path\n"
   ]
  },
  {
   "cell_type": "code",
   "execution_count": null,
   "id": "a55d2fab",
   "metadata": {},
   "outputs": [],
   "source": [
    "# codeの定義を行う。\n",
    "from tools.aiida_support import get_or_create_local_computer, get_or_create_code\n",
    "from os.path import expanduser\n",
    "import os\n",
    "\n",
    "home = expanduser(\"~\")\n",
    "work_directory = os.path.join(home, 'aiida')\n",
    "computer_local = get_or_create_local_computer(work_directory, 'localhost')\n",
    "\n",
    "if True:\n",
    "    code = get_or_create_code('alamode.alm_suggest',\n",
    "                              computer_local,\n",
    "                              '/home/max/Documents/alamode/bin/alm')\n",
    "    code_alm_sugget = code\n",
    "else:\n",
    "    code_alm_sugget = WorkflowFactory('alamode.alm_ALM_suggest')\n",
    "\n",
    "code_alm_sugget\n"
   ]
  },
  {
   "cell_type": "code",
   "execution_count": null,
   "id": "11c2fb18",
   "metadata": {},
   "outputs": [],
   "source": [
    "# 再実行時に作成したノードを用いるためにnodebankを使う。\n",
    "g_force = False\n",
    "nodebank = NodeBank(_path, force=g_force)\n"
   ]
  },
  {
   "cell_type": "code",
   "execution_count": null,
   "id": "35407b8e",
   "metadata": {},
   "outputs": [],
   "source": [
    "# 計算するroot directoryの定義\n",
    "key = 'root_wd'\n",
    "g_root_wd = nodebank.load(key)\n"
   ]
  },
  {
   "cell_type": "code",
   "execution_count": null,
   "id": "4e8097b0",
   "metadata": {},
   "outputs": [],
   "source": [
    "# harmonic partの計算を行う。\n",
    "g_prefix = Str(\"harmonic\")\n",
    "g_norder = Int(1)\n",
    "\n",
    "g_prefix = nodebank.dump(\"prefix\", g_prefix)\n",
    "g_norder = nodebank.dump(f\"{g_prefix.value}_norder\", g_norder)\n",
    "g_factor = nodebank.load('factor')\n",
    "g_norder, g_prefix,  g_factor\n"
   ]
  },
  {
   "cell_type": "code",
   "execution_count": null,
   "id": "5cc4e096",
   "metadata": {},
   "outputs": [],
   "source": [
    "g_standardizedstructure = nodebank.load(\"standardizedstructure\")\n",
    "g_factor = nodebank.load('factor')\n",
    "g_standardizedstructure.get_ase(), g_factor.get_array('factor')\n"
   ]
  },
  {
   "cell_type": "code",
   "execution_count": null,
   "id": "03bff2d4",
   "metadata": {},
   "outputs": [],
   "source": [
    "# ファイルを置くsubdirectory名の作成\n",
    "# ディレクトリ名 cwd=formula_supercell_harmonic\n",
    "# ディレクトリがなければ作成する。\n",
    "g_almprefix = \"_\".join([g_standardizedstructure.get_formula(), \"x\".join(\n",
    "    map(str, g_factor.get_array(\"factor\").reshape(-1))), g_prefix.value])\n",
    "g_almprefix = Str(g_almprefix)\n",
    "print(g_almprefix)\n",
    "\n",
    "# cwdの設定\n",
    "g_cwd = Str(os.path.join(g_root_wd.value, g_almprefix.value))\n",
    "g_cwd = nodebank.load_or_dump(\"cwd\", g_cwd)\n",
    "# 無ければ作成。\n",
    "os.makedirs(g_cwd.value, exist_ok=True)\n"
   ]
  },
  {
   "cell_type": "code",
   "execution_count": null,
   "id": "1e2fab82",
   "metadata": {},
   "outputs": [],
   "source": [
    "\n",
    "g_primstructure = nodebank.load(\"primstructure\")\n",
    "g_superstructure = nodebank.load(\"superstructure\")\n"
   ]
  },
  {
   "cell_type": "markdown",
   "id": "fde1406a",
   "metadata": {},
   "source": [
    "## alm suggest\n",
    "\n",
    "```\n",
    "Description:\n",
    "\n",
    "\talm mode=\"suggest\"\n",
    "\t\n",
    "\tdefault input filename: alm_suggest.in\n",
    "\tdefault output filename: alm_suggest.out\n",
    "\n",
    "Inputs:\n",
    "           code:  required  Code             The `Code` to use for this job.\n",
    "         norder:  required  Int              1 (harmonic) or 2 (cubic)\n",
    "      structure:  required  StructureData    structure of cyrstal.\n",
    "         cutoff:  optional  Dict             distance cutoff\n",
    "            cwd:  optional  Str              directory where results are saved.\n",
    "       metadata:  optional                   \n",
    "           mode:  optional  Str              mode of alm='suggest'\n",
    "          param:  optional  Dict             optional parameters\n",
    "         prefix:  optional  Str              string added to the filename.\n",
    "Outputs:\n",
    "        pattern:  required  List             pattern of displacement\n",
    "  remote_folder:  required  RemoteData       Input files necessary to run the process will be stored in this folder node ...\n",
    "        results:  required  Dict             \n",
    "      retrieved:  required  FolderData       Files that are retrieved by the daemon will be stored in this node. By defa ...\n",
    "   remote_stash:  optional  RemoteStashData  Contents of the `stash.source_list` option are stored in this remote folder ...\n",
    "\n",
    "```"
   ]
  },
  {
   "cell_type": "code",
   "execution_count": null,
   "id": "cbc43f16",
   "metadata": {},
   "outputs": [],
   "source": [
    "Str(os.path.join(g_cwd.value, f\"{g_prefix.value}_alm_suggest\"))  "
   ]
  },
  {
   "cell_type": "code",
   "execution_count": null,
   "id": "6ce081b3",
   "metadata": {},
   "outputs": [],
   "source": [
    "codetype =  \"calculation\"\n",
    "try:\n",
    "    if issubclass(code_alm_sugget, WorkChain):\n",
    "        codetype = \"workchain\"\n",
    "except TypeError:\n",
    "    codetype = \"calculation\"\n",
    "\n",
    "if codetype==\"workchain\":\n",
    "    g_cutoff_radii = List(list=[[-1]])\n",
    "    g_nbody=List(list=[2])\n",
    "    inputs = {'structure': g_superstructure,\n",
    "             'norder': g_norder,\n",
    "              'cwd': Str(os.path.join(g_cwd.value, f\"{g_prefix.value}_alm_suggest\"))  ,\n",
    "              'cutoff_radii': g_cutoff_radii,\n",
    "              'nbody': g_nbody\n",
    "             }\n",
    "    g_alm_suggest_future = submit(code_alm_sugget, **inputs)\n",
    "    print(g_alm_suggest_future)\n",
    "    wait_for_node_finished(g_alm_suggest_future)\n",
    "else:\n",
    "    print(\"code\")\n",
    "    ## inputs\n",
    "    code = code_alm_sugget\n",
    "    builder = code.get_builder()\n",
    "    builder.structure = g_superstructure # equilibrium structure\n",
    "    builder.norder = g_norder\n",
    "    builder.cwd = Str(os.path.join(g_cwd.value, f\"{g_prefix.value}_alm_suggest\"))    \n",
    "    # calcjobの場合はmetadataを加える。\n",
    "    builder.metadata = {\n",
    "        'options': {\n",
    "            'resources': {'tot_num_mpiprocs': 1, 'num_machines': 1}\n",
    "        }}\n",
    "\n",
    "    \n",
    "    g_alm_suggest_future = nodebank.load_code_or_wait_for_node(f\"{g_prefix.value}_alm_suggest\", builder)\n"
   ]
  },
  {
   "cell_type": "code",
   "execution_count": null,
   "id": "db94dc41",
   "metadata": {},
   "outputs": [],
   "source": []
  },
  {
   "cell_type": "code",
   "execution_count": null,
   "id": "6a112476",
   "metadata": {},
   "outputs": [],
   "source": [
    "g_alm_suggest_future"
   ]
  },
  {
   "cell_type": "code",
   "execution_count": null,
   "id": "02957cb5",
   "metadata": {},
   "outputs": [],
   "source": [
    "## outputs\n",
    "print(g_alm_suggest_future.outputs.results.attributes)\n",
    "print(g_alm_suggest_future.outputs.pattern)"
   ]
  },
  {
   "cell_type": "code",
   "execution_count": null,
   "id": "b787936a",
   "metadata": {},
   "outputs": [],
   "source": [
    "# pattern fileリストはg_alm_suggest_future.outputs.pattern_folderに入る。\n",
    "# 次の実行ファイルで用いるために保存する。\n",
    "nodebank.dump(f\"{g_prefix.value}_pattern\",\n",
    "              g_alm_suggest_future.outputs.pattern)\n"
   ]
  },
  {
   "cell_type": "code",
   "execution_count": null,
   "id": "e131da32",
   "metadata": {},
   "outputs": [],
   "source": [
    "if g_graph:\n",
    "    !verdi node graph generate $g_alm_suggest_future.pk\n"
   ]
  },
  {
   "cell_type": "code",
   "execution_count": null,
   "id": "4a46b92b",
   "metadata": {},
   "outputs": [],
   "source": []
  },
  {
   "cell_type": "code",
   "execution_count": null,
   "id": "31de9f9f",
   "metadata": {},
   "outputs": [],
   "source": []
  },
  {
   "cell_type": "code",
   "execution_count": null,
   "id": "73bc46c5",
   "metadata": {},
   "outputs": [],
   "source": []
  },
  {
   "cell_type": "code",
   "execution_count": null,
   "id": "a3d3a985",
   "metadata": {},
   "outputs": [],
   "source": []
  },
  {
   "cell_type": "code",
   "execution_count": null,
   "id": "ac2a364d",
   "metadata": {},
   "outputs": [],
   "source": []
  },
  {
   "cell_type": "code",
   "execution_count": null,
   "id": "7a290a44",
   "metadata": {},
   "outputs": [],
   "source": []
  }
 ],
 "metadata": {
  "kernelspec": {
   "display_name": "py39",
   "language": "python",
   "name": "py39"
  },
  "language_info": {
   "codemirror_mode": {
    "name": "ipython",
    "version": 3
   },
   "file_extension": ".py",
   "mimetype": "text/x-python",
   "name": "python",
   "nbconvert_exporter": "python",
   "pygments_lexer": "ipython3",
   "version": "3.9.13"
  }
 },
 "nbformat": 4,
 "nbformat_minor": 5
}
