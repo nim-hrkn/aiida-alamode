{
 "cells": [
  {
   "cell_type": "code",
   "execution_count": 1,
   "id": "00af6b74",
   "metadata": {},
   "outputs": [
    {
     "data": {
      "text/plain": [
       "<aiida.manage.configuration.profile.Profile at 0x7fde7c149f70>"
      ]
     },
     "execution_count": 1,
     "metadata": {},
     "output_type": "execute_result"
    }
   ],
   "source": [
    "import aiida\n",
    "\n",
    "# must execute it in the first place\n",
    "aiida.load_profile()\n"
   ]
  },
  {
   "cell_type": "code",
   "execution_count": 2,
   "id": "8e4f6644",
   "metadata": {},
   "outputs": [],
   "source": [
    "from aiida.manage.configuration import get_profile\n",
    "\n",
    "from aiida.common.datastructures import CalcInfo, CodeInfo\n",
    "from aiida.common.folders import Folder\n",
    "\n",
    "from aiida.engine import CalcJob, WorkChain\n",
    "from aiida.engine import calcfunction, workfunction, submit, run\n",
    "\n",
    "from aiida.plugins import DataFactory, WorkflowFactory\n",
    "\n",
    "from aiida.parsers.parser import Parser\n",
    "from aiida.orm import Code\n",
    "from aiida.orm import load_code, load_node\n",
    "from aiida.orm import Str, Dict, Float, Int\n",
    "from aiida.orm import QueryBuilder\n",
    "\n",
    "import aiida\n",
    "\n",
    "from alamode_aiida.data_loader import load_anphon_kl, load_anphon_kl_spec\n",
    "from ase.io.espresso import write_espresso_in\n",
    "from ase.io.lammpsdata import read_lammps_data\n",
    "from ase.build import make_supercell\n",
    "from ase import Atom, Atoms\n",
    "import ase\n",
    "\n",
    "from itertools import combinations_with_replacement\n",
    "import numpy as np\n",
    "import os\n",
    "import subprocess\n",
    "import shutil\n",
    "import re\n",
    "from time import sleep\n",
    "import spglib\n",
    "import json\n",
    "\n",
    "from os.path import expanduser\n",
    "\n",
    "from tools import NodeBank\n",
    "from tools import wait_for_node_finished\n",
    "from alamode_aiida.ase_support import load_atoms\n",
    "from tools.putstructure import PutStructure\n"
   ]
  },
  {
   "cell_type": "code",
   "execution_count": 3,
   "id": "1f22432e",
   "metadata": {},
   "outputs": [],
   "source": [
    "# load types\n",
    "StructureData = DataFactory('structure')\n",
    "FolderData = DataFactory('folder')\n",
    "SinglefileData = DataFactory('singlefile')\n",
    "ArrayData = DataFactory('array')\n",
    "List = DataFactory('list')\n"
   ]
  },
  {
   "cell_type": "code",
   "execution_count": 4,
   "id": "61ff93cc",
   "metadata": {},
   "outputs": [
    {
     "name": "stdout",
     "output_type": "stream",
     "text": [
      "{'CWD': 'run29'}\n"
     ]
    },
    {
     "data": {
      "text/plain": [
       "'/home/max/Documents/aiida-test/alamode-aiida/example/run29'"
      ]
     },
     "execution_count": 4,
     "metadata": {},
     "output_type": "execute_result"
    }
   ],
   "source": [
    "g_graph = False\n",
    "\n",
    "with open(\"setting.json\") as f:\n",
    "    _dic = json.load(f)\n",
    "print(_dic)\n",
    "CWD = _dic[\"CWD\"]\n",
    "_path = os.path.abspath(CWD)\n",
    "os.makedirs(_path, exist_ok=True)\n",
    "_path\n"
   ]
  },
  {
   "cell_type": "code",
   "execution_count": 5,
   "id": "a55d2fab",
   "metadata": {},
   "outputs": [
    {
     "data": {
      "text/plain": [
       "<Code: Remote code 'alamode.alm_suggest' on localhost, pk: 59092, uuid: 8a33eb3c-cb85-476d-b4ec-fba4fbdbd5cc>"
      ]
     },
     "execution_count": 5,
     "metadata": {},
     "output_type": "execute_result"
    }
   ],
   "source": [
    "# codeの定義を行う。\n",
    "from tools.aiida_support import get_or_create_local_computer, get_or_create_code\n",
    "from os.path import expanduser\n",
    "import os\n",
    "home = expanduser(\"~\")\n",
    "work_directory = os.path.join(home, 'aiida')\n",
    "computer_local = get_or_create_local_computer(work_directory, 'localhost')\n",
    "code = get_or_create_code('alamode.alm_suggest',\n",
    "                          computer_local,\n",
    "                          '/home/max/Documents/alamode/bin/alm')\n",
    "code_alm_sugget = code\n",
    "\n",
    "code_alm_sugget\n"
   ]
  },
  {
   "cell_type": "code",
   "execution_count": 6,
   "id": "11c2fb18",
   "metadata": {},
   "outputs": [],
   "source": [
    "# 再実行時に作成したノードを用いるためにnodebankを使う。\n",
    "g_force = False\n",
    "nodebank = NodeBank(_path, force=g_force)\n"
   ]
  },
  {
   "cell_type": "code",
   "execution_count": 7,
   "id": "35407b8e",
   "metadata": {},
   "outputs": [],
   "source": [
    "# 計算するroot directoryの定義\n",
    "key = 'root_wd'\n",
    "g_root_wd = nodebank.load(key)"
   ]
  },
  {
   "cell_type": "code",
   "execution_count": 8,
   "id": "4e8097b0",
   "metadata": {},
   "outputs": [
    {
     "data": {
      "text/plain": [
       "(<Int: uuid: ea668f08-633f-4858-9bb2-7bd1fbfe8d0a (pk: 59121) value: 1>,\n",
       " <Str: uuid: 2d95abd8-df96-46cf-a41e-921191bdf045 (pk: 59120) value: harmonic>,\n",
       " <Str: uuid: 515c8f86-755c-4a1a-a70f-4c994ab22bbd (pk: 59123) value: Ga2N2_1x1x1_harmonic>)"
      ]
     },
     "execution_count": 8,
     "metadata": {},
     "output_type": "execute_result"
    }
   ],
   "source": [
    "# harmonic partの計算を行う。\n",
    "g_prefix = nodebank.load(\"prefix\")\n",
    "g_almprefix= nodebank.load(f\"{g_prefix.value}_almprefix\")\n",
    "g_norder = nodebank.load(f\"{g_prefix.value}_norder\")\n",
    "g_norder, g_prefix, g_almprefix"
   ]
  },
  {
   "cell_type": "code",
   "execution_count": 9,
   "id": "1e2fab82",
   "metadata": {},
   "outputs": [],
   "source": [
    "\n",
    "g_primstructure = nodebank.load(\"primstructure\")\n",
    "g_superstructure = nodebank.load(\"superstructure\")\n",
    "\n",
    "g_primstructure_filename = nodebank.load(\"primstructure_filename\")\n",
    "g_superstructure_filename = nodebank.load(\"superstructure_filename\")"
   ]
  },
  {
   "cell_type": "code",
   "execution_count": 10,
   "id": "af141349",
   "metadata": {},
   "outputs": [
    {
     "data": {
      "text/plain": [
       "Atoms(symbols='Ga2N2Ga2N2Ga2N2Ga2N2Ga2N2Ga2N2Ga2N2Ga2N2', pbc=True, cell=[[6.38, 0.0, 0.0], [-3.19, 5.5252420761447, 0.0], [0.0, 0.0, 10.378]], masses=...)"
      ]
     },
     "execution_count": 10,
     "metadata": {},
     "output_type": "execute_result"
    }
   ],
   "source": [
    "g_superstructure.get_ase()"
   ]
  },
  {
   "cell_type": "code",
   "execution_count": 11,
   "id": "8b7ca346",
   "metadata": {},
   "outputs": [
    {
     "data": {
      "text/plain": [
       "<Str: uuid: 7697e409-d2f7-4115-ab2e-63bbadf87ce6 (pk: 59122) value: /home/max/Documents/aiida-test/alamode-aiida/example/run29/Ga2N2_1x1x1_harmonic>"
      ]
     },
     "execution_count": 11,
     "metadata": {},
     "output_type": "execute_result"
    }
   ],
   "source": [
    "g_cwd = nodebank.load(\"cwd\")\n",
    "g_cwd"
   ]
  },
  {
   "cell_type": "code",
   "execution_count": 12,
   "id": "d1e95c37",
   "metadata": {},
   "outputs": [
    {
     "data": {
      "text/plain": [
       "(<Str: uuid: 2d95abd8-df96-46cf-a41e-921191bdf045 (pk: 59120) value: harmonic>,\n",
       " <Str: uuid: 515c8f86-755c-4a1a-a70f-4c994ab22bbd (pk: 59123) value: Ga2N2_1x1x1_harmonic>)"
      ]
     },
     "execution_count": 12,
     "metadata": {},
     "output_type": "execute_result"
    }
   ],
   "source": [
    "# 一意のファイル名にするためのprefix文字列\n",
    "# norder=1なのでharmonicとする\n",
    "\n",
    "g_prefix, g_almprefix"
   ]
  },
  {
   "cell_type": "markdown",
   "id": "fde1406a",
   "metadata": {},
   "source": [
    "## alm suggest"
   ]
  },
  {
   "cell_type": "code",
   "execution_count": 13,
   "id": "6ce081b3",
   "metadata": {},
   "outputs": [
    {
     "name": "stdout",
     "output_type": "stream",
     "text": [
      "uuid: 53c1c4be-7682-4494-aa2d-e300944fa821 (pk: 59127) (aiida.calculations:alamode.alm_suggest)\n",
      "wait another 2 sec.\n",
      "wait another 2 sec.\n",
      "wait another 2 sec.\n",
      "wait another 2 sec.\n",
      "wait another 2 sec.\n",
      "wait another 2 sec.\n",
      "True True\n"
     ]
    }
   ],
   "source": [
    "code = code_alm_sugget\n",
    "\n",
    "builder = code.get_builder()\n",
    "builder.structure = g_superstructure  # 元構造\n",
    "builder.prefix = g_prefix\n",
    "builder.norder = g_norder\n",
    "# builder.mode = Str(\"suggest\")\n",
    "builder.cwd = g_cwd\n",
    "\n",
    "builder.metadata = {\n",
    "    'options': {\n",
    "        'resources': {'tot_num_mpiprocs': 1, 'num_machines': 1}\n",
    "    }}\n",
    "\n",
    "g_alm_suggest_future = nodebank.load(f\"{g_prefix.value}_alm_suggest\", raise_error=False)\n",
    "if g_alm_suggest_future is None:\n",
    "    g_alm_suggest_future = submit(builder)  # temporary run(), use submit()\n",
    "    print(g_alm_suggest_future)\n",
    "    wait_for_node_finished(g_alm_suggest_future)\n",
    "    if g_alm_suggest_future.is_finished_ok:\n",
    "        nodebank.dump(f\"{g_prefix.value}_alm_suggest\", g_alm_suggest_future)\n"
   ]
  },
  {
   "cell_type": "code",
   "execution_count": 14,
   "id": "95e23ded",
   "metadata": {},
   "outputs": [
    {
     "data": {
      "text/plain": [
       "{'job_id': '4800',\n",
       " 'sealed': True,\n",
       " 'version': {'core': '1.6.8'},\n",
       " 'withmpi': False,\n",
       " 'resources': {'num_machines': 1, 'tot_num_mpiprocs': 1},\n",
       " 'append_text': '',\n",
       " 'exit_status': 0,\n",
       " 'parser_name': 'alamode.alm',\n",
       " 'prepend_text': '',\n",
       " 'last_job_info': {'job_id': '4800',\n",
       "  'job_owner': 'max',\n",
       "  'job_state': 'running',\n",
       "  'wallclock_time_seconds': 0},\n",
       " 'process_label': 'almSuggestCalcJob',\n",
       " 'process_state': 'finished',\n",
       " 'retrieve_list': ['harmonic.pattern_HARMONIC',\n",
       "  'alm_suggest.in',\n",
       "  'alm_suggest.out',\n",
       "  '_scheduler-stdout.txt',\n",
       "  '_scheduler-stderr.txt'],\n",
       " 'input_filename': 'alm_suggest.in',\n",
       " 'remote_workdir': '/scratch/max/aiida/53/c1/c4be-7682-4494-aa2d-e300944fa821',\n",
       " 'output_filename': 'alm_suggest.out',\n",
       " 'scheduler_state': 'done',\n",
       " 'scheduler_stderr': '_scheduler-stderr.txt',\n",
       " 'scheduler_stdout': '_scheduler-stdout.txt',\n",
       " 'detailed_job_info': None,\n",
       " 'mpirun_extra_params': [],\n",
       " 'environment_variables': {},\n",
       " 'import_sys_environment': True,\n",
       " 'submit_script_filename': '_aiidasubmit.sh',\n",
       " 'retrieve_temporary_list': [],\n",
       " 'scheduler_lastchecktime': '2022-08-10T09:02:05.824856+00:00',\n",
       " 'custom_scheduler_commands': ''}"
      ]
     },
     "execution_count": 14,
     "metadata": {},
     "output_type": "execute_result"
    }
   ],
   "source": [
    "g_alm_suggest_future.attributes"
   ]
  },
  {
   "cell_type": "code",
   "execution_count": 15,
   "id": "b787936a",
   "metadata": {},
   "outputs": [
    {
     "data": {
      "text/plain": [
       "<FolderData: uuid: fca74e9f-4cd9-4fe8-8932-097f48666aa3 (pk: 59131)>"
      ]
     },
     "execution_count": 15,
     "metadata": {},
     "output_type": "execute_result"
    }
   ],
   "source": [
    "# pattern fileリストはg_alm_suggest_future.outputs.pattern_folderに入る。\n",
    "# 次の実行ファイルで用いるために保存する。\n",
    "nodebank.dump(f\"{g_prefix.value}_pattern_folder\",\n",
    "              g_alm_suggest_future.outputs.pattern_folder)\n"
   ]
  },
  {
   "cell_type": "code",
   "execution_count": 16,
   "id": "e131da32",
   "metadata": {},
   "outputs": [],
   "source": [
    "if g_graph:\n",
    "    !verdi node graph generate $g_alm_suggest_future.pk\n"
   ]
  },
  {
   "cell_type": "code",
   "execution_count": 17,
   "id": "0dbf905d",
   "metadata": {},
   "outputs": [
    {
     "data": {
      "text/plain": [
       "<Dict: uuid: ba145d18-c031-4cf7-ba82-688c26446801 (pk: 59130)>"
      ]
     },
     "execution_count": 17,
     "metadata": {},
     "output_type": "execute_result"
    }
   ],
   "source": [
    "g_alm_suggest_future.outputs.results"
   ]
  },
  {
   "cell_type": "code",
   "execution_count": null,
   "id": "6ee55498",
   "metadata": {},
   "outputs": [],
   "source": []
  }
 ],
 "metadata": {
  "kernelspec": {
   "display_name": "py39",
   "language": "python",
   "name": "py39"
  },
  "language_info": {
   "codemirror_mode": {
    "name": "ipython",
    "version": 3
   },
   "file_extension": ".py",
   "mimetype": "text/x-python",
   "name": "python",
   "nbconvert_exporter": "python",
   "pygments_lexer": "ipython3",
   "version": "3.9.13"
  }
 },
 "nbformat": 4,
 "nbformat_minor": 5
}
