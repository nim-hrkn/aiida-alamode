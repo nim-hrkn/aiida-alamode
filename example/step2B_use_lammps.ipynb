{
 "cells": [
  {
   "cell_type": "code",
   "execution_count": 1,
   "id": "736a131b",
   "metadata": {},
   "outputs": [
    {
     "data": {
      "text/plain": [
       "<aiida.manage.configuration.profile.Profile at 0x7f391e6ccf10>"
      ]
     },
     "execution_count": 1,
     "metadata": {},
     "output_type": "execute_result"
    }
   ],
   "source": [
    "import aiida\n",
    "\n",
    "# must execute it in the first place\n",
    "aiida.load_profile()\n"
   ]
  },
  {
   "cell_type": "code",
   "execution_count": 2,
   "id": "678f94ab",
   "metadata": {},
   "outputs": [],
   "source": [
    "from aiida.orm import Code\n",
    "from aiida.orm import Str, Int, Dict, List, Float\n",
    "from aiida.engine import calcfunction, WorkChain, ToContext, append_\n",
    "from aiida.plugins import DataFactory, WorkflowFactory\n",
    "from itertools import cycle\n",
    "import os\n",
    "\n",
    "from aiida.engine import calcfunction, workfunction, submit, run, run_get_node\n",
    "from aiida.engine import run_get_node\n",
    "from aiida.orm import load_code, load_node\n",
    "from alamode_aiida.ase_support import load_atoms\n",
    "from ase import io\n",
    "from tools import wait_for_node_finished\n",
    "\n",
    "# load types\n",
    "StructureData = DataFactory('structure')\n",
    "FolderData = DataFactory('folder')\n",
    "SinglefileData = DataFactory('singlefile')\n",
    "ArrayData = DataFactory('array')\n",
    "List = DataFactory('list')\n",
    "TrajectoryData = DataFactory('array.trajectory')\n"
   ]
  },
  {
   "cell_type": "code",
   "execution_count": 3,
   "id": "4f8a3e37",
   "metadata": {},
   "outputs": [
    {
     "name": "stdout",
     "output_type": "stream",
     "text": [
      "localhost (localhost), pk: 5\n"
     ]
    },
    {
     "data": {
      "text/plain": [
       "(<Code: Remote code 'alamode.displace_random' on localhost, pk: 59133, uuid: 9ac4bf3b-061b-4b54-b71c-720c1629204c>,\n",
       " <Code: Remote code 'alamode.displace_pf' on localhost, pk: 59132, uuid: 1edf312a-d038-4843-b752-6673dfabb07b>,\n",
       " <Str: uuid: c0623040-8014-4597-bdaf-f2037cf43603 (unstored) value: alamode.lammps@localhost>)"
      ]
     },
     "execution_count": 3,
     "metadata": {},
     "output_type": "execute_result"
    }
   ],
   "source": [
    "# codeの定義を行う。\n",
    "from tools.aiida_support import get_or_create_local_computer, get_or_create_code\n",
    "from os.path import expanduser\n",
    "import os\n",
    "\n",
    "home = expanduser(\"~\")\n",
    "work_directory = os.path.join(home, 'aiida')\n",
    "computer_local = get_or_create_local_computer(work_directory, 'localhost')\n",
    "print(computer_local)\n",
    "code = get_or_create_code('alamode.displace_pf',\n",
    "                          computer_local,\n",
    "                          '/home/max/Documents/alamode/tools/displace.py')\n",
    "code_displace_pf = code\n",
    "code = get_or_create_code('alamode.displace_random',\n",
    "                          computer_local,\n",
    "                          '/home/max/Documents/alamode/tools/displace.py')\n",
    "code_displace_random = code\n",
    "code = get_or_create_code('alamode.lammps',\n",
    "                         computer_local,\n",
    "                         '/usr/bin/lammps')\n",
    "code_lammps_name = Str('alamode.lammps@localhost')\n",
    "\n",
    "code = get_or_create_code('alamode.extract',\n",
    "                         computer_local,\n",
    "                         '/home/max/Documents/alamode/tools/extract.py')\n",
    "code_extract = code\n",
    "code_extract_name = Str('alamode.extract@localhost')\n",
    "\n",
    "\n",
    "code_displace_random, code_displace_pf, code_lammps_name\n"
   ]
  },
  {
   "cell_type": "code",
   "execution_count": 4,
   "id": "38870d0e",
   "metadata": {},
   "outputs": [
    {
     "name": "stdout",
     "output_type": "stream",
     "text": [
      "{'CWD': 'run29'}\n"
     ]
    },
    {
     "data": {
      "text/plain": [
       "'/home/max/Documents/aiida-test/alamode-aiida/example/run29'"
      ]
     },
     "execution_count": 4,
     "metadata": {},
     "output_type": "execute_result"
    }
   ],
   "source": [
    "import json\n",
    "with open(\"setting.json\") as f:\n",
    "    _dic = json.load(f)\n",
    "print(_dic)\n",
    "CWD = _dic[\"CWD\"]\n",
    "_path = os.path.abspath(CWD)\n",
    "os.makedirs(_path, exist_ok=True)\n",
    "_path\n"
   ]
  },
  {
   "cell_type": "code",
   "execution_count": 5,
   "id": "69ca0d11",
   "metadata": {},
   "outputs": [],
   "source": [
    "\n",
    "from os.path import expanduser\n",
    "from tools import NodeBank\n",
    "\n",
    "\n",
    "# 再実行時に作成したノードを用いるためにnodebankを使う。\n",
    "g_force = False\n",
    "nodebank = NodeBank(_path, force=g_force)\n"
   ]
  },
  {
   "cell_type": "code",
   "execution_count": 6,
   "id": "4c40b16d",
   "metadata": {},
   "outputs": [
    {
     "data": {
      "text/plain": [
       "(<Str: uuid: 1cc62608-2e6e-45ba-8f5c-b2e355fd4ae1 (pk: 59096) value: lammps-data>,\n",
       " <Str: uuid: 99a37364-9e4b-4e0a-aa55-0fad6b788081 (pk: 59097) value: atomic>,\n",
       " <SinglefileData: uuid: 28128ea5-41f8-4dd5-a101-fb575732c817 (pk: 59117)>)"
      ]
     },
     "execution_count": 6,
     "metadata": {},
     "output_type": "execute_result"
    }
   ],
   "source": [
    "g_cwd = nodebank.load(\"cwd\")  # ファイル保存directory\n",
    "g_superstructure = nodebank.load(\"superstructure\")  # 使用する長周期構造StructureData\n",
    "g_superstructure_file = nodebank.load(\n",
    "    \"superstructure_file\")  # 使用する長周期構造ファイルSinglefileData\n",
    "g_superstructure_filepath = nodebank.load(\n",
    "    \"superstructure_filepath\")  # 使用する長周期構造ファイルabspath\n",
    "g_superstructure_filename = nodebank.load(\n",
    "    \"superstructure_filename\")  # 使用する長周期構造ファイルfilename in the cwd directory\n",
    "\n",
    "g_file_format = nodebank.load(\"structure_org_format\")  # lammpsの位置フォーマット\n",
    "g_file_style = nodebank.load(\"structure_org_style\")  # lammpsの位置フォーマットのオプション\n",
    "g_file_format, g_file_style, g_superstructure_file\n"
   ]
  },
  {
   "cell_type": "code",
   "execution_count": 7,
   "id": "3b9ef402",
   "metadata": {},
   "outputs": [
    {
     "data": {
      "text/plain": [
       "<Str: uuid: 2d95abd8-df96-46cf-a41e-921191bdf045 (pk: 59120) value: harmonic>"
      ]
     },
     "execution_count": 7,
     "metadata": {},
     "output_type": "execute_result"
    }
   ],
   "source": [
    "g_prefix = nodebank.load('prefix')\n",
    "g_prefix"
   ]
  },
  {
   "cell_type": "markdown",
   "id": "1e661036",
   "metadata": {},
   "source": [
    "## for LAMMPS"
   ]
  },
  {
   "cell_type": "code",
   "execution_count": 8,
   "id": "65a7c879",
   "metadata": {},
   "outputs": [
    {
     "name": "stdout",
     "output_type": "stream",
     "text": [
      "debug, node uuid: d7a6f1a8-bf05-47af-9cff-6add217853e4 (unstored) value: LAMMPS\n",
      "debug, load uuid: 74e46851-89aa-44b7-be04-1be4721a28df (pk: 59136) value: LAMMPS\n"
     ]
    }
   ],
   "source": [
    "key = \"format\"\n",
    "g_format = nodebank.load_or_dump(key, Str(\"LAMMPS\"))  # alamodeのファイルオプションの定義\n"
   ]
  },
  {
   "cell_type": "code",
   "execution_count": 9,
   "id": "8301d41a",
   "metadata": {},
   "outputs": [],
   "source": [
    "from aiida_lammps.tests.utils import (\n",
    "    get_or_create_local_computer, get_or_create_code)\n",
    "from aiida_lammps.tests.utils import lammps_version\n",
    "computer_local = get_or_create_local_computer('work_directory', 'localhost')\n",
    "code_lammps_force = get_or_create_code('lammps.force', computer_local, 'lammps')"
   ]
  },
  {
   "cell_type": "code",
   "execution_count": 10,
   "id": "0dab69ff",
   "metadata": {},
   "outputs": [
    {
     "data": {
      "text/plain": [
       "<Str: uuid: c8abc276-f999-4c57-8ffe-19095c1681b4 (unstored) value: lammps.force-lammps-localhost@localhost>"
      ]
     },
     "execution_count": 10,
     "metadata": {},
     "output_type": "execute_result"
    }
   ],
   "source": [
    "code_lammps_force_name = Str(code_lammps_force.label+\"@\"+'localhost')\n",
    "code_lammps_force_name"
   ]
  },
  {
   "cell_type": "code",
   "execution_count": 11,
   "id": "a98601b6",
   "metadata": {},
   "outputs": [
    {
     "data": {
      "text/plain": [
       "<Code: Remote code 'lammps.force-lammps-localhost' on localhost, pk: 59137, uuid: 38d58d76-d1ac-419e-97e6-24a749d7c791>"
      ]
     },
     "execution_count": 11,
     "metadata": {},
     "output_type": "execute_result"
    }
   ],
   "source": [
    "code_lammps_force.get_from_string(code_lammps_force_name.value)\n"
   ]
  },
  {
   "cell_type": "code",
   "execution_count": 12,
   "id": "e3d82979",
   "metadata": {},
   "outputs": [],
   "source": [
    "# make lammps in and out"
   ]
  },
  {
   "cell_type": "code",
   "execution_count": 13,
   "id": "06baaf44",
   "metadata": {},
   "outputs": [
    {
     "name": "stdout",
     "output_type": "stream",
     "text": [
      "debug, node uuid: 9fa5e7aa-605f-422a-a691-cc7e5c78eae7 (unstored) value: 0.01\n",
      "debug, load uuid: 9f9d275b-5ce7-457b-a9e2-56c1211b087f (pk: 59138) value: 0.01\n"
     ]
    }
   ],
   "source": [
    "g_mag = nodebank.load_or_dump(\"mag\", Float(0.01))\n"
   ]
  },
  {
   "cell_type": "code",
   "execution_count": 14,
   "id": "52d63be2",
   "metadata": {},
   "outputs": [
    {
     "data": {
      "text/plain": [
       "<FolderData: uuid: fca74e9f-4cd9-4fe8-8932-097f48666aa3 (pk: 59131)>"
      ]
     },
     "execution_count": 14,
     "metadata": {},
     "output_type": "execute_result"
    }
   ],
   "source": [
    "\n",
    "displacement_patterns = nodebank.load(f'{g_prefix.value}_pattern_folder')\n",
    "displacement_patterns\n"
   ]
  },
  {
   "cell_type": "code",
   "execution_count": null,
   "id": "97e203ea",
   "metadata": {},
   "outputs": [],
   "source": []
  },
  {
   "cell_type": "code",
   "execution_count": null,
   "id": "ea5f0c98",
   "metadata": {},
   "outputs": [],
   "source": [
    "\n"
   ]
  },
  {
   "cell_type": "code",
   "execution_count": 15,
   "id": "6b1a3c61",
   "metadata": {},
   "outputs": [
    {
     "data": {
      "text/plain": [
       "Atoms(symbols='Ga2N2Ga2N2Ga2N2Ga2N2Ga2N2Ga2N2Ga2N2Ga2N2', pbc=True, cell=[[6.38, 0.0, 0.0], [-3.19, 5.5252420761447, 0.0], [0.0, 0.0, 10.378]], masses=...)"
      ]
     },
     "execution_count": 15,
     "metadata": {},
     "output_type": "execute_result"
    }
   ],
   "source": [
    "g_superstructure.get_ase()"
   ]
  },
  {
   "cell_type": "code",
   "execution_count": 16,
   "id": "50892d14",
   "metadata": {},
   "outputs": [
    {
     "data": {
      "text/plain": [
       "<Str: uuid: c60d5c7e-a3c8-4b16-8707-f5fc9ed8a75b (pk: 59119) value: supercell.lammps>"
      ]
     },
     "execution_count": 16,
     "metadata": {},
     "output_type": "execute_result"
    }
   ],
   "source": [
    "g_superstructure_filename"
   ]
  },
  {
   "cell_type": "code",
   "execution_count": 17,
   "id": "34da9e87",
   "metadata": {},
   "outputs": [
    {
     "data": {
      "text/plain": [
       "<FolderData: uuid: fca74e9f-4cd9-4fe8-8932-097f48666aa3 (pk: 59131)>"
      ]
     },
     "execution_count": 17,
     "metadata": {},
     "output_type": "execute_result"
    }
   ],
   "source": [
    "displacement_patterns"
   ]
  },
  {
   "cell_type": "code",
   "execution_count": 18,
   "id": "b6525ae1",
   "metadata": {},
   "outputs": [],
   "source": [
    "TrajectoryData = DataFactory('array.trajectory')\n",
    "from alamode_aiida.ase_support import load_atoms_bare\n"
   ]
  },
  {
   "cell_type": "code",
   "execution_count": 19,
   "id": "2afe1349",
   "metadata": {
    "scrolled": false
   },
   "outputs": [
    {
     "name": "stdout",
     "output_type": "stream",
     "text": [
      "prepare_for_submission done\n",
      "node uuid: e1aeffe8-51d8-4375-9db7-6ce9a5b132eb (pk: 59184) (aiida.calculations:alamode.displace_pf)\n",
      "uuid: 73414836-7a88-4568-bbdb-de9488d736c0 (pk: 59193) (aiida.calculations:alamode.displace_pf)\n",
      "wait another 2 sec.\n",
      "wait another 2 sec.\n",
      "wait another 2 sec.\n",
      "wait another 2 sec.\n",
      "wait another 2 sec.\n",
      "wait another 2 sec.\n",
      "True True\n"
     ]
    }
   ],
   "source": [
    "g_action = \"pf\"\n",
    "pattern_filenames = List(list=[f'pattern.{g_prefix.value}'])\n",
    "\n",
    "if g_action == \"pf\":\n",
    "\n",
    "    #codename = \"alamode.displace_pf@tutor\"\n",
    "    #code = Code.get_from_string(codename)\n",
    "    code = code_displace_pf\n",
    "\n",
    "    builder = code.get_builder()\n",
    "    builder.format = g_format\n",
    "    builder.cwd = g_cwd\n",
    "    builder.prefix = g_prefix\n",
    "    builder.structure_org = g_superstructure\n",
    "    builder.structure_org_filename = g_superstructure_filename\n",
    "    builder.mag = g_mag\n",
    "    builder.pattern_files = displacement_patterns\n",
    "        \n",
    "    g_displacefuture, node = run_get_node(builder)\n",
    "    print(\"node\",node)\n",
    "    \n",
    "    g_displacefuture = nodebank.load(f\"{g_prefix.value}_displace_pf\")\n",
    "    if g_displacefuture is None:\n",
    "        g_displacefuture = submit(builder)\n",
    "        print(g_displacefuture)\n",
    "        wait_for_node_finished(g_displacefuture)\n",
    "        if g_displacefuture.is_finished_ok:\n",
    "            nodebank.dump(f\"{g_prefix.value}_displace_pf\", g_displacefuture)\n",
    "\n",
    "elif g_action == \"random\":\n",
    "\n",
    "    g_num_disp = nodebank.load_or_dump(f\"{g_prefix.value}_num_disp\", Int(5))\n",
    "\n",
    "    #codename = \"alamode.displace_random@tutor\"\n",
    "    #code = Code.get_from_string(codename)\n",
    "    code = code_displace_random\n",
    "\n",
    "    builder = code.get_builder()\n",
    "    builder.format = g_format\n",
    "    builder.cwd = g_cwd\n",
    "    builder.prefix = g_prefix\n",
    "    builder.structure_org = g_superstructure\n",
    "    builder.structure_org_filename = g_superstructure_filename\n",
    "    builder.mag = g_mag\n",
    "    builder.num_disp = g_num_disp\n",
    "\n",
    "    g_displacefuture = nodebank.load(f\"{g_prefix.value}_displace_random\")\n",
    "    if g_displacefuture is None:\n",
    "        g_displacefuture = submit(builder)\n",
    "        print(g_displacefuture)\n",
    "        wait_for_node_finished(g_displacefuture)\n",
    "        if g_displacefuture.is_finished_ok:\n",
    "            nodebank.dump(f\"{g_prefix.value}_displace_random\", g_displacefuture)\n",
    "        else:\n",
    "            raise\n",
    "else:\n",
    "    raise ValueError(\"unknown action\")\n"
   ]
  },
  {
   "cell_type": "code",
   "execution_count": 20,
   "id": "2137b6e6",
   "metadata": {},
   "outputs": [
    {
     "data": {
      "text/plain": [
       "True"
      ]
     },
     "execution_count": 20,
     "metadata": {},
     "output_type": "execute_result"
    }
   ],
   "source": [
    "g_displacefuture.is_finished_ok\n"
   ]
  },
  {
   "cell_type": "code",
   "execution_count": 21,
   "id": "4f6965cd",
   "metadata": {},
   "outputs": [
    {
     "data": {
      "text/plain": [
       "{'job_id': '5870',\n",
       " 'sealed': True,\n",
       " 'version': {'core': '1.6.8'},\n",
       " 'withmpi': False,\n",
       " 'resources': {'num_machines': 1, 'num_mpiprocs_per_machine': 1},\n",
       " 'append_text': '',\n",
       " 'exit_status': 0,\n",
       " 'parser_name': 'alamode.displace',\n",
       " 'prepend_text': '',\n",
       " 'last_job_info': {'job_id': '5870',\n",
       "  'job_owner': 'max',\n",
       "  'job_state': 'running',\n",
       "  'wallclock_time_seconds': 0},\n",
       " 'process_label': 'displace_pf_Calcjob',\n",
       " 'process_state': 'finished',\n",
       " 'retrieve_list': ['displace_pf.in',\n",
       "  'displace_pf.out',\n",
       "  'harmonic*.lammps',\n",
       "  '_scheduler-stdout.txt',\n",
       "  '_scheduler-stderr.txt'],\n",
       " 'input_filename': 'displace_pf.in',\n",
       " 'remote_workdir': '/scratch/max/aiida/73/41/4836-7a88-4568-bbdb-de9488d736c0',\n",
       " 'output_filename': 'displace_pf.out',\n",
       " 'scheduler_state': 'done',\n",
       " 'scheduler_stderr': '_scheduler-stderr.txt',\n",
       " 'scheduler_stdout': '_scheduler-stdout.txt',\n",
       " 'detailed_job_info': None,\n",
       " 'mpirun_extra_params': [],\n",
       " 'environment_variables': {},\n",
       " 'import_sys_environment': True,\n",
       " 'submit_script_filename': '_aiidasubmit.sh',\n",
       " 'retrieve_temporary_list': [],\n",
       " 'scheduler_lastchecktime': '2022-08-10T09:15:40.477773+00:00',\n",
       " 'custom_scheduler_commands': ''}"
      ]
     },
     "execution_count": 21,
     "metadata": {},
     "output_type": "execute_result"
    }
   ],
   "source": [
    "g_displacefuture.attributes\n"
   ]
  },
  {
   "cell_type": "code",
   "execution_count": 22,
   "id": "f6908ec4",
   "metadata": {},
   "outputs": [
    {
     "data": {
      "text/plain": [
       "['_scheduler-stderr.txt',\n",
       " '_scheduler-stdout.txt',\n",
       " 'displace_pf.out',\n",
       " 'harmonic01.lammps',\n",
       " 'harmonic02.lammps',\n",
       " 'harmonic03.lammps',\n",
       " 'harmonic04.lammps',\n",
       " 'harmonic05.lammps',\n",
       " 'harmonic06.lammps',\n",
       " 'harmonic07.lammps',\n",
       " 'harmonic08.lammps',\n",
       " 'harmonic09.lammps',\n",
       " 'harmonic10.lammps']"
      ]
     },
     "execution_count": 22,
     "metadata": {},
     "output_type": "execute_result"
    }
   ],
   "source": [
    "g_displacefuture.outputs.retrieved.list_object_names()\n"
   ]
  },
  {
   "cell_type": "code",
   "execution_count": 23,
   "id": "a9787ba0",
   "metadata": {},
   "outputs": [
    {
     "name": "stdout",
     "output_type": "stream",
     "text": [
      "*****************************************************************\n",
      "    displace.py --  Generator of displaced configurations        \n",
      "                      Version. 1.2.1                             \n",
      "*****************************************************************\n",
      "\n",
      "Namespace(mag=0.01, prefix='harmonic', QE=None, VASP=None, xTAPP=None, LAMMPS='supercell.lammps', OpenMX=None, pattern_file=['harmonic.pattern_HARMONIC'], random=False, random_normalcoord=False, temp=100, ignore_imag=False, every='50', load_mddata=None, prim=None, evec=None, num_disp=1, classical=False, print_disp_stdout=False, pes=None, imag_evec=False, Qrange=None)\n",
      "<class 'argparse.Namespace'>\n",
      " Output format                  : LAMMPS structure format\n",
      " Structure before displacements : supercell.lammps\n",
      " Output file names              : harmonic{counter}.lammps\n",
      " Magnitude of displacements     : 0.01 Angstrom\n",
      " Number of atoms                : 32\n",
      "\n",
      "deug dispobj <GenDisplacement.AlamodeDisplace object at 0x1500c2c5beb0>\n",
      " Displacement mode              : Finite displacement\n",
      "\n",
      " 10 displacement pattern are generated from\n",
      " the given *.pattern_* files\n",
      "\n",
      " Number of displacements        : 10\n",
      "-----------------------------------------------------------------\n",
      "\n",
      "All input files are created.\n",
      "\n"
     ]
    }
   ],
   "source": [
    "for filename in g_displacefuture.outputs.retrieved.list_object_names():\n",
    "    if filename.startswith(\"displace\"):\n",
    "        print(g_displacefuture.outputs.retrieved.get_object_content(filename))\n"
   ]
  },
  {
   "cell_type": "code",
   "execution_count": 24,
   "id": "8ce5f9d2",
   "metadata": {},
   "outputs": [
    {
     "data": {
      "text/plain": [
       "['harmonic01.lammps',\n",
       " 'harmonic02.lammps',\n",
       " 'harmonic03.lammps',\n",
       " 'harmonic04.lammps',\n",
       " 'harmonic05.lammps',\n",
       " 'harmonic06.lammps',\n",
       " 'harmonic07.lammps',\n",
       " 'harmonic08.lammps',\n",
       " 'harmonic09.lammps',\n",
       " 'harmonic10.lammps']"
      ]
     },
     "execution_count": 24,
     "metadata": {},
     "output_type": "execute_result"
    }
   ],
   "source": [
    "g_displacefuture.outputs.dispfile_folder.list_object_names()\n"
   ]
  },
  {
   "cell_type": "code",
   "execution_count": 25,
   "id": "336eb3e4",
   "metadata": {},
   "outputs": [
    {
     "data": {
      "text/plain": [
       "<Dict: uuid: 24bcde8a-e358-402c-a37c-73233f03ed61 (pk: 59196)>"
      ]
     },
     "execution_count": 25,
     "metadata": {},
     "output_type": "execute_result"
    }
   ],
   "source": [
    "g_displace_result = g_displacefuture.outputs.results\n",
    "g_displace_result\n"
   ]
  },
  {
   "cell_type": "code",
   "execution_count": 26,
   "id": "e0056be2",
   "metadata": {},
   "outputs": [],
   "source": [
    "g_dispfile_folder = g_displacefuture.outputs.dispfile_folder\n"
   ]
  },
  {
   "cell_type": "code",
   "execution_count": 27,
   "id": "fe035975",
   "metadata": {
    "scrolled": true
   },
   "outputs": [
    {
     "name": "stdout",
     "output_type": "stream",
     "text": [
      "[0 1 2 3 4 5 6 7 8 9]\n"
     ]
    },
    {
     "data": {
      "text/plain": [
       "array([[ 1.00000000e-02,  1.84174736e+00,  5.20021239e+00],\n",
       "       [ 1.59500000e+00,  9.20873679e-01,  2.60571239e+00],\n",
       "       [ 2.20545804e-15,  1.84174736e+00,  1.96060761e+00],\n",
       "       [ 1.59500000e+00,  9.20873679e-01,  4.55510761e+00],\n",
       "       [-1.49880108e-17,  1.84174736e+00,  1.12123854e-02],\n",
       "       [ 1.59500000e+00,  9.20873679e-01,  7.79471239e+00],\n",
       "       [ 2.20545804e-15,  1.84174736e+00,  7.14960761e+00],\n",
       "       [ 1.59500000e+00,  9.20873679e-01,  9.74410761e+00],\n",
       "       [-1.59500000e+00,  4.60436840e+00,  5.20021239e+00],\n",
       "       [ 3.07864845e-15,  3.68349472e+00,  2.60571239e+00],\n",
       "       [-1.59500000e+00,  4.60436840e+00,  1.96060761e+00],\n",
       "       [ 3.07864845e-15,  3.68349472e+00,  4.55510761e+00],\n",
       "       [-1.59500000e+00,  4.60436840e+00,  1.12123854e-02],\n",
       "       [ 3.07864845e-15,  3.68349472e+00,  7.79471239e+00],\n",
       "       [-1.59500000e+00,  4.60436840e+00,  7.14960761e+00],\n",
       "       [ 3.07864845e-15,  3.68349472e+00,  9.74410761e+00],\n",
       "       [ 3.19000000e+00,  1.84174736e+00,  5.20021239e+00],\n",
       "       [ 4.78500000e+00,  9.20873679e-01,  2.60571239e+00],\n",
       "       [ 3.19000000e+00,  1.84174736e+00,  1.96060761e+00],\n",
       "       [ 4.78500000e+00,  9.20873679e-01,  4.55510761e+00],\n",
       "       [ 3.19000000e+00,  1.84174736e+00,  1.12123854e-02],\n",
       "       [ 4.78500000e+00,  9.20873679e-01,  7.79471239e+00],\n",
       "       [ 3.19000000e+00,  1.84174736e+00,  7.14960761e+00],\n",
       "       [ 4.78500000e+00,  9.20873679e-01,  9.74410761e+00],\n",
       "       [ 1.59500000e+00,  4.60436840e+00,  5.20021239e+00],\n",
       "       [ 3.19000000e+00,  3.68349472e+00,  2.60571239e+00],\n",
       "       [ 1.59500000e+00,  4.60436840e+00,  1.96060761e+00],\n",
       "       [ 3.19000000e+00,  3.68349472e+00,  4.55510761e+00],\n",
       "       [ 1.59500000e+00,  4.60436840e+00,  1.12123854e-02],\n",
       "       [ 3.19000000e+00,  3.68349472e+00,  7.79471239e+00],\n",
       "       [ 1.59500000e+00,  4.60436840e+00,  7.14960761e+00],\n",
       "       [ 3.19000000e+00,  3.68349472e+00,  9.74410761e+00]])"
      ]
     },
     "execution_count": 27,
     "metadata": {},
     "output_type": "execute_result"
    }
   ],
   "source": [
    "print(g_displacefuture.outputs.displaced_structures.get_stepids())\n",
    "structure = g_displacefuture.outputs.displaced_structures.get_step_structure(0)\n",
    "structure.get_ase().get_positions()\n"
   ]
  },
  {
   "cell_type": "code",
   "execution_count": 28,
   "id": "3ae57bf2",
   "metadata": {
    "scrolled": true
   },
   "outputs": [
    {
     "data": {
      "text/plain": [
       "<TrajectoryData: uuid: 8ea7130c-0216-48b5-9ede-ee44324e9577 (pk: 59198)>"
      ]
     },
     "execution_count": 28,
     "metadata": {},
     "output_type": "execute_result"
    }
   ],
   "source": [
    "g_displaced_structures = g_displacefuture.outputs.displaced_structures\n",
    "g_displaced_structures"
   ]
  },
  {
   "cell_type": "code",
   "execution_count": 29,
   "id": "3ff8c1de",
   "metadata": {},
   "outputs": [
    {
     "data": {
      "text/plain": [
       "10"
      ]
     },
     "execution_count": 29,
     "metadata": {},
     "output_type": "execute_result"
    }
   ],
   "source": [
    "num_structures = len(g_displaced_structures.get_stepids())\n",
    "num_structures\n"
   ]
  },
  {
   "cell_type": "markdown",
   "id": "716e8847",
   "metadata": {},
   "source": [
    "# load tersoff potential"
   ]
  },
  {
   "cell_type": "code",
   "execution_count": 30,
   "id": "b8c28a4c",
   "metadata": {},
   "outputs": [
    {
     "data": {
      "text/plain": [
       "<EmpiricalPotential: uuid: e34d14c6-238c-4456-b463-b3e0a8ede1ab (unstored)>"
      ]
     },
     "execution_count": 30,
     "metadata": {},
     "output_type": "execute_result"
    }
   ],
   "source": [
    "import json\n",
    "# with open(\"lammps_input/potentials/tersoff-GaN.json\",\"r\") as f:\n",
    "with open(\"lammps_input/potentials/tersoff.json\",\"r\") as f:\n",
    "    potential_dict = json.load(f)\n",
    "lammps_potential = DataFactory(\"lammps.potential\")(\n",
    "    type=potential_dict[\"pair_style\"], data=potential_dict[\"potential_dict\"]\n",
    ")\n",
    "lammps_potential\n"
   ]
  },
  {
   "cell_type": "markdown",
   "id": "39018935",
   "metadata": {},
   "source": [
    "# execution option"
   ]
  },
  {
   "cell_type": "code",
   "execution_count": 31,
   "id": "d9cab4f6",
   "metadata": {},
   "outputs": [],
   "source": [
    "lammps_parameters = DataFactory('dict')(dict={\n",
    "    'lammps_version': lammps_version(),\n",
    "    'output_variables': [\"temp\", \"etotal\", \"pe\", \"ke\"],\n",
    "    'thermo_keywords': []\n",
    "})\n",
    "meta_options = {\n",
    "    \"resources\": {\n",
    "        \"num_machines\": 1,\n",
    "        \"num_mpiprocs_per_machine\": 1}\n",
    "}\n"
   ]
  },
  {
   "cell_type": "markdown",
   "id": "6c738bfc",
   "metadata": {},
   "source": [
    "# run all the displacements"
   ]
  },
  {
   "cell_type": "code",
   "execution_count": 32,
   "id": "0c60a8d2",
   "metadata": {},
   "outputs": [
    {
     "data": {
      "text/plain": [
       "<Code: Remote code 'lammps.force-lammps-localhost' on localhost, pk: 59137, uuid: 38d58d76-d1ac-419e-97e6-24a749d7c791>"
      ]
     },
     "execution_count": 32,
     "metadata": {},
     "output_type": "execute_result"
    }
   ],
   "source": [
    "Code.get_from_string(code_lammps_force_name.value)"
   ]
  },
  {
   "cell_type": "code",
   "execution_count": 33,
   "id": "34301da8",
   "metadata": {},
   "outputs": [],
   "source": [
    "alldisp_lammps_WorkChain = WorkflowFactory(\"alamode.all_displace_lammps\")\n",
    "# alldisp_lammps_WorkChain = alldisplaces_lammps_WorkChain\n"
   ]
  },
  {
   "cell_type": "code",
   "execution_count": 34,
   "id": "6402872d",
   "metadata": {},
   "outputs": [
    {
     "data": {
      "text/plain": [
       "<Dict: uuid: 7d9234b5-8777-4ef5-8a1c-75335ef11cdf (unstored)>"
      ]
     },
     "execution_count": 34,
     "metadata": {},
     "output_type": "execute_result"
    }
   ],
   "source": [
    "lammps_parameters"
   ]
  },
  {
   "cell_type": "code",
   "execution_count": 35,
   "id": "f56927ee",
   "metadata": {
    "scrolled": false
   },
   "outputs": [],
   "source": [
    "inputs = {\"structures\": g_displaced_structures,\n",
    "          \"parameters\": lammps_parameters,\n",
    "          \"code_string\":  code_lammps_force_name,\n",
    "          \"cwd\": g_cwd,\n",
    "          \"prefix\": g_prefix,\n",
    "          'potential': lammps_potential}\n",
    "\n"
   ]
  },
  {
   "cell_type": "code",
   "execution_count": null,
   "id": "b1b3ddaa",
   "metadata": {},
   "outputs": [],
   "source": []
  },
  {
   "cell_type": "code",
   "execution_count": 36,
   "id": "a30075bb",
   "metadata": {},
   "outputs": [
    {
     "data": {
      "text/plain": [
       "<Str: uuid: 7697e409-d2f7-4115-ab2e-63bbadf87ce6 (pk: 59122) value: /home/max/Documents/aiida-test/alamode-aiida/example/run29/Ga2N2_1x1x1_harmonic>"
      ]
     },
     "execution_count": 36,
     "metadata": {},
     "output_type": "execute_result"
    }
   ],
   "source": [
    "g_cwd"
   ]
  },
  {
   "cell_type": "code",
   "execution_count": 37,
   "id": "645ae676",
   "metadata": {
    "scrolled": false
   },
   "outputs": [
    {
     "name": "stdout",
     "output_type": "stream",
     "text": [
      "wait another 5 sec.\n",
      "wait another 5 sec.\n",
      "wait another 5 sec.\n",
      "True True\n",
      "True\n"
     ]
    }
   ],
   "source": [
    "lammps_all = nodebank.load(f\"{g_prefix.value}_all_lammps\")\n",
    "if lammps_all is None:\n",
    "    lammps_all = submit(alldisp_lammps_WorkChain, **inputs)\n",
    "    wait_for_node_finished(lammps_all, 5)\n",
    "    print(lammps_all.is_finished_ok)\n",
    "    if lammps_all.is_finished_ok:\n",
    "        nodebank.dump(f\"{g_prefix.value}_all_lammps\", lammps_all)"
   ]
  },
  {
   "cell_type": "code",
   "execution_count": 38,
   "id": "2405fa49",
   "metadata": {},
   "outputs": [
    {
     "data": {
      "text/plain": [
       "<WorkChainNode: uuid: 6b0d6016-140f-491a-8f54-8ab4ecf590f0 (pk: 59203) (aiida.workflows:alamode.all_displace_lammps)>"
      ]
     },
     "execution_count": 38,
     "metadata": {},
     "output_type": "execute_result"
    }
   ],
   "source": [
    "lammps_all"
   ]
  },
  {
   "cell_type": "code",
   "execution_count": 39,
   "id": "e82923a1",
   "metadata": {},
   "outputs": [],
   "source": [
    "g_target_folder = lammps_all.outputs.dfset_folder"
   ]
  },
  {
   "cell_type": "code",
   "execution_count": 40,
   "id": "93f70d15",
   "metadata": {},
   "outputs": [
    {
     "data": {
      "text/plain": [
       "['XFSET_harmonic01',\n",
       " 'XFSET_harmonic02',\n",
       " 'XFSET_harmonic03',\n",
       " 'XFSET_harmonic04',\n",
       " 'XFSET_harmonic05',\n",
       " 'XFSET_harmonic06',\n",
       " 'XFSET_harmonic07',\n",
       " 'XFSET_harmonic08',\n",
       " 'XFSET_harmonic09',\n",
       " 'XFSET_harmonic10']"
      ]
     },
     "execution_count": 40,
     "metadata": {},
     "output_type": "execute_result"
    }
   ],
   "source": [
    "lammps_all.outputs.dfset_folder.list_object_names()"
   ]
  },
  {
   "cell_type": "code",
   "execution_count": 41,
   "id": "487f898e",
   "metadata": {
    "scrolled": true
   },
   "outputs": [
    {
     "name": "stdout",
     "output_type": "stream",
     "text": [
      "ITEM: TIMESTEP\n",
      "0\n",
      "ITEM: NUMBER OF ATOMS\n",
      "32\n",
      "ITEM: BOX BOUNDS xy xz yz pp pp pp\n",
      "-3.1899999999999999e+00 6.3799999999999999e+00 -3.1899999999999999e+00\n",
      "0.0000000000000000e+00 5.5252420760999996e+00 0.0000000000000000e+00\n",
      "0.0000000000000000e+00 1.0378000000000000e+01 0.0000000000000000e+00\n",
      "ITEM: ATOMS element xu yu zu fx fy fz \n",
      "  Ga     0.0100000000     1.8417473587     5.2002123854    -0.2708848292     0.0034007417     0.0024005341 \n",
      "  Ga     1.5950000000     0.9208736794     2.6057123854     0.0002778472    -0.0008168277     0.0008174230 \n",
      "   N    -0.0000000000     1.8417473587     1.9606076146    -0.0000000000     0.0000000004    -0.0000000016 \n",
      "   N     1.5950000000     0.9208736794     4.5551076146     0.1133079066    -0.0538249489    -0.0380018014 \n",
      "  Ga    -0.0000000000     1.8417473587     0.0112123854    -0.0000000000     0.0000000004     0.0000000016 \n",
      "  Ga     1.5950000000     0.9208736794     7.7947123854     0.0002994794    -0.0008393264     0.0056057314 \n",
      "   N    -0.0000000000     1.8417473587     7.1496076146     0.0199093092    -0.0000335911    -0.0001697455 \n",
      "   N     1.5950000000     0.9208736794     9.7441076146     0.0000000000    -0.0000000004    -0.0000000016 \n",
      "  Ga    -1.5950000000     4.6043683968     5.2002123854     0.0004046374    -0.0049633878     0.0001811832 \n",
      "  Ga    -0.0000000000     3.6834947174     2.6057123854    -0.0011281554    -0.0000055706    -0.0000025626 \n",
      "   N    -1.5950000000     4.6043683968     1.9606076146    -0.0000000000    -0.0000000007    -0.0000000011 \n",
      "   N    -0.0000000000     3.6834947174     4.5551076146     0.0203584521    -0.0001995014    -0.0000714792 \n",
      "  Ga    -1.5950000000     4.6043683968     0.0112123854    -0.0000000000    -0.0000000007     0.0000000011 \n",
      "  Ga    -0.0000000000     3.6834947174     7.7947123854    -0.0011281552     0.0000042717    -0.0000044584 \n",
      "   N    -1.5950000000     4.6043683968     7.1496076146    -0.0000000000    -0.0000000007    -0.0000000011 \n",
      "   N    -0.0000000000     3.6834947174     9.7441076146    -0.0000000000     0.0000000007    -0.0000000011 \n",
      "  Ga     3.1900000000     1.8417473587     5.2002123854     0.0090515300    -0.0000816880    -0.0000572379 \n",
      "  Ga     4.7850000000     0.9208736794     2.6057123854     0.0002847038     0.0008107171    -0.0008181388 \n",
      "   N     3.1900000000     1.8417473587     1.9606076146    -0.0000000000     0.0000000004    -0.0000000016 \n",
      "   N     4.7850000000     0.9208736794     4.5551076146     0.1085352345     0.0507666082     0.0358539043 \n",
      "  Ga     3.1900000000     1.8417473587     0.0112123854     0.0000000000     0.0000000004     0.0000000016 \n",
      "  Ga     4.7850000000     0.9208736794     7.7947123854     0.0002635481     0.0007883958    -0.0055898313 \n",
      "   N     3.1900000000     1.8417473587     7.1496076146     0.0000000000     0.0000000004    -0.0000000016 \n",
      "   N     4.7850000000     0.9208736794     9.7441076146    -0.0000000000    -0.0000000004    -0.0000000016 \n",
      "  Ga     1.5950000000     4.6043683968     5.2002123854     0.0004484916     0.0049941067    -0.0001435132 \n",
      "  Ga     3.1900000000     3.6834947174     2.6057123854     0.0000000000     0.0000000007     0.0000000011 \n",
      "   N     1.5950000000     4.6043683968     1.9606076146     0.0000000000    -0.0000000007    -0.0000000011 \n",
      "   N     3.1900000000     3.6834947174     4.5551076146     0.0000000000     0.0000000007    -0.0000000011 \n",
      "  Ga     1.5950000000     4.6043683968     0.0112123854     0.0000000000    -0.0000000007     0.0000000011 \n",
      "  Ga     3.1900000000     3.6834947174     7.7947123854     0.0000000000     0.0000000007     0.0000000011 \n",
      "   N     1.5950000000     4.6043683968     7.1496076146     0.0000000000    -0.0000000007    -0.0000000011 \n",
      "   N     3.1900000000     3.6834947174     9.7441076146     0.0000000000     0.0000000007    -0.0000000011 \n",
      "\n"
     ]
    }
   ],
   "source": [
    "filename =  lammps_all.outputs.dfset_folder.list_object_names()[0]\n",
    "print(lammps_all.outputs.dfset_folder.get_object_content(filename))\n"
   ]
  },
  {
   "cell_type": "markdown",
   "id": "57eeed1b",
   "metadata": {},
   "source": [
    "# extract"
   ]
  },
  {
   "cell_type": "code",
   "execution_count": 42,
   "id": "d20d7e60",
   "metadata": {},
   "outputs": [
    {
     "data": {
      "text/plain": [
       "<Str: uuid: fd25b55a-0665-4bf8-8923-26eb3542134f (unstored) value: alamode.extract@localhost>"
      ]
     },
     "execution_count": 42,
     "metadata": {},
     "output_type": "execute_result"
    }
   ],
   "source": [
    "code_extract_name"
   ]
  },
  {
   "cell_type": "code",
   "execution_count": 43,
   "id": "52d3e24b",
   "metadata": {},
   "outputs": [
    {
     "data": {
      "text/plain": [
       "<Str: uuid: c60d5c7e-a3c8-4b16-8707-f5fc9ed8a75b (pk: 59119) value: supercell.lammps>"
      ]
     },
     "execution_count": 43,
     "metadata": {},
     "output_type": "execute_result"
    }
   ],
   "source": [
    "g_superstructure_filename"
   ]
  },
  {
   "cell_type": "code",
   "execution_count": 44,
   "id": "c1aa6ddf",
   "metadata": {},
   "outputs": [
    {
     "data": {
      "text/plain": [
       "<Code: Remote code 'alamode.extract' on localhost, pk: 59135, uuid: 31808c39-5451-4302-9cea-a3288da8628d>"
      ]
     },
     "execution_count": 44,
     "metadata": {},
     "output_type": "execute_result"
    }
   ],
   "source": [
    "code_extract = Code.get_from_string(code_extract_name.value)\n",
    "code_extract"
   ]
  },
  {
   "cell_type": "code",
   "execution_count": 45,
   "id": "d1965acc",
   "metadata": {},
   "outputs": [],
   "source": [
    "builder = code_extract.get_builder()\n",
    "builder.format = g_format\n",
    "builder.cwd = g_cwd\n",
    "builder.structure_org_filename = g_superstructure_filename\n",
    "builder.prefix = g_prefix\n",
    "builder.target_folder = g_target_folder"
   ]
  },
  {
   "cell_type": "code",
   "execution_count": 46,
   "id": "56bf4f7d",
   "metadata": {},
   "outputs": [],
   "source": [
    "extract = submit(builder)\n"
   ]
  },
  {
   "cell_type": "code",
   "execution_count": 47,
   "id": "b2156d2a",
   "metadata": {},
   "outputs": [
    {
     "name": "stdout",
     "output_type": "stream",
     "text": [
      "wait another 2 sec.\n",
      "wait another 2 sec.\n",
      "True True\n"
     ]
    }
   ],
   "source": [
    "wait_for_node_finished(extract)\n"
   ]
  },
  {
   "cell_type": "code",
   "execution_count": 48,
   "id": "86932045",
   "metadata": {},
   "outputs": [
    {
     "data": {
      "text/plain": [
       "<CalcJobNode: uuid: ca4871d6-94f3-494b-a004-23a6c222a36b (pk: 59272) (aiida.calculations:alamode.extract)>"
      ]
     },
     "execution_count": 48,
     "metadata": {},
     "output_type": "execute_result"
    }
   ],
   "source": [
    "nodebank.dump(f\"{g_prefix.value}_extract\", extract)"
   ]
  },
  {
   "cell_type": "code",
   "execution_count": 49,
   "id": "4ed01959",
   "metadata": {},
   "outputs": [
    {
     "name": "stdout",
     "output_type": "stream",
     "text": [
      "done\n"
     ]
    }
   ],
   "source": [
    "print(\"done\")"
   ]
  },
  {
   "cell_type": "code",
   "execution_count": 50,
   "id": "e807a503",
   "metadata": {},
   "outputs": [],
   "source": [
    "node = nodebank.load(f\"{g_prefix.value}_extract\")"
   ]
  },
  {
   "cell_type": "code",
   "execution_count": 51,
   "id": "5920d4c0",
   "metadata": {},
   "outputs": [
    {
     "data": {
      "text/plain": [
       "{'filename': 'DFSET_harmonic'}"
      ]
     },
     "execution_count": 51,
     "metadata": {},
     "output_type": "execute_result"
    }
   ],
   "source": [
    "node.outputs.dfset_file.attributes\n"
   ]
  },
  {
   "cell_type": "code",
   "execution_count": 52,
   "id": "e48f99bb",
   "metadata": {
    "scrolled": true
   },
   "outputs": [
    {
     "data": {
      "text/plain": [
       "\"Namespace(VASP=None, QE=None, xTAPP=None, LAMMPS='supercell.lammps', OpenMX=None, get='disp-force', unitname='Rydberg', offset=None, emin=None, emax=None, target_file=['XFSET_harmonic01', 'XFSET_harmonic02', 'XFSET_harmonic03', 'XFSET_harmonic04', 'XFSET_harmonic05', 'XFSET_harmonic06', 'XFSET_harmonic07', 'XFSET_harmonic08', 'XFSET_harmonic09', 'XFSET_harmonic10'])\\n# Filename: XFSET_harmonic01, Snapshot: 1\\n    0.01889726124994    -0.00000000002816    -0.00000000004365      -1.05357429E-02  1.32267799E-04  9.33659155E-05\\n    0.00000000000000     0.00000000008046    -0.00000000004365       1.08065360E-05 -3.17695408E-05  3.17926943E-05\\n   -0.00000000000000    -0.00000000002816     0.00000000004309      -0.00000000E+00  1.55575237E-11 -6.22300949E-11\\n    0.00000000000000     0.00000000008046     0.00000000004308       4.40697611E-03 -2.09345730E-03 -1.47803482E-03\\n    0.00000000000000    -0.00000000002816    -0.00000000004366      -0.00000000E+00  1.55575237E-11  6.22300949E-11\\n    0.00000000000000     0.00000000008046    -0.00000000004365       1.16478947E-05 -3.26446010E-05  2.18028248E-04\\n   -0.00000000000000    -0.00000000002816     0.00000000004308       7.74348876E-04 -1.30648584E-06 -6.60204911E-06\\n    0.00000000000000     0.00000000008046     0.00000000004309       0.00000000E+00 -1.55575237E-11 -6.22300949E-11\\n    0.00000000000000     0.00000000002419    -0.00000000004365       1.57378899E-05 -1.93045059E-04  7.04690483E-06\\n   -0.00000000000001    -0.00000000005631    -0.00000000004365      -4.38782610E-05 -2.16661854E-07 -9.96692757E-08\\n    0.00000000000000     0.00000000002419     0.00000000004309      -0.00000000E+00 -2.72256665E-11 -4.27831902E-11\\n   -0.00000000000001    -0.00000000005631     0.00000000004308       7.91817754E-04 -7.75936941E-06 -2.78009837E-06\\n    0.00000000000000     0.00000000002419    -0.00000000004366      -0.00000000E+00 -2.72256665E-11  4.27831902E-11\\n   -0.00000000000001    -0.00000000005631    -0.00000000004365      -4.38782532E-05  1.66142685E-07 -1.73404159E-07\\n    0.00000000000000     0.00000000002419     0.00000000004308      -0.00000000E+00 -2.72256665E-11 -4.27831902E-11\\n   -0.00000000000001    -0.00000000005631     0.00000000004309      -0.00000000E+00  2.72256665E-11 -4.27831902E-11\\n    0.00000000000000    -0.00000000002816    -0.00000000004365       3.52048482E-04 -3.17715749E-06 -2.22619997E-06\\n    0.00000000000000     0.00000000008046    -0.00000000004365       1.10732153E-05  3.15318763E-05 -3.18205345E-05\\n    0.00000000000000    -0.00000000002816     0.00000000004309      -0.00000000E+00  1.55575237E-11 -6.22300949E-11\\n    0.00000000000000     0.00000000008046     0.00000000004308       4.22134871E-03  1.97450678E-03  1.39449492E-03\\n    0.00000000000000    -0.00000000002816    -0.00000000004366       0.00000000E+00  1.55575237E-11  6.22300949E-11\\n    0.00000000000000     0.00000000008046    -0.00000000004365       1.02503895E-05  3.06637159E-05 -2.17409833E-04\\n    0.00000000000000    -0.00000000002816     0.00000000004308       0.00000000E+00  1.55575237E-11 -6.22300949E-11\\n    0.00000000000000     0.00000000008046     0.00000000004309      -0.00000000E+00 -1.55575237E-11 -6.22300949E-11\\n    0.00000000000000     0.00000000002419    -0.00000000004365       1.74435468E-05  1.94239834E-04 -5.58177503E-06\\n    0.00000000000000    -0.00000000005631    -0.00000000004365       0.00000000E+00  2.72256665E-11  4.27831902E-11\\n    0.00000000000000     0.00000000002419     0.00000000004309       0.00000000E+00 -2.72256665E-11 -4.27831902E-11\\n    0.00000000000000    -0.00000000005631     0.00000000004308       0.00000000E+00  2.72256665E-11 -4.27831902E-11\\n    0.00000000000000     0.00000000002419    -0.00000000004366       0.00000000E+00 -2.72256665E-11  4.27831902E-11\\n    0.00000000000000    -0.00000000005631    -0.00000000004365       0.00000000E+00  2.72256665E-11  4.27831902E-11\\n    0.00000000000000     0.00000000002419     0.00000000004308       0.00000000E+00 -2.72256665E-11 -4.27831902E-11\\n    0.00000000000000    -0.00000000005631     0.00000000004309       0.00000000E+00  2.72256665E-11 -4.27831902E-11\\n# Filename: XFSET_harmonic02, Snapshot: 1\\n    0.00000000000000     0.01889726122178    -0.00000000004365       0.00000000E+00 -1.06680183E-02  9.41569300E-05\\n    0.00000000000000     0.00000000008046    -0.00000000004365      -3.17073729E-05 -2.53770515E-05 -1.84346505E-05\\n   -0.00000000000000    -0.00000000002816     0.00000000004309      -0.00000000E+00  1.55575237E-11 -6.22300949E-11\\n    0.00000000000000     0.00000000008046     0.00000000004308      -2.00338598E-03  1.95415365E-03  8.13192675E-04\\n    0.00000000000000    -0.00000000002816    -0.00000000004366      -0.00000000E+00  1.55575237E-11  6.22300949E-11\\n    0.00000000000000     0.00000000008046    -0.00000000004365      -3.09867329E-05 -2.54008079E-05 -1.25713204E-04\\n   -0.00000000000000    -0.00000000002816     0.00000000004308      -0.00000000E+00  7.75655287E-04 -6.56794702E-06\\n    0.00000000000000     0.00000000008046     0.00000000004309       0.00000000E+00 -1.55575237E-11 -6.22300949E-11\\n    0.00000000000000     0.00000000002419    -0.00000000004365      -1.91475157E-04  2.40390858E-04  2.39182925E-06\\n   -0.00000000000001    -0.00000000005631    -0.00000000004365      -0.00000000E+00  2.92098575E-05  3.67417254E-05\\n    0.00000000000000     0.00000000002419     0.00000000004309      -0.00000000E+00 -2.72256665E-11 -4.27831902E-11\\n   -0.00000000000001    -0.00000000005631     0.00000000004308       0.00000000E+00  5.63855306E-03 -1.71348727E-03\\n    0.00000000000000     0.00000000002419    -0.00000000004366      -0.00000000E+00 -2.72256665E-11  4.27831902E-11\\n   -0.00000000000001    -0.00000000005631    -0.00000000004365      -0.00000000E+00  3.06363736E-05  2.51869806E-04\\n    0.00000000000000     0.00000000002419     0.00000000004308      -0.00000000E+00 -2.72256665E-11 -4.27831902E-11\\n   -0.00000000000001    -0.00000000005631     0.00000000004309      -0.00000000E+00  2.72256665E-11 -4.27831902E-11\\n    0.00000000000000    -0.00000000002816    -0.00000000004365       0.00000000E+00 -9.35695791E-05 -5.58623615E-06\\n    0.00000000000000     0.00000000008046    -0.00000000004365       3.17073729E-05 -2.53770515E-05 -1.84346505E-05\\n    0.00000000000000    -0.00000000002816     0.00000000004309      -0.00000000E+00  1.55575237E-11 -6.22300949E-11\\n    0.00000000000000     0.00000000008046     0.00000000004308       2.00338598E-03  1.95415365E-03  8.13192675E-04\\n    0.00000000000000    -0.00000000002816    -0.00000000004366       0.00000000E+00  1.55575237E-11  6.22300949E-11\\n    0.00000000000000     0.00000000008046    -0.00000000004365       3.09867329E-05 -2.54008079E-05 -1.25713204E-04\\n    0.00000000000000    -0.00000000002816     0.00000000004308       0.00000000E+00  1.55575237E-11 -6.22300949E-11\\n    0.00000000000000     0.00000000008046     0.00000000004309      -0.00000000E+00 -1.55575237E-11 -6.22300949E-11\\n    0.00000000000000     0.00000000002419    -0.00000000004365       1.91475157E-04  2.40390858E-04  2.39182925E-06\\n    0.00000000000000    -0.00000000005631    -0.00000000004365       0.00000000E+00  2.72256665E-11  4.27831902E-11\\n    0.00000000000000     0.00000000002419     0.00000000004309       0.00000000E+00 -2.72256665E-11 -4.27831902E-11\\n    0.00000000000000    -0.00000000005631     0.00000000004308       0.00000000E+00  2.72256665E-11 -4.27831902E-11\\n    0.00000000000000     0.00000000002419    -0.00000000004366       0.00000000E+00 -2.72256665E-11  4.27831902E-11\\n    0.00000000000000    -0.00000000005631    -0.00000000004365       0.00000000E+00  2.72256665E-11  4.27831902E-11\\n    0.00000000000000     0.00000000002419     0.00000000004308       0.00000000E+00 -2.72256665E-11 -4.27831902E-11\\n    0.00000000000000    -0.00000000005631     0.00000000004309       0.00000000E+00  2.72256665E-11 -4.27831902E-11\\n# Filename: XFSET_harmonic03, Snapshot: 1\\n    0.00000000000000    -0.01889726127809    -0.00000000004365       0.00000000E+00  1.04034677E-02  9.25749010E-05\\n    0.00000000000000     0.00000000008046    -0.00000000004365       3.15943825E-05  2.58338516E-05  1.82925092E-05\\n   -0.00000000000000    -0.00000000002816     0.00000000004309      -0.00000000E+00  1.55575237E-11 -6.22300949E-11\\n    0.00000000000000     0.00000000008046     0.00000000004308       2.06309159E-03 -1.97685346E-03 -8.44741879E-04\\n    0.00000000000000    -0.00000000002816    -0.00000000004366      -0.00000000E+00  1.55575237E-11  6.22300949E-11\\n    0.00000000000000     0.00000000008046    -0.00000000004365       3.23221946E-05  2.58037516E-05  1.25688165E-04\\n   -0.00000000000000    -0.00000000002816     0.00000000004308      -0.00000000E+00 -7.73042467E-04 -6.63615120E-06\\n    0.00000000000000     0.00000000008046     0.00000000004309       0.00000000E+00 -1.55575237E-11 -6.22300949E-11\\n    0.00000000000000     0.00000000002419    -0.00000000004365       1.95833332E-04 -2.40053972E-04 -4.87167131E-06\\n   -0.00000000000001    -0.00000000005631    -0.00000000004365      -0.00000000E+00 -2.92149254E-05 -3.67124539E-05\\n    0.00000000000000     0.00000000002419     0.00000000004309      -0.00000000E+00 -2.72256665E-11 -4.27831902E-11\\n   -0.00000000000001    -0.00000000005631     0.00000000004308       0.00000000E+00 -5.33971813E-03  1.60394569E-03\\n    0.00000000000000     0.00000000002419    -0.00000000004366      -0.00000000E+00 -2.72256665E-11  4.27831902E-11\\n   -0.00000000000001    -0.00000000005631    -0.00000000004365      -0.00000000E+00 -2.78128036E-05 -2.50929704E-04\\n    0.00000000000000     0.00000000002419     0.00000000004308      -0.00000000E+00 -2.72256665E-11 -4.27831902E-11\\n   -0.00000000000001    -0.00000000005631     0.00000000004309      -0.00000000E+00  2.72256665E-11 -4.27831902E-11\\n    0.00000000000000    -0.00000000002816    -0.00000000004365       0.00000000E+00  9.68602365E-05  9.02377603E-06\\n    0.00000000000000     0.00000000008046    -0.00000000004365      -3.15943825E-05  2.58338516E-05  1.82925092E-05\\n    0.00000000000000    -0.00000000002816     0.00000000004309      -0.00000000E+00  1.55575237E-11 -6.22300949E-11\\n    0.00000000000000     0.00000000008046     0.00000000004308      -2.06309159E-03 -1.97685346E-03 -8.44741879E-04\\n    0.00000000000000    -0.00000000002816    -0.00000000004366       0.00000000E+00  1.55575237E-11  6.22300949E-11\\n    0.00000000000000     0.00000000008046    -0.00000000004365      -3.23221946E-05  2.58037516E-05  1.25688165E-04\\n    0.00000000000000    -0.00000000002816     0.00000000004308       0.00000000E+00  1.55575237E-11 -6.22300949E-11\\n    0.00000000000000     0.00000000008046     0.00000000004309      -0.00000000E+00 -1.55575237E-11 -6.22300949E-11\\n    0.00000000000000     0.00000000002419    -0.00000000004365      -1.95833332E-04 -2.40053972E-04 -4.87167131E-06\\n    0.00000000000000    -0.00000000005631    -0.00000000004365       0.00000000E+00  2.72256665E-11  4.27831902E-11\\n    0.00000000000000     0.00000000002419     0.00000000004309       0.00000000E+00 -2.72256665E-11 -4.27831902E-11\\n    0.00000000000000    -0.00000000005631     0.00000000004308       0.00000000E+00  2.72256665E-11 -4.27831902E-11\\n    0.00000000000000     0.00000000002419    -0.00000000004366       0.00000000E+00 -2.72256665E-11  4.27831902E-11\\n    0.00000000000000    -0.00000000005631    -0.00000000004365       0.00000000E+00  2.72256665E-11  4.27831902E-11\\n    0.00000000000000     0.00000000002419     0.00000000004308       0.00000000E+00 -2.72256665E-11 -4.27831902E-11\\n    0.00000000000000    -0.00000000005631     0.00000000004309       0.00000000E+00  2.72256665E-11 -4.27831902E-11\\n# Filename: XFSET_harmonic04, Snapshot: 1\\n    0.00000000000000    -0.00000000002816     0.01889726120628      -0.00000000E+00  1.55575237E-11 -1.07807025E-02\\n    0.00000000000000     0.00000000008046    -0.00000000004365      -2.16477708E-04  1.24983448E-04  1.03354841E-04\\n   -0.00000000000000    -0.00000000002816     0.00000000004309      -0.00000000E+00  1.55575237E-11 -6.22300949E-11\\n    0.00000000000000     0.00000000008046     0.00000000004308      -1.42206379E-03  8.21028899E-04  1.36391200E-03\\n    0.00000000000000    -0.00000000002816    -0.00000000004366      -0.00000000E+00  1.55575237E-11  6.22300949E-11\\n    0.00000000000000     0.00000000008046    -0.00000000004365      -3.22306386E-05  1.86083502E-05  1.06252294E-04\\n   -0.00000000000000    -0.00000000002816     0.00000000004308      -0.00000000E+00  1.55575237E-11  6.32875144E-03\\n    0.00000000000000     0.00000000008046     0.00000000004309       0.00000000E+00 -1.55575237E-11 -6.22300949E-11\\n    0.00000000000000     0.00000000002419    -0.00000000004365       5.11704458E-06  2.95429986E-06 -8.95353537E-05\\n   -0.00000000000001    -0.00000000005631    -0.00000000004365      -0.00000000E+00 -2.49966899E-04  1.03354822E-04\\n    0.00000000000000     0.00000000002419     0.00000000004309      -0.00000000E+00 -2.72256665E-11 -4.27831902E-11\\n   -0.00000000000001    -0.00000000005631     0.00000000004308       0.00000000E+00 -1.64205780E-03  1.36391201E-03\\n    0.00000000000000     0.00000000002419    -0.00000000004366      -0.00000000E+00 -2.72256665E-11  4.27831902E-11\\n   -0.00000000000001    -0.00000000005631    -0.00000000004365      -0.00000000E+00 -3.72167083E-05  1.06252275E-04\\n    0.00000000000000     0.00000000002419     0.00000000004308      -0.00000000E+00 -2.72256665E-11 -4.27831902E-11\\n   -0.00000000000001    -0.00000000005631     0.00000000004309      -0.00000000E+00  2.72256665E-11 -4.27831902E-11\\n    0.00000000000000    -0.00000000002816    -0.00000000004365       0.00000000E+00 -5.90863861E-06 -8.95353343E-05\\n    0.00000000000000     0.00000000008046    -0.00000000004365       2.16477708E-04  1.24983448E-04  1.03354841E-04\\n    0.00000000000000    -0.00000000002816     0.00000000004309      -0.00000000E+00  1.55575237E-11 -6.22300949E-11\\n    0.00000000000000     0.00000000008046     0.00000000004308       1.42206379E-03  8.21028899E-04  1.36391200E-03\\n    0.00000000000000    -0.00000000002816    -0.00000000004366       0.00000000E+00  1.55575237E-11  6.22300949E-11\\n    0.00000000000000     0.00000000008046    -0.00000000004365       3.22306386E-05  1.86083502E-05  1.06252294E-04\\n    0.00000000000000    -0.00000000002816     0.00000000004308       0.00000000E+00  1.55575237E-11 -6.22300949E-11\\n    0.00000000000000     0.00000000008046     0.00000000004309      -0.00000000E+00 -1.55575237E-11 -6.22300949E-11\\n    0.00000000000000     0.00000000002419    -0.00000000004365      -5.11704458E-06  2.95429986E-06 -8.95353537E-05\\n    0.00000000000000    -0.00000000005631    -0.00000000004365       0.00000000E+00  2.72256665E-11  4.27831902E-11\\n    0.00000000000000     0.00000000002419     0.00000000004309       0.00000000E+00 -2.72256665E-11 -4.27831902E-11\\n    0.00000000000000    -0.00000000005631     0.00000000004308       0.00000000E+00  2.72256665E-11 -4.27831902E-11\\n    0.00000000000000     0.00000000002419    -0.00000000004366       0.00000000E+00 -2.72256665E-11  4.27831902E-11\\n    0.00000000000000    -0.00000000005631    -0.00000000004365       0.00000000E+00  2.72256665E-11  4.27831902E-11\\n    0.00000000000000     0.00000000002419     0.00000000004308       0.00000000E+00 -2.72256665E-11 -4.27831902E-11\\n    0.00000000000000    -0.00000000005631     0.00000000004309       0.00000000E+00  2.72256665E-11 -4.27831902E-11\\n# Filename: XFSET_harmonic05, Snapshot: 1\\n    0.00000000000000    -0.00000000002816    -0.01889726129359      -0.00000000E+00  1.55575237E-11  1.04014770E-02\\n    0.00000000000000     0.00000000008046    -0.00000000004365       2.18972699E-04 -1.26423962E-04 -1.06367486E-04\\n   -0.00000000000000    -0.00000000002816     0.00000000004309      -0.00000000E+00  1.55575237E-11 -6.22300949E-11\\n    0.00000000000000     0.00000000008046     0.00000000004308       1.44916063E-03 -8.36673296E-04 -1.35876932E-03\\n    0.00000000000000    -0.00000000002816    -0.00000000004366      -0.00000000E+00  1.55575237E-11  6.22300949E-11\\n    0.00000000000000     0.00000000008046    -0.00000000004365       3.13911779E-05 -1.81237217E-05 -1.03484790E-04\\n   -0.00000000000000    -0.00000000002816     0.00000000004308      -0.00000000E+00  1.55575237E-11 -5.96664200E-03\\n    0.00000000000000     0.00000000008046     0.00000000004309       0.00000000E+00 -1.55575237E-11 -6.22300949E-11\\n    0.00000000000000     0.00000000002419    -0.00000000004365      -7.52267724E-06 -4.34324446E-06  9.03433687E-05\\n   -0.00000000000001    -0.00000000005631    -0.00000000004365      -0.00000000E+00  2.52847919E-04 -1.06367505E-04\\n    0.00000000000000     0.00000000002419     0.00000000004309      -0.00000000E+00 -2.72256665E-11 -4.27831902E-11\\n   -0.00000000000001    -0.00000000005631     0.00000000004308       0.00000000E+00  1.67334659E-03 -1.35876930E-03\\n    0.00000000000000     0.00000000002419    -0.00000000004366      -0.00000000E+00 -2.72256665E-11  4.27831902E-11\\n   -0.00000000000001    -0.00000000005631    -0.00000000004365      -0.00000000E+00  3.62474356E-05 -1.03484809E-04\\n    0.00000000000000     0.00000000002419     0.00000000004308      -0.00000000E+00 -2.72256665E-11 -4.27831902E-11\\n   -0.00000000000001    -0.00000000005631     0.00000000004309      -0.00000000E+00  2.72256665E-11 -4.27831902E-11\\n    0.00000000000000    -0.00000000002816    -0.00000000004365       0.00000000E+00  8.68645392E-06  9.03433882E-05\\n    0.00000000000000     0.00000000008046    -0.00000000004365      -2.18972699E-04 -1.26423962E-04 -1.06367486E-04\\n    0.00000000000000    -0.00000000002816     0.00000000004309      -0.00000000E+00  1.55575237E-11 -6.22300949E-11\\n    0.00000000000000     0.00000000008046     0.00000000004308      -1.44916063E-03 -8.36673296E-04 -1.35876932E-03\\n    0.00000000000000    -0.00000000002816    -0.00000000004366       0.00000000E+00  1.55575237E-11  6.22300949E-11\\n    0.00000000000000     0.00000000008046    -0.00000000004365      -3.13911779E-05 -1.81237217E-05 -1.03484790E-04\\n    0.00000000000000    -0.00000000002816     0.00000000004308       0.00000000E+00  1.55575237E-11 -6.22300949E-11\\n    0.00000000000000     0.00000000008046     0.00000000004309      -0.00000000E+00 -1.55575237E-11 -6.22300949E-11\\n    0.00000000000000     0.00000000002419    -0.00000000004365       7.52267724E-06 -4.34324446E-06  9.03433687E-05\\n    0.00000000000000    -0.00000000005631    -0.00000000004365       0.00000000E+00  2.72256665E-11  4.27831902E-11\\n    0.00000000000000     0.00000000002419     0.00000000004309       0.00000000E+00 -2.72256665E-11 -4.27831902E-11\\n    0.00000000000000    -0.00000000005631     0.00000000004308       0.00000000E+00  2.72256665E-11 -4.27831902E-11\\n    0.00000000000000     0.00000000002419    -0.00000000004366       0.00000000E+00 -2.72256665E-11  4.27831902E-11\\n    0.00000000000000    -0.00000000005631    -0.00000000004365       0.00000000E+00  2.72256665E-11  4.27831902E-11\\n    0.00000000000000     0.00000000002419     0.00000000004308       0.00000000E+00 -2.72256665E-11 -4.27831902E-11\\n    0.00000000000000    -0.00000000005631     0.00000000004309       0.00000000E+00  2.72256665E-11 -4.27831902E-11\\n# Filename: XFSET_harmonic06, Snapshot: 1\\n    0.00000000000000    -0.00000000002816    -0.00000000004365       0.00000000E+00  1.55575237E-11  6.22300949E-11\\n    0.00000000000000     0.00000000008046    -0.00000000004365       4.40697611E-03 -2.09345730E-03  1.47803482E-03\\n    0.01889726124993    -0.00000000002816     0.00000000004309      -1.05357429E-02  1.32267799E-04 -9.33659155E-05\\n    0.00000000000000     0.00000000008046     0.00000000004308       1.08065360E-05 -3.17695408E-05 -3.17926943E-05\\n    0.00000000000000    -0.00000000002816    -0.00000000004366       7.74348876E-04 -1.30648584E-06  6.60204911E-06\\n    0.00000000000000     0.00000000008046    -0.00000000004365       0.00000000E+00 -1.55575237E-11  6.22300949E-11\\n   -0.00000000000000    -0.00000000002816     0.00000000004308      -0.00000000E+00  1.55575237E-11 -6.22300949E-11\\n    0.00000000000000     0.00000000008046     0.00000000004309       1.16478947E-05 -3.26446010E-05 -2.18028248E-04\\n    0.00000000000000     0.00000000002419    -0.00000000004365      -0.00000000E+00 -2.72256665E-11  4.27831902E-11\\n   -0.00000000000001    -0.00000000005631    -0.00000000004365       7.91817754E-04 -7.75936941E-06  2.78009837E-06\\n    0.00000000000000     0.00000000002419     0.00000000004309       1.57378899E-05 -1.93045059E-04 -7.04690483E-06\\n   -0.00000000000001    -0.00000000005631     0.00000000004308      -4.38782610E-05 -2.16661854E-07  9.96692757E-08\\n    0.00000000000000     0.00000000002419    -0.00000000004366      -0.00000000E+00 -2.72256665E-11  4.27831902E-11\\n   -0.00000000000001    -0.00000000005631    -0.00000000004365      -0.00000000E+00  2.72256665E-11  4.27831902E-11\\n    0.00000000000000     0.00000000002419     0.00000000004308      -0.00000000E+00 -2.72256665E-11 -4.27831902E-11\\n   -0.00000000000001    -0.00000000005631     0.00000000004309      -4.38782532E-05  1.66142685E-07  1.73404159E-07\\n    0.00000000000000    -0.00000000002816    -0.00000000004365       0.00000000E+00  1.55575237E-11  6.22300949E-11\\n    0.00000000000000     0.00000000008046    -0.00000000004365       4.22134871E-03  1.97450678E-03 -1.39449492E-03\\n    0.00000000000000    -0.00000000002816     0.00000000004309       3.52048482E-04 -3.17715749E-06  2.22619997E-06\\n    0.00000000000000     0.00000000008046     0.00000000004308       1.10732153E-05  3.15318763E-05  3.18205345E-05\\n    0.00000000000000    -0.00000000002816    -0.00000000004366       0.00000000E+00  1.55575237E-11  6.22300949E-11\\n    0.00000000000000     0.00000000008046    -0.00000000004365      -0.00000000E+00 -1.55575237E-11  6.22300949E-11\\n    0.00000000000000    -0.00000000002816     0.00000000004308       0.00000000E+00  1.55575237E-11 -6.22300949E-11\\n    0.00000000000000     0.00000000008046     0.00000000004309       1.02503895E-05  3.06637159E-05  2.17409833E-04\\n    0.00000000000000     0.00000000002419    -0.00000000004365       0.00000000E+00 -2.72256665E-11  4.27831902E-11\\n    0.00000000000000    -0.00000000005631    -0.00000000004365       0.00000000E+00  2.72256665E-11  4.27831902E-11\\n    0.00000000000000     0.00000000002419     0.00000000004309       1.74435468E-05  1.94239834E-04  5.58177503E-06\\n    0.00000000000000    -0.00000000005631     0.00000000004308       0.00000000E+00  2.72256665E-11 -4.27831902E-11\\n    0.00000000000000     0.00000000002419    -0.00000000004366       0.00000000E+00 -2.72256665E-11  4.27831902E-11\\n    0.00000000000000    -0.00000000005631    -0.00000000004365       0.00000000E+00  2.72256665E-11  4.27831902E-11\\n    0.00000000000000     0.00000000002419     0.00000000004308       0.00000000E+00 -2.72256665E-11 -4.27831902E-11\\n    0.00000000000000    -0.00000000005631     0.00000000004309       0.00000000E+00  2.72256665E-11 -4.27831902E-11\\n# Filename: XFSET_harmonic07, Snapshot: 1\\n    0.00000000000000    -0.00000000002816    -0.00000000004365       0.00000000E+00  1.55575237E-11  6.22300949E-11\\n    0.00000000000000     0.00000000008046    -0.00000000004365      -2.00338598E-03  1.95415365E-03 -8.13192675E-04\\n   -0.00000000000000     0.01889726122178     0.00000000004309      -0.00000000E+00 -1.06680183E-02 -9.41569300E-05\\n    0.00000000000000     0.00000000008046     0.00000000004308      -3.17073729E-05 -2.53770515E-05  1.84346505E-05\\n    0.00000000000000    -0.00000000002816    -0.00000000004366      -0.00000000E+00  7.75655287E-04  6.56794702E-06\\n    0.00000000000000     0.00000000008046    -0.00000000004365       0.00000000E+00 -1.55575237E-11  6.22300949E-11\\n   -0.00000000000000    -0.00000000002816     0.00000000004308      -0.00000000E+00  1.55575237E-11 -6.22300949E-11\\n    0.00000000000000     0.00000000008046     0.00000000004309      -3.09867329E-05 -2.54008079E-05  1.25713204E-04\\n    0.00000000000000     0.00000000002419    -0.00000000004365      -0.00000000E+00 -2.72256665E-11  4.27831902E-11\\n   -0.00000000000001    -0.00000000005631    -0.00000000004365      -0.00000000E+00  5.63855306E-03  1.71348727E-03\\n    0.00000000000000     0.00000000002419     0.00000000004309      -1.91475157E-04  2.40390858E-04 -2.39182925E-06\\n   -0.00000000000001    -0.00000000005631     0.00000000004308       0.00000000E+00  2.92098575E-05 -3.67417254E-05\\n    0.00000000000000     0.00000000002419    -0.00000000004366      -0.00000000E+00 -2.72256665E-11  4.27831902E-11\\n   -0.00000000000001    -0.00000000005631    -0.00000000004365      -0.00000000E+00  2.72256665E-11  4.27831902E-11\\n    0.00000000000000     0.00000000002419     0.00000000004308      -0.00000000E+00 -2.72256665E-11 -4.27831902E-11\\n   -0.00000000000001    -0.00000000005631     0.00000000004309      -0.00000000E+00  3.06363736E-05 -2.51869806E-04\\n    0.00000000000000    -0.00000000002816    -0.00000000004365       0.00000000E+00  1.55575237E-11  6.22300949E-11\\n    0.00000000000000     0.00000000008046    -0.00000000004365       2.00338598E-03  1.95415365E-03 -8.13192675E-04\\n    0.00000000000000    -0.00000000002816     0.00000000004309      -0.00000000E+00 -9.35695791E-05  5.58623615E-06\\n    0.00000000000000     0.00000000008046     0.00000000004308       3.17073729E-05 -2.53770515E-05  1.84346505E-05\\n    0.00000000000000    -0.00000000002816    -0.00000000004366       0.00000000E+00  1.55575237E-11  6.22300949E-11\\n    0.00000000000000     0.00000000008046    -0.00000000004365      -0.00000000E+00 -1.55575237E-11  6.22300949E-11\\n    0.00000000000000    -0.00000000002816     0.00000000004308       0.00000000E+00  1.55575237E-11 -6.22300949E-11\\n    0.00000000000000     0.00000000008046     0.00000000004309       3.09867329E-05 -2.54008079E-05  1.25713204E-04\\n    0.00000000000000     0.00000000002419    -0.00000000004365       0.00000000E+00 -2.72256665E-11  4.27831902E-11\\n    0.00000000000000    -0.00000000005631    -0.00000000004365       0.00000000E+00  2.72256665E-11  4.27831902E-11\\n    0.00000000000000     0.00000000002419     0.00000000004309       1.91475157E-04  2.40390858E-04 -2.39182925E-06\\n    0.00000000000000    -0.00000000005631     0.00000000004308       0.00000000E+00  2.72256665E-11 -4.27831902E-11\\n    0.00000000000000     0.00000000002419    -0.00000000004366       0.00000000E+00 -2.72256665E-11  4.27831902E-11\\n    0.00000000000000    -0.00000000005631    -0.00000000004365       0.00000000E+00  2.72256665E-11  4.27831902E-11\\n    0.00000000000000     0.00000000002419     0.00000000004308       0.00000000E+00 -2.72256665E-11 -4.27831902E-11\\n    0.00000000000000    -0.00000000005631     0.00000000004309       0.00000000E+00  2.72256665E-11 -4.27831902E-11\\n# Filename: XFSET_harmonic08, Snapshot: 1\\n    0.00000000000000    -0.00000000002816    -0.00000000004365       0.00000000E+00  1.55575237E-11  6.22300949E-11\\n    0.00000000000000     0.00000000008046    -0.00000000004365       2.06309159E-03 -1.97685346E-03  8.44741879E-04\\n   -0.00000000000000    -0.01889726127809     0.00000000004309       0.00000000E+00  1.04034677E-02 -9.25749010E-05\\n    0.00000000000000     0.00000000008046     0.00000000004308       3.15943825E-05  2.58338516E-05 -1.82925092E-05\\n    0.00000000000000    -0.00000000002816    -0.00000000004366      -0.00000000E+00 -7.73042467E-04  6.63615120E-06\\n    0.00000000000000     0.00000000008046    -0.00000000004365       0.00000000E+00 -1.55575237E-11  6.22300949E-11\\n   -0.00000000000000    -0.00000000002816     0.00000000004308      -0.00000000E+00  1.55575237E-11 -6.22300949E-11\\n    0.00000000000000     0.00000000008046     0.00000000004309       3.23221946E-05  2.58037516E-05 -1.25688165E-04\\n    0.00000000000000     0.00000000002419    -0.00000000004365      -0.00000000E+00 -2.72256665E-11  4.27831902E-11\\n   -0.00000000000001    -0.00000000005631    -0.00000000004365      -0.00000000E+00 -5.33971813E-03 -1.60394569E-03\\n    0.00000000000000     0.00000000002419     0.00000000004309       1.95833332E-04 -2.40053972E-04  4.87167131E-06\\n   -0.00000000000001    -0.00000000005631     0.00000000004308       0.00000000E+00 -2.92149254E-05  3.67124539E-05\\n    0.00000000000000     0.00000000002419    -0.00000000004366      -0.00000000E+00 -2.72256665E-11  4.27831902E-11\\n   -0.00000000000001    -0.00000000005631    -0.00000000004365      -0.00000000E+00  2.72256665E-11  4.27831902E-11\\n    0.00000000000000     0.00000000002419     0.00000000004308      -0.00000000E+00 -2.72256665E-11 -4.27831902E-11\\n   -0.00000000000001    -0.00000000005631     0.00000000004309      -0.00000000E+00 -2.78128036E-05  2.50929704E-04\\n    0.00000000000000    -0.00000000002816    -0.00000000004365       0.00000000E+00  1.55575237E-11  6.22300949E-11\\n    0.00000000000000     0.00000000008046    -0.00000000004365      -2.06309159E-03 -1.97685346E-03  8.44741879E-04\\n    0.00000000000000    -0.00000000002816     0.00000000004309      -0.00000000E+00  9.68602365E-05 -9.02377603E-06\\n    0.00000000000000     0.00000000008046     0.00000000004308      -3.15943825E-05  2.58338516E-05 -1.82925092E-05\\n    0.00000000000000    -0.00000000002816    -0.00000000004366       0.00000000E+00  1.55575237E-11  6.22300949E-11\\n    0.00000000000000     0.00000000008046    -0.00000000004365      -0.00000000E+00 -1.55575237E-11  6.22300949E-11\\n    0.00000000000000    -0.00000000002816     0.00000000004308       0.00000000E+00  1.55575237E-11 -6.22300949E-11\\n    0.00000000000000     0.00000000008046     0.00000000004309      -3.23221946E-05  2.58037516E-05 -1.25688165E-04\\n    0.00000000000000     0.00000000002419    -0.00000000004365       0.00000000E+00 -2.72256665E-11  4.27831902E-11\\n    0.00000000000000    -0.00000000005631    -0.00000000004365       0.00000000E+00  2.72256665E-11  4.27831902E-11\\n    0.00000000000000     0.00000000002419     0.00000000004309      -1.95833332E-04 -2.40053972E-04  4.87167131E-06\\n    0.00000000000000    -0.00000000005631     0.00000000004308       0.00000000E+00  2.72256665E-11 -4.27831902E-11\\n    0.00000000000000     0.00000000002419    -0.00000000004366       0.00000000E+00 -2.72256665E-11  4.27831902E-11\\n    0.00000000000000    -0.00000000005631    -0.00000000004365       0.00000000E+00  2.72256665E-11  4.27831902E-11\\n    0.00000000000000     0.00000000002419     0.00000000004308       0.00000000E+00 -2.72256665E-11 -4.27831902E-11\\n    0.00000000000000    -0.00000000005631     0.00000000004309       0.00000000E+00  2.72256665E-11 -4.27831902E-11\\n# Filename: XFSET_harmonic09, Snapshot: 1\\n    0.00000000000000    -0.00000000002816    -0.00000000004365       0.00000000E+00  1.55575237E-11  6.22300949E-11\\n    0.00000000000000     0.00000000008046    -0.00000000004365       1.44916063E-03 -8.36673296E-04  1.35876932E-03\\n   -0.00000000000000    -0.00000000002816     0.01889726129302      -0.00000000E+00  1.55575237E-11 -1.04014770E-02\\n    0.00000000000000     0.00000000008046     0.00000000004308       2.18972699E-04 -1.26423962E-04  1.06367486E-04\\n    0.00000000000000    -0.00000000002816    -0.00000000004366      -0.00000000E+00  1.55575237E-11  5.96664200E-03\\n    0.00000000000000     0.00000000008046    -0.00000000004365       0.00000000E+00 -1.55575237E-11  6.22300949E-11\\n   -0.00000000000000    -0.00000000002816     0.00000000004308      -0.00000000E+00  1.55575237E-11 -6.22300949E-11\\n    0.00000000000000     0.00000000008046     0.00000000004309       3.13911779E-05 -1.81237217E-05  1.03484790E-04\\n    0.00000000000000     0.00000000002419    -0.00000000004365      -0.00000000E+00 -2.72256665E-11  4.27831902E-11\\n   -0.00000000000001    -0.00000000005631    -0.00000000004365      -0.00000000E+00  1.67334659E-03  1.35876930E-03\\n    0.00000000000000     0.00000000002419     0.00000000004309      -7.52267724E-06 -4.34324446E-06 -9.03433687E-05\\n   -0.00000000000001    -0.00000000005631     0.00000000004308       0.00000000E+00  2.52847919E-04  1.06367505E-04\\n    0.00000000000000     0.00000000002419    -0.00000000004366      -0.00000000E+00 -2.72256665E-11  4.27831902E-11\\n   -0.00000000000001    -0.00000000005631    -0.00000000004365      -0.00000000E+00  2.72256665E-11  4.27831902E-11\\n    0.00000000000000     0.00000000002419     0.00000000004308      -0.00000000E+00 -2.72256665E-11 -4.27831902E-11\\n   -0.00000000000001    -0.00000000005631     0.00000000004309      -0.00000000E+00  3.62474356E-05  1.03484809E-04\\n    0.00000000000000    -0.00000000002816    -0.00000000004365       0.00000000E+00  1.55575237E-11  6.22300949E-11\\n    0.00000000000000     0.00000000008046    -0.00000000004365      -1.44916063E-03 -8.36673296E-04  1.35876932E-03\\n    0.00000000000000    -0.00000000002816     0.00000000004309      -0.00000000E+00  8.68645392E-06 -9.03433882E-05\\n    0.00000000000000     0.00000000008046     0.00000000004308      -2.18972699E-04 -1.26423962E-04  1.06367486E-04\\n    0.00000000000000    -0.00000000002816    -0.00000000004366       0.00000000E+00  1.55575237E-11  6.22300949E-11\\n    0.00000000000000     0.00000000008046    -0.00000000004365      -0.00000000E+00 -1.55575237E-11  6.22300949E-11\\n    0.00000000000000    -0.00000000002816     0.00000000004308       0.00000000E+00  1.55575237E-11 -6.22300949E-11\\n    0.00000000000000     0.00000000008046     0.00000000004309      -3.13911779E-05 -1.81237217E-05  1.03484790E-04\\n    0.00000000000000     0.00000000002419    -0.00000000004365       0.00000000E+00 -2.72256665E-11  4.27831902E-11\\n    0.00000000000000    -0.00000000005631    -0.00000000004365       0.00000000E+00  2.72256665E-11  4.27831902E-11\\n    0.00000000000000     0.00000000002419     0.00000000004309       7.52267724E-06 -4.34324446E-06 -9.03433687E-05\\n    0.00000000000000    -0.00000000005631     0.00000000004308       0.00000000E+00  2.72256665E-11 -4.27831902E-11\\n    0.00000000000000     0.00000000002419    -0.00000000004366       0.00000000E+00 -2.72256665E-11  4.27831902E-11\\n    0.00000000000000    -0.00000000005631    -0.00000000004365       0.00000000E+00  2.72256665E-11  4.27831902E-11\\n    0.00000000000000     0.00000000002419     0.00000000004308       0.00000000E+00 -2.72256665E-11 -4.27831902E-11\\n    0.00000000000000    -0.00000000005631     0.00000000004309       0.00000000E+00  2.72256665E-11 -4.27831902E-11\\n# Filename: XFSET_harmonic10, Snapshot: 1\\n    0.00000000000000    -0.00000000002816    -0.00000000004365       0.00000000E+00  1.55575237E-11  6.22300949E-11\\n    0.00000000000000     0.00000000008046    -0.00000000004365      -1.42206379E-03  8.21028899E-04 -1.36391200E-03\\n   -0.00000000000000    -0.00000000002816    -0.01889726120685      -0.00000000E+00  1.55575237E-11  1.07807025E-02\\n    0.00000000000000     0.00000000008046     0.00000000004308      -2.16477708E-04  1.24983448E-04 -1.03354841E-04\\n    0.00000000000000    -0.00000000002816    -0.00000000004366      -0.00000000E+00  1.55575237E-11 -6.32875144E-03\\n    0.00000000000000     0.00000000008046    -0.00000000004365       0.00000000E+00 -1.55575237E-11  6.22300949E-11\\n   -0.00000000000000    -0.00000000002816     0.00000000004308      -0.00000000E+00  1.55575237E-11 -6.22300949E-11\\n    0.00000000000000     0.00000000008046     0.00000000004309      -3.22306386E-05  1.86083502E-05 -1.06252294E-04\\n    0.00000000000000     0.00000000002419    -0.00000000004365      -0.00000000E+00 -2.72256665E-11  4.27831902E-11\\n   -0.00000000000001    -0.00000000005631    -0.00000000004365      -0.00000000E+00 -1.64205780E-03 -1.36391201E-03\\n    0.00000000000000     0.00000000002419     0.00000000004309       5.11704458E-06  2.95429986E-06  8.95353537E-05\\n   -0.00000000000001    -0.00000000005631     0.00000000004308       0.00000000E+00 -2.49966899E-04 -1.03354822E-04\\n    0.00000000000000     0.00000000002419    -0.00000000004366      -0.00000000E+00 -2.72256665E-11  4.27831902E-11\\n   -0.00000000000001    -0.00000000005631    -0.00000000004365      -0.00000000E+00  2.72256665E-11  4.27831902E-11\\n    0.00000000000000     0.00000000002419     0.00000000004308      -0.00000000E+00 -2.72256665E-11 -4.27831902E-11\\n   -0.00000000000001    -0.00000000005631     0.00000000004309      -0.00000000E+00 -3.72167083E-05 -1.06252275E-04\\n    0.00000000000000    -0.00000000002816    -0.00000000004365       0.00000000E+00  1.55575237E-11  6.22300949E-11\\n    0.00000000000000     0.00000000008046    -0.00000000004365       1.42206379E-03  8.21028899E-04 -1.36391200E-03\\n    0.00000000000000    -0.00000000002816     0.00000000004309      -0.00000000E+00 -5.90863861E-06  8.95353343E-05\\n    0.00000000000000     0.00000000008046     0.00000000004308       2.16477708E-04  1.24983448E-04 -1.03354841E-04\\n    0.00000000000000    -0.00000000002816    -0.00000000004366       0.00000000E+00  1.55575237E-11  6.22300949E-11\\n    0.00000000000000     0.00000000008046    -0.00000000004365      -0.00000000E+00 -1.55575237E-11  6.22300949E-11\\n    0.00000000000000    -0.00000000002816     0.00000000004308       0.00000000E+00  1.55575237E-11 -6.22300949E-11\\n    0.00000000000000     0.00000000008046     0.00000000004309       3.22306386E-05  1.86083502E-05 -1.06252294E-04\\n    0.00000000000000     0.00000000002419    -0.00000000004365       0.00000000E+00 -2.72256665E-11  4.27831902E-11\\n    0.00000000000000    -0.00000000005631    -0.00000000004365       0.00000000E+00  2.72256665E-11  4.27831902E-11\\n    0.00000000000000     0.00000000002419     0.00000000004309      -5.11704458E-06  2.95429986E-06  8.95353537E-05\\n    0.00000000000000    -0.00000000005631     0.00000000004308       0.00000000E+00  2.72256665E-11 -4.27831902E-11\\n    0.00000000000000     0.00000000002419    -0.00000000004366       0.00000000E+00 -2.72256665E-11  4.27831902E-11\\n    0.00000000000000    -0.00000000005631    -0.00000000004365       0.00000000E+00  2.72256665E-11  4.27831902E-11\\n    0.00000000000000     0.00000000002419     0.00000000004308       0.00000000E+00 -2.72256665E-11 -4.27831902E-11\\n    0.00000000000000    -0.00000000005631     0.00000000004309       0.00000000E+00  2.72256665E-11 -4.27831902E-11\\n\""
      ]
     },
     "execution_count": 52,
     "metadata": {},
     "output_type": "execute_result"
    }
   ],
   "source": [
    "node.outputs.dfset_file.get_content()"
   ]
  },
  {
   "cell_type": "code",
   "execution_count": null,
   "id": "b3e85f59",
   "metadata": {},
   "outputs": [],
   "source": []
  }
 ],
 "metadata": {
  "kernelspec": {
   "display_name": "py39",
   "language": "python",
   "name": "py39"
  },
  "language_info": {
   "codemirror_mode": {
    "name": "ipython",
    "version": 3
   },
   "file_extension": ".py",
   "mimetype": "text/x-python",
   "name": "python",
   "nbconvert_exporter": "python",
   "pygments_lexer": "ipython3",
   "version": "3.9.13"
  }
 },
 "nbformat": 4,
 "nbformat_minor": 5
}
