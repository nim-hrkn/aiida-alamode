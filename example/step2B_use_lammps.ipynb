{
 "cells": [
  {
   "cell_type": "code",
   "execution_count": null,
   "id": "736a131b",
   "metadata": {},
   "outputs": [],
   "source": [
    "import aiida\n",
    "\n",
    "# must execute it in the first place\n",
    "aiida.load_profile()\n"
   ]
  },
  {
   "cell_type": "code",
   "execution_count": null,
   "id": "678f94ab",
   "metadata": {},
   "outputs": [],
   "source": [
    "from aiida.orm import Code\n",
    "from aiida.orm import Str, Int, Dict, List, Float\n",
    "from aiida.engine import calcfunction, WorkChain, ToContext, append_\n",
    "from aiida.plugins import DataFactory, WorkflowFactory\n",
    "from itertools import cycle\n",
    "import os\n",
    "\n",
    "from aiida.engine import calcfunction, workfunction, submit, run, run_get_node\n",
    "from aiida.engine import run_get_node\n",
    "from aiida.orm import load_code, load_node\n",
    "from alamode_aiida.io import load_atoms\n",
    "from ase import io\n",
    "from tools import wait_for_node_finished\n",
    "from alamode_aiida.io import load_atoms_bare\n",
    "\n",
    "# load types\n",
    "StructureData = DataFactory('structure')\n",
    "FolderData = DataFactory('folder')\n",
    "SinglefileData = DataFactory('singlefile')\n",
    "ArrayData = DataFactory('array')\n",
    "List = DataFactory('list')\n",
    "TrajectoryData = DataFactory('array.trajectory')\n"
   ]
  },
  {
   "cell_type": "code",
   "execution_count": null,
   "id": "4f8a3e37",
   "metadata": {},
   "outputs": [],
   "source": [
    "# codeの定義を行う。\n",
    "from tools.aiida_support import get_or_create_local_computer, get_or_create_code\n",
    "from os.path import expanduser\n",
    "import os\n",
    "\n",
    "home = expanduser(\"~\")\n",
    "work_directory = os.path.join(home, 'aiida')\n",
    "computer_local = get_or_create_local_computer(work_directory, 'localhost')\n",
    "print(computer_local)\n",
    "code = get_or_create_code('alamode.displace_pf',\n",
    "                          computer_local,\n",
    "                          '/home/max/Documents/alamode-aiida/alamode_aiida/alamode/displace.py')\n",
    "code_displace_pf = code\n",
    "code = get_or_create_code('alamode.displace_random',\n",
    "                          computer_local,\n",
    "                          '/home/max/Documents/alamode-aiida/alamode_aiida/alamode/displace.py')\n",
    "code_displace_random = code\n",
    "code = get_or_create_code('alamode.lammps',\n",
    "                          computer_local,\n",
    "                          '/usr/bin/lammps')\n",
    "code_lammps_name = Str('alamode.lammps@localhost')\n",
    "\n",
    "code = get_or_create_code('alamode.extract',\n",
    "                          computer_local,\n",
    "                          '/home/max/Documents/alamode-aiida/alamode_aiida/alamode/extract.py')\n",
    "code_extract = code\n",
    "code_extract_name = Str('alamode.extract@localhost')\n",
    "\n",
    "\n",
    "code_displace_random, code_displace_pf, code_lammps_name\n"
   ]
  },
  {
   "cell_type": "code",
   "execution_count": null,
   "id": "3447543b",
   "metadata": {},
   "outputs": [],
   "source": []
  },
  {
   "cell_type": "code",
   "execution_count": null,
   "id": "39a81479",
   "metadata": {},
   "outputs": [],
   "source": []
  },
  {
   "cell_type": "code",
   "execution_count": null,
   "id": "38870d0e",
   "metadata": {},
   "outputs": [],
   "source": [
    "import json\n",
    "with open(\"setting.json\") as f:\n",
    "    _dic = json.load(f)\n",
    "print(_dic)\n",
    "CWD = _dic[\"CWD\"]\n",
    "_path = os.path.abspath(CWD)\n",
    "os.makedirs(_path, exist_ok=True)\n",
    "_path\n"
   ]
  },
  {
   "cell_type": "code",
   "execution_count": null,
   "id": "708d9905",
   "metadata": {},
   "outputs": [],
   "source": [
    "g_graph = True\n"
   ]
  },
  {
   "cell_type": "code",
   "execution_count": null,
   "id": "69ca0d11",
   "metadata": {},
   "outputs": [],
   "source": [
    "\n",
    "from os.path import expanduser\n",
    "from tools import NodeBank\n",
    "\n",
    "\n",
    "# 再実行時に作成したノードを用いるためにnodebankを使う。\n",
    "g_force = False\n",
    "nodebank = NodeBank(_path, force=g_force)\n"
   ]
  },
  {
   "cell_type": "code",
   "execution_count": null,
   "id": "4c40b16d",
   "metadata": {},
   "outputs": [],
   "source": [
    "g_cwd = nodebank.load(\"cwd\")  # ファイル保存directory\n",
    "g_superstructure = nodebank.load(\"superstructure\")  # 使用する長周期構造StructureData\n",
    "g_file_format = nodebank.load(\"structure_org_format\")  # lammpsの位置フォーマット\n",
    "g_prefix = nodebank.load('prefix')\n",
    "g_prefix, g_file_format,  g_superstructure\n"
   ]
  },
  {
   "cell_type": "code",
   "execution_count": null,
   "id": "3b9ef402",
   "metadata": {},
   "outputs": [],
   "source": []
  },
  {
   "cell_type": "markdown",
   "id": "1e661036",
   "metadata": {},
   "source": [
    "## for LAMMPS"
   ]
  },
  {
   "cell_type": "code",
   "execution_count": null,
   "id": "65a7c879",
   "metadata": {},
   "outputs": [],
   "source": [
    "key = \"format\"\n",
    "g_format = nodebank.load_or_dump(key, Str(\"LAMMPS\"))  # alamodeのファイルオプションの定義\n"
   ]
  },
  {
   "cell_type": "code",
   "execution_count": null,
   "id": "8301d41a",
   "metadata": {},
   "outputs": [],
   "source": [
    "from aiida_lammps.tests.utils import (\n",
    "    get_or_create_local_computer, get_or_create_code)\n",
    "from aiida_lammps.tests.utils import lammps_version\n",
    "computer_local = get_or_create_local_computer('work_directory', 'localhost')\n",
    "code_lammps_force = get_or_create_code('lammps.force', computer_local, 'lammps')\n"
   ]
  },
  {
   "cell_type": "code",
   "execution_count": null,
   "id": "0dab69ff",
   "metadata": {},
   "outputs": [],
   "source": [
    "code_lammps_force_name = Str(code_lammps_force.label+\"@\"+'localhost')\n",
    "code_lammps_force_name\n"
   ]
  },
  {
   "cell_type": "code",
   "execution_count": null,
   "id": "c686cb74",
   "metadata": {},
   "outputs": [],
   "source": []
  },
  {
   "cell_type": "code",
   "execution_count": null,
   "id": "a98601b6",
   "metadata": {},
   "outputs": [],
   "source": [
    "code_lammps_force.get_from_string(code_lammps_force_name.value)\n"
   ]
  },
  {
   "cell_type": "code",
   "execution_count": null,
   "id": "e3d82979",
   "metadata": {},
   "outputs": [],
   "source": []
  },
  {
   "cell_type": "code",
   "execution_count": null,
   "id": "06baaf44",
   "metadata": {},
   "outputs": [],
   "source": [
    "g_mag = nodebank.load_or_dump(\"mag\", Float(0.01))\n"
   ]
  },
  {
   "cell_type": "code",
   "execution_count": null,
   "id": "52d63be2",
   "metadata": {},
   "outputs": [],
   "source": [
    "\n",
    "displacement_patterns = nodebank.load(f'{g_prefix.value}_pattern')\n",
    "displacement_patterns[0]\n"
   ]
  },
  {
   "cell_type": "code",
   "execution_count": null,
   "id": "97e203ea",
   "metadata": {},
   "outputs": [],
   "source": []
  },
  {
   "cell_type": "markdown",
   "id": "d05e5fb9",
   "metadata": {},
   "source": [
    "# dispalce_pf\n",
    "```\n",
    "Description:\n",
    "\n",
    "\tdisplace.py -pf\n",
    "\t\n",
    "\tThe pattern files are generated as f\"{prefix}.{pattern_file_ext}\", where pattern_file_ext is 'harmonic' or 'cubic.\n",
    "\tThe displacement files are generated as f\"{prefix}{counter}.POSCAR\" and so on.\n",
    "\t\n",
    "\tdefalt input filename: displace_Pf.in\n",
    "\tdefault output filename: displace_pf.out\n",
    "\n",
    "Inputs:\n",
    "                  code:  required  Code             The `Code` to use for this job.\n",
    "                format:  required  Str              structure file format\n",
    "                   mag:  required  Float            magnitude of displacement\n",
    "               pattern:  required  List             displacement pattern\n",
    "         structure_org:  required  StructureData    equilibrium structure\n",
    "                   cwd:  optional  Str              directory where results are saved.\n",
    "              metadata:  optional                   \n",
    "                  mode:  optional  Str              displace must (must be 'pf'\n",
    "                norder:  optional  Int              1 (harmonic) or 2 (cubic)\n",
    "                prefix:  optional  Str              string added to the filename\n",
    "Outputs:\n",
    "  displaced_structures:  required  TrajectoryData   \n",
    "         remote_folder:  required  RemoteData       Input files necessary to run the process will be stored in this folder node ...\n",
    "               results:  required  Dict             \n",
    "             retrieved:  required  FolderData       Files that are retrieved by the daemon will be stored in this node. By defa ...\n",
    "          remote_stash:  optional  RemoteStashData  Contents of the `stash.source_list` option are stored in this remote folder ...\n",
    "\n",
    "```\n",
    "# displace_random\n",
    "```\n",
    "Description:\n",
    "\n",
    "\tdisplace.py --random\n",
    "\t\n",
    "\tThe displacement files are generated as f\"{prefix}{counter}.POSCAR\" and so on.\n",
    "\t\n",
    "\tdefault input filename: displace_random.in\n",
    "\tdefault output filename: displace_random.out\n",
    "\t\n",
    "\tIf 'cwd' is given. The retrieved files will be saved in the directory specified by 'cwd'.\n",
    "\n",
    "Inputs:\n",
    "                  code:  required  Code                                The `Code` to use for this job.\n",
    "                format:  required  Str                                 structure file format\n",
    "                   mag:  required  Float                               magnitude of displacement\n",
    "              num_disp:  required  Int                                 number of set of displacement\n",
    "         structure_org:  required  StructureData, SinglefileData, Str  equilibrium structure\n",
    "                   cwd:  optional  Str                                 directory where results are saved.\n",
    "              metadata:  optional                                      \n",
    "                  mode:  optional  Str                                 'random' (fixed)\n",
    "                norder:  optional  Int                                 1 (harmonic) or 2 (cubic)\n",
    "                prefix:  optional  Str                                 string added to filenames.\n",
    "Outputs:\n",
    "       dispfile_folder:  required  FolderData                          \n",
    "  displaced_structures:  required  TrajectoryData                      \n",
    "         remote_folder:  required  RemoteData                          Input files necessary to run the process will be stored in this folder node ...\n",
    "               results:  required  Dict                                \n",
    "             retrieved:  required  FolderData                          Files that are retrieved by the daemon will be stored in this node. By defa ...\n",
    "          remote_stash:  optional  RemoteStashData                     Contents of the `stash.source_list` option are stored in this remote folder ...\n",
    "\n",
    "```"
   ]
  },
  {
   "cell_type": "code",
   "execution_count": null,
   "id": "1f36f569",
   "metadata": {},
   "outputs": [],
   "source": [
    "code_displace_pf\n"
   ]
  },
  {
   "cell_type": "code",
   "execution_count": null,
   "id": "2afe1349",
   "metadata": {},
   "outputs": [],
   "source": [
    "g_action = \"pf\"  # pf or random\n",
    "\n",
    "pattern_filenames = List(list=[f'pattern.{g_prefix.value}'])\n",
    "\n",
    "if g_action == \"pf\":\n",
    "\n",
    "    #codename = \"alamode.displace_pf@tutor\"\n",
    "    #code = Code.get_from_string(codename)\n",
    "    code = code_displace_pf\n",
    "\n",
    "    builder = code.get_builder()\n",
    "    builder.format = g_format\n",
    "    builder.cwd = Str(os.path.join(g_cwd.value, f\"{g_prefix.value}_displace_pf\"))\n",
    "    # builder.prefix = g_prefix\n",
    "    builder.structure_org = g_superstructure\n",
    "    builder.mag = g_mag\n",
    "    builder.pattern = displacement_patterns\n",
    "\n",
    "    g_displacefuture = nodebank.load_code_or_wait_for_node(f\"{g_prefix.value}_displace_pf\", builder)\n",
    "\n",
    "\n",
    "elif g_action == \"random\":\n",
    "\n",
    "    g_num_disp = nodebank.load_or_dump(f\"{g_prefix.value}_num_disp\", Int(5))\n",
    "\n",
    "    #codename = \"alamode.displace_random@tutor\"\n",
    "    #code = Code.get_from_string(codename)\n",
    "    code = code_displace_random\n",
    "\n",
    "    builder = code.get_builder()\n",
    "    builder.format = g_format\n",
    "    builder.cwd = g_cwd\n",
    "    builder.prefix = g_prefix\n",
    "    builder.structure_org = g_superstructure\n",
    "    builder.mag = g_mag\n",
    "    builder.num_disp = g_num_disp\n",
    "\n",
    "    g_displacefuture = nodebank.load_code_or_wait_for_node(f\"{g_prefix.value}_displace_random\", builder)\n",
    "\n",
    "\n",
    "else:\n",
    "    raise ValueError(\"unknown action\")\n"
   ]
  },
  {
   "cell_type": "code",
   "execution_count": null,
   "id": "5c6b0ecb",
   "metadata": {},
   "outputs": [],
   "source": [
    "g_displacefuture.outputs.retrieved.list_object_names()\n"
   ]
  },
  {
   "cell_type": "code",
   "execution_count": null,
   "id": "fe035975",
   "metadata": {},
   "outputs": [],
   "source": [
    "# 構造出力、例0番目\n",
    "print(g_displacefuture.outputs.displaced_structures.get_stepids())\n",
    "structure = g_displacefuture.outputs.displaced_structures.get_step_structure(0)\n",
    "structure.get_ase().get_positions()\n"
   ]
  },
  {
   "cell_type": "code",
   "execution_count": null,
   "id": "502de70c",
   "metadata": {},
   "outputs": [],
   "source": [
    "# 次のsimulatorへのinput\n",
    "g_displaced_structures = g_displacefuture.outputs.displaced_structures"
   ]
  },
  {
   "cell_type": "markdown",
   "id": "d65d47f2",
   "metadata": {},
   "source": [
    "# simulatorの実行"
   ]
  },
  {
   "cell_type": "markdown",
   "id": "716e8847",
   "metadata": {},
   "source": [
    "## load tersoff potential"
   ]
  },
  {
   "cell_type": "code",
   "execution_count": null,
   "id": "b8c28a4c",
   "metadata": {},
   "outputs": [],
   "source": [
    "import json\n",
    "# with open(\"lammps_input/potentials/tersoff-GaN.json\",\"r\") as f:\n",
    "with open(\"lammps_input/potentials/tersoff.json\", \"r\") as f:\n",
    "    potential_dict = json.load(f)\n",
    "lammps_potential = DataFactory(\"lammps.potential\")(\n",
    "    type=potential_dict[\"pair_style\"], data=potential_dict[\"potential_dict\"]\n",
    ")\n",
    "lammps_potential\n"
   ]
  },
  {
   "cell_type": "markdown",
   "id": "39018935",
   "metadata": {},
   "source": [
    "## execution option"
   ]
  },
  {
   "cell_type": "markdown",
   "id": "6c738bfc",
   "metadata": {},
   "source": [
    "## run all the displacements"
   ]
  },
  {
   "cell_type": "markdown",
   "id": "05f1fcc3",
   "metadata": {},
   "source": [
    "# \"alamode.force_simulator_lammps\n",
    "```\n",
    "Description:\n",
    "\n",
    "\tparallen execution of lammps.force\n",
    "\n",
    "Inputs:\n",
    "  code_string:  required  Str                 label of your 'lammps.force' code\n",
    "   parameters:  required  Dict                additional parameters to pass 'lammps.force'\n",
    "    potential:  required  EmpiricalPotential  lammps potential\n",
    "   structures:  required  TrajectoryData      dispalced structures\n",
    "          cwd:  optional  Str                 directory where results are saved.\n",
    "     metadata:  optional                      \n",
    "      options:  optional  Dict                metadata.options\n",
    "       prefix:  optional  Str                 string added to filenames\n",
    "Outputs:\n",
    "      displacement_and_forces:  required  Dict                displacement and forces\n",
    "       forces:  required  List                resulting forces\n",
    "      results:  required  List          \n",
    "```"
   ]
  },
  {
   "cell_type": "code",
   "execution_count": null,
   "id": "34301da8",
   "metadata": {},
   "outputs": [],
   "source": [
    "alldisp_lammps_WorkChain = WorkflowFactory(\"alamode.force_simulator_lammps\")\n"
   ]
  },
  {
   "cell_type": "code",
   "execution_count": null,
   "id": "d9cab4f6",
   "metadata": {},
   "outputs": [],
   "source": [
    "lammps_parameters = DataFactory('dict')(dict={\n",
    "    'lammps_version': lammps_version(),\n",
    "    'output_variables': [\"temp\", \"etotal\", \"pe\", \"ke\"],\n",
    "    'thermo_keywords': []\n",
    "})\n",
    "meta_options = {\n",
    "    \"resources\": {\n",
    "        \"num_machines\": 1,\n",
    "        \"num_mpiprocs_per_machine\": 1}\n",
    "}\n"
   ]
  },
  {
   "cell_type": "code",
   "execution_count": null,
   "id": "f56927ee",
   "metadata": {},
   "outputs": [],
   "source": [
    "inputs = {\"structures\": g_displaced_structures,\n",
    "          \"parameters\": lammps_parameters,\n",
    "          \"code_string\":  code_lammps_force_name,\n",
    "          \"cwd\": Str(os.path.join(g_cwd.value, f\"{g_prefix.value}_alldisp\")),\n",
    "          \"prefix\": g_prefix,\n",
    "          'potential': lammps_potential}\n"
   ]
  },
  {
   "cell_type": "code",
   "execution_count": null,
   "id": "0ddabcd9",
   "metadata": {},
   "outputs": [],
   "source": [
    "# 実行もしくは過去の実行のID\n",
    "lammps_all = nodebank.load_workchain_or_wait_for_node(f\"{g_prefix.value}_all_lammps\", \n",
    "                                                      alldisp_lammps_WorkChain, inputs, \n",
    "                                                      sec=10)\n"
   ]
  },
  {
   "cell_type": "code",
   "execution_count": null,
   "id": "36ea9698",
   "metadata": {},
   "outputs": [],
   "source": []
  },
  {
   "cell_type": "raw",
   "id": "44a662e1",
   "metadata": {
    "scrolled": false
   },
   "source": []
  },
  {
   "cell_type": "code",
   "execution_count": null,
   "id": "2405fa49",
   "metadata": {},
   "outputs": [],
   "source": [
    "lammps_all.attributes\n"
   ]
  },
  {
   "cell_type": "code",
   "execution_count": null,
   "id": "e82923a1",
   "metadata": {},
   "outputs": [],
   "source": [
    "g_target_dict = lammps_all.outputs.displacement_and_forces\n",
    "g_target_dict.get_dict()\n"
   ]
  },
  {
   "cell_type": "code",
   "execution_count": null,
   "id": "d8d6b8a7",
   "metadata": {},
   "outputs": [],
   "source": [
    "len(g_target_dict.attributes[\"LAMMPS\"])\n"
   ]
  },
  {
   "cell_type": "code",
   "execution_count": null,
   "id": "cbf54aab",
   "metadata": {},
   "outputs": [],
   "source": [
    "if g_graph:\n",
    "    pk = lammps_all.pk\n",
    "    print(pk)\n",
    "    !verdi node graph generate $pk\n",
    "    from wand.image import Image as WImage\n",
    "    filename = f\"{pk}.dot.pdf\"\n",
    "    img = WImage(filename=filename)\n",
    "    display(img)"
   ]
  },
  {
   "cell_type": "markdown",
   "id": "f8b2203e",
   "metadata": {},
   "source": [
    "# another routine to make dfset"
   ]
  },
  {
   "cell_type": "code",
   "execution_count": null,
   "id": "e11564f5",
   "metadata": {},
   "outputs": [],
   "source": [
    "import numpy as np\n",
    "\n",
    "\n",
    "\"\"\"unit conversion should be automatically done in ase.io.\"\"\"\n",
    "\n",
    "class UnitConversion:\n",
    "    \"\"\"\n",
    "    Unit conversion.\n",
    "\n",
    "    can't OpenMX set output units?\n",
    "    \"\"\"\n",
    "    _BOHR_TO_ANGSTROM = 0.5291772108\n",
    "    _RYDBERG_TO_EV = 13.60569253\n",
    "\n",
    "    def __init__(self, format: str):\n",
    "        if format in [\"LAMMPS\", \"VASP\"]:\n",
    "            self._set_unit_conversion_factor_ang_eV()\n",
    "        elif format in [\"QE\"]:\n",
    "            self._set_unit_conversion_factor_bohr_rydberg()\n",
    "        elif format in [\"xTAPP\"]:\n",
    "            self._set_unit_conversion_factor_bohr_hartree()\n",
    "        elif format in [\"OpenMX\"]:\n",
    "            self._set_unit_conversion_factor_ang_hartree()\n",
    "\n",
    "    def _set_unit_conversion_factor_ang_eV(self, str_unit='rydberg'):\n",
    "        if str_unit == \"ev\":\n",
    "            self.disp_conversion_factor = 1.0\n",
    "            self.energy_conversion_factor = 1.0\n",
    "\n",
    "        elif str_unit == \"rydberg\":\n",
    "            self.disp_conversion_factor = 1.0 / self._BOHR_TO_ANGSTROM\n",
    "            self.energy_conversion_factor = 1.0 / self._RYDBERG_TO_EV\n",
    "\n",
    "        elif str_unit == \"hartree\":\n",
    "            self.disp_conversion_factor = 1.0 / self._BOHR_TO_ANGSTROM\n",
    "            self.energy_conversion_factor = 0.5 / self._RYDBERG_TO_EV\n",
    "\n",
    "        else:\n",
    "            raise RuntimeError(\"This cannot happen\")\n",
    "\n",
    "        self.force_conversion_factor \\\n",
    "            = self.energy_conversion_factor / self.disp_conversion_factor\n",
    "\n",
    "    def _set_unit_conversion_factor_bohr_rydberg(self, str_unit='rydberg'):\n",
    "\n",
    "        if str_unit == \"ev\":\n",
    "            self._disp_conversion_factor = self._BOHR_TO_ANGSTROM\n",
    "            self._energy_conversion_factor = self._RYDBERG_TO_EV\n",
    "\n",
    "        elif str_unit == \"rydberg\":\n",
    "            self._disp_conversion_factor = 1.0\n",
    "            self._energy_conversion_factor = 1.0\n",
    "\n",
    "        elif str_unit == \"hartree\":\n",
    "            self._disp_conversion_factor = 1.0\n",
    "            self._energy_conversion_factor = 0.5\n",
    "\n",
    "        else:\n",
    "            raise RuntimeError(\"This cannot happen.\")\n",
    "\n",
    "        self._force_conversion_factor = self._energy_conversion_factor / self._disp_conversion_factor\n",
    "\n",
    "    def _set_unit_conversion_factor_bohr_hartree(self, str_unit):\n",
    "\n",
    "        if str_unit == \"ev\":\n",
    "            self._disp_conversion_factor = self._BOHR_TO_ANGSTROM\n",
    "            self._energy_conversion_factor = 2.0 * self._RYDBERG_TO_EV\n",
    "\n",
    "        elif str_unit == \"rydberg\":\n",
    "            self._disp_conversion_factor = 1.0\n",
    "            self._energy_conversion_factor = 2.0\n",
    "\n",
    "        elif str_unit == \"hartree\":\n",
    "            self._disp_conversion_factor = 1.0\n",
    "            self._energy_conversion_factor = 1.0\n",
    "\n",
    "        else:\n",
    "            raise RuntimeError(\"This cannot happen.\")\n",
    "\n",
    "        self._force_conversion_factor = self._energy_conversion_factor / self._disp_conversion_factor\n",
    "\n",
    "    def _set_unit_conversion_factor_ang_hartree(self, str_unit):\n",
    "\n",
    "        if str_unit == \"ev\":\n",
    "            disp_conv_factor = 1.0\n",
    "            energy_conv_factor = 2.0 * self._RYDBERG_TO_EV\n",
    "            force_conv_factor = energy_conv_factor / self._BOHR_TO_ANGSTROM\n",
    "\n",
    "        elif str_unit == \"rydberg\":\n",
    "            disp_conv_factor = 1.0 / self._BOHR_TO_ANGSTROM\n",
    "            energy_conv_factor = 2.0\n",
    "            force_conv_factor = 2.0\n",
    "\n",
    "        elif str_unit == \"hartree\":\n",
    "            disp_conv_factor = 1.0 / self._BOHR_TO_ANGSTROM\n",
    "            energy_conv_factor = 1.0\n",
    "            force_conv_factor = 1.0\n",
    "\n",
    "        else:\n",
    "            raise RuntimeError(\"This cannot happen\")\n",
    "\n",
    "        self._disp_conversion_factor = disp_conv_factor\n",
    "        self._force_conversion_factor = force_conv_factor\n",
    "        self._energy_conversion_factor = energy_conv_factor\n",
    "\n",
    "\n",
    "@calcfunction\n",
    "def make_dfset(displaced_structures, structure_org: StructureData, format: Str):\n",
    "    \"\"\"\n",
    "    calculate displacement = displaced_structures-structure_org\n",
    "    and force in 'unit'.\n",
    "\n",
    "    Args:\n",
    "        displaced_structures (TrajectoryData): displaced structures\n",
    "        structure_org (StructureData): equilibrium structure\n",
    "        format (Str): simulator format\n",
    "\n",
    "    Returns:\n",
    "        np.array:  DFSET = dstacked (displacement, force) in the 'unit.'\n",
    "    \"\"\"\n",
    "    if format == \"LAMMPS\":\n",
    "        # position in Ang.\n",
    "        # force in eV/Ang.\n",
    "        unit = \"rydberg\"\n",
    "        structures = g_displacefuture.outputs.displaced_structures.get_array(\"positions\")\n",
    "        displacement = structures - structure_org.get_ase().get_positions()  # in Ang.\n",
    "        unit_conversion = UnitConversion(format)\n",
    "        displacement *= unit_conversion.disp_conversion_factor  # in Au.\n",
    "        forces = np.array(lammps_all.outputs.forces.get_list())  # in eV/Ang\n",
    "        forces *= unit_conversion.force_conversion_factor  # in Au.\n",
    "        dfset = ArrayData()\n",
    "        dfset.set_array('dfset', np.dstack((displacement, forces)))\n",
    "    elif format == \"VASP\":\n",
    "        # position in Ang.\n",
    "        # force in eV/Ang.\n",
    "        raise ValueError('VASP not implemented')\n",
    "    elif format == \"QE\":\n",
    "        # position in ?\n",
    "        # force in ?\n",
    "        raise ValueError('QE not implemented')\n",
    "\n",
    "    return dfset\n"
   ]
  },
  {
   "cell_type": "code",
   "execution_count": null,
   "id": "36b2ebe7",
   "metadata": {},
   "outputs": [],
   "source": [
    "dfset = make_dfset(g_displacefuture.outputs.displaced_structures, g_superstructure, g_format)\n",
    "dfset\n"
   ]
  },
  {
   "cell_type": "code",
   "execution_count": null,
   "id": "817490a1",
   "metadata": {},
   "outputs": [],
   "source": []
  },
  {
   "cell_type": "markdown",
   "id": "3f2eaca0",
   "metadata": {},
   "source": [
    "# make positions and forces"
   ]
  },
  {
   "cell_type": "markdown",
   "id": "57eeed1b",
   "metadata": {},
   "source": [
    "# extract"
   ]
  },
  {
   "cell_type": "markdown",
   "id": "61e33d02",
   "metadata": {},
   "source": [
    "# alamode.extract\n",
    "```\n",
    "Description:\n",
    "\n",
    "\textract.py\n",
    "\n",
    "Inputs:\n",
    "           code:  required  Code             The `Code` to use for this job.\n",
    "        dispset:  required  Dict             displacement and focrces\n",
    "         format:  required  Str              structure file format\n",
    "         prefix:  required  Str              string added to filenames\n",
    "  structure_org:  required  StructureData    equilibrium structure\n",
    "            cwd:  optional  Str              directory where results are saved.\n",
    "       metadata:  optional                   \n",
    "Outputs:\n",
    "          dfset:  required  List             \n",
    "  remote_folder:  required  RemoteData       Input files necessary to run the process will be stored in this folder node ...\n",
    "      retrieved:  required  FolderData       Files that are retrieved by the daemon will be stored in this node. By defa ...\n",
    "   remote_stash:  optional  RemoteStashData  Contents of the `stash.source_list` option are stored in this remote folder ...\n",
    "\n",
    "```"
   ]
  },
  {
   "cell_type": "code",
   "execution_count": null,
   "id": "c1aa6ddf",
   "metadata": {},
   "outputs": [],
   "source": [
    "code_extract = Code.get_from_string(code_extract_name.value)\n",
    "\n"
   ]
  },
  {
   "cell_type": "code",
   "execution_count": null,
   "id": "d1965acc",
   "metadata": {},
   "outputs": [],
   "source": [
    "builder = code_extract.get_builder()\n",
    "builder.format = g_format\n",
    "builder.structure_org = g_superstructure\n",
    "builder.cwd = Str(os.path.join(g_cwd.value, f\"{g_prefix.value}_extract\"))\n",
    "builder.prefix = g_prefix\n",
    "builder.displacement_and_forces = g_target_dict\n"
   ]
  },
  {
   "cell_type": "code",
   "execution_count": null,
   "id": "56bf4f7d",
   "metadata": {},
   "outputs": [],
   "source": [
    "extract = submit(builder)\n",
    "print(extract)\n",
    "wait_for_node_finished(extract)\n",
    "if not extract.is_finished_ok:\n",
    "    raise\n"
   ]
  },
  {
   "cell_type": "code",
   "execution_count": null,
   "id": "86932045",
   "metadata": {},
   "outputs": [],
   "source": [
    "nodebank.dump(f\"{g_prefix.value}_extract\", extract)\n"
   ]
  },
  {
   "cell_type": "code",
   "execution_count": null,
   "id": "e48f99bb",
   "metadata": {},
   "outputs": [],
   "source": [
    "if g_graph:\n",
    "    pk = extract.pk\n",
    "    print(pk)\n",
    "    !verdi node graph generate $pk\n",
    "    from wand.image import Image as WImage\n",
    "    filename = f\"{pk}.dot.pdf\"\n",
    "    img = WImage(filename=filename)\n",
    "    display(img)"
   ]
  },
  {
   "cell_type": "code",
   "execution_count": null,
   "id": "e4874144",
   "metadata": {},
   "outputs": [],
   "source": []
  }
 ],
 "metadata": {
  "kernelspec": {
   "display_name": "py39",
   "language": "python",
   "name": "py39"
  },
  "language_info": {
   "codemirror_mode": {
    "name": "ipython",
    "version": 3
   },
   "file_extension": ".py",
   "mimetype": "text/x-python",
   "name": "python",
   "nbconvert_exporter": "python",
   "pygments_lexer": "ipython3",
   "version": "3.9.13"
  }
 },
 "nbformat": 4,
 "nbformat_minor": 5
}
