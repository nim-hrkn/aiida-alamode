{
 "cells": [
  {
   "cell_type": "markdown",
   "id": "49099433-e502-4d6c-8e2a-86e6a59a06dc",
   "metadata": {},
   "source": [
    "# how to run\n",
    "\n",
    "## step1\n",
    "At first, please run \n",
    "```\n",
    "$ python split_dfset.py\n",
    "```\n",
    "which will cause errors, but no problem if folders 0001/ to 0006/ are made.\n",
    "\n",
    "## step2 \n",
    "Please find the cell containing previous_it_str and it_str and \n",
    "change the lines to \n",
    "```\n",
    "previous_it_str = '0000'\n",
    "it_str = '0001'\n",
    "```\n",
    "and \"Run\"->\"Run All Cells\". \n",
    "Files will be made in 0001/. \n",
    "\n",
    "0001/free_energy_history.txt is the important history file.\n",
    "\n",
    "```\n",
    "'unstable': False,\n",
    "'converged': False,\n",
    "```\n",
    "in phase1_result[\"results\"].get_dict() will be shown.\n",
    "The free energy isn't converged. \n",
    "\n",
    "## step 3\n",
    "Change the lines to \n",
    "```\n",
    "previous_it_str = '0001'\n",
    "it_str = '0002'\n",
    "```\n",
    "and \"Run\"->\"Run All Cells\". \n",
    "Files will be made in 0002/. \n",
    "\n",
    "0002/free_energy_history.txt is the important history file.\n",
    "\n",
    "```\n",
    "'unstable': False,\n",
    "'converged': True,\n",
    "```\n",
    "in phase1_result[\"results\"].get_dict() will be shown.\n",
    "\n",
    "The free energy is converged now, and pdf files are also made in the 0002/ folder. "
   ]
  },
  {
   "cell_type": "code",
   "execution_count": 49,
   "id": "7be2fe9e-0876-416b-967c-f3a588ee89c1",
   "metadata": {},
   "outputs": [],
   "source": [
    "import argparse\n",
    "import os\n",
    "import shutil\n",
    "from pathlib import Path\n",
    "\n",
    "import numpy as np\n",
    "from ase.units import Ry\n",
    "\n",
    "from aiida_alamode.workflows import PhononCalculator\n",
    "from aiida_alamode.workflows.model_selection import ForceConstantModelSelector\n",
    "from aiida_alamode.io import DfHistoryData\n",
    "from io import TextIOWrapper\n"
   ]
  },
  {
   "cell_type": "code",
   "execution_count": 50,
   "id": "c63fc759-be94-4449-be88-101a0ea3c5e3",
   "metadata": {},
   "outputs": [
    {
     "data": {
      "text/plain": [
       "<aiida.manage.configuration.profile.Profile at 0x7f0deec15e50>"
      ]
     },
     "execution_count": 50,
     "metadata": {},
     "output_type": "execute_result"
    }
   ],
   "source": [
    "import aiida\n",
    "from aiida.plugins import DataFactory, WorkflowFactory\n",
    "from aiida.plugins.factories import CalculationFactory\n",
    "\n",
    "from aiida.orm import Str, Int, Dict, List, Float, load_node\n",
    "from aiida.engine import calcfunction, workfunction, submit, run, run_get_node\n",
    "from aiida.engine import WorkChain, ToContext, if_, append_\n",
    "from aiida_alamode.tools.aiida_support import get_or_create_local_computer, get_or_create_code\n",
    "from os.path import expanduser\n",
    "import os\n",
    "\n",
    "from aiida.orm import Code\n",
    "\n",
    "# must execute it in the first place\n",
    "aiida.load_profile()\n"
   ]
  },
  {
   "cell_type": "code",
   "execution_count": 51,
   "id": "b838e5f0-5e67-4ef1-94d9-dc2b92226c28",
   "metadata": {},
   "outputs": [],
   "source": [
    "# make computer local\n",
    "home = expanduser(\"~\")\n",
    "work_directory = os.path.join(home, 'aiida')\n",
    "computer_local = get_or_create_local_computer(work_directory, 'localhost')"
   ]
  },
  {
   "cell_type": "code",
   "execution_count": 52,
   "id": "9723728a-d9e8-4873-8c8c-5a07712668d8",
   "metadata": {},
   "outputs": [],
   "source": [
    "SinglefileData = DataFactory('singlefile')\n",
    "StructureData = DataFactory('structure')\n",
    "ArrayData = DataFactory('array')\n",
    "FrameData = DataFactory('dataframe.frame')\n"
   ]
  },
  {
   "cell_type": "code",
   "execution_count": 53,
   "id": "1f9f2eb3-2833-4069-9c3e-462f0eb2337a",
   "metadata": {},
   "outputs": [
    {
     "data": {
      "text/plain": [
       "aiida.orm.nodes.data.code.Code"
      ]
     },
     "execution_count": 53,
     "metadata": {},
     "output_type": "execute_result"
    }
   ],
   "source": [
    "code_anphon_calculator = get_or_create_code('alamode.anphon_calculator',\n",
    "                          computer_local,\n",
    "                          '/home/max/Documents/alamode/bin/anphon')\n",
    "\n",
    "# code_anphon_calculator = CalculationFactory('alamode.anphon_calculator') # doesn't work.\n",
    "\n",
    "type(code_anphon_calculator)"
   ]
  },
  {
   "cell_type": "code",
   "execution_count": 54,
   "id": "40a3195f-168c-49f2-9905-e3ca802195f5",
   "metadata": {},
   "outputs": [
    {
     "name": "stdout",
     "output_type": "stream",
     "text": [
      "basedir /home/max/Documents/aiida-alamode_public/example_dxmag/free_energy_convergence/converged,run\n"
     ]
    },
    {
     "data": {
      "text/plain": [
       "'/home/max/Documents/aiida-alamode_public/example_dxmag/free_energy_convergence/converged,run/0002'"
      ]
     },
     "execution_count": 54,
     "metadata": {},
     "output_type": "execute_result"
    }
   ],
   "source": [
    "basedir = os.getcwd()\n",
    "print(\"basedir\", basedir)\n",
    "\n",
    "poscar_file =  os.path.join(basedir, \"SPOSCAR\")\n",
    "prim_file = os.path.join(basedir, \"relaxed_final_symm.POSCAR.vasp\")\n",
    "previous_it_str = '0000'\n",
    "it_str = '0001'\n",
    "cwd = os.path.join(basedir, it_str)\n",
    "\n",
    "dfset_file = os.path.join(cwd, \"dfset\")\n",
    "history_file = os.path.join(basedir, previous_it_str, \"free_energy_history.txt\")\n",
    "cwd"
   ]
  },
  {
   "cell_type": "code",
   "execution_count": 55,
   "id": "0acd5414",
   "metadata": {},
   "outputs": [],
   "source": [
    "from ase import io\n",
    "superatoms = io.read(poscar_file, format=\"vasp\")\n",
    "superstructure_node = StructureData(ase=superatoms).store()\n",
    "primatoms = io.read(prim_file, format=\"vasp\")\n",
    "primstructure_node = StructureData(ase=primatoms).store()\n"
   ]
  },
  {
   "cell_type": "code",
   "execution_count": 56,
   "id": "e966126c-3e23-45ff-97a8-450da6b188ce",
   "metadata": {},
   "outputs": [
    {
     "data": {
      "text/plain": [
       "<ArrayData: uuid: 104f8bb3-355c-4c44-91c0-febad0fe17b4 (pk: 4919)>"
      ]
     },
     "execution_count": 56,
     "metadata": {},
     "output_type": "execute_result"
    }
   ],
   "source": [
    "dfset = np.loadtxt(dfset_file)\n",
    "numatoms = len(superatoms.numbers)\n",
    "dfset = dfset.reshape(-1, numatoms, 6)\n",
    "dfset_node = ArrayData()\n",
    "dfset_node.set_array('dfset',dfset)\n",
    "dfset_node.store()\n"
   ]
  },
  {
   "cell_type": "code",
   "execution_count": 57,
   "id": "f2daa97f-fa02-4e7e-b161-08aff4d15af1",
   "metadata": {},
   "outputs": [
    {
     "data": {
      "text/plain": [
       "(4, 150, 6)"
      ]
     },
     "execution_count": 57,
     "metadata": {},
     "output_type": "execute_result"
    }
   ],
   "source": [
    "dfset.shape"
   ]
  },
  {
   "cell_type": "code",
   "execution_count": 58,
   "id": "8b63b997",
   "metadata": {},
   "outputs": [
    {
     "data": {
      "text/html": [
       "<div>\n",
       "<style scoped>\n",
       "    .dataframe tbody tr th:only-of-type {\n",
       "        vertical-align: middle;\n",
       "    }\n",
       "\n",
       "    .dataframe tbody tr th {\n",
       "        vertical-align: top;\n",
       "    }\n",
       "\n",
       "    .dataframe thead th {\n",
       "        text-align: right;\n",
       "    }\n",
       "</style>\n",
       "<table border=\"1\" class=\"dataframe\">\n",
       "  <thead>\n",
       "    <tr style=\"text-align: right;\">\n",
       "      <th></th>\n",
       "      <th>Iteration</th>\n",
       "      <th>No. training data</th>\n",
       "      <th>best cuoff [bohr]</th>\n",
       "      <th>lowest omega</th>\n",
       "      <th>ratio imaginary</th>\n",
       "      <th>Fvib (mev/atom) 0</th>\n",
       "      <th>Fvib (mev/atom) 1</th>\n",
       "      <th>Fvib (mev/atom) 2</th>\n",
       "      <th>Fvib (mev/atom) 3</th>\n",
       "      <th>Fvib (mev/atom) 4</th>\n",
       "      <th>...</th>\n",
       "      <th>Fvib (mev/atom) 11</th>\n",
       "      <th>Fvib (mev/atom) 12</th>\n",
       "      <th>Fvib (mev/atom) 13</th>\n",
       "      <th>Fvib (mev/atom) 14</th>\n",
       "      <th>Fvib (mev/atom) 15</th>\n",
       "      <th>Fvib (mev/atom) 16</th>\n",
       "      <th>Fvib (mev/atom) 17</th>\n",
       "      <th>Fvib (mev/atom) 18</th>\n",
       "      <th>Fvib (mev/atom) 19</th>\n",
       "      <th>Fvib (mev/atom) 20</th>\n",
       "    </tr>\n",
       "  </thead>\n",
       "  <tbody>\n",
       "    <tr>\n",
       "      <th>0</th>\n",
       "      <td>1</td>\n",
       "      <td>2</td>\n",
       "      <td>22.161871</td>\n",
       "      <td>0.0</td>\n",
       "      <td>0.0</td>\n",
       "      <td>0.22243</td>\n",
       "      <td>0.079797</td>\n",
       "      <td>-0.358955</td>\n",
       "      <td>-0.969234</td>\n",
       "      <td>-1.694341</td>\n",
       "      <td>...</td>\n",
       "      <td>-8.511323</td>\n",
       "      <td>-9.645393</td>\n",
       "      <td>-10.808181</td>\n",
       "      <td>-11.997491</td>\n",
       "      <td>-13.211409</td>\n",
       "      <td>-14.448312</td>\n",
       "      <td>-15.706757</td>\n",
       "      <td>-16.985474</td>\n",
       "      <td>-18.283339</td>\n",
       "      <td>-19.599336</td>\n",
       "    </tr>\n",
       "  </tbody>\n",
       "</table>\n",
       "<p>1 rows × 26 columns</p>\n",
       "</div>"
      ],
      "text/plain": [
       "   Iteration  No. training data  best cuoff [bohr]  lowest omega  \\\n",
       "0          1                  2          22.161871           0.0   \n",
       "\n",
       "   ratio imaginary  Fvib (mev/atom) 0  Fvib (mev/atom) 1  Fvib (mev/atom) 2  \\\n",
       "0              0.0            0.22243           0.079797          -0.358955   \n",
       "\n",
       "   Fvib (mev/atom) 3  Fvib (mev/atom) 4  ...  Fvib (mev/atom) 11  \\\n",
       "0          -0.969234          -1.694341  ...           -8.511323   \n",
       "\n",
       "   Fvib (mev/atom) 12  Fvib (mev/atom) 13  Fvib (mev/atom) 14  \\\n",
       "0           -9.645393          -10.808181          -11.997491   \n",
       "\n",
       "   Fvib (mev/atom) 15  Fvib (mev/atom) 16  Fvib (mev/atom) 17  \\\n",
       "0          -13.211409          -14.448312          -15.706757   \n",
       "\n",
       "   Fvib (mev/atom) 18  Fvib (mev/atom) 19  Fvib (mev/atom) 20  \n",
       "0          -16.985474          -18.283339          -19.599336  \n",
       "\n",
       "[1 rows x 26 columns]"
      ]
     },
     "execution_count": 58,
     "metadata": {},
     "output_type": "execute_result"
    }
   ],
   "source": [
    "history = DfHistoryData().from_file(history_file)\n",
    "history_node = FrameData(df=history.df)\n",
    "history_node.df"
   ]
  },
  {
   "cell_type": "markdown",
   "id": "4c57a1fa-58f1-4a84-954f-94c58686bf6b",
   "metadata": {},
   "source": [
    "# run a step"
   ]
  },
  {
   "cell_type": "code",
   "execution_count": 59,
   "id": "1e32aa27-5550-4352-b5f4-03d2b4bf216b",
   "metadata": {},
   "outputs": [
    {
     "data": {
      "text/plain": [
       "'/home/max/Documents/aiida-alamode_public/example_dxmag/free_energy_convergence/converged,run/0002'"
      ]
     },
     "execution_count": 59,
     "metadata": {},
     "output_type": "execute_result"
    }
   ],
   "source": [
    "cwd"
   ]
  },
  {
   "cell_type": "code",
   "execution_count": 60,
   "id": "d5b6886a-89c6-447e-9b63-bdef8c8c206c",
   "metadata": {},
   "outputs": [
    {
     "name": "stdout",
     "output_type": "stream",
     "text": [
      "Iter #2: Fvib (meV/atom) = -7.408, Delta_Fvib (meV/atom) = 0.000\n",
      "Convergence criterion of |Delta_Fvib| < 0.100 has been satisfied!\n"
     ]
    },
    {
     "name": "stderr",
     "output_type": "stream",
     "text": [
      "findfont: Font family ['Times New Roman'] not found. Falling back to DejaVu Sans.\n",
      "findfont: Font family ['Times New Roman'] not found. Falling back to DejaVu Sans.\n"
     ]
    }
   ],
   "source": [
    "checkConvergenceFreeenergy_workchain = WorkflowFactory('alamode.check_convergence_freeenergy')\n",
    "\n",
    "def phaseall(superstructure_node, primstructure_node, dfset_node, history_node, anphon_code, cwd=None,\n",
    "            qspacing=0.1, conv_thr=0.1, temp=1000, cv=2, ninc=2, verbosity=1):   \n",
    "    # params\n",
    "    params = {\"qspacing\": qspacing, \"conv_thr\": conv_thr, \"temp\": temp, \"cv\": cv,\n",
    "              \"ninc\": ninc, \"verbosity\": verbosity}\n",
    "   \n",
    "    inputs = {'super_structure': superstructure_node,   \n",
    "              'primitive_structure': primstructure_node,\n",
    "              'dfset': dfset_node,\n",
    "              'params': Dict(dict=params),\n",
    "              'history': history_node,\n",
    "             'anphon_code': anphon_code}\n",
    "    if cwd is not None:\n",
    "        inputs.update({'cwd': Str(cwd)})\n",
    "\n",
    "    result = run(checkConvergenceFreeenergy_workchain, **inputs)\n",
    "    \n",
    "    return result\n",
    "\n",
    "phase1_result = phaseall(superstructure_node, primstructure_node, dfset_node, history_node, code_anphon_calculator, cwd)\n"
   ]
  },
  {
   "cell_type": "code",
   "execution_count": 61,
   "id": "3d89a02e-f40b-404c-88dd-8824a3b67514",
   "metadata": {},
   "outputs": [
    {
     "name": "stdout",
     "output_type": "stream",
     "text": [
      "/home/max/Documents/aiida-alamode_public/example_dxmag/free_energy_convergence/converged,run/0002/free_energy_history.txt\n"
     ]
    }
   ],
   "source": [
    "history_file = os.path.join(cwd,  \"free_energy_history.txt\")\n",
    "\n",
    "print(history_file)\n",
    "df = phase1_result['history'].df\n",
    "df.to_csv(history_file, index=False)"
   ]
  },
  {
   "cell_type": "code",
   "execution_count": 62,
   "id": "58ef946e-0117-48fd-a067-8dc55027c241",
   "metadata": {},
   "outputs": [
    {
     "data": {
      "text/plain": [
       "{'rc_best': <Float: uuid: a5e081dc-5f09-498a-a645-e15929c37764 (pk: 4924) value: 25.161871374251>,\n",
       " 'fc': <ArrayData: uuid: f72c50d9-b177-47db-85bf-29c54beb650c (pk: 4925)>,\n",
       " 'ols_history': <PandasFrameData: uuid: 66eae01d-fde8-459d-abd2-4494073f93ba (pk: 4926)>,\n",
       " 'band_results': <Dict: uuid: 769be54a-5426-47cb-8e66-015c0a3e90c2 (pk: 4937)>,\n",
       " 'bands': <SinglefileData: uuid: 031a4f85-42dd-450c-86d5-ef3062f61292 (pk: 4936)>,\n",
       " 'thermo_results': <Dict: uuid: 01144e6c-4792-4e84-b937-2db3fd268c4f (pk: 4947)>,\n",
       " 'dosthermo_properties': <ArrayData: uuid: e3c3cc05-1d6a-4660-af20-e796b203c7ef (pk: 4946)>,\n",
       " 'results': <Dict: uuid: 2e1631cd-3506-43e1-86a1-b649174c6119 (pk: 4948)>,\n",
       " 'history': <PandasFrameData: uuid: d189dfe4-993b-4b0b-8212-df985c922659 (pk: 4949)>,\n",
       " 'img_files': <Dict: uuid: a2517986-0225-46df-98fd-1a28bed6ac04 (pk: 4956)>}"
      ]
     },
     "execution_count": 62,
     "metadata": {},
     "output_type": "execute_result"
    }
   ],
   "source": [
    "phase1_result"
   ]
  },
  {
   "cell_type": "code",
   "execution_count": 63,
   "id": "8d8ffb5a-8462-4ee2-9f2e-e984fd3bf6d1",
   "metadata": {},
   "outputs": [
    {
     "data": {
      "text/html": [
       "<div>\n",
       "<style scoped>\n",
       "    .dataframe tbody tr th:only-of-type {\n",
       "        vertical-align: middle;\n",
       "    }\n",
       "\n",
       "    .dataframe tbody tr th {\n",
       "        vertical-align: top;\n",
       "    }\n",
       "\n",
       "    .dataframe thead th {\n",
       "        text-align: right;\n",
       "    }\n",
       "</style>\n",
       "<table border=\"1\" class=\"dataframe\">\n",
       "  <thead>\n",
       "    <tr style=\"text-align: right;\">\n",
       "      <th></th>\n",
       "      <th>Iteration</th>\n",
       "      <th>No. training data</th>\n",
       "      <th>best cuoff [bohr]</th>\n",
       "      <th>lowest omega</th>\n",
       "      <th>ratio imaginary</th>\n",
       "      <th>Fvib (mev/atom) 0</th>\n",
       "      <th>Fvib (mev/atom) 1</th>\n",
       "      <th>Fvib (mev/atom) 2</th>\n",
       "      <th>Fvib (mev/atom) 3</th>\n",
       "      <th>Fvib (mev/atom) 4</th>\n",
       "      <th>...</th>\n",
       "      <th>Fvib (mev/atom) 11</th>\n",
       "      <th>Fvib (mev/atom) 12</th>\n",
       "      <th>Fvib (mev/atom) 13</th>\n",
       "      <th>Fvib (mev/atom) 14</th>\n",
       "      <th>Fvib (mev/atom) 15</th>\n",
       "      <th>Fvib (mev/atom) 16</th>\n",
       "      <th>Fvib (mev/atom) 17</th>\n",
       "      <th>Fvib (mev/atom) 18</th>\n",
       "      <th>Fvib (mev/atom) 19</th>\n",
       "      <th>Fvib (mev/atom) 20</th>\n",
       "    </tr>\n",
       "  </thead>\n",
       "  <tbody>\n",
       "    <tr>\n",
       "      <th>0</th>\n",
       "      <td>1.0</td>\n",
       "      <td>2.0</td>\n",
       "      <td>22.161871</td>\n",
       "      <td>0.0</td>\n",
       "      <td>0.0</td>\n",
       "      <td>0.222430</td>\n",
       "      <td>0.079797</td>\n",
       "      <td>-0.358955</td>\n",
       "      <td>-0.969234</td>\n",
       "      <td>-1.694341</td>\n",
       "      <td>...</td>\n",
       "      <td>-8.511323</td>\n",
       "      <td>-9.645393</td>\n",
       "      <td>-10.808181</td>\n",
       "      <td>-11.997491</td>\n",
       "      <td>-13.211409</td>\n",
       "      <td>-14.448312</td>\n",
       "      <td>-15.706757</td>\n",
       "      <td>-16.985474</td>\n",
       "      <td>-18.283339</td>\n",
       "      <td>-19.599336</td>\n",
       "    </tr>\n",
       "    <tr>\n",
       "      <th>1</th>\n",
       "      <td>2.0</td>\n",
       "      <td>4.0</td>\n",
       "      <td>25.161871</td>\n",
       "      <td>0.0</td>\n",
       "      <td>0.0</td>\n",
       "      <td>0.222448</td>\n",
       "      <td>0.079820</td>\n",
       "      <td>-0.358918</td>\n",
       "      <td>-0.969182</td>\n",
       "      <td>-1.694271</td>\n",
       "      <td>...</td>\n",
       "      <td>-8.511137</td>\n",
       "      <td>-9.645194</td>\n",
       "      <td>-10.807963</td>\n",
       "      <td>-11.997255</td>\n",
       "      <td>-13.211155</td>\n",
       "      <td>-14.448040</td>\n",
       "      <td>-15.706466</td>\n",
       "      <td>-16.985166</td>\n",
       "      <td>-18.283013</td>\n",
       "      <td>-19.599001</td>\n",
       "    </tr>\n",
       "  </tbody>\n",
       "</table>\n",
       "<p>2 rows × 26 columns</p>\n",
       "</div>"
      ],
      "text/plain": [
       "   Iteration  No. training data  best cuoff [bohr]  lowest omega  \\\n",
       "0        1.0                2.0          22.161871           0.0   \n",
       "1        2.0                4.0          25.161871           0.0   \n",
       "\n",
       "   ratio imaginary  Fvib (mev/atom) 0  Fvib (mev/atom) 1  Fvib (mev/atom) 2  \\\n",
       "0              0.0           0.222430           0.079797          -0.358955   \n",
       "1              0.0           0.222448           0.079820          -0.358918   \n",
       "\n",
       "   Fvib (mev/atom) 3  Fvib (mev/atom) 4  ...  Fvib (mev/atom) 11  \\\n",
       "0          -0.969234          -1.694341  ...           -8.511323   \n",
       "1          -0.969182          -1.694271  ...           -8.511137   \n",
       "\n",
       "   Fvib (mev/atom) 12  Fvib (mev/atom) 13  Fvib (mev/atom) 14  \\\n",
       "0           -9.645393          -10.808181          -11.997491   \n",
       "1           -9.645194          -10.807963          -11.997255   \n",
       "\n",
       "   Fvib (mev/atom) 15  Fvib (mev/atom) 16  Fvib (mev/atom) 17  \\\n",
       "0          -13.211409          -14.448312          -15.706757   \n",
       "1          -13.211155          -14.448040          -15.706466   \n",
       "\n",
       "   Fvib (mev/atom) 18  Fvib (mev/atom) 19  Fvib (mev/atom) 20  \n",
       "0          -16.985474          -18.283339          -19.599336  \n",
       "1          -16.985166          -18.283013          -19.599001  \n",
       "\n",
       "[2 rows x 26 columns]"
      ]
     },
     "execution_count": 63,
     "metadata": {},
     "output_type": "execute_result"
    }
   ],
   "source": [
    "phase1_result[\"history\"].df"
   ]
  },
  {
   "cell_type": "code",
   "execution_count": 64,
   "id": "57087163-20d3-4d92-b71b-d651add3bbe1",
   "metadata": {},
   "outputs": [
    {
     "data": {
      "text/plain": [
       "{'cutoffs': [22.161871374251],\n",
       " 'unstable': False,\n",
       " 'converged': True,\n",
       " 'ninc_used': 2,\n",
       " 'iter_start': 1,\n",
       " 'exist_history': True,\n",
       " 'lowest_omegas': [0.0],\n",
       " 'previous_fvib': -7.4085873787796,\n",
       " 'imaginary_ratios': [0.0]}"
      ]
     },
     "execution_count": 64,
     "metadata": {},
     "output_type": "execute_result"
    }
   ],
   "source": [
    "phase1_result[\"results\"].get_dict()"
   ]
  },
  {
   "cell_type": "code",
   "execution_count": null,
   "id": "41420b0e-8d30-4d6c-ab73-f127879bcf2a",
   "metadata": {},
   "outputs": [],
   "source": []
  }
 ],
 "metadata": {
  "kernelspec": {
   "display_name": "py39",
   "language": "python",
   "name": "py39"
  },
  "language_info": {
   "codemirror_mode": {
    "name": "ipython",
    "version": 3
   },
   "file_extension": ".py",
   "mimetype": "text/x-python",
   "name": "python",
   "nbconvert_exporter": "python",
   "pygments_lexer": "ipython3",
   "version": "3.7.15"
  }
 },
 "nbformat": 4,
 "nbformat_minor": 5
}
